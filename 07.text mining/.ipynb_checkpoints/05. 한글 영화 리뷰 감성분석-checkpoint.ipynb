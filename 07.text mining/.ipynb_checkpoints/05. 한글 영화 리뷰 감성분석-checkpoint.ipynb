{
 "cells": [
  {
   "cell_type": "markdown",
   "id": "df43e45c-4cec-4b94-a167-6346657b1fa0",
   "metadata": {},
   "source": [
    "- JPype 1.4.1 --> python 3.11\n",
    "- http://github.com/jpype-project/jpype/releases"
   ]
  },
  {
   "cell_type": "markdown",
   "id": "d5c28d94-0bc9-4741-b716-ef52c0c75a06",
   "metadata": {},
   "source": [
    "# mecab 테스트"
   ]
  },
  {
   "cell_type": "code",
   "execution_count": 1,
   "id": "7555c042-266d-423b-b6dc-a4255cc67ab9",
   "metadata": {},
   "outputs": [
    {
     "data": {
      "text/plain": [
       "'안녕\\tNNG,행위,T,안녕,*,*,*,*\\n하\\tXSV,*,F,하,*,*,*,*\\n세요\\tEP+EF,*,F,세요,Inflect,EP,EF,시/EP/*+어요/EF/*\\n.\\tSF,*,*,*,*,*,*,*\\n테스트\\tNNG,행위,F,테스트,*,*,*,*\\n입니다\\tVCP+EF,*,F,입니다,Inflect,VCP,EF,이/VCP/*+ᄇ니다/EF/*\\n.\\tSF,*,*,*,*,*,*,*\\nEOS\\n'"
      ]
     },
     "execution_count": 1,
     "metadata": {},
     "output_type": "execute_result"
    }
   ],
   "source": [
    "import MeCab\n",
    "\n",
    "m = MeCab.Tagger()\n",
    "m.parse('안녕하세요. 테스트 입니다.')"
   ]
  },
  {
   "cell_type": "markdown",
   "id": "85e68856-5317-4788-ad53-9763ea5e4f84",
   "metadata": {},
   "source": [
    "- konlpy Mecab 테스트"
   ]
  },
  {
   "cell_type": "code",
   "execution_count": 2,
   "id": "ff85dc75-3e1a-4ef5-b78c-681b67ec9a5f",
   "metadata": {},
   "outputs": [
    {
     "name": "stdout",
     "output_type": "stream",
     "text": [
      "['안녕', '하', '세요', '.', '테스트', '입니다', '.']\n"
     ]
    }
   ],
   "source": [
    "from konlpy.tag import Mecab\n",
    "\n",
    "tokenizer = Mecab(dicpath='c:/mecab/mecab-ko-dic/').morphs\n",
    "print(tokenizer('안녕하세요. 테스트 입니다.'))"
   ]
  },
  {
   "cell_type": "markdown",
   "id": "bf42b80e-3f06-458e-97bf-9ca97a141f33",
   "metadata": {},
   "source": [
    "# 데이터 로딩 및 확인"
   ]
  },
  {
   "cell_type": "code",
   "execution_count": 3,
   "id": "d0c095d8-a38e-46bc-9539-0859c4bddef0",
   "metadata": {},
   "outputs": [
    {
     "data": {
      "text/html": [
       "<div>\n",
       "<style scoped>\n",
       "    .dataframe tbody tr th:only-of-type {\n",
       "        vertical-align: middle;\n",
       "    }\n",
       "\n",
       "    .dataframe tbody tr th {\n",
       "        vertical-align: top;\n",
       "    }\n",
       "\n",
       "    .dataframe thead th {\n",
       "        text-align: right;\n",
       "    }\n",
       "</style>\n",
       "<table border=\"1\" class=\"dataframe\">\n",
       "  <thead>\n",
       "    <tr style=\"text-align: right;\">\n",
       "      <th></th>\n",
       "      <th>id</th>\n",
       "      <th>document</th>\n",
       "      <th>label</th>\n",
       "    </tr>\n",
       "  </thead>\n",
       "  <tbody>\n",
       "    <tr>\n",
       "      <th>0</th>\n",
       "      <td>9976970</td>\n",
       "      <td>아 더빙.. 진짜 짜증나네요 목소리</td>\n",
       "      <td>0</td>\n",
       "    </tr>\n",
       "    <tr>\n",
       "      <th>1</th>\n",
       "      <td>3819312</td>\n",
       "      <td>흠...포스터보고 초딩영화줄....오버연기조차 가볍지 않구나</td>\n",
       "      <td>1</td>\n",
       "    </tr>\n",
       "    <tr>\n",
       "      <th>2</th>\n",
       "      <td>10265843</td>\n",
       "      <td>너무재밓었다그래서보는것을추천한다</td>\n",
       "      <td>0</td>\n",
       "    </tr>\n",
       "    <tr>\n",
       "      <th>3</th>\n",
       "      <td>9045019</td>\n",
       "      <td>교도소 이야기구먼 ..솔직히 재미는 없다..평점 조정</td>\n",
       "      <td>0</td>\n",
       "    </tr>\n",
       "    <tr>\n",
       "      <th>4</th>\n",
       "      <td>6483659</td>\n",
       "      <td>사이몬페그의 익살스런 연기가 돋보였던 영화!스파이더맨에서 늙어보이기만 했던 커스틴 ...</td>\n",
       "      <td>1</td>\n",
       "    </tr>\n",
       "  </tbody>\n",
       "</table>\n",
       "</div>"
      ],
      "text/plain": [
       "         id                                           document  label\n",
       "0   9976970                                아 더빙.. 진짜 짜증나네요 목소리      0\n",
       "1   3819312                  흠...포스터보고 초딩영화줄....오버연기조차 가볍지 않구나      1\n",
       "2  10265843                                  너무재밓었다그래서보는것을추천한다      0\n",
       "3   9045019                      교도소 이야기구먼 ..솔직히 재미는 없다..평점 조정      0\n",
       "4   6483659  사이몬페그의 익살스런 연기가 돋보였던 영화!스파이더맨에서 늙어보이기만 했던 커스틴 ...      1"
      ]
     },
     "execution_count": 3,
     "metadata": {},
     "output_type": "execute_result"
    }
   ],
   "source": [
    "import pandas as pd\n",
    "\n",
    "train_df = pd.read_csv('./dataset/ratings_train.txt', sep='\\t', encoding='utf-8')\n",
    "train_df.head()"
   ]
  },
  {
   "cell_type": "code",
   "execution_count": 4,
   "id": "37fc9b77-b63c-45af-9fd0-abb1b2c1505c",
   "metadata": {},
   "outputs": [
    {
     "name": "stdout",
     "output_type": "stream",
     "text": [
      "(150000, 3)\n"
     ]
    }
   ],
   "source": [
    "print(train_df.shape)"
   ]
  },
  {
   "cell_type": "code",
   "execution_count": 5,
   "id": "703f0aae-d3d9-40b5-90d8-855cb93a35a0",
   "metadata": {},
   "outputs": [
    {
     "data": {
      "text/html": [
       "<div>\n",
       "<style scoped>\n",
       "    .dataframe tbody tr th:only-of-type {\n",
       "        vertical-align: middle;\n",
       "    }\n",
       "\n",
       "    .dataframe tbody tr th {\n",
       "        vertical-align: top;\n",
       "    }\n",
       "\n",
       "    .dataframe thead th {\n",
       "        text-align: right;\n",
       "    }\n",
       "</style>\n",
       "<table border=\"1\" class=\"dataframe\">\n",
       "  <thead>\n",
       "    <tr style=\"text-align: right;\">\n",
       "      <th></th>\n",
       "      <th>id</th>\n",
       "      <th>document</th>\n",
       "      <th>label</th>\n",
       "    </tr>\n",
       "  </thead>\n",
       "  <tbody>\n",
       "    <tr>\n",
       "      <th>0</th>\n",
       "      <td>6270596</td>\n",
       "      <td>굳 ㅋ</td>\n",
       "      <td>1</td>\n",
       "    </tr>\n",
       "    <tr>\n",
       "      <th>1</th>\n",
       "      <td>9274899</td>\n",
       "      <td>GDNTOPCLASSINTHECLUB</td>\n",
       "      <td>0</td>\n",
       "    </tr>\n",
       "    <tr>\n",
       "      <th>2</th>\n",
       "      <td>8544678</td>\n",
       "      <td>뭐야 이 평점들은.... 나쁘진 않지만 10점 짜리는 더더욱 아니잖아</td>\n",
       "      <td>0</td>\n",
       "    </tr>\n",
       "    <tr>\n",
       "      <th>3</th>\n",
       "      <td>6825595</td>\n",
       "      <td>지루하지는 않은데 완전 막장임... 돈주고 보기에는....</td>\n",
       "      <td>0</td>\n",
       "    </tr>\n",
       "    <tr>\n",
       "      <th>4</th>\n",
       "      <td>6723715</td>\n",
       "      <td>3D만 아니었어도 별 다섯 개 줬을텐데.. 왜 3D로 나와서 제 심기를 불편하게 하죠??</td>\n",
       "      <td>0</td>\n",
       "    </tr>\n",
       "  </tbody>\n",
       "</table>\n",
       "</div>"
      ],
      "text/plain": [
       "        id                                           document  label\n",
       "0  6270596                                                굳 ㅋ      1\n",
       "1  9274899                               GDNTOPCLASSINTHECLUB      0\n",
       "2  8544678             뭐야 이 평점들은.... 나쁘진 않지만 10점 짜리는 더더욱 아니잖아      0\n",
       "3  6825595                   지루하지는 않은데 완전 막장임... 돈주고 보기에는....      0\n",
       "4  6723715  3D만 아니었어도 별 다섯 개 줬을텐데.. 왜 3D로 나와서 제 심기를 불편하게 하죠??      0"
      ]
     },
     "execution_count": 5,
     "metadata": {},
     "output_type": "execute_result"
    }
   ],
   "source": [
    "test_df = pd.read_csv('./dataset/ratings_test.txt', sep='\\t', encoding='utf-8')\n",
    "test_df.head()"
   ]
  },
  {
   "cell_type": "code",
   "execution_count": 6,
   "id": "663e2489-b567-46ee-a1e4-e441b4b96433",
   "metadata": {},
   "outputs": [
    {
     "name": "stdout",
     "output_type": "stream",
     "text": [
      "(50000, 3)\n"
     ]
    }
   ],
   "source": [
    "print(test_df.shape)"
   ]
  },
  {
   "cell_type": "markdown",
   "id": "af8255c1-ac1b-4b48-81f3-530ea376d16f",
   "metadata": {},
   "source": [
    "- 긍정(1), 부정(0) 비율 확인"
   ]
  },
  {
   "cell_type": "code",
   "execution_count": 7,
   "id": "ad23c83e-808d-4c47-b820-549588189c7a",
   "metadata": {},
   "outputs": [
    {
     "data": {
      "text/plain": [
       "label\n",
       "0    75173\n",
       "1    74827\n",
       "Name: count, dtype: int64"
      ]
     },
     "execution_count": 7,
     "metadata": {},
     "output_type": "execute_result"
    }
   ],
   "source": [
    "train_df['label'].value_counts()"
   ]
  },
  {
   "cell_type": "code",
   "execution_count": 8,
   "id": "84b46949-1535-4600-83eb-91429211743c",
   "metadata": {},
   "outputs": [
    {
     "data": {
      "text/plain": [
       "label\n",
       "1    25173\n",
       "0    24827\n",
       "Name: count, dtype: int64"
      ]
     },
     "execution_count": 8,
     "metadata": {},
     "output_type": "execute_result"
    }
   ],
   "source": [
    "test_df['label'].value_counts()"
   ]
  },
  {
   "cell_type": "markdown",
   "id": "056dd86e-c047-4cad-84c2-edef7aa22316",
   "metadata": {},
   "source": [
    "- 결측치 확인"
   ]
  },
  {
   "cell_type": "code",
   "execution_count": 9,
   "id": "8a7dab1e-b806-4b39-a4b8-af737462c8ff",
   "metadata": {},
   "outputs": [
    {
     "data": {
      "text/plain": [
       "id          0\n",
       "document    5\n",
       "label       0\n",
       "dtype: int64"
      ]
     },
     "execution_count": 9,
     "metadata": {},
     "output_type": "execute_result"
    }
   ],
   "source": [
    "train_df.isna().sum()"
   ]
  },
  {
   "cell_type": "code",
   "execution_count": 10,
   "id": "04ce0273-b66c-44ea-8274-4754eff05249",
   "metadata": {},
   "outputs": [
    {
     "data": {
      "text/plain": [
       "id          0\n",
       "document    3\n",
       "label       0\n",
       "dtype: int64"
      ]
     },
     "execution_count": 10,
     "metadata": {},
     "output_type": "execute_result"
    }
   ],
   "source": [
    "test_df.isna().sum()"
   ]
  },
  {
   "cell_type": "markdown",
   "id": "3c8323de-881c-4a8f-bdf2-df0ed9317fdd",
   "metadata": {},
   "source": [
    "# 데이터 전처리"
   ]
  },
  {
   "cell_type": "markdown",
   "id": "9be18353-7fa6-4204-a4e5-7e368c8a61c8",
   "metadata": {},
   "source": [
    "## 결측치 삭제"
   ]
  },
  {
   "cell_type": "code",
   "execution_count": 11,
   "id": "5367e300-9c94-41d0-b410-6226f195b68e",
   "metadata": {},
   "outputs": [],
   "source": [
    "train_df.dropna(inplace=True)"
   ]
  },
  {
   "cell_type": "code",
   "execution_count": 12,
   "id": "95885745-0129-44d9-b499-a18eada5ac11",
   "metadata": {},
   "outputs": [],
   "source": [
    "test_df.dropna(inplace=True)"
   ]
  },
  {
   "cell_type": "markdown",
   "id": "8fad34a2-7a51-437c-966e-7dec00c01175",
   "metadata": {},
   "source": [
    "## id 컬럼 삭제"
   ]
  },
  {
   "cell_type": "code",
   "execution_count": 13,
   "id": "25f8a7c4-dc8e-42f7-8d98-24c0d9c6474b",
   "metadata": {},
   "outputs": [],
   "source": [
    "train_df.drop('id', axis=1, inplace=True)\n",
    "test_df.drop('id', axis=1, inplace=True)"
   ]
  },
  {
   "cell_type": "markdown",
   "id": "1f5fa01f-45a0-4b84-b94a-509a77395c32",
   "metadata": {},
   "source": [
    "## konlpy, Mecab을 이용한 단어 토큰화"
   ]
  },
  {
   "cell_type": "code",
   "execution_count": 14,
   "id": "a235d755-f06c-4e4f-a13a-9203a42f73a4",
   "metadata": {},
   "outputs": [
    {
     "data": {
      "text/plain": [
       "['아 더 빙 . . 진짜 짜증 나 네요 목소리',\n",
       " '흠 . .. 포스터 보고 초딩 영화 줄 . ... 오버 연기 조차 가볍 지 않 구나',\n",
       " '너무 재 밓었다그래서보는것을추천한다',\n",
       " '교도소 이야기 구먼 . . 솔직히 재미 는 없 다 . . 평점 조정',\n",
       " '사이몬페그 의 익살 스런 연기 가 돋보였 던 영화 ! 스파이더맨 에서 늙 어 보이 기 만 했 던 커스틴 던스트 가 너무나 도 이뻐 보였 다',\n",
       " '막 걸음마 뗀 3 세 부터 초등 학교 1 학년 생 인 8 살 용 영화 . ㅋㅋㅋ . .. 별반 개 도 아까움 .',\n",
       " '원작 의 긴장감 을 제대로 살려 내 지 못했 다 .',\n",
       " '별 반개 도 아깝 다 욕 나온다 이응경 길용우 연기 생활 이 몇 년 인지 . . 정말 발 로 해도 그것 보단 낫 겟 다 납치 . 감금 만 반복 반복 . . 이 드라마 는 가족 도 없 다 연기 못 하 는 사람 만 모엿 네',\n",
       " '액션 이 없 는데 도 재미 있 는 몇 안 되 는 영화',\n",
       " '왜 케 평점 이 낮 은 건데 ? 꽤 볼 만한데 . . 헐리우드 식 화려 함 에 만 너무 길들여져 있 나 ?']"
      ]
     },
     "execution_count": 14,
     "metadata": {},
     "output_type": "execute_result"
    }
   ],
   "source": [
    "from konlpy.tag import Mecab\n",
    "\n",
    "mecab = Mecab(dicpath='c:/mecab/mecab-ko-dic/')\n",
    "tokens = [ mecab.morphs(sentence) for sentence in train_df['document']] # 단어 단위로 토큰화\n",
    "tokens = list(map(lambda x : ' '.join(x), tokens))  # 단어를 공백을 기준으로 결합하여 문장으로 만들기\n",
    "tokens[:10]"
   ]
  },
  {
   "cell_type": "markdown",
   "id": "688a86c4-bf1c-46b6-9cda-22b8b1b892e5",
   "metadata": {},
   "source": [
    "# KNU 한글 감성어 사전 로딩"
   ]
  },
  {
   "cell_type": "code",
   "execution_count": 15,
   "id": "b6bfdc80-25bd-4348-8063-ba2c69b48c3a",
   "metadata": {},
   "outputs": [
    {
     "name": "stdout",
     "output_type": "stream",
     "text": [
      "(14843, 3)\n"
     ]
    },
    {
     "data": {
      "text/html": [
       "<div>\n",
       "<style scoped>\n",
       "    .dataframe tbody tr th:only-of-type {\n",
       "        vertical-align: middle;\n",
       "    }\n",
       "\n",
       "    .dataframe tbody tr th {\n",
       "        vertical-align: top;\n",
       "    }\n",
       "\n",
       "    .dataframe thead th {\n",
       "        text-align: right;\n",
       "    }\n",
       "</style>\n",
       "<table border=\"1\" class=\"dataframe\">\n",
       "  <thead>\n",
       "    <tr style=\"text-align: right;\">\n",
       "      <th></th>\n",
       "      <th>word</th>\n",
       "      <th>word_root</th>\n",
       "      <th>polarity</th>\n",
       "    </tr>\n",
       "  </thead>\n",
       "  <tbody>\n",
       "    <tr>\n",
       "      <th>0</th>\n",
       "      <td>(-;</td>\n",
       "      <td>(</td>\n",
       "      <td>1</td>\n",
       "    </tr>\n",
       "    <tr>\n",
       "      <th>1</th>\n",
       "      <td>(;_;)</td>\n",
       "      <td>(;_;)</td>\n",
       "      <td>-1</td>\n",
       "    </tr>\n",
       "    <tr>\n",
       "      <th>2</th>\n",
       "      <td>(^^)</td>\n",
       "      <td>(^^)</td>\n",
       "      <td>1</td>\n",
       "    </tr>\n",
       "    <tr>\n",
       "      <th>3</th>\n",
       "      <td>(^-^)</td>\n",
       "      <td>(^-^)</td>\n",
       "      <td>1</td>\n",
       "    </tr>\n",
       "    <tr>\n",
       "      <th>4</th>\n",
       "      <td>(^^*</td>\n",
       "      <td>(</td>\n",
       "      <td>1</td>\n",
       "    </tr>\n",
       "  </tbody>\n",
       "</table>\n",
       "</div>"
      ],
      "text/plain": [
       "    word word_root polarity\n",
       "0    (-;         (        1\n",
       "1  (;_;)     (;_;)       -1\n",
       "2   (^^)      (^^)        1\n",
       "3  (^-^)     (^-^)        1\n",
       "4   (^^*         (        1"
      ]
     },
     "execution_count": 15,
     "metadata": {},
     "output_type": "execute_result"
    }
   ],
   "source": [
    "import json\n",
    "\n",
    "with open('./dataset/SentiWord_info.json', encoding='utf-8', mode='r') as f:\n",
    "    sentiword_info = json.load(f)\n",
    "\n",
    "sentiword_dic = pd.DataFrame(sentiword_info)\n",
    "print(sentiword_dic.shape)\n",
    "sentiword_dic.head()"
   ]
  },
  {
   "cell_type": "code",
   "execution_count": 16,
   "id": "e69d56b6-9b2b-4c3a-b598-96a2828021c2",
   "metadata": {},
   "outputs": [],
   "source": [
    "sentiword_dic['polarity'] = sentiword_dic['polarity'].astype(int)"
   ]
  },
  {
   "cell_type": "code",
   "execution_count": 17,
   "id": "e8cc859b-5512-4a40-a5d4-3442d11b2ef6",
   "metadata": {},
   "outputs": [
    {
     "name": "stdout",
     "output_type": "stream",
     "text": [
      "감성 최대값: 2\n",
      "감성 최소값: -2\n",
      "감성 최소값: -0.48258438321094116\n"
     ]
    }
   ],
   "source": [
    "print('감성 최대값:', sentiword_dic['polarity'].max())\n",
    "print('감성 최소값:', sentiword_dic['polarity'].min())\n",
    "print('감성 최소값:', sentiword_dic['polarity'].mean())"
   ]
  },
  {
   "cell_type": "code",
   "execution_count": 18,
   "id": "0c425b0e-2365-4723-81d9-bc664c9cfa36",
   "metadata": {},
   "outputs": [
    {
     "data": {
      "text/plain": [
       "polarity\n",
       "-1    5029\n",
       "-2    4797\n",
       " 2    2597\n",
       " 1    2266\n",
       " 0     154\n",
       "Name: count, dtype: int64"
      ]
     },
     "execution_count": 18,
     "metadata": {},
     "output_type": "execute_result"
    }
   ],
   "source": [
    "sentiword_dic['polarity'].value_counts()"
   ]
  },
  {
   "cell_type": "markdown",
   "id": "a4849885-8430-4664-9314-489f5419e106",
   "metadata": {},
   "source": [
    "# 토큰화된 문장과 감성사전 비교"
   ]
  },
  {
   "cell_type": "code",
   "execution_count": null,
   "id": "1f7e5828-495d-4209-a93b-7cd161e3dd5d",
   "metadata": {
    "editable": true,
    "slideshow": {
     "slide_type": ""
    },
    "tags": []
   },
   "outputs": [],
   "source": [
    "# 이거 실행되는데 되게 오래걸림\n",
    "sentiment_score = pd.DataFrame(columns=['review','sentiment_score'])\n",
    "\n",
    "idx = 0\n",
    "for token in tokens:  # tokens: 형태소 분석을 한 토큰화된 단어 리스트\n",
    "    senti_score = 0\n",
    "    for i in range(len(sentiword_dic)):  # sentiword_dic: knu감성사전\n",
    "        if sentiword_dic['word'][i] in token:  # 토큰화된 단어가 감성사전의 단어에 포함되어 있으면\n",
    "            senti_score += sentiword_dic['polarity'][i]  # 감성사전의 극성값 누적합\n",
    "    sentiment_score.loc[idx] = [token, senti_score]  # 위의 데이터 프레임에 값 추가 \n",
    "    idx += 1"
   ]
  },
  {
   "cell_type": "code",
   "execution_count": null,
   "id": "5026c6d0-f3cf-4665-9446-f6396fc9badf",
   "metadata": {},
   "outputs": [],
   "source": [
    "# 리뷰 감성 값 DataFrame 저장\n",
    "import joblib\n",
    "\n",
    "joblib.dump(sentiment_score, './sentiment_score.pkl')"
   ]
  },
  {
   "cell_type": "code",
   "execution_count": null,
   "id": "115291c7-4556-4517-a79c-c83c768da00f",
   "metadata": {},
   "outputs": [],
   "source": [
    "# 위에꺼 또 안돌려도 됨. 저장되어있는 피클파일 불러오기\n",
    "sentiment_score = joblib.load('./sentiment_score.pkl')"
   ]
  },
  {
   "cell_type": "markdown",
   "id": "a0aacdf7-89d6-46b4-959a-ec6561584acc",
   "metadata": {},
   "source": [
    "# 감성 값 긍/부정 레이블 값으로 치환"
   ]
  },
  {
   "cell_type": "code",
   "execution_count": null,
   "id": "49ab89fe-6f09-4247-b8d8-1a018f8a4834",
   "metadata": {},
   "outputs": [],
   "source": [
    "sentiment_score['label'] = sentiment_score['sentiment_score'].map(lambda x: 1 if x >=0 else 0)"
   ]
  },
  {
   "cell_type": "markdown",
   "id": "0e9efc38-8360-4114-8132-702dcce5c770",
   "metadata": {},
   "source": [
    "# 정답과 비교하여 정확도 측정"
   ]
  },
  {
   "cell_type": "code",
   "execution_count": null,
   "id": "d7c9dde9-a341-4477-ad6f-c5ee79b49909",
   "metadata": {},
   "outputs": [],
   "source": [
    "from sklearn.metrics import confusion_matrix, accuracy_score\n",
    "\n",
    "matrix = confusion_matrix(train_df['label', sentiment_score['label'])\n",
    "print(matrix)\n",
    "\n",
    "print(f'정확도: {accuracy_score(train_df['label'], sentiment_score['label']):.2f}')"
   ]
  },
  {
   "cell_type": "markdown",
   "id": "7d33d362-969e-4786-a890-5de497225a66",
   "metadata": {},
   "source": [
    "# 추가 분석 사항\n",
    "- 전처리\n",
    "    - 한글을 제외한 다른 문자 제거 -> 제거 결과 아무런 값도 남지 않은 레코드 확인 -> 해당 레코드 삭제\n",
    "    - 불용어 제거: "
   ]
  }
 ],
 "metadata": {
  "kernelspec": {
   "display_name": "Python 3 (ipykernel)",
   "language": "python",
   "name": "python3"
  },
  "language_info": {
   "codemirror_mode": {
    "name": "ipython",
    "version": 3
   },
   "file_extension": ".py",
   "mimetype": "text/x-python",
   "name": "python",
   "nbconvert_exporter": "python",
   "pygments_lexer": "ipython3",
   "version": "3.11.5"
  }
 },
 "nbformat": 4,
 "nbformat_minor": 5
}
