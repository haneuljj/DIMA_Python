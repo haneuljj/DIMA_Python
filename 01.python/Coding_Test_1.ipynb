{
 "cells": [
  {
   "cell_type": "markdown",
   "id": "8a470c3a-2089-40c9-89e2-8492b0667697",
   "metadata": {},
   "source": [
    "# [문제1] 문자열을 구성하는 문자의 개수 세기\n",
    "<pre>\n",
    "    사용자로부터 임의의 문자열을 입력 받아 해당 문자열을 구성하는 문자들 및 각 문자의 개수를 출력하는 프로그램을 작성하세요.\n",
    "    [예시]\n",
    "    입력: 가가가bbbbcc#\n",
    "    출력: 가3b4c2#1\n",
    "</pre>"
   ]
  },
  {
   "cell_type": "code",
   "execution_count": 6,
   "id": "df5910fe-7969-4396-ae55-2d5c69420934",
   "metadata": {},
   "outputs": [
    {
     "name": "stdin",
     "output_type": "stream",
     "text": [
      "입력:  0000111ccfgg55\n"
     ]
    },
    {
     "name": "stdout",
     "output_type": "stream",
     "text": [
      "출력:  {'0': 4, '1': 3, 'c': 2, 'f': 1, 'g': 2, '5': 2}\n"
     ]
    }
   ],
   "source": [
    "abc_dic={}\n",
    "abc = input('입력: ')\n",
    "for i in abc:   # 문자열의 각 문자를 조회\n",
    "    abc_dic[i] = abc.count(i)  # 딕셔너리에 각 문자의 개수를 넣기\n",
    "print('출력: ',abc_dic)"
   ]
  },
  {
   "cell_type": "code",
   "execution_count": 14,
   "id": "36acf4f0-eaef-4702-ba9f-db560d0eae9c",
   "metadata": {},
   "outputs": [
    {
     "name": "stdin",
     "output_type": "stream",
     "text": [
      "입력:  가가가bbbbcc#\n"
     ]
    },
    {
     "name": "stdout",
     "output_type": "stream",
     "text": [
      "출력: 가3b4c2#1"
     ]
    }
   ],
   "source": [
    "# answer\n",
    "data = input('입력: ')\n",
    "mydic={ s: data.count(s) for s in data}  # dictionary comprehension\n",
    "print('출력: ', end='')\n",
    "for k,v in mydic.items():                # key,value값 읽기\n",
    "    print(k,v, sep='', end='')"
   ]
  },
  {
   "cell_type": "markdown",
   "id": "c66175d3-52ba-4acc-9a98-ff80fc569af2",
   "metadata": {},
   "source": [
    "# [문제2] 분리한 문자열의 첫 번째 문자 출력하기\n",
    "<pre>\n",
    "    사용자로부터 임의의 문자열을 입력 받아 공백을 기준으로 분리한 후, 분리된 문자열의 첫번째 글자만 모아서 출력하는 프로그램을 작성하세요.\n",
    "    [예시]\n",
    "    입력: ABC DEF GHI\n",
    "    출력: A,D,G\n",
    "</pre>"
   ]
  },
  {
   "cell_type": "code",
   "execution_count": 12,
   "id": "7fd3f4ba-390c-4708-8f31-f725da2af405",
   "metadata": {},
   "outputs": [
    {
     "name": "stdin",
     "output_type": "stream",
     "text": [
      "입력:  ABC DEF GHI\n"
     ]
    },
    {
     "name": "stdout",
     "output_type": "stream",
     "text": [
      "출력: A,D,G\n"
     ]
    }
   ],
   "source": [
    "input_abc = input('입력: ')\n",
    "input_abc = input_abc.split()  # split(' '); 공백 한 칸만 기준으로 분리함, split()은 공백 기준으로 분리\n",
    "print('출력: ', end='')\n",
    "for i in input_abc:\n",
    "    print(i[0], end=',')   # 리스트를 반복적으로 읽으면서 [0]값 읽기\n",
    "print('\\b')                # 맨 뒤에 , 지우기"
   ]
  },
  {
   "cell_type": "markdown",
   "id": "83c74708-3717-458a-9f4b-7eaf30a036db",
   "metadata": {},
   "source": [
    "# [문제3] 회문 구하기\n",
    "<pre>\n",
    "    문자열을 입력 받아 해당 문자열이 회문(palindrome)인지 여부를 판단하는 프로그램을 작성하세요.\n",
    "    단, 입력 받는 문자열의 길이는 3자 이상이어야 한다.\n",
    "    [예시]\n",
    "    입력: abba\n",
    "    출력: abba는 회문입니다.\n",
    "\n",
    "    입력: korea\n",
    "    출력: korea는 회문이  아닙니다.\n",
    "\n",
    "    입력: 소주만병만주소\n",
    "    출력: 소주만병만주소는 회문입니다.\n",
    "</pre>"
   ]
  },
  {
   "cell_type": "code",
   "execution_count": 24,
   "id": "b9c8d757-4f50-47c7-a141-df572e8fe7a2",
   "metadata": {},
   "outputs": [
    {
     "name": "stdin",
     "output_type": "stream",
     "text": [
      "입력:  korea\n"
     ]
    },
    {
     "name": "stdout",
     "output_type": "stream",
     "text": [
      "korea 는 회문이 아닙니다.\n"
     ]
    }
   ],
   "source": [
    "character = input('입력: ')\n",
    "while len(character)>=3:\n",
    "    if character[0:] == character[::-1]:      ##[::-1]; 뒤에서부터 step\n",
    "        print(character,'는 회문입니다.')\n",
    "        break\n",
    "    else:\n",
    "        print(character,'는 회문이 아닙니다.')\n",
    "        break\n",
    "else:\n",
    "    print('3자 이상 입력하세요.')"
   ]
  },
  {
   "cell_type": "code",
   "execution_count": 26,
   "id": "71f83d5c-f9a2-495c-b709-b340e250002b",
   "metadata": {},
   "outputs": [
    {
     "name": "stdin",
     "output_type": "stream",
     "text": [
      "입력:  abba\n"
     ]
    },
    {
     "name": "stdout",
     "output_type": "stream",
     "text": [
      "abba는 회문입니다. \n"
     ]
    }
   ],
   "source": [
    "# answer\n",
    "character = input('입력: ')\n",
    "result = '회문입니다. ' if character == character[::-1] else '회문이 아닙니다.'\n",
    "print(f'{character}는 {result}')"
   ]
  },
  {
   "cell_type": "markdown",
   "id": "faecd94b-9a1b-40dd-aa46-016222d3665e",
   "metadata": {},
   "source": [
    "# [문제4] 순차적으로 문자열 변환하기\n",
    "<pre>\n",
    "    사용자로부터 임의의 문자열을 입력 받아 가장 마지막 문자부터 '#'으로 하나씩 변환해가며 출력하는 프로그램을 작성하세요.\n",
    "    [예시]\n",
    "    입력: AbcdEf\n",
    "    출력:\n",
    "    AbcdE#\n",
    "    Abcd##\n",
    "    Abc###\n",
    "    Ab####\n",
    "    A#####\n",
    "    ######\n",
    "</pre>"
   ]
  },
  {
   "cell_type": "code",
   "execution_count": 22,
   "id": "bf11bae9-bc62-4d50-9ec8-f0dc9bd2ac28",
   "metadata": {},
   "outputs": [
    {
     "name": "stdin",
     "output_type": "stream",
     "text": [
      "입력:  sjdflksajd\n"
     ]
    },
    {
     "name": "stdout",
     "output_type": "stream",
     "text": [
      "출력: \n",
      "sjdflksaj#\n",
      "sjdflksa##\n",
      "sjdflks###\n",
      "sjdflk####\n",
      "sjdfl#####\n",
      "sjdf######\n",
      "sjd#######\n",
      "sj########\n",
      "s#########\n",
      "##########\n"
     ]
    }
   ],
   "source": [
    "text = input('입력: ')\n",
    "print('출력: ')\n",
    "for s in range(1,len(text)+1):         # range start값의 기본값은 0\n",
    "    result=text[:-s]+'#'*s \n",
    "    print(result)"
   ]
  },
  {
   "cell_type": "code",
   "execution_count": 1,
   "id": "c5bbf8c8-c240-4c2f-8cae-f2854b64ee5c",
   "metadata": {},
   "outputs": [
    {
     "name": "stdin",
     "output_type": "stream",
     "text": [
      "입력:  wannagohome\n"
     ]
    },
    {
     "name": "stdout",
     "output_type": "stream",
     "text": [
      "출력: \n",
      "wannagohom#\n",
      "wannagoho##\n",
      "wannagoh###\n",
      "wannago####\n",
      "wannag#####\n",
      "wanna######\n",
      "wann#######\n",
      "wan########\n",
      "wa#########\n",
      "w##########\n",
      "###########\n"
     ]
    }
   ],
   "source": [
    "# answer\n",
    "text = input('입력: ')\n",
    "print('출력: ')\n",
    "for i in range(len(text)):\n",
    "    print(text[:len(text)-(i+1)]+('#')*(i+1))"
   ]
  },
  {
   "cell_type": "code",
   "execution_count": 23,
   "id": "2a4e1b1f-51d6-4afa-9285-aea1eded5df3",
   "metadata": {},
   "outputs": [
    {
     "name": "stdin",
     "output_type": "stream",
     "text": [
      "입력:  dsjafkjdf\n"
     ]
    },
    {
     "name": "stdout",
     "output_type": "stream",
     "text": [
      "dsjafkjd#\n",
      "dsjafkj##\n",
      "dsjafk###\n",
      "dsjaf####\n",
      "dsja#####\n",
      "dsj######\n",
      "ds#######\n",
      "d########\n",
      "#########\n"
     ]
    }
   ],
   "source": [
    "text = input('입력: ')\n",
    "for s in range(len(text)):\n",
    "    s += 1\n",
    "    len(text)\n",
    "    result=text[:len(text)-s]+'#'*s \n",
    "    print(result)"
   ]
  },
  {
   "cell_type": "markdown",
   "id": "6d789577-1f23-4ff7-8546-37fa1238a4da",
   "metadata": {},
   "source": [
    "# [문제5] 소문자 치환\n",
    "<pre>\n",
    "    사용자로부터  임의의 문자열을 입력 받아 해당 문자열 내 모든 소문자를 '#'ㅇ로 변환하여 출력하는 프로그램을 작성하세요.\n",
    "    (소문자 여부 확인: 문자열 객체 함수인 islower() 사용)\n",
    "    [예시]\n",
    "    입력: abCDeFg\n",
    "    출력: ##CD#F#\n",
    "</pre>"
   ]
  },
  {
   "cell_type": "code",
   "execution_count": 38,
   "id": "0cb29ca5-ea30-4373-91e6-f43ab683ec88",
   "metadata": {},
   "outputs": [
    {
     "name": "stdin",
     "output_type": "stream",
     "text": [
      "입력:  fdgEfeRR\n"
     ]
    },
    {
     "name": "stdout",
     "output_type": "stream",
     "text": [
      "###E##RR"
     ]
    }
   ],
   "source": [
    "text = input('입력: ')\n",
    "for i in text:\n",
    "    if i.islower() == True:\n",
    "        i = '#'\n",
    "    else:\n",
    "        i = i\n",
    "    print(''.join(i), end='')"
   ]
  },
  {
   "cell_type": "code",
   "execution_count": 18,
   "id": "17cd9528-3e7d-438e-91f3-29f52cd46db6",
   "metadata": {},
   "outputs": [
    {
     "name": "stdin",
     "output_type": "stream",
     "text": [
      "입력:  sdf\n"
     ]
    },
    {
     "name": "stdout",
     "output_type": "stream",
     "text": [
      "출력:  ###\n"
     ]
    }
   ],
   "source": [
    "# answer\n",
    "text = input('입력: ')\n",
    "result = [ '#' if s.islower() else s for s in text]\n",
    "print('출력: ', ''.join(result))"
   ]
  },
  {
   "cell_type": "markdown",
   "id": "3cceee38-3461-479d-b38f-acf8c41eaf81",
   "metadata": {},
   "source": [
    "# [문제6] 문자열 검색\n",
    "<pre>\n",
    "    사용자로부터 입력 받을 문자열의 개수를 입력 받고, 검색할 단어를 입력 받은 후, 앞서 입력 받은 숫자만큼 문자열을 입력받는다.\n",
    "    이후 해당 문자열에서 검색어를 포함하는 문자열을 출력하되, 검색어가 존재하지 않을 경우 \"검색결과없음\"을 출력하는 프로그램을 작성하세요\n",
    "    [예시]\n",
    "    입력할 단어 개수: 3\n",
    "    검색할 단어: ab\n",
    "    \n",
    "    단어 입력-1: abba\n",
    "    단어 입력-2: oppa\n",
    "    단어 입력-3: BCabD\n",
    "    검색 결과:\n",
    "    abba\n",
    "    BCabD\n",
    "</pre>"
   ]
  },
  {
   "cell_type": "code",
   "execution_count": 66,
   "id": "9fc7ce51-1bf9-43d2-a0e5-90ff2a7c45ec",
   "metadata": {},
   "outputs": [
    {
     "name": "stdin",
     "output_type": "stream",
     "text": [
      "입력할 단어 개수:  3\n",
      "검색할 단어:  ab\n",
      "단어 입력-1:  abba\n",
      "단어 입력-2:  oppa\n",
      "단어 입력-3:  bcabd\n"
     ]
    },
    {
     "name": "stdout",
     "output_type": "stream",
     "text": [
      "abba\n",
      "bcabd\n"
     ]
    }
   ],
   "source": [
    "num_word = int(input('입력할 단어 개수: '))\n",
    "find_word = input('검색할 단어: ')\n",
    "word_list = []\n",
    "find = False\n",
    "\n",
    "for i in range(1, num_word+1):\n",
    "    word = input(f'단어 입력-{i}: ')\n",
    "    word_list.append(word)\n",
    "for word in word_list:\n",
    "    if find_word in word:\n",
    "        print(word)\n",
    "        find = True\n",
    "if find == False:\n",
    "    print('검색결과없음')"
   ]
  },
  {
   "cell_type": "code",
   "execution_count": 61,
   "id": "4c410360-64c9-441c-b74d-c0137ae62d21",
   "metadata": {},
   "outputs": [
    {
     "name": "stdin",
     "output_type": "stream",
     "text": [
      "입력할 단어 개수:  3\n",
      "검색할 단어:  dsf\n",
      "단어입력-1 ghn\n",
      "단어입력-2 gfhg\n",
      "단어입력-3 gfh\n"
     ]
    },
    {
     "name": "stdout",
     "output_type": "stream",
     "text": [
      "검색결과: \n",
      "검색 결과가 없습니다.\n"
     ]
    }
   ],
   "source": [
    "# answer\n",
    "num_word = int(input('입력할 단어 개수: '))\n",
    "find_word = input('검색할 단어: ')\n",
    "word_list = [ input('단어입력-%d'%(i+1)) for i in range(num_word3)]   # list comprehension, 입력받은 변수들을 리스트의 원소에 저장\n",
    "print('검색결과: ')\n",
    "find = False    # flag 변수, break 걸 수 없을 때 사용\n",
    "\n",
    "for word in word_list:\n",
    "    if find_word in word:   # if .find(): 찾는 값의 위치값을 반환 if s.find(find_word) != -1\n",
    "        print(word)\n",
    "        find = True\n",
    "if not find: print('검색 결과가 없습니다.')"
   ]
  },
  {
   "cell_type": "markdown",
   "id": "1784148e-bb15-4680-86e0-970658b1552c",
   "metadata": {},
   "source": [
    "# [문제7] 규칙에 따라 문자 변환하기\n",
    "<pre>\n",
    "    사용자로부터 임의의 문자열을 입력 받아 아래와 같은 규칙에 따라 변환한 후 출력하는 프로그램을 작성하세요.\n",
    "    (규칙)\n",
    "    A -> 4\n",
    "    E -> 3\n",
    "    G -> 6\n",
    "    I -> 1\n",
    "    O -> 0\n",
    "    S -> 5\n",
    "    Z -> 2\n",
    "\n",
    "    [예시]\n",
    "    입력: Ag#IZklS\n",
    "    출력: 4g#12kl5\n",
    "</pre>"
   ]
  },
  {
   "cell_type": "code",
   "execution_count": null,
   "id": "ecb27e11-85a7-4a2f-b9a8-373323a662c2",
   "metadata": {},
   "outputs": [],
   "source": [
    "word = input('입력: ')\n",
    "my_dic = { 'A':'4', 'E':'3', 'G':'6', 'I':'1', 'O':'0', 'S':'5', 'Z':'2'}\n",
    "\n",
    "result = [my_dic.get(i) if i in my_dic.keys() else i for i in word ]\n",
    "# result = [ str(my_dic.get(i, i)) for i in word]    ## 딕셔너리.get(key명, 디폴트값) \n",
    "print('출력: ', ''.join(result))"
   ]
  },
  {
   "cell_type": "markdown",
   "id": "661f0875-3ff0-46b0-abe7-11e3986df778",
   "metadata": {},
   "source": [
    "# [문제8] key기준으로 합계 구하기\n",
    "<pre>\n",
    "    사용자로부터 key:value 형태로 반복해서 데이터를 입력 받는다. 이때 key는 문자열, value는 정수 형태이며, 중복되는 key를 입력 받은 경우 기존에 입력되어 있는 value에 새로 입력 받은 value를 합한다. 그리고 사용자가 'exit'를 입력하면 이전까지 입력 받았던 모든 key와 value를 key=value 형태로 출력하는 프로그램을 작성하시오.\n",
    "    [실행예]\n",
    "    입력:\n",
    "    a:1\n",
    "    b:2\n",
    "    c:3\n",
    "    a:4\n",
    "    c:1\n",
    "    exit\n",
    "    출력:\n",
    "    a=5\n",
    "    b=2\n",
    "    c=4\n",
    "</pre>"
   ]
  },
  {
   "cell_type": "code",
   "execution_count": 24,
   "id": "4894903c-44e3-4fe7-a163-2aa602635cc5",
   "metadata": {},
   "outputs": [
    {
     "name": "stdout",
     "output_type": "stream",
     "text": [
      "입력: \n"
     ]
    },
    {
     "name": "stdin",
     "output_type": "stream",
     "text": [
      " a:1\n",
      " b:2\n",
      " c:3\n",
      " a:4\n",
      " c:1\n",
      " exit\n"
     ]
    },
    {
     "name": "stdout",
     "output_type": "stream",
     "text": [
      "출력: \n",
      "a=5\n",
      "b=2\n",
      "c=4\n"
     ]
    }
   ],
   "source": [
    "print('입력: ')\n",
    "mydic = {}  # 입력될 key와 value를 저장할 저장 공간\n",
    "while True:\n",
    "    myinput = input() # 키보드로 값 입력\n",
    "    if myinput == 'exit': break   # 무한 반복문을 빠져나갈 조건을 검사\n",
    "    else:  # else 생략가능\n",
    "        mylist = myinput.split(':')   # split()함수는 결과를 list로 반환\n",
    "        # key = mylist[0]\n",
    "        # value = int(mylist[1])\n",
    "        if mydic.get(mylist[0]) == None:  # get(key)함수는 key가 존재하지 않을 경우 none을 반환\n",
    "            mydic[mylist[0]] = int(mylist[1])  # 딕셔너리에 새로운 key, value를 저장\n",
    "        else:\n",
    "            mydic[mylist[0]] += int(mylist[1])  # mydic[key] = mydic[key] + value\n",
    "\n",
    "print('출력: ')\n",
    "for k,v in mydic.items():   # itemrs() -> [(k,v), (k,v)....]\n",
    "    print(f'{k}={v}')"
   ]
  },
  {
   "cell_type": "code",
   "execution_count": 25,
   "id": "d930c15b-ca93-40b4-b590-b54c419cca6e",
   "metadata": {},
   "outputs": [
    {
     "name": "stdout",
     "output_type": "stream",
     "text": [
      "입력: \n"
     ]
    },
    {
     "name": "stdin",
     "output_type": "stream",
     "text": [
      " a:1\n",
      " b:2\n",
      " c:3\n",
      " a:4\n",
      " c:1\n",
      " exit\n"
     ]
    },
    {
     "name": "stdout",
     "output_type": "stream",
     "text": [
      "출력: \n",
      "a=5\n",
      "b=2\n",
      "c=4\n"
     ]
    }
   ],
   "source": [
    "print('입력: ')\n",
    "mydic = {}  # 입력될 key와 value를 저장할 저장 공간\n",
    "while True:\n",
    "    myinput = input() # 키보드로 값 입력\n",
    "    if myinput == 'exit': break   # 무한 반복문을 빠져나갈 조건을 검사\n",
    "    \n",
    "    mylist = myinput.split(':')   # split()함수는 결과를 list로 반환\n",
    "    key = mylist[0]\n",
    "    value = int(mylist[1])\n",
    "    mydic[key] = mydic.get(key, 0) + value  #.get(key, key가 없을 시 반환할 디폴트값)\n",
    "    \n",
    "print('출력: ')\n",
    "for k,v in mydic.items():   # itemrs() -> [(k,v), (k,v)....]\n",
    "    print(f'{k}={v}')"
   ]
  },
  {
   "cell_type": "markdown",
   "id": "e63b37a5-6ab4-4d36-b99f-61feccdfc732",
   "metadata": {},
   "source": [
    "# [문제9] 성적 처리 프로그램\n",
    "<pre>\n",
    "    사용자로부터 총 학생의 수와 합격 기준점수를 입력받는다.\n",
    "    그리고 각 학생의 성적과 결석 일수를 공백으로 구분하여 순차적으로 입력받는다.\n",
    "    결석 일수 1일당 5점씩 감점하여 최종 성적을 계산한다.\n",
    "    점수와 결석일수, 최종 성적과 함격여부를 출력한다.\n",
    "    [예시]\n",
    "    입력:\n",
    "    학생 수: 3\n",
    "    합격 기준점: 60\n",
    "\n",
    "    1번 학생 점수와 결석 일수 ('100 0' 형식): 100 0\n",
    "    2번 학생 점수와 결석 일수 ('100 0' 형식): 60 0\n",
    "    3번 학생 점수와 결석 일수 ('100 0' 형식): 80 5\n",
    "    출력:\n",
    "    점수    결석    성적    합격여부\n",
    "    100     0       100    합격\n",
    "     60     0       60     합격\n",
    "     80     5       55     불합격\n",
    "\n",
    "</pre>"
   ]
  },
  {
   "cell_type": "code",
   "execution_count": 57,
   "id": "ee4ba90b-ef1a-4fde-8477-99a3c2b497d5",
   "metadata": {},
   "outputs": [
    {
     "name": "stdout",
     "output_type": "stream",
     "text": [
      "입력: \n"
     ]
    },
    {
     "name": "stdin",
     "output_type": "stream",
     "text": [
      "학생 수:  3\n",
      "합격 기준점:  60\n"
     ]
    },
    {
     "name": "stdout",
     "output_type": "stream",
     "text": [
      "\n",
      "\n"
     ]
    },
    {
     "name": "stdin",
     "output_type": "stream",
     "text": [
      "1번 학생 점수와 결석 일수('100 0'형식):  100 0\n",
      "2번 학생 점수와 결석 일수('100 0'형식):  60 0\n",
      "3번 학생 점수와 결석 일수('100 0'형식):  80 5\n"
     ]
    },
    {
     "name": "stdout",
     "output_type": "stream",
     "text": [
      "출력: \n",
      "점수\t결석\t성적\t합격여부\n",
      "100\t  0\t100\t합격\n",
      " 60\t  0\t 60\t합격\n",
      " 80\t  5\t 55\t불합격\n"
     ]
    }
   ],
   "source": [
    "print('입력: ')\n",
    "stu_num = int(input('학생 수: '))\n",
    "pass_score = int(input('합격 기준점: '))\n",
    "print('\\n')\n",
    "mylist=[]\n",
    "result = ''\n",
    "\n",
    "for i in range(1, stu_num+1):\n",
    "    stu_input = input(f'{i}번 학생 점수와 결석 일수(\\'100 0\\'형식): ')\n",
    "    stu_list = stu_input.split()\n",
    "    stu_score = int(stu_list[0])\n",
    "    absent_date = int(stu_list[1])\n",
    "    \n",
    "    score = stu_score - 5*absent_date\n",
    "    result = '합격' if score >= pass_score else '불합격'\n",
    "\n",
    "    mylist += [[stu_score, absent_date, score, result]]   # 이중리스트에 리스트 추가하기 \n",
    "\n",
    "print('출력: ')\n",
    "print('점수\\t결석\\t성적\\t합격여부')\n",
    "\n",
    "for s in mylist:\n",
    "    print('%3d\\t%3d\\t%3d\\t%s'%(s[0],s[1],s[2],s[3]))"
   ]
  },
  {
   "cell_type": "code",
   "execution_count": 56,
   "id": "2589630b-6f00-489e-833e-0cc3b806274e",
   "metadata": {},
   "outputs": [
    {
     "name": "stdout",
     "output_type": "stream",
     "text": [
      "입력: \n"
     ]
    },
    {
     "name": "stdin",
     "output_type": "stream",
     "text": [
      "학생 수:  3\n",
      "합격 기준점:  60\n",
      "1번 학생 점수와 결석 일수 (\"100 0\"형식): 100 0\n",
      "2번 학생 점수와 결석 일수 (\"100 0\"형식): 60 0\n",
      "3번 학생 점수와 결석 일수 (\"100 0\"형식): 80 5\n"
     ]
    },
    {
     "name": "stdout",
     "output_type": "stream",
     "text": [
      "출력: \n",
      "점수\t결석\t성적\t합격여부\n",
      "100\t  0\t100\t합격\n",
      " 60\t  0\t 60\t합격\n",
      " 80\t  5\t 55\t불합격\n"
     ]
    }
   ],
   "source": [
    "# answer\n",
    "print('입력: ')\n",
    "\n",
    "numOfStudent = int(input('학생 수: '))\n",
    "cutline = int(input('합격 기준점: '))\n",
    "\n",
    "score_data = []  # 전체 학생의 성보를 저장\n",
    "for i in range(1, numOfStudent+1):\n",
    "    input_data = input(f'{i}번 학생적 정 점수와 결석 일수 (\"100 0\"형식):')\n",
    "    score =  int(input_data.split()[0])\n",
    "    absent = int(input_data.split()[1])\n",
    "    final_score = score - (5*absent)\n",
    "    pass_fail = '합격' if final_score >= cutline else '불합격'\n",
    "    \n",
    "    score_data.append([score, absent, final_score, pass_fail])   # 리스트 추가 -> 이중리스트\n",
    "\n",
    "print('출력: ')\n",
    "print('점수\\t결석\\t성적\\t합격여부')\n",
    "for s in score_data:\n",
    "    print('%3d\\t%3d\\t%3d\\t%s'%(s[0],s[1],s[2],s[3]))  # 리스트안의 리스트의 값 출력"
   ]
  },
  {
   "cell_type": "markdown",
   "id": "f62f444a-854d-4188-815b-f0f881deb9fe",
   "metadata": {},
   "source": [
    "# [문제10] 2차원 행렬 회전하기\n",
    "<pre>\n",
    "    다음과 같은 3행 3열의 리스트를 생성하고, 사용자로부터 임의의 값을 입력받을 때마다 시계 방향으로 90도씩 회전하여 출력하는 프로그램을 작성하세요.\n",
    "    단, 사용자가 입력한 값이 'exit'일 경우 프로그램을 종료할 것.\n",
    "\n",
    "    [[1,2,3],\n",
    "     [4,5,6], \n",
    "     [7,8,9]]\n",
    "    \n",
    "    [예시]\n",
    "    123\n",
    "    456\n",
    "    789\n",
    "    입력: a\n",
    "\n",
    "    741\n",
    "    852\n",
    "    963\n",
    "    입력: a\n",
    "\n",
    "    987\n",
    "    654\n",
    "    321\n",
    "    입력: exit\n",
    "    \n",
    "</pre>"
   ]
  },
  {
   "cell_type": "code",
   "execution_count": 66,
   "id": "7f3f88b4-1184-43fd-8a7a-aded87ec4ab9",
   "metadata": {},
   "outputs": [
    {
     "name": "stdin",
     "output_type": "stream",
     "text": [
      "입력:  a\n"
     ]
    },
    {
     "name": "stdout",
     "output_type": "stream",
     "text": [
      "1 2 3 \n",
      "4 5 6 \n",
      "7 8 9 \n"
     ]
    },
    {
     "ename": "IndexError",
     "evalue": "list index out of range",
     "output_type": "error",
     "traceback": [
      "\u001b[1;31m---------------------------------------------------------------------------\u001b[0m",
      "\u001b[1;31mIndexError\u001b[0m                                Traceback (most recent call last)",
      "Cell \u001b[1;32mIn[66], line 24\u001b[0m\n\u001b[0;32m     21\u001b[0m     \u001b[38;5;28mprint\u001b[39m()\n\u001b[0;32m     23\u001b[0m \u001b[38;5;28;01mfor\u001b[39;00m x \u001b[38;5;129;01min\u001b[39;00m [\u001b[38;5;241m0\u001b[39m,\u001b[38;5;241m1\u001b[39m,\u001b[38;5;241m2\u001b[39m]: \n\u001b[1;32m---> 24\u001b[0m     mcopy \u001b[38;5;241m=\u001b[39m mcopy[j][x][::\u001b[38;5;241m-\u001b[39m\u001b[38;5;241m1\u001b[39m]\n\u001b[0;32m     26\u001b[0m \u001b[38;5;28mprint\u001b[39m(mcopy)\n",
      "\u001b[1;31mIndexError\u001b[0m: list index out of range"
     ]
    }
   ],
   "source": [
    "# 변환 규칙: 90도 회전 시 첫 번째 열의 값이 첫 번째 행의 값으로 변환\n",
    "# (0,0) ->(0,2)   (0,1) ->(1,2)  (0,2) ->(2,2)\n",
    "# (1,0) ->(0,1)   (1,1) ->(1,1)  (1,2) ->(2,1)\n",
    "# (2,0) ->(0,0)   (2,1) ->(1,0)  (2,2) ->(2,0)\n",
    "\n",
    "import copy\n",
    "\n",
    "matrix = [[1,2,3],\n",
    "          [4,5,6], \n",
    "          [7,8,9]]\n",
    "\n",
    "while True:\n",
    "    # 깊은 복사를 하지 않으면, 두 리스트가 같은 참조값을 가지고 있기 때문에 원본값의 변화에 영향을 받게됨.\n",
    "    mcopy = copy.deepcopy(matrix)\n",
    "    m_input = input('입력: ')\n",
    "    if m_input == 'exit': break\n",
    "        \n",
    "    for i in mcopy:\n",
    "        for j in i:\n",
    "            print(j, end=' ')\n",
    "        print()\n",
    "\n",
    "    for x in [0,1,2]: \n",
    "        mcopy = mcopy[j][x][::-1]\n",
    "            \n",
    "    print(mcopy)"
   ]
  },
  {
   "cell_type": "code",
   "execution_count": 67,
   "id": "77d92397-a7db-4286-aa6b-1cf3213d9255",
   "metadata": {},
   "outputs": [
    {
     "name": "stdout",
     "output_type": "stream",
     "text": [
      "123\n",
      "456\n",
      "789\n"
     ]
    },
    {
     "name": "stdin",
     "output_type": "stream",
     "text": [
      "입력:  a\n"
     ]
    },
    {
     "name": "stdout",
     "output_type": "stream",
     "text": [
      "741\n",
      "852\n",
      "963\n"
     ]
    },
    {
     "name": "stdin",
     "output_type": "stream",
     "text": [
      "입력:  c\n"
     ]
    },
    {
     "name": "stdout",
     "output_type": "stream",
     "text": [
      "987\n",
      "654\n",
      "321\n"
     ]
    },
    {
     "name": "stdin",
     "output_type": "stream",
     "text": [
      "입력:  v\n"
     ]
    },
    {
     "name": "stdout",
     "output_type": "stream",
     "text": [
      "369\n",
      "258\n",
      "147\n"
     ]
    },
    {
     "name": "stdin",
     "output_type": "stream",
     "text": [
      "입력:  exit\n"
     ]
    }
   ],
   "source": [
    "# answer\n",
    "import copy\n",
    "\n",
    "matrix = [[1,2,3],\n",
    "          [4,5,6], \n",
    "          [7,8,9]]\n",
    "\n",
    "while True:\n",
    "    mcopy = copy.deepcopy(matrix)\n",
    "    for i in matrix:\n",
    "        print(i[0], i[1], i[2], sep ='')\n",
    "\n",
    "    if input('입력: ') == 'exit': break\n",
    "    ## 이중 for문 ##\n",
    "    for i in range(len(matrix)):   # 1차원 배열의 크기만큼 반복\n",
    "        for j in range(len(matrix[i])):   # 2차원 배열(서브배열)의 크기만큼 반복\n",
    "            matrix[i][2-j] = mcopy[j][i]    # i가 고정된 상태에서 j가 0,1,2 반복"
   ]
  },
  {
   "cell_type": "markdown",
   "id": "f99c01e6-d77c-4e0f-8a03-c483abdff9b5",
   "metadata": {},
   "source": [
    "# [문제11] 팩토리얼 구하기\n",
    "<pre>\n",
    "    n! 은 1부터 n까지 존재하는 모든 자연수의 곱을 의미한다.\n",
    "    사용자로부터 어떤 정수 n을 입력받아 n!의 값을 출력하는 프로그램을 작성하시오.\n",
    "    [예시]\n",
    "    입력: 5\n",
    "    출력: 5! = 120\n",
    "</pre>"
   ]
  },
  {
   "cell_type": "code",
   "execution_count": 80,
   "id": "d573f4a9-5e64-44da-a882-cdaf4c369c05",
   "metadata": {},
   "outputs": [
    {
     "name": "stdin",
     "output_type": "stream",
     "text": [
      "입력:  5\n"
     ]
    },
    {
     "name": "stdout",
     "output_type": "stream",
     "text": [
      "출력: 5!은 120\n"
     ]
    }
   ],
   "source": [
    "n = int(input('입력: '))\n",
    "number = 1\n",
    "for i in range(1, n+1):\n",
    "    number *= i\n",
    "\n",
    "print(f'출력: {n}!은 {number}')"
   ]
  },
  {
   "cell_type": "code",
   "execution_count": 84,
   "id": "628bf757-bd88-4bd7-b951-37cfdc0b4278",
   "metadata": {},
   "outputs": [
    {
     "name": "stdin",
     "output_type": "stream",
     "text": [
      "입력:  5\n"
     ]
    },
    {
     "name": "stdout",
     "output_type": "stream",
     "text": [
      "출력: 5! = 120\n"
     ]
    }
   ],
   "source": [
    "n = int(input('입력: '))\n",
    "number = n   # 시작값\n",
    "for i in range(n-1, 0, -1):   # 하나씩 줄여가기\n",
    "    number *= i\n",
    "\n",
    "print(f'출력: {n}! = {number}')"
   ]
  },
  {
   "cell_type": "markdown",
   "id": "467ac85c-d1e2-4b65-b590-4f6d801290de",
   "metadata": {},
   "source": [
    "# [문제12] 피보나치 수열 구하기\n",
    "<pre>\n",
    "    피보나치 수열은 첫째 및 둘째 항이 1이며, 그 이후 항은 바로 앞 두항의 합으로 이루어진 수열을 말한다.\n",
    "    사용자로부터 임의의 양의 정수를 입력 받아 입력 받은 수보다 작거나 같은 수로만 이루어진 피보나치 수열을 출력하는 프로그램을 작성하시오.\n",
    "    [예시]\n",
    "    입력: 10\n",
    "    출력: 1, 1, 2, 3, 5, 8 \n",
    "</pre>"
   ]
  },
  {
   "cell_type": "code",
   "execution_count": 2,
   "id": "8565e5e0-1b9c-4945-837a-860916726ce2",
   "metadata": {},
   "outputs": [
    {
     "name": "stdin",
     "output_type": "stream",
     "text": [
      "입력:  10\n"
     ]
    },
    {
     "name": "stdout",
     "output_type": "stream",
     "text": [
      "[1, 1, 2, 3, 5, 8]\n"
     ]
    }
   ],
   "source": [
    "number = int(input('입력: '))\n",
    "number_list = [1,1]\n",
    "z = 0\n",
    "\n",
    "while True:\n",
    "    if number_list[-1]+number_list[-2] > number: break\n",
    "    else:\n",
    "        z = number_list[-1]+number_list[-2]\n",
    "        number_list.append(z)\n",
    "print(number_list)\n"
   ]
  },
  {
   "cell_type": "code",
   "execution_count": 3,
   "id": "d95998da-0d2d-42ee-a9bc-05895f92315b",
   "metadata": {},
   "outputs": [
    {
     "name": "stdin",
     "output_type": "stream",
     "text": [
      "입력:  10\n"
     ]
    },
    {
     "name": "stdout",
     "output_type": "stream",
     "text": [
      "1,1,2,3,5,8\n"
     ]
    }
   ],
   "source": [
    "# answer\n",
    "n = int(input('입력: '))\n",
    "\n",
    "first = 1\n",
    "second = 1\n",
    "sum = 0\n",
    "print(1,1, sep=',', end=',')\n",
    "\n",
    "while True:\n",
    "    sum = first + second\n",
    "    if sum > n: break\n",
    "    print(sum, end=',')\n",
    "    first = second\n",
    "    second = sum\n",
    "print('\\b')"
   ]
  },
  {
   "cell_type": "markdown",
   "id": "5104438a-769a-4ce4-9a5e-fc8217330b83",
   "metadata": {},
   "source": [
    "# [문제13] 타자 프로그램\n",
    "<pre>\n",
    "    애국가 1절을 각 소절마다 타이핑하여 정확도와 타자 속도를 출력한다.\n",
    "    [예시]\n",
    "    (1/4)\n",
    "    동해물과 백두산이 마르고 닳도록\n",
    "    동해물과 배두산이 마르고 닳도록\n",
    "    타자속도: 130타/분, 정확도: 94%\n",
    "        :\n",
    "    (4/4)\n",
    "    대한사람 대한으로 길이 보전하세\n",
    "    대한사람 대한으로 길이 보전하세\n",
    "    타자속도: 2030타/분, 정확도: 100%\n",
    "    =======================================\n",
    "                    타자결과\n",
    "    =======================================\n",
    "    평균 타자속도: 189타/분, 평균 정확도: 93%\n",
    "\n",
    "    분당 타자속도 -> 입력소요시간(초):입력 글자 수 = 1분(60초): x\n",
    "    정확도 -> 리스트값과 입력값을 맵핑하여 일치하는지 확인하여 백분율 구하기 \n",
    "</pre>"
   ]
  },
  {
   "cell_type": "code",
   "execution_count": 1,
   "id": "eb0edf2d-6a27-4770-bc08-ab56138db1cb",
   "metadata": {},
   "outputs": [
    {
     "name": "stdout",
     "output_type": "stream",
     "text": [
      "1/4\n",
      "동해물과 백두산이 마르고 닳도록\n"
     ]
    },
    {
     "name": "stdin",
     "output_type": "stream",
     "text": [
      " 동해물과 백두산이 마르고 닳도록\n"
     ]
    },
    {
     "name": "stdout",
     "output_type": "stream",
     "text": [
      "타자속도 : 114.01타/분,  정확도 : 100.00%\n",
      "2/4\n",
      "하느님이 보우하사 우리나라 만세\n"
     ]
    },
    {
     "name": "stdin",
     "output_type": "stream",
     "text": [
      " 하느님이 보우하사 우리나라 만세\n"
     ]
    },
    {
     "name": "stdout",
     "output_type": "stream",
     "text": [
      "타자속도 : 256.72타/분,  정확도 : 100.00%\n",
      "3/4\n",
      "무궁화 삼천리 화려강산\n"
     ]
    },
    {
     "name": "stdin",
     "output_type": "stream",
     "text": [
      " 무궁화 삼천리 화려강산\n"
     ]
    },
    {
     "name": "stdout",
     "output_type": "stream",
     "text": [
      "타자속도 : 189.97타/분,  정확도 : 100.00%\n",
      "4/4\n",
      "대한사람 대한으로 길이 보전하세\n"
     ]
    },
    {
     "name": "stdin",
     "output_type": "stream",
     "text": [
      " 대한사람 대한으로 길이 보전하세\n"
     ]
    },
    {
     "name": "stdout",
     "output_type": "stream",
     "text": [
      "타자속도 : 200.79타/분,  정확도 : 100.00%\n",
      "=======================================\n",
      "                타자결과               \n",
      "=======================================\n",
      "타자속도 : 190.37타/분,  정확도 : 100.00%\n"
     ]
    }
   ],
   "source": [
    "# 각 소절은 리스트에 담기\n",
    "# 한소절씩 입력받기 - 타자속도: time함수\n",
    "import time\n",
    "\n",
    "text = ['동해물과 백두산이 마르고 닳도록','하느님이 보우하사 우리나라 만세', '무궁화 삼천리 화려강산', '대한사람 대한으로 길이 보전하세']\n",
    "sec = []\n",
    "acc = []\n",
    "\n",
    "for i in text:\n",
    "    print(f'{text.index(i)+1}/4')    # 각 구절의 인덱스값+ 1\n",
    "    print(i)\n",
    "    start = time.time()\n",
    "    user = input()\n",
    "    end = time.time()\n",
    "    \n",
    "    typing_time = end-start\n",
    "    # typing_time : 17 =  60:your_typing\n",
    "    # your_typing = 60*17/typing_time/60\n",
    "    your_typing = 60*len(user)/typing_time\n",
    "    sec += [your_typing]\n",
    "\n",
    "    accuracy = 0\n",
    "    sum = 0\n",
    "    myzip = zip(i, user)\n",
    "    \n",
    "    for k,v in myzip:\n",
    "        if k == v:\n",
    "            sum += 1\n",
    "        accuracy = sum/len(i)*100\n",
    "    acc += [accuracy]\n",
    "        \n",
    "    print(f'타자속도 : {your_typing:.2f}타/분,  정확도 : {accuracy:.2f}%')\n",
    "\n",
    "print('=======================================')\n",
    "print('                타자결과               ')\n",
    "print('=======================================')\n",
    "\n",
    "hap1 = 0\n",
    "for x in sec:\n",
    "    hap1 += x\n",
    "avg_sec = hap1/4\n",
    "\n",
    "hap2 = 0\n",
    "for y in acc:\n",
    "    hap2 += y\n",
    "avg_acc = hap2/4\n",
    "    \n",
    "print(f'타자속도 : {avg_sec:.2f}타/분,  정확도 : {avg_acc:.2f}%')"
   ]
  },
  {
   "cell_type": "code",
   "execution_count": 4,
   "id": "5f6195d5-0e01-418e-b11c-36d8150359cc",
   "metadata": {},
   "outputs": [
    {
     "name": "stdout",
     "output_type": "stream",
     "text": [
      "1/4\n",
      "동해물과 백두산이 마르고 닳도록\n"
     ]
    },
    {
     "name": "stdin",
     "output_type": "stream",
     "text": [
      " 동해물과 백두산이 마르고 닳도록\n"
     ]
    },
    {
     "name": "stdout",
     "output_type": "stream",
     "text": [
      "타자속도:100타/분, 정확도:100%\n",
      "\n",
      "\n",
      "2/4\n",
      "하느님이 보우하사 우리나라 만세\n"
     ]
    },
    {
     "name": "stdin",
     "output_type": "stream",
     "text": [
      " 하느님이 보우하사 우리나라 만세\n"
     ]
    },
    {
     "name": "stdout",
     "output_type": "stream",
     "text": [
      "타자속도:165타/분, 정확도:100%\n",
      "\n",
      "\n",
      "3/4\n",
      "무궁화 삼천리 화려강산\n"
     ]
    },
    {
     "name": "stdin",
     "output_type": "stream",
     "text": [
      " 무궁화 삼천리 화려강산\n"
     ]
    },
    {
     "name": "stdout",
     "output_type": "stream",
     "text": [
      "타자속도:153타/분, 정확도:100%\n",
      "\n",
      "\n",
      "4/4\n",
      "대한사람 대한으로 길이 보전하세\n"
     ]
    },
    {
     "name": "stdin",
     "output_type": "stream",
     "text": [
      " 대한사람 대한으로 길이 보전하세\n"
     ]
    },
    {
     "name": "stdout",
     "output_type": "stream",
     "text": [
      "타자속도:204타/분, 정확도:100%\n",
      "\n",
      "\n",
      "=======================================\n",
      "                타자결과               \n",
      "=======================================\n",
      "평균 타자속도:156타/분, 평균 정확도:100%\n"
     ]
    }
   ],
   "source": [
    "# answer\n",
    "import time\n",
    "\n",
    "sentence = ['동해물과 백두산이 마르고 닳도록','하느님이 보우하사 우리나라 만세', '무궁화 삼천리 화려강산', '대한사람 대한으로 길이 보전하세']\n",
    "\n",
    "sumOfTypeSpeed = 0\n",
    "sumOfAccuracy = 0\n",
    "for i, s in enumerate(sentence, start=1):  # enumerate() -> (index, value)를 반환\n",
    "    print(f'{i}/{len(sentence)}')\n",
    "    print(s)\n",
    "    start = time.time()\n",
    "    input_text = input()\n",
    "    end = time.time()\n",
    "\n",
    "    hitCount = 0\n",
    "    # 원문 : 동해물과 백두산이 마르고 닳도록\n",
    "    # 입력 : 동해무과 배두산이 마르고 닳도록\n",
    "    # hitCount -> 15\n",
    "    for original_chr, input_chr in zip(s, input_text):\n",
    "        if original_chr == input_chr:\n",
    "            hitCount += 1\n",
    "\n",
    "    typeSpeed = (len(input_text)*60)/(end-start)   # 입력글자수 * 60(초) / 입력 소요 시간(초)\n",
    "    accuracy = (hitCount/len(s))*100  # 원문과 일치한 글자수/원문 글자 수 *100\n",
    "\n",
    "    print(f'타자속도:{typeSpeed:.0f}타/분, 정확도:{accuracy:.0f}%')\n",
    "    print('\\n')\n",
    "\n",
    "    sumOfTypeSpeed += typeSpeed    # 타자속도 누적합\n",
    "    sumOfAccuracy +=  accuracy     # 정확도 누적합\n",
    "\n",
    "print('=======================================')\n",
    "print('                타자결과               ')\n",
    "print('=======================================')\n",
    "print(f'평균 타자속도:{sumOfTypeSpeed/len(sentence):.0f}타/분, 평균 정확도:{sumOfAccuracy/len(sentence):.0f}%')\n"
   ]
  },
  {
   "cell_type": "code",
   "execution_count": null,
   "id": "5d4e933d-e033-43e8-b02a-fd7e813665ab",
   "metadata": {},
   "outputs": [],
   "source": []
  }
 ],
 "metadata": {
  "kernelspec": {
   "display_name": "Python 3 (ipykernel)",
   "language": "python",
   "name": "python3"
  },
  "language_info": {
   "codemirror_mode": {
    "name": "ipython",
    "version": 3
   },
   "file_extension": ".py",
   "mimetype": "text/x-python",
   "name": "python",
   "nbconvert_exporter": "python",
   "pygments_lexer": "ipython3",
   "version": "3.11.5"
  }
 },
 "nbformat": 4,
 "nbformat_minor": 5
}
