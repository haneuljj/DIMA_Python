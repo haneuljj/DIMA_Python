{
 "cells": [
  {
   "cell_type": "code",
   "execution_count": null,
   "id": "af1f2319-a050-49ca-9c46-08b2da1f82e3",
   "metadata": {},
   "outputs": [],
   "source": [
    "from bank import Account, BankManager, InvalidTransactionException\n",
    "\n",
    "a1 = Account('홍길동', '11-11', 500)\n",
    "print(a1.showAccountInfo())\n",
    "\n",
    "a2 = Account('김철수', '11-12', 1000)\n",
    "print(a2.showAccountInfo())\n",
    "\n",
    "print('홍길동 -> 김철수 계좌이체')\n",
    "a1.transfer(300, a2)\n",
    "print(a1.showAccountInfo())\n",
    "print(a2.showAccountInfo())"
   ]
  },
  {
   "cell_type": "code",
   "execution_count": null,
   "id": "b3857b59-9f2a-4dda-93af-e480311c1312",
   "metadata": {},
   "outputs": [],
   "source": [
    "from bank import Account, BankManager, InvalidTransactionException\n",
    "\n",
    "a1 = Account('홍길동', '11-11', 500)\n",
    "print(a1.showAccountInfo())\n",
    "\n",
    "a2 = Account('김철수', '11-12', 1000)\n",
    "print(a2.showAccountInfo())\n",
    "\n",
    "print()\n",
    "print('홍길동 -> 김철수 계좌이체')\n",
    "try:\n",
    "    a1.transfer(600, a2)\n",
    "    print(a1.showAccountInfo())\n",
    "    print(a2.showAccountInfo())\n",
    "except InvalidTransactionException as e:\n",
    "    print(e)\n",
    "\n",
    "manager = BankManager()\n",
    "manager.addAccount(a1)\n",
    "manager.addAccount(a2)\n",
    "\n",
    "print()\n",
    "print('등록된 모든 계좌정보 출력')\n",
    "for a in manager.getAllAccountList():\n",
    "    print(a.showAccountInfo())\n",
    "print()\n",
    "\n",
    "print('11-11 계좌검색')\n",
    "r = manager.searchAccount('11-11')\n",
    "if r == None:\n",
    "    print('검색결과 없음')\n",
    "else:\n",
    "    print(r.showAccountInfo())"
   ]
  },
  {
   "cell_type": "code",
   "execution_count": 3,
   "id": "63bfd9d9-d04d-4258-bcfc-9d28005c6490",
   "metadata": {},
   "outputs": [
    {
     "name": "stdout",
     "output_type": "stream",
     "text": [
      "--------------------\n",
      "Welcom to DIMA Bank\n",
      "--------------------\n",
      "1. 계좌생성\n",
      "2. 입금\n",
      "3. 출금\n",
      "4. 이체\n",
      "5. 전체 계좌정보 출력\n",
      "6. 종료\n"
     ]
    },
    {
     "name": "stdin",
     "output_type": "stream",
     "text": [
      "메뉴 선택:  5\n"
     ]
    },
    {
     "name": "stdout",
     "output_type": "stream",
     "text": [
      "계좌주: 전하늘, 계좌번호: 686-878, 잔고: 10000\n",
      "계좌주: 전하느를, 계좌번호: 655-203, 잔고: 100000\n",
      "--------------------\n",
      "Welcom to DIMA Bank\n",
      "--------------------\n",
      "1. 계좌생성\n",
      "2. 입금\n",
      "3. 출금\n",
      "4. 이체\n",
      "5. 전체 계좌정보 출력\n",
      "6. 종료\n"
     ]
    },
    {
     "name": "stdin",
     "output_type": "stream",
     "text": [
      "메뉴 선택:  6\n"
     ]
    },
    {
     "name": "stdout",
     "output_type": "stream",
     "text": [
      "뱅킹 시스템 종료\n"
     ]
    }
   ],
   "source": [
    "from bank import Account, BankManager, InvalidTransactionException\n",
    "\n",
    "def print_main_menu():\n",
    "    print('--------------------')\n",
    "    print('Welcom to DIMA Bank')\n",
    "    print('--------------------')\n",
    "    print('1. 계좌생성')\n",
    "    print('2. 입금')\n",
    "    print('3. 출금')\n",
    "    print('4. 이체')\n",
    "    print('5. 전체 계좌정보 출력')\n",
    "    print('6. 종료')\n",
    "\n",
    "manager = BankManager()\n",
    "manager.readData()  # 저장했던 파일 읽기\n",
    "while True:\n",
    "    print_main_menu()\n",
    "    num = input('메뉴 선택: ')\n",
    "    if num == '1':  # 계좌 생성 로직: 1. 정보입력 2. 어카운트 객체 생성 3. 생성된 객체를 등록\n",
    "        name = input('이름 입력: ')\n",
    "        accNo = manager.genAccNo()\n",
    "        a = Account(name, accNo, 0)\n",
    "        manager.addAccount(a)\n",
    "        \n",
    "    elif num == '2':  # 입금 로직: 1. 계좌번호, 입금금액 입력 2. 계좌검색 3.입금처리\n",
    "        deposit_acc = input('계좌번호 입력: ')\n",
    "        deposit_amount = int(input('입금 금액 입력: '))\n",
    "        deposit_find = manager.searchAccount(deposit_acc)\n",
    "        if deposit_find == None:\n",
    "            print('계좌 정보가 없습니다.')\n",
    "            break\n",
    "        else:\n",
    "            deposit_find.deposit(deposit_amount)\n",
    "            print(deposit_find.showAccountInfo())\n",
    "    \n",
    "    elif num == '3':  # 출금 로직: 1. 계좌번호, 출금금액 입력 2. 계좌검색 3.출금(예외처리)\n",
    "        withdraw_acc = input('계좌번호 입력: ')\n",
    "        withdraw_amount = int(input('출금 금액 입력: '))\n",
    "        withdraw_find = manager.searchAccount(deposit_acc)\n",
    "        if withdraw_find == None:\n",
    "            print('계좌 정보가 없습니다.')\n",
    "            break\n",
    "        else:\n",
    "            withdraw_find.withdraw(withdraw_amount)\n",
    "            print(withdraw_find.showAccountInfo())\n",
    "            \n",
    "    elif num == '4':   # 이체 로직: 1. 출금계좌, 입금계좌, 이체금액 입력 2. 출금, 이체 대상 계좌검색 3.이체\n",
    "        transfer_withdraw_acc = input('출금할 계좌번호 입력: ')\n",
    "        transfer_deposit_acc = input('입금할 계좌번호 입력: ')\n",
    "        transfer_amount = int(input('이체금액 입력: '))\n",
    "        \n",
    "        transfer_withdraw_find = manager.searchAccount(transfer_withdraw_acc)\n",
    "        transfer_deposit_find = manager.searchAccount(transfer_deposit_acc)\n",
    "        if withdraw_find == None:\n",
    "            print('계좌 정보가 없습니다.')\n",
    "            break\n",
    "        else:\n",
    "            transfer_withdraw_find.transfer(transfer_amount, transfer_deposit_find)\n",
    "            print(transfer_withdraw_find.showAccountInfo())\n",
    "            print(transfer_withdraw_find.showAccountInfo())\n",
    "        \n",
    "    elif num == '5':\n",
    "        for a in manager.getAllAccountList():\n",
    "            print(a.showAccountInfo())\n",
    "            \n",
    "    elif num == '6':\n",
    "        print('뱅킹 시스템 종료')\n",
    "        manager.saveData()   # 실행한 데이터 저장\n",
    "        break\n",
    "\n",
    "    else:\n",
    "        print('메뉴를 다시 선택하세요.')\n",
    "\n",
    "## 프로그램을 종료해도 계좌 정보를 저장하려면, 파일로 저장\n",
    "# 객체 직렬화: 덩어리 형태의 데이터인 객체를 바이트값으로 하나하나 뽑아내서 파일로 하나하나 다시 씀\n"
   ]
  },
  {
   "cell_type": "code",
   "execution_count": null,
   "id": "9afadf44-7caa-400c-805b-97bf3b30a8da",
   "metadata": {},
   "outputs": [],
   "source": []
  }
 ],
 "metadata": {
  "kernelspec": {
   "display_name": "Python 3 (ipykernel)",
   "language": "python",
   "name": "python3"
  },
  "language_info": {
   "codemirror_mode": {
    "name": "ipython",
    "version": 3
   },
   "file_extension": ".py",
   "mimetype": "text/x-python",
   "name": "python",
   "nbconvert_exporter": "python",
   "pygments_lexer": "ipython3",
   "version": "3.11.5"
  }
 },
 "nbformat": 4,
 "nbformat_minor": 5
}
