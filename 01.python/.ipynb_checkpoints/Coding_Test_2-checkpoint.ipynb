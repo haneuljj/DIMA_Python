{
 "cells": [
  {
   "cell_type": "markdown",
   "id": "4d5990e4-7166-4b41-8853-99f0853991e9",
   "metadata": {},
   "source": [
    "# [문제1] n번째로 큰 수 찾기\n",
    "<pre>\n",
    "    사용자로부터 정수를 반복적으로 입력 받는다.\n",
    "    반복 입력은 0을 입력하면 반복을 종료한다.\n",
    "    이 후 검색할 순위를 입력 받으면 해당 순위의 숫자를 출력하되 입력받은 값의 범위를 벗어난 순위를 입력하면 순위를 다시 입력받는다.\n",
    "\n",
    "    [예시]\n",
    "    정수를 입력하세요(종료:0)\n",
    "    5\n",
    "    4\n",
    "    6\n",
    "    1\n",
    "    2\n",
    "    0\n",
    "    검색할 순위: -4\n",
    "    리스트의 범위를 벗어났습니다. 다시 입력하세요: 1\n",
    "    1번째로 큰 수는 6입니다.\n",
    "</pre>"
   ]
  },
  {
   "cell_type": "code",
   "execution_count": 8,
   "id": "24da3abd-43fe-4e63-a62c-5ae1772cbf70",
   "metadata": {},
   "outputs": [
    {
     "name": "stdout",
     "output_type": "stream",
     "text": [
      "정수를 입력하세요(종료:0)\n"
     ]
    },
    {
     "name": "stdin",
     "output_type": "stream",
     "text": [
      " 5\n",
      " 6\n",
      " 7\n",
      " 8\n",
      " 55\n",
      " 1\n",
      " 0\n",
      "검색할 순위:  -7\n",
      "리스트의 범위를 벗어났습니다. 다시 입력하세요:  -8\n"
     ]
    },
    {
     "ename": "IndexError",
     "evalue": "list index out of range",
     "output_type": "error",
     "traceback": [
      "\u001b[1;31m---------------------------------------------------------------------------\u001b[0m",
      "\u001b[1;31mIndexError\u001b[0m                                Traceback (most recent call last)",
      "Cell \u001b[1;32mIn[8], line 14\u001b[0m\n\u001b[0;32m     12\u001b[0m \u001b[38;5;28;01mif\u001b[39;00m ranking1 \u001b[38;5;241m<\u001b[39m\u001b[38;5;241m=\u001b[39m \u001b[38;5;241m0\u001b[39m \u001b[38;5;129;01mor\u001b[39;00m ranking1 \u001b[38;5;241m>\u001b[39m \u001b[38;5;28mlen\u001b[39m(number_list):\n\u001b[0;32m     13\u001b[0m     ranking2 \u001b[38;5;241m=\u001b[39m \u001b[38;5;28mint\u001b[39m(\u001b[38;5;28minput\u001b[39m(\u001b[38;5;124m'\u001b[39m\u001b[38;5;124m리스트의 범위를 벗어났습니다. 다시 입력하세요: \u001b[39m\u001b[38;5;124m'\u001b[39m))\n\u001b[1;32m---> 14\u001b[0m     \u001b[38;5;28mprint\u001b[39m(\u001b[38;5;124mf\u001b[39m\u001b[38;5;124m'\u001b[39m\u001b[38;5;132;01m{\u001b[39;00mranking2\u001b[38;5;132;01m}\u001b[39;00m\u001b[38;5;124m번째로 큰 수는 \u001b[39m\u001b[38;5;132;01m{\u001b[39;00mnumber_list[ranking2\u001b[38;5;241m-\u001b[39m\u001b[38;5;241m1\u001b[39m]\u001b[38;5;132;01m}\u001b[39;00m\u001b[38;5;124m입니다.\u001b[39m\u001b[38;5;124m'\u001b[39m)\n\u001b[0;32m     15\u001b[0m \u001b[38;5;28;01melse\u001b[39;00m:\n\u001b[0;32m     16\u001b[0m     \u001b[38;5;28mprint\u001b[39m(\u001b[38;5;124mf\u001b[39m\u001b[38;5;124m'\u001b[39m\u001b[38;5;132;01m{\u001b[39;00mranking1\u001b[38;5;132;01m}\u001b[39;00m\u001b[38;5;124m번째로 큰 수는 \u001b[39m\u001b[38;5;132;01m{\u001b[39;00mnumber_list[ranking1\u001b[38;5;241m-\u001b[39m\u001b[38;5;241m1\u001b[39m]\u001b[38;5;132;01m}\u001b[39;00m\u001b[38;5;124m입니다.\u001b[39m\u001b[38;5;124m'\u001b[39m)\n",
      "\u001b[1;31mIndexError\u001b[0m: list index out of range"
     ]
    }
   ],
   "source": [
    "number_list = []\n",
    "\n",
    "print('정수를 입력하세요(종료:0)')\n",
    "while True:\n",
    "    num = int(input())\n",
    "    if num == 0: break\n",
    "    number_list.append(num)\n",
    "number_list.sort(reverse=True)\n",
    "\n",
    "while True:\n",
    "    ranking1 = int(input('검색할 순위: ')) \n",
    "    if ranking1 <= 0 or ranking1 > len(number_list):\n",
    "        ranking2 = int(input('리스트의 범위를 벗어났습니다. 다시 입력하세요: '))\n",
    "        print(f'{ranking2}번째로 큰 수는 {number_list[ranking2-1]}입니다.')\n",
    "    else:\n",
    "        print(f'{ranking1}번째로 큰 수는 {number_list[ranking1-1]}입니다.')"
   ]
  },
  {
   "cell_type": "code",
   "execution_count": 9,
   "id": "fdf63e35-372e-465d-920a-2b7519846f0e",
   "metadata": {},
   "outputs": [
    {
     "name": "stdout",
     "output_type": "stream",
     "text": [
      "정수를 입력하세요(종료:0)\n"
     ]
    },
    {
     "name": "stdin",
     "output_type": "stream",
     "text": [
      " 7\n",
      " 8\n",
      " 99\n",
      " 2\n",
      " 7\n",
      " 0\n",
      "검색할 순위:  -8\n"
     ]
    },
    {
     "name": "stdout",
     "output_type": "stream",
     "text": [
      "리스트의 범위를 벗어났습니다. 다시 입력하세요\n"
     ]
    },
    {
     "name": "stdin",
     "output_type": "stream",
     "text": [
      "검색할 순위:  -7\n"
     ]
    },
    {
     "name": "stdout",
     "output_type": "stream",
     "text": [
      "리스트의 범위를 벗어났습니다. 다시 입력하세요\n"
     ]
    },
    {
     "name": "stdin",
     "output_type": "stream",
     "text": [
      "검색할 순위:  -9\n"
     ]
    },
    {
     "name": "stdout",
     "output_type": "stream",
     "text": [
      "리스트의 범위를 벗어났습니다. 다시 입력하세요\n"
     ]
    },
    {
     "name": "stdin",
     "output_type": "stream",
     "text": [
      "검색할 순위:  -33\n"
     ]
    },
    {
     "name": "stdout",
     "output_type": "stream",
     "text": [
      "리스트의 범위를 벗어났습니다. 다시 입력하세요\n"
     ]
    },
    {
     "name": "stdin",
     "output_type": "stream",
     "text": [
      "검색할 순위:  1\n"
     ]
    },
    {
     "ename": "NameError",
     "evalue": "name 'rankk' is not defined",
     "output_type": "error",
     "traceback": [
      "\u001b[1;31m---------------------------------------------------------------------------\u001b[0m",
      "\u001b[1;31mNameError\u001b[0m                                 Traceback (most recent call last)",
      "Cell \u001b[1;32mIn[9], line 18\u001b[0m\n\u001b[0;32m     15\u001b[0m     \u001b[38;5;28;01melse\u001b[39;00m:\n\u001b[0;32m     16\u001b[0m         \u001b[38;5;28mprint\u001b[39m(\u001b[38;5;124m'\u001b[39m\u001b[38;5;124m리스트의 범위를 벗어났습니다. 다시 입력하세요\u001b[39m\u001b[38;5;124m'\u001b[39m)\n\u001b[1;32m---> 18\u001b[0m \u001b[38;5;28mprint\u001b[39m(\u001b[38;5;124mf\u001b[39m\u001b[38;5;124m'\u001b[39m\u001b[38;5;132;01m{\u001b[39;00mrank\u001b[38;5;132;01m}\u001b[39;00m\u001b[38;5;124m번째로 큰 수는 \u001b[39m\u001b[38;5;132;01m{\u001b[39;00mnumber_list[rankk\u001b[38;5;241m-\u001b[39m\u001b[38;5;241m1\u001b[39m]\u001b[38;5;132;01m}\u001b[39;00m\u001b[38;5;124m입니다.\u001b[39m\u001b[38;5;124m'\u001b[39m)\n",
      "\u001b[1;31mNameError\u001b[0m: name 'rankk' is not defined"
     ]
    }
   ],
   "source": [
    "# answer\n",
    "number_list = []\n",
    "\n",
    "print('정수를 입력하세요(종료:0)')\n",
    "while True:\n",
    "    num = int(input())\n",
    "    if num == 0: break\n",
    "    number_list.append(num)\n",
    "number_list.sort(reverse=True)\n",
    "\n",
    "while True:\n",
    "    rank =  int(input('검색할 순위: '))\n",
    "    if 0 < rank <= len(number_list):\n",
    "        break\n",
    "    else:\n",
    "        print('리스트의 범위를 벗어났습니다. 다시 입력하세요')\n",
    "\n",
    "print(f'{rank}번째로 큰 수는 {number_list[rank-1]}입니다.')"
   ]
  },
  {
   "cell_type": "markdown",
   "id": "ca879eb2-d386-4d9e-a707-a67b53b6c033",
   "metadata": {},
   "source": [
    "# [문제2] 야구게임\n",
    "<pre>\n",
    "    다음과 같은 규칙에 따라 컴퓨터가 0에서 9사이의 중복되지 않은 임의의 정수 3개를 생성한 숫자를 숫자와 순서까지 맞추는 게임 프로그램을 작성하세요.\n",
    "    - 랜덤하게 생성된 3개의 숫자와 플레이어가 입력한 숫자 3개에 대해 순서와 숫자를 비교하여 다음의 결과를 보여준다.\n",
    "    - 숫자는 맞았으나 위치가 다른 경우 맞춘 숫자 개수  만큼 Ball로 표현하고, 순서까지 맞는 경우 Strike로 표현한다.\n",
    "    - 게임은 3Strike가 되면 종료되며 시도 횟수를 보여준다.\n",
    "\n",
    "    - 다음의 두 가지 함수를 정의하여 구현한다.\n",
    "    * randomNumber(): 0~9사이의 중복되지 않은 정수 3개를 반환하는 함수 /리스트로\n",
    "    * inputNumber(): 키보드로 0~9사이의 정수를 입력을 받아 반환하는 함수 (ValueError 예외 처리)\n",
    "\n",
    "    [예시]\n",
    "    --------------- Baselball Game ---------------\n",
    "    각각의 입력 범위는 0~9입니다.\n",
    "    ----------------------------------------------\n",
    "    첫번째 값: 1\n",
    "    두번째 값: 2\n",
    "    세번째 값: 2\n",
    "    2는 이미 입력된 값입니다. 다시 입력하세요.\n",
    "    세번째 값: 3\n",
    "    count(1): 입력 결과는 1Strike, 0Ball 입니다.\n",
    "</pre>"
   ]
  },
  {
   "cell_type": "code",
   "execution_count": 52,
   "id": "7439871b-978b-4bd6-94d1-b97f9358c416",
   "metadata": {},
   "outputs": [
    {
     "name": "stdout",
     "output_type": "stream",
     "text": [
      "--------------- Baselball Game ---------------\n",
      "각각의 입력 범위는 0~9입니다.\n",
      "----------------------------------------------\n"
     ]
    },
    {
     "name": "stdin",
     "output_type": "stream",
     "text": [
      "첫번째 값:  3\n",
      "두번째 값:  2\n",
      "세번째 값:  2\n"
     ]
    },
    {
     "name": "stdout",
     "output_type": "stream",
     "text": [
      "이미 입력된 값입니다. 다시 입력하세요.\n"
     ]
    },
    {
     "name": "stdin",
     "output_type": "stream",
     "text": [
      "세번째 값:  11\n"
     ]
    },
    {
     "name": "stdout",
     "output_type": "stream",
     "text": [
      "0~9사이의 숫자를 입력하세요.\n"
     ]
    },
    {
     "name": "stdin",
     "output_type": "stream",
     "text": [
      "세번째 값:  9\n"
     ]
    }
   ],
   "source": [
    "import random\n",
    "\n",
    "def randomNumber():\n",
    "    return random.sample(range(0,10),3)\n",
    "\n",
    "def inputNumber(message):\n",
    "    try:\n",
    "        number = input(f'{message}: ')\n",
    "        if 0<=int(number)<=9:\n",
    "            return int(number)\n",
    "        else:\n",
    "            raise ValueError('0~9사이의 숫자를 입력하세요.')\n",
    "    except ValueError as e:   \n",
    "        print(e)\n",
    "\n",
    "cpt_number = randomNumber()\n",
    "print('--------------- Baselball Game ---------------')\n",
    "print('각각의 입력 범위는 0~9입니다.')\n",
    "print('----------------------------------------------')\n",
    "user_number_list = []\n",
    "while True:\n",
    "    number1 = inputNumber('첫번째 값')\n",
    "    if number1 != None:\n",
    "        user_number_list.append(number1)\n",
    "        break\n",
    "while True:\n",
    "    number2 = inputNumber('두번째 값')\n",
    "    if number2 != None and number2 not in user_number_list:\n",
    "        user_number_list.append(number2)\n",
    "        break\n",
    "    elif number2 != None and number2 in user_number_list:\n",
    "        print('이미 입력된 값입니다. 다시 입력하세요.')\n",
    "while True:\n",
    "    number3 = inputNumber('세번째 값')\n",
    "    if number3 != None and number3 not in user_number_list:\n",
    "        user_number_list.append(number3)\n",
    "        break\n",
    "    elif number3 != None and number3 in user_number_list:\n",
    "        print('이미 입력된 값입니다. 다시 입력하세요.')\n"
   ]
  },
  {
   "cell_type": "code",
   "execution_count": null,
   "id": "5eedaba7-6e6f-4738-863f-024983b79d9b",
   "metadata": {},
   "outputs": [
    {
     "name": "stdout",
     "output_type": "stream",
     "text": [
      "[3, 6, 7]\n",
      "--------------- Baselball Game ---------------\n",
      "각각의 입력 범위는 0~9입니다.\n",
      "----------------------------------------------\n"
     ]
    },
    {
     "name": "stdin",
     "output_type": "stream",
     "text": [
      "첫번째 값:  1\n",
      "두번째 값:  5\n",
      "세번째값:  2\n"
     ]
    },
    {
     "name": "stdout",
     "output_type": "stream",
     "text": [
      "[3, 6, 7] [1, 5, 2]\n",
      "[3, 6, 7] [1, 5, 2]\n",
      "[3, 6, 7] [1, 5, 2]\n",
      "[3, 6, 7] [1, 5, 2]\n",
      "[3, 6, 7] [1, 5, 2]\n",
      "[3, 6, 7] [1, 5, 2]\n",
      "[3, 6, 7] [1, 5, 2]\n",
      "[3, 6, 7] [1, 5, 2]\n",
      "[3, 6, 7] [1, 5, 2]\n",
      "count(1): 입력결과는 0Stirke, 0Ball 입니다.\n"
     ]
    }
   ],
   "source": [
    "import random\n",
    "\n",
    "def randomNumber():\n",
    "    return random.sample(range(0,10),3)\n",
    "\n",
    "def inputNumber(message):\n",
    "    while True:\n",
    "        try:\n",
    "            n = int(input(message))\n",
    "            if 0<=n<=9:\n",
    "                return n\n",
    "            else:\n",
    "                print('0~9사이의 숫자를 입력하세요.')\n",
    "        except ValueError as e:   \n",
    "            print('0~9사이의 숫자를 입력하세요.')\n",
    "\n",
    "count = 0\n",
    "strike = 0\n",
    "ball = 0\n",
    "randNums =  randomNumber()\n",
    "print(randNums)\n",
    "\n",
    "print('--------------- Baselball Game ---------------')\n",
    "print('각각의 입력 범위는 0~9입니다.')\n",
    "print('----------------------------------------------')\n",
    "\n",
    "while True:\n",
    "    count += 1\n",
    "    inputNums = []\n",
    "\n",
    "    message_list = ['첫번째 값: ', '두번째 값: ', '세번째값: ']\n",
    "    i = 0\n",
    "    while i <= 2:\n",
    "        n = inputNumber(message_list[i])\n",
    "        if n not in inputNums:\n",
    "            inputNums.append(n)\n",
    "            i += 1\n",
    "        else:\n",
    "            print(f'{n}은 이미 입력한 값입니다. 다시 입력하세요.')\n",
    "\n",
    "    for i, randNum  in enumerate(randNums):\n",
    "        for j, inputNum in enumerate(inputNums):\n",
    "            if randNum == inputNum and i == j:\n",
    "                strike += 1\n",
    "            elif randNum == inputNum:\n",
    "                ball += 1\n",
    "    print (f'count({count}): 입력결과는 {strike}Stirke, {ball}Ball 입니다.')\n",
    "\n",
    "    if strike == 3:\n",
    "        print(f'축하합니다. {count}번만에 성공하였습니다.')\n",
    "        break\n",
    "\n",
    "    strike = 0\n",
    "    ball = 0"
   ]
  }
 ],
 "metadata": {
  "kernelspec": {
   "display_name": "Python 3 (ipykernel)",
   "language": "python",
   "name": "python3"
  },
  "language_info": {
   "codemirror_mode": {
    "name": "ipython",
    "version": 3
   },
   "file_extension": ".py",
   "mimetype": "text/x-python",
   "name": "python",
   "nbconvert_exporter": "python",
   "pygments_lexer": "ipython3",
   "version": "3.11.5"
  }
 },
 "nbformat": 4,
 "nbformat_minor": 5
}
