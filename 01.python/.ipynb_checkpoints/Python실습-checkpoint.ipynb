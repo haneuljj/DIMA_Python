{
 "cells": [
  {
   "cell_type": "markdown",
   "id": "c6f28602-e1e8-4a8f-bf6d-90e23cf06ca8",
   "metadata": {},
   "source": [
    "# 주석"
   ]
  },
  {
   "cell_type": "markdown",
   "id": "7f37f648-8686-4fad-ab09-84e7a9aafbed",
   "metadata": {},
   "source": [
    "- **주석**은 코드의 실행과 무관한 문장을 기록하기 위한 기능이다."
   ]
  },
  {
   "cell_type": "code",
   "execution_count": 1,
   "id": "2f104b26-2acf-4aea-b591-861c98585cc1",
   "metadata": {},
   "outputs": [
    {
     "name": "stdout",
     "output_type": "stream",
     "text": [
      "문자열\n"
     ]
    }
   ],
   "source": [
    "# 주석처리\n",
    "s = '문자열'\n",
    "print(s)"
   ]
  },
  {
   "cell_type": "code",
   "execution_count": 2,
   "id": "15e54d0e-7340-433e-bbea-a18d9de2b56c",
   "metadata": {},
   "outputs": [
    {
     "name": "stdout",
     "output_type": "stream",
     "text": [
      "10\n"
     ]
    }
   ],
   "source": [
    "# 변수선언\n",
    "a = 10\n",
    "print(a)"
   ]
  },
  {
   "cell_type": "code",
   "execution_count": 3,
   "id": "2be56637-f552-4c66-9ef3-266b34819b45",
   "metadata": {},
   "outputs": [
    {
     "data": {
      "text/plain": [
       "int"
      ]
     },
     "execution_count": 3,
     "metadata": {},
     "output_type": "execute_result"
    }
   ],
   "source": [
    "type(a)"
   ]
  },
  {
   "cell_type": "code",
   "execution_count": 4,
   "id": "7c0f8329-e79d-4bdc-b314-831ff217c9d1",
   "metadata": {},
   "outputs": [
    {
     "data": {
      "text/plain": [
       "str"
      ]
     },
     "execution_count": 4,
     "metadata": {},
     "output_type": "execute_result"
    }
   ],
   "source": [
    "type(s)"
   ]
  },
  {
   "cell_type": "markdown",
   "id": "59fbae27-75b5-4623-901a-22d9547cbd53",
   "metadata": {},
   "source": [
    "# 연산자와 데이터"
   ]
  },
  {
   "cell_type": "code",
   "execution_count": 5,
   "id": "4fc7eaad-a740-457f-8a80-7362a22524c2",
   "metadata": {},
   "outputs": [
    {
     "name": "stdout",
     "output_type": "stream",
     "text": [
      "45\n",
      "-25\n",
      "350\n",
      "0.2857142857142857\n",
      "0\n",
      "3\n"
     ]
    }
   ],
   "source": [
    "# 산술 연산자\n",
    "a = 10\n",
    "b = 35\n",
    "\n",
    "print(a+b)\n",
    "print(a-b)\n",
    "print(a*b)\n",
    "print(a/b)\n",
    "\n",
    "print(a//b)\n",
    "print(b//a)"
   ]
  },
  {
   "cell_type": "code",
   "execution_count": 6,
   "id": "819a0a11-83fc-4807-808a-40358711e6da",
   "metadata": {},
   "outputs": [
    {
     "name": "stdout",
     "output_type": "stream",
     "text": [
      "사과10\n"
     ]
    }
   ],
   "source": [
    "# +연산자 : 문자열 결합(연산자 재정의)\n",
    "# 단, 숫자와 문자열 결합은 불가능\n",
    "c = '사과'\n",
    "d = 10\n",
    "print(c+str(d))  # str(): 문자열로 타입 변환하는 함수"
   ]
  },
  {
   "cell_type": "code",
   "execution_count": 7,
   "id": "9c16624e-9fbe-4f1c-8567-0fd321f4ce58",
   "metadata": {},
   "outputs": [
    {
     "name": "stdout",
     "output_type": "stream",
     "text": [
      "하하하\n"
     ]
    }
   ],
   "source": [
    "# 문자열 반복: * 연산자 사용\n",
    "e = '하'\n",
    "print(e*3)"
   ]
  },
  {
   "cell_type": "code",
   "execution_count": 8,
   "id": "d2938bac-0cd2-4025-aa3e-57146130cb7d",
   "metadata": {},
   "outputs": [
    {
     "name": "stdout",
     "output_type": "stream",
     "text": [
      "1.5\n",
      "True\n"
     ]
    }
   ],
   "source": [
    "# 나머지 연산자: %\n",
    "# 배수 구할 때 많이 사용\n",
    "f = 25.5\n",
    "g = 3\n",
    "print(f%g)\n",
    "\n",
    "print(12%4 == 0)"
   ]
  },
  {
   "cell_type": "code",
   "execution_count": 9,
   "id": "baaf603c-f94f-4506-b13c-70d000910077",
   "metadata": {},
   "outputs": [
    {
     "name": "stdout",
     "output_type": "stream",
     "text": [
      "16581.375\n"
     ]
    }
   ],
   "source": [
    "# 거듭제곱 연산자: **\n",
    "print(f**3)"
   ]
  },
  {
   "cell_type": "code",
   "execution_count": 10,
   "id": "dae75d0a-b968-4c6f-836c-bde59a294862",
   "metadata": {},
   "outputs": [
    {
     "name": "stdout",
     "output_type": "stream",
     "text": [
      "6\n",
      "12\n"
     ]
    }
   ],
   "source": [
    "# 단항(대입)연산자\n",
    "a = 5\n",
    "a += 1  # a = a+1\n",
    "print(a)\n",
    "\n",
    "a *= 2  # a = a*2\n",
    "print(a)"
   ]
  },
  {
   "cell_type": "code",
   "execution_count": 11,
   "id": "2c771eff-ce0c-42df-bb39-e5b9cbdf2730",
   "metadata": {},
   "outputs": [
    {
     "name": "stdout",
     "output_type": "stream",
     "text": [
      "False\n",
      "True\n",
      "False\n"
     ]
    }
   ],
   "source": [
    "# 비교 연산자\n",
    "a = 10\n",
    "b = 11\n",
    "print(a==b)\n",
    "print(a!=b)\n",
    "print(a>=b)"
   ]
  },
  {
   "cell_type": "code",
   "execution_count": 12,
   "id": "2546b21a-94e8-483a-b6f9-41108a61aa3b",
   "metadata": {},
   "outputs": [
    {
     "name": "stdout",
     "output_type": "stream",
     "text": [
      "False\n",
      "True\n"
     ]
    }
   ],
   "source": [
    "# 논리 연산자\n",
    "x = True\n",
    "y = False\n",
    "\n",
    "print(x and y)\n",
    "print(x or y)"
   ]
  },
  {
   "cell_type": "markdown",
   "id": "e9503a22-2c37-49af-a56d-e40bf3baef3c",
   "metadata": {},
   "source": [
    "[문제] A회사의 주가가 56,000원이고 B회사의 주가가 125,000원이라고 할 때, 어떤 사람이 A주식 100주와 B주식 35주를 가지고 있다면 그 사람이 가지고 있는 주식의 총액을 계산하는 코드를 변수 선언 및 사용을 이용하여 작성하시오."
   ]
  },
  {
   "cell_type": "code",
   "execution_count": 13,
   "id": "6e1f1a4a-71ef-4cf2-8cac-192c19a12ee9",
   "metadata": {},
   "outputs": [
    {
     "name": "stdout",
     "output_type": "stream",
     "text": [
      "총 주식액: 9,975,000\n"
     ]
    }
   ],
   "source": [
    "A = 56000\n",
    "B = 125000\n",
    "total_money = (A*100)+(B*35)\n",
    "# print('총 주식액: ', total_money)\n",
    "print(f'총 주식액: {total_money:,}')   # formated string, f({변수명: 원하는 포맷})"
   ]
  },
  {
   "cell_type": "markdown",
   "id": "20167386-89f2-4875-a815-862b0bed6d44",
   "metadata": {},
   "source": [
    "[문제] 화씨 온도(F)를 섭씨 온도(C)로 변환하는 다음 공식을 이용하여 화씨 온도가 50도일 때 섭씨 온도를 계산하시오\n",
    "- C = (F-32)/1.8"
   ]
  },
  {
   "cell_type": "code",
   "execution_count": 14,
   "id": "f0fbb1d2-0299-4f2f-b6c3-884ff8a12aed",
   "metadata": {},
   "outputs": [
    {
     "name": "stdout",
     "output_type": "stream",
     "text": [
      "화씨 온도가 50 일 때 섭씨 온도는 10.0 이다.\n",
      "화씨 온도가 50일 때 섭씨 온도는 10.0이다.\n"
     ]
    }
   ],
   "source": [
    "F = 50\n",
    "C = (F-32)/1.8\n",
    "print('화씨 온도가' , F, '일 때 섭씨 온도는', C, '이다.')\n",
    "print(f'화씨 온도가 {F}일 때 섭씨 온도는 {C}이다.')"
   ]
  },
  {
   "cell_type": "markdown",
   "id": "6662cc72-1a83-47cf-a118-312ee6efda44",
   "metadata": {},
   "source": [
    "# 표준 입출력"
   ]
  },
  {
   "cell_type": "code",
   "execution_count": 15,
   "id": "ac87f35d-25c5-4ca6-9c01-ee8cfc734a81",
   "metadata": {},
   "outputs": [
    {
     "ename": "KeyboardInterrupt",
     "evalue": "Interrupted by user",
     "output_type": "error",
     "traceback": [
      "\u001b[1;31m---------------------------------------------------------------------------\u001b[0m",
      "\u001b[1;31mKeyboardInterrupt\u001b[0m                         Traceback (most recent call last)",
      "Cell \u001b[1;32mIn[15], line 1\u001b[0m\n\u001b[1;32m----> 1\u001b[0m a \u001b[38;5;241m=\u001b[39m \u001b[38;5;28mint\u001b[39m(\u001b[38;5;28minput\u001b[39m(\u001b[38;5;124m'\u001b[39m\u001b[38;5;124m밑변을 입력: \u001b[39m\u001b[38;5;124m'\u001b[39m))   \u001b[38;5;66;03m# 입력 받은 값은 문자열 타입으로 반환 -> int함수로 정수형으로 변환\u001b[39;00m\n\u001b[0;32m      2\u001b[0m b \u001b[38;5;241m=\u001b[39m \u001b[38;5;28mint\u001b[39m(\u001b[38;5;28minput\u001b[39m(\u001b[38;5;124m'\u001b[39m\u001b[38;5;124m높이를 입력: \u001b[39m\u001b[38;5;124m'\u001b[39m))\n\u001b[0;32m      3\u001b[0m \u001b[38;5;28mprint\u001b[39m(\u001b[38;5;124m'\u001b[39m\u001b[38;5;124m넓이는: \u001b[39m\u001b[38;5;124m'\u001b[39m,  a\u001b[38;5;241m*\u001b[39mb)\n",
      "File \u001b[1;32m~\\anaconda3\\Lib\\site-packages\\ipykernel\\kernelbase.py:1202\u001b[0m, in \u001b[0;36mKernel.raw_input\u001b[1;34m(self, prompt)\u001b[0m\n\u001b[0;32m   1200\u001b[0m     msg \u001b[38;5;241m=\u001b[39m \u001b[38;5;124m\"\u001b[39m\u001b[38;5;124mraw_input was called, but this frontend does not support input requests.\u001b[39m\u001b[38;5;124m\"\u001b[39m\n\u001b[0;32m   1201\u001b[0m     \u001b[38;5;28;01mraise\u001b[39;00m StdinNotImplementedError(msg)\n\u001b[1;32m-> 1202\u001b[0m \u001b[38;5;28;01mreturn\u001b[39;00m \u001b[38;5;28mself\u001b[39m\u001b[38;5;241m.\u001b[39m_input_request(\n\u001b[0;32m   1203\u001b[0m     \u001b[38;5;28mstr\u001b[39m(prompt),\n\u001b[0;32m   1204\u001b[0m     \u001b[38;5;28mself\u001b[39m\u001b[38;5;241m.\u001b[39m_parent_ident[\u001b[38;5;124m\"\u001b[39m\u001b[38;5;124mshell\u001b[39m\u001b[38;5;124m\"\u001b[39m],\n\u001b[0;32m   1205\u001b[0m     \u001b[38;5;28mself\u001b[39m\u001b[38;5;241m.\u001b[39mget_parent(\u001b[38;5;124m\"\u001b[39m\u001b[38;5;124mshell\u001b[39m\u001b[38;5;124m\"\u001b[39m),\n\u001b[0;32m   1206\u001b[0m     password\u001b[38;5;241m=\u001b[39m\u001b[38;5;28;01mFalse\u001b[39;00m,\n\u001b[0;32m   1207\u001b[0m )\n",
      "File \u001b[1;32m~\\anaconda3\\Lib\\site-packages\\ipykernel\\kernelbase.py:1245\u001b[0m, in \u001b[0;36mKernel._input_request\u001b[1;34m(self, prompt, ident, parent, password)\u001b[0m\n\u001b[0;32m   1242\u001b[0m \u001b[38;5;28;01mexcept\u001b[39;00m \u001b[38;5;167;01mKeyboardInterrupt\u001b[39;00m:\n\u001b[0;32m   1243\u001b[0m     \u001b[38;5;66;03m# re-raise KeyboardInterrupt, to truncate traceback\u001b[39;00m\n\u001b[0;32m   1244\u001b[0m     msg \u001b[38;5;241m=\u001b[39m \u001b[38;5;124m\"\u001b[39m\u001b[38;5;124mInterrupted by user\u001b[39m\u001b[38;5;124m\"\u001b[39m\n\u001b[1;32m-> 1245\u001b[0m     \u001b[38;5;28;01mraise\u001b[39;00m \u001b[38;5;167;01mKeyboardInterrupt\u001b[39;00m(msg) \u001b[38;5;28;01mfrom\u001b[39;00m \u001b[38;5;28;01mNone\u001b[39;00m\n\u001b[0;32m   1246\u001b[0m \u001b[38;5;28;01mexcept\u001b[39;00m \u001b[38;5;167;01mException\u001b[39;00m:\n\u001b[0;32m   1247\u001b[0m     \u001b[38;5;28mself\u001b[39m\u001b[38;5;241m.\u001b[39mlog\u001b[38;5;241m.\u001b[39mwarning(\u001b[38;5;124m\"\u001b[39m\u001b[38;5;124mInvalid Message:\u001b[39m\u001b[38;5;124m\"\u001b[39m, exc_info\u001b[38;5;241m=\u001b[39m\u001b[38;5;28;01mTrue\u001b[39;00m)\n",
      "\u001b[1;31mKeyboardInterrupt\u001b[0m: Interrupted by user"
     ]
    }
   ],
   "source": [
    "a = int(input('밑변을 입력: '))   # 입력 받은 값은 문자열 타입으로 반환 -> int함수로 정수형으로 변환\n",
    "b = int(input('높이를 입력: '))\n",
    "print('넓이는: ',  a*b)"
   ]
  },
  {
   "cell_type": "code",
   "execution_count": null,
   "id": "9e2b1750-c2d2-4b75-b061-3ad41e75d966",
   "metadata": {},
   "outputs": [],
   "source": [
    "a = 10\n",
    "b = 20\n",
    "\n",
    "print(a,b)\n",
    "print(a, b, sep = ',')   # 데이터들 구분자\n",
    "print(a, end=' ')        # 마지막에 추가되는 문자열\n",
    "print(b)"
   ]
  },
  {
   "cell_type": "markdown",
   "id": "adffc1df-d3ba-44c9-9fd9-8bb2a4135532",
   "metadata": {},
   "source": [
    "# 제어문"
   ]
  },
  {
   "cell_type": "code",
   "execution_count": null,
   "id": "6cb38acd-6b2a-437d-8713-41bed93648e2",
   "metadata": {},
   "outputs": [],
   "source": [
    "score = float(input('성적 입력: '))\n",
    "\n",
    "if score >= 90:\n",
    "    print('합격')\n",
    "elif 70<=score<90:\n",
    "    print('재시험')\n",
    "else:\n",
    "    print('탈락')"
   ]
  },
  {
   "cell_type": "code",
   "execution_count": null,
   "id": "9b40c6eb-bea0-453e-b8e2-d8c6953586f3",
   "metadata": {},
   "outputs": [],
   "source": [
    "notEmptyString = 'test'\n",
    "\n",
    "if notEmptyString:\n",
    "    print('문자열이 비어있지 않습니다.')\n",
    "else:\n",
    "    print('문자열이 비어있습니다.')"
   ]
  },
  {
   "cell_type": "code",
   "execution_count": null,
   "id": "fc68a3a4-638e-4808-8363-b221e9f999a6",
   "metadata": {},
   "outputs": [],
   "source": [
    "i = 10\n",
    "\n",
    "#if i % 2 == 0:\n",
    "if not i % 2:     # i%2의 값이 0이면 False이기 때문에 not을 붙여서 True로 반전\n",
    "    print('짝수')\n",
    "else:\n",
    "    print('홀수')"
   ]
  },
  {
   "cell_type": "markdown",
   "id": "c253f7e9-1ad7-48ac-9e21-38df5e2b464d",
   "metadata": {},
   "source": [
    "[문제] 정수 하나를 입력받아 5의 배수인지 조사하여 그 결과를 출력하세요."
   ]
  },
  {
   "cell_type": "code",
   "execution_count": null,
   "id": "f56520fe-2c90-4353-9102-ee270cf13e84",
   "metadata": {},
   "outputs": [],
   "source": [
    "number = int(input('정수 입력: '))\n",
    "\n",
    "if number % 5 == 0:\n",
    "    print(f'{number}는 5의 배수입니다.')\n",
    "else:\n",
    "    print(f'{number}는 5의 배수가 아닙니다.')"
   ]
  },
  {
   "cell_type": "markdown",
   "id": "15307d8d-52c0-41dc-ac06-2296ddc7728b",
   "metadata": {},
   "source": [
    "[문제] 화폐단위 계산\n",
    "<pre>\n",
    "    사용자로부터 금액을 입력받아 화폐의 개수를 출력하는 프로그램을 작성하세요.\n",
    "    조건) 화폐의 종류: 만원, 천원, 백원, 십원(일원 단위는 절사)\n",
    "\n",
    "    <실행 예>\n",
    "        금액을 입력하세요: 45630\n",
    "        만원: 4개\n",
    "        천원: 5개\n",
    "        백원: 6개\n",
    "        십원: 3개\n",
    "</pre>"
   ]
  },
  {
   "cell_type": "code",
   "execution_count": null,
   "id": "716551e1-55db-49c9-aafc-7ae0f196a72f",
   "metadata": {},
   "outputs": [],
   "source": [
    "# 오답\n",
    "totalMoney = int(input('금액을 입력하세요: '))\n",
    "\n",
    "total10000 = totalMoney//10000 \n",
    "total1000 = (totalMoney-total10000)//1000\n",
    "total100 = (total10000-total1000)//100\n",
    "total10 = (total1000-total100)//10\n",
    "\n",
    "print('만원 : ', total10000)\n",
    "print('천원 : ', total1000)\n",
    "print('백원 : ', total100)\n",
    "print('십원 : ', total10)"
   ]
  },
  {
   "cell_type": "code",
   "execution_count": null,
   "id": "97cfbb4d-32ba-46ac-b7e3-f6d2524738a2",
   "metadata": {},
   "outputs": [],
   "source": [
    "money = int(input('금액을 입력하세요: '))\n",
    "만원 = money // 10000\n",
    "천원 = (money - 만원*10000) // 1000\n",
    "백원 = (money - 만원*10000 - 천원*1000)//100\n",
    "십원 = (money - 만원*10000 - 천원*1000 - 백원*100)//10\n",
    "\n",
    "print(f'만원: {만원}개')\n",
    "print(f'천원: {천원}개')\n",
    "print(f'백원: {백원}개')\n",
    "print(f'십원: {십원}개')"
   ]
  },
  {
   "cell_type": "code",
   "execution_count": null,
   "id": "8bafa4ff-3fdc-4b99-80cd-e03ab6711b89",
   "metadata": {},
   "outputs": [],
   "source": [
    "money = int(input('금액을 입력하세요: '))\n",
    "만원 = money // 10000\n",
    "천원 = (money % 10000)//1000\n",
    "백원 = (money % 1000)//100\n",
    "십원 = (money % 100)//10\n",
    "\n",
    "print(f'만원: {만원}개')\n",
    "print(f'천원: {천원}개')\n",
    "print(f'백원: {백원}개')\n",
    "print(f'십원: {십원}개')"
   ]
  },
  {
   "cell_type": "markdown",
   "id": "d40bb059-4473-4061-a473-dd84b808416e",
   "metadata": {},
   "source": [
    "## 삼항 연산자\n",
    "- True일 때 실행될 문장 if 조건식 else False일 때 실행될 문장"
   ]
  },
  {
   "cell_type": "code",
   "execution_count": null,
   "id": "277b9423-50e2-4111-a06f-6709c0b07d61",
   "metadata": {},
   "outputs": [],
   "source": [
    "a = 10\n",
    "b = 20\n",
    "result = 'a와 b는 같지 않다' if a != b else 'a와 b는 같다'\n",
    "print(result)"
   ]
  },
  {
   "cell_type": "markdown",
   "id": "0bad7bfd-58d9-48d6-8669-633ba94743ba",
   "metadata": {},
   "source": [
    "[문제] 대도시 여부 판단\n",
    "[판단 조건] 수도이면서 인구가 100만 이상인 도시\n",
    "또는, 부자가 20만 이상인 도시\n",
    "[실행 예시]\n",
    "수도입니까? (수도: 1,  수도아님: 0) 1\n",
    "인구(단위:만)? 150\n",
    "부자의 수(단위: 만)? 10\n",
    "대도시 여부: True\n",
    "[실행 예시]\n",
    "수도입니까? (수도: 1,  수도아님: 0) 0\n",
    "인구(단위:만)? 90\n",
    "부자의 수(단위: 만)? 30\n",
    "대도시 여부: True"
   ]
  },
  {
   "cell_type": "code",
   "execution_count": null,
   "id": "de63ae48-4d97-445b-a43e-e9c1a2a51e5f",
   "metadata": {},
   "outputs": [],
   "source": [
    "수도 = input('수도입니까? ')\n",
    "인구 = int(input('인구(단위:만)? '))\n",
    "부자 = int(input('부자의 수(단위:만)? '))\n",
    "\n",
    "result = True if (수도 == '1' and 인구 >= 100) or 부자 >= 20 else False\n",
    "print('대도시 여부: ', result)"
   ]
  },
  {
   "cell_type": "markdown",
   "id": "b2683607-33f1-4a99-b334-dd4831a3b79c",
   "metadata": {},
   "source": [
    "# 반복문"
   ]
  },
  {
   "cell_type": "markdown",
   "id": "f1f0cf41-fbf8-4e7f-ada3-6e088ebab253",
   "metadata": {},
   "source": [
    "## while 문"
   ]
  },
  {
   "cell_type": "code",
   "execution_count": null,
   "id": "8e16f367-ec39-455c-80f5-1d8f7a139938",
   "metadata": {},
   "outputs": [],
   "source": [
    "c = 1\n",
    "while c <= 5:\n",
    "    print(c, end=' ')\n",
    "    c += 1\n",
    "print('End')"
   ]
  },
  {
   "cell_type": "code",
   "execution_count": null,
   "id": "dd3770cb-35ef-4557-bf7d-d7b8138b93be",
   "metadata": {},
   "outputs": [],
   "source": [
    "sum = 0\n",
    "for i in range(1, 11):\n",
    "    sum += i\n",
    "print(sum)"
   ]
  },
  {
   "cell_type": "markdown",
   "id": "ef1f68ff-6a04-4575-93e7-04a776712f40",
   "metadata": {},
   "source": [
    "[문제] 1~100 사이의 값 중 짝수의 합을 구하는 코드를 작성하세요"
   ]
  },
  {
   "cell_type": "code",
   "execution_count": null,
   "id": "b3942278-10f9-4ecb-83f3-fba4188c2fed",
   "metadata": {},
   "outputs": [],
   "source": [
    "sum = 0\n",
    "for i in range(1, 101):\n",
    "    if not i % 2:\n",
    "        sum += i\n",
    "print(sum)"
   ]
  },
  {
   "cell_type": "code",
   "execution_count": null,
   "id": "38489f5a-53d4-43dd-9241-f04036422c0b",
   "metadata": {},
   "outputs": [],
   "source": [
    "# continue 이용,  **들여쓰기 지키기\n",
    "sum = 0\n",
    "for i in range(1, 101):\n",
    "    if i % 2:        # i가 2로 나누어 떨어진 것이 True라면, 즉 0이 아니라면, 즉 홀수라면 밑의 문장 실행하지 않고 다음 반복으로 넘어감\n",
    "        continue\n",
    "    sum += i\n",
    "print(sum)"
   ]
  },
  {
   "cell_type": "code",
   "execution_count": null,
   "id": "dc65082a-b9da-44a5-8da2-62157e0fd1a4",
   "metadata": {},
   "outputs": [],
   "source": [
    "# break 이용\n",
    "while True:\n",
    "    s = input('영어 단어를 입력하세요(종료:q): ')\n",
    "    if s == 'q': break  # 조건 충족 시 반복 종료\n",
    "    print(s)\n",
    "print('End')"
   ]
  },
  {
   "cell_type": "code",
   "execution_count": 73,
   "id": "0ff3af1c-4d54-4be6-a3cb-a7267faa100c",
   "metadata": {},
   "outputs": [
    {
     "name": "stdout",
     "output_type": "stream",
     "text": [
      "a,b,c,d,e,f\n"
     ]
    }
   ],
   "source": [
    "for s in 'abcdef':        # 문자열데이터 문자 하나씩 뽑기\n",
    "    print(s, end=',')\n",
    "print('\\b')               # backspace, 마지막 , 지우기"
   ]
  },
  {
   "cell_type": "code",
   "execution_count": 59,
   "id": "8d72879a-26ac-45ca-bd1d-2ee2d3b11181",
   "metadata": {},
   "outputs": [
    {
     "name": "stdout",
     "output_type": "stream",
     "text": [
      "[3, 6, 9, 12]\n"
     ]
    }
   ],
   "source": [
    "a = [1,2,3,4]    # a는 list 객체 (list: 동일한 데이터 타입의 집합)\n",
    "result = []\n",
    "for i in a:      # 리스트의 값을 순회하면서 반복 실행\n",
    "    result.append(i*3)  # append() 리스트 객체에 요소 값을 추가하는 함수\n",
    "print(result)"
   ]
  },
  {
   "cell_type": "code",
   "execution_count": null,
   "id": "10d1c247-acca-479c-aa1a-b9d129d78f15",
   "metadata": {},
   "outputs": [],
   "source": [
    "# list comprehension\n",
    "a = [1,2,3,4]\n",
    "result = [ i*3 for i in a ]      # [처리해야할 수식 for문]\n",
    "print(result)"
   ]
  },
  {
   "cell_type": "code",
   "execution_count": 60,
   "id": "66bde812-7965-445a-bcb2-414e72206330",
   "metadata": {},
   "outputs": [
    {
     "name": "stdout",
     "output_type": "stream",
     "text": [
      "[6, 12]\n"
     ]
    }
   ],
   "source": [
    "a = [1,2,3,4]\n",
    "result = [ i*3 for i in a if i%2 == 0]   # [처리해야할 수식 for문 조건식], 짝수만 3배수해서 리스트 넣기\n",
    "print(result)"
   ]
  },
  {
   "cell_type": "code",
   "execution_count": null,
   "id": "89548d95-0501-4828-82e7-9474de39c5c7",
   "metadata": {},
   "outputs": [],
   "source": [
    "a = [1,2,3,4]\n",
    "result = [ i*3 if i%2 == 0 else i for i in a]   #[삼항연산자 for문], 홀수는 그대로 짝수는 3배수해서 넣기"
   ]
  },
  {
   "cell_type": "markdown",
   "id": "e6d9c6a0-e2be-43fc-90ef-1b1ccddb2390",
   "metadata": {},
   "source": [
    "## for ~ else 문\n",
    "- while ~ else / for ~ else: 반복문이 break 등으로 중간에 빠져나오지 않고 끝까지 실행됐을 경우 else문이 실행된다."
   ]
  },
  {
   "cell_type": "code",
   "execution_count": null,
   "id": "b5fbe2a6-0536-4173-ab33-afecc876a8bf",
   "metadata": {},
   "outputs": [],
   "source": [
    "key_word = input('검색 단어를 입력하세요: ')\n",
    "word_list = ['java', 'python', 'C++', 'pascal']\n",
    "find = False   # flag 변수\n",
    "for w in word_list:\n",
    "    if key_word == w:\n",
    "        print('검색결과: ', w)\n",
    "        find = True    # flag 변수 값이 바뀌면 break, 변화 발생을 기록하는 용도, 변수 이름, 값 상관없음\n",
    "        break\n",
    "if not find: print('검색 결과가 없습니다.')"
   ]
  },
  {
   "cell_type": "code",
   "execution_count": 2,
   "id": "470e1933-0e30-4518-a4d7-7e20a8f362ee",
   "metadata": {},
   "outputs": [
    {
     "name": "stdin",
     "output_type": "stream",
     "text": [
      "검색 단어를 입력하세요:  C\n"
     ]
    },
    {
     "name": "stdout",
     "output_type": "stream",
     "text": [
      "검색 결과가 없습니다.\n"
     ]
    }
   ],
   "source": [
    "key_word = input('검색 단어를 입력하세요: ')\n",
    "word_list = ['java', 'python', 'C++', 'pascal']\n",
    "for w in word_list:\n",
    "    if key_word == w:\n",
    "        print('검색결과: ', )w\n",
    "        break\n",
    "else: print('검색 결과가 없습니다.')"
   ]
  },
  {
   "cell_type": "markdown",
   "id": "3367a1f1-1821-4f97-834d-c46d5a7b661a",
   "metadata": {},
   "source": [
    "[문제] for문과 문자열 반복을 이용하여 다음 문자열이 출력되는 프로그램을 작성하시오.\n",
    "<pre>\n",
    "---------+---------+---------+---------+---------+\n",
    "</pre>"
   ]
  },
  {
   "cell_type": "code",
   "execution_count": null,
   "id": "f4f90d81-8344-4c36-a18a-2e073d8f8bee",
   "metadata": {},
   "outputs": [],
   "source": [
    "for i in range(1,6):\n",
    "    i = ('-'*9)+ '+'\n",
    "    print(i, end='')"
   ]
  },
  {
   "cell_type": "code",
   "execution_count": null,
   "id": "6d46dac9-ad62-4774-8290-db2a098d1f7a",
   "metadata": {},
   "outputs": [],
   "source": [
    "# answer\n",
    "for i in range(5):\n",
    "    print('-'*9, end='')\n",
    "    print('+', end='')"
   ]
  },
  {
   "cell_type": "markdown",
   "id": "6738e31c-f7a4-4d92-9495-57d74e6439b4",
   "metadata": {},
   "source": [
    "[문제] 입력받은 단의 구구단을 출력하는 프로그램을 작성하시오. \n",
    "<pre>\n",
    "    단을 입력하세요: 3\n",
    "    3 x 1 = 3\n",
    "    3 x 2 = 6\n",
    "</pre>"
   ]
  },
  {
   "cell_type": "code",
   "execution_count": null,
   "id": "5987c8b3-580e-4e44-b9a6-41cda1023484",
   "metadata": {},
   "outputs": [],
   "source": [
    "dan = int(input('단을 입력하세요: '))\n",
    "for i in range(1,10):\n",
    "    print(dan, 'x', i, '=', dan*i)\n",
    "    #print(f'{dan} x {i} = {dan*i}')"
   ]
  },
  {
   "cell_type": "markdown",
   "id": "bca2e8fe-87ca-4712-ba7f-dda3e0c0bfde",
   "metadata": {},
   "source": [
    "[문제] 정수를 입력받아 1부터 입력받은 정수까지의 합을 구하여 출력하는 프로그램을 작성하세요.\n",
    "단, while문 이용할 것 "
   ]
  },
  {
   "cell_type": "code",
   "execution_count": 62,
   "id": "9b7f7e70-5ce7-42e8-9e09-7989ab5bce31",
   "metadata": {},
   "outputs": [
    {
     "ename": "IndentationError",
     "evalue": "unindent does not match any outer indentation level (<tokenize>, line 5)",
     "output_type": "error",
     "traceback": [
      "\u001b[1;36m  File \u001b[1;32m<tokenize>:5\u001b[1;36m\u001b[0m\n\u001b[1;33m    if sum + i:\u001b[0m\n\u001b[1;37m    ^\u001b[0m\n\u001b[1;31mIndentationError\u001b[0m\u001b[1;31m:\u001b[0m unindent does not match any outer indentation level\n"
     ]
    }
   ],
   "source": [
    "i = int(input('정수를 입력하세요: '))\n",
    "sum = 0\n",
    "while i == True:\n",
    "     sum += i\n",
    "    if sum + i: \n",
    "        break\n",
    "    print(sum)"
   ]
  },
  {
   "cell_type": "code",
   "execution_count": null,
   "id": "d218584f-0e9f-4bb7-9768-3dbc16df45c8",
   "metadata": {},
   "outputs": [],
   "source": [
    "# answer\n",
    "num = int(input('정수 입력: '))\n",
    "cnt = 0   # 반복 횟수 *****, 입력받은 숫자만큼 반복하며 합함\n",
    "sum = 0   # 전체 합계를 저장 *****\n",
    "while cnt < num:   # 입력받은 숫자보다 작을 때까지\n",
    "    cnt += 1\n",
    "    sum += cnt\n",
    "print(f'1에서부터 {num}까지의 합: {sum}')"
   ]
  },
  {
   "cell_type": "markdown",
   "id": "7ae5a25f-0955-4708-a4ad-c8db0217cecb",
   "metadata": {},
   "source": [
    "[문제] 연도를 입력받아 윤년인지 평년인지를 판단하는 프로그램을 작성하세요.\n",
    "<pre>\n",
    "    - 프로그램은 반복적으로 수행되며 0을 입력 받으면 프로그램을 종료한다.\n",
    "    - 윤년의 조건: 4로 나누어 떨어지고 100으로 나누어 떨어지지 않는 해, 또는 400으로 나누어 떨어지는 해\n",
    "[실행 예]\n",
    "연도를 입력하세요(종료: 0): 2020\n",
    "2020년은 윤년입니다.\n",
    "\n",
    "연도를 입력하세요(종료: 0): 2021\n",
    "2021년은 평년입니다.\n",
    "</pre>"
   ]
  },
  {
   "cell_type": "code",
   "execution_count": 27,
   "id": "0621d95c-decb-422d-822a-a1bb68120112",
   "metadata": {},
   "outputs": [
    {
     "name": "stdin",
     "output_type": "stream",
     "text": [
      "연도를 입력하세요(종료:0):  2024\n"
     ]
    },
    {
     "name": "stdout",
     "output_type": "stream",
     "text": [
      "2024년은 윤년입니다.\n"
     ]
    },
    {
     "name": "stdin",
     "output_type": "stream",
     "text": [
      "연도를 입력하세요(종료:0):  0\n"
     ]
    }
   ],
   "source": [
    "while True:\n",
    "    year = int(input('연도를 입력하세요(종료:0): '))\n",
    "    if year == 0: break\n",
    "    elif (year%4 == 0 and year%100 != 100)or(year%400 == 0):\n",
    "        print(f'{year}년은 윤년입니다.')\n",
    "    else:\n",
    "        print(f'{year}년은 평년입니다.')"
   ]
  },
  {
   "cell_type": "code",
   "execution_count": 18,
   "id": "17668206-ba62-4929-ba7a-65a092774fb0",
   "metadata": {},
   "outputs": [
    {
     "name": "stdin",
     "output_type": "stream",
     "text": [
      "연도를 입력하세요(종료:0):  2023\n"
     ]
    },
    {
     "name": "stdout",
     "output_type": "stream",
     "text": [
      "2023년은 평년입니다.\n"
     ]
    },
    {
     "name": "stdin",
     "output_type": "stream",
     "text": [
      "연도를 입력하세요(종료:0):  2024\n"
     ]
    },
    {
     "name": "stdout",
     "output_type": "stream",
     "text": [
      "2024년은 윤년입니다.\n"
     ]
    },
    {
     "name": "stdin",
     "output_type": "stream",
     "text": [
      "연도를 입력하세요(종료:0):  0\n"
     ]
    }
   ],
   "source": [
    "# answer\n",
    "while True:\n",
    "    year = int(input('연도를 입력하세요(종료:0): '))\n",
    "    if year == 0: break\n",
    "    result = '윤년' if(year % 4 == 0 and year % 100 != 0)or year % 400 == 0 else '평년'   # 삼항연산자\n",
    "    print(f'{year}년은 {result}입니다.')"
   ]
  },
  {
   "cell_type": "markdown",
   "id": "39429146-f1cf-4c0e-916a-8a4ed00c4b14",
   "metadata": {},
   "source": [
    "[문제] BMI 측정 프로그램\n",
    "<pre>\n",
    "    키와 몸무게를 입력받아 BMI 측정 결과를 출력하는 프로그램을 작성하세요.\n",
    "    [실행 예]\n",
    "    키를 입력하세요(cm): 170\n",
    "    몸무게를 입력하세요(kg): 85\n",
    "    당신의 BMI는 비만 1단계 입니다.\n",
    "\n",
    "    [BMI 계산식]\n",
    "    BMI = 몸무게(kg) / (키(m)의 제곱)\n",
    "    18.5 미만: 저체중\n",
    "    18.5 ~ 22.9: 정상 체중\n",
    "    23 ~ 29.9: 비만 1단계\n",
    "    29.9 초과: 비만 2단계\n",
    "</pre>"
   ]
  },
  {
   "cell_type": "code",
   "execution_count": 25,
   "id": "d0e53c10-0f0f-49ce-9453-c04274748df6",
   "metadata": {},
   "outputs": [
    {
     "name": "stdin",
     "output_type": "stream",
     "text": [
      "키를 입력하세요(cm):  170\n",
      "몸무게를 입력하세요(kg):  63\n"
     ]
    },
    {
     "name": "stdout",
     "output_type": "stream",
     "text": [
      "당신의 BMI는 정상 체중입니다.\n"
     ]
    }
   ],
   "source": [
    "height = float(input('키를 입력하세요(cm): '))\n",
    "weight = float(input('몸무게를 입력하세요(kg): '))\n",
    "BMI = weight / ((height*0.01)**2)\n",
    "if BMI < 18.5:\n",
    "    print(f'당신의 BMI는 저체중입니다.')\n",
    "elif 18.5 <= BMI <= 22.9:\n",
    "    print(f'당신의 BMI는 정상 체중입니다.')\n",
    "elif 23 <= BMI <= 29.9:\n",
    "    print(f'당신의 BMI는 비만 1단계입니다.')\n",
    "else:\n",
    "    print(f'당신의 BMI는 비만 2단계입니다.')"
   ]
  },
  {
   "cell_type": "code",
   "execution_count": 28,
   "id": "4fa4f87a-5b01-4081-9cbe-461a3ee67aa3",
   "metadata": {},
   "outputs": [
    {
     "name": "stdin",
     "output_type": "stream",
     "text": [
      "키를 입력하세요(cm):  168\n",
      "몸무게를 입력하세요(kg):  55\n"
     ]
    },
    {
     "name": "stdout",
     "output_type": "stream",
     "text": [
      "당신의 BMI는 정상체중입니다.\n"
     ]
    }
   ],
   "source": [
    "# answer\n",
    "height = float(input('키를 입력하세요(cm): '))\n",
    "weight = float(input('몸무게를 입력하세요(kg): '))\n",
    "bmi = weight / ((height*0.01)**2)\n",
    "result = ''\n",
    "if bmi < 18.5:\n",
    "    result = '저체중'\n",
    "elif 18.5 <= bmi <= 22.9:\n",
    "    result = '정상체중'\n",
    "elif 22.9 < bmi <= 29.9:\n",
    "    result = '비만 1단계'\n",
    "else:\n",
    "    result = '비만 2단계'\n",
    "print(f'당신의 BMI는 {result}입니다.')"
   ]
  },
  {
   "cell_type": "markdown",
   "id": "ab72af1d-06ea-430c-bfde-2b766eafec96",
   "metadata": {},
   "source": [
    "# 문자열 처리"
   ]
  },
  {
   "cell_type": "code",
   "execution_count": 1,
   "id": "45ad4abd-2c91-4ee0-8e7a-df080791a708",
   "metadata": {},
   "outputs": [
    {
     "name": "stdout",
     "output_type": "stream",
     "text": [
      "학교종이 땡땡땡\n",
      "학\n",
      "땡\n"
     ]
    }
   ],
   "source": [
    "mystr = '학교종이 땡땡땡'\n",
    "print(mystr)\n",
    "print(mystr[0])\n",
    "print(mystr[-1])\n",
    "# mystr[1] = '원'    # 문자열 값은 변경 불가능(immutable), error"
   ]
  },
  {
   "cell_type": "code",
   "execution_count": 33,
   "id": "990a323f-0d7e-41ff-8d78-b3db73bf79f8",
   "metadata": {},
   "outputs": [
    {
     "name": "stdout",
     "output_type": "stream",
     "text": [
      "동해물과 백두산이 마르고 닳도록\n",
      "하느님이 보우하사 우리나라 만세\n",
      "무궁화 삼천리 화려강산\n",
      "대한사람 대한으로 길이 보전하세\n"
     ]
    }
   ],
   "source": [
    "# 여러 줄로 문자열 선언\n",
    "mystr = '''동해물과 백두산이 마르고 닳도록\n",
    "하느님이 보우하사 우리나라 만세\n",
    "무궁화 삼천리 화려강산\n",
    "대한사람 대한으로 길이 보전하세'''\n",
    "print(mystr)"
   ]
  },
  {
   "cell_type": "code",
   "execution_count": 37,
   "id": "647feacb-503b-425a-9c63-c6d0d96c6d7b",
   "metadata": {},
   "outputs": [
    {
     "name": "stdout",
     "output_type": "stream",
     "text": [
      "I say \"hello\" to you\n",
      "I say \"Hello\" to you\n",
      "철수\t영희\n",
      "철수\n",
      "영희\n"
     ]
    }
   ],
   "source": [
    "hello = 'I say \"hello\" to you'\n",
    "print(hello)\n",
    "\n",
    "hello2 = \"I say \\\"Hello\\\" to you\"    # \\ 사용\n",
    "print(hello2)\n",
    "\n",
    "print('철수\\t영희')  # 가로 탭 사용 \n",
    "print('철수\\n영희')  # 줄바꿈 사용"
   ]
  },
  {
   "cell_type": "markdown",
   "id": "847fcb83-73e4-4377-ad34-0d8637976c65",
   "metadata": {},
   "source": [
    "[문제] 파일 이름 슬라이싱\n",
    "<pre>\n",
    "    - 파일 이름: 20231018-123920.jpg\n",
    "    [출력 결과]\n",
    "    촬영 날짜: 2023년 10월 18일\n",
    "    촬영 시간: 12시 39분\n",
    "    확장자: jpg\n",
    "</pre>"
   ]
  },
  {
   "cell_type": "code",
   "execution_count": 2,
   "id": "3459501e-b59f-417f-b1bf-fec2764c2ced",
   "metadata": {},
   "outputs": [
    {
     "name": "stdout",
     "output_type": "stream",
     "text": [
      "촬영 날짜:  2023 년 10 월 18 일\n",
      "촬영 시간:  12 시 39 분\n",
      "확장자:  jpg\n"
     ]
    }
   ],
   "source": [
    "file = '20231018-123920.jpg'\n",
    "\n",
    "print('촬영 날짜: ', file[:4],'년',file[4:6],'월',file[6:8],'일')\n",
    "print('촬영 시간: ', file[9:11],'시',file[11:13],'분')\n",
    "print('확장자: ', file[16:19])\n"
   ]
  },
  {
   "cell_type": "code",
   "execution_count": 3,
   "id": "f4169121-fc3c-49d6-b58c-529d84475a17",
   "metadata": {},
   "outputs": [
    {
     "name": "stdout",
     "output_type": "stream",
     "text": [
      "촬영날짜: 2023년 10월 18일\n",
      "촬영시간: 12시 39분\n",
      "확장자: j\n"
     ]
    }
   ],
   "source": [
    "# answer\n",
    "file = '20231018-123920.jpg'\n",
    "print(f'촬영날짜: {file[:4]}년 {file[4:6]}월 {file[6:8]}일')\n",
    "print(f'촬영시간: {file[9:11]}시 {file[11:13]}분')\n",
    "print(f'확장자: {file[-3]}')"
   ]
  },
  {
   "cell_type": "code",
   "execution_count": 4,
   "id": "1251b45f-c11a-455c-bb4b-e41a01ad3cfe",
   "metadata": {},
   "outputs": [
    {
     "name": "stdout",
     "output_type": "stream",
     "text": [
      "olleh\n"
     ]
    }
   ],
   "source": [
    "# 문자열 뒤집기\n",
    "str = 'hello'\n",
    "print(str[::-1])   # step 자리에 -1: 뒤부터 step "
   ]
  },
  {
   "cell_type": "markdown",
   "id": "42e57d17-d995-4981-8af6-aac0c06e2170",
   "metadata": {},
   "source": [
    "## 문자열 함수"
   ]
  },
  {
   "cell_type": "code",
   "execution_count": 6,
   "id": "766b6736-2692-479e-9831-7b1ab559de94",
   "metadata": {},
   "outputs": [
    {
     "name": "stdout",
     "output_type": "stream",
     "text": [
      "9\n",
      "65\n"
     ]
    }
   ],
   "source": [
    "s = '''생각이란 생각할수록 생각나므로 \n",
    "생각하지 말아야 할 생각은 생각하지 않으려고 하는 생각이\n",
    "옳은 생각이라고 생각합니다.'''\n",
    "print(s.count('생각'))   # 객체변수.함수명(), 문자열 객체가 가지고 있는 함수 호출\n",
    "print(len(s))     # 내장 함수 호출"
   ]
  },
  {
   "cell_type": "code",
   "execution_count": 8,
   "id": "71cb94fa-daf1-4b2d-ba5f-f4fa30ec8404",
   "metadata": {},
   "outputs": [
    {
     "name": "stdout",
     "output_type": "stream",
     "text": [
      "True\n",
      "False\n"
     ]
    }
   ],
   "source": [
    "s = 'Python programming'\n",
    "print('a' in s)\n",
    "print('z' in s)"
   ]
  },
  {
   "cell_type": "code",
   "execution_count": 10,
   "id": "de2aa168-89f8-4b2f-9e88-f34c0b5b0e83",
   "metadata": {},
   "outputs": [
    {
     "name": "stdout",
     "output_type": "stream",
     "text": [
      "['짜장', '짬뽕', '탕수육']\n",
      "['서울', '대전', '대구', '부산']\n"
     ]
    }
   ],
   "source": [
    "s = '짜장 짬뽕 탕수육'\n",
    "print(s.split())        # list로 결과 반환\n",
    "\n",
    "s2 = '서울->대전->대구->부산'\n",
    "print(s2.split('->'))"
   ]
  },
  {
   "cell_type": "code",
   "execution_count": 11,
   "id": "8b3ea3e1-d42d-44c4-aafa-5d1d4699a82f",
   "metadata": {},
   "outputs": [
    {
     "name": "stdout",
     "output_type": "stream",
     "text": [
      "서울,대전,대구,부산\n"
     ]
    }
   ],
   "source": [
    "city_list = ['서울', '대전', '대구', '부산']\n",
    "city_string = ','.join(city_list)     # 구분자.join(결합할 문자열 리스트)\n",
    "print(city_string)"
   ]
  },
  {
   "cell_type": "code",
   "execution_count": 12,
   "id": "2299bff3-f17c-4bad-87dd-3372bf449626",
   "metadata": {},
   "outputs": [
    {
     "name": "stdout",
     "output_type": "stream",
     "text": [
      "대-한-민-국\n"
     ]
    }
   ],
   "source": [
    "s = '대한민국'\n",
    "print('-'.join(s))"
   ]
  },
  {
   "cell_type": "markdown",
   "id": "1ffbdab9-d9f0-486d-a1d1-0de11f77361a",
   "metadata": {},
   "source": [
    "## 문자열 대입"
   ]
  },
  {
   "cell_type": "code",
   "execution_count": 15,
   "id": "0f06568c-a337-4b01-90bc-33b85510a052",
   "metadata": {},
   "outputs": [
    {
     "name": "stdout",
     "output_type": "stream",
     "text": [
      "I eat 3 apples\n",
      "I eat five apples\n",
      "I eat 95% apples\n"
     ]
    }
   ],
   "source": [
    "print('I eat %d apples'%3)\n",
    "print('I eat %s apples'%'five')\n",
    "print('I eat %d%% apples'%95)    # 문자열 대입에서 % 포함"
   ]
  },
  {
   "cell_type": "code",
   "execution_count": 16,
   "id": "304e19bf-c782-43c5-8a68-80fed2fca426",
   "metadata": {},
   "outputs": [
    {
     "name": "stdout",
     "output_type": "stream",
     "text": [
      "8월 15일은 광복절이다.\n"
     ]
    }
   ],
   "source": [
    "month = 8\n",
    "day = 15\n",
    "anni = '광복절'\n",
    "print('%d월 %d일은 %s이다.'%(month, day, anni))"
   ]
  },
  {
   "cell_type": "code",
   "execution_count": 18,
   "id": "e7a1d8eb-171d-486a-9de9-5b6ef987af78",
   "metadata": {},
   "outputs": [
    {
     "name": "stdout",
     "output_type": "stream",
     "text": [
      "나는 사과 4개를 먹고 삼일동안 아팠다.\n"
     ]
    }
   ],
   "source": [
    "num = 4\n",
    "day = '삼'\n",
    "s = '나는 사과 {}개를 먹고 {}일동안 아팠다.'.format(num, day)\n",
    "print(s)"
   ]
  },
  {
   "cell_type": "code",
   "execution_count": 19,
   "id": "8aac0122-49d3-45ba-88d5-6221386b379c",
   "metadata": {},
   "outputs": [
    {
     "name": "stdout",
     "output_type": "stream",
     "text": [
      "나는 사과 삼개를 먹고 4일동안 아팠다.\n"
     ]
    }
   ],
   "source": [
    "num = 4\n",
    "day = '삼'\n",
    "s = '나는 사과 {1}개를 먹고 {0}일동안 아팠다.'.format(num, day)   # 숫자를 써 넣으면 지정된 위치의 변수값 도출\n",
    "print(s)"
   ]
  },
  {
   "cell_type": "code",
   "execution_count": 20,
   "id": "b7dbed0a-5597-4287-8126-3c39ee121e13",
   "metadata": {},
   "outputs": [
    {
     "name": "stdout",
     "output_type": "stream",
     "text": [
      "나는 사과 3개를 먹고 7일동안 아팠다.\n"
     ]
    }
   ],
   "source": [
    "s = '나는 사과 {num}개를 먹고 {day}일동안 아팠다.'.format(day=7, num=3) # format함수에 변수명 지정, {}안에 변수명 넣기\n",
    "print(s)"
   ]
  },
  {
   "cell_type": "markdown",
   "id": "ec9ab99a-9c80-4e4a-a735-1e71ff52ffb7",
   "metadata": {},
   "source": [
    "[문제] 주민등록번호 분석하기\n",
    "- 임의의 주민등록번호를 입력받아 다음과 같이 생년과 성별을 추출하는 프로그램을 작성하세요\n",
    "- (입력) 881231-1234567\n",
    "- (출력) 88년생 남자"
   ]
  },
  {
   "cell_type": "code",
   "execution_count": 40,
   "id": "78d9168f-4b4c-49ea-849f-7ddae7dd6820",
   "metadata": {},
   "outputs": [
    {
     "name": "stdin",
     "output_type": "stream",
     "text": [
      "주민등록번호를 입력하세요:  001010-4543321\n"
     ]
    },
    {
     "name": "stdout",
     "output_type": "stream",
     "text": [
      "00년생 여자\n"
     ]
    }
   ],
   "source": [
    "id = input('주민등록번호를 입력하세요: ')\n",
    "if  id[7] == 1 or id[7] ==  3:\n",
    "    result = '남자'\n",
    "elif id[7] == 2 or id[7] ==  4:\n",
    "    result = '여자'\n",
    "print('{}년생 {}'.format(id[:2], result))"
   ]
  },
  {
   "cell_type": "code",
   "execution_count": 41,
   "id": "e1e1e031-c79c-48af-8255-7ee30497f8f2",
   "metadata": {},
   "outputs": [
    {
     "name": "stdin",
     "output_type": "stream",
     "text": [
      "주민등록번호:  001010-4188432\n"
     ]
    },
    {
     "name": "stdout",
     "output_type": "stream",
     "text": [
      "00년생 여자\n"
     ]
    }
   ],
   "source": [
    "# answer\n",
    "jumin = input('주민등록번호: ')\n",
    "year = jumin[:2]\n",
    "gender = jumin[7]\n",
    "s_gender = ''\n",
    "if gender in ['1', '3']:\n",
    "    s_gender = '남자'\n",
    "elif gender in ['2', '4']:\n",
    "    s_gender = '여자'\n",
    "else:\n",
    "    s_gender = '성별오류'\n",
    "print('%s년생 %s'%(year, s_gender))"
   ]
  },
  {
   "cell_type": "markdown",
   "id": "1affa913-a14c-4096-bd66-e600e52fccf1",
   "metadata": {},
   "source": [
    "[문제] 단어 수 세기\n",
    "- 문자열 내 전체 단어가 몇개인가?\n",
    "- 문자열 내 like 단어의 갯수가 몇개인가?\n",
    "- 문자열 내 가장 많이 나오는 단어는 무엇인가?\n",
    "    >  1) 문자열 내에 줄바꿈(\\n)문자를 공백 문자로 치환, replace(old string, new string)\n",
    "    >  2) 문자열을 단어로 나눈다: split()\n",
    "    >  3) 모든 단어를 소문자로 변경, lower()"
   ]
  },
  {
   "cell_type": "code",
   "execution_count": 80,
   "id": "55a653cf-9219-4682-b9bf-2411f305f26d",
   "metadata": {},
   "outputs": [
    {
     "name": "stdout",
     "output_type": "stream",
     "text": [
      "['hello,', \"it's\", 'me', 'i', 'was', 'wondering', 'if', 'after', 'all', 'these', 'years', \"you'd\", 'like', 'to', 'meet', 'to', 'go', 'over', 'everything', 'they', 'say', 'that', \"time's\", 'supposed', 'to', 'heal', 'ya', 'but', 'i', \"ain't\", 'done', 'much', 'healing', 'hello,', 'can', 'you', 'hear', 'me?', \"i'm\", 'in', 'california', 'dreaming', 'about', 'who', 'we', 'used', 'to', 'be', 'when', 'we', 'were', 'younger', 'and', 'free', \"i've\", 'forgotten', 'how', 'it', 'felt', 'before', 'the', 'world', 'fell', 'at', 'our', 'feet', \"there's\", 'such', 'a', 'difference', 'between', 'us', 'and', 'a', 'million', 'miles', 'hello', 'from', 'the', 'other', 'side', 'i', \"must've\", 'called', 'a', 'thousand', 'times', 'to', 'tell', 'you', \"i'm\", 'sorry', 'for', 'everything', 'that', \"i've\", 'done', 'but', 'when', 'i', 'call,', 'you', 'never', 'seem', 'to', 'be', 'home', 'hello', 'from', 'the', 'outside', 'at', 'least', 'i', 'can', 'say', 'that', \"i've\", 'tried', 'to', 'tell', 'you', \"i'm\", 'sorry', 'for', 'breaking', 'your', 'heart', 'but', 'it', \"don't\", 'matter,', 'it', 'clearly', \"doesn't\", 'tear', 'you', 'apart', 'anymore', 'hello,', 'how', 'are', 'you?', \"it's\", 'so', 'typical', 'of', 'me', 'to', 'talk', 'about', 'myself,', \"i'm\", 'sorry', 'i', 'hope', 'that', \"you're\", 'well', 'did', 'you', 'ever', 'make', 'it', 'out', 'of', 'that', 'town', 'where', 'nothing', 'ever', 'happened?', \"it's\", 'no', 'secret', 'that', 'the', 'both', 'of', 'us', 'are', 'running', 'out', 'of', 'time', 'so', 'hello', 'from', 'the', 'other', 'side', '(other', 'side)', 'i', \"must've\", 'called', 'a', 'thousand', 'times', '(thousand', 'times)', 'to', 'tell', 'you', \"i'm\", 'sorry', 'for', 'everything', 'that', \"i've\", 'done', 'but', 'when', 'i', 'call,', 'you', 'never', 'seem', 'to', 'be', 'home', 'hello', 'from', 'the', 'outside', '(outside)', 'at', 'least', 'i', 'can', 'say', 'that', \"i've\", 'tried', \"(i've\", 'tried)', 'to', 'tell', 'you', \"i'm\", 'sorry', 'for', 'breaking', 'your', 'heart', 'but', 'it', \"don't\", 'matter,', 'it', 'clearly', \"doesn't\", 'tear', 'you', 'apart', 'anymore', 'ooh-ooh,', 'anymore', 'ooh-ooh-ooh,', 'anymore', 'ooh-ooh,', 'anymore', 'anymore', 'hello', 'from', 'the', 'other', 'side', '(other', 'side)', 'i', \"must've\", 'called', 'a', 'thousand', 'times', '(thousand', 'times)', 'to', 'tell', 'you', \"i'm\", 'sorry', 'for', 'everything', 'that', \"i've\", 'done', 'but', 'when', 'i', 'call,', 'you', 'never', 'seem', 'to', 'be', 'home', 'hello', 'from', 'the', 'outside', '(outside)', 'at', 'least', 'i', 'can', 'say', 'that', \"i've\", 'tried', \"(i've\", 'tried)', 'to', 'tell', 'you', \"i'm\", 'sorry', 'for', 'breaking', 'your', 'heart', 'but', 'it', \"don't\", 'matter,', 'it', 'clearly', \"doesn't\", 'tear', 'you', 'apart', 'anymore']\n",
      "hello,\n",
      "i\n",
      "to\n",
      "전체 단어 개수: 333\n",
      "'like'단어의 개수: 1\n",
      "가장 많이 나오는 단어: to\n"
     ]
    }
   ],
   "source": [
    "song = '''Hello, it's me \n",
    "I was wondering if after all these years you'd like to meet\n",
    "To go over everything\n",
    "They say that time's supposed to heal ya\n",
    "But I ain't done much healing\n",
    "Hello, can you hear me?\n",
    "I'm in California dreaming about who we used to be\n",
    "When we were younger and free\n",
    "I've forgotten how it felt before the world fell at our feet\n",
    "There's such a difference between us\n",
    "And a million miles\n",
    "Hello from the other side\n",
    "I must've called a thousand times\n",
    "To tell you I'm sorry for everything that I've done\n",
    "But when I call, you never seem to be home\n",
    "Hello from the outside\n",
    "At least I can say that I've tried\n",
    "To tell you I'm sorry for breaking your heart\n",
    "But it don't matter, it clearly doesn't tear you apart anymore\n",
    "Hello, how are you?\n",
    "It's so typical of me to talk about myself, I'm sorry\n",
    "I hope that you're well\n",
    "Did you ever make it out of that town where nothing ever happened?\n",
    "It's no secret that the both of us are running out of time\n",
    "So hello from the other side (Other side)\n",
    "I must've called a thousand times (Thousand times)\n",
    "To tell you I'm sorry for everything that I've done\n",
    "But when I call, you never seem to be home\n",
    "Hello from the outside (Outside)\n",
    "At least I can say that I've tried (I've tried)\n",
    "To tell you I'm sorry for breaking your heart\n",
    "But it don't matter, it clearly doesn't tear you apart anymore\n",
    "Ooh-ooh, anymore\n",
    "Ooh-ooh-ooh, anymore\n",
    "Ooh-ooh, anymore\n",
    "Anymore\n",
    "Hello from the other side (Other side)\n",
    "I must've called a thousand times (Thousand times)\n",
    "To tell you I'm sorry for everything that I've done\n",
    "But when I call, you never seem to be home\n",
    "Hello from the outside (Outside)\n",
    "At least I can say that I've tried (I've tried)\n",
    "To tell you I'm sorry for breaking your heart\n",
    "But it don't matter, it clearly doesn't tear you apart anymore'''\n",
    "\n",
    "song = song.replace('\\n', ' ')\n",
    "song = song.lower()\n",
    "song = song.split()\n",
    "\n",
    "cnt1 = len(song)\n",
    "cnt2 = song.count('like')\n",
    "# cnt3 = max(set(song), key=song.count)\n",
    "s = 0\n",
    "for i in song:\n",
    "    if s < song.count(i):\n",
    "        s = song.count(i)\n",
    "        \n",
    "        print(i)\n",
    "\n",
    "print('전체 단어 개수: %d\\n\\'like\\'단어의 개수: %d\\n가장 많이 나오는 단어: %s'%(cnt1, cnt2, cnt3))\n"
   ]
  },
  {
   "cell_type": "code",
   "execution_count": 81,
   "id": "06212aa7-05ac-4dd9-b5eb-cad70cc0314d",
   "metadata": {},
   "outputs": [
    {
     "name": "stdout",
     "output_type": "stream",
     "text": [
      "like 단어의 개수:  1\n",
      "전체 단어 개수:  333\n",
      "가장 많이 나온 단어는 to이며 횟수는 14이다.\n"
     ]
    }
   ],
   "source": [
    "# answer\n",
    "song = '''Hello, it's me \n",
    "I was wondering if after all these years you'd like to meet\n",
    "To go over everything\n",
    "They say that time's supposed to heal ya\n",
    "But I ain't done much healing\n",
    "Hello, can you hear me?\n",
    "I'm in California dreaming about who we used to be\n",
    "When we were younger and free\n",
    "I've forgotten how it felt before the world fell at our feet\n",
    "There's such a difference between us\n",
    "And a million miles\n",
    "Hello from the other side\n",
    "I must've called a thousand times\n",
    "To tell you I'm sorry for everything that I've done\n",
    "But when I call, you never seem to be home\n",
    "Hello from the outside\n",
    "At least I can say that I've tried\n",
    "To tell you I'm sorry for breaking your heart\n",
    "But it don't matter, it clearly doesn't tear you apart anymore\n",
    "Hello, how are you?\n",
    "It's so typical of me to talk about myself, I'm sorry\n",
    "I hope that you're well\n",
    "Did you ever make it out of that town where nothing ever happened?\n",
    "It's no secret that the both of us are running out of time\n",
    "So hello from the other side (Other side)\n",
    "I must've called a thousand times (Thousand times)\n",
    "To tell you I'm sorry for everything that I've done\n",
    "But when I call, you never seem to be home\n",
    "Hello from the outside (Outside)\n",
    "At least I can say that I've tried (I've tried)\n",
    "To tell you I'm sorry for breaking your heart\n",
    "But it don't matter, it clearly doesn't tear you apart anymore\n",
    "Ooh-ooh, anymore\n",
    "Ooh-ooh-ooh, anymore\n",
    "Ooh-ooh, anymore\n",
    "Anymore\n",
    "Hello from the other side (Other side)\n",
    "I must've called a thousand times (Thousand times)\n",
    "To tell you I'm sorry for everything that I've done\n",
    "But when I call, you never seem to be home\n",
    "Hello from the outside (Outside)\n",
    "At least I can say that I've tried (I've tried)\n",
    "To tell you I'm sorry for breaking your heart\n",
    "But it don't matter, it clearly doesn't tear you apart anymore'''\n",
    "\n",
    "song = song.replace('\\n',' ').lower()  # 줄바꿈을 공백으로 바꿔서 소문자로 통일\n",
    "print('like 단어의 개수: ', song.count('like'))  # 문자열 리스트에서 'like'의 개수 세기\n",
    "word_list = song.split()  # 리스트를 공백을 기준으로 쪼개서 리스트에 넣기\n",
    "print('전체 단어 개수: ', len(word_list)) # 전체 문자열 리스트의 크기 \n",
    "\n",
    "# 가장 많이 나온 단어 찾기\n",
    "max_count = 0   # 가장 많이 나온 단어의 횟수  ****\n",
    "max_word = ''   # 가장 많이 나온 단어  ****\n",
    "for word in word_list:   # 문자열 리스트의 데이터 순회\n",
    "    count = word_list.count(word)    # 현재 단어의 포함 횟수 확인 ****\n",
    "    if count > max_count:  # for문에서 순회중 조회된 단어의 개수가 기존의 가장 많이 나온 단어의 횟수보다 클 경우\n",
    "        max_count = count  # 그 횟수를 바꿔주기\n",
    "        max_word = word    # 최대로 카운팅된 횟수의 단어\n",
    "print('가장 많이 나온 단어는 %s이며 횟수는 %d이다.'%(max_word, max_count))"
   ]
  },
  {
   "cell_type": "markdown",
   "id": "d6b4d68d-63e5-4fd9-920f-9a23b5db5eb1",
   "metadata": {},
   "source": [
    "[문제] 영화예매 프로그램\n",
    "<pre>\n",
    "    10개 좌석만 있는 극장에 예매 프로그램 만들기\n",
    "    (좌석 정보는 리스트로 선언)\n",
    "    비어있는 좌석은 0으로 표기하고, 예매가 된 좌석은 1로 표기한다.\n",
    "    만약 예약되어있는 좌석을 예약하려고 했을 때 적절한 오류메세지를 출력하고 해당 좌석에 대해 다시 예약을 받는다.\n",
    "    \n",
    "    [실행 예]\n",
    "    좌석을 예약하시겠습니까? (예약:1, 종료:0) 1\n",
    "    현재의 예약 상태는 다음과 같습니다.\n",
    "    ----------------------\n",
    "     1 2 3 4 5 6 7 8 9 10\n",
    "    ----------------------\n",
    "     0 0 0 0 0 0 0 0 0 0\n",
    "    몇번째 좌석을 예약하시겠습니까? 2\n",
    "    예약되었습니다.\n",
    "\n",
    "    좌석을 예약하시겠습니까? (예약:1, 종료:0) 1\n",
    "    현재의 예약 상태는 다음과 같습니다.\n",
    "    ----------------------\n",
    "     1 2 3 4 5 6 7 8 9 10\n",
    "    ----------------------\n",
    "     0 1 0 0 0 0 0 0 0 0\n",
    "    몇번째 좌석을 예약하시겠습니까? 2\n",
    "    이미 예약된 좌석입니다. 다른 좌석을 선택하세요.\n",
    "\n",
    "    \n",
    "</pre>"
   ]
  },
  {
   "cell_type": "code",
   "execution_count": 9,
   "id": "cebc59df-a548-4869-a689-2afcfae2b491",
   "metadata": {},
   "outputs": [
    {
     "name": "stdin",
     "output_type": "stream",
     "text": [
      "좌석을 예약하시겠습니까? (예약:1, 종료:0)  0\n"
     ]
    },
    {
     "name": "stdout",
     "output_type": "stream",
     "text": [
      "종료\n"
     ]
    }
   ],
   "source": [
    "seats = [0,0,0,0,0,0,0,0,0,0]\n",
    "while True:\n",
    "    reserv = int(input('좌석을 예약하시겠습니까? (예약:1, 종료:0) '))\n",
    "    if reserv ==  1:\n",
    "        print('현재의 예약 상태는 다음과 같습니다.')\n",
    "        print('----------------------')\n",
    "        print('1 2 3 4 5 6 7 8 9 10')\n",
    "        print('----------------------')\n",
    "        for i in seats:                 # for 문으로 seats 리스트 순회한 값 출력\n",
    "            print(i, sep=' ', end=' ')\n",
    "        num_seats = int(input('몇번째 좌석을 예약하시겠습니까?'))\n",
    "        if seats[num_seats-1] == 0:     # 예약 가능 좌석일 경우\n",
    "            seats[num_seats-1] = 1      # 1로 변경\n",
    "            for i in seats:\n",
    "                print(i, sep=' ', end=' ')  # 다시 for문으로 바뀐 리스트의 순회한 값 출력\n",
    "            print('\\n예약되었습니다.')\n",
    "        elif seats[num_seats-1] == 1:   # 예약 불가능한 좌석일 경우\n",
    "            print('이미 예약된 좌석입니다. 다른 좌석을 선택하세요.')\n",
    "    else:\n",
    "        print('종료')\n",
    "        break"
   ]
  },
  {
   "cell_type": "code",
   "execution_count": 8,
   "id": "dffccf14-6b45-4a8c-b4f9-253637de75c2",
   "metadata": {},
   "outputs": [
    {
     "name": "stdin",
     "output_type": "stream",
     "text": [
      "좌석을 예약하시겠습니까? (예약:1, 종료:0) 0\n"
     ]
    },
    {
     "name": "stdout",
     "output_type": "stream",
     "text": [
      "프로그램을 종료합니다\n"
     ]
    }
   ],
   "source": [
    "seats= [0,0,0,0,0,0,0,0,0,0]\n",
    "while True:\n",
    "    ch_seats=[str(i) for i in seats]\n",
    "    reserve=input('좌석을 예약하시겠습니까? (예약:1, 종료:0)')\n",
    "    if reserve=='1':\n",
    "        print('현재의 예약 상태는 다음과 같습니다.','\\n','---------------------','\\n','1 2 3 4 5 6 7 8 9 10','\\n','---------------------','\\n',' '.join(ch_seats))\n",
    "        num_reserve=int(input('몇 번 쨰 좌석을 예약하시겠습니까?'))\n",
    "        if 0<num_reserve<11:\n",
    "            if seats[num_reserve-1]==0:\n",
    "                print('예약완료')\n",
    "                seats[num_reserve-1]=1\n",
    "                ch_seats=[str(i) for i in seats]\n",
    "                print('현재의 예약 상태는 다음과 같습니다.','\\n','---------------------','\\n','1 2 3 4 5 6 7 8 9 10','\\n','---------------------','\\n',' '.join(ch_seats))\n",
    "            else:\n",
    "                print('이미 예약된 좌석입니다. 다시 선택하세요.')\n",
    "    if reserve=='0':\n",
    "        print(\"프로그램을 종료합니다\")\n",
    "        break"
   ]
  },
  {
   "cell_type": "code",
   "execution_count": 13,
   "id": "671f1123-dd7c-43e0-b67a-4104a7ce7827",
   "metadata": {},
   "outputs": [
    {
     "name": "stdin",
     "output_type": "stream",
     "text": [
      "좌석을 예약하시겠습니까? (예약:1, 종료:0)  1\n"
     ]
    },
    {
     "name": "stdout",
     "output_type": "stream",
     "text": [
      "현재의 예약 상태는 다음과 같습니다.\n",
      "---------------------\n",
      " 1 2 3 4 5 6 7 8 9 10\n",
      "---------------------\n",
      " 0 0 0 0 0 0 0 0 0 0\n",
      "\n"
     ]
    },
    {
     "name": "stdin",
     "output_type": "stream",
     "text": [
      "몇 번째 좌석을 예약하시겠습니까?  3\n"
     ]
    },
    {
     "name": "stdout",
     "output_type": "stream",
     "text": [
      "예약되었습니다.\n"
     ]
    },
    {
     "name": "stdin",
     "output_type": "stream",
     "text": [
      "좌석을 예약하시겠습니까? (예약:1, 종료:0)  0\n"
     ]
    }
   ],
   "source": [
    "# answer\n",
    "# 긴 코드 작성에서는 flow chart 그리고 코드 작성 지향 - 큰 틀, 흐름을 확인, 중첩된 반복문\n",
    "seats = [0,0,0,0,0,0,0,0,0,0]  # while문 안에 들어가면 반복할 때마다 초기화됨, 밖에서 초기화해야 반복문에서 바뀐 값을 유지가능\n",
    "while True:\n",
    "    isContinue = input('좌석을 예약하시겠습니까? (예약:1, 종료:0) ')  # int로 감쌀 필요 없음, 연산할 필요가 없기때문\n",
    "    if isContinue == '0':\n",
    "        break\n",
    "    elif isContinue == '1':\n",
    "        print('현재의 예약 상태는 다음과 같습니다.')\n",
    "        print('---------------------')\n",
    "        print(' 1 2 3 4 5 6 7 8 9 10')\n",
    "        print('---------------------')\n",
    "        for s in seats:\n",
    "            print('%2d'%s, end='')   # 데이터에 두자리수 할당\n",
    "        print('\\n')   # 개행\n",
    "        while True:  # 중첩된 반복문 \n",
    "            seatNo = int(input('몇 번째 좌석을 예약하시겠습니까? '))   # int 함수 필요, 리스트의 인덱스 번호로 사용되어야함\n",
    "            if seats[seatNo-1] == 1:\n",
    "                print('해당 좌석은 이미 예약된 좌석입니다.')\n",
    "            else:\n",
    "                seats[seatNo-1] = 1\n",
    "                print('예약되었습니다.')\n",
    "                break"
   ]
  },
  {
   "cell_type": "markdown",
   "id": "b1929f21-5517-4aef-bb2d-01af84809f2d",
   "metadata": {},
   "source": [
    "# 컬렉션"
   ]
  },
  {
   "cell_type": "markdown",
   "id": "156f2f21-8f16-4ef4-9afe-4895af7eac65",
   "metadata": {},
   "source": [
    "## 리스트"
   ]
  },
  {
   "cell_type": "code",
   "execution_count": 23,
   "id": "aa79dd30-ec24-44a3-b14d-65148aec7924",
   "metadata": {},
   "outputs": [
    {
     "name": "stdout",
     "output_type": "stream",
     "text": [
      "[1, 2]\n",
      "[3, 4, 5, 6, 7]\n",
      "[1, 2, 3, 4, 5, 6, 7]\n",
      "[1, 2, 20, 4, 5, 6, 7]\n",
      "--------------------\n",
      "[1, 2, 20, 4, 5, 6, 7]\n",
      "True\n",
      "False\n",
      "--------------------\n",
      "[1, 4, 5, 6, 7]\n"
     ]
    }
   ],
   "source": [
    "# 리스트 선언 \n",
    "a = []\n",
    "b = list()\n",
    "c = [1,2,3]\n",
    "\n",
    "# 리스트 슬라이싱 \n",
    "a = [1,2,3,4,5,6,7]\n",
    "print(a[:2])\n",
    "print(a[2:])\n",
    "\n",
    "# 얕은 복사\n",
    "b = a      # a와b는 같은 참조값을 갖게 됨\n",
    "print(b)\n",
    "a[2] = 20  # a 리스트(원본리스트) 값 변경 \n",
    "print(b)   # b 리스트 값도 변경되어 있음\n",
    "\n",
    "print('-'*20)\n",
    "# 깊은 복사\n",
    "c = a[:]\n",
    "print(c)\n",
    "print(a is b)  # 같은 참조값을 가지고 있는지 확인\n",
    "print(a is c)\n",
    "\n",
    "print('-'*20)\n",
    "#리스트 요소 삭제\n",
    "a[1:3] = []    # 슬라이싱 이용\n",
    "print(a)"
   ]
  },
  {
   "cell_type": "markdown",
   "id": "6b16aab1-5dce-4954-9e53-2f7600357b10",
   "metadata": {},
   "source": [
    "### 리스트의 함수들"
   ]
  },
  {
   "cell_type": "code",
   "execution_count": 26,
   "id": "d4de0559-28e0-48ce-ac91-cf6d36ce0da4",
   "metadata": {},
   "outputs": [
    {
     "name": "stdout",
     "output_type": "stream",
     "text": [
      "[7, 6, 5, 3, 1]\n"
     ]
    }
   ],
   "source": [
    "a = [1,5,3,7,6]\n",
    "a.sort()   # 리스트 데이터 정렬하기\n",
    "# print(a.sort())  # 에러, sort()는 결과값 반환x\n",
    "a.sort(reverse=True) # 내림차순 정렬\n",
    "print(a)"
   ]
  },
  {
   "cell_type": "code",
   "execution_count": 31,
   "id": "10124055-2114-4e7f-a71a-06efe8a87e66",
   "metadata": {},
   "outputs": [
    {
     "name": "stdout",
     "output_type": "stream",
     "text": [
      "8\n",
      "99\n",
      "1\n",
      "248\n",
      "31.0\n"
     ]
    }
   ],
   "source": [
    "a = [1,4,7,2,63,99,27,45]\n",
    "# 다음 함수는 리스트 객체의 함수가 아닌 파이썬의 내장 함수\n",
    "print(len(a))   # 리스트의 데이터 개수\n",
    "print(max(a))   # 최대값\n",
    "print(min(a))   # 최소값\n",
    "print(sum(a))   # 합계\n",
    "print(sum(a)/len(a))  # 평균"
   ]
  },
  {
   "cell_type": "code",
   "execution_count": 33,
   "id": "0a39a18e-f0b0-46fa-bc81-274a3d241ecb",
   "metadata": {},
   "outputs": [
    {
     "name": "stdin",
     "output_type": "stream",
     "text": [
      "결제를 하시겠습니까?  ok\n"
     ]
    },
    {
     "name": "stdout",
     "output_type": "stream",
     "text": [
      "구매해주셔서 감사합니다.\n"
     ]
    }
   ],
   "source": [
    "ans = input('결제를 하시겠습니까? ')\n",
    "if ans in ['yes', 'y', 'ok', '네', '예']:\n",
    "    print('구매해주셔서 감사합니다.')\n",
    "else:\n",
    "    print('안녕히 가세요.')"
   ]
  },
  {
   "cell_type": "markdown",
   "id": "3c1922b4-9d08-40db-b7e6-d700d40945d9",
   "metadata": {},
   "source": [
    "### 이중 리스트\n",
    "- 리스트의 요소로 리스트를 갖는 형태, 행렬/2차원 형태"
   ]
  },
  {
   "cell_type": "code",
   "execution_count": 64,
   "id": "240a76e5-d921-4d7f-aab3-1ad99da8f3a3",
   "metadata": {},
   "outputs": [
    {
     "name": "stdout",
     "output_type": "stream",
     "text": [
      "[[1, 2, 3], [4, 5, 6], [7, 8, 9]]\n",
      "[1, 2, 3]\n",
      "4\n",
      "1 2 3 \n",
      "4 5 6 \n",
      "7 8 9 \n"
     ]
    }
   ],
   "source": [
    "l = [[1,2,3],[4,5,6],[7,8,9]]\n",
    "print(l)\n",
    "print(l[0])\n",
    "print(l[1][0])\n",
    "\n",
    "# 이중 리스트값 조회 -> 중첩 반복문 사용\n",
    "for x in l:  # 행\n",
    "    for y in x:  # 열\n",
    "        print(y, end=' ')\n",
    "    print()"
   ]
  },
  {
   "cell_type": "markdown",
   "id": "14812bce-f04a-4b8b-baa7-e9f1267bf4f2",
   "metadata": {},
   "source": [
    "- [:] 과 deepcopy()의 차이"
   ]
  },
  {
   "cell_type": "code",
   "execution_count": 42,
   "id": "a21d01e9-b73c-45ff-ac6f-a347140cd629",
   "metadata": {},
   "outputs": [
    {
     "name": "stdout",
     "output_type": "stream",
     "text": [
      "1805680164096\n",
      "1805673987456\n",
      "--------------------\n",
      "1805695349952\n",
      "1805695348672\n"
     ]
    }
   ],
   "source": [
    "import copy\n",
    "\n",
    "matrix = [[1,2,3],\n",
    "          [4,5,6],\n",
    "          [7,8,9]]\n",
    "# [:]를 이용한 깊은 복사는 서브리스트까지 깊은 복사 수행 불가\n",
    "# deepcopy() 함수는 모든 요소에 대한 깊은 복사 수행\n",
    "# copy_m = matrix[:]\n",
    "copy_m = copy.deepcopy(matrix)\n",
    "print(id(matrix))    # id(): 주소값 출력\n",
    "print(id(copy_m))\n",
    "print('-'*20)\n",
    "print(id(matrix[0]))    \n",
    "print(id(copy_m[0])) # 슬라이싱을 이용한 깊은 복사는 이중리스트에 사용시 서브리스트까지 새로운 주소값을 가진 복사본 생성 불가"
   ]
  },
  {
   "cell_type": "markdown",
   "id": "1551483c-d043-4f5f-b474-6441885851cc",
   "metadata": {},
   "source": [
    "[문제] 성적 총점과 평균 구하기\n",
    "-  학생 3명의 성적에 대해 각각 총점과 평균을 구하고, 전체 평균을 구하세요."
   ]
  },
  {
   "cell_type": "code",
   "execution_count": 96,
   "id": "1296ebd6-d198-4c21-b0e9-774c412c5ef4",
   "metadata": {},
   "outputs": [
    {
     "name": "stdout",
     "output_type": "stream",
     "text": [
      "86 전체 평균: 88\n",
      "76 전체 평균: 88\n",
      "92 전체 평균: 88\n",
      "98 전체 평균: 88\n",
      "합계: 352점, 평균: 88점\n",
      "65 전체 평균: 68\n",
      "70 전체 평균: 68\n",
      "58 전체 평균: 68\n",
      "82 전체 평균: 68\n",
      "합계: 275점, 평균: 68점\n",
      "82 전체 평균: 82\n",
      "80 전체 평균: 82\n",
      "78 전체 평균: 82\n",
      "88 전체 평균: 82\n",
      "합계: 328점, 평균: 82점\n"
     ]
    }
   ],
   "source": [
    "score = [[86,76,92,98],\n",
    "         [65,70,58,82],\n",
    "         [82,80,78,88]]\n",
    "for i in score:\n",
    "    for s in i:\n",
    "        print(s, end=' ')\n",
    "        all = [int(s) for s in i]\n",
    "        avg_all = sum(all)/len(all)\n",
    "        print('전체 평균: %d'%avg_all) \n",
    "    hap = sum(i)\n",
    "    avg = sum(i)/len(i)\n",
    "    print('합계: %d점, 평균: %d점'%(hap, avg))\n"
   ]
  },
  {
   "cell_type": "code",
   "execution_count": 65,
   "id": "6347a9c5-9e37-4405-9171-a80760fa5901",
   "metadata": {},
   "outputs": [
    {
     "name": "stdout",
     "output_type": "stream",
     "text": [
      "86 76 92 98 합계: 352점, 평균: 88점\n",
      "65 70 58 82 합계: 275점, 평균: 68점\n",
      "82 80 78 88 합계: 328점, 평균: 82점\n",
      "전체 평균: 79\n"
     ]
    }
   ],
   "source": [
    "score = [[86,76,92,98],\n",
    "         [65,70,58,82],\n",
    "         [82,80,78,88]]\n",
    "for i in score:\n",
    "    for s in i:\n",
    "        print(s, end=' ')\n",
    "    hap = sum(i)\n",
    "    avg = sum(i)/len(i)\n",
    "    print('합계: %d점, 평균: %d점'%(hap, avg))\n",
    "all = sum(score, [])    \n",
    "avg_all = sum(all)/len(all)\n",
    "print('전체 평균: %d'%avg_all)"
   ]
  },
  {
   "cell_type": "code",
   "execution_count": 122,
   "id": "aec9a16e-f29a-487e-810b-659b2873e681",
   "metadata": {},
   "outputs": [
    {
     "name": "stdout",
     "output_type": "stream",
     "text": [
      "합계: 352점, 평균: 88.0점\n",
      "합계: 275점, 평균: 68.8점\n",
      "합계: 328점, 평균: 82.0점\n",
      "전체 평균: 79.6점\n"
     ]
    }
   ],
   "source": [
    "score = [[86,76,92,98],\n",
    "         [65,70,58,82],\n",
    "         [82,80,78,88]]\n",
    "all = []\n",
    "for i in score:\n",
    "    hap = sum(i)\n",
    "    avg = sum(i)/len(i)\n",
    "    print('합계: %d점, 평균: %3.1f점'%(hap, avg))\n",
    "    all += i\n",
    "avg_all = sum(all)/len(all)\n",
    "print('전체 평균: %3.1f점'%avg_all)"
   ]
  },
  {
   "cell_type": "code",
   "execution_count": 124,
   "id": "fca1e5e0-a208-4699-8def-f0bab451d6cf",
   "metadata": {},
   "outputs": [
    {
     "name": "stdout",
     "output_type": "stream",
     "text": [
      "1번 학생: 총점: 352, 평균: 88.00\n",
      "2번 학생: 총점: 275, 평균: 68.75\n",
      "3번 학생: 총점: 328, 평균: 82.00\n",
      "전체 평균: 79.58\n"
     ]
    }
   ],
   "source": [
    "# answer\n",
    "score = [[86,76,92,98],\n",
    "         [65,70,58,82],\n",
    "         [82,80,78,88]]\n",
    "total = 0  # 전체 모든 학생의 총점을 저장\n",
    "all_subjects = 0 # 전체 과목 수 저장\n",
    "index = 0\n",
    "for student in score:\n",
    "    index += 1\n",
    "    print(f'{index}번 학생: 총점: {sum(student)}, 평균: {sum(student)/len(student):.2f}')  #소수점 이하 두자리만 출력\n",
    "    total += sum(student)          # 학생 점수 누적합\n",
    "    all_subjects += len(student)   # 과목 수 누적합\n",
    "print(f'전체 평균: {total / all_subjects:.2f}')"
   ]
  },
  {
   "cell_type": "markdown",
   "id": "f396a9a2-084c-415f-8545-03ed5a8b8070",
   "metadata": {},
   "source": [
    "<pre>\n",
    "    [문제] 일수 구하기\n",
    "    1~12월 중 입력 받은 월이 몇 일까지 있는지를 계산하는 프로그램을 작성하세요\n",
    "    - 윤년의 2월인 경우에는 최대 일수를 29일로 출력한다.\n",
    "    - 윤년의 조건: 4로 나누어 떨어지고 100으로 나누어 떨어지지 않는 해, 또는 400으로 나누어 떨어지는 해\n",
    "\n",
    "    [실행 예]\n",
    "    년도를 입력하세요: 2023\n",
    "    월을 입력하세요: 10\n",
    "    2023년 10월은 31일까지 있습니다.\n",
    "</pre>"
   ]
  },
  {
   "cell_type": "code",
   "execution_count": 133,
   "id": "5684664f-22b8-4a1f-a7c1-628f3100d1ac",
   "metadata": {},
   "outputs": [
    {
     "name": "stdin",
     "output_type": "stream",
     "text": [
      "년도를 입력하세요:  1996\n",
      "월을 입력하세요:  2\n"
     ]
    },
    {
     "name": "stdout",
     "output_type": "stream",
     "text": [
      "1996년 2월은 29일까지 있습니다.\n"
     ]
    }
   ],
   "source": [
    "month30 = [4,6,9,11]\n",
    "month31 = [1,3,5,7,8,10,12]\n",
    "day = [28, 29, 30, 31]\n",
    "\n",
    "input_year = int(input('년도를 입력하세요: '))\n",
    "input_month = int(input('월을 입력하세요: '))\n",
    "if (input_year%4==0 and input_year%100!=0)or(input_year%400==0):\n",
    "    if input_month == 2:\n",
    "        print(f'{input_year}년 {input_month}월은 {day[1]}일까지 있습니다.')\n",
    "    elif input_month in month30:\n",
    "        print(f'{input_year}년 {input_month}월은 {day[2]}일까지 있습니다.')\n",
    "    elif input_month in month31:\n",
    "        print(f'{input_year}년 {input_month}월은 {day[3]}일까지 있습니다.')\n",
    "else:\n",
    "    if input_month == 2:\n",
    "        print(f'{input_year}년 {input_month}월은 {day[0]}일까지 있습니다.')\n",
    "    elif input_month in month30:\n",
    "        print(f'{input_year}년 {input_month}월은 {day[2]}일까지 있습니다.')\n",
    "    elif input_month in month31:\n",
    "        print(f'{input_year}년 {input_month}월은 {day[3]}일까지 있습니다.')"
   ]
  },
  {
   "cell_type": "code",
   "execution_count": 134,
   "id": "4f654bab-26db-45d0-8d7f-7026cf5a9c58",
   "metadata": {},
   "outputs": [
    {
     "name": "stdin",
     "output_type": "stream",
     "text": [
      "년도를 입력하세요:  2020\n",
      "월을 입력하세요:  2\n"
     ]
    },
    {
     "name": "stdout",
     "output_type": "stream",
     "text": [
      "2020년 2월은 29일까지 있습니다.\n"
     ]
    }
   ],
   "source": [
    "month30 = [4,6,9,11]\n",
    "month31 = [1,3,5,7,8,10,12]\n",
    "day = [28, 29, 30, 31]\n",
    "\n",
    "input_year = int(input('년도를 입력하세요: '))\n",
    "input_month = int(input('월을 입력하세요: '))\n",
    "if input_month == 2:\n",
    "    if (input_year%4==0 and input_year%100!=0)or(input_year%400==0):\n",
    "        print(f'{input_year}년 {input_month}월은 {day[1]}일까지 있습니다.')\n",
    "    else:\n",
    "        print(f'{input_year}년 {input_month}월은 {day[0]}일까지 있습니다.')\n",
    "else:\n",
    "    if input_month in month30:\n",
    "        print(f'{input_year}년 {input_month}월은 {day[2]}일까지 있습니다.')\n",
    "    elif input_month in month31:\n",
    "        print(f'{input_year}년 {input_month}월은 {day[3]}일까지 있습니다.')"
   ]
  },
  {
   "cell_type": "code",
   "execution_count": 135,
   "id": "fdc835f3-73d0-4cd7-864b-0fb976c492d0",
   "metadata": {},
   "outputs": [
    {
     "name": "stdin",
     "output_type": "stream",
     "text": [
      "년도를 입력하세요:  2020\n",
      "월을 입력하세요:  2\n"
     ]
    },
    {
     "name": "stdout",
     "output_type": "stream",
     "text": [
      "2020년 2월은 29까지 있습니다.\n"
     ]
    }
   ],
   "source": [
    "# answer\n",
    "daysInMonth = [31,28,31,30,31,30,31,31,30,31,30,31]\n",
    "year = int(input('년도를 입력하세요: '))\n",
    "month = int(input('월을 입력하세요: '))\n",
    "max_date = 0\n",
    "if month == 2:\n",
    "    max_date = 29 if (year%4==0 and year%100!=0)or year%400==0 else 28    # 삼항연산자\n",
    "else:\n",
    "    max_date  = daysInMonth[month-1]\n",
    "print(f'{year}년 {month}월은 {max_date}까지 있습니다.')"
   ]
  },
  {
   "cell_type": "markdown",
   "id": "b95b01bc-37a7-44ab-b3d1-a969f64c5841",
   "metadata": {},
   "source": [
    "## 딕셔너리"
   ]
  },
  {
   "cell_type": "code",
   "execution_count": 143,
   "id": "cf6ac593-3570-4e07-bf63-91cc2dde24b9",
   "metadata": {},
   "outputs": [
    {
     "name": "stdout",
     "output_type": "stream",
     "text": [
      "합계:  324\n",
      "최고점:  89\n",
      "['홍길동', '전우치', '임꺽정', '손오공']\n",
      "[('홍길동', 89), ('전우치', 67), ('임꺽정', 88), ('손오공', 80)]\n",
      "[('홍길동', 89), ('임꺽정', 88), ('손오공', 80), ('전우치', 67)]\n"
     ]
    }
   ],
   "source": [
    "score = {'홍길동':89, '손오공':80, '임꺽정':88,'전우치':67}\n",
    "print('합계: ', sum(score.values()))\n",
    "print('최고점: ', max(score.values()))\n",
    "print(sorted(score, reverse=True))          # key값 기준으로 정렬\n",
    "print(sorted(score.items(), reverse=True))  # value값도 튜플로 함께 보여주지만 key값 기준으로 정렬\n",
    "print(sorted(score.items(), reverse=True, key=lambda x:x[1]))  # x(익명함수; items()에 의한 튜플):x[1]; 튜플에서 2번째 값 기준 "
   ]
  },
  {
   "cell_type": "code",
   "execution_count": 183,
   "id": "28d7c6b6-5f97-4765-b8a5-34a302af654a",
   "metadata": {},
   "outputs": [
    {
     "name": "stdout",
     "output_type": "stream",
     "text": [
      "dict_items([('홍길동', 89), ('손오공', 80), ('임꺽정', 88), ('전우치', 67)])\n",
      "이름:  홍길동 ,점수:  89\n",
      "이름:  손오공 ,점수:  80\n",
      "이름:  임꺽정 ,점수:  88\n",
      "이름:  전우치 ,점수:  67\n"
     ]
    }
   ],
   "source": [
    "score = {'홍길동':89, '손오공':80, '임꺽정':88,'전우치':67}\n",
    "print(score.items())\n",
    "for k, v in score.items():\n",
    "    print('이름: ',k, ',점수: ', v)"
   ]
  },
  {
   "cell_type": "code",
   "execution_count": 147,
   "id": "3e9d88f0-80b9-4404-9f77-6477307524d0",
   "metadata": {},
   "outputs": [
    {
     "name": "stdout",
     "output_type": "stream",
     "text": [
      "89\n",
      "None\n",
      "0\n"
     ]
    }
   ],
   "source": [
    "print(score['홍길동'])   # 딕셔너리의 값 조회\n",
    "# print(score['김철수']) # 딕셔너리에 없는 key값 - KeyError\n",
    "print(score.get('김철수')) # None\n",
    "print(score.get('김철수', 0))  # 0"
   ]
  },
  {
   "cell_type": "code",
   "execution_count": 149,
   "id": "fd8d7be1-7600-4d8c-9dae-28de1ee075bc",
   "metadata": {},
   "outputs": [
    {
     "name": "stdout",
     "output_type": "stream",
     "text": [
      "{'names': '전우치', 'phone': '010-2222-3333'}\n"
     ]
    }
   ],
   "source": [
    "x = dict()\n",
    "x['names'] = '전우치'         # 딕셔너리에 새로운 값 추가 \n",
    "x['phone'] = '010-1111-2222'\n",
    "x['phone'] = '010-2222-3333'  # 값이 덮어씌워짐\n",
    "print(x)"
   ]
  },
  {
   "cell_type": "markdown",
   "id": "9cbbe586-317d-4034-b8b7-d7c1606710d5",
   "metadata": {},
   "source": [
    "[문제] 단어 빈도수 구하기\n",
    "- 문장 안에 포함된 각 단어의 빈도수를 구하여 딕셔너리로 결과를 출력하세요.\n",
    "- 단어는 key, 빈도수는 value"
   ]
  },
  {
   "cell_type": "code",
   "execution_count": 159,
   "id": "6acbe102-699e-478e-9b4e-475a6695a9d6",
   "metadata": {},
   "outputs": [
    {
     "name": "stdout",
     "output_type": "stream",
     "text": [
      "[('to', 14), ('you', 14), ('i', 12), ('that', 10), (\"i'm\", 8), ('it', 8), ('the', 8), ('but', 7), (\"i've\", 7), ('sorry', 7), ('anymore', 7), ('hello', 6), ('from', 6), ('tell', 6), ('for', 6), ('a', 5), ('everything', 4), ('say', 4), ('done', 4), ('can', 4), ('be', 4), ('when', 4), ('at', 4), ('of', 4), ('hello,', 3), (\"it's\", 3), ('other', 3), ('side', 3), (\"must've\", 3), ('called', 3), ('thousand', 3), ('times', 3), ('call,', 3), ('never', 3), ('seem', 3), ('home', 3), ('outside', 3), ('least', 3), ('tried', 3), ('breaking', 3), ('your', 3), ('heart', 3), (\"don't\", 3), ('matter,', 3), ('clearly', 3), (\"doesn't\", 3), ('tear', 3), ('apart', 3), ('me', 2), ('about', 2), ('we', 2), ('and', 2), ('how', 2), ('us', 2), ('are', 2), ('so', 2), ('ever', 2), ('out', 2), ('(other', 2), ('side)', 2), ('(thousand', 2), ('times)', 2), ('(outside)', 2), (\"(i've\", 2), ('tried)', 2), ('ooh-ooh,', 2), ('was', 1), ('wondering', 1), ('if', 1), ('after', 1), ('all', 1), ('these', 1), ('years', 1), (\"you'd\", 1), ('like', 1), ('meet', 1), ('go', 1), ('over', 1), ('they', 1), (\"time's\", 1), ('supposed', 1), ('heal', 1), ('ya', 1), (\"ain't\", 1), ('much', 1), ('healing', 1), ('hear', 1), ('me?', 1), ('in', 1), ('california', 1), ('dreaming', 1), ('who', 1), ('used', 1), ('were', 1), ('younger', 1), ('free', 1), ('forgotten', 1), ('felt', 1), ('before', 1), ('world', 1), ('fell', 1), ('our', 1), ('feet', 1), (\"there's\", 1), ('such', 1), ('difference', 1), ('between', 1), ('million', 1), ('miles', 1), ('you?', 1), ('typical', 1), ('talk', 1), ('myself,', 1), ('hope', 1), (\"you're\", 1), ('well', 1), ('did', 1), ('make', 1), ('town', 1), ('where', 1), ('nothing', 1), ('happened?', 1), ('no', 1), ('secret', 1), ('both', 1), ('running', 1), ('time', 1), ('ooh-ooh-ooh,', 1)]\n"
     ]
    }
   ],
   "source": [
    "song = '''Hello, it's me \n",
    "I was wondering if after all these years you'd like to meet\n",
    "To go over everything\n",
    "They say that time's supposed to heal ya\n",
    "But I ain't done much healing\n",
    "Hello, can you hear me?\n",
    "I'm in California dreaming about who we used to be\n",
    "When we were younger and free\n",
    "I've forgotten how it felt before the world fell at our feet\n",
    "There's such a difference between us\n",
    "And a million miles\n",
    "Hello from the other side\n",
    "I must've called a thousand times\n",
    "To tell you I'm sorry for everything that I've done\n",
    "But when I call, you never seem to be home\n",
    "Hello from the outside\n",
    "At least I can say that I've tried\n",
    "To tell you I'm sorry for breaking your heart\n",
    "But it don't matter, it clearly doesn't tear you apart anymore\n",
    "Hello, how are you?\n",
    "It's so typical of me to talk about myself, I'm sorry\n",
    "I hope that you're well\n",
    "Did you ever make it out of that town where nothing ever happened?\n",
    "It's no secret that the both of us are running out of time\n",
    "So hello from the other side (Other side)\n",
    "I must've called a thousand times (Thousand times)\n",
    "To tell you I'm sorry for everything that I've done\n",
    "But when I call, you never seem to be home\n",
    "Hello from the outside (Outside)\n",
    "At least I can say that I've tried (I've tried)\n",
    "To tell you I'm sorry for breaking your heart\n",
    "But it don't matter, it clearly doesn't tear you apart anymore\n",
    "Ooh-ooh, anymore\n",
    "Ooh-ooh-ooh, anymore\n",
    "Ooh-ooh, anymore\n",
    "Anymore\n",
    "Hello from the other side (Other side)\n",
    "I must've called a thousand times (Thousand times)\n",
    "To tell you I'm sorry for everything that I've done\n",
    "But when I call, you never seem to be home\n",
    "Hello from the outside (Outside)\n",
    "At least I can say that I've tried (I've tried)\n",
    "To tell you I'm sorry for breaking your heart\n",
    "But it don't matter, it clearly doesn't tear you apart anymore'''\n",
    "\n",
    "dic_song = {}\n",
    "song = song.replace('\\n', ' ').lower().split()\n",
    "for i in song:\n",
    "    dic_song[i] = song.count(i)\n",
    "print(sorted(dic_song.items(),reverse=True, key=lambda x:x[1]))"
   ]
  },
  {
   "cell_type": "code",
   "execution_count": 178,
   "id": "84a469f1-3f98-4774-8076-a638bd7db7af",
   "metadata": {},
   "outputs": [
    {
     "name": "stdout",
     "output_type": "stream",
     "text": [
      "{'hello,': 3, \"it's\": 3, 'me': 2, 'i': 12, 'was': 1, 'wondering': 1, 'if': 1, 'after': 1, 'all': 1, 'these': 1, 'years': 1, \"you'd\": 1, 'like': 1, 'to': 14, 'meet': 1, 'go': 1, 'over': 1, 'everything': 4, 'they': 1, 'say': 4, 'that': 10, \"time's\": 1, 'supposed': 1, 'heal': 1, 'ya': 1, 'but': 7, \"ain't\": 1, 'done': 4, 'much': 1, 'healing': 1, 'can': 4, 'you': 14, 'hear': 1, 'me?': 1, \"i'm\": 8, 'in': 1, 'california': 1, 'dreaming': 1, 'about': 2, 'who': 1, 'we': 2, 'used': 1, 'be': 4, 'when': 4, 'were': 1, 'younger': 1, 'and': 2, 'free': 1, \"i've\": 7, 'forgotten': 1, 'how': 2, 'it': 8, 'felt': 1, 'before': 1, 'the': 8, 'world': 1, 'fell': 1, 'at': 4, 'our': 1, 'feet': 1, \"there's\": 1, 'such': 1, 'a': 5, 'difference': 1, 'between': 1, 'us': 2, 'million': 1, 'miles': 1, 'hello': 6, 'from': 6, 'other': 3, 'side': 3, \"must've\": 3, 'called': 3, 'thousand': 3, 'times': 3, 'tell': 6, 'sorry': 7, 'for': 6, 'call,': 3, 'never': 3, 'seem': 3, 'home': 3, 'outside': 3, 'least': 3, 'tried': 3, 'breaking': 3, 'your': 3, 'heart': 3, \"don't\": 3, 'matter,': 3, 'clearly': 3, \"doesn't\": 3, 'tear': 3, 'apart': 3, 'anymore': 7, 'are': 2, 'you?': 1, 'so': 2, 'typical': 1, 'of': 4, 'talk': 1, 'myself,': 1, 'hope': 1, \"you're\": 1, 'well': 1, 'did': 1, 'ever': 2, 'make': 1, 'out': 2, 'town': 1, 'where': 1, 'nothing': 1, 'happened?': 1, 'no': 1, 'secret': 1, 'both': 1, 'running': 1, 'time': 1, '(other': 2, 'side)': 2, '(thousand': 2, 'times)': 2, '(outside)': 2, \"(i've\": 2, 'tried)': 2, 'ooh-ooh,': 2, 'ooh-ooh-ooh,': 1}\n"
     ]
    }
   ],
   "source": [
    "song = '''Hello, it's me \n",
    "I was wondering if after all these years you'd like to meet\n",
    "To go over everything\n",
    "They say that time's supposed to heal ya\n",
    "But I ain't done much healing\n",
    "Hello, can you hear me?\n",
    "I'm in California dreaming about who we used to be\n",
    "When we were younger and free\n",
    "I've forgotten how it felt before the world fell at our feet\n",
    "There's such a difference between us\n",
    "And a million miles\n",
    "Hello from the other side\n",
    "I must've called a thousand times\n",
    "To tell you I'm sorry for everything that I've done\n",
    "But when I call, you never seem to be home\n",
    "Hello from the outside\n",
    "At least I can say that I've tried\n",
    "To tell you I'm sorry for breaking your heart\n",
    "But it don't matter, it clearly doesn't tear you apart anymore\n",
    "Hello, how are you?\n",
    "It's so typical of me to talk about myself, I'm sorry\n",
    "I hope that you're well\n",
    "Did you ever make it out of that town where nothing ever happened?\n",
    "It's no secret that the both of us are running out of time\n",
    "So hello from the other side (Other side)\n",
    "I must've called a thousand times (Thousand times)\n",
    "To tell you I'm sorry for everything that I've done\n",
    "But when I call, you never seem to be home\n",
    "Hello from the outside (Outside)\n",
    "At least I can say that I've tried (I've tried)\n",
    "To tell you I'm sorry for breaking your heart\n",
    "But it don't matter, it clearly doesn't tear you apart anymore\n",
    "Ooh-ooh, anymore\n",
    "Ooh-ooh-ooh, anymore\n",
    "Ooh-ooh, anymore\n",
    "Anymore\n",
    "Hello from the other side (Other side)\n",
    "I must've called a thousand times (Thousand times)\n",
    "To tell you I'm sorry for everything that I've done\n",
    "But when I call, you never seem to be home\n",
    "Hello from the outside (Outside)\n",
    "At least I can say that I've tried (I've tried)\n",
    "To tell you I'm sorry for breaking your heart\n",
    "But it don't matter, it clearly doesn't tear you apart anymore'''\n",
    "\n",
    "dic_song = {}\n",
    "song = song.replace('\\n', ' ').lower().split()\n",
    "\n",
    "# 방법 1\n",
    "for i in song:\n",
    "    if dic_song.get(i) == None:\n",
    "        dic_song[i] = 1\n",
    "    else:\n",
    "        dic_song[i] += 1\n",
    "print(dic_song)\n",
    "\n",
    "# 방법 2\n",
    "# for i in song:\n",
    "#     dic_song[i] =  dic_song.get(i, 0) + 1\n",
    "\n",
    "# 방법 3\n",
    "# for i in song:\n",
    "#   dic_song[i] = song.count(i)"
   ]
  },
  {
   "cell_type": "markdown",
   "id": "8602f5af-d571-45b7-9ce8-04b5ede1365a",
   "metadata": {},
   "source": [
    "## 세트(집합)"
   ]
  },
  {
   "cell_type": "code",
   "execution_count": 184,
   "id": "8837da1a-62cc-4867-9557-86cc01593c70",
   "metadata": {},
   "outputs": [
    {
     "name": "stdout",
     "output_type": "stream",
     "text": [
      "{'P', 'n', 'l', 'h', 'o', ' ', 'H', 'y', 't', 'e'}\n"
     ]
    }
   ],
   "source": [
    "print(set('Hello Python'))   # 중복x, 순서x"
   ]
  },
  {
   "cell_type": "code",
   "execution_count": 190,
   "id": "0223c535-4ec6-472c-b0a4-c8b4591c7084",
   "metadata": {},
   "outputs": [
    {
     "name": "stdout",
     "output_type": "stream",
     "text": [
      "합집합:  {1, 2, 3, 4, 5, 6, 7, 8}\n",
      "교집합:  {5, 6}\n",
      "차집합:  {1, 2, 3, 4}\n",
      "배타적 차집합:  {1, 2, 3, 4, 7, 8}\n"
     ]
    }
   ],
   "source": [
    "a = {1,2,3,4,5,6}\n",
    "b = {5,6,7,8}\n",
    "\n",
    "print('합집합: ', a.union(b))\n",
    "print('교집합: ', a.intersection(b))\n",
    "print('차집합: ', a.difference(b))\n",
    "print('배타적 차집합: ', a.symmetric_difference(b))"
   ]
  },
  {
   "cell_type": "markdown",
   "id": "b95d2bea-61af-46a3-8616-389462aee95b",
   "metadata": {},
   "source": [
    "## comprehension"
   ]
  },
  {
   "cell_type": "code",
   "execution_count": 67,
   "id": "32b08df9-530f-4ed1-bc96-de302cb4216b",
   "metadata": {},
   "outputs": [
    {
     "name": "stdout",
     "output_type": "stream",
     "text": [
      "[1, 3, 3, 23, 45, 5]\n",
      "[[0, 0, 0, 0, 0, 0, 0], [0, 0, 0, 0, 0, 0, 0], [0, 0, 0, 0, 0, 0, 0], [0, 0, 0, 0, 0, 0, 0]]\n"
     ]
    }
   ],
   "source": [
    "# list comprehension\n",
    "tmp = [1,3,4,3,23,45,76,5,88]\n",
    "a = [i for i in tmp if i%2]  # 2로 나눈 나머지가 참값이면, 0이 아니면\n",
    "print(a)\n",
    "\n",
    "double_list = [[0,0,0,0,0,0,0],\n",
    "              [0,0,0,0,0,0,0],\n",
    "              [0,0,0,0,0,0,0],\n",
    "              [0,0,0,0,0,0,0]]\n",
    "\n",
    "double_list = [[0 for col in range(7)] for row in range(4)]  # 이중 리스트 [[열]행], list comprehension 중첩 가능\n",
    "print(double_list)"
   ]
  },
  {
   "cell_type": "markdown",
   "id": "276be9ee-8b36-479e-9158-2ed62443f60e",
   "metadata": {},
   "source": [
    "[문제] 1~100까지 1씩 증가하는 데이터를 발생하여 3의 배수이거나 5의 배수인 데이터만 리스트에 포함하세요."
   ]
  },
  {
   "cell_type": "code",
   "execution_count": 200,
   "id": "d2bf85a2-a168-4ac4-9a0d-8fc616cf5bc8",
   "metadata": {},
   "outputs": [
    {
     "name": "stdout",
     "output_type": "stream",
     "text": [
      "[3, 5, 6, 9, 10, 12, 15, 18, 20, 21, 24, 25, 27, 30, 33, 35, 36, 39, 40, 42, 45, 48, 50, 51, 54, 55, 57, 60, 63, 65, 66, 69, 70, 72, 75, 78, 80, 81, 84, 85, 87, 90, 93, 95, 96, 99, 100]\n"
     ]
    }
   ],
   "source": [
    "t = [i for i in range(1, 101) if not i%3 or not i%5]\n",
    "print(t)"
   ]
  },
  {
   "cell_type": "code",
   "execution_count": 203,
   "id": "99162b09-8c7c-4097-ac48-7cf00f104e08",
   "metadata": {},
   "outputs": [
    {
     "name": "stdout",
     "output_type": "stream",
     "text": [
      "{'hello,': 3, \"it's\": 3, 'me': 2, 'i': 12, 'was': 1, 'wondering': 1, 'if': 1, 'after': 1, 'all': 1, 'these': 1, 'years': 1, \"you'd\": 1, 'like': 1, 'to': 14, 'meet': 1, 'go': 1, 'over': 1, 'everything': 4, 'they': 1, 'say': 4, 'that': 10, \"time's\": 1, 'supposed': 1, 'heal': 1, 'ya': 1, 'but': 7, \"ain't\": 1, 'done': 4, 'much': 1, 'healing': 1, 'can': 4, 'you': 14, 'hear': 1, 'me?': 1, \"i'm\": 8, 'in': 1, 'california': 1, 'dreaming': 1, 'about': 2, 'who': 1, 'we': 2, 'used': 1, 'be': 4, 'when': 4, 'were': 1, 'younger': 1, 'and': 2, 'free': 1, \"i've\": 7, 'forgotten': 1, 'how': 2, 'it': 8, 'felt': 1, 'before': 1, 'the': 8, 'world': 1, 'fell': 1, 'at': 4, 'our': 1, 'feet': 1, \"there's\": 1, 'such': 1, 'a': 5, 'difference': 1, 'between': 1, 'us': 2, 'million': 1, 'miles': 1, 'hello': 6, 'from': 6, 'other': 3, 'side': 3, \"must've\": 3, 'called': 3, 'thousand': 3, 'times': 3, 'tell': 6, 'sorry': 7, 'for': 6, 'call,': 3, 'never': 3, 'seem': 3, 'home': 3, 'outside': 3, 'least': 3, 'tried': 3, 'breaking': 3, 'your': 3, 'heart': 3, \"don't\": 3, 'matter,': 3, 'clearly': 3, \"doesn't\": 3, 'tear': 3, 'apart': 3, 'anymore': 7, 'are': 2, 'you?': 1, 'so': 2, 'typical': 1, 'of': 4, 'talk': 1, 'myself,': 1, 'hope': 1, \"you're\": 1, 'well': 1, 'did': 1, 'ever': 2, 'make': 1, 'out': 2, 'town': 1, 'where': 1, 'nothing': 1, 'happened?': 1, 'no': 1, 'secret': 1, 'both': 1, 'running': 1, 'time': 1, '(other': 2, 'side)': 2, '(thousand': 2, 'times)': 2, '(outside)': 2, \"(i've\": 2, 'tried)': 2, 'ooh-ooh,': 2, 'ooh-ooh-ooh,': 1}\n"
     ]
    }
   ],
   "source": [
    "# dictionary comprehension \n",
    "dic_song = { i:song.count(i) for i in song }\n",
    "print(dic_song)"
   ]
  },
  {
   "cell_type": "markdown",
   "id": "6eb4b9b8-1b78-42b7-be5b-6de9d0d10a74",
   "metadata": {},
   "source": [
    "## zip()"
   ]
  },
  {
   "cell_type": "code",
   "execution_count": 206,
   "id": "897f2a2e-ff92-4e41-b7a8-ce00ae331011",
   "metadata": {},
   "outputs": [
    {
     "name": "stdout",
     "output_type": "stream",
     "text": [
      "[(1, 10), (2, 20), (3, 30), (4, 40), (5, 50)]\n",
      "[111, 222, 333, 444]\n"
     ]
    }
   ],
   "source": [
    "data1 = [1,2,3,4,5]\n",
    "data2 = [10,20,30,40,50]\n",
    "data3 = [100,200,300,400]\n",
    "\n",
    "result1 = [x for x in zip(data1, data2)]\n",
    "print(result1)\n",
    "result2 = [sum(x) for x in zip(data1, data2, data3)]\n",
    "print(result2)    # 짧은 원소의 길이의 시퀀스까지만"
   ]
  },
  {
   "cell_type": "code",
   "execution_count": 210,
   "id": "f77ea1fd-edf4-404f-8e8e-a5740203bc55",
   "metadata": {},
   "outputs": [
    {
     "name": "stdout",
     "output_type": "stream",
     "text": [
      "월요일 메뉴: 갈비탕\n",
      "화요일 메뉴: 순대국\n",
      "수요일 메뉴: 칼국수\n",
      "목요일 메뉴: 삼겹살\n",
      "{'월': '갈비탕', '화': '순대국', '수': '칼국수', '목': '삼겹살'}\n"
     ]
    }
   ],
   "source": [
    "yoil = ['월','화','수','목','금','토','일']\n",
    "food = ['갈비탕', '순대국', '칼국수', '삼겹살']\n",
    "menu = zip(yoil, food)\n",
    "for y, f in menu:\n",
    "    print('%s요일 메뉴: %s'%(y,f))\n",
    "\n",
    "d = dict(zip(yoil, food))   # 딕셔너리 형태로\n",
    "print(d)"
   ]
  },
  {
   "cell_type": "markdown",
   "id": "b5ba434f-c9c5-4c73-8323-d91f98070b0a",
   "metadata": {},
   "source": [
    "## enumerate()\n",
    "- 명목형 데이터를 라벨링하는데 많이 사용"
   ]
  },
  {
   "cell_type": "code",
   "execution_count": 212,
   "id": "fb10597c-c92e-4501-8fe3-5c6c3065b353",
   "metadata": {},
   "outputs": [
    {
     "name": "stdout",
     "output_type": "stream",
     "text": [
      "1 월\n",
      "2 화\n",
      "3 수\n",
      "4 목\n",
      "5 금\n",
      "6 토\n",
      "7 일\n"
     ]
    }
   ],
   "source": [
    "yoil = ['월','화','수','목','금','토','일']\n",
    "for i, item in enumerate(yoil, 1):    # 두번째 인수로 시작값을 지정 가능\n",
    "    print(i, item)"
   ]
  },
  {
   "cell_type": "code",
   "execution_count": 68,
   "id": "72390b2b-db26-4197-8540-2ce06b2d27c1",
   "metadata": {},
   "outputs": [
    {
     "name": "stdout",
     "output_type": "stream",
     "text": [
      "{'빨강': 1, '주황': 2, '노랑': 3, '초록': 4, '파랑': 5}\n"
     ]
    }
   ],
   "source": [
    "# 색깔 데이터를 라벨링, 색깔 데이터를 숫자값으로, 즉 key값이 색 value값이 숫자(인덱스)\n",
    "color = ['빨강','주황','노랑','초록','파랑']\n",
    "map_data = { v:i for i,v in enumerate(color, 1)}\n",
    "print(map_data)"
   ]
  },
  {
   "cell_type": "markdown",
   "id": "f12fee59-2879-4471-a132-29aa669d80d1",
   "metadata": {},
   "source": [
    "<pre>\n",
    "    [문제] 목표 날짜 구하기\n",
    "\n",
    "사용자로부터 입력 받은 기준 날짜로부터 며칠이 경과된 목표 날짜를 계산하는 프로그램을 작성하세요.\n",
    "\n",
    "예시)\n",
    "    연도를 입력해 주세요: 2019\n",
    "    월을 입력해 주세요: 2\n",
    "    일을 입력해 주세요: 5\n",
    "    며칠째 되는 날을 구하고 싶은가요? 10\n",
    "    2019년 2월 5일로부터 10일째 되는 날은 2019년 2월 10일입니다.\n",
    "\n",
    "    -월의 최대 일수가 넘어가면 +1월\n",
    "    -년의 최대 일수가 넘어가면 +1년\n",
    "</pre>"
   ]
  },
  {
   "cell_type": "code",
   "execution_count": null,
   "id": "9af0de0d-ad91-49fb-a40d-83f8ed2fc361",
   "metadata": {},
   "outputs": [],
   "source": [
    "daysInMonth=[31,28,31,30,31,30,31,31,30,31,30,31]\n",
    "year=int(input('년도를 입력하세요: '))\n",
    "month=int(input('월을 입력하세요: '))\n",
    "day=int(input('일을 입력하세요: '))\n",
    "plusDay=int(input('며칠째 되는 날을 구하고 싶은가요?: ')\n",
    "\n",
    "if month == 12:\n",
    "    if Dday > 31:\n",
    "        print(f'{year}년 {month}월 {day}일로부터 {plusDay}일째 되는 날은 {year+1}년 1월 {daysInMonth-day-plusDay}일입니다.')\n",
    "    else:\n",
    "        print(f'{year}년 {month}월 {day}일로부터 {plusDay}일째 되는 날은 {year}년 1월 {Dday}일입니다.')\n",
    "elif month == 2:\n",
    "    if (year%4==0 and year%100!=0)or(year%400==0):\n",
    "        if Dday > 29:\n",
    "            print(f'{year}년 {month}월 {day}일로부터 {plusDay}일째 되는 날은 {year+1}년 3월 {daysInMonth-day-plusDay}일입니다.')\n",
    "        else:\n",
    "            print(f'{year}년 {month}월 {day}일로부터 {plusDay}일째 되는 날은 {year}년 2월 {Dday}일입니다.')\n",
    "    else:\n",
    "        if Dday > 28:\n",
    "             if Dday > 28:\n",
    "                print(f'{year}년 {month}월 {day}일로부터 {plusDay}일째 되는 날은 {year+1}년 3월 {daysInMonth-day-plusDay}일입니다.')\n",
    "            else:\n",
    "                print(f'{year}년 {month}월 {day}일로부터 {plusDay}일째 되는 날은 {year}년 2월 {Dday}일입니다.')\n",
    "else:\n",
    "    "
   ]
  },
  {
   "cell_type": "code",
   "execution_count": null,
   "id": "9b2109b7-c16d-415b-8169-7b183169cdf4",
   "metadata": {},
   "outputs": [],
   "source": [
    "year, mon, day = input(\"년 원일을 공백문자로 구분하여 입력하세요 : \").split()\n",
    "no_days = 0\n",
    "\n",
    "while no_days < 1:\n",
    "    print(\"%s년 %s월 %s일로부터 경과되는 일수를 입력하세요 : \" %(year, mon, day), end = '')\n",
    "    no_days = int(input())\n",
    "\n",
    "year = int(year)\n",
    "mon = int(mon)\n",
    "day = int(day)\n",
    "\n",
    "leap_year = False\n",
    "month = [31,28,31,30,31,30,31,31,30,31,30,31]\n",
    "leap_month = [31,29,31,30,31,30,31,31,30,31,30,31]\n",
    "\n",
    "if (year % 4 == 0 and year % 100 != 0) or year % 400 == 0:\n",
    "    leap_year = True\n",
    "\n",
    "# no_days만큼 반복문을 실행하며 day에 1씩 더해줍니다.\n",
    "for i in range(no_days):\n",
    "    day += 1\n",
    "\n",
    "    if leap_year == True:\n",
    "        # day가 해당 month의 일수보다 커지면 day를 낮춰주고 mon을 1 더해줍니다.\n",
    "        # ex) mon = 1, day = 32 -> day = 32 - 31 = 1, mon = 1 + 1 = 2\n",
    "        if day >= leap_month[mon-1]:\n",
    "            day = day - leap_month[mon-1]\n",
    "            mon += 1\n",
    "    else:\n",
    "        if day >= month[mon-1]:\n",
    "            day = day - month[mon-1]\n",
    "            mon += 1\n",
    "    # mon이 12보다 크면 mon을 1로 초기화하고 year를 1 더해줍니다.\n",
    "    if mon > 12:\n",
    "        mon = 1\n",
    "        year += 1\n",
    "        # 새로운 year가 윤년인지 아닌지 판단합니다.\n",
    "        if (year % 4 == 0 and year % 100 != 0) or year % 400 == 0:\n",
    "            leap_year = True\n",
    "        else:\n",
    "            leap_year = False\n"
   ]
  },
  {
   "cell_type": "code",
   "execution_count": 231,
   "id": "cad7374b-579b-41ae-8efc-e1fea1f01dbc",
   "metadata": {},
   "outputs": [
    {
     "name": "stdin",
     "output_type": "stream",
     "text": [
      "년도를 입력하세요:  2010\n",
      "월을 입력하세요:  7\n",
      "일을 입력하세요:  4\n",
      "며칠째 되는 날을 구하고 싶은가요?:  1000\n"
     ]
    },
    {
     "name": "stdout",
     "output_type": "stream",
     "text": [
      "2013 년 3 월 30 일 입니다.\n"
     ]
    }
   ],
   "source": [
    "plusDay = 0\n",
    "Dmon = 0\n",
    "\n",
    "daysInMonth1=[31,28,31,30,31,30,31,31,30,31,30,31]\n",
    "daysInMonth2=[31,29,31,30,31,30,31,31,30,31,30,31]\n",
    "leap_year = False\n",
    "\n",
    "year=int(input('년도를 입력하세요: '))\n",
    "mon=int(input('월을 입력하세요: '))\n",
    "day=int(input('일을 입력하세요: '))\n",
    "plusDay=int(input('며칠째 되는 날을 구하고 싶은가요?: '))\n",
    "Fyear=year\n",
    "Fmonth=month\n",
    "Fday=day\n",
    "\n",
    "\n",
    "if (year % 4 == 0 and year % 100 != 0) or year % 400 == 0:\n",
    "    leap_year = True\n",
    "\n",
    "for i in range(plusDay):\n",
    "    day += 1\n",
    "    \n",
    "    if leap_year == True:\n",
    "        if day >= daysInMonth2[mon-1]:\n",
    "            day = day - daysInMonth2[mon-1]\n",
    "            mon += 1\n",
    "    else:\n",
    "        if day >= daysInMonth1[mon-1]:\n",
    "            day = day - daysInMonth1[mon-1]\n",
    "            mon += 1\n",
    "    if mon > 12:\n",
    "        mon = 1\n",
    "        year += 1\n",
    "        if (year % 4 == 0 and year % 100 != 0) or year % 400 == 0:\n",
    "            leap_year = True\n",
    "        else:\n",
    "            leap_year = False\n",
    "\n",
    "print(f'{Fyear}년 {Fmonth}월{Fday}일로부터 {plusDay}일째 되는 날은 {year}년 {month}월 {day}일입니다.')\n"
   ]
  },
  {
   "cell_type": "code",
   "execution_count": null,
   "id": "0796c00a-c6cf-4b82-bcc3-a193e5d30084",
   "metadata": {},
   "outputs": [],
   "source": [
    "year = int(input('연도를 입력해 주세요: '))\n",
    "month = int(input('월을 입력해 주세요: '))\n",
    "day = int(input('일을 입력해 주세요: '))\n",
    "addDay = int(input('며칠째 되는 날을 구하고 싶은가요? '))\n",
    "inputValue=(year, month, day)\n",
    "\n",
    "dayInMonth = [31, 28, 31, 30, 31, 30, 31, 31, 30, 31, 30, 31]\n",
    "\n",
    "leap_year = (year % 4 == 0 and year % 100 != 0) or (year % 400 == 0)\n",
    "\n",
    "if leap_year:\n",
    "    dayInMonth[1] = 29\n",
    "\n",
    "day += addDay\n",
    "\n",
    "while day > dayInMonth[month-1]:\n",
    "    day -= dayInMonth[month-1]\n",
    "    month += 1\n",
    "    if month > 12:\n",
    "        month = 1\n",
    "        year += 1\n",
    "\n",
    "\n",
    "        leap_year = (year % 4 == 0 and year % 100 != 0) or (year % 400 == 0)\n",
    "        if leap_year:\n",
    "            dayInMonth[1] = 29\n",
    "        else:\n",
    "            dayInMonth[1] = 28\n",
    "\n",
    "print(f\"{inputValue[0]}년 {inputValue[1]}월 {inputValue[2]}일로부터 {addDay}일째 되는 날은 {year}년 {month}월 {day}일입니다.\")\n"
   ]
  },
  {
   "cell_type": "markdown",
   "id": "ab475032-d75b-4dad-8ef7-d0255839d335",
   "metadata": {},
   "source": [
    "[문제] 리스트 x와 y를 이용하여 리스트 z와 같은 결과가 나오도록 하세요.\n",
    "- x는 = [[1,2,3],[4,5,6]]\n",
    "- y는 = [[11,12,13],[14,15,16]]\n",
    "- z = [[12,14,16],[18,20,22]]\n",
    "- hint: list comprehension, zip() 이용"
   ]
  },
  {
   "cell_type": "code",
   "execution_count": 9,
   "id": "ab1986be-4c6e-4787-b273-946263fa5da0",
   "metadata": {},
   "outputs": [
    {
     "name": "stdout",
     "output_type": "stream",
     "text": [
      "[([1, 2, 3], [11, 12, 13]), ([4, 5, 6], [14, 15, 16])]\n",
      "[[12, 14, 16], [18, 20, 22]]\n"
     ]
    }
   ],
   "source": [
    "x=[[1,2,3],[4,5,6]]\n",
    "y=[[11,12,13],[14,15,16]]\n",
    "print(list(zip(x,y)))\n",
    "\n",
    "z = [[sum(c) for c in zip(a,b)]for a,b in zip(x,y)]  \n",
    "# [[뒤의 반복문의 변수 두개를 zip으로 묶어서 합계 구하기] 두개의 이중리스트 zip으로 합쳐서 변수 두 개로 받기]\n",
    "# c --> [(1,11),(2,12),(3,13)]\n",
    "print(z)"
   ]
  },
  {
   "cell_type": "markdown",
   "id": "03471bbd-daab-45be-8b6f-7c36d80dacb6",
   "metadata": {},
   "source": [
    "# 함수"
   ]
  },
  {
   "cell_type": "code",
   "execution_count": 4,
   "id": "189ba681-78f5-444a-b459-a53c82467a4f",
   "metadata": {},
   "outputs": [
    {
     "name": "stdout",
     "output_type": "stream",
     "text": [
      "{'food': '스테이크', 'drink': '포도주', 'dessert': '치즈케익'}\n",
      "{'food': '잔치국수', 'drink': '막걸리', 'dessert': '파전'}\n",
      "{'food': '연어초밥', 'drink': '사케', 'dessert': '아이스크림'}\n",
      "{'food': '돈부리', 'drink': '사케', 'dessert': '아이스크림'}\n"
     ]
    }
   ],
   "source": [
    "# 위치 인수를 이용한 함수의 호출\n",
    "def restaurant(food, drink, dessert):\n",
    "    return {'food':food, 'drink':drink, 'dessert':dessert}  # 딕셔너리로 반환\n",
    "\n",
    "first = restaurant('스테이크', '포도주', '치즈케익')  # 위치 인수, 위치에 따라 매개변수에 전달됨\n",
    "print(first)\n",
    "\n",
    "# 키워드 인수를 이용한 함수의 호출\n",
    "# 호출 시 매개변수의 이름을 함께 지정해서 값을 전달, 순서에 상관 없이 호출 가능\n",
    "second = restaurant(drink='막걸리', dessert='파전', food='잔치국수')\n",
    "print(second)\n",
    "\n",
    "# default parameter: 매개변수에 초기값을 지정\n",
    "def restaurant(food='연어초밥', drink='사케', dessert='아이스크림'):\n",
    "    return {'food':food, 'drink':drink, 'dessert':dessert}\n",
    "print(restaurant())  # 초기값이 사용됨\n",
    "print(restaurant('돈부리'))"
   ]
  },
  {
   "cell_type": "code",
   "execution_count": 6,
   "id": "5a2be71c-d837-4a66-84bd-467b6e5f5623",
   "metadata": {},
   "outputs": [
    {
     "name": "stdout",
     "output_type": "stream",
     "text": [
      "함수 내 price 값: 5000\n",
      "sales 함수 호출 후 price값: 5000\n"
     ]
    }
   ],
   "source": [
    "price = 1000   # 전역변수\n",
    "\n",
    "def sales():\n",
    "    global price  # 전역변수 사용\n",
    "    price = 5000  # 지역변수 \n",
    "    print('함수 내 price 값:',price)\n",
    "\n",
    "sales()  # 함수 호출(사용)\n",
    "print('sales 함수 호출 후 price값:', price) # 함수 밖에서 선언된 price, 전역변수"
   ]
  },
  {
   "cell_type": "code",
   "execution_count": 9,
   "id": "ecf29f82-d589-4390-9848-8f78b549bc31",
   "metadata": {},
   "outputs": [
    {
     "name": "stdout",
     "output_type": "stream",
     "text": [
      "1~10까지의 합 = 55\n",
      "1~10까지의 합 = 55\n"
     ]
    }
   ],
   "source": [
    "def calcstep(begin, end, step=1):   # 초기값 설정은 뒤에서\n",
    "    sum = 0\n",
    "    for num in range(begin, end+1, step):  # 함수의 body, 함수 호출시 실행되는 문장\n",
    "        sum += num\n",
    "    return(sum)\n",
    "\n",
    "print('1~10까지의 합 =', calcstep(1,10))\n",
    "print('1~10까지의 합 =', calcstep(end=10, begin=1))  # 키워드 인수 이용"
   ]
  },
  {
   "cell_type": "markdown",
   "id": "142387b9-d9cf-455b-af10-6ebb5286d4cd",
   "metadata": {},
   "source": [
    "[문제] 다음과 같은 결과를 출력하는 함수를 정의하세요.\n",
    "<pre>\n",
    "    print_star(5)\n",
    "    *\n",
    "    **\n",
    "    ***\n",
    "    ****\n",
    "    *****\n",
    "</pre>"
   ]
  },
  {
   "cell_type": "code",
   "execution_count": 24,
   "id": "5373c647-9376-42ff-90df-e2fc206f44e2",
   "metadata": {
    "scrolled": true
   },
   "outputs": [
    {
     "name": "stdout",
     "output_type": "stream",
     "text": [
      "*\n",
      "**\n",
      "***\n",
      "****\n",
      "*****\n"
     ]
    }
   ],
   "source": [
    "def print_star(number):\n",
    "    for i in range(1, number+1):\n",
    "        print('*'*i)\n",
    "        # return 필요x, 함수 실행되면 출력값이 도출되기 때문\n",
    "        \n",
    "print_star(5) # 출력x, 실행만 하면 됨"
   ]
  },
  {
   "cell_type": "markdown",
   "id": "4a1415c3-599a-4b91-8e57-40b6f033d3c1",
   "metadata": {},
   "source": [
    "[문제] 함수를 이용한 계산기\n",
    "<pre>\n",
    "    이항사칙연산을 매개변수로 받아 연산의 결과를 출력하는 함수를 정의하세요.\n",
    "    * 함수 형식: calculator(exp)\n",
    "    * exp: 사용자로부터 입력 받은 문자열 형태의 이항사칙연산식\n",
    "    [실행예]\n",
    "    계산식을 입력하세요: 10+20\n",
    "    10+20=30.00\n",
    "\n",
    "    계산식을 입력하세요: 10a\n",
    "    연산자 오류\n",
    "\n",
    "    계산식을 입력하세요: 10/0\n",
    "    0으로 나눌 수 없습니다.\n",
    "</pre>"
   ]
  },
  {
   "cell_type": "code",
   "execution_count": 25,
   "id": "0c03965a-9999-4f3b-93a3-0a50fc521be5",
   "metadata": {},
   "outputs": [
    {
     "name": "stdin",
     "output_type": "stream",
     "text": [
      "계산식을 입력하세요:  10+20\n"
     ]
    },
    {
     "ename": "UnboundLocalError",
     "evalue": "cannot access local variable 'x' where it is not associated with a value",
     "output_type": "error",
     "traceback": [
      "\u001b[1;31m---------------------------------------------------------------------------\u001b[0m",
      "\u001b[1;31mUnboundLocalError\u001b[0m                         Traceback (most recent call last)",
      "Cell \u001b[1;32mIn[25], line 31\u001b[0m\n\u001b[0;32m     28\u001b[0m     \u001b[38;5;28mprint\u001b[39m(\u001b[38;5;124mf\u001b[39m\u001b[38;5;124m'\u001b[39m\u001b[38;5;132;01m{\u001b[39;00mexp\u001b[38;5;132;01m}\u001b[39;00m\u001b[38;5;124m=\u001b[39m\u001b[38;5;132;01m{\u001b[39;00mresult\u001b[38;5;132;01m:\u001b[39;00m\u001b[38;5;124m.2f\u001b[39m\u001b[38;5;132;01m}\u001b[39;00m\u001b[38;5;124m'\u001b[39m)    \n\u001b[0;32m     30\u001b[0m exp \u001b[38;5;241m=\u001b[39m \u001b[38;5;28minput\u001b[39m(\u001b[38;5;124m'\u001b[39m\u001b[38;5;124m계산식을 입력하세요: \u001b[39m\u001b[38;5;124m'\u001b[39m)\n\u001b[1;32m---> 31\u001b[0m calculator(exp)\n",
      "Cell \u001b[1;32mIn[25], line 17\u001b[0m, in \u001b[0;36mcalculator\u001b[1;34m(exp)\u001b[0m\n\u001b[0;32m     14\u001b[0m     \u001b[38;5;28;01mreturn\u001b[39;00m\n\u001b[0;32m     16\u001b[0m result \u001b[38;5;241m=\u001b[39m \u001b[38;5;241m0.0\u001b[39m\n\u001b[1;32m---> 17\u001b[0m \u001b[38;5;28;01mif\u001b[39;00m \u001b[38;5;124m'\u001b[39m\u001b[38;5;124m+\u001b[39m\u001b[38;5;124m'\u001b[39m \u001b[38;5;241m==\u001b[39m exp[x]:\n\u001b[0;32m     18\u001b[0m     result \u001b[38;5;241m=\u001b[39m first \u001b[38;5;241m+\u001b[39m second\n\u001b[0;32m     19\u001b[0m \u001b[38;5;28;01mif\u001b[39;00m \u001b[38;5;124m'\u001b[39m\u001b[38;5;124m-\u001b[39m\u001b[38;5;124m'\u001b[39m \u001b[38;5;241m==\u001b[39m exp[x]:\n",
      "\u001b[1;31mUnboundLocalError\u001b[0m: cannot access local variable 'x' where it is not associated with a value"
     ]
    }
   ],
   "source": [
    "# 입력 받은 문자열 계산식을 연산자를 기준으로 나누고 숫자로 변환하여 계산\n",
    "# 사칙연산자가 아닐 경우 오류 메시지 출력\n",
    "# 나누기연산자 사용시 0으로 나눌 경우 오류 메시지 출력\n",
    "def calculator(exp):\n",
    "    cal = '+','-','*','/'\n",
    "    if cal in exp:     # 첫번째 +만 in 함수 적용됨, for문 필요\n",
    "        x = exp.find(cal)\n",
    "        exp_list = exp.split(exp[x])\n",
    "        first = float(exp_list[0])\n",
    "        second = float(exp_list[1])\n",
    "        \n",
    "    if not ('+'or'-'or'*'or'/') in exp:\n",
    "        print('연산자 오류')\n",
    "        return\n",
    "        \n",
    "    result = 0.0\n",
    "    if '+' == exp[x]:\n",
    "        result = first + second\n",
    "    if '-' == exp[x]:\n",
    "        result = first - second\n",
    "    if '*' == exp[x]:\n",
    "        result = first * second\n",
    "    if '/' == exp[x]:\n",
    "        if secon == 0:\n",
    "            print('0으로 나눌 수 없습니다.')\n",
    "        else:\n",
    "            result = first / second\n",
    "    print(f'{exp}={result:.2f}')    \n",
    "    \n",
    "exp = input('계산식을 입력하세요: ')\n",
    "calculator(exp)"
   ]
  },
  {
   "cell_type": "code",
   "execution_count": 18,
   "id": "39f0925e-f2ba-4912-aac1-8d086b6e9545",
   "metadata": {
    "scrolled": true
   },
   "outputs": [
    {
     "name": "stdin",
     "output_type": "stream",
     "text": [
      "계산식을 입력하세요:  10+20\n"
     ]
    },
    {
     "name": "stdout",
     "output_type": "stream",
     "text": [
      "10+20=30.00\n"
     ]
    }
   ],
   "source": [
    "# answer\n",
    "def calculator(exp):\n",
    "    operator = ''\n",
    "    for op in ['+','-','*','/']:   \n",
    "        if op in exp:          # 연산자 있는지 확인\n",
    "            operator = op\n",
    "            break \n",
    "    else:\n",
    "        print('연산자 오류!')\n",
    "        return\n",
    "\n",
    "    value1 = float(exp.split(operator)[0])\n",
    "    value2 = float(exp.split(operator)[1])\n",
    "\n",
    "    result = 0.0\n",
    "    if operator == '+':\n",
    "        result = value1 + value2\n",
    "    elif operator == '-':\n",
    "        result = value1 - value2\n",
    "    elif operator == '*':\n",
    "        result = value1 * value2\n",
    "    elif operator == '/':\n",
    "        if value2 == 0:\n",
    "            print('0으로 나눌 수 없습니다.')\n",
    "            return\n",
    "        else:\n",
    "            result = value1 / value2\n",
    "    print(f'{exp}={result:.2f}')   # formatted string의 서식 지정방법; 변수:.서식\n",
    "\n",
    "exp = input('계산식을 입력하세요: ')\n",
    "calculator(exp)"
   ]
  },
  {
   "cell_type": "markdown",
   "id": "ce1bd408-5e75-4fa4-bb31-f56910056ac0",
   "metadata": {},
   "source": [
    "# eval() : 동적 코드 실행\n",
    "<pre>\n",
    "- eval 함수는 문자열 형태로 된 파이썬 표현식을 평가해서 그 결과를 리턴해줌\n",
    "- eval 함수를 통해 실시간으로 코드를 만들어 실행할 수도 있다.\n",
    "</pre>"
   ]
  },
  {
   "cell_type": "code",
   "execution_count": 26,
   "id": "a91b9960-f2fb-466d-8cb1-ebb73e678d9a",
   "metadata": {},
   "outputs": [
    {
     "name": "stdout",
     "output_type": "stream",
     "text": [
      "14\n",
      "서울,대전,광주,"
     ]
    }
   ],
   "source": [
    "result = eval('2 + 3 * 4')\n",
    "print(result)\n",
    "\n",
    "city = eval(\"['서울', '대전', '광주']\")  # 리스트로 바뀜, for문으로 순회가능\n",
    "for c in city:\n",
    "    print(c, end = ',')"
   ]
  },
  {
   "cell_type": "markdown",
   "id": "01ffcee7-a5b9-48da-9396-a2ab5deb88c9",
   "metadata": {},
   "source": [
    "## *arg와 **kwarg 매개변수"
   ]
  },
  {
   "cell_type": "code",
   "execution_count": 29,
   "id": "bf1735d6-a785-4318-8757-5941e6e9a91f",
   "metadata": {
    "scrolled": true
   },
   "outputs": [
    {
     "name": "stdout",
     "output_type": "stream",
     "text": [
      "결과:  ()\n",
      "결과:  (1, 2, 3)\n",
      "결과:  (1,)\n"
     ]
    }
   ],
   "source": [
    "def test(*args):\n",
    "    print('결과: ', args)\n",
    "\n",
    "test()      # 튜플\n",
    "test(1,2,3)\n",
    "test(1)     # 튜플, 원소가 하나인 경우 ,로 끝나야함"
   ]
  },
  {
   "cell_type": "code",
   "execution_count": 32,
   "id": "93771d88-a852-4b9a-bba0-59591a68ad5a",
   "metadata": {},
   "outputs": [
    {
     "name": "stdout",
     "output_type": "stream",
     "text": [
      "a:  10\n",
      "b:  20\n",
      "args:  ()\n",
      "a:  10\n",
      "b:  20\n",
      "args:  (30,)\n"
     ]
    }
   ],
   "source": [
    "def myargs(a, b, *args):    #일반 매개변수와 가변매개변수 혼용 가능, 가변매개변수는 뒤에\n",
    "    print('a: ',a)\n",
    "    print('b: ',b)\n",
    "    print('args: ',args)\n",
    "\n",
    "# myargs(10)   # 일반인수는 충족해야함\n",
    "myargs(10,20)\n",
    "myargs(10,20,30)"
   ]
  },
  {
   "cell_type": "code",
   "execution_count": 36,
   "id": "fb80b26f-4b9d-40e9-acb0-cc177ea2a70d",
   "metadata": {},
   "outputs": [
    {
     "name": "stdout",
     "output_type": "stream",
     "text": [
      "10\n",
      "{}\n",
      "10\n",
      "{'b': 20, 'c': 30}\n"
     ]
    }
   ],
   "source": [
    "def myargs2(a, **kwargs):\n",
    "    print(a)\n",
    "    print(kwargs)\n",
    "\n",
    "myargs2(10)\n",
    "# myargs2(10, 20)  # 키워드 가변매개변수, 변수와 값을 맵핑해야함\n",
    "myargs2(10, b=20, c=30)"
   ]
  },
  {
   "cell_type": "code",
   "execution_count": 46,
   "id": "09d29977-9949-4bee-aa14-dea1b1f4e124",
   "metadata": {},
   "outputs": [
    {
     "name": "stdout",
     "output_type": "stream",
     "text": [
      "55\n"
     ]
    }
   ],
   "source": [
    "def calcstep(**kwargs):\n",
    "    begin = kwargs['begin']   #kwargs.get('begin'), 비권장, 의도한 키값이 넘어오지 않아도 결과 도출\n",
    "    end = kwargs['end']\n",
    "    step = kwargs['step']\n",
    "\n",
    "    sum = 0\n",
    "    for n in range(begin, end+1, step):\n",
    "        sum += n\n",
    "\n",
    "    return sum\n",
    "    \n",
    "print(calcstep(begin=1, end=10, step=1))"
   ]
  },
  {
   "cell_type": "code",
   "execution_count": 45,
   "id": "13d256cd-6bdc-4d9b-8933-7edf83c1d244",
   "metadata": {},
   "outputs": [
    {
     "name": "stdout",
     "output_type": "stream",
     "text": [
      "55\n"
     ]
    }
   ],
   "source": [
    "def calcstep(step=1, **kwargs):  # 초기값 설정\n",
    "    begin = kwargs['begin']  \n",
    "    end = kwargs['end']\n",
    "\n",
    "    sum = 0\n",
    "    for n in range(begin, end+1, step):\n",
    "        sum += n\n",
    "\n",
    "    return sum\n",
    "\n",
    "print(calcstep(begin=1, end=10))"
   ]
  },
  {
   "cell_type": "markdown",
   "id": "439d8fec-b428-4986-8af3-25216421f418",
   "metadata": {},
   "source": [
    "# filter, map, reduce"
   ]
  },
  {
   "cell_type": "code",
   "execution_count": 47,
   "id": "4865cdf4-3cbc-4dbc-ab3d-2b93c93d781c",
   "metadata": {},
   "outputs": [
    {
     "name": "stdout",
     "output_type": "stream",
     "text": [
      "낙제점수:  45\n",
      "낙제점수:  53\n"
     ]
    }
   ],
   "source": [
    "# filter()\n",
    "def flunk(s):\n",
    "    return s < 60\n",
    "    \n",
    "score = [45, 89, 72, 53, 94]\n",
    "for s in filter(flunk, score):   \n",
    "    # 함수를 인수로 전달, 스코어 리스트를 사용자 함수로 정의된 조건들을 충족하면 리스트에 넣음\n",
    "    print('낙제점수: ',s)"
   ]
  },
  {
   "cell_type": "code",
   "execution_count": 49,
   "id": "90360f1d-35ff-48af-bc96-acd1699bef23",
   "metadata": {},
   "outputs": [
    {
     "name": "stdout",
     "output_type": "stream",
     "text": [
      "22.5,44.5,36.0,26.5,47.0,<map object at 0x00000208447BC2B0>\n"
     ]
    }
   ],
   "source": [
    "# map()\n",
    "def half(s):\n",
    "    return s/2\n",
    "\n",
    "data = [45, 89, 72, 53, 94]\n",
    "# print(list(map(half, data))) # list를 씌우지 않고 출력시 주소값을 출력\n",
    "for d in map(half, data):  \n",
    "    # 데이터 리스트를 half 함수로 절반으로 처리한 후 실행 결과를 리스트로 넣음\n",
    "    print(d, end=',')"
   ]
  },
  {
   "cell_type": "code",
   "execution_count": 51,
   "id": "ed755819-bed3-4085-a832-f2518ea63793",
   "metadata": {},
   "outputs": [
    {
     "name": "stdout",
     "output_type": "stream",
     "text": [
      "353\n",
      "Hello python\n"
     ]
    }
   ],
   "source": [
    "# reduce()\n",
    "from functools import reduce\n",
    "\n",
    "def sum(a,b):    # 집계함수, a=> 누적자; 시작은 0, b=>현재 새로 들어오는 값,, \n",
    "    return a + b\n",
    "\n",
    "score = [45, 89, 72, 53, 94]\n",
    "print(reduce(sum,score))\n",
    "\n",
    "alphabet = ['H','e','l','l','o',' ','p','y','t','h','o','n']\n",
    "print(reduce(sum,alphabet))"
   ]
  },
  {
   "cell_type": "markdown",
   "id": "290e45ab-0923-4d4a-94ac-24aba540e77f",
   "metadata": {},
   "source": [
    "# lambda"
   ]
  },
  {
   "cell_type": "code",
   "execution_count": 54,
   "id": "322e8ef3-d989-440a-9cac-de2dcdb34d61",
   "metadata": {},
   "outputs": [
    {
     "name": "stdout",
     "output_type": "stream",
     "text": [
      "30\n",
      "30\n"
     ]
    }
   ],
   "source": [
    "def myfunc(x,y):\n",
    "    return x + y\n",
    "\n",
    "result = myfunc(10,20)\n",
    "print(result)\n",
    "\n",
    "# lambda\n",
    "result2 = lambda x, y : x+y     # lambda 매개변수 : 리턴할 수식\n",
    "print(result2(10,20))"
   ]
  },
  {
   "cell_type": "code",
   "execution_count": 55,
   "id": "18400e4f-4efe-4069-8390-5c64d5069c42",
   "metadata": {},
   "outputs": [
    {
     "data": {
      "text/plain": [
       "[1, 4, 9, 16, 25]"
      ]
     },
     "execution_count": 55,
     "metadata": {},
     "output_type": "execute_result"
    }
   ],
   "source": [
    "a = [1,2,3,4,5]\n",
    "list(map(lambda x : x**2, a))"
   ]
  },
  {
   "cell_type": "code",
   "execution_count": 56,
   "id": "75cf7435-7a2b-4945-92ab-d67f2b58a802",
   "metadata": {},
   "outputs": [
    {
     "data": {
      "text/plain": [
       "[11, 22, 33, 44, 55]"
      ]
     },
     "execution_count": 56,
     "metadata": {},
     "output_type": "execute_result"
    }
   ],
   "source": [
    "x = [1,2,3,4,5]\n",
    "y = [10,20,30,40,50]\n",
    "\n",
    "list(map(lambda x1, y1 : x1+y1, x,y))\n",
    "# x리스트의 값은 x1에 차례대로 들어가고 y리스트의 값은 y1에 차례대로 들어가 수식 처리"
   ]
  },
  {
   "cell_type": "code",
   "execution_count": 57,
   "id": "8293f33a-2f8c-4c22-a188-71f8e993fe6a",
   "metadata": {},
   "outputs": [
    {
     "data": {
      "text/plain": [
       "15"
      ]
     },
     "execution_count": 57,
     "metadata": {},
     "output_type": "execute_result"
    }
   ],
   "source": [
    "x = [1,2,3,4,5]\n",
    "\n",
    "reduce(lambda a,b:a+b, x) # reduce()는 집계함수, 두 개의 인자 필요(누적자, 현재의 새로운 값)"
   ]
  },
  {
   "cell_type": "markdown",
   "id": "bb6bb6d4-1368-4318-8ee3-def94d74298e",
   "metadata": {},
   "source": [
    "[문제] 1~10사이의 연속된 값을 range함수를 이용하여 생성한 후, map과 lambda를 이용하여 짝수에 해당하는 값만 제곱한 값을 원소로 갖는 리스트를 생성하세요."
   ]
  },
  {
   "cell_type": "code",
   "execution_count": 60,
   "id": "0a70db03-4ee6-42f8-bb4d-9a302ec78ed2",
   "metadata": {},
   "outputs": [
    {
     "name": "stdout",
     "output_type": "stream",
     "text": [
      "[1, 2, 3, 4, 5, 6, 7, 8, 9, 10]\n"
     ]
    },
    {
     "data": {
      "text/plain": [
       "[1, 4, 3, 16, 5, 36, 7, 64, 9, 100]"
      ]
     },
     "execution_count": 60,
     "metadata": {},
     "output_type": "execute_result"
    }
   ],
   "source": [
    "my_list = []\n",
    "for i in range(1,11):\n",
    "    my_list += [i]\n",
    "print(my_list)\n",
    "\n",
    "list(map(lambda x : x**2 if x%2 == 0 else x, my_list))"
   ]
  },
  {
   "cell_type": "code",
   "execution_count": 61,
   "id": "2757af25-c914-441d-b7c5-cc330f329708",
   "metadata": {},
   "outputs": [
    {
     "name": "stdout",
     "output_type": "stream",
     "text": [
      "[1, 4, 3, 16, 5, 36, 7, 64, 9, 100]\n"
     ]
    }
   ],
   "source": [
    "# answer\n",
    "# map(함수이름, 연속형 데이터)\n",
    "# lambda 매개변수:리턴 식\n",
    "\n",
    "print(list(map(lambda x : x**2 if not x%2 else x , range(1,11))))"
   ]
  },
  {
   "cell_type": "markdown",
   "id": "dd8058eb-03e4-4232-b788-3f5e528afe07",
   "metadata": {},
   "source": [
    "# 내부함수(지역함수)"
   ]
  },
  {
   "cell_type": "code",
   "execution_count": 62,
   "id": "9c50c904-c8fc-4a0a-a924-5d9ebdadf1d6",
   "metadata": {},
   "outputs": [
    {
     "name": "stdout",
     "output_type": "stream",
     "text": [
      "11\n"
     ]
    }
   ],
   "source": [
    "def outer(a,b):\n",
    "    def inner(c,d):\n",
    "        return c+d\n",
    "    return inner(a,b)\n",
    "\n",
    "print(outer(4,7))"
   ]
  },
  {
   "cell_type": "markdown",
   "id": "ba7c2b51-612f-4200-a653-08bded0074b4",
   "metadata": {},
   "source": [
    "# docstring "
   ]
  },
  {
   "cell_type": "code",
   "execution_count": 64,
   "id": "4ea461ae-34e6-424b-b16d-5f0f2fe682de",
   "metadata": {},
   "outputs": [
    {
     "name": "stdout",
     "output_type": "stream",
     "text": [
      "Help on built-in function print in module builtins:\n",
      "\n",
      "print(*args, sep=' ', end='\\n', file=None, flush=False)\n",
      "    Prints the values to a stream, or to sys.stdout by default.\n",
      "    \n",
      "    sep\n",
      "      string inserted between values, default a space.\n",
      "    end\n",
      "      string appended after the last value, default a newline.\n",
      "    file\n",
      "      a file-like object (stream); defaults to the current sys.stdout.\n",
      "    flush\n",
      "      whether to forcibly flush the stream.\n",
      "\n"
     ]
    },
    {
     "data": {
      "text/plain": [
       "'Prints the values to a stream, or to sys.stdout by default.\\n\\n  sep\\n    string inserted between values, default a space.\\n  end\\n    string appended after the last value, default a newline.\\n  file\\n    a file-like object (stream); defaults to the current sys.stdout.\\n  flush\\n    whether to forcibly flush the stream.'"
      ]
     },
     "execution_count": 64,
     "metadata": {},
     "output_type": "execute_result"
    }
   ],
   "source": [
    "help(print)\n",
    "print.__doc__"
   ]
  },
  {
   "cell_type": "code",
   "execution_count": 65,
   "id": "7cacb944-c44a-46cc-be98-290b6d7944da",
   "metadata": {},
   "outputs": [
    {
     "data": {
      "text/plain": [
       "'hello'"
      ]
     },
     "execution_count": 65,
     "metadata": {},
     "output_type": "execute_result"
    }
   ],
   "source": [
    "def echo(anything):\n",
    "    'echo returns its input argument'  # docstring\n",
    "    return anything\n",
    "\n",
    "echo('hello')"
   ]
  },
  {
   "cell_type": "code",
   "execution_count": 67,
   "id": "815d5a6f-076c-4e7e-8f3d-4c85a4e7d228",
   "metadata": {},
   "outputs": [
    {
     "name": "stdout",
     "output_type": "stream",
     "text": [
      "Help on function echo in module __main__:\n",
      "\n",
      "echo(anything)\n",
      "    echo returns its input argument\n",
      "\n"
     ]
    }
   ],
   "source": [
    "echo.__doc__\n",
    "help(echo)"
   ]
  },
  {
   "cell_type": "markdown",
   "id": "4f7da68f-6a90-4e2a-8c3b-e4121ca295c8",
   "metadata": {},
   "source": [
    "# 표준모듈"
   ]
  },
  {
   "cell_type": "code",
   "execution_count": 69,
   "id": "f3f92be1-8d2d-4061-a767-a164e216c216",
   "metadata": {},
   "outputs": [
    {
     "name": "stdout",
     "output_type": "stream",
     "text": [
      "1698128352.0898821\n",
      "Tue Oct 24 15:19:12 2023\n"
     ]
    }
   ],
   "source": [
    "import time\n",
    "\n",
    "t = time.time()\n",
    "print(t)\n",
    "print(time.ctime())"
   ]
  },
  {
   "cell_type": "code",
   "execution_count": 70,
   "id": "a766f911-73c0-48e8-a0d1-a545490b93c0",
   "metadata": {},
   "outputs": [
    {
     "name": "stdout",
     "output_type": "stream",
     "text": [
      "1~1억까지의 합계 계산 총 소요시간:7.80초\n"
     ]
    }
   ],
   "source": [
    "import time\n",
    "\n",
    "start = time.time()\n",
    "sum = 0\n",
    "for i in range(1, 100000001):\n",
    "    sum += i\n",
    "end = time.time()\n",
    "print('1~1억까지의 합계 계산 총 소요시간:%.2f초'%(end-start))"
   ]
  },
  {
   "cell_type": "code",
   "execution_count": 75,
   "id": "9aa59317-14cb-4beb-9439-bbf3f4c1278e",
   "metadata": {},
   "outputs": [
    {
     "name": "stdout",
     "output_type": "stream",
     "text": [
      "2023년 10월 24일\n",
      "15시 29분 53초\n"
     ]
    }
   ],
   "source": [
    "import time\n",
    "\n",
    "# print(time.localtime())\n",
    "now = time.localtime()\n",
    "print(f'{now.tm_year}년 {now.tm_mon}월 {now.tm_mday}일')\n",
    "print(f'{now.tm_hour}시 {now.tm_min}분 {now.tm_sec}초')"
   ]
  },
  {
   "cell_type": "code",
   "execution_count": 77,
   "id": "b90876a1-5292-4e79-adc9-d1761f6afbc7",
   "metadata": {},
   "outputs": [
    {
     "name": "stdout",
     "output_type": "stream",
     "text": [
      "이 문장은\n",
      "2초 단위로\n",
      "출력됩니다.\n"
     ]
    }
   ],
   "source": [
    "print('이 문장은')\n",
    "time.sleep(2)   # 매개변수 전달된 초 만큼 프로그램의 실행을 잠시 중단\n",
    "print('2초 단위로')\n",
    "time.sleep(2)\n",
    "print('출력됩니다.')"
   ]
  },
  {
   "cell_type": "code",
   "execution_count": 8,
   "id": "0c071aee-04e9-42f4-af87-f33325599d55",
   "metadata": {},
   "outputs": [
    {
     "name": "stdout",
     "output_type": "stream",
     "text": [
      "7\n",
      "7\n",
      "1\n",
      "5\n",
      "9\n"
     ]
    }
   ],
   "source": [
    "import random\n",
    "\n",
    "# 컴퓨터의 난수는 컴퓨터의 시스템 시간을 기준(seed value)으로 발생\n",
    "# 기준값을 고정해놓으면 항상 동일한 난수 값이 발생\n",
    "random.seed(0)   # 기준값 고정\n",
    "for i in range(5):\n",
    "    print(random.randint(1,10))   # 정수값, end값 포함"
   ]
  },
  {
   "cell_type": "code",
   "execution_count": 110,
   "id": "cb9a0b32-1d58-4095-b856-4996d776a5d3",
   "metadata": {},
   "outputs": [
    {
     "name": "stdout",
     "output_type": "stream",
     "text": [
      "['군만두', '짬뽕', '탕수육', '짜장면']\n"
     ]
    }
   ],
   "source": [
    "#### food = ['짜장면','짬뽕','탕수육','군만두']\n",
    "random.shuffle(food)  # 랜덤으로 섞기\n",
    "print(food)"
   ]
  },
  {
   "cell_type": "code",
   "execution_count": 117,
   "id": "a50dce09-d81a-4477-878b-322846fb8628",
   "metadata": {},
   "outputs": [
    {
     "name": "stdout",
     "output_type": "stream",
     "text": [
      "군만두\n"
     ]
    }
   ],
   "source": [
    "#### food = ['짜장면','짬뽕','탕수육','군만두']\n",
    "print(random.choice(food))   # 리스트에서 랜덤하게 하나만 추출"
   ]
  },
  {
   "cell_type": "markdown",
   "id": "b661f177-41f5-4c25-98fe-09b437069cbd",
   "metadata": {},
   "source": [
    "[문제] 로또 번호 생성기\n",
    "<pre>\n",
    "- 1~45 사이의 숫자 6개 뽑기\n",
    "- 단, 숫자를 뽑을 때 중복된 숫자 사용 불가\n",
    "- 결과는 오름차순으로 정렬해서 출력한다.\n",
    "</pre>"
   ]
  },
  {
   "cell_type": "code",
   "execution_count": 18,
   "id": "bff67078-87b0-4f6f-ad44-720b6523dfc5",
   "metadata": {},
   "outputs": [
    {
     "name": "stdout",
     "output_type": "stream",
     "text": [
      "[3, 6, 13, 19, 25, 37]\n"
     ]
    }
   ],
   "source": [
    "import random\n",
    "\n",
    "number_list = []\n",
    "\n",
    "while len(number_list) < 6:\n",
    "    if not random.randint(1,45) in number_list:\n",
    "        number_list.append(random.randint(1,45))\n",
    "\n",
    "print(sorted(number_list))"
   ]
  },
  {
   "cell_type": "code",
   "execution_count": 40,
   "id": "e9f85ca2-ca21-4e6f-81c7-068bdc646a5f",
   "metadata": {},
   "outputs": [
    {
     "name": "stdout",
     "output_type": "stream",
     "text": [
      "[20, 27, 31, 33, 37, 44]\n"
     ]
    }
   ],
   "source": [
    "number_set = set()\n",
    "\n",
    "for i in range(6):    # 중복 값 추출 시 세트에서 뺴버림, 횟수를 정할 수 없음\n",
    "    number_set.add(random.randint(1,45))\n",
    "print(sorted(number_set))"
   ]
  },
  {
   "cell_type": "code",
   "execution_count": 41,
   "id": "554190b9-565a-4760-80b3-99ce4d254a9f",
   "metadata": {},
   "outputs": [
    {
     "name": "stdout",
     "output_type": "stream",
     "text": [
      "[10, 17, 23, 25, 42, 43]\n"
     ]
    }
   ],
   "source": [
    "# answer1\n",
    "lotto = set()   # 중복 허용X\n",
    "while True:\n",
    "    lotto.add(random.randint(1,45))\n",
    "    if len(lotto) == 6: break\n",
    "\n",
    "print(sorted(list(lotto)))"
   ]
  },
  {
   "cell_type": "code",
   "execution_count": 43,
   "id": "beb073ba-2466-4be3-9fe5-8bbc1aef09e1",
   "metadata": {},
   "outputs": [
    {
     "name": "stdout",
     "output_type": "stream",
     "text": [
      "[3, 9, 16, 18, 31, 35]\n"
     ]
    }
   ],
   "source": [
    "# answer2\n",
    "\n",
    "lotto = list()\n",
    "while True:\n",
    "    num = random.randint(1,45)\n",
    "    if num not in lotto:   # 중복이 아닐 때 리스트에 추가\n",
    "        lotto.append(num)\n",
    "    if len(lotto) == 6: break\n",
    "\n",
    "lotto.sort()    # 정렬된 결과를 반환하지 않음\n",
    "print(lotto)"
   ]
  },
  {
   "cell_type": "code",
   "execution_count": 44,
   "id": "02901aa1-a41a-40c0-97fb-314bbd781693",
   "metadata": {},
   "outputs": [
    {
     "name": "stdout",
     "output_type": "stream",
     "text": [
      "[19, 23, 38, 40, 44, 45]\n"
     ]
    }
   ],
   "source": [
    "# answer3\n",
    "lotto = random.sample(range(1,46),6)\n",
    "print(sorted(lotto))"
   ]
  },
  {
   "cell_type": "markdown",
   "id": "74f9e431-9e0a-47ad-81ac-b5ed43abb6c1",
   "metadata": {},
   "source": [
    "[문제] 숫자 맞추기 게임\n",
    "<pre>\n",
    "    -1~100 사이의 난수를 맞추는 게임\n",
    "    -입력값과 생성값을 비교하여 어떤 값이 더 큰지 힌트를 알려준다.\n",
    "    -정답을 맞추면 시도 횟수출력과 함께 게임 종료\n",
    "</pre>"
   ]
  },
  {
   "cell_type": "code",
   "execution_count": 52,
   "id": "8d593e0f-d3a9-4f18-8da1-58c105495a24",
   "metadata": {},
   "outputs": [
    {
     "name": "stdin",
     "output_type": "stream",
     "text": [
      "숫자입력:  50\n"
     ]
    },
    {
     "name": "stdout",
     "output_type": "stream",
     "text": [
      "up\n"
     ]
    },
    {
     "name": "stdin",
     "output_type": "stream",
     "text": [
      "숫자입력:  75\n"
     ]
    },
    {
     "name": "stdout",
     "output_type": "stream",
     "text": [
      "up\n"
     ]
    },
    {
     "name": "stdin",
     "output_type": "stream",
     "text": [
      "숫자입력:  80\n"
     ]
    },
    {
     "name": "stdout",
     "output_type": "stream",
     "text": [
      "up\n"
     ]
    },
    {
     "name": "stdin",
     "output_type": "stream",
     "text": [
      "숫자입력:  90\n"
     ]
    },
    {
     "name": "stdout",
     "output_type": "stream",
     "text": [
      "down\n"
     ]
    },
    {
     "name": "stdin",
     "output_type": "stream",
     "text": [
      "숫자입력:  85\n"
     ]
    },
    {
     "name": "stdout",
     "output_type": "stream",
     "text": [
      "down\n"
     ]
    },
    {
     "name": "stdin",
     "output_type": "stream",
     "text": [
      "숫자입력:  83\n"
     ]
    },
    {
     "name": "stdout",
     "output_type": "stream",
     "text": [
      "up\n"
     ]
    },
    {
     "name": "stdin",
     "output_type": "stream",
     "text": [
      "숫자입력:  84\n"
     ]
    },
    {
     "name": "stdout",
     "output_type": "stream",
     "text": [
      "정답입니다.\n",
      "시도횟수:  7\n"
     ]
    }
   ],
   "source": [
    "answer = random.randint(1,100)\n",
    "cnt = 0\n",
    "while True:\n",
    "    number = int(input('숫자입력: '))\n",
    "    cnt += 1\n",
    "    if number > answer: \n",
    "        print('down')\n",
    "\n",
    "    elif number < answer:\n",
    "        print('up')\n",
    "        \n",
    "    elif number == answer:\n",
    "        print('정답입니다.')\n",
    "        print('시도횟수: ', cnt)\n",
    "        break"
   ]
  },
  {
   "cell_type": "markdown",
   "id": "453522b5-5090-4f28-8245-525d7797b6dd",
   "metadata": {},
   "source": [
    "# File IO"
   ]
  },
  {
   "cell_type": "code",
   "execution_count": 1,
   "id": "301bdbf0-9586-4928-9897-6686de9b1632",
   "metadata": {},
   "outputs": [
    {
     "name": "stdout",
     "output_type": "stream",
     "text": [
      "End\n"
     ]
    }
   ],
   "source": [
    "# 파일 생성\n",
    "f = open('myfile.txt', 'w')   # 해당 파일을 쓸 수 있는 파일 객체를 반환\n",
    "f.close()   \n",
    "# 읽기,쓰기 작업이 끝나면 반드시 파일을 close 해야함, 파일을 읽고 쓰면서 받은 운영체제의 권한을 다시 반납, 안하면 메모리 릭 발생 가능\n",
    "print('End')"
   ]
  },
  {
   "cell_type": "code",
   "execution_count": 2,
   "id": "0b53f017-dc7d-4f10-af78-6d54259a34a8",
   "metadata": {},
   "outputs": [
    {
     "name": "stdout",
     "output_type": "stream",
     "text": [
      "End\n"
     ]
    }
   ],
   "source": [
    "# 파일 생성 후 문자열 쓰기\n",
    "f = open('myfile.txt', 'w')\n",
    "f.write('Hello World')\n",
    "f.close()\n",
    "print('End')   # 처리가 끝났는지 확인하기 위함"
   ]
  },
  {
   "cell_type": "code",
   "execution_count": 4,
   "id": "e4cd29d8-1660-4a0c-a757-b0e4f5cee858",
   "metadata": {},
   "outputs": [
    {
     "name": "stdout",
     "output_type": "stream",
     "text": [
      "End\n"
     ]
    }
   ],
   "source": [
    "# 파일 생성 후 한글이 포함된 문자열 쓰기\n",
    "f = open('myfile.txt', 'w', encoding='utf-8')  # 동일한 파일명 존재 시 덮어씌움\n",
    "                                               # 유니코드, 인코딩 정보 같이 전달해야함 \n",
    "f.write('안녕하세요!')\n",
    "f.close()\n",
    "print('End')"
   ]
  },
  {
   "cell_type": "code",
   "execution_count": 8,
   "id": "e2ff2af2-7888-451f-ab15-fd4840c377ca",
   "metadata": {
    "scrolled": true
   },
   "outputs": [
    {
     "name": "stdout",
     "output_type": "stream",
     "text": [
      "[\"Hello, it's me \\n\", \"I was wondering if after all these years you'd like to meet\\n\", 'To go over everything\\n', \"They say that time's supposed to heal ya\\n\", \"But I ain't done much healing\\n\", 'Hello, can you hear me?\\n', \"I'm in California dreaming about who we used to be\\n\", 'When we were younger and free\\n', \"I've forgotten how it felt before the world fell at our feet\\n\", \"There's such a difference between us\\n\", 'And a million miles\\n', 'Hello from the other side\\n', \"I must've called a thousand times\\n\", \"To tell you I'm sorry for everything that I've done\\n\", 'But when I call, you never seem to be home\\n', 'Hello from the outside\\n', \"At least I can say that I've tried\\n\", \"To tell you I'm sorry for breaking your heart\\n\", \"But it don't matter, it clearly doesn't tear you apart anymore\\n\", 'Hello, how are you?\\n', \"It's so typical of me to talk about myself, I'm sorry\\n\", \"I hope that you're well\\n\", 'Did you ever make it out of that town where nothing ever happened?\\n', \"It's no secret that the both of us are running out of time\\n\", 'So hello from the other side (Other side)\\n', \"I must've called a thousand times (Thousand times)\\n\", \"To tell you I'm sorry for everything that I've done\\n\", 'But when I call, you never seem to be home\\n', 'Hello from the outside (Outside)\\n', \"At least I can say that I've tried (I've tried)\\n\", \"To tell you I'm sorry for breaking your heart\\n\", \"But it don't matter, it clearly doesn't tear you apart anymore\\n\", 'Ooh-ooh, anymore\\n', 'Ooh-ooh-ooh, anymore\\n', 'Ooh-ooh, anymore\\n', 'Anymore\\n', 'Hello from the other side (Other side)\\n', \"I must've called a thousand times (Thousand times)\\n\", \"To tell you I'm sorry for everything that I've done\\n\", 'But when I call, you never seem to be home\\n', 'Hello from the outside (Outside)\\n', \"At least I can say that I've tried (I've tried)\\n\", \"To tell you I'm sorry for breaking your heart\\n\", \"But it don't matter, it clearly doesn't tear you apart anymore\"]\n"
     ]
    }
   ],
   "source": [
    "# 파일 읽기\n",
    "f = open('song.txt', 'r')\n",
    "# data = f.read()\n",
    "data = f.readlines()   # 각 줄을 요소로 담는 리스트로 반환\n",
    "f.close()\n",
    "print(data)"
   ]
  },
  {
   "cell_type": "code",
   "execution_count": 10,
   "id": "bde997d7-0ac6-4af3-b05d-c176a6338462",
   "metadata": {
    "scrolled": true
   },
   "outputs": [
    {
     "name": "stdout",
     "output_type": "stream",
     "text": [
      "Hello, it's me \n",
      "I was wondering if after all these years you'd like to meet\n",
      "To go over everything\n",
      "They say that time's supposed to heal ya\n",
      "But I ain't done much healing\n",
      "Hello, can you hear me?\n",
      "I'm in California dreaming about who we used to be\n",
      "When we were younger and free\n",
      "I've forgotten how it felt before the world fell at our feet\n",
      "There's such a difference between us\n",
      "And a million miles\n",
      "Hello from the other side\n",
      "I must've called a thousand times\n",
      "To tell you I'm sorry for everything that I've done\n",
      "But when I call, you never seem to be home\n",
      "Hello from the outside\n",
      "At least I can say that I've tried\n",
      "To tell you I'm sorry for breaking your heart\n",
      "But it don't matter, it clearly doesn't tear you apart anymore\n",
      "Hello, how are you?\n",
      "It's so typical of me to talk about myself, I'm sorry\n",
      "I hope that you're well\n",
      "Did you ever make it out of that town where nothing ever happened?\n",
      "It's no secret that the both of us are running out of time\n",
      "So hello from the other side (Other side)\n",
      "I must've called a thousand times (Thousand times)\n",
      "To tell you I'm sorry for everything that I've done\n",
      "But when I call, you never seem to be home\n",
      "Hello from the outside (Outside)\n",
      "At least I can say that I've tried (I've tried)\n",
      "To tell you I'm sorry for breaking your heart\n",
      "But it don't matter, it clearly doesn't tear you apart anymore\n",
      "Ooh-ooh, anymore\n",
      "Ooh-ooh-ooh, anymore\n",
      "Ooh-ooh, anymore\n",
      "Anymore\n",
      "Hello from the other side (Other side)\n",
      "I must've called a thousand times (Thousand times)\n",
      "To tell you I'm sorry for everything that I've done\n",
      "But when I call, you never seem to be home\n",
      "Hello from the outside (Outside)\n",
      "At least I can say that I've tried (I've tried)\n",
      "To tell you I'm sorry for breaking your heart\n",
      "But it don't matter, it clearly doesn't tear you apart anymore"
     ]
    }
   ],
   "source": [
    "f = open('song.txt', 'r')\n",
    "while True:\n",
    "    line = f.readline()  # 한 줄씩 읽기\n",
    "    if not line: break   # 빈 문자열(마지막줄)이면 break\n",
    "    print(line, end='')  # \\n 제거\n",
    "f.close()"
   ]
  },
  {
   "cell_type": "code",
   "execution_count": 15,
   "id": "16323fdd-186c-4e59-86de-862eaeccee3e",
   "metadata": {},
   "outputs": [
    {
     "name": "stdout",
     "output_type": "stream",
     "text": [
      "end\n"
     ]
    }
   ],
   "source": [
    "score = {'홍길동':89, '임꺽정':78, '손오공':88, '전우치':90, '저팔계':90}\n",
    "f = open('score.txt', 'w', encoding='utf-8')\n",
    "for name, s in score.items():\n",
    "    f.write(f'{name}:{s}점\\n')\n",
    "\n",
    "f.write('============================\\n')\n",
    "f.write(f'학생수:{len(score)}\\n')\n",
    "f.write(f'합계:{sum(score.values())}\\n')    # 딕셔너리의 값만 가져옴\n",
    "f.write(f'평균:{sum(score.values())/len(score):.2f}\\n')\n",
    "f.close()\n",
    "print('end')"
   ]
  },
  {
   "cell_type": "code",
   "execution_count": 16,
   "id": "72e8af70-5d2f-4af3-b414-570fe11debe9",
   "metadata": {},
   "outputs": [
    {
     "name": "stdout",
     "output_type": "stream",
     "text": [
      "end\n"
     ]
    }
   ],
   "source": [
    "# 파일 마지막에 추가하기\n",
    "f = open('score.txt', 'a', encoding='utf-8')\n",
    "f.write('============================')\n",
    "f.close()\n",
    "print('end')"
   ]
  },
  {
   "cell_type": "markdown",
   "id": "eccabf17-ff7b-403c-baf0-bae96d063e03",
   "metadata": {},
   "source": [
    "with문 사용\n",
    "- with문을 사용하면 with블럭을 벗어나는 순간 열린 파일 객체가 자동으로 닫힌다"
   ]
  },
  {
   "cell_type": "code",
   "execution_count": 17,
   "id": "c7adf492-4006-4e52-8a62-ef4d9ed8a43e",
   "metadata": {},
   "outputs": [
    {
     "name": "stdout",
     "output_type": "stream",
     "text": [
      "홍길동:89점\n",
      "임꺽정:78점\n",
      "손오공:88점\n",
      "전우치:90점\n",
      "저팔계:90점\n",
      "============================\n",
      "학생수:5\n",
      "합계:435\n",
      "평균:87.00\n",
      "============================\n"
     ]
    }
   ],
   "source": [
    "with open('score.txt', 'r', encoding='utf-8') as f:   # as 오픈한 파일객체를 받을 변수명\n",
    "    text = f.read()\n",
    "    print(text)"
   ]
  },
  {
   "cell_type": "markdown",
   "id": "b017f274-3003-4b97-9d72-80a210575f5a",
   "metadata": {},
   "source": [
    "## 입출력 위치"
   ]
  },
  {
   "cell_type": "code",
   "execution_count": 18,
   "id": "2d39c129-7446-4368-a07b-2e497676fed6",
   "metadata": {
    "scrolled": true
   },
   "outputs": [
    {
     "name": "stdout",
     "output_type": "stream",
     "text": [
      "o, it's me \n",
      "I was wondering if after all these years you'd like to meet\n",
      "To go over everything\n",
      "They say that time's supposed to heal ya\n",
      "But I ain't done much healing\n",
      "Hello, can you hear me?\n",
      "I'm in California dreaming about who we used to be\n",
      "When we were younger and free\n",
      "I've forgotten how it felt before the world fell at our feet\n",
      "There's such a difference between us\n",
      "And a million miles\n",
      "Hello from the other side\n",
      "I must've called a thousand times\n",
      "To tell you I'm sorry for everything that I've done\n",
      "But when I call, you never seem to be home\n",
      "Hello from the outside\n",
      "At least I can say that I've tried\n",
      "To tell you I'm sorry for breaking your heart\n",
      "But it don't matter, it clearly doesn't tear you apart anymore\n",
      "Hello, how are you?\n",
      "It's so typical of me to talk about myself, I'm sorry\n",
      "I hope that you're well\n",
      "Did you ever make it out of that town where nothing ever happened?\n",
      "It's no secret that the both of us are running out of time\n",
      "So hello from the other side (Other side)\n",
      "I must've called a thousand times (Thousand times)\n",
      "To tell you I'm sorry for everything that I've done\n",
      "But when I call, you never seem to be home\n",
      "Hello from the outside (Outside)\n",
      "At least I can say that I've tried (I've tried)\n",
      "To tell you I'm sorry for breaking your heart\n",
      "But it don't matter, it clearly doesn't tear you apart anymore\n",
      "Ooh-ooh, anymore\n",
      "Ooh-ooh-ooh, anymore\n",
      "Ooh-ooh, anymore\n",
      "Anymore\n",
      "Hello from the other side (Other side)\n",
      "I must've called a thousand times (Thousand times)\n",
      "To tell you I'm sorry for everything that I've done\n",
      "But when I call, you never seem to be home\n",
      "Hello from the outside (Outside)\n",
      "At least I can say that I've tried (I've tried)\n",
      "To tell you I'm sorry for breaking your heart\n",
      "But it don't matter, it clearly doesn't tear you apart anymore\n"
     ]
    }
   ],
   "source": [
    "f = open('song.txt', 'r')\n",
    "f.seek(4)   # 4바이트로 이동시켜서 읽기 시작, 5부터 출력\n",
    "text = f.read()\n",
    "print(text)\n",
    "f.close()"
   ]
  },
  {
   "cell_type": "code",
   "execution_count": 19,
   "id": "18c1c804-25d4-42e8-a853-a178f9a58305",
   "metadata": {},
   "outputs": [
    {
     "name": "stdout",
     "output_type": "stream",
     "text": [
      "End\n"
     ]
    }
   ],
   "source": [
    "original = open('python.jpg', 'rb')    # binary data\n",
    "target = open('copy_python.jpg', 'wb')\n",
    "\n",
    "data = original.read()   # original을 읽은데이터\n",
    "target.write(data)       # 그 데이터를 타겟 이미지에 쓰기\n",
    "\n",
    "original.close()\n",
    "target.close()\n",
    "print('End')"
   ]
  },
  {
   "cell_type": "markdown",
   "id": "73df166c-17bc-487b-9523-6fadf67731bd",
   "metadata": {},
   "source": [
    "# File & Directory"
   ]
  },
  {
   "cell_type": "markdown",
   "id": "8591332d-273c-4bd9-a1ae-a6a6ba03c680",
   "metadata": {},
   "source": [
    "## os 모듈"
   ]
  },
  {
   "cell_type": "code",
   "execution_count": 28,
   "id": "749206fa-27fe-4c27-ba79-8071fbc92393",
   "metadata": {},
   "outputs": [],
   "source": [
    "# 경로 바꾸기\n",
    "import os\n",
    "\n",
    "path = r'g:\\내 드라이브\\DIMA3\\python'    # rawstring, 기능을 없애고 다 문자열로 받아들임\n",
    "os.chdir(path)"
   ]
  },
  {
   "cell_type": "code",
   "execution_count": 24,
   "id": "e07b3acd-4260-4e8f-adce-f36aec4ba521",
   "metadata": {},
   "outputs": [
    {
     "name": "stdout",
     "output_type": "stream",
     "text": [
      "현재 작업 디렉토리:  G:\\내 드라이브\\DIMA3\\python\n",
      "상위 디렉토리로 이동\n",
      "현재 작업 디렉토리:  G:\\내 드라이브\\DIMA3\n"
     ]
    }
   ],
   "source": [
    "c_path = os.getcwd()      # 현재 경로 얻기\n",
    "print('현재 작업 디렉토리: ',c_path)\n",
    "\n",
    "os.chdir('..')   # 상위 디렉토리로 이동 \n",
    "print('상위 디렉토리로 이동')\n",
    "c_path = os.getcwd()\n",
    "print('현재 작업 디렉토리: ',c_path)"
   ]
  },
  {
   "cell_type": "code",
   "execution_count": 27,
   "id": "13ccee68-29b8-4388-b48a-080a14dd1285",
   "metadata": {},
   "outputs": [
    {
     "name": "stdout",
     "output_type": "stream",
     "text": [
      "현재 작업 디렉토리:  g:\\내 드라이브\\DIMA3\\python\n",
      "하위 디렉토리로 이동\n",
      "현재 작업 디렉토리:  g:\\내 드라이브\\DIMA3\\python\\subdir\n"
     ]
    }
   ],
   "source": [
    "c_path = os.getcwd()      # 현재 경로 얻기\n",
    "print('현재 작업 디렉토리: ',c_path)\n",
    "\n",
    "os.chdir('./subdir')   # 하위 디렉토리로 이동\n",
    "print('하위 디렉토리로 이동')\n",
    "c_path = os.getcwd()\n",
    "print('현재 작업 디렉토리: ',c_path)"
   ]
  },
  {
   "cell_type": "code",
   "execution_count": 30,
   "id": "875f87e8-b3cd-426e-b8eb-17f061ec703c",
   "metadata": {},
   "outputs": [
    {
     "name": "stdout",
     "output_type": "stream",
     "text": [
      "[File] Python실습.ipynb, 152143byte\n",
      "[Dir] .ipynb_checkpoints\n",
      "[Dir] coding test practice\n",
      "[File] Coding_Test_1.ipynb, 39956byte\n",
      "[File] sysarg.py, 178byte\n",
      "[File] myfile.txt, 16byte\n",
      "[File] song.txt, 1796byte\n",
      "[File] score.txt, 182byte\n",
      "[File] python.jpg, 10542byte\n",
      "[File] copy_python.jpg, 10542byte\n",
      "[Dir] subdir\n"
     ]
    }
   ],
   "source": [
    "# 파일 및 디렉토리 목록 반환\n",
    "list = os.listdir()\n",
    "for item in list:\n",
    "    if os.path.isfile(item):\n",
    "        print(f'[File] {item}, {os.path.getsize(item)}byte')\n",
    "    else:\n",
    "        print(f'[Dir] {item}')"
   ]
  },
  {
   "cell_type": "markdown",
   "id": "bcde4aec-798b-494b-8eff-c07e0339e05e",
   "metadata": {},
   "source": [
    "## glob 모듈"
   ]
  },
  {
   "cell_type": "code",
   "execution_count": 31,
   "id": "17d2a789-d71c-4cd4-91e1-789f9677a448",
   "metadata": {},
   "outputs": [
    {
     "name": "stdout",
     "output_type": "stream",
     "text": [
      "coding test practice\\\n",
      "subdir\\\n"
     ]
    }
   ],
   "source": [
    "import os\n",
    "import glob\n",
    "\n",
    "# 현재 디렉토리 내 모든 디렉토리 출력:  **/, */\n",
    "for f in glob.glob('**/'):\n",
    "    print(f)"
   ]
  },
  {
   "cell_type": "code",
   "execution_count": 33,
   "id": "6b800ad0-48af-4d05-900c-2c001857eebc",
   "metadata": {},
   "outputs": [
    {
     "name": "stdout",
     "output_type": "stream",
     "text": [
      "Python실습.ipynb\n",
      "coding test\n",
      "Coding_Test_1.ipynb\n",
      "sysarg.py\n",
      "myfile.txt\n",
      "song.txt\n",
      "score.txt\n",
      "python.jpg\n",
      "copy_python.jpg\n",
      "subdir\n"
     ]
    }
   ],
   "source": [
    "# 현재 디렉토리 내 디렉토리와 파일 출력:  **,*\n",
    "for f in glob.glob('**'):\n",
    "    print(f)"
   ]
  },
  {
   "cell_type": "code",
   "execution_count": 36,
   "id": "31ffadc4-a9ee-40b8-ba5d-d80d55349b87",
   "metadata": {},
   "outputs": [
    {
     "name": "stdout",
     "output_type": "stream",
     "text": [
      "python\\Python실습.ipynb\n",
      "python\\coding test\n",
      "python\\Coding_Test_1.ipynb\n",
      "python\\sysarg.py\n",
      "python\\myfile.txt\n",
      "python\\song.txt\n",
      "python\\score.txt\n",
      "python\\python.jpg\n",
      "python\\copy_python.jpg\n",
      "python\\subdir\n"
     ]
    }
   ],
   "source": [
    "# 하위 디렉토리 내 디렉토리와 파일 출력:  */*, **/**\n",
    "# 현재 디렉토리는 포함 x\n",
    "os.chdir('..')  # 상위 디렉토리로 이동\n",
    "\n",
    "for f in glob.glob('*/*'):\n",
    "    print(f)"
   ]
  },
  {
   "cell_type": "code",
   "execution_count": 38,
   "id": "b90b5360-f3e4-4b6b-92dc-49759df6d9c2",
   "metadata": {},
   "outputs": [
    {
     "name": "stdout",
     "output_type": "stream",
     "text": [
      "0 python\n",
      "1 python\\Python실습.ipynb\n",
      "2 python\\coding test\n",
      "3 python\\coding test\\23-10-17.ipynb\n",
      "4 python\\Coding_Test_1.ipynb\n",
      "5 python\\sysarg.py\n",
      "6 python\\myfile.txt\n",
      "7 python\\song.txt\n",
      "8 python\\score.txt\n",
      "9 python\\python.jpg\n",
      "10 python\\copy_python.jpg\n",
      "11 python\\subdir\n",
      "12 python\\subdir\\subdir-2\n",
      "13 Untitled.ipynb\n",
      "14 assignment.ipynb\n"
     ]
    }
   ],
   "source": [
    "# 현재 디렉토리를 포함하여 하위 모든 디렉토리와 파일 출력\n",
    "for i, f in enumerate(glob.glob('**', recursive=True)):\n",
    "    print(i,f)"
   ]
  },
  {
   "cell_type": "markdown",
   "id": "7d54425f-84af-4b1a-90bb-c112c15ea013",
   "metadata": {},
   "source": [
    "# 예외(exception)"
   ]
  },
  {
   "cell_type": "code",
   "execution_count": 43,
   "id": "3ee84953-d4e4-4e14-8b77-4d6a9a4acd5b",
   "metadata": {},
   "outputs": [
    {
     "ename": "KeyError",
     "evalue": "'key'",
     "output_type": "error",
     "traceback": [
      "\u001b[1;31m---------------------------------------------------------------------------\u001b[0m",
      "\u001b[1;31mKeyError\u001b[0m                                  Traceback (most recent call last)",
      "Cell \u001b[1;32mIn[43], line 13\u001b[0m\n\u001b[0;32m      6\u001b[0m \u001b[38;5;66;03m# c = int(b)   # valueError\u001b[39;00m\n\u001b[0;32m      7\u001b[0m \n\u001b[0;32m      8\u001b[0m \u001b[38;5;66;03m# f = open('notexists.txt', 'r')  # fileNotFoundError\u001b[39;00m\n\u001b[0;32m      9\u001b[0m \n\u001b[0;32m     10\u001b[0m \u001b[38;5;66;03m# data = 10/0   # zeroDivisionError\u001b[39;00m\n\u001b[0;32m     12\u001b[0m mydic \u001b[38;5;241m=\u001b[39m {}\n\u001b[1;32m---> 13\u001b[0m \u001b[38;5;28mprint\u001b[39m(mydic[\u001b[38;5;124m'\u001b[39m\u001b[38;5;124mkey\u001b[39m\u001b[38;5;124m'\u001b[39m])\n",
      "\u001b[1;31mKeyError\u001b[0m: 'key'"
     ]
    }
   ],
   "source": [
    "# 예외 발생 상황\n",
    "a = [1,2,3,4,5]\n",
    "# print(a[5])   # indexError\n",
    "\n",
    "b = '1234a'\n",
    "# c = int(b)   # valueError\n",
    "\n",
    "# f = open('notexists.txt', 'r')  # fileNotFoundError\n",
    "\n",
    "# data = 10/0   # zeroDivisionError\n",
    "\n",
    "mydic = {}\n",
    "# print(mydic['key'])  #keyError"
   ]
  },
  {
   "cell_type": "markdown",
   "id": "3a1c9ceb-d692-4a1c-a142-95c744a9cf18",
   "metadata": {},
   "source": [
    "## 예외 처리 (try ~ except)"
   ]
  },
  {
   "cell_type": "code",
   "execution_count": 47,
   "id": "708ad34f-2dd0-4426-9646-7dc2b0f3bd4e",
   "metadata": {},
   "outputs": [
    {
     "name": "stdout",
     "output_type": "stream",
     "text": [
      "0으로 나눌 수 없습니다.\n",
      "division by zero\n",
      "End\n"
     ]
    }
   ],
   "source": [
    "try:\n",
    "    data = 10 / 0   # 예외 발생, except 블럭으로 이동하여 처리\n",
    "# except:   # 모든 에러에 대해서 처리\n",
    "except ZeroDivisionError as e:   # zerodivisionerror에 대해서만 처리\n",
    "    print('0으로 나눌 수 없습니다.')\n",
    "    print(e)   # 에러에 대한 정보 \n",
    "\n",
    "print('End')"
   ]
  },
  {
   "cell_type": "markdown",
   "id": "e3eaa0a1-f139-4566-9821-8fc6f8673d7a",
   "metadata": {},
   "source": [
    "## 예외처리 (try ~ except ~ except)"
   ]
  },
  {
   "cell_type": "code",
   "execution_count": 53,
   "id": "ab52536c-d609-4126-9746-c18d12013550",
   "metadata": {},
   "outputs": [
    {
     "name": "stdout",
     "output_type": "stream",
     "text": [
      "리스트의 범위를 벗어났습니다.\n",
      "End\n"
     ]
    }
   ],
   "source": [
    "try:\n",
    "    a = [1,2,3]\n",
    "    print(a[3])   # 예외 발생 시 뒷 문장 실행x, except로 넘어감\n",
    "    print(10/0)\n",
    "except ZeroDivisionError:\n",
    "    print('0으로 나눌 수 없습니다.')\n",
    "except IndexError:\n",
    "    print('리스트의 범위를 벗어났습니다.')\n",
    "\n",
    "print('End')"
   ]
  },
  {
   "cell_type": "markdown",
   "id": "d121d9e5-2ab4-4561-8d01-b5cc6e046d53",
   "metadata": {},
   "source": [
    "## 예외처리(try ~ except ~ finally)"
   ]
  },
  {
   "cell_type": "code",
   "execution_count": 1,
   "id": "50160e9f-2ffa-4edf-b46d-da67017cf9b1",
   "metadata": {},
   "outputs": [
    {
     "name": "stdout",
     "output_type": "stream",
     "text": [
      "리스트의 범위를 벗어났습니다.\n",
      "항상 실행되는 코드\n",
      "End\n"
     ]
    }
   ],
   "source": [
    "try:\n",
    "    a = [1,2,3]\n",
    "    print(a[3])\n",
    "except IndexError:\n",
    "    print('리스트의 범위를 벗어났습니다.')\n",
    "finally:\n",
    "    print('항상 실행되는 코드')   # 예외여부와 관계없이 항상 실행됨, return이 있어도 실행\n",
    "\n",
    "print('End')"
   ]
  },
  {
   "cell_type": "code",
   "execution_count": 57,
   "id": "e490e9aa-297e-4494-98c4-efb132734157",
   "metadata": {},
   "outputs": [],
   "source": [
    "def inputNum():\n",
    "    num = int(input('양수 입력: '))\n",
    "    if num < 0:\n",
    "        print('양의 정수만 입력하세요')\n",
    "    else:\n",
    "        return num"
   ]
  },
  {
   "cell_type": "code",
   "execution_count": 58,
   "id": "86d74acd-0e92-4dd8-afe3-d2632b34cbb5",
   "metadata": {},
   "outputs": [
    {
     "name": "stdin",
     "output_type": "stream",
     "text": [
      "양수 입력:  -1\n"
     ]
    },
    {
     "name": "stdout",
     "output_type": "stream",
     "text": [
      "양의 정수만 입력하세요\n",
      "None\n"
     ]
    }
   ],
   "source": [
    "num = inputNum()\n",
    "print(num)"
   ]
  },
  {
   "cell_type": "code",
   "execution_count": 60,
   "id": "d8ddf943-0a92-4024-82f8-9b07c2994b73",
   "metadata": {},
   "outputs": [],
   "source": [
    "def inputNum():\n",
    "    num = int(input('양수 입력: '))\n",
    "    if num < 0:\n",
    "        raise ValueError('양의 정수만 입력')  # 특정 조건에 맞지 않으면 에러 강제 발생\n",
    "    return num"
   ]
  },
  {
   "cell_type": "code",
   "execution_count": 62,
   "id": "09812339-ec30-4719-babd-9e16e1653411",
   "metadata": {},
   "outputs": [
    {
     "name": "stdin",
     "output_type": "stream",
     "text": [
      "양수 입력:  -1\n"
     ]
    },
    {
     "name": "stdout",
     "output_type": "stream",
     "text": [
      "양의 정수만 입력\n"
     ]
    }
   ],
   "source": [
    "try:\n",
    "    num = inputNum()      # 에러 발생\n",
    "    print(num)\n",
    "except ValueError as e:   # 에러 처리 \n",
    "    print(e)"
   ]
  },
  {
   "cell_type": "markdown",
   "id": "899d8c6a-9c86-4354-b400-eaf90c73a4c6",
   "metadata": {},
   "source": [
    "# Class"
   ]
  },
  {
   "cell_type": "code",
   "execution_count": 64,
   "id": "d4fc9a53-bd6d-4694-82de-6ecda6fa7960",
   "metadata": {},
   "outputs": [
    {
     "name": "stdout",
     "output_type": "stream",
     "text": [
      "3 4\n",
      "5 6\n"
     ]
    }
   ],
   "source": [
    "# 클래스의 이름은 대문자로 시작 (묵시적 약속)\n",
    "class FourCal:\n",
    "    # self: 생성된 자기 자신의 객체의 참조값을 받기 위한 매개변수\n",
    "    def setData(self, first, second):  # 명시적 생성자없이 함수로 멤버변수 받기->기본생성자\n",
    "        self.first = first      # self.변수명 -> 클래스의 멤버변수 받음, 멤버변수의 정의 방법\n",
    "        self.second = second\n",
    "\n",
    "a = FourCal()  \n",
    "# FourCal 클래스 객체를 생성, FourCal() => 생성자로서 FourCal클래스의 __init()__ (기본생성자)를 호출한다\n",
    "# 클래스 생성 시 명시적인 생성자를 만들어 주지 않으면 자동으로 기본생성자(__init()__) 생성되도록 함# 생성자는 객체 생성시 멤버변수를 초기화 해주는 역할을 한다.\n",
    "\n",
    "a.setData(3,4)  # a와 self는 같은 참조값\n",
    "\n",
    "print(a.first, a.second)   # 객체명.변수명(함수명) \n",
    "\n",
    "b = FourCal()\n",
    "b.setData(5,6)\n",
    "print(b.first,b.second)"
   ]
  },
  {
   "cell_type": "code",
   "execution_count": 68,
   "id": "428ce64f-1ac3-4eb2-afe2-4b65008768f4",
   "metadata": {},
   "outputs": [
    {
     "name": "stdout",
     "output_type": "stream",
     "text": [
      "계좌번호:11-11, 소유주:홍길동, 잔고:900\n",
      "계좌번호:11-12, 소유주:임꺽정, 잔고:200\n"
     ]
    }
   ],
   "source": [
    "# 계좌 객체 생성\n",
    "# 속성: 계좌주명, 계좌 번호, 잔고\n",
    "# 행동방식: 잔고 조회, 입금, 출금, 계좌 정보 조회     //추상화\n",
    "\n",
    "class Account:\n",
    "    # Account 클래스의 속성을 특정 값으로 초기화 하기위한 생성자 만들기\n",
    "    def __init__(self, owner, accNo, balance):  # 명시적 생성자, 멤버변수 초기화\n",
    "        # 멤버변수 선언시 외부에서유추가 불가능한 이름으로, 멤버변수가 public이라 \n",
    "        self.__owner = owner\n",
    "        self.__accNo = accNo\n",
    "        self.__balance = balance\n",
    "\n",
    "    # Account 객체가 가지고 있는 잔고 값을 조회하는 함수\n",
    "    def getBalance(self):   # 다른 매개변수가 없어도 self는 포함되어야함\n",
    "        return self.__balance   # 생성된 해당 객체가 가지고 있는 잔고 리턴\n",
    "\n",
    "    # 입금 처리 함수\n",
    "    def deposit(self, amount):\n",
    "        self.__balance += amount\n",
    "\n",
    "    # 출금 처리 함수\n",
    "    def withdraw(self, amount):\n",
    "        self.__balance -= amount\n",
    "\n",
    "    # 계좌 정보 조회 함수\n",
    "    def accountinfo(self):\n",
    "        return f'계좌번호:{self.__accNo}, 소유주:{self.__owner}, 잔고:{self.__balance}'\n",
    "        \n",
    "a1 = Account('홍길동','11-11',500)  # 초기값 설정 가능\n",
    "a1.deposit(400)\n",
    "print(a1.accountinfo())\n",
    "\n",
    "a2 = Account('임꺽정', '11-12', 300)\n",
    "a2.withdraw(100)\n",
    "print(a2.accountinfo())"
   ]
  },
  {
   "cell_type": "markdown",
   "id": "b45385bd-0f74-41df-864b-8d1a8188550d",
   "metadata": {},
   "source": [
    "## 상속"
   ]
  },
  {
   "cell_type": "code",
   "execution_count": 74,
   "id": "2dc5edcb-1564-4188-a52b-6b6ddcc3f25a",
   "metadata": {},
   "outputs": [
    {
     "name": "stdout",
     "output_type": "stream",
     "text": [
      "저는 29살 홍길동입니다.\n",
      "저는 22살 이철수입니다.\n"
     ]
    }
   ],
   "source": [
    "class Person:\n",
    "    def __init__(self, name, age):\n",
    "        self.name = name   # 매개변수로 전달된 멤버변수\n",
    "        self.age = age\n",
    "\n",
    "    def intro(self):\n",
    "        print(f'저는 {self.age}살 {self.name}입니다.')\n",
    "\n",
    "kim = Person('홍길동', 29)   # 객체 생성\n",
    "kim.intro()\n",
    "\n",
    "lee = Person('이철수', 22)\n",
    "lee.intro()"
   ]
  },
  {
   "cell_type": "code",
   "execution_count": 76,
   "id": "1d3710d2-f9dc-4660-a57b-6c9f39c4f7c0",
   "metadata": {},
   "outputs": [
    {
     "name": "stdout",
     "output_type": "stream",
     "text": [
      "저는 30살 박찬호입니다.\n",
      "학번은 2023입니다.\n"
     ]
    }
   ],
   "source": [
    "class Student(Person):     # 상속\n",
    "    def __init__(self, name, age, stdNo):\n",
    "        self.stdNo = stdNo   # student 클래스에서 사용될 멤버변수만\n",
    "        super().__init__(name, age) # 부모 클래스(Person)의 생성자를 호출\n",
    "        \n",
    "    def stduy(self):   # 부모 클래스에 없는 고유한 행동방식\n",
    "        print('Study Hard!')\n",
    "        \n",
    "    # method overriding\n",
    "    # 메서드 재정의: 상속관계에서 부모에 정의된 메서드를 자식 클래스의 상화에 맞게 재정의하는 것\n",
    "    # 메서드 바디만 변경 가능\n",
    "    def intro(self):\n",
    "        super().intro()\n",
    "        print(f'학번은 {self.stdNo}입니다.')\n",
    "\n",
    "park = Student('박찬호', 30, '2023')  # 객체생성\n",
    "park.intro()  # 부모 클래스의 함수 사용 가능\n"
   ]
  },
  {
   "cell_type": "code",
   "execution_count": 79,
   "id": "57707e4d-bc7e-4fb6-8fb0-d6fab66fe591",
   "metadata": {},
   "outputs": [
    {
     "name": "stdout",
     "output_type": "stream",
     "text": [
      "2023-10-25\n"
     ]
    }
   ],
   "source": [
    "class MyDate:\n",
    "    def __init__(self, year, month, day):\n",
    "        self.year = year\n",
    "        self.month = month\n",
    "        self.day = day\n",
    "\n",
    "    # 최상위 클래스에 정의되어 있는 __str__()함수를 재정의\n",
    "    def __str__(self):\n",
    "        return f'{self.year}-{self.month}-{self.day}' \n",
    "        # 원래의 __str__함수()를 활용할 필요 없으니 super()를 통해 호출X\n",
    "\n",
    "d = MyDate(2023, 10, 25)  # 객체 생성\n",
    "print(d)   # 재정의된 함수로 출력, 재정의 안하면 최상위 슈퍼 클래스의 __str__()를 통해 출력"
   ]
  },
  {
   "cell_type": "markdown",
   "id": "779448a1-ff28-4c0a-954e-d4634b7badf7",
   "metadata": {},
   "source": [
    "## 은닉(Encapsulation)"
   ]
  },
  {
   "cell_type": "markdown",
   "id": "4d003755-68b7-4b95-a9af-9efbb5a71dbb",
   "metadata": {},
   "source": [
    "- property를 이용한 setter, getter\n",
    "    - 필드에 접근할 때 getter/setter 메서드를 이용하지 않고 직접 필드를 호출하여 사용 가능\n",
    "    - 하지만 내부적으로는 getter/setter 메서드를 통해 값을 읽고 쓰게 된다."
   ]
  },
  {
   "cell_type": "code",
   "execution_count": 45,
   "id": "292143b4-0ace-43d7-a30c-bac4c97d98c9",
   "metadata": {},
   "outputs": [
    {
     "name": "stdout",
     "output_type": "stream",
     "text": [
      "setMonth() call\n",
      "getMonth() call\n",
      "10\n"
     ]
    }
   ],
   "source": [
    "class MyDate:\n",
    "    def __init__(self, month):\n",
    "        # 가급적 멤버변수의 이름을 어렵게 설정\n",
    "        self.__inner_month = month\n",
    "        \n",
    "    # getter 함수-멤버 변수의 값을 읽는 경우; 통상적으로 매개변수 받지 않음\n",
    "    def getMonth(self):\n",
    "        print('getMonth() call')\n",
    "        return self.__inner_month\n",
    "    # setter-멤버 변수의 값을 쓰는 경우\n",
    "    def setMonth(self, month):\n",
    "        if 1 <= month <= 12:\n",
    "            self.__inner_month = month   # 값의 유효성 체크\n",
    "        print('setMonth() call')\n",
    "\n",
    "    month = property(getMonth, setMonth)   \n",
    "    # 멤버변수는 month이고 getMonth와 setMonth를 통해 값을 읽고 쓰도록함\n",
    "\n",
    "# help(MyDate)\n",
    "today = MyDate(10)       # 생성자, init 호출\n",
    "# today = MyDate(15)    \n",
    "# today.month = 10 \n",
    "today.month = 15      # 유효하지 않은 값, 멤버변수로 못써짐?\n",
    "print(today.month)    # 필드 접근시 메서드 사용안하고 직접 필드를 호출하여 사용가능"
   ]
  },
  {
   "cell_type": "markdown",
   "id": "02314a42-5245-4d5c-9030-99613ac33694",
   "metadata": {},
   "source": [
    "- @property 데코레이터를 이용한 setter/getter"
   ]
  },
  {
   "cell_type": "code",
   "execution_count": 11,
   "id": "bd765344-d2b2-4851-b450-329714d8de80",
   "metadata": {},
   "outputs": [
    {
     "name": "stdout",
     "output_type": "stream",
     "text": [
      "getMonth() call\n",
      "10\n",
      "setMonth() call\n"
     ]
    }
   ],
   "source": [
    "class MyDate:\n",
    "    def __init__(self, month):\n",
    "        self.__inner_month = month\n",
    "\n",
    "    @property   # getter   # 데코레이터: 지시자, 함수에 특별한 기능을 부여하는 태그\n",
    "    def month(self):     # property로 사용할 이름 지정\n",
    "        print('getMonth() call')\n",
    "        return self.__inner_month\n",
    "\n",
    "    @month.setter   # setter\n",
    "    def month(self, month):\n",
    "        if 1 <= month <= 12:\n",
    "            self.__inner_month = month\n",
    "        print('setMonth() call')\n",
    "\n",
    "today = MyDate(10)\n",
    "print(today.month)\n",
    "today.month = 12"
   ]
  },
  {
   "cell_type": "markdown",
   "id": "0a7d7460-5462-4fff-a4d7-5efc43d9ef33",
   "metadata": {},
   "source": [
    "## 사용자 정의 예외 클래스"
   ]
  },
  {
   "cell_type": "code",
   "execution_count": 20,
   "id": "b641ddc9-5e04-4b51-9cae-b91cf7f6684a",
   "metadata": {},
   "outputs": [],
   "source": [
    "class MyException(Exception):\n",
    "    def __init__(self, msg):\n",
    "        super().__init__(msg)              # 생성받은 메시지를 부모 클래스에서 초기화하도록\n",
    "\n",
    "    def __str__(self):\n",
    "        return 'My Exception'"
   ]
  },
  {
   "cell_type": "code",
   "execution_count": 21,
   "id": "9d337536-7259-46f8-98f7-006a63c06587",
   "metadata": {},
   "outputs": [
    {
     "name": "stdin",
     "output_type": "stream",
     "text": [
      "양의 정수 입력:  -1\n"
     ]
    },
    {
     "ename": "MyException",
     "evalue": "My Exception",
     "output_type": "error",
     "traceback": [
      "\u001b[1;31m---------------------------------------------------------------------------\u001b[0m",
      "\u001b[1;31mMyException\u001b[0m                               Traceback (most recent call last)",
      "Cell \u001b[1;32mIn[21], line 3\u001b[0m\n\u001b[0;32m      1\u001b[0m num \u001b[38;5;241m=\u001b[39m \u001b[38;5;28mint\u001b[39m(\u001b[38;5;28minput\u001b[39m(\u001b[38;5;124m'\u001b[39m\u001b[38;5;124m양의 정수 입력: \u001b[39m\u001b[38;5;124m'\u001b[39m))\n\u001b[0;32m      2\u001b[0m \u001b[38;5;28;01mif\u001b[39;00m num \u001b[38;5;241m<\u001b[39m\u001b[38;5;241m=\u001b[39m \u001b[38;5;241m0\u001b[39m:\n\u001b[1;32m----> 3\u001b[0m     \u001b[38;5;28;01mraise\u001b[39;00m MyException(\u001b[38;5;124m'\u001b[39m\u001b[38;5;124m양의 정수만 입력하세요\u001b[39m\u001b[38;5;124m'\u001b[39m)\n\u001b[0;32m      4\u001b[0m \u001b[38;5;28;01melse\u001b[39;00m:\n\u001b[0;32m      5\u001b[0m     \u001b[38;5;28mprint\u001b[39m(num)\n",
      "\u001b[1;31mMyException\u001b[0m: My Exception"
     ]
    }
   ],
   "source": [
    "num = int(input('양의 정수 입력: '))\n",
    "if num <= 0:\n",
    "    raise MyException('양의 정수만 입력하세요')\n",
    "else:\n",
    "    print(num)\n",
    "\n",
    "# call stack mechanism\n",
    "# __main()  ---call--> b()  ---call--> a()\n",
    "# a()에서 오류 발생시 오류를 본인을 호출한 b()로 던짐\n",
    "# b()에서 오류 처리 안하면 b()를 호출한 __main()으로 던짐\n",
    "# 예외가 발생한 곳과 예외를 처리할 곳을 분리 가능"
   ]
  },
  {
   "cell_type": "markdown",
   "id": "7b76a016-a63e-4f69-9892-019c3cb74f86",
   "metadata": {},
   "source": [
    "## class method"
   ]
  },
  {
   "cell_type": "code",
   "execution_count": 49,
   "id": "f300573b-a6f2-4325-82c6-34fb118de171",
   "metadata": {},
   "outputs": [
    {
     "name": "stdout",
     "output_type": "stream",
     "text": [
      "쏘나타 시리얼 번호: 1\n",
      "그랜져 시리얼 번호: 2\n",
      "2\n"
     ]
    }
   ],
   "source": [
    "class Car:\n",
    "    serial = 0   # 클래스 내부의 변수생성, 클래스 소속의 변수\n",
    "                 # 특정 객체에 소속되지 않으며 이 클래스로부터 생성되는 모든 객체가 공유\n",
    "                 # __init__()은 특정 객체에 소속된 변수 생성\n",
    "    def __init__(self, name):\n",
    "        self.name = name    # 멤버변수\n",
    "        Car.serial += 1     # 멤버변수일 시 계속 1값만 도출, 클래스변수로 모두 공유해서 누적합가능\n",
    "                            # serial 변수가 클래스 소속이기 때문에\n",
    "        self.serialNo = Car.serial   # 클래스 변수가 가진 값을 멤버변수에 대입\n",
    "                                     # 생성자의 매개변수를 통해 초기화할 필요없음\n",
    "                                     # 클래스 변수값으로 초기화\n",
    "    @classmethod\n",
    "    def lastSerialNo(cls):\n",
    "        print(cls.serial)\n",
    "\n",
    "sonata = Car('쏘나타')\n",
    "grandure = Car('그랜져')\n",
    "print(f'{sonata.name} 시리얼 번호: {sonata.serialNo}')\n",
    "print(f'{grandure.name} 시리얼 번호: {grandure.serialNo}')  \n",
    "Car.lastSerialNo()   # 클래스 변수이기 때문에 객체명를 통해서가 아닌 클래스명을 통해 호출"
   ]
  },
  {
   "cell_type": "markdown",
   "id": "862d9e0a-3c0f-4ad6-8ae1-aec5f13edb32",
   "metadata": {},
   "source": [
    "## 연산자 메서드"
   ]
  },
  {
   "cell_type": "code",
   "execution_count": 53,
   "id": "a71662d4-3e97-4242-9bb0-63fec0e16d1b",
   "metadata": {},
   "outputs": [
    {
     "name": "stdout",
     "output_type": "stream",
     "text": [
      "False\n"
     ]
    },
    {
     "ename": "TypeError",
     "evalue": "unsupported operand type(s) for +: 'Date' and 'Date'",
     "output_type": "error",
     "traceback": [
      "\u001b[1;31m---------------------------------------------------------------------------\u001b[0m",
      "\u001b[1;31mTypeError\u001b[0m                                 Traceback (most recent call last)",
      "Cell \u001b[1;32mIn[53], line 11\u001b[0m\n\u001b[0;32m      8\u001b[0m d2 \u001b[38;5;241m=\u001b[39m Date(\u001b[38;5;241m2023\u001b[39m, \u001b[38;5;241m10\u001b[39m, \u001b[38;5;241m26\u001b[39m)\n\u001b[0;32m     10\u001b[0m \u001b[38;5;28mprint\u001b[39m(d1 \u001b[38;5;241m==\u001b[39m d2)  \u001b[38;5;66;03m# False, 각 객체의 주소값이 달라서\u001b[39;00m\n\u001b[1;32m---> 11\u001b[0m \u001b[38;5;28mprint\u001b[39m(d1\u001b[38;5;241m+\u001b[39md2)\n",
      "\u001b[1;31mTypeError\u001b[0m: unsupported operand type(s) for +: 'Date' and 'Date'"
     ]
    }
   ],
   "source": [
    "class Date:\n",
    "    def __init__(self, year, month, day):\n",
    "        self.year = year\n",
    "        self.month = month\n",
    "        self.day = day\n",
    "\n",
    "d1 = Date(2023, 10, 26)\n",
    "d2 = Date(2023, 10, 26)\n",
    "\n",
    "print(d1 == d2)  # False, 각 객체의 주소값이 달라서, object class의 __eq__ method 실행\n",
    "# print(d1 + d2) # Error, __add__ method가 작동, object 클래스에 존재하지 않음"
   ]
  },
  {
   "cell_type": "code",
   "execution_count": 58,
   "id": "0a97b35e-ce05-4d1b-bed8-98733f136252",
   "metadata": {},
   "outputs": [
    {
     "name": "stdout",
     "output_type": "stream",
     "text": [
      "False\n",
      "True\n"
     ]
    }
   ],
   "source": [
    "class Date:\n",
    "    def __init__(self, year, month, day):\n",
    "        self.year = year\n",
    "        self.month = month\n",
    "        self.day = day\n",
    "\n",
    "    # 연산자 메서드\n",
    "    def __eq__(self, other):  # other는 비교 대상으로 사용될 다른 객체\n",
    "                              # 오버라이딩시 부모 클래스의 메서드와 형식이 같아야함\n",
    "        return self.year == other.year and self.month == other.month and self.day == other.day\n",
    "\n",
    "    def __gt__(self, other):   # object 클래스의 __gt__를 오버라이딩\n",
    "        if self.year > other.year:\n",
    "            return True\n",
    "        elif self.year == other.year and self.month > other.month:\n",
    "            return True\n",
    "        elif self.year == other.year and self.month == other.month and self.day > other.day:\n",
    "            return True\n",
    "        else:\n",
    "            return False\n",
    "    \n",
    "d1 = Date(2023, 10, 26)\n",
    "d2 = Date(2023, 10, 24)\n",
    "\n",
    "print(d1 == d2)  # true, 재정의된 __eq__ 메서드 실행\n",
    "print(d1 > d2)"
   ]
  },
  {
   "cell_type": "code",
   "execution_count": null,
   "id": "91b759f8-65b3-44ad-b242-ad31c28a54aa",
   "metadata": {},
   "outputs": [],
   "source": []
  }
 ],
 "metadata": {
  "kernelspec": {
   "display_name": "Python 3 (ipykernel)",
   "language": "python",
   "name": "python3"
  },
  "language_info": {
   "codemirror_mode": {
    "name": "ipython",
    "version": 3
   },
   "file_extension": ".py",
   "mimetype": "text/x-python",
   "name": "python",
   "nbconvert_exporter": "python",
   "pygments_lexer": "ipython3",
   "version": "3.11.5"
  }
 },
 "nbformat": 4,
 "nbformat_minor": 5
}
