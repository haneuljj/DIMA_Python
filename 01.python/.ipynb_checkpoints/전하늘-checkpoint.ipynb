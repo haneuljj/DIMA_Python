{
 "cells": [
  {
   "cell_type": "markdown",
   "id": "98f3d048-9863-4508-8f17-4ea650488584",
   "metadata": {},
   "source": [
    "# 객관식\n",
    "# 1. 2번\n",
    "# 2. 3번\n",
    "# 3. 3번"
   ]
  },
  {
   "cell_type": "markdown",
   "id": "d5724119-a4c2-422b-b346-794d03faef4d",
   "metadata": {},
   "source": [
    "# 4. 사각형의 넓이 계산"
   ]
  },
  {
   "cell_type": "code",
   "execution_count": 4,
   "id": "755f97e9-1a89-4a9c-8cb1-c43bab05a202",
   "metadata": {},
   "outputs": [
    {
     "name": "stdin",
     "output_type": "stream",
     "text": [
      "밑변의 길이를 입력하세요(cm):  4\n",
      "높이를 입력하세요(cm):  4\n"
     ]
    },
    {
     "name": "stdout",
     "output_type": "stream",
     "text": [
      "사각형의 면적은 16cm^2 입니다.\n"
     ]
    }
   ],
   "source": [
    "a = int(input('밑변의 길이를 입력하세요(cm): '))\n",
    "b = int(input('높이를 입력하세요(cm): '))\n",
    "\n",
    "result = a*b\n",
    "print(f'사각형의 면적은 {result}입니다.')\n"
   ]
  },
  {
   "cell_type": "markdown",
   "id": "8ab952f4-00e5-4b72-93fe-786828234764",
   "metadata": {},
   "source": [
    "# 5. 전자 출결 시스템 만들기"
   ]
  },
  {
   "cell_type": "code",
   "execution_count": 1,
   "id": "8161cc49-84d5-46f4-9c94-2ad40c6fb644",
   "metadata": {},
   "outputs": [
    {
     "name": "stdout",
     "output_type": "stream",
     "text": [
      "--DIMA 3기 전자출결 시스템--\n"
     ]
    },
    {
     "name": "stdin",
     "output_type": "stream",
     "text": [
      "ID를 입력 하세요:  digitalmaster\n",
      "PW를 입력 하세요:  12345678\n"
     ]
    },
    {
     "name": "stdout",
     "output_type": "stream",
     "text": [
      "정상적으로 출결 되었습니다.\n"
     ]
    }
   ],
   "source": [
    "ID = 'digitalmaster'\n",
    "PW = '12345678'\n",
    "\n",
    "print('--DIMA 3기 전자출결 시스템--')\n",
    "id = input('ID를 입력 하세요: ')\n",
    "pw = input('PW를 입력 하세요: ')\n",
    "\n",
    "if id == ID and pw == PW:\n",
    "    print('정상적으로 출결 되었습니다.')\n",
    "else:\n",
    "    print('ID, PW를 확인하세요.')"
   ]
  },
  {
   "cell_type": "markdown",
   "id": "9e804d8b-c853-47ee-86cf-f7877d7d69e2",
   "metadata": {},
   "source": [
    "# 6. 성적 평가 시스템 만들기"
   ]
  },
  {
   "cell_type": "code",
   "execution_count": 66,
   "id": "dd683845-9751-4c36-bb30-5ef74490cb2a",
   "metadata": {},
   "outputs": [
    {
     "name": "stdin",
     "output_type": "stream",
     "text": [
      "출석점수:  48\n",
      "과제점수:  100\n",
      "중간고사:  56\n",
      "기말프로젝트:  88\n"
     ]
    },
    {
     "name": "stdout",
     "output_type": "stream",
     "text": [
      "73.6\n",
      "F학점\n"
     ]
    }
   ],
   "source": [
    "print('성적입력 (100점단위)')\n",
    "absent = int(input('출석점수: '))\n",
    "assign = int(input('과제점수: '))\n",
    "midTerm = int(input('중간고사: '))\n",
    "final = int(input('기말프로젝트: '))\n",
    "\n",
    "score = (absent*0.1)+(assign*0.2)+(midTerm*0.4)+(final*0.3)\n",
    "print('%4.1f'%score)\n",
    "\n",
    "\n",
    "if score >= 90 and absent >= 50:\n",
    "    print('A학점')\n",
    "elif score >= 80 and absent >= 50:\n",
    "    print('B학점')\n",
    "elif score >= 70 and absent >= 50:\n",
    "    print('C학점')\n",
    "elif score >= 60 and absent >= 50:\n",
    "    print('D학점')\n",
    "else:\n",
    "    print('F학점')"
   ]
  },
  {
   "cell_type": "code",
   "execution_count": null,
   "id": "1df77724-5d6b-48c8-b483-0a1dd10f5bee",
   "metadata": {},
   "outputs": [],
   "source": [
    "print('성적입력 (100점단위)')\n",
    "absent = int(input('출석점수: '))\n",
    "assign = int(input('과제점수: '))\n",
    "midTerm = int(input('중간고사: '))\n",
    "final = int(input('기말프로젝트: '))\n",
    "\n",
    "score = (absent*0.1)+(assign*0.2)+(midTerm*0.4)+(final*0.3)\n",
    "print('%4.1f'%score)\n",
    "\n",
    "if absent < 50:\n",
    "    grade = 'F'\n",
    "else:\n",
    "    if score >= 90:\n",
    "        grade = 'A'\n",
    "    elif score >= 80:\n",
    "        grade = 'B'\n",
    "    elif score >= 70:\n",
    "        grade = 'C'\n",
    "    elif score >= 60:\n",
    "        grade = 'D'\n",
    "    else:\n",
    "        grade = 'F'\n",
    "print(f'{grade}학점')"
   ]
  },
  {
   "cell_type": "markdown",
   "id": "0b43200e-0bcc-4b9f-899a-29e85832631f",
   "metadata": {},
   "source": [
    "# 7번. 정렬 및 배수 출력"
   ]
  },
  {
   "cell_type": "code",
   "execution_count": 67,
   "id": "7e729f6a-1d6c-445b-87ba-f8f02756c3ea",
   "metadata": {},
   "outputs": [
    {
     "name": "stdin",
     "output_type": "stream",
     "text": [
      "숫자입력:  42\n",
      "숫자입력:  12\n",
      "숫자입력:  4\n",
      "숫자입력:  56\n",
      "숫자입력:  32\n",
      "숫자입력:  14\n",
      "숫자입력:  59\n",
      "숫자입력:  98\n",
      "숫자입력:  52\n",
      "숫자입력:  11\n"
     ]
    },
    {
     "name": "stdout",
     "output_type": "stream",
     "text": [
      "[4, 11, 12, 14, 32, 42, 52, 56, 59, 98]\n",
      "12\n",
      "42\n"
     ]
    }
   ],
   "source": [
    "num_list = []\n",
    "\n",
    "for i in range(10):\n",
    "    num = int(input('숫자입력: '))\n",
    "    num_list.append(num)\n",
    "    # num_list.append(int(input('숫자입력:')))\n",
    "\n",
    "num_list.sort()\n",
    "print(num_list)\n",
    "\n",
    "for j in num_list:\n",
    "    if not j % 3:\n",
    "        print(j)"
   ]
  },
  {
   "cell_type": "markdown",
   "id": "8ecdd9a0-d6c5-456c-9e0d-daf9a24ef93f",
   "metadata": {},
   "source": [
    "# 8. 딕셔너리 변경"
   ]
  },
  {
   "cell_type": "code",
   "execution_count": 2,
   "id": "52321fff-7da6-4962-a904-affe833d0868",
   "metadata": {},
   "outputs": [
    {
     "name": "stdout",
     "output_type": "stream",
     "text": [
      "{'서울': '02', '경기': '031', '강원': '033', '충남': '041', '충북': '043', '경북': '054', '경남': '055', '전남': '061', '전북': '063'}\n"
     ]
    }
   ],
   "source": [
    "phone = \"서울 02 ~경기 031 ~강원 033 ~충남 041 ~충북 043 ~경북 054 ~경남 055 ~전남 061 ~전북 063\"\n",
    "\n",
    "mydic = {}\n",
    "local_split = phone.split(\" ~\")\n",
    "for i in local_split:\n",
    "    num_split = i.split()\n",
    "    mydic[num_split[0]] = num_split[1]\n",
    "    # mydic = {i.split()[0] : i.split()[1] for s in local_split}\n",
    "print(mydic)"
   ]
  },
  {
   "cell_type": "markdown",
   "id": "8c32c366-b304-4408-b639-90e86f76f006",
   "metadata": {},
   "source": [
    "# 9. 임의의 웹 주소를 입력 받아 이 도메인이 .kr로 끝나는 도메인인지 확인하는 코드를 작성하시오."
   ]
  },
  {
   "cell_type": "code",
   "execution_count": 69,
   "id": "3a75c6c3-caea-4389-b7d5-db36be34a82e",
   "metadata": {},
   "outputs": [
    {
     "name": "stdin",
     "output_type": "stream",
     "text": [
      "웹 주소 입력:  www.naver.kr\n"
     ]
    },
    {
     "name": "stdout",
     "output_type": "stream",
     "text": [
      "결과: kr 도메인입니다.\n"
     ]
    }
   ],
   "source": [
    "address = input('웹 주소 입력: ')\n",
    "\n",
    "if address[-3:] == '.kr':\n",
    "    print('결과: kr 도메인입니다.')\n",
    "else:\n",
    "    print('결과: kr 도메인이 아닙니다.')"
   ]
  },
  {
   "cell_type": "markdown",
   "id": "b7bcaa8f-903f-4a40-9c88-6777e5e3cb68",
   "metadata": {},
   "source": [
    "# 10. 리스트 컴프리헨션 문법"
   ]
  },
  {
   "cell_type": "code",
   "execution_count": 70,
   "id": "3f82533d-0690-42f4-962c-805869bdf82a",
   "metadata": {},
   "outputs": [
    {
     "name": "stdout",
     "output_type": "stream",
     "text": [
      "[2, 4, 6, 8, 10, 12, 14, 16, 18, 20, 22, 24, 26, 28, 30, 32, 34, 36, 38, 40, 42, 44, 46, 48, 50, 52, 54, 56, 58, 60, 62, 64, 66, 68, 70, 72, 74, 76, 78, 80, 82, 84, 86, 88, 90, 92, 94, 96, 98, 100]\n"
     ]
    }
   ],
   "source": [
    "result = [i for i in range(1, 101) if not i%2]\n",
    "print(result)"
   ]
  },
  {
   "cell_type": "markdown",
   "id": "450c6d85-f7a4-467e-95f5-968fdee87ae2",
   "metadata": {},
   "source": [
    "# 11. price 리스트에 저장되어 있는 상품 가격 다섯 개를 람다 함수를 이용하여 모든 상품의 가격을 20% 세일한 값으로 출력하시오"
   ]
  },
  {
   "cell_type": "code",
   "execution_count": 72,
   "id": "07e4f6dc-d169-44af-bfb1-c65158e8990f",
   "metadata": {},
   "outputs": [
    {
     "name": "stdout",
     "output_type": "stream",
     "text": [
      "348원\n",
      "960원\n",
      "712원\n",
      "1080원\n",
      "796원\n"
     ]
    }
   ],
   "source": [
    "price = [435, 1200, 890, 1350, 995]\n",
    "price_list = list(map(lambda x : x*0.8, price))\n",
    "for i in price_list:\n",
    "    print('%d원'%i)\n",
    "# for sale_pirce in map(lambda x: x*0.8, price):\n",
    "#    print(sale_price)"
   ]
  },
  {
   "cell_type": "markdown",
   "id": "c0f5b2dc-606f-45c2-933b-1697ec75341f",
   "metadata": {},
   "source": [
    "# 12. 평균과 10이상 차이나는 값 구하기\n",
    "- 정수 10개를 입력받아 그 값들의 평균과 10 이상 차이나는 정수들을 출력하는 프로그램을 작성하시오"
   ]
  },
  {
   "cell_type": "code",
   "execution_count": 73,
   "id": "d764e23e-219b-4435-b34e-acc3e86273a5",
   "metadata": {},
   "outputs": [
    {
     "name": "stdin",
     "output_type": "stream",
     "text": [
      "값[0]:  1\n",
      "값[1]:  5\n",
      "값[2]:  10\n",
      "값[3]:  25\n",
      "값[4]:  -40\n",
      "값[5]:  -25\n",
      "값[6]:  100\n",
      "값[7]:  3\n",
      "값[8]:  5\n",
      "값[9]:  7\n"
     ]
    },
    {
     "name": "stdout",
     "output_type": "stream",
     "text": [
      "\n",
      "평균: 9.1\n",
      "평균과 10이상 차이나는 수: 25 -40 -25 100 "
     ]
    }
   ],
   "source": [
    "sum = 0\n",
    "numberList = []\n",
    "for i in range(10):\n",
    "    number = int(input(f'값[{i}]: '))\n",
    "    numberList.append(number)\n",
    "    sum += number\n",
    "avg = sum/10\n",
    "print()\n",
    "print('평균:',avg)\n",
    "\n",
    "result = [n for n in numberList if (avg-n >= 10) or (avg-n <= -10)]\n",
    "print ('평균과 10이상 차이나는 수: ', end='')\n",
    "for x in result:\n",
    "    print(x, end=' ')"
   ]
  },
  {
   "cell_type": "markdown",
   "id": "29276f39-9801-4134-a36e-425bc2b33738",
   "metadata": {},
   "source": [
    "# 13. 리스트 원소 정렬하기"
   ]
  },
  {
   "cell_type": "code",
   "execution_count": 5,
   "id": "76019bfe-2be4-4a6b-8490-eee8a7b0a68a",
   "metadata": {},
   "outputs": [
    {
     "name": "stdout",
     "output_type": "stream",
     "text": [
      "정렬 전: [79, 1, 43, 4, 57, 98, 53, 71, 83, 16]\n",
      "정렬 후: [1, 4, 16, 43, 53, 57, 71, 79, 83, 98]\n"
     ]
    }
   ],
   "source": [
    "import random\n",
    "\n",
    "mylist = random.sample(range(1,101),10)\n",
    "sorted_list = []\n",
    "print('정렬 전:', mylist)\n",
    "\n",
    "while len(sorted_list) < 10:\n",
    "    position = mylist.index(min(mylist))\n",
    "    sorted_list.append(mylist[position])\n",
    "    mylist.pop(position)\n",
    "\n",
    "print('정렬 후:',sorted_list)"
   ]
  },
  {
   "cell_type": "code",
   "execution_count": 6,
   "id": "b33a6481-1334-4815-8517-9e3a416e0fe1",
   "metadata": {},
   "outputs": [
    {
     "name": "stdout",
     "output_type": "stream",
     "text": [
      "정렬 전: [7, 4, 2, 75, 43, 12, 76, 53, 76, 32]\n",
      "정렬 후: [2, 4, 7, 12, 32, 43, 53, 75, 76, 76]\n"
     ]
    }
   ],
   "source": [
    "import random\n",
    "num = [random.randint(1,99) for i in range(10)]\n",
    "print('정렬 전:', num)\n",
    "\n",
    "# 교환 정렬(버블 정렬)\n",
    "# i번째 요소와 i+1 번째 요소부터 끝까지 비교하여 i번째 요소 값이 크면  i+1번째와 자리를 바꾼다.\n",
    "for i in range(9):\n",
    "    for j in range(i+1, 10):\n",
    "        if num[i] > num[j]:\n",
    "            temp = num[i]\n",
    "            num[i] = num[j]\n",
    "            num[j] = temp\n",
    "print('정렬 후:', num)"
   ]
  },
  {
   "cell_type": "markdown",
   "id": "01eb346b-67fb-44bf-bf4f-8fcc4a120c21",
   "metadata": {},
   "source": [
    "# 14. 날짜 수 구하기"
   ]
  },
  {
   "cell_type": "code",
   "execution_count": 76,
   "id": "7a257b1f-4711-4171-8613-78819c9c4487",
   "metadata": {},
   "outputs": [
    {
     "name": "stdin",
     "output_type": "stream",
     "text": [
      "연도:  2018\n",
      "월:  9\n",
      "일:  7\n"
     ]
    },
    {
     "name": "stdout",
     "output_type": "stream",
     "text": [
      "\n",
      "1년 1월 1일 ~ 2018년 9월 7일까지는 총 736944일입니다.\n"
     ]
    }
   ],
   "source": [
    "year = int(input('연도: '))\n",
    "month = int(input('월: '))\n",
    "day = int(input('일: '))\n",
    "dayInMonth = [31, 28, 31, 30, 31, 30, 31, 31, 30, 31, 30, 31]\n",
    "\n",
    "cnt = 0\n",
    "for i in range(1,year):\n",
    "    if (i % 4 == 0 and i % 100 != 0) or i % 400 == 0:\n",
    "        cnt += 366\n",
    "    else:\n",
    "        cnt += 365\n",
    "\n",
    "for n in range(month-1):\n",
    "    cnt += dayInMonth[n]\n",
    "\n",
    "cnt = cnt + day\n",
    "\n",
    "print()\n",
    "print(f'1년 1월 1일 ~ {year}년 {month}월 {day}일까지는 총 {cnt}일입니다.')"
   ]
  },
  {
   "cell_type": "code",
   "execution_count": null,
   "id": "6e57a64d-81c6-40e7-8539-4f8c24ed1b06",
   "metadata": {},
   "outputs": [],
   "source": [
    "def isleapyear(year):\n",
    "    return (not year%4 and year%100) or not year%400\n",
    "\n",
    "monthly_date= [31, 28, 31, 30, 31, 30, 31, 31, 30, 31, 30, 31]\n",
    "\n",
    "year = int(input('연도: '))\n",
    "month = int(input('월: '))\n",
    "day = int(input('일: '))\n",
    "\n",
    "total = 0\n",
    "\n",
    "# 직전 연도까지의 일수\n",
    "for i in range(1, year):\n",
    "    if isleapyear(i):\n",
    "        total += 366\n",
    "    else:\n",
    "        total += 365\n",
    "\n",
    "# 전월까지 월수 계산\n",
    "for i in range(month-1):\n",
    "    if isleapyear:\n",
    "        total += monthly_date[i]\n",
    "\n",
    "# 해당 날짜 더하기\n",
    "total += day\n",
    "\n",
    "# 확인하고자 하는 해가 윤년이고 3월 이후면 1일 더하기\n",
    "if isleapyear(year) and month > 2:\n",
    "    total += 1\n",
    "\n",
    "print()\n",
    "print(f'1년 1월 1일 ~ {year}년 {month}월 {day}일까지는 총 {total}일입니다.')"
   ]
  },
  {
   "cell_type": "markdown",
   "id": "cd72378d-a471-4753-8a60-e12a9390fb88",
   "metadata": {},
   "source": [
    "# 15. 리스트에 저장된 숫자 맞추기"
   ]
  },
  {
   "cell_type": "code",
   "execution_count": 7,
   "id": "6927ca4c-6426-4944-bcbb-99d925f3ba58",
   "metadata": {},
   "outputs": [
    {
     "name": "stdout",
     "output_type": "stream",
     "text": [
      "[16, 17, 9, 3, 15]\n",
      "| X | X | X | X | X | "
     ]
    },
    {
     "name": "stdin",
     "output_type": "stream",
     "text": [
      "X위치의 숫자를 맞혀보세요:  16\n"
     ]
    },
    {
     "name": "stdout",
     "output_type": "stream",
     "text": [
      "정답입니다!\n",
      "| 16 | X | X | X | X | "
     ]
    },
    {
     "name": "stdin",
     "output_type": "stream",
     "text": [
      "X위치의 숫자를 맞혀보세요:  177\n"
     ]
    },
    {
     "name": "stdout",
     "output_type": "stream",
     "text": [
      "없는 숫자입니다.\n",
      "| 16 | X | X | X | X | "
     ]
    },
    {
     "name": "stdin",
     "output_type": "stream",
     "text": [
      "X위치의 숫자를 맞혀보세요:  17\n"
     ]
    },
    {
     "name": "stdout",
     "output_type": "stream",
     "text": [
      "정답입니다!\n",
      "| 16 | 17 | X | X | X | "
     ]
    },
    {
     "name": "stdin",
     "output_type": "stream",
     "text": [
      "X위치의 숫자를 맞혀보세요:  9\n"
     ]
    },
    {
     "name": "stdout",
     "output_type": "stream",
     "text": [
      "정답입니다!\n",
      "| 16 | 17 | 9 | X | X | "
     ]
    },
    {
     "name": "stdin",
     "output_type": "stream",
     "text": [
      "X위치의 숫자를 맞혀보세요:  3\n"
     ]
    },
    {
     "name": "stdout",
     "output_type": "stream",
     "text": [
      "정답입니다!\n",
      "| 16 | 17 | 9 | 3 | X | "
     ]
    },
    {
     "name": "stdin",
     "output_type": "stream",
     "text": [
      "X위치의 숫자를 맞혀보세요:  15\n"
     ]
    },
    {
     "name": "stdout",
     "output_type": "stream",
     "text": [
      "정답입니다!\n",
      "6회만에 성공!!!\n"
     ]
    }
   ],
   "source": [
    "import random \n",
    "\n",
    "xlist = ['X','X','X','X','X']  # ['X']*5\n",
    "number_list = random.sample(range(1,21),5)\n",
    "# print(number_list)\n",
    "cnt = 0\n",
    "win = False\n",
    "\n",
    "while True:\n",
    "    if 'X' not in xlist:\n",
    "        win = True\n",
    "        print(f'{cnt}회만에 성공!!!')\n",
    "        break\n",
    "    \n",
    "    if not win:\n",
    "        cnt+=1\n",
    "        print('| ', end='')\n",
    "        for i in xlist:\n",
    "            print(i, '|', sep=' ', end=' ')\n",
    "        guess = int(input('X위치의 숫자를 맞혀보세요: '))\n",
    "        if guess in number_list:\n",
    "            position = number_list.index(guess)\n",
    "            xlist[position] = guess\n",
    "            print('정답입니다!')\n",
    "        else:\n",
    "            print('없는 숫자입니다.')\n",
    "    "
   ]
  },
  {
   "cell_type": "code",
   "execution_count": null,
   "id": "a05aaa80-de4b-42ae-82fc-e94e9efbb8fc",
   "metadata": {},
   "outputs": [],
   "source": [
    "import random \n",
    "\n",
    "xlist = ['X','X','X','X','X']  # ['X']*5\n",
    "number_list = random.sample(range(1,21),5)\n",
    "# print(number_list)\n",
    "cnt = 0\n",
    "\n",
    "while True:\n",
    "    cnt+=1\n",
    "        print('| ', end='')\n",
    "        for i in xlist:\n",
    "            print(i, '|', sep=' ', end=' ')\n",
    "        guess = int(input('X위치의 숫자를 맞혀보세요: '))\n",
    "\n",
    "    for i, n in enumerate(number_list):\n",
    "        if n == guess:\n",
    "            print('정답입니다.')\n",
    "            xlist[i] = n\n",
    "            break\n",
    "    else:   # 정답을 맞추지 못했을 때 실행될 코드\n",
    "        print('없는 숫자입니다.')\n",
    "\n",
    "    if xlist.count['X'] == 0: break\n",
    "\n",
    "print(f'{cnt}회만에 성공!!!')"
   ]
  }
 ],
 "metadata": {
  "kernelspec": {
   "display_name": "Python 3 (ipykernel)",
   "language": "python",
   "name": "python3"
  },
  "language_info": {
   "codemirror_mode": {
    "name": "ipython",
    "version": 3
   },
   "file_extension": ".py",
   "mimetype": "text/x-python",
   "name": "python",
   "nbconvert_exporter": "python",
   "pygments_lexer": "ipython3",
   "version": "3.11.5"
  }
 },
 "nbformat": 4,
 "nbformat_minor": 5
}
