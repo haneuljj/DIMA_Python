{
 "cells": [
  {
   "cell_type": "markdown",
   "id": "d3aa087c-055c-4ec0-8fe1-a611c22161d2",
   "metadata": {},
   "source": [
    "# 붓꽃 판별"
   ]
  },
  {
   "cell_type": "markdown",
   "id": "6ad7d120-12e4-41e6-95dd-7e31d2869fa2",
   "metadata": {},
   "source": [
    "## 패키지 로딩"
   ]
  },
  {
   "cell_type": "code",
   "execution_count": 2,
   "id": "71a515a2-7f27-4dbd-a9d0-1729a115f4ff",
   "metadata": {},
   "outputs": [],
   "source": [
    "import numpy as np\n",
    "import pandas as pd\n",
    "from sklearn.linear_model import LogisticRegression\n",
    "from sklearn.datasets import load_iris\n",
    "from sklearn.model_selection import train_test_split\n",
    "from sklearn.metrics import accuracy_score, confusion_matrix, precision_score, f1_score, classification_report, roc_auc_score"
   ]
  },
  {
   "cell_type": "markdown",
   "id": "3a09f92d-4e7c-4a85-b98e-3664f9a4d179",
   "metadata": {},
   "source": [
    "## 데이터 로드 및 확인"
   ]
  },
  {
   "cell_type": "code",
   "execution_count": 6,
   "id": "07782c97-1d88-4ae8-a6cd-7c26258b1ea0",
   "metadata": {},
   "outputs": [
    {
     "name": "stdout",
     "output_type": "stream",
     "text": [
      "(150, 4) (150,)\n",
      "{0: 50, 1: 50, 2: 50}\n"
     ]
    }
   ],
   "source": [
    "x, y = load_iris(return_X_y=True)  # return_X_y: 독립변수와 종속변수를 분리시켜 가져오는 파라매터 \n",
    "\n",
    "print(x.shape, y.shape)\n",
    "unique, counts = np.unique(y, return_counts=True)  # return_counts: 판다스의 value_counts와 비슷한 기능 \n",
    "#print(unique, counts)\n",
    "print(dict(zip(unique, counts)))"
   ]
  },
  {
   "cell_type": "markdown",
   "id": "ac3410d8-23e7-40d3-927d-fc548f8e9a86",
   "metadata": {},
   "source": [
    "## 학습데이터/평가데이터 분리"
   ]
  },
  {
   "cell_type": "code",
   "execution_count": 7,
   "id": "555e6d8e-dc31-495b-ac9c-18157ae86012",
   "metadata": {},
   "outputs": [],
   "source": [
    "x_train, x_test, y_train, y_test = train_test_split(x, y, train_size=0.7, random_state=10, stratify=y)"
   ]
  },
  {
   "cell_type": "markdown",
   "id": "aec0dfbb-d54b-4987-93e2-2a0d16347eb2",
   "metadata": {},
   "source": [
    "## 모델 생성"
   ]
  },
  {
   "cell_type": "code",
   "execution_count": 21,
   "id": "0ddc3829-38fa-4007-b0db-ed3b312cdc05",
   "metadata": {},
   "outputs": [
    {
     "data": {
      "text/html": [
       "<style>#sk-container-id-4 {color: black;background-color: white;}#sk-container-id-4 pre{padding: 0;}#sk-container-id-4 div.sk-toggleable {background-color: white;}#sk-container-id-4 label.sk-toggleable__label {cursor: pointer;display: block;width: 100%;margin-bottom: 0;padding: 0.3em;box-sizing: border-box;text-align: center;}#sk-container-id-4 label.sk-toggleable__label-arrow:before {content: \"▸\";float: left;margin-right: 0.25em;color: #696969;}#sk-container-id-4 label.sk-toggleable__label-arrow:hover:before {color: black;}#sk-container-id-4 div.sk-estimator:hover label.sk-toggleable__label-arrow:before {color: black;}#sk-container-id-4 div.sk-toggleable__content {max-height: 0;max-width: 0;overflow: hidden;text-align: left;background-color: #f0f8ff;}#sk-container-id-4 div.sk-toggleable__content pre {margin: 0.2em;color: black;border-radius: 0.25em;background-color: #f0f8ff;}#sk-container-id-4 input.sk-toggleable__control:checked~div.sk-toggleable__content {max-height: 200px;max-width: 100%;overflow: auto;}#sk-container-id-4 input.sk-toggleable__control:checked~label.sk-toggleable__label-arrow:before {content: \"▾\";}#sk-container-id-4 div.sk-estimator input.sk-toggleable__control:checked~label.sk-toggleable__label {background-color: #d4ebff;}#sk-container-id-4 div.sk-label input.sk-toggleable__control:checked~label.sk-toggleable__label {background-color: #d4ebff;}#sk-container-id-4 input.sk-hidden--visually {border: 0;clip: rect(1px 1px 1px 1px);clip: rect(1px, 1px, 1px, 1px);height: 1px;margin: -1px;overflow: hidden;padding: 0;position: absolute;width: 1px;}#sk-container-id-4 div.sk-estimator {font-family: monospace;background-color: #f0f8ff;border: 1px dotted black;border-radius: 0.25em;box-sizing: border-box;margin-bottom: 0.5em;}#sk-container-id-4 div.sk-estimator:hover {background-color: #d4ebff;}#sk-container-id-4 div.sk-parallel-item::after {content: \"\";width: 100%;border-bottom: 1px solid gray;flex-grow: 1;}#sk-container-id-4 div.sk-label:hover label.sk-toggleable__label {background-color: #d4ebff;}#sk-container-id-4 div.sk-serial::before {content: \"\";position: absolute;border-left: 1px solid gray;box-sizing: border-box;top: 0;bottom: 0;left: 50%;z-index: 0;}#sk-container-id-4 div.sk-serial {display: flex;flex-direction: column;align-items: center;background-color: white;padding-right: 0.2em;padding-left: 0.2em;position: relative;}#sk-container-id-4 div.sk-item {position: relative;z-index: 1;}#sk-container-id-4 div.sk-parallel {display: flex;align-items: stretch;justify-content: center;background-color: white;position: relative;}#sk-container-id-4 div.sk-item::before, #sk-container-id-4 div.sk-parallel-item::before {content: \"\";position: absolute;border-left: 1px solid gray;box-sizing: border-box;top: 0;bottom: 0;left: 50%;z-index: -1;}#sk-container-id-4 div.sk-parallel-item {display: flex;flex-direction: column;z-index: 1;position: relative;background-color: white;}#sk-container-id-4 div.sk-parallel-item:first-child::after {align-self: flex-end;width: 50%;}#sk-container-id-4 div.sk-parallel-item:last-child::after {align-self: flex-start;width: 50%;}#sk-container-id-4 div.sk-parallel-item:only-child::after {width: 0;}#sk-container-id-4 div.sk-dashed-wrapped {border: 1px dashed gray;margin: 0 0.4em 0.5em 0.4em;box-sizing: border-box;padding-bottom: 0.4em;background-color: white;}#sk-container-id-4 div.sk-label label {font-family: monospace;font-weight: bold;display: inline-block;line-height: 1.2em;}#sk-container-id-4 div.sk-label-container {text-align: center;}#sk-container-id-4 div.sk-container {/* jupyter's `normalize.less` sets `[hidden] { display: none; }` but bootstrap.min.css set `[hidden] { display: none !important; }` so we also need the `!important` here to be able to override the default hidden behavior on the sphinx rendered scikit-learn.org. See: https://github.com/scikit-learn/scikit-learn/issues/21755 */display: inline-block !important;position: relative;}#sk-container-id-4 div.sk-text-repr-fallback {display: none;}</style><div id=\"sk-container-id-4\" class=\"sk-top-container\"><div class=\"sk-text-repr-fallback\"><pre>LogisticRegression(multi_class=&#x27;multinomial&#x27;)</pre><b>In a Jupyter environment, please rerun this cell to show the HTML representation or trust the notebook. <br />On GitHub, the HTML representation is unable to render, please try loading this page with nbviewer.org.</b></div><div class=\"sk-container\" hidden><div class=\"sk-item\"><div class=\"sk-estimator sk-toggleable\"><input class=\"sk-toggleable__control sk-hidden--visually\" id=\"sk-estimator-id-4\" type=\"checkbox\" checked><label for=\"sk-estimator-id-4\" class=\"sk-toggleable__label sk-toggleable__label-arrow\">LogisticRegression</label><div class=\"sk-toggleable__content\"><pre>LogisticRegression(multi_class=&#x27;multinomial&#x27;)</pre></div></div></div></div></div>"
      ],
      "text/plain": [
       "LogisticRegression(multi_class='multinomial')"
      ]
     },
     "execution_count": 21,
     "metadata": {},
     "output_type": "execute_result"
    }
   ],
   "source": [
    "model = LogisticRegression(solver='lbfgs', multi_class='multinomial') # 다지분류에서 'liblinear'는 오류 발생\n",
    "# multi_class: 다중클래스분류 문제의 상황에서 어떤 접근방식을 취할지 결정\n",
    "#model = LogisticRegression(solver='liblinear', multi_class='ovr')\n",
    "model.fit(x_train, y_train)"
   ]
  },
  {
   "cell_type": "markdown",
   "id": "10bbd8f9-e85d-4d87-80e4-34a13840b87e",
   "metadata": {},
   "source": [
    "## 모델 예측"
   ]
  },
  {
   "cell_type": "code",
   "execution_count": 24,
   "id": "41d57f92-2568-4fca-9358-b5e63af207c0",
   "metadata": {},
   "outputs": [
    {
     "name": "stdout",
     "output_type": "stream",
     "text": [
      "[0 2 0 2 1]\n"
     ]
    }
   ],
   "source": [
    "y_hat = model.predict(x_test)\n",
    "print(y_hat[:5])"
   ]
  },
  {
   "cell_type": "code",
   "execution_count": 11,
   "id": "5a0f95c0-0696-4daa-b6d8-5c91c3b3963a",
   "metadata": {},
   "outputs": [],
   "source": [
    "np.set_printoptions(precision=3, suppress=True)"
   ]
  },
  {
   "cell_type": "code",
   "execution_count": 22,
   "id": "c1cf076a-e745-4e43-a3e7-820a7ebdc5d1",
   "metadata": {},
   "outputs": [
    {
     "name": "stdout",
     "output_type": "stream",
     "text": [
      "[[0.968 0.032 0.   ]\n",
      " [0.    0.082 0.918]\n",
      " [0.978 0.022 0.   ]\n",
      " [0.    0.009 0.991]\n",
      " [0.013 0.811 0.176]]\n"
     ]
    }
   ],
   "source": [
    "# 각 클래스(0,1,2)에 대한 확률값\n",
    "prob = model.predict_proba(x_test)\n",
    "print(prob[:5])\n",
    "\n",
    "# liblinear, ovr로 모델 학습 시, 각 클래스 별 1:다로 설정한 3개의 회귀선의 확률"
   ]
  },
  {
   "cell_type": "markdown",
   "id": "b0175a3b-4ba6-43dd-90d4-6db83dc20514",
   "metadata": {},
   "source": [
    "## 모델 평가"
   ]
  },
  {
   "cell_type": "code",
   "execution_count": 25,
   "id": "cfcd62d7-f48b-4321-9da4-5080fa1d9d41",
   "metadata": {},
   "outputs": [
    {
     "name": "stdout",
     "output_type": "stream",
     "text": [
      "[[15  0  0]\n",
      " [ 0 15  0]\n",
      " [ 0  0 15]]\n",
      "정확도: 1.000\n"
     ]
    }
   ],
   "source": [
    "print(confusion_matrix(y_test, y_hat))\n",
    "print(f'정확도: {accuracy_score(y_test, y_hat):.3f}')\n"
   ]
  },
  {
   "cell_type": "code",
   "execution_count": 26,
   "id": "12a8ac68-3fad-43e0-9e1a-e857dd3df435",
   "metadata": {},
   "outputs": [
    {
     "name": "stdout",
     "output_type": "stream",
     "text": [
      "              precision    recall  f1-score   support\n",
      "\n",
      "           0       1.00      1.00      1.00        15\n",
      "           1       1.00      1.00      1.00        15\n",
      "           2       1.00      1.00      1.00        15\n",
      "\n",
      "    accuracy                           1.00        45\n",
      "   macro avg       1.00      1.00      1.00        45\n",
      "weighted avg       1.00      1.00      1.00        45\n",
      "\n"
     ]
    }
   ],
   "source": [
    "print(classification_report(y_test, y_hat))"
   ]
  },
  {
   "cell_type": "code",
   "execution_count": 28,
   "id": "b2b29083-3396-49ad-b274-f67734c2ed06",
   "metadata": {},
   "outputs": [
    {
     "data": {
      "image/png": "[encoded data removed]",
      "text/plain": [
       "<Figure size 640x480 with 2 Axes>"
      ]
     },
     "metadata": {},
     "output_type": "display_data"
    }
   ],
   "source": [
    "# confusion matrix를 히트맵으로 시각화\n",
    "import seaborn as sns\n",
    "import matplotlib.pyplot as plt\n",
    "\n",
    "cm = confusion_matrix(y_test, y_hat)\n",
    "sns.heatmap(cm, annot=True, fmt='.3f', linewidth=.5)\n",
    "plt.xlabel('Predict')\n",
    "plt.ylabel('Actual')\n",
    "plt.show()"
   ]
  },
  {
   "cell_type": "markdown",
   "id": "7362f38d-42d5-4714-b233-2d6f58c3de56",
   "metadata": {},
   "source": [
    "## 하이퍼 파라메터 튜닝\n",
    "- 조합 가능한 파라메터들을 하나씩 테스트 해보고 최적의 모델을 도출해줌\n",
    "- 교차검증도 실행"
   ]
  },
  {
   "cell_type": "code",
   "execution_count": 32,
   "id": "4776a2fb-d23f-4c12-9515-da09c23f358c",
   "metadata": {},
   "outputs": [],
   "source": [
    "import warnings\n",
    "warnings.filterwarnings(action='ignore')"
   ]
  },
  {
   "cell_type": "code",
   "execution_count": 33,
   "id": "b5547494-c96a-4247-8cf9-ea190d852503",
   "metadata": {},
   "outputs": [
    {
     "name": "stdout",
     "output_type": "stream",
     "text": [
      "최적 파라미터: {'C': 1, 'multi_class': 'multinomial', 'penalty': 'l1', 'solver': 'saga'}\n",
      "최적 정확도: 0.987\n"
     ]
    }
   ],
   "source": [
    "from sklearn.model_selection import GridSearchCV\n",
    "\n",
    "model = LogisticRegression()\n",
    "params = {'C':[10, 5, 3, 1, 0.1, 0.01], 'penalty':['l1','l2'], 'solver':['newton-cg', 'lbfgs', 'sag', 'saga', 'liblinear'], 'multi_class':['ovr', 'multinomial']}\n",
    "# penalty: 규제 방식 결정\n",
    "\n",
    "gs = GridSearchCV(model, params, cv=5, scoring='accuracy', n_jobs=-1)\n",
    "# 파라메터를 딕셔너리로 입력\n",
    "# scoring: 최적의 모델을 정할 평가지표\n",
    "# n_jobs: 사용가능한 코어 모두 사용\n",
    "gs.fit(x,y)\n",
    "print('최적 파라미터:', gs.best_params_)\n",
    "print(f'최적 정확도: {gs.best_score_:.3f}')"
   ]
  },
  {
   "cell_type": "markdown",
   "id": "4aaf2fd1-23e1-4031-8558-188e6216e244",
   "metadata": {},
   "source": [
    "## 최적 파라메터를 이용한 모델 평가 및 예측"
   ]
  },
  {
   "cell_type": "code",
   "execution_count": 34,
   "id": "cab88d94-d156-4060-a779-d541ab1550f4",
   "metadata": {},
   "outputs": [
    {
     "name": "stdout",
     "output_type": "stream",
     "text": [
      "정확도: 1.000\n"
     ]
    }
   ],
   "source": [
    "best_model = gs.best_estimator_  # gs에서 실행한 최적의 결과의 모델 객체 가져옴\n",
    "y_hat = best_model.predict(x_test)\n",
    "print(f'정확도: {accuracy_score(y_test, y_hat):.3f}')"
   ]
  },
  {
   "cell_type": "code",
   "execution_count": 37,
   "id": "d3f0aeb0-d607-445a-8ed0-9ff3413d8bb2",
   "metadata": {},
   "outputs": [
    {
     "name": "stdout",
     "output_type": "stream",
     "text": [
      "정밀도: 1.000\n"
     ]
    }
   ],
   "source": [
    "# 다중 클래스 분류의 경우 average 속성에 집계 방식(macro, micro, weight)을 지정해야 정밀도 출력 가능\n",
    "print(f\"정밀도: {precision_score(y_test, y_hat, average='micro'):.3f}\")"
   ]
  },
  {
   "cell_type": "code",
   "execution_count": 39,
   "id": "1305f503-9e87-44fd-9991-9b05a37246c6",
   "metadata": {},
   "outputs": [
    {
     "name": "stdout",
     "output_type": "stream",
     "text": [
      "AUC:1.000\n"
     ]
    }
   ],
   "source": [
    "# 다중 클래스 분류의 auc 측정 함수에는 multi_class속성의 값으로 ovr, ovo 값을 지정해야 auc값 출력 가능\n",
    "auc = roc_auc_score(y_test, best_model.predict_proba(x_test), multi_class='ovr') \n",
    "print(f'AUC:{auc:.3f}')"
   ]
  }
 ],
 "metadata": {
  "kernelspec": {
   "display_name": "Python 3 (ipykernel)",
   "language": "python",
   "name": "python3"
  },
  "language_info": {
   "codemirror_mode": {
    "name": "ipython",
    "version": 3
   },
   "file_extension": ".py",
   "mimetype": "text/x-python",
   "name": "python",
   "nbconvert_exporter": "python",
   "pygments_lexer": "ipython3",
   "version": "3.11.5"
  }
 },
 "nbformat": 4,
 "nbformat_minor": 5
}
