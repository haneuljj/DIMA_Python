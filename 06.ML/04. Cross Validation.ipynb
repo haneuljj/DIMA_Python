{
 "cells": [
  {
   "cell_type": "markdown",
   "id": "d2345b4d-4e75-4609-93fe-c090bf35b79d",
   "metadata": {},
   "source": [
    "# 패키지 로딩"
   ]
  },
  {
   "cell_type": "code",
   "execution_count": 1,
   "id": "c5d15570-609c-4342-a7ca-e54593ee9f17",
   "metadata": {},
   "outputs": [],
   "source": [
    "import numpy as np\n",
    "import pandas as pd\n",
    "\n",
    "from sklearn.datasets import load_iris\n",
    "from sklearn.model_selection import KFold, StratifiedKFold, train_test_split, cross_val_score, cross_validate\n",
    "from sklearn.tree import DecisionTreeClassifier # 의사결정나무모델\n",
    "from sklearn.metrics import accuracy_score  # 정확도 측정"
   ]
  },
  {
   "cell_type": "markdown",
   "id": "f0ba5255-b0fe-4760-8854-63e033166895",
   "metadata": {},
   "source": [
    "# None Cross Validation"
   ]
  },
  {
   "cell_type": "code",
   "execution_count": 2,
   "id": "6643564a-a7cd-474e-9594-b29fda8bcfc0",
   "metadata": {},
   "outputs": [
    {
     "name": "stdout",
     "output_type": "stream",
     "text": [
      "정확도: 0.98\n"
     ]
    }
   ],
   "source": [
    "iris = load_iris() # 분류분석\n",
    "\n",
    "x_train, x_test, y_train, y_test = train_test_split(iris.data, iris.target, test_size=0.3, random_state=10)\n",
    "\n",
    "model = DecisionTreeClassifier(random_state=1) # 의사결정나무모델\n",
    "model.fit(x_train, y_train)\n",
    "y_hat = model.predict(x_test)\n",
    "print(f'정확도: {accuracy_score(y_test, y_hat):.2f}')  # (정답, 예측값)\n",
    "\n",
    "# 교차검증했을 때보다 정확도가 높을 시 과적합 발생한 경우"
   ]
  },
  {
   "cell_type": "markdown",
   "id": "99e8cc56-539a-438e-b4a1-2282e818d4c0",
   "metadata": {},
   "source": [
    "# K-Fold Cross Validation"
   ]
  },
  {
   "cell_type": "code",
   "execution_count": 3,
   "id": "5f092eea-8da3-40b5-a117-028a12226f09",
   "metadata": {},
   "outputs": [
    {
     "name": "stdout",
     "output_type": "stream",
     "text": [
      "(150, 4)\n",
      "[0 0 0 0 0 0 0 0 0 0 0 0 0 0 0 0 0 0 0 0 0 0 0 0 0 0 0 0 0 0 0 0 0 0 0 0 0\n",
      " 0 0 0 0 0 0 0 0 0 0 0 0 0 1 1 1 1 1 1 1 1 1 1 1 1 1 1 1 1 1 1 1 1 1 1 1 1\n",
      " 1 1 1 1 1 1 1 1 1 1 1 1 1 1 1 1 1 1 1 1 1 1 1 1 1 1 2 2 2 2 2 2 2 2 2 2 2\n",
      " 2 2 2 2 2 2 2 2 2 2 2 2 2 2 2 2 2 2 2 2 2 2 2 2 2 2 2 2 2 2 2 2 2 2 2 2 2\n",
      " 2 2]\n"
     ]
    }
   ],
   "source": [
    "print(iris.data.shape)\n",
    "print(iris.target)"
   ]
  },
  {
   "cell_type": "code",
   "execution_count": 9,
   "id": "8e6239eb-bfb7-4cc8-b01d-8b88ed32fc14",
   "metadata": {},
   "outputs": [
    {
     "name": "stdout",
     "output_type": "stream",
     "text": [
      "1번째 검증 데이터 셋\n",
      "Train: [ 30  31  32  33  34  35  36  37  38  39  40  41  42  43  44  45  46  47\n",
      "  48  49  50  51  52  53  54  55  56  57  58  59  60  61  62  63  64  65\n",
      "  66  67  68  69  70  71  72  73  74  75  76  77  78  79  80  81  82  83\n",
      "  84  85  86  87  88  89  90  91  92  93  94  95  96  97  98  99 100 101\n",
      " 102 103 104 105 106 107 108 109 110 111 112 113 114 115 116 117 118 119\n",
      " 120 121 122 123 124 125 126 127 128 129 130 131 132 133 134 135 136 137\n",
      " 138 139 140 141 142 143 144 145 146 147 148 149]\n",
      "Test: [ 0  1  2  3  4  5  6  7  8  9 10 11 12 13 14 15 16 17 18 19 20 21 22 23\n",
      " 24 25 26 27 28 29]\n",
      "1번째 교차검증의 정확도: 1.00\n",
      "======================================================================\n",
      "2번째 검증 데이터 셋\n",
      "Train: [  0   1   2   3   4   5   6   7   8   9  10  11  12  13  14  15  16  17\n",
      "  18  19  20  21  22  23  24  25  26  27  28  29  60  61  62  63  64  65\n",
      "  66  67  68  69  70  71  72  73  74  75  76  77  78  79  80  81  82  83\n",
      "  84  85  86  87  88  89  90  91  92  93  94  95  96  97  98  99 100 101\n",
      " 102 103 104 105 106 107 108 109 110 111 112 113 114 115 116 117 118 119\n",
      " 120 121 122 123 124 125 126 127 128 129 130 131 132 133 134 135 136 137\n",
      " 138 139 140 141 142 143 144 145 146 147 148 149]\n",
      "Test: [30 31 32 33 34 35 36 37 38 39 40 41 42 43 44 45 46 47 48 49 50 51 52 53\n",
      " 54 55 56 57 58 59]\n",
      "2번째 교차검증의 정확도: 1.00\n",
      "======================================================================\n",
      "3번째 검증 데이터 셋\n",
      "Train: [  0   1   2   3   4   5   6   7   8   9  10  11  12  13  14  15  16  17\n",
      "  18  19  20  21  22  23  24  25  26  27  28  29  30  31  32  33  34  35\n",
      "  36  37  38  39  40  41  42  43  44  45  46  47  48  49  50  51  52  53\n",
      "  54  55  56  57  58  59  90  91  92  93  94  95  96  97  98  99 100 101\n",
      " 102 103 104 105 106 107 108 109 110 111 112 113 114 115 116 117 118 119\n",
      " 120 121 122 123 124 125 126 127 128 129 130 131 132 133 134 135 136 137\n",
      " 138 139 140 141 142 143 144 145 146 147 148 149]\n",
      "Test: [60 61 62 63 64 65 66 67 68 69 70 71 72 73 74 75 76 77 78 79 80 81 82 83\n",
      " 84 85 86 87 88 89]\n",
      "3번째 교차검증의 정확도: 0.90\n",
      "======================================================================\n",
      "4번째 검증 데이터 셋\n",
      "Train: [  0   1   2   3   4   5   6   7   8   9  10  11  12  13  14  15  16  17\n",
      "  18  19  20  21  22  23  24  25  26  27  28  29  30  31  32  33  34  35\n",
      "  36  37  38  39  40  41  42  43  44  45  46  47  48  49  50  51  52  53\n",
      "  54  55  56  57  58  59  60  61  62  63  64  65  66  67  68  69  70  71\n",
      "  72  73  74  75  76  77  78  79  80  81  82  83  84  85  86  87  88  89\n",
      " 120 121 122 123 124 125 126 127 128 129 130 131 132 133 134 135 136 137\n",
      " 138 139 140 141 142 143 144 145 146 147 148 149]\n",
      "Test: [ 90  91  92  93  94  95  96  97  98  99 100 101 102 103 104 105 106 107\n",
      " 108 109 110 111 112 113 114 115 116 117 118 119]\n",
      "4번째 교차검증의 정확도: 0.93\n",
      "======================================================================\n",
      "5번째 검증 데이터 셋\n",
      "Train: [  0   1   2   3   4   5   6   7   8   9  10  11  12  13  14  15  16  17\n",
      "  18  19  20  21  22  23  24  25  26  27  28  29  30  31  32  33  34  35\n",
      "  36  37  38  39  40  41  42  43  44  45  46  47  48  49  50  51  52  53\n",
      "  54  55  56  57  58  59  60  61  62  63  64  65  66  67  68  69  70  71\n",
      "  72  73  74  75  76  77  78  79  80  81  82  83  84  85  86  87  88  89\n",
      "  90  91  92  93  94  95  96  97  98  99 100 101 102 103 104 105 106 107\n",
      " 108 109 110 111 112 113 114 115 116 117 118 119]\n",
      "Test: [120 121 122 123 124 125 126 127 128 129 130 131 132 133 134 135 136 137\n",
      " 138 139 140 141 142 143 144 145 146 147 148 149]\n",
      "5번째 교차검증의 정확도: 0.73\n",
      "======================================================================\n",
      "\n",
      "평균 정확도: 0.91\n"
     ]
    }
   ],
   "source": [
    "k_fold = KFold(n_splits=5)#, shuffle=True) # n_splits: 분할 개수\n",
    "# 학습에는 k-1개 데이터셋 사용, 검증에는 1개 데이터셋 사용\n",
    "# shuffle: 차례대로 분할해서 가져오지 않고 임의로 가져옴(종속변수가 편중되는 문제때문에 사용)\n",
    "\n",
    "x = iris.data\n",
    "y = iris.target\n",
    "k = 0  # 교차검증의 횟수를 저장할 변수\n",
    "cv_acc = []  # 각 교차검증마다 정확도를 저장할 변수\n",
    "\n",
    "model = DecisionTreeClassifier(random_state=1)\n",
    "for train_idx, test_idx in k_fold.split(x):  # kfold.split: 데이터를 5등분, 각 학습, 검증에 쓰이는 데이터의 인덱스 값을 반환\n",
    "    k += 1\n",
    "    print(f'{k}번째 검증 데이터 셋')\n",
    "    print('Train:', train_idx)  # 학습데이터의 인덱스\n",
    "    print('Test:', test_idx)   # 검증데이터의 인덱스\n",
    "    x_train, x_test = x[train_idx], x[test_idx]  # 학습/검증데이터에 가져온 인덱스 값으로 할당\n",
    "    y_train, y_test = y[train_idx], y[test_idx]\n",
    "\n",
    "    model.fit(x_train, y_train)\n",
    "    y_hat = model.predict(x_test)\n",
    "    acc = accuracy_score(y_test, y_hat)\n",
    "    print(f'{k}번째 교차검증의 정확도: {acc:.2f}')\n",
    "    cv_acc.append(acc)\n",
    "    print('='*70)\n",
    "\n",
    "print()\n",
    "print(f'평균 정확도: {np.mean(cv_acc):.2f}')"
   ]
  },
  {
   "cell_type": "markdown",
   "id": "42861e98-fe21-46ef-90f8-1e4614739c15",
   "metadata": {},
   "source": [
    "# Stratified KFold Cross Validation"
   ]
  },
  {
   "cell_type": "code",
   "execution_count": 11,
   "id": "2026eab8-2253-47bb-bbd3-89bdeee2fd3b",
   "metadata": {},
   "outputs": [
    {
     "name": "stdout",
     "output_type": "stream",
     "text": [
      "1번째 검증 데이터 셋\n",
      "Train: [ 10  11  12  13  14  15  16  17  18  19  20  21  22  23  24  25  26  27\n",
      "  28  29  30  31  32  33  34  35  36  37  38  39  40  41  42  43  44  45\n",
      "  46  47  48  49  60  61  62  63  64  65  66  67  68  69  70  71  72  73\n",
      "  74  75  76  77  78  79  80  81  82  83  84  85  86  87  88  89  90  91\n",
      "  92  93  94  95  96  97  98  99 110 111 112 113 114 115 116 117 118 119\n",
      " 120 121 122 123 124 125 126 127 128 129 130 131 132 133 134 135 136 137\n",
      " 138 139 140 141 142 143 144 145 146 147 148 149]\n",
      "Test: [  0   1   2   3   4   5   6   7   8   9  50  51  52  53  54  55  56  57\n",
      "  58  59 100 101 102 103 104 105 106 107 108 109]\n",
      "1번째 교차검증의 정확도: 0.97\n",
      "======================================================================\n",
      "2번째 검증 데이터 셋\n",
      "Train: [  0   1   2   3   4   5   6   7   8   9  20  21  22  23  24  25  26  27\n",
      "  28  29  30  31  32  33  34  35  36  37  38  39  40  41  42  43  44  45\n",
      "  46  47  48  49  50  51  52  53  54  55  56  57  58  59  70  71  72  73\n",
      "  74  75  76  77  78  79  80  81  82  83  84  85  86  87  88  89  90  91\n",
      "  92  93  94  95  96  97  98  99 100 101 102 103 104 105 106 107 108 109\n",
      " 120 121 122 123 124 125 126 127 128 129 130 131 132 133 134 135 136 137\n",
      " 138 139 140 141 142 143 144 145 146 147 148 149]\n",
      "Test: [ 10  11  12  13  14  15  16  17  18  19  60  61  62  63  64  65  66  67\n",
      "  68  69 110 111 112 113 114 115 116 117 118 119]\n",
      "2번째 교차검증의 정확도: 0.97\n",
      "======================================================================\n",
      "3번째 검증 데이터 셋\n",
      "Train: [  0   1   2   3   4   5   6   7   8   9  10  11  12  13  14  15  16  17\n",
      "  18  19  30  31  32  33  34  35  36  37  38  39  40  41  42  43  44  45\n",
      "  46  47  48  49  50  51  52  53  54  55  56  57  58  59  60  61  62  63\n",
      "  64  65  66  67  68  69  80  81  82  83  84  85  86  87  88  89  90  91\n",
      "  92  93  94  95  96  97  98  99 100 101 102 103 104 105 106 107 108 109\n",
      " 110 111 112 113 114 115 116 117 118 119 130 131 132 133 134 135 136 137\n",
      " 138 139 140 141 142 143 144 145 146 147 148 149]\n",
      "Test: [ 20  21  22  23  24  25  26  27  28  29  70  71  72  73  74  75  76  77\n",
      "  78  79 120 121 122 123 124 125 126 127 128 129]\n",
      "3번째 교차검증의 정확도: 0.90\n",
      "======================================================================\n",
      "4번째 검증 데이터 셋\n",
      "Train: [  0   1   2   3   4   5   6   7   8   9  10  11  12  13  14  15  16  17\n",
      "  18  19  20  21  22  23  24  25  26  27  28  29  40  41  42  43  44  45\n",
      "  46  47  48  49  50  51  52  53  54  55  56  57  58  59  60  61  62  63\n",
      "  64  65  66  67  68  69  70  71  72  73  74  75  76  77  78  79  90  91\n",
      "  92  93  94  95  96  97  98  99 100 101 102 103 104 105 106 107 108 109\n",
      " 110 111 112 113 114 115 116 117 118 119 120 121 122 123 124 125 126 127\n",
      " 128 129 140 141 142 143 144 145 146 147 148 149]\n",
      "Test: [ 30  31  32  33  34  35  36  37  38  39  80  81  82  83  84  85  86  87\n",
      "  88  89 130 131 132 133 134 135 136 137 138 139]\n",
      "4번째 교차검증의 정확도: 1.00\n",
      "======================================================================\n",
      "5번째 검증 데이터 셋\n",
      "Train: [  0   1   2   3   4   5   6   7   8   9  10  11  12  13  14  15  16  17\n",
      "  18  19  20  21  22  23  24  25  26  27  28  29  30  31  32  33  34  35\n",
      "  36  37  38  39  50  51  52  53  54  55  56  57  58  59  60  61  62  63\n",
      "  64  65  66  67  68  69  70  71  72  73  74  75  76  77  78  79  80  81\n",
      "  82  83  84  85  86  87  88  89 100 101 102 103 104 105 106 107 108 109\n",
      " 110 111 112 113 114 115 116 117 118 119 120 121 122 123 124 125 126 127\n",
      " 128 129 130 131 132 133 134 135 136 137 138 139]\n",
      "Test: [ 40  41  42  43  44  45  46  47  48  49  90  91  92  93  94  95  96  97\n",
      "  98  99 140 141 142 143 144 145 146 147 148 149]\n",
      "5번째 교차검증의 정확도: 1.00\n",
      "======================================================================\n",
      "\n",
      "평균 정확도: 0.97\n"
     ]
    }
   ],
   "source": [
    "stf_kfold = StratifiedKFold(n_splits=5)\n",
    "# StratifiedKFold: 종속변수를 분할한 데이터마다 고르게 분포되도록\n",
    "x = iris.data\n",
    "y = iris.target\n",
    "k = 0 \n",
    "cv_acc = [] \n",
    "\n",
    "model = DecisionTreeClassifier(random_state=1)\n",
    "for train_idx, test_idx in stf_kfold.split(x, y): # split(독립변수, 종속변수)  \n",
    "    k += 1\n",
    "    print(f'{k}번째 검증 데이터 셋')\n",
    "    print('Train:', train_idx)  \n",
    "    print('Test:', test_idx)   \n",
    "    x_train, x_test = x[train_idx], x[test_idx]  \n",
    "    y_train, y_test = y[train_idx], y[test_idx]\n",
    "\n",
    "    model.fit(x_train, y_train)\n",
    "    y_hat = model.predict(x_test)\n",
    "    acc = accuracy_score(y_test, y_hat)\n",
    "    print(f'{k}번째 교차검증의 정확도: {acc:.2f}')\n",
    "    cv_acc.append(acc)\n",
    "    print('='*70)\n",
    "\n",
    "print()\n",
    "print(f'평균 정확도: {np.mean(cv_acc):.2f}')"
   ]
  },
  {
   "cell_type": "markdown",
   "id": "8bf07058-74f6-4bf9-8664-3fea03b62f20",
   "metadata": {},
   "source": [
    "# cross_val_score()\n",
    "- estimator: 학습할 모델 객체\n",
    "- x: 독립변수 데이터 셋\n",
    "- y: 종속변수 데이터 셋\n",
    "- cv: 교차검증 k값 (default:5), 또는 교차검증 객체"
   ]
  },
  {
   "cell_type": "code",
   "execution_count": 12,
   "id": "00b79750-2f8b-4c99-9393-f493d74afa17",
   "metadata": {},
   "outputs": [
    {
     "name": "stdout",
     "output_type": "stream",
     "text": [
      "score: [0.96666667 0.96666667 0.9        1.         1.        ]\n",
      "평균 정확도: 0.97\n"
     ]
    }
   ],
   "source": [
    "score = cross_val_score(model, x, y)\n",
    "# 모델이 분류모형이기 때문에 알아서 계층화된 kfold교차검증 적용 \n",
    "print('score:', score)\n",
    "print(f'평균 정확도: {np.mean(score):.2f}')"
   ]
  },
  {
   "cell_type": "markdown",
   "id": "513e4169-436f-4fb6-86fa-219865644df3",
   "metadata": {},
   "source": [
    "# cross_validate()\n",
    "- 매 검증마다 소요된 학습 시간과 검증 시간을 딕셔너리로 반환\n",
    "- 여러가지 평가지표를 리스트 형태로 전달 가능"
   ]
  },
  {
   "cell_type": "code",
   "execution_count": 14,
   "id": "f980fb95-74a6-48ba-9473-24fe3c02a608",
   "metadata": {},
   "outputs": [
    {
     "data": {
      "text/plain": [
       "dict_keys(['explained_variance', 'r2', 'max_error', 'matthews_corrcoef', 'neg_median_absolute_error', 'neg_mean_absolute_error', 'neg_mean_absolute_percentage_error', 'neg_mean_squared_error', 'neg_mean_squared_log_error', 'neg_root_mean_squared_error', 'neg_mean_poisson_deviance', 'neg_mean_gamma_deviance', 'accuracy', 'top_k_accuracy', 'roc_auc', 'roc_auc_ovr', 'roc_auc_ovo', 'roc_auc_ovr_weighted', 'roc_auc_ovo_weighted', 'balanced_accuracy', 'average_precision', 'neg_log_loss', 'neg_brier_score', 'positive_likelihood_ratio', 'neg_negative_likelihood_ratio', 'adjusted_rand_score', 'rand_score', 'homogeneity_score', 'completeness_score', 'v_measure_score', 'mutual_info_score', 'adjusted_mutual_info_score', 'normalized_mutual_info_score', 'fowlkes_mallows_score', 'precision', 'precision_macro', 'precision_micro', 'precision_samples', 'precision_weighted', 'recall', 'recall_macro', 'recall_micro', 'recall_samples', 'recall_weighted', 'f1', 'f1_macro', 'f1_micro', 'f1_samples', 'f1_weighted', 'jaccard', 'jaccard_macro', 'jaccard_micro', 'jaccard_samples', 'jaccard_weighted'])"
      ]
     },
     "execution_count": 14,
     "metadata": {},
     "output_type": "execute_result"
    }
   ],
   "source": [
    "import sklearn\n",
    "sklearn.metrics.SCORERS.keys() # 회귀, 분류모형에 사용가능한 평가지표 리스트"
   ]
  },
  {
   "cell_type": "code",
   "execution_count": 15,
   "id": "9f579427-d7a2-4153-92b8-52ca89cc8c78",
   "metadata": {},
   "outputs": [
    {
     "name": "stdout",
     "output_type": "stream",
     "text": [
      "평가지표: fit_time\n",
      "평균값: 0.00\n",
      "------------------------------\n",
      "평가지표: score_time\n",
      "평균값: 0.01\n",
      "------------------------------\n",
      "평가지표: test_accuracy\n",
      "평균값: 0.97\n",
      "------------------------------\n",
      "평가지표: test_precision_macro\n",
      "평균값: 0.97\n",
      "------------------------------\n",
      "평가지표: test_roc_auc_ovr\n",
      "평균값: 0.97\n",
      "------------------------------\n"
     ]
    }
   ],
   "source": [
    "result = cross_validate(model, x, y, cv=5, scoring=['accuracy', 'precision_macro', 'roc_auc_ovr'])  # scoring: 활용하고자 하는 평가지표\n",
    "for key, val in result.items():\n",
    "    print('평가지표:', key)\n",
    "    print(f'평균값: {np.mean(val):.2f}')\n",
    "    print('-'*30)\n",
    "\n",
    "# fit/score time: 학습, 평가하는데 걸린 시간"
   ]
  }
 ],
 "metadata": {
  "kernelspec": {
   "display_name": "Python 3 (ipykernel)",
   "language": "python",
   "name": "python3"
  },
  "language_info": {
   "codemirror_mode": {
    "name": "ipython",
    "version": 3
   },
   "file_extension": ".py",
   "mimetype": "text/x-python",
   "name": "python",
   "nbconvert_exporter": "python",
   "pygments_lexer": "ipython3",
   "version": "3.11.5"
  }
 },
 "nbformat": 4,
 "nbformat_minor": 5
}
