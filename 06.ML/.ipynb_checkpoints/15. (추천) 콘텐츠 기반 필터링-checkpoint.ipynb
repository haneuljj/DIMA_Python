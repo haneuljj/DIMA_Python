{
 "cells": [
  {
   "cell_type": "markdown",
   "id": "ebb05d35-f899-4748-9740-34c4f146bf82",
   "metadata": {},
   "source": [
    "# 장르 속성을 이용한 영화 콘텐츠 기반 필터링"
   ]
  },
  {
   "cell_type": "markdown",
   "id": "9842868a-4cf3-466b-9eb4-1a062440a76f",
   "metadata": {},
   "source": [
    "## 데이터 로딩 및 가공\n",
    "- TMDB 5000 데이터 셋: 영화 데이터 정보 사이트인 imdb.com의 영화 중 주요 영화 5,000개에 대한 메타 정보를 가공해서 kaggle에서 제공하는 데이터 세트\n",
    "- https://www.kaggle.com/tmdb/tmdb-movie-metadata"
   ]
  },
  {
   "cell_type": "code",
   "execution_count": 3,
   "id": "f549e4c7-d6ff-460a-a57f-b10daa69aa3c",
   "metadata": {},
   "outputs": [
    {
     "name": "stdout",
     "output_type": "stream",
     "text": [
      "(4803, 20)\n"
     ]
    },
    {
     "data": {
      "text/html": [
       "<div>\n",
       "<style scoped>\n",
       "    .dataframe tbody tr th:only-of-type {\n",
       "        vertical-align: middle;\n",
       "    }\n",
       "\n",
       "    .dataframe tbody tr th {\n",
       "        vertical-align: top;\n",
       "    }\n",
       "\n",
       "    .dataframe thead th {\n",
       "        text-align: right;\n",
       "    }\n",
       "</style>\n",
       "<table border=\"1\" class=\"dataframe\">\n",
       "  <thead>\n",
       "    <tr style=\"text-align: right;\">\n",
       "      <th></th>\n",
       "      <th>budget</th>\n",
       "      <th>genres</th>\n",
       "      <th>homepage</th>\n",
       "      <th>id</th>\n",
       "      <th>keywords</th>\n",
       "      <th>original_language</th>\n",
       "      <th>original_title</th>\n",
       "      <th>overview</th>\n",
       "      <th>popularity</th>\n",
       "      <th>production_companies</th>\n",
       "      <th>production_countries</th>\n",
       "      <th>release_date</th>\n",
       "      <th>revenue</th>\n",
       "      <th>runtime</th>\n",
       "      <th>spoken_languages</th>\n",
       "      <th>status</th>\n",
       "      <th>tagline</th>\n",
       "      <th>title</th>\n",
       "      <th>vote_average</th>\n",
       "      <th>vote_count</th>\n",
       "    </tr>\n",
       "  </thead>\n",
       "  <tbody>\n",
       "    <tr>\n",
       "      <th>0</th>\n",
       "      <td>237000000</td>\n",
       "      <td>[{\"id\": 28, \"name\": \"Action\"}, {\"id\": 12, \"nam...</td>\n",
       "      <td>http://www.avatarmovie.com/</td>\n",
       "      <td>19995</td>\n",
       "      <td>[{\"id\": 1463, \"name\": \"culture clash\"}, {\"id\":...</td>\n",
       "      <td>en</td>\n",
       "      <td>Avatar</td>\n",
       "      <td>In the 22nd century, a paraplegic Marine is di...</td>\n",
       "      <td>150.437577</td>\n",
       "      <td>[{\"name\": \"Ingenious Film Partners\", \"id\": 289...</td>\n",
       "      <td>[{\"iso_3166_1\": \"US\", \"name\": \"United States o...</td>\n",
       "      <td>2009-12-10</td>\n",
       "      <td>2787965087</td>\n",
       "      <td>162.0</td>\n",
       "      <td>[{\"iso_639_1\": \"en\", \"name\": \"English\"}, {\"iso...</td>\n",
       "      <td>Released</td>\n",
       "      <td>Enter the World of Pandora.</td>\n",
       "      <td>Avatar</td>\n",
       "      <td>7.2</td>\n",
       "      <td>11800</td>\n",
       "    </tr>\n",
       "    <tr>\n",
       "      <th>1</th>\n",
       "      <td>300000000</td>\n",
       "      <td>[{\"id\": 12, \"name\": \"Adventure\"}, {\"id\": 14, \"...</td>\n",
       "      <td>http://disney.go.com/disneypictures/pirates/</td>\n",
       "      <td>285</td>\n",
       "      <td>[{\"id\": 270, \"name\": \"ocean\"}, {\"id\": 726, \"na...</td>\n",
       "      <td>en</td>\n",
       "      <td>Pirates of the Caribbean: At World's End</td>\n",
       "      <td>Captain Barbossa, long believed to be dead, ha...</td>\n",
       "      <td>139.082615</td>\n",
       "      <td>[{\"name\": \"Walt Disney Pictures\", \"id\": 2}, {\"...</td>\n",
       "      <td>[{\"iso_3166_1\": \"US\", \"name\": \"United States o...</td>\n",
       "      <td>2007-05-19</td>\n",
       "      <td>961000000</td>\n",
       "      <td>169.0</td>\n",
       "      <td>[{\"iso_639_1\": \"en\", \"name\": \"English\"}]</td>\n",
       "      <td>Released</td>\n",
       "      <td>At the end of the world, the adventure begins.</td>\n",
       "      <td>Pirates of the Caribbean: At World's End</td>\n",
       "      <td>6.9</td>\n",
       "      <td>4500</td>\n",
       "    </tr>\n",
       "    <tr>\n",
       "      <th>2</th>\n",
       "      <td>245000000</td>\n",
       "      <td>[{\"id\": 28, \"name\": \"Action\"}, {\"id\": 12, \"nam...</td>\n",
       "      <td>http://www.sonypictures.com/movies/spectre/</td>\n",
       "      <td>206647</td>\n",
       "      <td>[{\"id\": 470, \"name\": \"spy\"}, {\"id\": 818, \"name...</td>\n",
       "      <td>en</td>\n",
       "      <td>Spectre</td>\n",
       "      <td>A cryptic message from Bond’s past sends him o...</td>\n",
       "      <td>107.376788</td>\n",
       "      <td>[{\"name\": \"Columbia Pictures\", \"id\": 5}, {\"nam...</td>\n",
       "      <td>[{\"iso_3166_1\": \"GB\", \"name\": \"United Kingdom\"...</td>\n",
       "      <td>2015-10-26</td>\n",
       "      <td>880674609</td>\n",
       "      <td>148.0</td>\n",
       "      <td>[{\"iso_639_1\": \"fr\", \"name\": \"Fran\\u00e7ais\"},...</td>\n",
       "      <td>Released</td>\n",
       "      <td>A Plan No One Escapes</td>\n",
       "      <td>Spectre</td>\n",
       "      <td>6.3</td>\n",
       "      <td>4466</td>\n",
       "    </tr>\n",
       "    <tr>\n",
       "      <th>3</th>\n",
       "      <td>250000000</td>\n",
       "      <td>[{\"id\": 28, \"name\": \"Action\"}, {\"id\": 80, \"nam...</td>\n",
       "      <td>http://www.thedarkknightrises.com/</td>\n",
       "      <td>49026</td>\n",
       "      <td>[{\"id\": 849, \"name\": \"dc comics\"}, {\"id\": 853,...</td>\n",
       "      <td>en</td>\n",
       "      <td>The Dark Knight Rises</td>\n",
       "      <td>Following the death of District Attorney Harve...</td>\n",
       "      <td>112.312950</td>\n",
       "      <td>[{\"name\": \"Legendary Pictures\", \"id\": 923}, {\"...</td>\n",
       "      <td>[{\"iso_3166_1\": \"US\", \"name\": \"United States o...</td>\n",
       "      <td>2012-07-16</td>\n",
       "      <td>1084939099</td>\n",
       "      <td>165.0</td>\n",
       "      <td>[{\"iso_639_1\": \"en\", \"name\": \"English\"}]</td>\n",
       "      <td>Released</td>\n",
       "      <td>The Legend Ends</td>\n",
       "      <td>The Dark Knight Rises</td>\n",
       "      <td>7.6</td>\n",
       "      <td>9106</td>\n",
       "    </tr>\n",
       "    <tr>\n",
       "      <th>4</th>\n",
       "      <td>260000000</td>\n",
       "      <td>[{\"id\": 28, \"name\": \"Action\"}, {\"id\": 12, \"nam...</td>\n",
       "      <td>http://movies.disney.com/john-carter</td>\n",
       "      <td>49529</td>\n",
       "      <td>[{\"id\": 818, \"name\": \"based on novel\"}, {\"id\":...</td>\n",
       "      <td>en</td>\n",
       "      <td>John Carter</td>\n",
       "      <td>John Carter is a war-weary, former military ca...</td>\n",
       "      <td>43.926995</td>\n",
       "      <td>[{\"name\": \"Walt Disney Pictures\", \"id\": 2}]</td>\n",
       "      <td>[{\"iso_3166_1\": \"US\", \"name\": \"United States o...</td>\n",
       "      <td>2012-03-07</td>\n",
       "      <td>284139100</td>\n",
       "      <td>132.0</td>\n",
       "      <td>[{\"iso_639_1\": \"en\", \"name\": \"English\"}]</td>\n",
       "      <td>Released</td>\n",
       "      <td>Lost in our world, found in another.</td>\n",
       "      <td>John Carter</td>\n",
       "      <td>6.1</td>\n",
       "      <td>2124</td>\n",
       "    </tr>\n",
       "  </tbody>\n",
       "</table>\n",
       "</div>"
      ],
      "text/plain": [
       "      budget                                             genres  ... vote_average  vote_count\n",
       "0  237000000  [{\"id\": 28, \"name\": \"Action\"}, {\"id\": 12, \"nam...  ...          7.2       11800\n",
       "1  300000000  [{\"id\": 12, \"name\": \"Adventure\"}, {\"id\": 14, \"...  ...          6.9        4500\n",
       "2  245000000  [{\"id\": 28, \"name\": \"Action\"}, {\"id\": 12, \"nam...  ...          6.3        4466\n",
       "3  250000000  [{\"id\": 28, \"name\": \"Action\"}, {\"id\": 80, \"nam...  ...          7.6        9106\n",
       "4  260000000  [{\"id\": 28, \"name\": \"Action\"}, {\"id\": 12, \"nam...  ...          6.1        2124\n",
       "\n",
       "[5 rows x 20 columns]"
      ]
     },
     "metadata": {},
     "output_type": "display_data"
    }
   ],
   "source": [
    "import pandas as pd\n",
    "import numpy as np\n",
    "import warnings\n",
    "warnings.filterwarnings(action='ignore')\n",
    "\n",
    "movies = pd.read_csv('./dataset/tmdb_5000_movies.csv')\n",
    "print(movies.shape)\n",
    "display(movies.head())"
   ]
  },
  {
   "cell_type": "markdown",
   "id": "e44b197e-e931-4490-823f-3652eb9b9032",
   "metadata": {},
   "source": [
    "- 분석에 사용할 주요 컬럼 추출\n",
    "  - id, title, genres, vote_average(평균 평점), vote_count(평점 투표수), popularity(영화 인기도), keyword, overview(영화 개요)"
   ]
  },
  {
   "cell_type": "code",
   "execution_count": 4,
   "id": "cd677a2a-1c10-415f-90d5-697c50afc41b",
   "metadata": {},
   "outputs": [],
   "source": [
    "movies_df = movies[['id', 'title', 'genres', 'vote_average', 'vote_count', 'popularity', 'keywords', 'overview']]"
   ]
  },
  {
   "cell_type": "code",
   "execution_count": 5,
   "id": "3b9723d4-100d-4491-8f53-999864ea0ece",
   "metadata": {},
   "outputs": [
    {
     "name": "stdout",
     "output_type": "stream",
     "text": [
      "<class 'pandas.core.frame.DataFrame'>\n",
      "RangeIndex: 4803 entries, 0 to 4802\n",
      "Data columns (total 8 columns):\n",
      " #   Column        Non-Null Count  Dtype  \n",
      "---  ------        --------------  -----  \n",
      " 0   id            4803 non-null   int64  \n",
      " 1   title         4803 non-null   object \n",
      " 2   genres        4803 non-null   object \n",
      " 3   vote_average  4803 non-null   float64\n",
      " 4   vote_count    4803 non-null   int64  \n",
      " 5   popularity    4803 non-null   float64\n",
      " 6   keywords      4803 non-null   object \n",
      " 7   overview      4800 non-null   object \n",
      "dtypes: float64(2), int64(2), object(4)\n",
      "memory usage: 300.3+ KB\n"
     ]
    }
   ],
   "source": [
    "movies_df.info()"
   ]
  },
  {
   "cell_type": "code",
   "execution_count": 9,
   "id": "457e3404-770b-48b9-bde3-53db4b9ab0c0",
   "metadata": {},
   "outputs": [],
   "source": [
    "pd.set_option('max_colwidth', 200)"
   ]
  },
  {
   "cell_type": "code",
   "execution_count": 10,
   "id": "c8792f9e-dae4-4578-9c81-8805baf11a0c",
   "metadata": {},
   "outputs": [
    {
     "data": {
      "text/html": [
       "<div>\n",
       "<style scoped>\n",
       "    .dataframe tbody tr th:only-of-type {\n",
       "        vertical-align: middle;\n",
       "    }\n",
       "\n",
       "    .dataframe tbody tr th {\n",
       "        vertical-align: top;\n",
       "    }\n",
       "\n",
       "    .dataframe thead th {\n",
       "        text-align: right;\n",
       "    }\n",
       "</style>\n",
       "<table border=\"1\" class=\"dataframe\">\n",
       "  <thead>\n",
       "    <tr style=\"text-align: right;\">\n",
       "      <th></th>\n",
       "      <th>genres</th>\n",
       "      <th>keywords</th>\n",
       "    </tr>\n",
       "  </thead>\n",
       "  <tbody>\n",
       "    <tr>\n",
       "      <th>0</th>\n",
       "      <td>[{\"id\": 28, \"name\": \"Action\"}, {\"id\": 12, \"name\": \"Adventure\"}, {\"id\": 14, \"name\": \"Fantasy\"}, {\"id\": 878, \"name\": \"Science Fiction\"}]</td>\n",
       "      <td>[{\"id\": 1463, \"name\": \"culture clash\"}, {\"id\": 2964, \"name\": \"future\"}, {\"id\": 3386, \"name\": \"space war\"}, {\"id\": 3388, \"name\": \"space colony\"}, {\"id\": 3679, \"name\": \"society\"}, {\"id\": 3801, \"name...</td>\n",
       "    </tr>\n",
       "  </tbody>\n",
       "</table>\n",
       "</div>"
      ],
      "text/plain": [
       "                                                                                                                                   genres                                                                                                                                                                                                 keywords\n",
       "0  [{\"id\": 28, \"name\": \"Action\"}, {\"id\": 12, \"name\": \"Adventure\"}, {\"id\": 14, \"name\": \"Fantasy\"}, {\"id\": 878, \"name\": \"Science Fiction\"}]  [{\"id\": 1463, \"name\": \"culture clash\"}, {\"id\": 2964, \"name\": \"future\"}, {\"id\": 3386, \"name\": \"space war\"}, {\"id\": 3388, \"name\": \"space colony\"}, {\"id\": 3679, \"name\": \"society\"}, {\"id\": 3801, \"name..."
      ]
     },
     "execution_count": 10,
     "metadata": {},
     "output_type": "execute_result"
    }
   ],
   "source": [
    "movies_df[['genres', 'keywords']][:1]"
   ]
  },
  {
   "cell_type": "code",
   "execution_count": 11,
   "id": "d0cbec3c-a843-4df5-b233-ba694d533081",
   "metadata": {},
   "outputs": [
    {
     "data": {
      "text/plain": [
       "'[{\"id\": 28, \"name\": \"Action\"}, {\"id\": 12, \"name\": \"Adventure\"}, {\"id\": 14, \"name\": \"Fantasy\"}, {\"id\": 878, \"name\": \"Science Fiction\"}]'"
      ]
     },
     "execution_count": 11,
     "metadata": {},
     "output_type": "execute_result"
    }
   ],
   "source": [
    "movies_df['genres'].values[0] # 리스트 형태이지만 데이터 유형은 문자타입"
   ]
  },
  {
   "cell_type": "markdown",
   "id": "99271c2c-1df1-4cd6-a470-911d19b73754",
   "metadata": {},
   "source": [
    "- eval()과 literal_eval()\n",
    "  - eval()은 문자형태로 되어있는 표현식을 실행하는 함수로, 함수나 객체도 실행 가능\n",
    "  - literal_eval()은 eval()과는 다르게 파이썬에서 제공하는 기본 데이터 타입 정도만 변환해주는 용도로 사용 가능"
   ]
  },
  {
   "cell_type": "markdown",
   "id": "b25495f0-d278-4ddd-b1b7-f3b541733ffa",
   "metadata": {},
   "source": [
    "- literal_eval() 함수를 통해 genres,keywords 컬럼의 값을 리스트 객체로 변환"
   ]
  },
  {
   "cell_type": "code",
   "execution_count": 12,
   "id": "0c16c0ac-7094-4d88-8da5-2dae46d37b6b",
   "metadata": {},
   "outputs": [],
   "source": [
    "from ast import literal_eval\n",
    "movies_df['genres'] = movies_df['genres'].apply(literal_eval)\n",
    "movies_df['keywords'] = movies_df['keywords'].apply(literal_eval)"
   ]
  },
  {
   "cell_type": "code",
   "execution_count": 13,
   "id": "86ee5563-f2ff-424a-a748-a3da15c48513",
   "metadata": {},
   "outputs": [
    {
     "data": {
      "text/plain": [
       "[{'id': 28, 'name': 'Action'},\n",
       " {'id': 12, 'name': 'Adventure'},\n",
       " {'id': 14, 'name': 'Fantasy'},\n",
       " {'id': 878, 'name': 'Science Fiction'}]"
      ]
     },
     "execution_count": 13,
     "metadata": {},
     "output_type": "execute_result"
    }
   ],
   "source": [
    "movies_df['genres'].values[0]  # 문자열이 아닌 리스트 객체로 바뀜"
   ]
  },
  {
   "cell_type": "markdown",
   "id": "694769a9-a359-4009-a075-a3dd0a432cb8",
   "metadata": {},
   "source": [
    "- 장르와 키워드 컬럼의 name 키의 값만 원소로 추출하여 리스트로 생성"
   ]
  },
  {
   "cell_type": "code",
   "execution_count": 17,
   "id": "5503d38a-d3b1-4be6-967e-f3874ebc118f",
   "metadata": {},
   "outputs": [],
   "source": [
    "movies_df['genres'] = movies_df['genres'].apply(lambda x : [ y['name'] for y in x ])\n",
    "movies_df['keywords'] = movies_df['keywords'].apply(lambda x : [ y['name'] for y in x ])"
   ]
  },
  {
   "cell_type": "code",
   "execution_count": 18,
   "id": "662b8ca6-70ac-4b46-8143-be56ba6fad77",
   "metadata": {},
   "outputs": [
    {
     "data": {
      "text/plain": [
       "['Action', 'Adventure', 'Fantasy', 'Science Fiction']"
      ]
     },
     "execution_count": 18,
     "metadata": {},
     "output_type": "execute_result"
    }
   ],
   "source": [
    "movies_df['genres'].values[0]"
   ]
  },
  {
   "cell_type": "markdown",
   "id": "503d6ecd-7844-4225-a9e5-b112bfb8a9e7",
   "metadata": {},
   "source": [
    "## 장르 콘텐츠 유사도 측정\n",
    "- 리스트로 변환된 장르 컬럼은 카운트 기반으로 피처 벡터화 변환\n",
    "- sklearn의 CounterVectorizer 이용\n",
    "- 장르 문자열을 피처 벡터화 행렬로 변환한 데이터 세트를 코사인 유사도를 통해 비교한다\n",
    "- 장르 유사도가 높은 영화 중에 평점이 높은 순으로 영화를 추천한다\n",
    "- 피처벡터화: 각 영화별 장르에 해당하는 것을 하나씩 꺼내 희소벡터로 변환(본인에 해당하는 장르는 1, 아닌것은 0으로) -> 희소 행렬로"
   ]
  },
  {
   "cell_type": "markdown",
   "id": "f153c334-7d02-45c1-a1a0-38b082d28ca9",
   "metadata": {},
   "source": [
    "[참고] CountVectorizer\n",
    "- 텍스트에서 단위(단어)별 출현 횟수를 카운팅하여 수치 벡터화한다"
   ]
  },
  {
   "cell_type": "code",
   "execution_count": 23,
   "id": "6023cbb8-e774-4c99-82c6-4f30a9f41c05",
   "metadata": {},
   "outputs": [
    {
     "name": "stdout",
     "output_type": "stream",
     "text": [
      "{'첫번째': 2, '문서': 1, '테스트': 3, '두번째': 0}\n",
      "  (0, 0)\t1\n",
      "  (0, 2)\t1\n",
      "  (0, 3)\t2\n",
      "두번쨰:0, 문서:1, 첫번째:2, 테스트:3\n",
      "[[1 0 1 2]]\n"
     ]
    }
   ],
   "source": [
    "from sklearn.feature_extraction.text import CountVectorizer\n",
    "\n",
    "vectorizer = CountVectorizer(ngram_range=(1,1)) \n",
    "# ngram_range: 모델의 단어 순서를 어느 정도 보강하기 위한 범위, (범위 최소값, 범위 최대값)\n",
    "# (1,1): 단어를 한개씩 피처로 추출\n",
    "# (1,2): 토큰화된 단어를 1개씩 피처로 추출하고 또 순서대로 2개씩 묶어서 피처로 추출\n",
    "# 한글처럼 두개의 단어가 붙어서 새로운 의미를 만들어낼 때 사용 \n",
    "vectorizer.fit(['첫번째 문서 테스트', '두번째 문서 테스트']) # 4개의 어휘를 학습한 countervectorizer 생성\n",
    "print(vectorizer.vocabulary_) # 고유한 단어가 각각의 인덱스를 가지게 됨\n",
    "counts = vectorizer.transform(['직접 첫번째 테스트 두번째 테스트']) # 새로운 문서에 대해 미리 학습해놓은 사전을 기반으로 단어의 빈도수를 세어줌\n",
    "print(counts)  # 밀집행렬의 형태\n",
    "print('두번쨰:0, 문서:1, 첫번째:2, 테스트:3')\n",
    "print(counts.toarray()) "
   ]
  },
  {
   "cell_type": "code",
   "execution_count": 24,
   "id": "0e879c94-1fea-4761-97b0-fe99327bff14",
   "metadata": {},
   "outputs": [
    {
     "name": "stdout",
     "output_type": "stream",
     "text": [
      "(4803, 276)\n",
      "[[1 1 0 0 0 0 0 0 0 0 0 0 0 0 0 0 1 0 0 0 0 0 0 0 1 0 0 0 0 0 0 0 0 0 0 0\n",
      "  0 0 0 0 0 0 0 0 0 0 0 0 0 0 0 0 0 0 0 0 0 0 0 0 0 0 0 0 0 0 0 0 0 0 0 0\n",
      "  0 0 0 0 0 0 0 0 0 0 0 0 0 0 0 0 0 0 0 0 0 0 0 0 0 0 0 0 0 0 0 0 0 0 0 0\n",
      "  0 0 0 0 0 0 0 0 0 0 0 0 0 0 0 0 1 0 0 0 0 0 0 0 0 0 0 1 0 0 1 0 0 0 0 0\n",
      "  0 0 0 0 0 0 0 0 0 0 0 0 0 0 0 0 0 0 0 0 0 0 0 0 0 0 0 0 0 0 0 0 0 0 0 0\n",
      "  0 0 0 0 0 0 0 0 0 0 0 0 0 0 0 0 0 0 0 0 0 0 0 0 0 0 0 0 0 0 0 0 0 0 0 0\n",
      "  0 0 0 0 0 0 0 0 0 0 0 0 0 0 0 0 1 1 0 0 0 0 0 0 0 0 0 0 0 0 0 0 0 0 0 0\n",
      "  0 0 0 0 0 0 0 0 0 0 0 0 0 0 0 0 0 0 0 0 0 0 0 0]]\n"
     ]
    }
   ],
   "source": [
    "# CounterVectorizer를 적용하기 위해 리스트가 아닌 공백 문자로 word 단위가 구분되는 문자열로 변환\n",
    "movies_df['genres_literal'] = movies_df['genres'].apply(lambda x : ' '.join(x))\n",
    "count_vect = CountVectorizer(min_df=0, ngram_range=(1,2))\n",
    "# min_df: 전체 문서에서 낮은 빈도수를 차지하는 문서를 제외\n",
    "# min_df=0: 빈도수가 0이하인건 제외\n",
    "genre_mat = count_vect.fit_transform(movies_df['genres_literal'])\n",
    "print(genre_mat.shape)\n",
    "print(genre_mat.toarray()[:1])\n",
    "# 영화가 4803개, 장르가 276개 (행: 영화, 열: 장르)\n",
    "# 총 276개 장르에서 첫번째 영화가 해당하는 장르는 1의 값"
   ]
  },
  {
   "cell_type": "code",
   "execution_count": 27,
   "id": "def07b8a-1219-4dca-9aff-dd64a6bf48b4",
   "metadata": {},
   "outputs": [
    {
     "name": "stdout",
     "output_type": "stream",
     "text": [
      "(4803, 4803)\n",
      "[[1.         0.59628479 0.4472136  ... 0.         0.         0.        ]\n",
      " [0.59628479 1.         0.4        ... 0.         0.         0.        ]\n",
      " [0.4472136  0.4        1.         ... 0.         0.         0.        ]]\n"
     ]
    }
   ],
   "source": [
    "# 코사인 유사도 구하기\n",
    "from sklearn.metrics.pairwise import cosine_similarity\n",
    "\n",
    "genre_sim = cosine_similarity(genre_mat, genre_mat) # 각 행과 열에 들어갈 값\n",
    "print(genre_sim.shape)\n",
    "print(genre_sim[:3])\n",
    "# 4803개의 상호간 유사도"
   ]
  },
  {
   "cell_type": "code",
   "execution_count": 28,
   "id": "f0957798-b887-471f-bcc9-0c21d405b221",
   "metadata": {},
   "outputs": [
    {
     "name": "stdout",
     "output_type": "stream",
     "text": [
      "[[   0 3494  813 ... 3038 3037 2401]]\n"
     ]
    }
   ],
   "source": [
    "# 행기준 내림차순 정렬하고 인덱스값 반환하는 유사도 행렬\n",
    "genre_sim_sorted_idx = genre_sim.argsort()[:,::-1]\n",
    "print(genre_sim_sorted_idx[:1]) # 첫번째 영화와 유사도가 높은 영화의 인덱스값"
   ]
  },
  {
   "cell_type": "markdown",
   "id": "bb137dad-8282-44e7-b30e-e92102540957",
   "metadata": {},
   "source": [
    "## 장르 콘텐츠 필터링을 이용한 영화 추천"
   ]
  },
  {
   "cell_type": "code",
   "execution_count": 32,
   "id": "61502efc-f88b-4c76-ab15-8121a721d99a",
   "metadata": {},
   "outputs": [
    {
     "data": {
      "text/html": [
       "<div>\n",
       "<style scoped>\n",
       "    .dataframe tbody tr th:only-of-type {\n",
       "        vertical-align: middle;\n",
       "    }\n",
       "\n",
       "    .dataframe tbody tr th {\n",
       "        vertical-align: top;\n",
       "    }\n",
       "\n",
       "    .dataframe thead th {\n",
       "        text-align: right;\n",
       "    }\n",
       "</style>\n",
       "<table border=\"1\" class=\"dataframe\">\n",
       "  <thead>\n",
       "    <tr style=\"text-align: right;\">\n",
       "      <th></th>\n",
       "      <th>id</th>\n",
       "      <th>title</th>\n",
       "      <th>genres</th>\n",
       "      <th>vote_average</th>\n",
       "      <th>vote_count</th>\n",
       "      <th>popularity</th>\n",
       "      <th>keywords</th>\n",
       "      <th>overview</th>\n",
       "      <th>genres_literal</th>\n",
       "    </tr>\n",
       "  </thead>\n",
       "  <tbody>\n",
       "    <tr>\n",
       "      <th>3</th>\n",
       "      <td>49026</td>\n",
       "      <td>The Dark Knight Rises</td>\n",
       "      <td>[Action, Crime, Drama, Thriller]</td>\n",
       "      <td>7.6</td>\n",
       "      <td>9106</td>\n",
       "      <td>112.31295</td>\n",
       "      <td>[dc comics, crime fighter, terrorist, secret identity, burglar, hostage drama, time bomb, gotham city, vigilante, cover-up, superhero, villainess, tragic hero, terrorism, destruction, catwoman, ca...</td>\n",
       "      <td>Following the death of District Attorney Harvey Dent, Batman assumes responsibility for Dent's crimes to protect the late attorney's reputation and is subsequently hunted by the Gotham City Police...</td>\n",
       "      <td>Action Crime Drama Thriller</td>\n",
       "    </tr>\n",
       "  </tbody>\n",
       "</table>\n",
       "</div>"
      ],
      "text/plain": [
       "      id  ...               genres_literal\n",
       "3  49026  ...  Action Crime Drama Thriller\n",
       "\n",
       "[1 rows x 9 columns]"
      ]
     },
     "execution_count": 32,
     "metadata": {},
     "output_type": "execute_result"
    }
   ],
   "source": [
    "movies_df[movies_df['title'] == 'The Dark Knight Rises']"
   ]
  },
  {
   "cell_type": "code",
   "execution_count": 33,
   "id": "defb6397-06d4-4a11-b9bd-bd7ffd1be14c",
   "metadata": {},
   "outputs": [],
   "source": [
    "def find_sim_movie(df, sorted_idx, title_name, top_n=10): #(df, 정렬된 인덱스, 기준이 되는 영화, 추천 영화 개수)\n",
    "    target_movie = df[df['title'] == title_name]\n",
    "\n",
    "    title_index = target_movie.index.values\n",
    "    similar_index = sorted_idx[title_index, :top_n] # 유사도가 높은순으로 정렬된 유사도 행렬에서타겟 영화 행에서 추천 영화 개수만큼 슬라이싱해서 가져오기\n",
    "    print(similar_index)\n",
    "    similar_index = similar_index.reshape(-1) # 추출된 top_n index가 2차원데이터이기 때문에 1차원 벡터로 변환\n",
    "\n",
    "    return df.iloc[similar_index]"
   ]
  },
  {
   "cell_type": "code",
   "execution_count": 34,
   "id": "267ef429-8cb3-464a-8f0f-f46cf6ebaa20",
   "metadata": {},
   "outputs": [
    {
     "name": "stdout",
     "output_type": "stream",
     "text": [
      "[[2195 1850 3316 2218 2435 3073 1503 1470 4230  629]]\n"
     ]
    },
    {
     "data": {
      "text/html": [
       "<div>\n",
       "<style scoped>\n",
       "    .dataframe tbody tr th:only-of-type {\n",
       "        vertical-align: middle;\n",
       "    }\n",
       "\n",
       "    .dataframe tbody tr th {\n",
       "        vertical-align: top;\n",
       "    }\n",
       "\n",
       "    .dataframe thead th {\n",
       "        text-align: right;\n",
       "    }\n",
       "</style>\n",
       "<table border=\"1\" class=\"dataframe\">\n",
       "  <thead>\n",
       "    <tr style=\"text-align: right;\">\n",
       "      <th></th>\n",
       "      <th>id</th>\n",
       "      <th>title</th>\n",
       "      <th>genres</th>\n",
       "      <th>vote_average</th>\n",
       "      <th>vote_count</th>\n",
       "      <th>popularity</th>\n",
       "      <th>keywords</th>\n",
       "      <th>overview</th>\n",
       "      <th>genres_literal</th>\n",
       "    </tr>\n",
       "  </thead>\n",
       "  <tbody>\n",
       "    <tr>\n",
       "      <th>2195</th>\n",
       "      <td>4597</td>\n",
       "      <td>Armored</td>\n",
       "      <td>[Action, Crime, Drama, Thriller]</td>\n",
       "      <td>5.5</td>\n",
       "      <td>208</td>\n",
       "      <td>15.212290</td>\n",
       "      <td>[robbery, homeless person, bank, armored car, truck, heist]</td>\n",
       "      <td>A crew of officers at an armored transport security firm risk their lives when they embark on the ultimate heist against their own company. Armed with a seemingly fool-proof plan, the men plan on ...</td>\n",
       "      <td>Action Crime Drama Thriller</td>\n",
       "    </tr>\n",
       "    <tr>\n",
       "      <th>1850</th>\n",
       "      <td>111</td>\n",
       "      <td>Scarface</td>\n",
       "      <td>[Action, Crime, Drama, Thriller]</td>\n",
       "      <td>8.0</td>\n",
       "      <td>2948</td>\n",
       "      <td>70.105981</td>\n",
       "      <td>[miami, corruption, capitalism, cuba, prohibition, brother sister relationship, loss of sister, cocaine, cult film, bitterness]</td>\n",
       "      <td>After getting a green card in exchange for assassinating a Cuban government official, Tony Montana stakes a claim on the drug trade in Miami. Viciously murdering anyone who stands in his way, Tony...</td>\n",
       "      <td>Action Crime Drama Thriller</td>\n",
       "    </tr>\n",
       "    <tr>\n",
       "      <th>3316</th>\n",
       "      <td>11022</td>\n",
       "      <td>Narc</td>\n",
       "      <td>[Action, Crime, Drama, Thriller]</td>\n",
       "      <td>6.8</td>\n",
       "      <td>142</td>\n",
       "      <td>8.526635</td>\n",
       "      <td>[assertion, investigation, internal affairs, narcotics cop]</td>\n",
       "      <td>An undercover narc dies, the investigation stalls, so the Detroit P.D. brings back Nick Tellis, fired 18-months ago when a stray bullet hits a pregnant woman. Tellis teams with Henry Oak, a friend...</td>\n",
       "      <td>Action Crime Drama Thriller</td>\n",
       "    </tr>\n",
       "    <tr>\n",
       "      <th>2218</th>\n",
       "      <td>11835</td>\n",
       "      <td>Death Sentence</td>\n",
       "      <td>[Action, Crime, Drama, Thriller]</td>\n",
       "      <td>6.5</td>\n",
       "      <td>297</td>\n",
       "      <td>12.643703</td>\n",
       "      <td>[loss of son, repayment, revenge, murder, gang, police officer killed, hospital, extreme violence, justice, hoodlum, semiautomatic pistol, finger gun]</td>\n",
       "      <td>Nick Hume is a mild-mannered executive with a perfect life, until one gruesome night he witnesses something that changes him forever. Transformed by grief, Hume eventually comes to the disturbing ...</td>\n",
       "      <td>Action Crime Drama Thriller</td>\n",
       "    </tr>\n",
       "    <tr>\n",
       "      <th>2435</th>\n",
       "      <td>7304</td>\n",
       "      <td>Running Scared</td>\n",
       "      <td>[Action, Crime, Drama, Thriller]</td>\n",
       "      <td>7.0</td>\n",
       "      <td>331</td>\n",
       "      <td>19.311572</td>\n",
       "      <td>[ice hockey, racism, pedophile, throat slitting, shot in the stomach, head blown off, police investigation, pistol whip, shot in the shoulder, child uses gun, ankle holster, breaking finger]</td>\n",
       "      <td>After a drug-op gone bad, Joey Gazelle is put in charge of disposing the gun that shot a dirty cop. But things goes wrong for Joey after the neighbor kid stole the gun and used it to shoot his abu...</td>\n",
       "      <td>Action Crime Drama Thriller</td>\n",
       "    </tr>\n",
       "    <tr>\n",
       "      <th>3073</th>\n",
       "      <td>2088</td>\n",
       "      <td>Romeo Is Bleeding</td>\n",
       "      <td>[Action, Crime, Drama, Thriller]</td>\n",
       "      <td>5.7</td>\n",
       "      <td>36</td>\n",
       "      <td>4.850402</td>\n",
       "      <td>[police operation, sex addiction, police, mafia boss, suspense, bad cop, hitwoman]</td>\n",
       "      <td>A corrupt cop gets in over his head when he tries to assassinate a beautiful Russian hit-woman.</td>\n",
       "      <td>Action Crime Drama Thriller</td>\n",
       "    </tr>\n",
       "    <tr>\n",
       "      <th>1503</th>\n",
       "      <td>22907</td>\n",
       "      <td>Takers</td>\n",
       "      <td>[Action, Crime, Drama, Thriller]</td>\n",
       "      <td>6.0</td>\n",
       "      <td>394</td>\n",
       "      <td>18.472420</td>\n",
       "      <td>[heist]</td>\n",
       "      <td>A seasoned team of bank robbers, including Gordon Jennings (Idris Elba), John Rahway (Paul Walker), A.J. (Hayden Christensen), and brothers Jake (Michael Ealy) and Jesse Attica (Chris Brown) succe...</td>\n",
       "      <td>Action Crime Drama Thriller</td>\n",
       "    </tr>\n",
       "    <tr>\n",
       "      <th>1470</th>\n",
       "      <td>127493</td>\n",
       "      <td>Stolen</td>\n",
       "      <td>[Action, Crime, Drama, Thriller]</td>\n",
       "      <td>5.1</td>\n",
       "      <td>344</td>\n",
       "      <td>16.830184</td>\n",
       "      <td>[taxi driver, thief, fbi agent]</td>\n",
       "      <td>A former thief frantically searches for his missing daughter, who has been kidnapped and locked in the trunk of a taxi.</td>\n",
       "      <td>Action Crime Drama Thriller</td>\n",
       "    </tr>\n",
       "    <tr>\n",
       "      <th>4230</th>\n",
       "      <td>507</td>\n",
       "      <td>Killing Zoe</td>\n",
       "      <td>[Action, Crime, Drama, Thriller]</td>\n",
       "      <td>6.1</td>\n",
       "      <td>111</td>\n",
       "      <td>5.817519</td>\n",
       "      <td>[paris, prostitute, robbery, drug abuse, aids, bank, jazz, hostage, night life, kidnapping, vault, junkie, bank robber, heroin, friendship, murder, independent film, pistol, violence, drug, bank r...</td>\n",
       "      <td>Zed (Eric Stoltz) is an American vault-cracker who travels to Paris to meet up with his old friend Eric (Jean-Hugues Anglade). Eric and his gang have planned to raid the only bank in the city whic...</td>\n",
       "      <td>Action Crime Drama Thriller</td>\n",
       "    </tr>\n",
       "    <tr>\n",
       "      <th>629</th>\n",
       "      <td>136797</td>\n",
       "      <td>Need for Speed</td>\n",
       "      <td>[Action, Crime, Drama, Thriller]</td>\n",
       "      <td>6.1</td>\n",
       "      <td>1520</td>\n",
       "      <td>54.814890</td>\n",
       "      <td>[street race, super cars, super speed, car, based on video game, duringcreditsstinger, 3d]</td>\n",
       "      <td>The film revolves around a local street-racer who partners with a rich and arrogant business associate, only to find himself framed by his colleague and sent to prison. After he gets out, he joins...</td>\n",
       "      <td>Action Crime Drama Thriller</td>\n",
       "    </tr>\n",
       "  </tbody>\n",
       "</table>\n",
       "</div>"
      ],
      "text/plain": [
       "          id  ...               genres_literal\n",
       "2195    4597  ...  Action Crime Drama Thriller\n",
       "1850     111  ...  Action Crime Drama Thriller\n",
       "3316   11022  ...  Action Crime Drama Thriller\n",
       "2218   11835  ...  Action Crime Drama Thriller\n",
       "2435    7304  ...  Action Crime Drama Thriller\n",
       "3073    2088  ...  Action Crime Drama Thriller\n",
       "1503   22907  ...  Action Crime Drama Thriller\n",
       "1470  127493  ...  Action Crime Drama Thriller\n",
       "4230     507  ...  Action Crime Drama Thriller\n",
       "629   136797  ...  Action Crime Drama Thriller\n",
       "\n",
       "[10 rows x 9 columns]"
      ]
     },
     "execution_count": 34,
     "metadata": {},
     "output_type": "execute_result"
    }
   ],
   "source": [
    "find_sim_movie(movies_df, genre_sim_sorted_idx, 'The Dark Knight Rises')"
   ]
  }
 ],
 "metadata": {
  "kernelspec": {
   "display_name": "Python 3 (ipykernel)",
   "language": "python",
   "name": "python3"
  },
  "language_info": {
   "codemirror_mode": {
    "name": "ipython",
    "version": 3
   },
   "file_extension": ".py",
   "mimetype": "text/x-python",
   "name": "python",
   "nbconvert_exporter": "python",
   "pygments_lexer": "ipython3",
   "version": "3.11.5"
  }
 },
 "nbformat": 4,
 "nbformat_minor": 5
}
