{
 "cells": [
  {
   "cell_type": "markdown",
   "id": "6946c05e",
   "metadata": {},
   "source": [
    "<font size=5> **[넷플릭스 데이터를 활용한 추천 시스템 개발]** </font>\n",
    "- netflix_titles.csv 데이터를 활용하여 주요 데이터 시각화 및 추천 시스템을 개발하시오\n",
    "- 각 마크다운 셀의 내용을 참고하여 비어있는 코드 셀에 코드를 작성한다.\n",
    "- 제시된 아웃풋은 참고이며 반드시 동일할 필요는 없다."
   ]
  },
  {
   "cell_type": "markdown",
   "id": "45441074",
   "metadata": {},
   "source": [
    "# 데이터 로딩"
   ]
  },
  {
   "cell_type": "code",
   "execution_count": 1,
   "id": "44e7155a",
   "metadata": {
    "scrolled": true,
    "tags": []
   },
   "outputs": [
    {
     "name": "stdout",
     "output_type": "stream",
     "text": [
      "(7787, 12)\n"
     ]
    },
    {
     "data": {
      "text/html": [
       "<div>\n",
       "<style scoped>\n",
       "    .dataframe tbody tr th:only-of-type {\n",
       "        vertical-align: middle;\n",
       "    }\n",
       "\n",
       "    .dataframe tbody tr th {\n",
       "        vertical-align: top;\n",
       "    }\n",
       "\n",
       "    .dataframe thead th {\n",
       "        text-align: right;\n",
       "    }\n",
       "</style>\n",
       "<table border=\"1\" class=\"dataframe\">\n",
       "  <thead>\n",
       "    <tr style=\"text-align: right;\">\n",
       "      <th></th>\n",
       "      <th>show_id</th>\n",
       "      <th>type</th>\n",
       "      <th>title</th>\n",
       "      <th>director</th>\n",
       "      <th>cast</th>\n",
       "      <th>country</th>\n",
       "      <th>date_added</th>\n",
       "      <th>release_year</th>\n",
       "      <th>rating</th>\n",
       "      <th>duration</th>\n",
       "      <th>listed_in</th>\n",
       "      <th>description</th>\n",
       "    </tr>\n",
       "  </thead>\n",
       "  <tbody>\n",
       "    <tr>\n",
       "      <th>0</th>\n",
       "      <td>s1</td>\n",
       "      <td>TV Show</td>\n",
       "      <td>3%</td>\n",
       "      <td>NaN</td>\n",
       "      <td>João Miguel, Bianca Comparato, Michel Gomes, R...</td>\n",
       "      <td>Brazil</td>\n",
       "      <td>August 14, 2020</td>\n",
       "      <td>2020</td>\n",
       "      <td>TV-MA</td>\n",
       "      <td>4 Seasons</td>\n",
       "      <td>International TV Shows, TV Dramas, TV Sci-Fi &amp;...</td>\n",
       "      <td>In a future where the elite inhabit an island ...</td>\n",
       "    </tr>\n",
       "    <tr>\n",
       "      <th>1</th>\n",
       "      <td>s2</td>\n",
       "      <td>Movie</td>\n",
       "      <td>7:19</td>\n",
       "      <td>Jorge Michel Grau</td>\n",
       "      <td>Demián Bichir, Héctor Bonilla, Oscar Serrano, ...</td>\n",
       "      <td>Mexico</td>\n",
       "      <td>December 23, 2016</td>\n",
       "      <td>2016</td>\n",
       "      <td>TV-MA</td>\n",
       "      <td>93 min</td>\n",
       "      <td>Dramas, International Movies</td>\n",
       "      <td>After a devastating earthquake hits Mexico Cit...</td>\n",
       "    </tr>\n",
       "    <tr>\n",
       "      <th>2</th>\n",
       "      <td>s3</td>\n",
       "      <td>Movie</td>\n",
       "      <td>23:59</td>\n",
       "      <td>Gilbert Chan</td>\n",
       "      <td>Tedd Chan, Stella Chung, Henley Hii, Lawrence ...</td>\n",
       "      <td>Singapore</td>\n",
       "      <td>December 20, 2018</td>\n",
       "      <td>2011</td>\n",
       "      <td>R</td>\n",
       "      <td>78 min</td>\n",
       "      <td>Horror Movies, International Movies</td>\n",
       "      <td>When an army recruit is found dead, his fellow...</td>\n",
       "    </tr>\n",
       "    <tr>\n",
       "      <th>3</th>\n",
       "      <td>s4</td>\n",
       "      <td>Movie</td>\n",
       "      <td>9</td>\n",
       "      <td>Shane Acker</td>\n",
       "      <td>Elijah Wood, John C. Reilly, Jennifer Connelly...</td>\n",
       "      <td>United States</td>\n",
       "      <td>November 16, 2017</td>\n",
       "      <td>2009</td>\n",
       "      <td>PG-13</td>\n",
       "      <td>80 min</td>\n",
       "      <td>Action &amp; Adventure, Independent Movies, Sci-Fi...</td>\n",
       "      <td>In a postapocalyptic world, rag-doll robots hi...</td>\n",
       "    </tr>\n",
       "    <tr>\n",
       "      <th>4</th>\n",
       "      <td>s5</td>\n",
       "      <td>Movie</td>\n",
       "      <td>21</td>\n",
       "      <td>Robert Luketic</td>\n",
       "      <td>Jim Sturgess, Kevin Spacey, Kate Bosworth, Aar...</td>\n",
       "      <td>United States</td>\n",
       "      <td>January 1, 2020</td>\n",
       "      <td>2008</td>\n",
       "      <td>PG-13</td>\n",
       "      <td>123 min</td>\n",
       "      <td>Dramas</td>\n",
       "      <td>A brilliant group of students become card-coun...</td>\n",
       "    </tr>\n",
       "  </tbody>\n",
       "</table>\n",
       "</div>"
      ],
      "text/plain": [
       "  show_id     type  title           director  \\\n",
       "0      s1  TV Show     3%                NaN   \n",
       "1      s2    Movie   7:19  Jorge Michel Grau   \n",
       "2      s3    Movie  23:59       Gilbert Chan   \n",
       "3      s4    Movie      9        Shane Acker   \n",
       "4      s5    Movie     21     Robert Luketic   \n",
       "\n",
       "                                                cast        country  \\\n",
       "0  João Miguel, Bianca Comparato, Michel Gomes, R...         Brazil   \n",
       "1  Demián Bichir, Héctor Bonilla, Oscar Serrano, ...         Mexico   \n",
       "2  Tedd Chan, Stella Chung, Henley Hii, Lawrence ...      Singapore   \n",
       "3  Elijah Wood, John C. Reilly, Jennifer Connelly...  United States   \n",
       "4  Jim Sturgess, Kevin Spacey, Kate Bosworth, Aar...  United States   \n",
       "\n",
       "          date_added  release_year rating   duration  \\\n",
       "0    August 14, 2020          2020  TV-MA  4 Seasons   \n",
       "1  December 23, 2016          2016  TV-MA     93 min   \n",
       "2  December 20, 2018          2011      R     78 min   \n",
       "3  November 16, 2017          2009  PG-13     80 min   \n",
       "4    January 1, 2020          2008  PG-13    123 min   \n",
       "\n",
       "                                           listed_in  \\\n",
       "0  International TV Shows, TV Dramas, TV Sci-Fi &...   \n",
       "1                       Dramas, International Movies   \n",
       "2                Horror Movies, International Movies   \n",
       "3  Action & Adventure, Independent Movies, Sci-Fi...   \n",
       "4                                             Dramas   \n",
       "\n",
       "                                         description  \n",
       "0  In a future where the elite inhabit an island ...  \n",
       "1  After a devastating earthquake hits Mexico Cit...  \n",
       "2  When an army recruit is found dead, his fellow...  \n",
       "3  In a postapocalyptic world, rag-doll robots hi...  \n",
       "4  A brilliant group of students become card-coun...  "
      ]
     },
     "metadata": {},
     "output_type": "display_data"
    }
   ],
   "source": [
    "import pandas as pd\n",
    "import numpy as np\n",
    "\n",
    "df = pd.read_csv('./dataset/netflix_titles.csv')\n",
    "print(df.shape)\n",
    "display(df.head())"
   ]
  },
  {
   "cell_type": "markdown",
   "id": "6d7c2520",
   "metadata": {},
   "source": [
    "# 주요 데이터 시각화"
   ]
  },
  {
   "cell_type": "markdown",
   "id": "f0ff083a",
   "metadata": {},
   "source": [
    "## TV Show vs Movies (콘텐츠 타입) 막대 그래프"
   ]
  },
  {
   "cell_type": "code",
   "execution_count": 69,
   "id": "de0bccb0-d658-443b-87f4-2ee080b6c5cb",
   "metadata": {
    "tags": []
   },
   "outputs": [
    {
     "data": {
      "text/plain": [
       "type\n",
       "Movie      5377\n",
       "TV Show    2410\n",
       "Name: count, dtype: int64"
      ]
     },
     "execution_count": 69,
     "metadata": {},
     "output_type": "execute_result"
    }
   ],
   "source": [
    "df['type'].value_counts()"
   ]
  },
  {
   "cell_type": "code",
   "execution_count": 82,
   "id": "5c9be5fc-a394-48c7-828d-15f4c435f098",
   "metadata": {
    "tags": []
   },
   "outputs": [
    {
     "name": "stderr",
     "output_type": "stream",
     "text": [
      "/Users/chanseojeon/anaconda3/lib/python3.11/site-packages/seaborn/_oldcore.py:1498: FutureWarning: is_categorical_dtype is deprecated and will be removed in a future version. Use isinstance(dtype, CategoricalDtype) instead\n",
      "  if pd.api.types.is_categorical_dtype(vector):\n",
      "/Users/chanseojeon/anaconda3/lib/python3.11/site-packages/seaborn/_oldcore.py:1498: FutureWarning: is_categorical_dtype is deprecated and will be removed in a future version. Use isinstance(dtype, CategoricalDtype) instead\n",
      "  if pd.api.types.is_categorical_dtype(vector):\n",
      "/Users/chanseojeon/anaconda3/lib/python3.11/site-packages/seaborn/_oldcore.py:1498: FutureWarning: is_categorical_dtype is deprecated and will be removed in a future version. Use isinstance(dtype, CategoricalDtype) instead\n",
      "  if pd.api.types.is_categorical_dtype(vector):\n"
     ]
    },
    {
     "data": {
      "image/png": "[encoded data removed]",
      "text/plain": [
       "<Figure size 640x480 with 1 Axes>"
      ]
     },
     "metadata": {},
     "output_type": "display_data"
    }
   ],
   "source": [
    "import seaborn as sns\n",
    "import matplotlib.pyplot as plt\n",
    "\n",
    "sns.set_theme(context='notebook',\n",
    "              style='darkgrid', \n",
    "              palette='muted')\n",
    "\n",
    "sns.countplot(x='type', data=df)\n",
    "plt.show()"
   ]
  },
  {
   "attachments": {
    "image.png": {
     "image/png": "[encoded data removed]"
    }
   },
   "cell_type": "markdown",
   "id": "b4d86e5c",
   "metadata": {},
   "source": [
    "[참고]\n",
    "![image.png](attachment:image.png)"
   ]
  },
  {
   "cell_type": "markdown",
   "id": "142daff0",
   "metadata": {},
   "source": [
    "## 제작 국가별 수평 막대 그래프\n",
    "- 결측 값 확인 및 결측 값을 포함한 레코드 삭제\n",
    "- 2개 이상의 제작국가 값을 가지고 있는 레코드는 ‘,’를 기준으로 분류하여 카운팅 한다.\n",
    "- 상위 10개국에 대한 막대그래프를 그린다."
   ]
  },
  {
   "cell_type": "code",
   "execution_count": 28,
   "id": "41de6b52",
   "metadata": {
    "tags": []
   },
   "outputs": [
    {
     "data": {
      "text/plain": [
       "show_id         0\n",
       "type            0\n",
       "title           0\n",
       "director        0\n",
       "cast            0\n",
       "country         0\n",
       "date_added      0\n",
       "release_year    0\n",
       "rating          0\n",
       "duration        0\n",
       "listed_in       0\n",
       "description     0\n",
       "dtype: int64"
      ]
     },
     "execution_count": 28,
     "metadata": {},
     "output_type": "execute_result"
    }
   ],
   "source": [
    "# 결측값 확인\n",
    "df.isna().sum()"
   ]
  },
  {
   "cell_type": "code",
   "execution_count": 83,
   "id": "0d4412b4-d404-4ef9-8d11-750ce3bce346",
   "metadata": {
    "tags": []
   },
   "outputs": [],
   "source": [
    "# 결측값 레코드 삭제\n",
    "df.dropna(inplace=True)"
   ]
  },
  {
   "cell_type": "code",
   "execution_count": 74,
   "id": "43e490b0-2ce0-4913-8fef-2edda5247823",
   "metadata": {
    "tags": []
   },
   "outputs": [
    {
     "name": "stdout",
     "output_type": "stream",
     "text": [
      "<class 'pandas.core.frame.DataFrame'>\n",
      "Index: 4808 entries, 1 to 7783\n",
      "Data columns (total 12 columns):\n",
      " #   Column        Non-Null Count  Dtype \n",
      "---  ------        --------------  ----- \n",
      " 0   show_id       4808 non-null   object\n",
      " 1   type          4808 non-null   object\n",
      " 2   title         4808 non-null   object\n",
      " 3   director      4808 non-null   object\n",
      " 4   cast          4808 non-null   object\n",
      " 5   country       4808 non-null   object\n",
      " 6   date_added    4808 non-null   object\n",
      " 7   release_year  4808 non-null   int64 \n",
      " 8   rating        4808 non-null   object\n",
      " 9   duration      4808 non-null   object\n",
      " 10  listed_in     4808 non-null   object\n",
      " 11  description   4808 non-null   object\n",
      "dtypes: int64(1), object(11)\n",
      "memory usage: 488.3+ KB\n"
     ]
    }
   ],
   "source": [
    "df.info()"
   ]
  },
  {
   "cell_type": "code",
   "execution_count": 36,
   "id": "c1b01953-e4de-49c8-87ba-283ac125504b",
   "metadata": {},
   "outputs": [
    {
     "data": {
      "text/plain": [
       "['Mexico',\n",
       " 'Singapore',\n",
       " 'United States',\n",
       " 'United States',\n",
       " 'Turkey',\n",
       " 'Egypt',\n",
       " 'United States',\n",
       " 'India',\n",
       " 'India',\n",
       " 'United States',\n",
       " 'Thailand',\n",
       " 'United States',\n",
       " 'Nigeria',\n",
       " 'Norway',\n",
       " 'Iceland',\n",
       " 'United States',\n",
       " 'India',\n",
       " 'India',\n",
       " 'India',\n",
       " 'India']"
      ]
     },
     "execution_count": 36,
     "metadata": {},
     "output_type": "execute_result"
    }
   ],
   "source": [
    "country_list = []\n",
    "for country in df['country'].values:\n",
    "    if ',' in country:\n",
    "        multi_country = country.split(', ')\n",
    "        for c in multi_country:\n",
    "            country_list.append(c)\n",
    "    else:\n",
    "        country_list.append(country)\n",
    "\n",
    "country_list[:20]"
   ]
  },
  {
   "cell_type": "code",
   "execution_count": 93,
   "id": "9a9a9bd9-e999-4b32-b157-fc6405b461f9",
   "metadata": {
    "tags": []
   },
   "outputs": [
    {
     "data": {
      "text/html": [
       "<div>\n",
       "<style scoped>\n",
       "    .dataframe tbody tr th:only-of-type {\n",
       "        vertical-align: middle;\n",
       "    }\n",
       "\n",
       "    .dataframe tbody tr th {\n",
       "        vertical-align: top;\n",
       "    }\n",
       "\n",
       "    .dataframe thead th {\n",
       "        text-align: right;\n",
       "    }\n",
       "</style>\n",
       "<table border=\"1\" class=\"dataframe\">\n",
       "  <thead>\n",
       "    <tr style=\"text-align: right;\">\n",
       "      <th></th>\n",
       "      <th>country</th>\n",
       "      <th>count</th>\n",
       "    </tr>\n",
       "  </thead>\n",
       "  <tbody>\n",
       "    <tr>\n",
       "      <th>0</th>\n",
       "      <td>United States</td>\n",
       "      <td>2181</td>\n",
       "    </tr>\n",
       "    <tr>\n",
       "      <th>1</th>\n",
       "      <td>India</td>\n",
       "      <td>891</td>\n",
       "    </tr>\n",
       "    <tr>\n",
       "      <th>2</th>\n",
       "      <td>United Kingdom</td>\n",
       "      <td>426</td>\n",
       "    </tr>\n",
       "    <tr>\n",
       "      <th>3</th>\n",
       "      <td>Canada</td>\n",
       "      <td>263</td>\n",
       "    </tr>\n",
       "    <tr>\n",
       "      <th>4</th>\n",
       "      <td>France</td>\n",
       "      <td>254</td>\n",
       "    </tr>\n",
       "    <tr>\n",
       "      <th>5</th>\n",
       "      <td>Spain</td>\n",
       "      <td>147</td>\n",
       "    </tr>\n",
       "    <tr>\n",
       "      <th>6</th>\n",
       "      <td>Germany</td>\n",
       "      <td>143</td>\n",
       "    </tr>\n",
       "    <tr>\n",
       "      <th>7</th>\n",
       "      <td>Japan</td>\n",
       "      <td>108</td>\n",
       "    </tr>\n",
       "    <tr>\n",
       "      <th>8</th>\n",
       "      <td>China</td>\n",
       "      <td>98</td>\n",
       "    </tr>\n",
       "    <tr>\n",
       "      <th>9</th>\n",
       "      <td>Hong Kong</td>\n",
       "      <td>95</td>\n",
       "    </tr>\n",
       "  </tbody>\n",
       "</table>\n",
       "</div>"
      ],
      "text/plain": [
       "          country  count\n",
       "0   United States   2181\n",
       "1           India    891\n",
       "2  United Kingdom    426\n",
       "3          Canada    263\n",
       "4          France    254\n",
       "5           Spain    147\n",
       "6         Germany    143\n",
       "7           Japan    108\n",
       "8           China     98\n",
       "9       Hong Kong     95"
      ]
     },
     "execution_count": 93,
     "metadata": {},
     "output_type": "execute_result"
    }
   ],
   "source": [
    "country_df = pd.DataFrame(country_list, columns=['country'])\n",
    "count_df = country_df.groupby('country')[['country']].count()\n",
    "count_df.rename(columns={'country':'count'}, inplace=True)\n",
    "top10 = count_df.sort_values('count', ascending=False)[:10]\n",
    "top10.reset_index(inplace=True)\n",
    "top10"
   ]
  },
  {
   "cell_type": "code",
   "execution_count": 96,
   "id": "3a537b41-375c-4915-8a24-aeffb9123dd6",
   "metadata": {
    "tags": []
   },
   "outputs": [
    {
     "name": "stderr",
     "output_type": "stream",
     "text": [
      "/Users/chanseojeon/anaconda3/lib/python3.11/site-packages/seaborn/_oldcore.py:1498: FutureWarning: is_categorical_dtype is deprecated and will be removed in a future version. Use isinstance(dtype, CategoricalDtype) instead\n",
      "  if pd.api.types.is_categorical_dtype(vector):\n",
      "/Users/chanseojeon/anaconda3/lib/python3.11/site-packages/seaborn/_oldcore.py:1498: FutureWarning: is_categorical_dtype is deprecated and will be removed in a future version. Use isinstance(dtype, CategoricalDtype) instead\n",
      "  if pd.api.types.is_categorical_dtype(vector):\n",
      "/Users/chanseojeon/anaconda3/lib/python3.11/site-packages/seaborn/_oldcore.py:1498: FutureWarning: is_categorical_dtype is deprecated and will be removed in a future version. Use isinstance(dtype, CategoricalDtype) instead\n",
      "  if pd.api.types.is_categorical_dtype(vector):\n"
     ]
    },
    {
     "data": {
      "image/png": "[encoded data removed]",
      "text/plain": [
       "<Figure size 640x480 with 1 Axes>"
      ]
     },
     "metadata": {},
     "output_type": "display_data"
    }
   ],
   "source": [
    "sns.barplot(x='count', y='country', data=top10)\n",
    "plt.show()"
   ]
  },
  {
   "attachments": {
    "image.png": {
     "image/png": "[encoded data removed]"
    }
   },
   "cell_type": "markdown",
   "id": "799155f6",
   "metadata": {},
   "source": [
    "[참고]\n",
    "![image.png](attachment:image.png)"
   ]
  },
  {
   "cell_type": "markdown",
   "id": "618c8fe1",
   "metadata": {},
   "source": [
    "# 제목, 장르, 요약내용 특성 값을 기반으로 한 콘텐츠 기반 필터링 추천"
   ]
  },
  {
   "cell_type": "markdown",
   "id": "61336c16",
   "metadata": {},
   "source": [
    "## 데이터 전처리"
   ]
  },
  {
   "cell_type": "markdown",
   "id": "d63ba2dc",
   "metadata": {},
   "source": [
    "### 추천 알고리즘 분석과 관련한 컬럼만 추출\n",
    "- 추출 대상 컬럼: 'show_id', 'title', 'listed_in', 'description'    "
   ]
  },
  {
   "cell_type": "code",
   "execution_count": 2,
   "id": "00f8d9e6-6516-4e06-9a13-4cbb5bdaada3",
   "metadata": {},
   "outputs": [],
   "source": [
    "netflix_df = pd.read_csv('./dataset/netflix_titles.csv')"
   ]
  },
  {
   "cell_type": "code",
   "execution_count": 3,
   "id": "a0747ba0",
   "metadata": {
    "tags": []
   },
   "outputs": [
    {
     "data": {
      "text/html": [
       "<div>\n",
       "<style scoped>\n",
       "    .dataframe tbody tr th:only-of-type {\n",
       "        vertical-align: middle;\n",
       "    }\n",
       "\n",
       "    .dataframe tbody tr th {\n",
       "        vertical-align: top;\n",
       "    }\n",
       "\n",
       "    .dataframe thead th {\n",
       "        text-align: right;\n",
       "    }\n",
       "</style>\n",
       "<table border=\"1\" class=\"dataframe\">\n",
       "  <thead>\n",
       "    <tr style=\"text-align: right;\">\n",
       "      <th></th>\n",
       "      <th>show_id</th>\n",
       "      <th>title</th>\n",
       "      <th>listed_in</th>\n",
       "      <th>description</th>\n",
       "    </tr>\n",
       "  </thead>\n",
       "  <tbody>\n",
       "    <tr>\n",
       "      <th>0</th>\n",
       "      <td>s1</td>\n",
       "      <td>3%</td>\n",
       "      <td>International TV Shows, TV Dramas, TV Sci-Fi &amp;...</td>\n",
       "      <td>In a future where the elite inhabit an island ...</td>\n",
       "    </tr>\n",
       "    <tr>\n",
       "      <th>1</th>\n",
       "      <td>s2</td>\n",
       "      <td>7:19</td>\n",
       "      <td>Dramas, International Movies</td>\n",
       "      <td>After a devastating earthquake hits Mexico Cit...</td>\n",
       "    </tr>\n",
       "    <tr>\n",
       "      <th>2</th>\n",
       "      <td>s3</td>\n",
       "      <td>23:59</td>\n",
       "      <td>Horror Movies, International Movies</td>\n",
       "      <td>When an army recruit is found dead, his fellow...</td>\n",
       "    </tr>\n",
       "    <tr>\n",
       "      <th>3</th>\n",
       "      <td>s4</td>\n",
       "      <td>9</td>\n",
       "      <td>Action &amp; Adventure, Independent Movies, Sci-Fi...</td>\n",
       "      <td>In a postapocalyptic world, rag-doll robots hi...</td>\n",
       "    </tr>\n",
       "    <tr>\n",
       "      <th>4</th>\n",
       "      <td>s5</td>\n",
       "      <td>21</td>\n",
       "      <td>Dramas</td>\n",
       "      <td>A brilliant group of students become card-coun...</td>\n",
       "    </tr>\n",
       "  </tbody>\n",
       "</table>\n",
       "</div>"
      ],
      "text/plain": [
       "  show_id  title                                          listed_in  \\\n",
       "0      s1     3%  International TV Shows, TV Dramas, TV Sci-Fi &...   \n",
       "1      s2   7:19                       Dramas, International Movies   \n",
       "2      s3  23:59                Horror Movies, International Movies   \n",
       "3      s4      9  Action & Adventure, Independent Movies, Sci-Fi...   \n",
       "4      s5     21                                             Dramas   \n",
       "\n",
       "                                         description  \n",
       "0  In a future where the elite inhabit an island ...  \n",
       "1  After a devastating earthquake hits Mexico Cit...  \n",
       "2  When an army recruit is found dead, his fellow...  \n",
       "3  In a postapocalyptic world, rag-doll robots hi...  \n",
       "4  A brilliant group of students become card-coun...  "
      ]
     },
     "metadata": {},
     "output_type": "display_data"
    }
   ],
   "source": [
    "netflix_df = df[['show_id', 'title', 'listed_in', 'description']]\n",
    "display(netflix_df.head())"
   ]
  },
  {
   "cell_type": "code",
   "execution_count": 35,
   "id": "b6977486-330b-41be-910f-a17b63945da4",
   "metadata": {},
   "outputs": [
    {
     "name": "stdout",
     "output_type": "stream",
     "text": [
      "<class 'pandas.core.frame.DataFrame'>\n",
      "RangeIndex: 7787 entries, 0 to 7786\n",
      "Data columns (total 4 columns):\n",
      " #   Column       Non-Null Count  Dtype \n",
      "---  ------       --------------  ----- \n",
      " 0   show_id      7787 non-null   object\n",
      " 1   title        7787 non-null   object\n",
      " 2   listed_in    7787 non-null   object\n",
      " 3   description  7787 non-null   object\n",
      "dtypes: object(4)\n",
      "memory usage: 243.5+ KB\n"
     ]
    }
   ],
   "source": [
    "netflix_df.info()"
   ]
  },
  {
   "cell_type": "markdown",
   "id": "24423a25",
   "metadata": {},
   "source": [
    "### DTM(Document Term Matrix) 생성\n",
    "- title, listed_in, description 컬럼에 대해 피쳐 카운터 백터를 생성한다.\n",
    "    - CounterVectorizer 또는 TfidfVectorizer 클래스를 이용한다.\n",
    "    - nltk 라이브러리의 stopwords 패키지와 string 패키지의 punctuation을 합쳐 불용어 목록을 만들어 구두점 및 불용어를 제거한다.\n",
    "    - title, listed_in, description 각 컬럼의 피처 벡터화한 결과를 **matrix_netflix_vocab = []** 리스트에 저장한다."
   ]
  },
  {
   "cell_type": "code",
   "execution_count": 4,
   "id": "ed4b9777",
   "metadata": {
    "tags": []
   },
   "outputs": [
    {
     "data": {
      "text/plain": [
       "'!\"#$%&\\'()*+,-./:;<=>?@[\\\\]^_`{|}~'"
      ]
     },
     "execution_count": 4,
     "metadata": {},
     "output_type": "execute_result"
    }
   ],
   "source": [
    "# 구두점 제거\n",
    "import string\n",
    "string.punctuation"
   ]
  },
  {
   "cell_type": "code",
   "execution_count": 5,
   "id": "aaa752b2-5ae9-4eec-88db-8176c3961dad",
   "metadata": {
    "tags": []
   },
   "outputs": [
    {
     "data": {
      "text/html": [
       "<div>\n",
       "<style scoped>\n",
       "    .dataframe tbody tr th:only-of-type {\n",
       "        vertical-align: middle;\n",
       "    }\n",
       "\n",
       "    .dataframe tbody tr th {\n",
       "        vertical-align: top;\n",
       "    }\n",
       "\n",
       "    .dataframe thead th {\n",
       "        text-align: right;\n",
       "    }\n",
       "</style>\n",
       "<table border=\"1\" class=\"dataframe\">\n",
       "  <thead>\n",
       "    <tr style=\"text-align: right;\">\n",
       "      <th></th>\n",
       "      <th>show_id</th>\n",
       "      <th>title</th>\n",
       "      <th>listed_in</th>\n",
       "      <th>description</th>\n",
       "    </tr>\n",
       "  </thead>\n",
       "  <tbody>\n",
       "    <tr>\n",
       "      <th>0</th>\n",
       "      <td>s1</td>\n",
       "      <td>3</td>\n",
       "      <td>International TV Shows TV Dramas TV SciFi  Fan...</td>\n",
       "      <td>In a future where the elite inhabit an island ...</td>\n",
       "    </tr>\n",
       "    <tr>\n",
       "      <th>1</th>\n",
       "      <td>s2</td>\n",
       "      <td>719</td>\n",
       "      <td>Dramas International Movies</td>\n",
       "      <td>After a devastating earthquake hits Mexico Cit...</td>\n",
       "    </tr>\n",
       "    <tr>\n",
       "      <th>2</th>\n",
       "      <td>s3</td>\n",
       "      <td>2359</td>\n",
       "      <td>Horror Movies International Movies</td>\n",
       "      <td>When an army recruit is found dead his fellow ...</td>\n",
       "    </tr>\n",
       "    <tr>\n",
       "      <th>3</th>\n",
       "      <td>s4</td>\n",
       "      <td>9</td>\n",
       "      <td>Action  Adventure Independent Movies SciFi  Fa...</td>\n",
       "      <td>In a postapocalyptic world ragdoll robots hide...</td>\n",
       "    </tr>\n",
       "    <tr>\n",
       "      <th>4</th>\n",
       "      <td>s5</td>\n",
       "      <td>21</td>\n",
       "      <td>Dramas</td>\n",
       "      <td>A brilliant group of students become cardcount...</td>\n",
       "    </tr>\n",
       "  </tbody>\n",
       "</table>\n",
       "</div>"
      ],
      "text/plain": [
       "  show_id title                                          listed_in  \\\n",
       "0      s1     3  International TV Shows TV Dramas TV SciFi  Fan...   \n",
       "1      s2   719                        Dramas International Movies   \n",
       "2      s3  2359                 Horror Movies International Movies   \n",
       "3      s4     9  Action  Adventure Independent Movies SciFi  Fa...   \n",
       "4      s5    21                                             Dramas   \n",
       "\n",
       "                                         description  \n",
       "0  In a future where the elite inhabit an island ...  \n",
       "1  After a devastating earthquake hits Mexico Cit...  \n",
       "2  When an army recruit is found dead his fellow ...  \n",
       "3  In a postapocalyptic world ragdoll robots hide...  \n",
       "4  A brilliant group of students become cardcount...  "
      ]
     },
     "metadata": {},
     "output_type": "display_data"
    }
   ],
   "source": [
    "netflix_df.loc[:,'title']= netflix_df.loc[:,'title'].apply(lambda x : x.translate(str.maketrans(\"\", \"\", string.punctuation)))\n",
    "netflix_df.loc[:,'listed_in']= netflix_df.loc[:,'listed_in'].apply(lambda x : x.translate(str.maketrans(\"\", \"\", string.punctuation)))\n",
    "netflix_df.loc[:,'description']= netflix_df.loc[:,'description'].apply(lambda x : x.translate(str.maketrans(\"\", \"\", string.punctuation)))\n",
    "\n",
    "display(netflix_df.head())"
   ]
  },
  {
   "cell_type": "code",
   "execution_count": 6,
   "id": "f4f117b7",
   "metadata": {
    "tags": []
   },
   "outputs": [
    {
     "name": "stderr",
     "output_type": "stream",
     "text": [
      "[nltk_data] Downloading package stopwords to\n",
      "[nltk_data]     C:\\Users\\user\\AppData\\Roaming\\nltk_data...\n",
      "[nltk_data]   Package stopwords is already up-to-date!\n"
     ]
    },
    {
     "data": {
      "text/plain": [
       "True"
      ]
     },
     "execution_count": 6,
     "metadata": {},
     "output_type": "execute_result"
    }
   ],
   "source": [
    "import nltk\n",
    "nltk.download('stopwords')"
   ]
  },
  {
   "cell_type": "code",
   "execution_count": 7,
   "id": "1420ef5e-58ce-4063-8856-003a927c7e33",
   "metadata": {
    "tags": []
   },
   "outputs": [
    {
     "name": "stdout",
     "output_type": "stream",
     "text": [
      "불용어 개수 : 179\n",
      "['i', 'me', 'my', 'myself', 'we', 'our', 'ours', 'ourselves', 'you', \"you're\"]\n"
     ]
    }
   ],
   "source": [
    "from nltk.corpus import stopwords\n",
    "stop_words_list = stopwords.words('english')\n",
    "print('불용어 개수 :', len(stop_words_list))\n",
    "print(stop_words_list[:10])"
   ]
  },
  {
   "cell_type": "code",
   "execution_count": 17,
   "id": "ee09ad96-bd0f-41c8-a5d3-bc75ca01a290",
   "metadata": {
    "tags": []
   },
   "outputs": [],
   "source": [
    "# 불용어 제거 함수 만들기 - countervectorizer 매개변수로 stop_words 안넣을시\n",
    "def remove_stwrds(string):\n",
    "    string_list = string.lower().split()\n",
    "    stop_words = set(stopwords.words('english'))\n",
    "    string_list = [s for s in string_list if not s in stop_words]\n",
    "    clean_string = ' '.join(string_list)\n",
    "    \n",
    "    return clean_string"
   ]
  },
  {
   "cell_type": "code",
   "execution_count": 22,
   "id": "1f55ae66-f497-47ea-a09b-60f3fb998376",
   "metadata": {
    "tags": []
   },
   "outputs": [
    {
     "name": "stderr",
     "output_type": "stream",
     "text": [
      "/var/folders/dp/kmc4jt5d45d4hltn15rfgtj00000gn/T/ipykernel_36012/2071507419.py:2: SettingWithCopyWarning: \n",
      "A value is trying to be set on a copy of a slice from a DataFrame.\n",
      "Try using .loc[row_indexer,col_indexer] = value instead\n",
      "\n",
      "See the caveats in the documentation: https://pandas.pydata.org/pandas-docs/stable/user_guide/indexing.html#returning-a-view-versus-a-copy\n",
      "  netflix_df['title'] = netflix_df['title'].apply(lambda x : remove_stwrds(x))\n",
      "/var/folders/dp/kmc4jt5d45d4hltn15rfgtj00000gn/T/ipykernel_36012/2071507419.py:3: SettingWithCopyWarning: \n",
      "A value is trying to be set on a copy of a slice from a DataFrame.\n",
      "Try using .loc[row_indexer,col_indexer] = value instead\n",
      "\n",
      "See the caveats in the documentation: https://pandas.pydata.org/pandas-docs/stable/user_guide/indexing.html#returning-a-view-versus-a-copy\n",
      "  netflix_df['listed_in'] = netflix_df['listed_in'].apply(lambda x : remove_stwrds(x))\n",
      "/var/folders/dp/kmc4jt5d45d4hltn15rfgtj00000gn/T/ipykernel_36012/2071507419.py:4: SettingWithCopyWarning: \n",
      "A value is trying to be set on a copy of a slice from a DataFrame.\n",
      "Try using .loc[row_indexer,col_indexer] = value instead\n",
      "\n",
      "See the caveats in the documentation: https://pandas.pydata.org/pandas-docs/stable/user_guide/indexing.html#returning-a-view-versus-a-copy\n",
      "  netflix_df['description'] = netflix_df['description'].apply(lambda x : remove_stwrds(x))\n"
     ]
    },
    {
     "data": {
      "text/html": [
       "<div>\n",
       "<style scoped>\n",
       "    .dataframe tbody tr th:only-of-type {\n",
       "        vertical-align: middle;\n",
       "    }\n",
       "\n",
       "    .dataframe tbody tr th {\n",
       "        vertical-align: top;\n",
       "    }\n",
       "\n",
       "    .dataframe thead th {\n",
       "        text-align: right;\n",
       "    }\n",
       "</style>\n",
       "<table border=\"1\" class=\"dataframe\">\n",
       "  <thead>\n",
       "    <tr style=\"text-align: right;\">\n",
       "      <th></th>\n",
       "      <th>show_id</th>\n",
       "      <th>title</th>\n",
       "      <th>listed_in</th>\n",
       "      <th>description</th>\n",
       "    </tr>\n",
       "  </thead>\n",
       "  <tbody>\n",
       "    <tr>\n",
       "      <th>1</th>\n",
       "      <td>s2</td>\n",
       "      <td>719</td>\n",
       "      <td>dramas international movies</td>\n",
       "      <td>devastating earthquake hits mexico city trappe...</td>\n",
       "    </tr>\n",
       "    <tr>\n",
       "      <th>2</th>\n",
       "      <td>s3</td>\n",
       "      <td>2359</td>\n",
       "      <td>horror movies international movies</td>\n",
       "      <td>army recruit found dead fellow soldiers forced...</td>\n",
       "    </tr>\n",
       "    <tr>\n",
       "      <th>3</th>\n",
       "      <td>s4</td>\n",
       "      <td>9</td>\n",
       "      <td>action adventure independent movies scifi fantasy</td>\n",
       "      <td>postapocalyptic world ragdoll robots hide fear...</td>\n",
       "    </tr>\n",
       "    <tr>\n",
       "      <th>4</th>\n",
       "      <td>s5</td>\n",
       "      <td>21</td>\n",
       "      <td>dramas</td>\n",
       "      <td>brilliant group students become cardcounting e...</td>\n",
       "    </tr>\n",
       "    <tr>\n",
       "      <th>5</th>\n",
       "      <td>s6</td>\n",
       "      <td>46</td>\n",
       "      <td>international tv shows tv dramas tv mysteries</td>\n",
       "      <td>genetics professor experiments treatment comat...</td>\n",
       "    </tr>\n",
       "  </tbody>\n",
       "</table>\n",
       "</div>"
      ],
      "text/plain": [
       "  show_id title                                          listed_in  \\\n",
       "1      s2   719                        dramas international movies   \n",
       "2      s3  2359                 horror movies international movies   \n",
       "3      s4     9  action adventure independent movies scifi fantasy   \n",
       "4      s5    21                                             dramas   \n",
       "5      s6    46      international tv shows tv dramas tv mysteries   \n",
       "\n",
       "                                         description  \n",
       "1  devastating earthquake hits mexico city trappe...  \n",
       "2  army recruit found dead fellow soldiers forced...  \n",
       "3  postapocalyptic world ragdoll robots hide fear...  \n",
       "4  brilliant group students become cardcounting e...  \n",
       "5  genetics professor experiments treatment comat...  "
      ]
     },
     "metadata": {},
     "output_type": "display_data"
    }
   ],
   "source": [
    "# 불용어 제거 - countervectorizer 매개변수로 stop_words 안넣을시\n",
    "netflix_df['title'] = netflix_df['title'].apply(lambda x : remove_stwrds(x))\n",
    "netflix_df['listed_in'] = netflix_df['listed_in'].apply(lambda x : remove_stwrds(x))\n",
    "netflix_df['description'] = netflix_df['description'].apply(lambda x : remove_stwrds(x))\n",
    "display(netflix_df.head())"
   ]
  },
  {
   "cell_type": "code",
   "execution_count": 8,
   "id": "9b9fc453-7eaf-4ff9-9361-3781b9799d69",
   "metadata": {
    "tags": []
   },
   "outputs": [
    {
     "name": "stdout",
     "output_type": "stream",
     "text": [
      "(7787, 8195)\n",
      "[[0 0 0 ... 0 0 0]]\n",
      "(7787, 42)\n",
      "[[0 0 0 0 0 0 0 0 0 0 0 0 1 0 0 1 0 0 0 1 0 0 0 0 0 0 0 0 0 0 0 1 0 1 0 0\n",
      "  0 0 0 0 0 3]]\n",
      "(7787, 19453)\n",
      "[[0 0 0 ... 0 0 0]]\n"
     ]
    },
    {
     "data": {
      "text/plain": [
       "<7787x8195 sparse matrix of type '<class 'numpy.int64'>'\n",
       "\twith 17292 stored elements in Compressed Sparse Row format>"
      ]
     },
     "execution_count": 8,
     "metadata": {},
     "output_type": "execute_result"
    }
   ],
   "source": [
    "# countervectorizer를 통한 피처 벡터화\n",
    "from sklearn.feature_extraction.text import CountVectorizer\n",
    "\n",
    "col_names = ['title', 'listed_in', 'description']\n",
    "matrix_netflix_vocab = []\n",
    "vectorizer = CountVectorizer(stop_words=\"english\")\n",
    "\n",
    "for col in col_names:\n",
    "    col_mat = vectorizer.fit_transform(netflix_df[col])\n",
    "    matrix_netflix_vocab.append(col_mat)\n",
    "    print(col_mat.shape)\n",
    "    print(col_mat.toarray()[:1])\n",
    "    \n",
    "matrix_netflix_vocab[0]"
   ]
  },
  {
   "cell_type": "markdown",
   "id": "56195460",
   "metadata": {},
   "source": [
    "# 콘텐츠 유사도 측정"
   ]
  },
  {
   "cell_type": "markdown",
   "id": "60df53ad",
   "metadata": {},
   "source": [
    "- title, listed_in, description 각 컬럼에 대해 피처 백터화 한 값을 이용하여 각각의 코사인 유사도를 산출하여 **matrix_netflix_sim = []** 리스트에 저장한다."
   ]
  },
  {
   "cell_type": "code",
   "execution_count": 9,
   "id": "4dac31e8",
   "metadata": {
    "tags": []
   },
   "outputs": [
    {
     "name": "stdout",
     "output_type": "stream",
     "text": [
      "(7787, 7787)\n",
      "[[0. 0. 0. ... 0. 0. 0.]\n",
      " [0. 1. 0. ... 0. 0. 0.]\n",
      " [0. 0. 1. ... 0. 0. 0.]]\n",
      "(7787, 7787)\n",
      "[[1.         0.3086067  0.10910895 ... 0.11952286 0.80812204 0.        ]\n",
      " [0.3086067  1.         0.70710678 ... 0.51639778 0.21821789 0.        ]\n",
      " [0.10910895 0.70710678 1.         ... 0.54772256 0.15430335 0.        ]]\n",
      "(7787, 7787)\n",
      "[[1.         0.         0.0745356  ... 0.         0.         0.        ]\n",
      " [0.         1.         0.         ... 0.06900656 0.         0.        ]\n",
      " [0.0745356  0.         1.         ... 0.         0.         0.        ]]\n"
     ]
    }
   ],
   "source": [
    "from sklearn.metrics.pairwise import cosine_similarity\n",
    "\n",
    "col_names = ['title', 'listed_in', 'description']\n",
    "matrix_netflix_sim = []\n",
    "i = 0\n",
    "\n",
    "for col in col_names:\n",
    "    col_sim = cosine_similarity(matrix_netflix_vocab[i],matrix_netflix_vocab[i])\n",
    "    print(col_sim.shape)\n",
    "    print(col_sim[:3])\n",
    "    matrix_netflix_sim.append(col_sim)\n",
    "    i += 1\n"
   ]
  },
  {
   "cell_type": "markdown",
   "id": "621230d4",
   "metadata": {},
   "source": [
    "- title, listed_in, description에 대해 각각 유사도가 높은 순으로 정렬한 콘텐츠의 인덱스를 **netflix_sim_sorted_ind = []** 리스트에 저장한다."
   ]
  },
  {
   "cell_type": "code",
   "execution_count": 10,
   "id": "491546db",
   "metadata": {
    "tags": []
   },
   "outputs": [
    {
     "name": "stdout",
     "output_type": "stream",
     "text": [
      "[[7786 2615 2587 ... 5197 5198    0]]\n",
      "[[   0  984 2593 ... 3173 3172 7786]]\n",
      "[[   0 6023 6907 ... 5119 5120 3893]]\n"
     ]
    }
   ],
   "source": [
    "col_names = ['title', 'listed_in', 'description']\n",
    "netflix_sim_sorted_ind = []\n",
    "i = 0\n",
    "\n",
    "for col in col_names:\n",
    "    col_sim_sorted_idx = matrix_netflix_sim[i].argsort()[:,::-1]\n",
    "    print(col_sim_sorted_idx[:1])\n",
    "    netflix_sim_sorted_ind.append(col_sim_sorted_idx)\n",
    "    i += 1"
   ]
  },
  {
   "cell_type": "markdown",
   "id": "9c62bdd6",
   "metadata": {},
   "source": [
    "# 유사도 필터링을 이용한 넷플릭스 콘텐츠 추천"
   ]
  },
  {
   "cell_type": "markdown",
   "id": "d693e76d",
   "metadata": {},
   "source": [
    "- 추천 기준이 되는 콘텐츠의 제목으로 해당 콘텐츠의 netflix_df 데이터 프레임에서의 레코드 인덱스를 추출한다.\n",
    "- 해당 인덱스로 sorted_ind_list 인자로 입력된 netflix_sim_sorted_ind 객체에서 각 컬럼별 유사도 순으로 top_n 개의 index를 추출한 후 리스트에 저장한다.\n",
    "- 함수 매개변수\n",
    "    - df: 넷플릭스 콘텐츠 정보 DataFrame\n",
    "    - sorted_ind_list: title, listed_in, description에 대해 각각 유사도가 높은 순으로 정렬한 콘텐츠의 인덱스 행렬을 저장한 리스트\n",
    "    - title_name: 추천 기준이 되는 콘텐츠 제목 (해당 콘텐츠와 장르 유사도가 높은 콘텐츠를 추천)\n",
    "    - top_n: 추천 콘텐츠 건수"
   ]
  },
  {
   "cell_type": "code",
   "execution_count": 11,
   "id": "29518b1c",
   "metadata": {
    "tags": []
   },
   "outputs": [],
   "source": [
    "# 완성된 함수가 아니며, 위 마크다운 셀의 내용을 참고하여 함수 안의 코드를 완성한다.\n",
    "\n",
    "def find_sim_netflix(df, sorted_ind_list, title_name, top_n=10):\n",
    "    \n",
    "    target_content = df[df['title'] == title_name]\n",
    "    title_index = target_content.index.values\n",
    "    \n",
    "    # 각 컬럼별 유사도 순으로 top_n 개의 index를 추출한 행렬을 저장할 리스트\n",
    "    similar_indexes_list = []\n",
    "    col_names = ['title', 'listed_in', 'description']\n",
    "    i = 0\n",
    "\n",
    "    for col in col_names:\n",
    "        similar_index = sorted_ind_list[i][title_index, :top_n]\n",
    "        similar_indexes_list.append(similar_index)\n",
    "        i =+ 1\n",
    "    \n",
    "    # 데이터 프레임의 인덱스 값으로 사용하기 위해 1차원 데이터로 변환한다.\n",
    "    return df.iloc[np.array(similar_indexes_list).flatten()]"
   ]
  },
  {
   "cell_type": "code",
   "execution_count": 12,
   "id": "70217d19",
   "metadata": {
    "tags": []
   },
   "outputs": [],
   "source": [
    "# '응답하라 1988' 과 제목, 장르, 줄거리가 유사한 콘텐츠를 각각 10개씩 추천\n",
    "similar_netflix = find_sim_netflix(netflix_df, netflix_sim_sorted_ind, 'Reply 1988',10)"
   ]
  },
  {
   "cell_type": "code",
   "execution_count": 13,
   "id": "d4cf5a3e",
   "metadata": {
    "tags": []
   },
   "outputs": [
    {
     "data": {
      "text/html": [
       "<div>\n",
       "<style scoped>\n",
       "    .dataframe tbody tr th:only-of-type {\n",
       "        vertical-align: middle;\n",
       "    }\n",
       "\n",
       "    .dataframe tbody tr th {\n",
       "        vertical-align: top;\n",
       "    }\n",
       "\n",
       "    .dataframe thead th {\n",
       "        text-align: right;\n",
       "    }\n",
       "</style>\n",
       "<table border=\"1\" class=\"dataframe\">\n",
       "  <thead>\n",
       "    <tr style=\"text-align: right;\">\n",
       "      <th></th>\n",
       "      <th>title</th>\n",
       "    </tr>\n",
       "  </thead>\n",
       "  <tbody>\n",
       "    <tr>\n",
       "      <th>5161</th>\n",
       "      <td>Reply 1988</td>\n",
       "    </tr>\n",
       "    <tr>\n",
       "      <th>5162</th>\n",
       "      <td>Reply 1994</td>\n",
       "    </tr>\n",
       "    <tr>\n",
       "      <th>5163</th>\n",
       "      <td>Reply 1997</td>\n",
       "    </tr>\n",
       "    <tr>\n",
       "      <th>2599</th>\n",
       "      <td>Hannah Gadsby Nanette</td>\n",
       "    </tr>\n",
       "    <tr>\n",
       "      <th>2598</th>\n",
       "      <td>Hannah Gadsby Douglas</td>\n",
       "    </tr>\n",
       "    <tr>\n",
       "      <th>2597</th>\n",
       "      <td>Hank Five Years from the Brink</td>\n",
       "    </tr>\n",
       "    <tr>\n",
       "      <th>2596</th>\n",
       "      <td>Hangman</td>\n",
       "    </tr>\n",
       "    <tr>\n",
       "      <th>2595</th>\n",
       "      <td>Hangar 1 The UFO Files</td>\n",
       "    </tr>\n",
       "    <tr>\n",
       "      <th>2594</th>\n",
       "      <td>Handsome A Netflix Mystery Movie</td>\n",
       "    </tr>\n",
       "    <tr>\n",
       "      <th>7786</th>\n",
       "      <td>ZZ TOP THAT LITTLE OL BAND FROM TEXAS</td>\n",
       "    </tr>\n",
       "    <tr>\n",
       "      <th>1466</th>\n",
       "      <td>Color of Woman</td>\n",
       "    </tr>\n",
       "    <tr>\n",
       "      <th>5273</th>\n",
       "      <td>Rookie Historian Goo HaeRyung</td>\n",
       "    </tr>\n",
       "    <tr>\n",
       "      <th>5187</th>\n",
       "      <td>Revolutionary Love</td>\n",
       "    </tr>\n",
       "    <tr>\n",
       "      <th>7486</th>\n",
       "      <td>Was It Love</td>\n",
       "    </tr>\n",
       "    <tr>\n",
       "      <th>4317</th>\n",
       "      <td>My First First Love</td>\n",
       "    </tr>\n",
       "    <tr>\n",
       "      <th>3081</th>\n",
       "      <td>Its Okay to Not Be Okay</td>\n",
       "    </tr>\n",
       "    <tr>\n",
       "      <th>4322</th>\n",
       "      <td>My Holo Love</td>\n",
       "    </tr>\n",
       "    <tr>\n",
       "      <th>3855</th>\n",
       "      <td>Magic Phone</td>\n",
       "    </tr>\n",
       "    <tr>\n",
       "      <th>5264</th>\n",
       "      <td>Romance is a bonus book</td>\n",
       "    </tr>\n",
       "    <tr>\n",
       "      <th>2492</th>\n",
       "      <td>Goodbye My Wife</td>\n",
       "    </tr>\n",
       "    <tr>\n",
       "      <th>1466</th>\n",
       "      <td>Color of Woman</td>\n",
       "    </tr>\n",
       "    <tr>\n",
       "      <th>5273</th>\n",
       "      <td>Rookie Historian Goo HaeRyung</td>\n",
       "    </tr>\n",
       "    <tr>\n",
       "      <th>5187</th>\n",
       "      <td>Revolutionary Love</td>\n",
       "    </tr>\n",
       "    <tr>\n",
       "      <th>7486</th>\n",
       "      <td>Was It Love</td>\n",
       "    </tr>\n",
       "    <tr>\n",
       "      <th>4317</th>\n",
       "      <td>My First First Love</td>\n",
       "    </tr>\n",
       "    <tr>\n",
       "      <th>3081</th>\n",
       "      <td>Its Okay to Not Be Okay</td>\n",
       "    </tr>\n",
       "    <tr>\n",
       "      <th>4322</th>\n",
       "      <td>My Holo Love</td>\n",
       "    </tr>\n",
       "    <tr>\n",
       "      <th>3855</th>\n",
       "      <td>Magic Phone</td>\n",
       "    </tr>\n",
       "    <tr>\n",
       "      <th>5264</th>\n",
       "      <td>Romance is a bonus book</td>\n",
       "    </tr>\n",
       "    <tr>\n",
       "      <th>2492</th>\n",
       "      <td>Goodbye My Wife</td>\n",
       "    </tr>\n",
       "  </tbody>\n",
       "</table>\n",
       "</div>"
      ],
      "text/plain": [
       "                                      title\n",
       "5161                             Reply 1988\n",
       "5162                             Reply 1994\n",
       "5163                             Reply 1997\n",
       "2599                  Hannah Gadsby Nanette\n",
       "2598                  Hannah Gadsby Douglas\n",
       "2597         Hank Five Years from the Brink\n",
       "2596                                Hangman\n",
       "2595                 Hangar 1 The UFO Files\n",
       "2594       Handsome A Netflix Mystery Movie\n",
       "7786  ZZ TOP THAT LITTLE OL BAND FROM TEXAS\n",
       "1466                         Color of Woman\n",
       "5273          Rookie Historian Goo HaeRyung\n",
       "5187                     Revolutionary Love\n",
       "7486                            Was It Love\n",
       "4317                    My First First Love\n",
       "3081                Its Okay to Not Be Okay\n",
       "4322                           My Holo Love\n",
       "3855                            Magic Phone\n",
       "5264                Romance is a bonus book\n",
       "2492                        Goodbye My Wife\n",
       "1466                         Color of Woman\n",
       "5273          Rookie Historian Goo HaeRyung\n",
       "5187                     Revolutionary Love\n",
       "7486                            Was It Love\n",
       "4317                    My First First Love\n",
       "3081                Its Okay to Not Be Okay\n",
       "4322                           My Holo Love\n",
       "3855                            Magic Phone\n",
       "5264                Romance is a bonus book\n",
       "2492                        Goodbye My Wife"
      ]
     },
     "execution_count": 13,
     "metadata": {},
     "output_type": "execute_result"
    }
   ],
   "source": [
    "similar_netflix[['title']]"
   ]
  }
 ],
 "metadata": {
  "kernelspec": {
   "display_name": "Python 3 (ipykernel)",
   "language": "python",
   "name": "python3"
  },
  "language_info": {
   "codemirror_mode": {
    "name": "ipython",
    "version": 3
   },
   "file_extension": ".py",
   "mimetype": "text/x-python",
   "name": "python",
   "nbconvert_exporter": "python",
   "pygments_lexer": "ipython3",
   "version": "3.11.5"
  },
  "toc": {
   "base_numbering": 1,
   "nav_menu": {},
   "number_sections": true,
   "sideBar": true,
   "skip_h1_title": false,
   "title_cell": "Table of Contents",
   "title_sidebar": "Contents",
   "toc_cell": false,
   "toc_position": {},
   "toc_section_display": true,
   "toc_window_display": true
  }
 },
 "nbformat": 4,
 "nbformat_minor": 5
}
