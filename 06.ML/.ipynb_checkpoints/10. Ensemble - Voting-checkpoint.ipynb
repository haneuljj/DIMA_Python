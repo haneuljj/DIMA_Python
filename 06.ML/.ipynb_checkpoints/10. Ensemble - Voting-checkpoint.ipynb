{
 "cells": [
  {
   "cell_type": "markdown",
   "id": "4e39f70e-02b3-4cb8-88f5-e89bf8bee527",
   "metadata": {},
   "source": [
    "# Voting - Regression\n",
    "- 동일한 데이터셋에 대해 여러가지 모형 이용"
   ]
  },
  {
   "cell_type": "markdown",
   "id": "9749394e-073d-490d-808d-f3a016f2fd43",
   "metadata": {},
   "source": [
    "## 패키지 로딩"
   ]
  },
  {
   "cell_type": "code",
   "execution_count": 1,
   "id": "3a2cfcc0-3a00-4987-baf2-5f917c052ff5",
   "metadata": {},
   "outputs": [],
   "source": [
    "from sklearn.linear_model import Lasso, Ridge, LinearRegression\n",
    "from sklearn.ensemble import VotingRegressor\n",
    "from sklearn.model_selection import train_test_split\n",
    "from sklearn.metrics import mean_squared_error, r2_score\n",
    "\n",
    "import numpy as np\n",
    "import pandas as pd"
   ]
  },
  {
   "cell_type": "markdown",
   "id": "b08a728d-257c-433a-9bad-dcf3a162e695",
   "metadata": {},
   "source": [
    "## 데이터 로딩 및 확인"
   ]
  },
  {
   "cell_type": "code",
   "execution_count": 5,
   "id": "610f4b42-9457-40a0-92ba-ef7d55ad738b",
   "metadata": {},
   "outputs": [],
   "source": [
    "boston = pd.read_csv('./dataset/HousingData.csv')\n",
    "boston.head()\n",
    "boston.fillna(method='ffill', inplace=True)\n",
    "# method='ffill': 결측치의 바로 앞의 값으로 채워넣기\n",
    "\n",
    "x = boston.drop('MEDV', axis=1)\n",
    "y = boston['MEDV']"
   ]
  },
  {
   "cell_type": "code",
   "execution_count": 8,
   "id": "4c3ab418-43c8-4988-b43a-a94f0fa5f998",
   "metadata": {},
   "outputs": [],
   "source": [
    "from sklearn.preprocessing import StandardScaler\n",
    "\n",
    "scaled_x = StandardScaler().fit_transform(x)"
   ]
  },
  {
   "cell_type": "markdown",
   "id": "64e0a795-888c-48b5-a1ca-5f2a543e91ff",
   "metadata": {},
   "source": [
    "## 모델 생성 및 분할"
   ]
  },
  {
   "cell_type": "code",
   "execution_count": 9,
   "id": "56f39e67-ae8c-4430-8442-19394695ef14",
   "metadata": {},
   "outputs": [],
   "source": [
    "lasso = Lasso(alpha=0.05) # L1 규제, 모든 항에 일정한 규제 강도값 빼기\n",
    "ridge = Ridge(alpha=1) # L2규제, 각 가중치에 비례해서 규제 강도값 빼기\n",
    "linear = LinearRegression()\n",
    "\n",
    "vo_r = VotingRegressor(estimators=[('LASSO', lasso), ('RIDGE', ridge),('LINEAR', linear)])  # estimators=: 사용할 모델들 튜플값으로 넣기 (사용할이름, 모델)\n",
    "\n",
    "x_train, x_test, y_train, y_test = train_test_split(scaled_x, y, train_size=0.8, random_state=10)"
   ]
  },
  {
   "cell_type": "markdown",
   "id": "ceda25ca-b0eb-49b5-ab56-43ee5f6a3395",
   "metadata": {},
   "source": [
    "## 학습 및 평가"
   ]
  },
  {
   "cell_type": "code",
   "execution_count": 10,
   "id": "83bc8298-61c7-44cd-81bd-db13114a43af",
   "metadata": {},
   "outputs": [
    {
     "name": "stdout",
     "output_type": "stream",
     "text": [
      "RMSE:5.895\n",
      "결정계수: 0.668\n"
     ]
    }
   ],
   "source": [
    "vo_r.fit(x_train, y_train)\n",
    "y_hat = vo_r.predict(x_test)\n",
    "\n",
    "print(f'RMSE:{np.sqrt(mean_squared_error(y_test, y_hat)):.3f}')\n",
    "print(f'결정계수: {r2_score(y_test, y_hat):.3f}')"
   ]
  },
  {
   "cell_type": "markdown",
   "id": "65440377-7182-4d08-b9c2-2b0a6815220d",
   "metadata": {},
   "source": [
    "# Voting - Classifier"
   ]
  },
  {
   "cell_type": "markdown",
   "id": "e4f914a0-07aa-4cd8-a0aa-d75ab6b660b0",
   "metadata": {},
   "source": [
    "## 패키지 로딩"
   ]
  },
  {
   "cell_type": "code",
   "execution_count": 13,
   "id": "67f9ab2c-9638-4709-a9df-78a4addf9746",
   "metadata": {},
   "outputs": [],
   "source": [
    "from sklearn.datasets import load_breast_cancer\n",
    "from sklearn.linear_model import LogisticRegression \n",
    "from sklearn.neighbors import KNeighborsClassifier\n",
    "from sklearn.ensemble import VotingClassifier\n",
    "from sklearn.preprocessing import StandardScaler\n",
    "from sklearn.metrics import accuracy_score, precision_score, recall_score, roc_curve, roc_auc_score, confusion_matrix\n",
    "from sklearn.model_selection import train_test_split\n",
    "\n",
    "import pandas as pd"
   ]
  },
  {
   "cell_type": "markdown",
   "id": "603944b8-2665-4ebc-a9bf-6a86800e9658",
   "metadata": {},
   "source": [
    "## 데이터 로딩 및 확인"
   ]
  },
  {
   "cell_type": "code",
   "execution_count": 14,
   "id": "882655ca-712a-42d4-8066-f436864cfc79",
   "metadata": {},
   "outputs": [],
   "source": [
    "breast = load_breast_cancer()\n",
    "\n",
    "df = pd.DataFrame(breast.data, columns=breast.feature_names)\n",
    "df['target'] = breast.target"
   ]
  },
  {
   "cell_type": "code",
   "execution_count": 15,
   "id": "ad12aab8-2172-4311-a7a6-f3bf290a0a78",
   "metadata": {},
   "outputs": [],
   "source": [
    "data_x = breast.data\n",
    "data_y = breast.target"
   ]
  },
  {
   "cell_type": "code",
   "execution_count": null,
   "id": "375c2942-b8df-431e-8d3b-4d1d71c5606c",
   "metadata": {},
   "outputs": [],
   "source": []
  }
 ],
 "metadata": {
  "kernelspec": {
   "display_name": "Python 3 (ipykernel)",
   "language": "python",
   "name": "python3"
  },
  "language_info": {
   "codemirror_mode": {
    "name": "ipython",
    "version": 3
   },
   "file_extension": ".py",
   "mimetype": "text/x-python",
   "name": "python",
   "nbconvert_exporter": "python",
   "pygments_lexer": "ipython3",
   "version": "3.11.5"
  }
 },
 "nbformat": 4,
 "nbformat_minor": 5
}
