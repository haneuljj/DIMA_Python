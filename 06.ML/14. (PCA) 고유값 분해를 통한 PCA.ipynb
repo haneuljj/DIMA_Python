{
 "cells": [
  {
   "cell_type": "markdown",
   "id": "5e2f0abd-6460-4ed9-bedd-201b05e282e0",
   "metadata": {},
   "source": [
    "- PCA 구하기\n",
    "  - 1)입력데이터의 공분산 행렬 생성\n",
    "  - 2)공분산행렬의 고유값과 고유벡터 계산\n",
    "  - 3)고유값이 가장 큰 순으로 PCA 변환 차수만큼 고유벡터 추출\n",
    "  - 4)고유값이 가장 큰 순으로 추출된 고유벡터를 이용해 새롭게 입력 데이터를 선형변환"
   ]
  },
  {
   "cell_type": "markdown",
   "id": "233c5320-d1ff-458a-b911-214f3efb6cd9",
   "metadata": {},
   "source": [
    "# 공분산 행렬 구하기"
   ]
  },
  {
   "cell_type": "code",
   "execution_count": 1,
   "id": "490bb5b7-422e-4ed0-a3b7-5b517722f7fe",
   "metadata": {},
   "outputs": [],
   "source": [
    "import numpy as np\n",
    "np.set_printoptions(precision=3, suppress=True)"
   ]
  },
  {
   "cell_type": "code",
   "execution_count": 9,
   "id": "178f299c-3366-4b37-883f-b2bef83d0025",
   "metadata": {},
   "outputs": [
    {
     "name": "stdout",
     "output_type": "stream",
     "text": [
      "[[177.7  68.1  91.8]\n",
      " [168.   60.2  89.3]\n",
      " [165.3  49.1  84.9]\n",
      " [159.1  42.   86.3]\n",
      " [176.4  73.3  93.8]\n",
      " [176.   57.2  92.5]\n",
      " [170.   59.8  89.8]\n",
      " [164.6  51.6  88.5]\n",
      " [174.4  70.2  91.7]\n",
      " [174.8  58.8  91.6]]\n",
      "------------------------------\n",
      "키 컬럼 분산: 38.75\n",
      "------------------------------\n",
      "열 평균: [170.63  59.03  90.02]\n",
      "------------------------------\n",
      "[[  7.07   9.07   1.78]\n",
      " [ -2.63   1.17  -0.72]\n",
      " [ -5.33  -9.93  -5.12]\n",
      " [-11.53 -17.03  -3.72]\n",
      " [  5.77  14.27   3.78]\n",
      " [  5.37  -1.83   2.48]\n",
      " [ -0.63   0.77  -0.22]\n",
      " [ -6.03  -7.43  -1.52]\n",
      " [  3.77  11.17   1.68]\n",
      " [  4.17  -0.23   1.58]]\n",
      "------------------------------\n",
      "covariance\n",
      "[[38.749 52.035 15.779]\n",
      " [52.035 95.54  23.158]\n",
      " [15.779 23.158  7.984]]\n"
     ]
    }
   ],
   "source": [
    "x = [[177.7, 68.1, 91.8], [168, 60.2, 89.3], \n",
    "     [165.3, 49.1, 84.9], [159.1, 42, 86.3], \n",
    "     [176.4, 73.3, 93.8], [176, 57.2, 92.5], \n",
    "     [170, 59.8, 89.8], [164.6, 51.6, 88.5], \n",
    "     [174.4, 70.2, 91.7], [174.8, 58.8, 91.6]]\n",
    "x = np.array(x)\n",
    "print(x)\n",
    "print('-'*30)\n",
    "print('키 컬럼 분산:', np.round(np.var(x[:,0], ddof=1),2))\n",
    "print('-'*30)\n",
    "print('열 평균:', np.mean(x, axis=0))\n",
    "print('-'*30)\n",
    "x = x - np.mean(x, axis=0)   # 각 컬럼의 편차\n",
    "print(x)\n",
    "print('-'*30)\n",
    "print('covariance')\n",
    "cov = (x.T.dot(x)) / (len(x)-1)\n",
    "print(cov)"
   ]
  },
  {
   "cell_type": "markdown",
   "id": "0450afcd-a781-428e-9a66-d8e4fb956659",
   "metadata": {},
   "source": [
    "# cov 함수와 결과 비교"
   ]
  },
  {
   "cell_type": "code",
   "execution_count": 10,
   "id": "77dcadd9-679d-41c8-8d2e-f7b0f930e5cc",
   "metadata": {},
   "outputs": [
    {
     "data": {
      "text/plain": [
       "array([[38.749, 52.035, 15.779],\n",
       "       [52.035, 95.54 , 23.158],\n",
       "       [15.779, 23.158,  7.984]])"
      ]
     },
     "execution_count": 10,
     "metadata": {},
     "output_type": "execute_result"
    }
   ],
   "source": [
    "np.cov(x, rowvar=False)  # rowvar: 열을 특성값으로"
   ]
  },
  {
   "cell_type": "markdown",
   "id": "a77e89d2-78d8-4913-8dbd-814a11d2e53c",
   "metadata": {},
   "source": [
    "# 고유값, 고유벡터 행렬 구하기"
   ]
  },
  {
   "cell_type": "code",
   "execution_count": 19,
   "id": "00428e73-562b-4769-97fb-b4c500e0e498",
   "metadata": {},
   "outputs": [
    {
     "name": "stdout",
     "output_type": "stream",
     "text": [
      "고유값\n",
      "[132.696   8.307   1.27 ]\n",
      "------------------------------\n",
      "고유값 대각행렬(lambda)\n",
      "[[132.696   0.      0.   ]\n",
      " [  0.      8.307   0.   ]\n",
      " [  0.      0.      1.27 ]]\n",
      "------------------------------\n",
      "고유벡터 행렬(V)\n",
      "[[-0.501 -0.803 -0.323]\n",
      " [-0.838  0.544 -0.054]\n",
      " [-0.219 -0.244  0.945]]\n",
      "------------------------------\n",
      "첫번째 고유벡터와 두번째 고유벡터의 내적\n",
      "0.0\n"
     ]
    }
   ],
   "source": [
    "eigenvalue, eigenvector = np.linalg.eig(cov)  # numpy의 고유값 고유벡터를 구하는 함수 np.linalg.eig(정방행렬), 고유값, 고유벡터값을 반환\n",
    "print('고유값')\n",
    "print(np.round(eigenvalue, 4))\n",
    "print('-'*30)\n",
    "print('고유값 대각행렬(lambda)')\n",
    "eig_matrix = np.identity(3) * eigenvalue\n",
    "print(eig_matrix)\n",
    "print('-'*30)\n",
    "print('고유벡터 행렬(V)')\n",
    "V = eigenvector\n",
    "print(V)\n",
    "print('-'*30)\n",
    "print('첫번째 고유벡터와 두번째 고유벡터의 내적')\n",
    "print(np.round(V[:,0].T.dot(V[:,1]),2))  # 두 벡터는 직교"
   ]
  },
  {
   "cell_type": "code",
   "execution_count": 20,
   "id": "26f522ee-77c3-4ebc-bb08-002cd3b2a976",
   "metadata": {},
   "outputs": [
    {
     "name": "stdout",
     "output_type": "stream",
     "text": [
      "공분산 행렬\n",
      "[[38.749 52.035 15.779]\n",
      " [52.035 95.54  23.158]\n",
      " [15.779 23.158  7.984]]\n",
      "------------------------------\n",
      "고유값 분해를 통한 공분산 행렬 계산\n",
      "[[38.749 52.035 15.779]\n",
      " [52.035 95.54  23.158]\n",
      " [15.779 23.158  7.984]]\n"
     ]
    }
   ],
   "source": [
    "print('공분산 행렬')\n",
    "print(cov)\n",
    "print('-'*30)\n",
    "print('고유값 분해를 통한 공분산 행렬 계산')  \n",
    "# 고유값 분해: 고유벡터들을 모아둔 행렬 @ 고유값들을 대각성분에 모아둔 행렬 @ 고유벡터들을 모아둔 행렬의 역행렬\n",
    "print(V@eig_matrix@np.linalg.inv(V))"
   ]
  },
  {
   "cell_type": "markdown",
   "id": "53428a3d-5395-46a0-9c4a-df1f093203aa",
   "metadata": {},
   "source": [
    "# 첫번째 주성분(PC1) 구하기"
   ]
  },
  {
   "cell_type": "code",
   "execution_count": 21,
   "id": "648767e5-cc29-4c11-9383-97821e1cbb25",
   "metadata": {},
   "outputs": [
    {
     "name": "stdout",
     "output_type": "stream",
     "text": [
      "[-11.53   0.49  12.11  20.85 -15.67  -1.7   -0.28   9.57 -11.61  -2.24]\n"
     ]
    }
   ],
   "source": [
    "pc1 = V[:,0].T@x.T  # 첫번째 고유벡터(고유값이 가장 큼) @ 입력 데이터\n",
    "print(np.round(pc1, 2))"
   ]
  },
  {
   "cell_type": "markdown",
   "id": "df07ebfd-df79-4ebc-9a87-a6ad54be23a3",
   "metadata": {},
   "source": [
    "# 공분산을 이용한 주성분 분석"
   ]
  },
  {
   "cell_type": "code",
   "execution_count": 25,
   "id": "3cd146ea-c0f3-4140-b541-240cf1a9ebac",
   "metadata": {},
   "outputs": [
    {
     "name": "stdout",
     "output_type": "stream",
     "text": [
      "PCA를 이용한 차원 축소\n",
      "고유벡터 VT - 주성분 2개 선택\n",
      "[[-0.501 -0.838 -0.219]\n",
      " [-0.803  0.544 -0.244]]\n",
      "------------------------------\n",
      "고유벡터 VT와 원데이터 XT의 내적\n",
      "[[-11.526  -1.18 ]\n",
      " [  0.494   2.924]\n",
      " [ 12.106   0.129]\n",
      " [ 20.85    0.906]\n",
      " [-15.668   2.204]\n",
      " [ -1.699  -5.912]\n",
      " [ -0.281   0.978]\n",
      " [  9.574   1.173]\n",
      " [-11.61    2.637]\n",
      " [ -2.241  -3.859]]\n"
     ]
    }
   ],
   "source": [
    "print('PCA를 이용한 차원 축소')\n",
    "VT = np.array([V[:,0], V[:,1]])\n",
    "print('고유벡터 VT - 주성분 2개 선택')  # 고유값이 가장 큰 두개\n",
    "print(VT)\n",
    "print('-'*30)\n",
    "print('고유벡터 VT와 원데이터 XT의 내적')  # 새로운 두개의 축 생성\n",
    "Z = VT@x.T\n",
    "print(Z.T)"
   ]
  },
  {
   "cell_type": "markdown",
   "id": "765ccd31-22c7-4345-b9d7-efa2618984f6",
   "metadata": {},
   "source": [
    "# PCA 클래스와 결과 비교"
   ]
  },
  {
   "cell_type": "code",
   "execution_count": 27,
   "id": "81c1a91d-83cb-4f80-b0ca-87c6238ca385",
   "metadata": {},
   "outputs": [
    {
     "name": "stdout",
     "output_type": "stream",
     "text": [
      "[[-11.526   1.18 ]\n",
      " [  0.494  -2.924]\n",
      " [ 12.106  -0.129]\n",
      " [ 20.85   -0.906]\n",
      " [-15.668  -2.204]\n",
      " [ -1.699   5.912]\n",
      " [ -0.281  -0.978]\n",
      " [  9.574  -1.173]\n",
      " [-11.61   -2.637]\n",
      " [ -2.241   3.859]]\n"
     ]
    }
   ],
   "source": [
    "from sklearn.decomposition import PCA\n",
    "\n",
    "model = PCA(n_components=2)  # n_components: 몇개의 주성분으로 축소할 것인지\n",
    "pca = model.fit_transform(x)\n",
    "print(pca)"
   ]
  },
  {
   "cell_type": "markdown",
   "id": "b344099d-ed3e-46c4-8ccf-00d553963b65",
   "metadata": {},
   "source": [
    "# PC가 차지하는 분산 비율"
   ]
  },
  {
   "cell_type": "code",
   "execution_count": 31,
   "id": "d2823a7e-3cfa-42ec-8031-e9570c69fdc4",
   "metadata": {},
   "outputs": [
    {
     "name": "stdout",
     "output_type": "stream",
     "text": [
      "[0.933 0.058]\n",
      "분산 합계: 0.99%\n"
     ]
    }
   ],
   "source": [
    "print(model.explained_variance_ratio_)\n",
    "# 각 주성분이 차지하는 분산 비율\n",
    "print(f'분산 합계: {np.sum(model.explained_variance_ratio_):.2f}%')\n",
    "# 세개의 고유값중 하나는 제외해도 (3차원을 2차원으로 축소해도) 데이터의 손실은 1%뿐이다"
   ]
  },
  {
   "cell_type": "markdown",
   "id": "34368b34-841f-44a9-9d2d-8c3034366f1c",
   "metadata": {},
   "source": [
    "# PCA를 통한 고유벡터와 고유값 확인"
   ]
  },
  {
   "cell_type": "code",
   "execution_count": 32,
   "id": "ca927e69-a49d-41d4-b325-0f68f58d8077",
   "metadata": {},
   "outputs": [
    {
     "data": {
      "text/plain": [
       "array([[-0.501, -0.838, -0.219],\n",
       "       [ 0.803, -0.544,  0.244]])"
      ]
     },
     "execution_count": 32,
     "metadata": {},
     "output_type": "execute_result"
    }
   ],
   "source": [
    "# 차원 축소시 사용된 고유벡터\n",
    "model.components_"
   ]
  },
  {
   "cell_type": "code",
   "execution_count": 33,
   "id": "98b48c28-0454-4a86-8d1a-9d0f1a095b6b",
   "metadata": {},
   "outputs": [
    {
     "data": {
      "text/plain": [
       "array([132.696,   8.307])"
      ]
     },
     "execution_count": 33,
     "metadata": {},
     "output_type": "execute_result"
    }
   ],
   "source": [
    "# 차원 축소시 사용된 고유값\n",
    "model.explained_variance_"
   ]
  },
  {
   "cell_type": "markdown",
   "id": "ae891331-3444-40f6-ad6e-e11ddf3742a2",
   "metadata": {},
   "source": [
    "# PCA 결과를 지도학습에 적용하기"
   ]
  },
  {
   "cell_type": "markdown",
   "id": "61838a02-f2a1-4493-a357-678ea696d4b8",
   "metadata": {},
   "source": [
    "## 패키지 로딩"
   ]
  },
  {
   "cell_type": "code",
   "execution_count": 34,
   "id": "cdaa0ac0-a962-42e6-b5ff-277d71727202",
   "metadata": {},
   "outputs": [],
   "source": [
    "from sklearn.datasets import load_iris\n",
    "import pandas as pd"
   ]
  },
  {
   "cell_type": "markdown",
   "id": "9ff556d6-73b5-4823-8287-e9608a577596",
   "metadata": {},
   "source": [
    "## 데이터 로딩"
   ]
  },
  {
   "cell_type": "code",
   "execution_count": 36,
   "id": "be90c3ca-b084-4d98-9c35-a4fdc84509c1",
   "metadata": {},
   "outputs": [
    {
     "data": {
      "text/html": [
       "<div>\n",
       "<style scoped>\n",
       "    .dataframe tbody tr th:only-of-type {\n",
       "        vertical-align: middle;\n",
       "    }\n",
       "\n",
       "    .dataframe tbody tr th {\n",
       "        vertical-align: top;\n",
       "    }\n",
       "\n",
       "    .dataframe thead th {\n",
       "        text-align: right;\n",
       "    }\n",
       "</style>\n",
       "<table border=\"1\" class=\"dataframe\">\n",
       "  <thead>\n",
       "    <tr style=\"text-align: right;\">\n",
       "      <th></th>\n",
       "      <th>sepal length (cm)</th>\n",
       "      <th>sepal width (cm)</th>\n",
       "      <th>petal length (cm)</th>\n",
       "      <th>petal width (cm)</th>\n",
       "    </tr>\n",
       "  </thead>\n",
       "  <tbody>\n",
       "    <tr>\n",
       "      <th>0</th>\n",
       "      <td>5.1</td>\n",
       "      <td>3.5</td>\n",
       "      <td>1.4</td>\n",
       "      <td>0.2</td>\n",
       "    </tr>\n",
       "    <tr>\n",
       "      <th>1</th>\n",
       "      <td>4.9</td>\n",
       "      <td>3.0</td>\n",
       "      <td>1.4</td>\n",
       "      <td>0.2</td>\n",
       "    </tr>\n",
       "    <tr>\n",
       "      <th>2</th>\n",
       "      <td>4.7</td>\n",
       "      <td>3.2</td>\n",
       "      <td>1.3</td>\n",
       "      <td>0.2</td>\n",
       "    </tr>\n",
       "    <tr>\n",
       "      <th>3</th>\n",
       "      <td>4.6</td>\n",
       "      <td>3.1</td>\n",
       "      <td>1.5</td>\n",
       "      <td>0.2</td>\n",
       "    </tr>\n",
       "    <tr>\n",
       "      <th>4</th>\n",
       "      <td>5.0</td>\n",
       "      <td>3.6</td>\n",
       "      <td>1.4</td>\n",
       "      <td>0.2</td>\n",
       "    </tr>\n",
       "  </tbody>\n",
       "</table>\n",
       "</div>"
      ],
      "text/plain": [
       "   sepal length (cm)  sepal width (cm)  petal length (cm)  petal width (cm)\n",
       "0                5.1               3.5                1.4               0.2\n",
       "1                4.9               3.0                1.4               0.2\n",
       "2                4.7               3.2                1.3               0.2\n",
       "3                4.6               3.1                1.5               0.2\n",
       "4                5.0               3.6                1.4               0.2"
      ]
     },
     "metadata": {},
     "output_type": "display_data"
    }
   ],
   "source": [
    "iris = load_iris()\n",
    "df = pd.DataFrame(iris.data, columns=iris.feature_names)\n",
    "display(df.head())"
   ]
  },
  {
   "cell_type": "code",
   "execution_count": 39,
   "id": "738e1060-6591-41ef-aae0-6d94aad6ac64",
   "metadata": {},
   "outputs": [
    {
     "name": "stdout",
     "output_type": "stream",
     "text": [
      "[0 0 0 0 0 0 0 0 0 0 0 0 0 0 0 0 0 0 0 0 0 0 0 0 0 0 0 0 0 0 0 0 0 0 0 0 0\n",
      " 0 0 0 0 0 0 0 0 0 0 0 0 0 1 1 1 1 1 1 1 1 1 1 1 1 1 1 1 1 1 1 1 1 1 1 1 1\n",
      " 1 1 1 1 1 1 1 1 1 1 1 1 1 1 1 1 1 1 1 1 1 1 1 1 1 1 2 2 2 2 2 2 2 2 2 2 2\n",
      " 2 2 2 2 2 2 2 2 2 2 2 2 2 2 2 2 2 2 2 2 2 2 2 2 2 2 2 2 2 2 2 2 2 2 2 2 2\n",
      " 2 2]\n"
     ]
    },
    {
     "data": {
      "text/plain": [
       "array([50, 50, 50], dtype=int64)"
      ]
     },
     "execution_count": 39,
     "metadata": {},
     "output_type": "execute_result"
    }
   ],
   "source": [
    "classes = iris.target\n",
    "print(classes)\n",
    "np.bincount(classes)  # bincount: 빈도수 카운트"
   ]
  },
  {
   "cell_type": "markdown",
   "id": "6ffee361-08ca-467e-90ad-a8390b69c208",
   "metadata": {},
   "source": [
    "## 데이터 표준화"
   ]
  },
  {
   "cell_type": "code",
   "execution_count": 40,
   "id": "bc5b1775-dad7-4ed6-8cb4-315cb2baaad2",
   "metadata": {},
   "outputs": [],
   "source": [
    "from sklearn.preprocessing import StandardScaler\n",
    "\n",
    "iris_scaled = StandardScaler().fit_transform(iris.data)"
   ]
  },
  {
   "cell_type": "markdown",
   "id": "a4858a06-ab66-4b99-92f1-4022e95eba8e",
   "metadata": {},
   "source": [
    "## 주성분 분석\n",
    "- 차원축소: 4차원 -> 2차원"
   ]
  },
  {
   "cell_type": "code",
   "execution_count": 42,
   "id": "8bb3aba0-64c7-421e-b91e-9ca703707d9a",
   "metadata": {},
   "outputs": [
    {
     "name": "stdout",
     "output_type": "stream",
     "text": [
      "(150, 2)\n"
     ]
    }
   ],
   "source": [
    "from sklearn.decomposition import PCA\n",
    "\n",
    "pca = PCA(n_components=2)\n",
    "iris_pca = pca.fit_transform(iris_scaled)\n",
    "print(iris_pca.shape)"
   ]
  },
  {
   "cell_type": "markdown",
   "id": "458f4c53-61d0-4327-8ec5-1db3d1526900",
   "metadata": {},
   "source": [
    "## 주성분 값 확인"
   ]
  },
  {
   "cell_type": "code",
   "execution_count": 43,
   "id": "d7a3b833-acd2-467a-b08a-80da731f0cd7",
   "metadata": {},
   "outputs": [
    {
     "data": {
      "text/html": [
       "<div>\n",
       "<style scoped>\n",
       "    .dataframe tbody tr th:only-of-type {\n",
       "        vertical-align: middle;\n",
       "    }\n",
       "\n",
       "    .dataframe tbody tr th {\n",
       "        vertical-align: top;\n",
       "    }\n",
       "\n",
       "    .dataframe thead th {\n",
       "        text-align: right;\n",
       "    }\n",
       "</style>\n",
       "<table border=\"1\" class=\"dataframe\">\n",
       "  <thead>\n",
       "    <tr style=\"text-align: right;\">\n",
       "      <th></th>\n",
       "      <th>PCA1</th>\n",
       "      <th>PCA2</th>\n",
       "      <th>class</th>\n",
       "    </tr>\n",
       "  </thead>\n",
       "  <tbody>\n",
       "    <tr>\n",
       "      <th>0</th>\n",
       "      <td>-2.264703</td>\n",
       "      <td>0.480027</td>\n",
       "      <td>0</td>\n",
       "    </tr>\n",
       "    <tr>\n",
       "      <th>1</th>\n",
       "      <td>-2.080961</td>\n",
       "      <td>-0.674134</td>\n",
       "      <td>0</td>\n",
       "    </tr>\n",
       "    <tr>\n",
       "      <th>2</th>\n",
       "      <td>-2.364229</td>\n",
       "      <td>-0.341908</td>\n",
       "      <td>0</td>\n",
       "    </tr>\n",
       "    <tr>\n",
       "      <th>3</th>\n",
       "      <td>-2.299384</td>\n",
       "      <td>-0.597395</td>\n",
       "      <td>0</td>\n",
       "    </tr>\n",
       "    <tr>\n",
       "      <th>4</th>\n",
       "      <td>-2.389842</td>\n",
       "      <td>0.646835</td>\n",
       "      <td>0</td>\n",
       "    </tr>\n",
       "  </tbody>\n",
       "</table>\n",
       "</div>"
      ],
      "text/plain": [
       "       PCA1      PCA2  class\n",
       "0 -2.264703  0.480027      0\n",
       "1 -2.080961 -0.674134      0\n",
       "2 -2.364229 -0.341908      0\n",
       "3 -2.299384 -0.597395      0\n",
       "4 -2.389842  0.646835      0"
      ]
     },
     "metadata": {},
     "output_type": "display_data"
    }
   ],
   "source": [
    "df_iris_pca = pd.DataFrame(iris_pca, columns=['PCA1', 'PCA2'])\n",
    "df_iris_pca['class'] = iris.target\n",
    "display(df_iris_pca.head())"
   ]
  },
  {
   "cell_type": "markdown",
   "id": "f1e3a5d9-5724-4594-a230-c5d4aff1d396",
   "metadata": {},
   "source": [
    "## 2개 차원으로 데이터 시각화"
   ]
  },
  {
   "cell_type": "code",
   "execution_count": 45,
   "id": "93ce27b1-0e19-4c94-b3f6-d39c8a5dfc5b",
   "metadata": {},
   "outputs": [
    {
     "data": {
      "image/png": "[encoded data removed]",
      "text/plain": [
       "<Figure size 640x480 with 1 Axes>"
      ]
     },
     "metadata": {},
     "output_type": "display_data"
    }
   ],
   "source": [
    "import matplotlib.pyplot as plt\n",
    "\n",
    "marker = ['o', 's', '^']\n",
    "for i, m in enumerate(marker):\n",
    "    x_data = df_iris_pca[df_iris_pca['class'] == i]['PCA1']\n",
    "    y_data = df_iris_pca[df_iris_pca['class'] == i]['PCA2']\n",
    "    plt.scatter(x_data, y_data, marker=m, label=iris.target_names[i])\n",
    "\n",
    "plt.legend()\n",
    "plt.xlabel('PC1')\n",
    "plt.ylabel('PC2')\n",
    "plt.show()"
   ]
  },
  {
   "cell_type": "markdown",
   "id": "d66167e8-64ab-44bd-810d-66f1d3b403d9",
   "metadata": {},
   "source": [
    "- 꽃받침의 길이와 넓이 데이터로 시각화"
   ]
  },
  {
   "cell_type": "code",
   "execution_count": 46,
   "id": "0f1db505-422d-47f6-a289-807969a6eaa0",
   "metadata": {},
   "outputs": [],
   "source": [
    "df['class'] = iris.target"
   ]
  },
  {
   "cell_type": "code",
   "execution_count": 48,
   "id": "e2594e57-6e9f-423f-a3af-cf6a55622b4f",
   "metadata": {},
   "outputs": [
    {
     "data": {
      "image/png": "[encoded data removed]",
      "text/plain": [
       "<Figure size 640x480 with 1 Axes>"
      ]
     },
     "metadata": {},
     "output_type": "display_data"
    }
   ],
   "source": [
    "marker = ['o', 's', '^']\n",
    "for i, m in enumerate(marker):\n",
    "    x_data = df[df['class'] == i]['sepal length (cm)']\n",
    "    y_data = df[df['class'] == i]['sepal width (cm)']\n",
    "    plt.scatter(x_data, y_data, marker=m, label=iris.target_names[i])\n",
    "\n",
    "plt.legend()\n",
    "plt.xlabel('sepal length (cm)')\n",
    "plt.ylabel('sepal width (cm)')\n",
    "plt.show()"
   ]
  },
  {
   "cell_type": "markdown",
   "id": "39ba65bc-fac0-4d31-948d-3c2778869b91",
   "metadata": {},
   "source": [
    "## PCA에 따른 각 주성분이 차지하는 분산(설명력) 확인"
   ]
  },
  {
   "cell_type": "code",
   "execution_count": 51,
   "id": "a587ceb8-c83b-4e8b-8429-e709384667cd",
   "metadata": {},
   "outputs": [
    {
     "name": "stdout",
     "output_type": "stream",
     "text": [
      "분산 합계: 0.96%\n"
     ]
    }
   ],
   "source": [
    "print(f'분산 합계: {np.sum(pca.explained_variance_ratio_):.2f}%')"
   ]
  },
  {
   "cell_type": "markdown",
   "id": "62e93a4b-a452-4893-b9d2-ca31e1306d5a",
   "metadata": {},
   "source": [
    "## 적절한 차원수 선택하기"
   ]
  },
  {
   "cell_type": "code",
   "execution_count": 52,
   "id": "08f84af9-1f8e-4c34-b88e-ea429ac0a732",
   "metadata": {},
   "outputs": [
    {
     "name": "stdout",
     "output_type": "stream",
     "text": [
      "2\n"
     ]
    }
   ],
   "source": [
    "pca = PCA()  # n_components 넣지 않으면 차원 축소하지 않음\n",
    "pca.fit(iris_scaled)  # 고유값, 고유벡터값만 만들고 transform을 하지 않으면 주성분축에 데이터 내적 안함\n",
    "cumsum = np.cumsum(pca.explained_variance_ratio_) # 누적 분산\n",
    "# 누적 분산(설명력)이 0.95를 넘어서는 PC의 개수\n",
    "d = np.argmax(cumsum >= 0.95) + 1\n",
    "print(d)"
   ]
  },
  {
   "cell_type": "markdown",
   "id": "9697ce9c-7436-46e4-9087-8c79030f9652",
   "metadata": {},
   "source": [
    "## 주성분 수 선택을 위한 스크릿 플롯 그리기"
   ]
  },
  {
   "cell_type": "code",
   "execution_count": 58,
   "id": "2607ae3e-eb17-4522-b262-60e15eb5254a",
   "metadata": {},
   "outputs": [
    {
     "data": {
      "image/png": "[encoded data removed]",
      "text/plain": [
       "<Figure size 640x480 with 1 Axes>"
      ]
     },
     "metadata": {},
     "output_type": "display_data"
    }
   ],
   "source": [
    "plt.plot(np.arange(1,5), cumsum)\n",
    "plt.axis([1,4,cumsum[0],1])  # 축 범위 지정 (x축의 최소, x축의 최대, y축의 최소, y축의 최대)\n",
    "plt.plot([d,d], [0, cumsum[d-1]], 'k:')  # (2,0) (2,0.95...) 두 점을 잇는 선 그리기\n",
    "plt.plot([1,d], [cumsum[d-1], cumsum[d-1]], 'k:')  #(1,0.95..) (2,0.95...) 두 점을 잇는 선 그리기\n",
    "plt.plot(d, cumsum[d-1], 'ko')\n",
    "plt.xlabel('Dimensions')\n",
    "plt.ylabel('Explained Variance')\n",
    "plt.grid(True)\n",
    "plt.show()"
   ]
  },
  {
   "cell_type": "markdown",
   "id": "1cbfc0c8-f82b-48fd-9504-9b9f8f368ad9",
   "metadata": {},
   "source": [
    "## PCA 성능 비교\n",
    "- 원본 데이터와 PCA가 적용된 데이터를 이용한 분류 알고리즘 적용 결과 비교"
   ]
  },
  {
   "cell_type": "code",
   "execution_count": 61,
   "id": "6b4db1a7-92e2-4e99-8670-93c6c25eaa26",
   "metadata": {},
   "outputs": [
    {
     "name": "stdout",
     "output_type": "stream",
     "text": [
      "교차검증 평균 정확도: 0.967\n"
     ]
    }
   ],
   "source": [
    "from sklearn.ensemble import RandomForestClassifier\n",
    "from sklearn.model_selection import cross_val_score\n",
    "\n",
    "model1 = RandomForestClassifier(random_state=10) \n",
    "score = cross_val_score(model1, iris_scaled, iris.target, cv=3, scoring='accuracy')\n",
    "print(f'교차검증 평균 정확도: {np.mean(score):.3f}')"
   ]
  },
  {
   "cell_type": "code",
   "execution_count": 62,
   "id": "4e43e504-795a-4b21-896d-b1dc613292fe",
   "metadata": {},
   "outputs": [
    {
     "name": "stdout",
     "output_type": "stream",
     "text": [
      "교차검증 평균 정확도: 0.887\n"
     ]
    }
   ],
   "source": [
    "model2 = RandomForestClassifier(random_state=10) \n",
    "score = cross_val_score(model2, iris_pca, iris.target, cv=3, scoring='accuracy')\n",
    "print(f'교차검증 평균 정확도: {np.mean(score):.3f}')"
   ]
  }
 ],
 "metadata": {
  "kernelspec": {
   "display_name": "Python 3 (ipykernel)",
   "language": "python",
   "name": "python3"
  },
  "language_info": {
   "codemirror_mode": {
    "name": "ipython",
    "version": 3
   },
   "file_extension": ".py",
   "mimetype": "text/x-python",
   "name": "python",
   "nbconvert_exporter": "python",
   "pygments_lexer": "ipython3",
   "version": "3.11.5"
  }
 },
 "nbformat": 4,
 "nbformat_minor": 5
}
