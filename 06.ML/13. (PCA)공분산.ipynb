{
 "cells": [
  {
   "cell_type": "markdown",
   "id": "52385b7a-faf5-49d2-9713-5ce03e74dae2",
   "metadata": {},
   "source": [
    "# 육상선수 종목별 기록 데이터"
   ]
  },
  {
   "cell_type": "code",
   "execution_count": 2,
   "id": "8e1f9b92-7125-4653-9002-8333eac31a19",
   "metadata": {},
   "outputs": [],
   "source": [
    "import numpy as np\n",
    "\n",
    "# 행: 선수, 열: 종목\n",
    "A = np.array([\n",
    "              [3.73, 1.86, 15.8, 4.05, 7.27, 45.66, 34.92 ],\n",
    "              [3.57, 1.80, 16.23, 2.96, 6.71, 42.56, 37.31],\n",
    "              [3.22, 1.83, 14.20, 3.51, 6.68, 44.54, 39.23],\n",
    "              [2.81, 1.80, 15.23, 2.69, 6.25, 42.78, 31.19],\n",
    "              [2.91, 1.74, 14.76, 2.68, 6.32, 47.46, 35.53],\n",
    "              [2.67, 1.83, 13.50, 1.96, 6.33, 42.82, 37.64]\n",
    "])"
   ]
  },
  {
   "cell_type": "markdown",
   "id": "8c65cc67-e528-4fde-932d-02a88296da9b",
   "metadata": {},
   "source": [
    "- 허들 종목 통계지표"
   ]
  },
  {
   "cell_type": "code",
   "execution_count": 5,
   "id": "bd49edf7-02a6-459b-98bc-373473184ff3",
   "metadata": {},
   "outputs": [
    {
     "name": "stdout",
     "output_type": "stream",
     "text": [
      "[3.73 3.57 3.22 2.81 2.91 2.67]\n",
      "평균: 3.152\n",
      "분산: 0.184\n"
     ]
    }
   ],
   "source": [
    "hurdles = A[:, 0]\n",
    "print(hurdles)\n",
    "print(f'평균: {np.mean(hurdles):.3f}')\n",
    "print(f'분산: {np.var(hurdles, ddof=1):.3f}')  # ddof=1: 자유도값, 불편추정량에 대한 분산구하기"
   ]
  },
  {
   "cell_type": "markdown",
   "id": "4104e2f0-ab1f-4484-8b26-7dbd7c5e1c9d",
   "metadata": {},
   "source": [
    "# 공분산 행렬"
   ]
  },
  {
   "cell_type": "code",
   "execution_count": 8,
   "id": "71850f42-0e10-417b-bb65-ef74d3341045",
   "metadata": {},
   "outputs": [],
   "source": [
    "np.set_printoptions(precision=3, suppress=True)"
   ]
  },
  {
   "cell_type": "code",
   "execution_count": 9,
   "id": "4f8762fe-debb-4037-b6f4-8b3b3a48a8a6",
   "metadata": {},
   "outputs": [
    {
     "name": "stdout",
     "output_type": "stream",
     "text": [
      "[Covariance Marix]\n"
     ]
    },
    {
     "data": {
      "text/plain": [
       "array([[ 0.184,  0.007,  0.325,  0.262,  0.151,  0.109,  0.222],\n",
       "       [ 0.007,  0.002, -0.001,  0.014,  0.01 , -0.029,  0.022],\n",
       "       [ 0.325, -0.001,  1.028,  0.388,  0.199, -0.026, -1.06 ],\n",
       "       [ 0.262,  0.014,  0.388,  0.528,  0.244,  0.524,  0.078],\n",
       "       [ 0.151,  0.01 ,  0.199,  0.244,  0.148,  0.157,  0.21 ],\n",
       "       [ 0.109, -0.029, -0.026,  0.524,  0.157,  3.884,  0.085],\n",
       "       [ 0.222,  0.022, -1.06 ,  0.078,  0.21 ,  0.085,  7.871]])"
      ]
     },
     "execution_count": 9,
     "metadata": {},
     "output_type": "execute_result"
    }
   ],
   "source": [
    "print('[Covariance Marix]')\n",
    "B = np.cov(A, rowvar=False)  # rowvar: 행이 변수인지 여부, True(default)인 경우에는 행값이 변수를 나타내고 열이 각 변수의 관측치를 나타냄\n",
    "# false일 경우에는 각 행이 관측치(선수 한명당 육상종목별 관측 데이터)를 나타내며 열이 변수(종목)을 나타낸다.\n",
    "# 어디가 관측치이고 어디가 변수인지 파악 중요\n",
    "B\n",
    "#print(np.array2string())  # array2string: 문자열로 반환해서 출력"
   ]
  },
  {
   "cell_type": "code",
   "execution_count": 10,
   "id": "29523db8-8d21-48e7-9397-51e919ae5ada",
   "metadata": {},
   "outputs": [
    {
     "data": {
      "text/plain": [
       "array([[ 0.184,  0.007,  0.325,  0.262,  0.151,  0.109,  0.222],\n",
       "       [ 0.007,  0.002, -0.001,  0.014,  0.01 , -0.029,  0.022],\n",
       "       [ 0.325, -0.001,  1.028,  0.388,  0.199, -0.026, -1.06 ],\n",
       "       [ 0.262,  0.014,  0.388,  0.528,  0.244,  0.524,  0.078],\n",
       "       [ 0.151,  0.01 ,  0.199,  0.244,  0.148,  0.157,  0.21 ],\n",
       "       [ 0.109, -0.029, -0.026,  0.524,  0.157,  3.884,  0.085],\n",
       "       [ 0.222,  0.022, -1.06 ,  0.078,  0.21 ,  0.085,  7.871]])"
      ]
     },
     "execution_count": 10,
     "metadata": {},
     "output_type": "execute_result"
    }
   ],
   "source": [
    "col_mean = np.mean(A, axis=0)  # 각 종목별 평균\n",
    "A = A - col_mean  # 각 데이터에 평균값 빼기(표준화)\n",
    "cov = (A.T@A) / (len(A)-1)    # A 전치행렬과 A를 행렬의 곱 / 전체 데이터 개수 -1\n",
    "cov"
   ]
  }
 ],
 "metadata": {
  "kernelspec": {
   "display_name": "Python 3 (ipykernel)",
   "language": "python",
   "name": "python3"
  },
  "language_info": {
   "codemirror_mode": {
    "name": "ipython",
    "version": 3
   },
   "file_extension": ".py",
   "mimetype": "text/x-python",
   "name": "python",
   "nbconvert_exporter": "python",
   "pygments_lexer": "ipython3",
   "version": "3.11.5"
  }
 },
 "nbformat": 4,
 "nbformat_minor": 5
}
