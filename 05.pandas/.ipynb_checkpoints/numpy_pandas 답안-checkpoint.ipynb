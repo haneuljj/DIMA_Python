{
 "cells": [
  {
   "cell_type": "markdown",
   "id": "43ffea07-334c-43a8-ab37-6c3be6f1ac12",
   "metadata": {},
   "source": [
    "# Numpy"
   ]
  },
  {
   "cell_type": "markdown",
   "id": "7ade624b-1986-4a38-a104-111ae9d7016f",
   "metadata": {},
   "source": [
    "## 1."
   ]
  },
  {
   "cell_type": "code",
   "execution_count": 3,
   "id": "32a461f1-2b10-4cfa-bed7-d73cc8a5c5ed",
   "metadata": {},
   "outputs": [
    {
     "name": "stdout",
     "output_type": "stream",
     "text": [
      "[[1 5 2]\n",
      " [7 9 0]\n",
      " [3 7 7]]\n",
      "[[1 5 2]\n",
      " [3 7 7]\n",
      " [7 9 0]]\n"
     ]
    }
   ],
   "source": [
    "import numpy as np\n",
    "\n",
    "a = np.random.randint(0, 10, (3,3))\n",
    "print(a)\n",
    "print(a[a[:,0].argsort()])"
   ]
  },
  {
   "cell_type": "markdown",
   "id": "b7945e2f-e80f-4e95-bd93-a005878fc2be",
   "metadata": {},
   "source": [
    "## 2."
   ]
  },
  {
   "cell_type": "code",
   "execution_count": 7,
   "id": "4d878763-f348-41b5-9a48-ed6501f01430",
   "metadata": {},
   "outputs": [
    {
     "data": {
      "text/plain": [
       "array([[0, 1, 0, 1, 0, 1, 0, 1],\n",
       "       [1, 0, 1, 0, 1, 0, 1, 0],\n",
       "       [0, 1, 0, 1, 0, 1, 0, 1],\n",
       "       [1, 0, 1, 0, 1, 0, 1, 0],\n",
       "       [0, 1, 0, 1, 0, 1, 0, 1],\n",
       "       [1, 0, 1, 0, 1, 0, 1, 0],\n",
       "       [0, 1, 0, 1, 0, 1, 0, 1],\n",
       "       [1, 0, 1, 0, 1, 0, 1, 0]])"
      ]
     },
     "execution_count": 7,
     "metadata": {},
     "output_type": "execute_result"
    }
   ],
   "source": [
    "a = np.zeros((8,8), dtype='int')\n",
    "a[1::2, ::2] = 1\n",
    "a[::2, 1::2] = 1\n",
    "a"
   ]
  },
  {
   "cell_type": "markdown",
   "id": "6d24210f-d507-4e7c-b599-694adad151b2",
   "metadata": {},
   "source": [
    "## 3."
   ]
  },
  {
   "cell_type": "code",
   "execution_count": 10,
   "id": "40ccf08e-a746-4f55-bf9f-ccec8097e475",
   "metadata": {},
   "outputs": [
    {
     "data": {
      "text/plain": [
       "array([0.        , 0.12237596, 0.93203862, 0.87093617, 0.7938179 ,\n",
       "       0.50218507, 0.64512155, 0.25429709, 0.26313623, 0.92323371])"
      ]
     },
     "execution_count": 10,
     "metadata": {},
     "output_type": "execute_result"
    }
   ],
   "source": [
    "a = np.random.rand(10)\n",
    "a[a.max() == a] = 0\n",
    "a"
   ]
  },
  {
   "cell_type": "markdown",
   "id": "35024c2b-c589-4536-bc13-160c33b43594",
   "metadata": {},
   "source": [
    "# padas"
   ]
  },
  {
   "cell_type": "markdown",
   "id": "73142428-c25b-4626-9937-3832b2b0c998",
   "metadata": {},
   "source": [
    "# 1. 월드컵 출전선수 골 기록 데이터 분석"
   ]
  },
  {
   "cell_type": "code",
   "execution_count": 25,
   "id": "6140c102-3750-4ea7-9603-6719a2b2e621",
   "metadata": {},
   "outputs": [
    {
     "data": {
      "text/html": [
       "<div>\n",
       "<style scoped>\n",
       "    .dataframe tbody tr th:only-of-type {\n",
       "        vertical-align: middle;\n",
       "    }\n",
       "\n",
       "    .dataframe tbody tr th {\n",
       "        vertical-align: top;\n",
       "    }\n",
       "\n",
       "    .dataframe thead th {\n",
       "        text-align: right;\n",
       "    }\n",
       "</style>\n",
       "<table border=\"1\" class=\"dataframe\">\n",
       "  <thead>\n",
       "    <tr style=\"text-align: right;\">\n",
       "      <th></th>\n",
       "      <th>Player</th>\n",
       "      <th>Goals</th>\n",
       "      <th>Years</th>\n",
       "      <th>Country</th>\n",
       "    </tr>\n",
       "  </thead>\n",
       "  <tbody>\n",
       "    <tr>\n",
       "      <th>0</th>\n",
       "      <td>Miroslav Klose</td>\n",
       "      <td>16</td>\n",
       "      <td>2002-2006-2010-2014</td>\n",
       "      <td>Germany</td>\n",
       "    </tr>\n",
       "    <tr>\n",
       "      <th>1</th>\n",
       "      <td>Ronaldo</td>\n",
       "      <td>15</td>\n",
       "      <td>1998-2002-2006</td>\n",
       "      <td>Brazil</td>\n",
       "    </tr>\n",
       "    <tr>\n",
       "      <th>2</th>\n",
       "      <td>Gerd Muller</td>\n",
       "      <td>14</td>\n",
       "      <td>1970-1974</td>\n",
       "      <td>Germany</td>\n",
       "    </tr>\n",
       "    <tr>\n",
       "      <th>3</th>\n",
       "      <td>Just Fontaine</td>\n",
       "      <td>13</td>\n",
       "      <td>1958</td>\n",
       "      <td>France</td>\n",
       "    </tr>\n",
       "    <tr>\n",
       "      <th>4</th>\n",
       "      <td>Pele</td>\n",
       "      <td>12</td>\n",
       "      <td>1958-1962-1966-1970</td>\n",
       "      <td>Brazil</td>\n",
       "    </tr>\n",
       "  </tbody>\n",
       "</table>\n",
       "</div>"
      ],
      "text/plain": [
       "           Player  Goals                Years  Country\n",
       "0  Miroslav Klose     16  2002-2006-2010-2014  Germany\n",
       "1         Ronaldo     15       1998-2002-2006   Brazil\n",
       "2     Gerd Muller     14            1970-1974  Germany\n",
       "3   Just Fontaine     13                 1958   France\n",
       "4            Pele     12  1958-1962-1966-1970   Brazil"
      ]
     },
     "execution_count": 25,
     "metadata": {},
     "output_type": "execute_result"
    }
   ],
   "source": [
    "import pandas as pd\n",
    "\n",
    "df = pd.read_csv('worldcupgoals.csv')\n",
    "df.head()"
   ]
  },
  {
   "cell_type": "markdown",
   "id": "2af0a843-8f2f-4f9a-8f4b-3454f59dd2b7",
   "metadata": {},
   "source": [
    "## 주어진 전체 기간의 각 나라별 골 득점수 합계 상위 5개 국가와 그 득점수를 출력하시오."
   ]
  },
  {
   "cell_type": "code",
   "execution_count": 12,
   "id": "f6ba182f-4450-4ef6-bdc3-ee90eb627fa8",
   "metadata": {},
   "outputs": [
    {
     "data": {
      "text/plain": [
       "Country\n",
       "Brazil       228\n",
       "Germany      226\n",
       "Argentina    135\n",
       "Italy        123\n",
       "France       115\n",
       "Name: Goals, dtype: int64"
      ]
     },
     "execution_count": 12,
     "metadata": {},
     "output_type": "execute_result"
    }
   ],
   "source": [
    "df.groupby('Country')['Goals'].sum().sort_values(ascending=False).head(5)\n",
    "# Series로 반환시 sort_values에 정렬 기준 컬럼 넣을 필요X"
   ]
  },
  {
   "cell_type": "markdown",
   "id": "98b4247b-ce9f-4447-902e-c7a8f3027b1e",
   "metadata": {},
   "source": [
    "## 주어진 전체기간동안 골득점을 한 선수가 가장 많은 나라 상위 5개 국가와 그 선수 숫자를 출력하시오."
   ]
  },
  {
   "cell_type": "code",
   "execution_count": 14,
   "id": "44f41bbe-94bf-4c61-8c10-13db188df48f",
   "metadata": {},
   "outputs": [
    {
     "data": {
      "text/html": [
       "<div>\n",
       "<style scoped>\n",
       "    .dataframe tbody tr th:only-of-type {\n",
       "        vertical-align: middle;\n",
       "    }\n",
       "\n",
       "    .dataframe tbody tr th {\n",
       "        vertical-align: top;\n",
       "    }\n",
       "\n",
       "    .dataframe thead th {\n",
       "        text-align: right;\n",
       "    }\n",
       "</style>\n",
       "<table border=\"1\" class=\"dataframe\">\n",
       "  <thead>\n",
       "    <tr style=\"text-align: right;\">\n",
       "      <th></th>\n",
       "      <th>Player</th>\n",
       "    </tr>\n",
       "    <tr>\n",
       "      <th>Country</th>\n",
       "      <th></th>\n",
       "    </tr>\n",
       "  </thead>\n",
       "  <tbody>\n",
       "    <tr>\n",
       "      <th>Brazil</th>\n",
       "      <td>81</td>\n",
       "    </tr>\n",
       "    <tr>\n",
       "      <th>Germany</th>\n",
       "      <td>78</td>\n",
       "    </tr>\n",
       "    <tr>\n",
       "      <th>Italy</th>\n",
       "      <td>60</td>\n",
       "    </tr>\n",
       "    <tr>\n",
       "      <th>Argentina</th>\n",
       "      <td>59</td>\n",
       "    </tr>\n",
       "    <tr>\n",
       "      <th>France</th>\n",
       "      <td>58</td>\n",
       "    </tr>\n",
       "  </tbody>\n",
       "</table>\n",
       "</div>"
      ],
      "text/plain": [
       "           Player\n",
       "Country          \n",
       "Brazil         81\n",
       "Germany        78\n",
       "Italy          60\n",
       "Argentina      59\n",
       "France         58"
      ]
     },
     "execution_count": 14,
     "metadata": {},
     "output_type": "execute_result"
    }
   ],
   "source": [
    "df.groupby('Country').count().sort_values('Player', ascending=False).head(5)[['Player']]"
   ]
  },
  {
   "cell_type": "markdown",
   "id": "035f4c53-ef0a-46f3-89a9-4dd5fc8bffe1",
   "metadata": {},
   "source": [
    "## Years 컬럼은 년도-년도 형식으로 구성되어있고, 각 년도는 4자리 숫자이다. 각 년도 표기가 4자리 숫자로 안된 케이스가 존재한다. 해당 건은 몇 건인지 출력하시오."
   ]
  },
  {
   "cell_type": "code",
   "execution_count": 15,
   "id": "5d3ceb52-3861-446e-9a50-53b6a75e1401",
   "metadata": {},
   "outputs": [
    {
     "name": "stdout",
     "output_type": "stream",
     "text": [
      "45\n"
     ]
    }
   ],
   "source": [
    "count = 0\n",
    "for years in df['Years']:   # year 컬럼의 각 값 가져오기\n",
    "    for year in years.split('-'):   # 그 값을 '-' 기준으로 쪼개기\n",
    "        if len(year) != 4:  # 쪼갠 값이 4자리가 아니라면 \n",
    "            count += 1  # 카운트 +1\n",
    "print(count)"
   ]
  },
  {
   "cell_type": "markdown",
   "id": "60727511-1f8d-4119-9461-67c0e4c0ff0c",
   "metadata": {},
   "source": [
    "## 3번 문제에서 발생한 예외 케이스를 제외한 새로운 데이터 프레임을 생성하고 전체데이터 행의 숫자를 출력하시오."
   ]
  },
  {
   "cell_type": "code",
   "execution_count": 26,
   "id": "63212538-16a1-45a4-8e08-9615044ceca1",
   "metadata": {},
   "outputs": [
    {
     "data": {
      "text/plain": [
       "(1250, 5)"
      ]
     },
     "execution_count": 26,
     "metadata": {},
     "output_type": "execute_result"
    }
   ],
   "source": [
    "# year 형식 체크하는 함수\n",
    "def checkYearFormat(years):\n",
    "    for year in years.split('-'):   \n",
    "        if len(year) != 4:  \n",
    "            return False\n",
    "        else:\n",
    "            return True\n",
    "\n",
    "# 형식의 T/F값 컬럼으로 True값만 가지는 컬럼만 가져오기\n",
    "df['year_check'] = df['Years'].apply(lambda x : checkYearFormat(x))\n",
    "df2 = df[df['year_check']]\n",
    "df2.shape"
   ]
  },
  {
   "cell_type": "code",
   "execution_count": 21,
   "id": "5f9a69cb-d7ec-4215-b752-74dc3e9f34eb",
   "metadata": {},
   "outputs": [],
   "source": [
    "# 불필요한 워닝 메시지 출력 방지\n",
    "import warnings\n",
    "warnings.filterwarnings(action='ignore')"
   ]
  },
  {
   "cell_type": "markdown",
   "id": "7508f403-20b0-4187-a3e5-af28e11ab2bf",
   "metadata": {},
   "source": [
    "## 월드컵 출전횟수를 나타내는 'LenCup'컬럼을 추가하고 4회 출전한 선수의 숫자를 구하시오"
   ]
  },
  {
   "cell_type": "code",
   "execution_count": 27,
   "id": "58a4ae98-6076-493d-ac9a-d8fb5d06d815",
   "metadata": {},
   "outputs": [],
   "source": [
    "df2['LenCup'] = [len(years.split('-')) for years in df2['Years']]"
   ]
  },
  {
   "cell_type": "code",
   "execution_count": 30,
   "id": "4c7d6798-e665-45f9-8f2b-31d1ab33bd49",
   "metadata": {},
   "outputs": [
    {
     "data": {
      "text/plain": [
       "16"
      ]
     },
     "execution_count": 30,
     "metadata": {},
     "output_type": "execute_result"
    }
   ],
   "source": [
    "len(df2[df2['LenCup'] == 4])"
   ]
  },
  {
   "cell_type": "markdown",
   "id": "c59ae756-1b10-4181-85a1-a5bb9264a4fe",
   "metadata": {},
   "source": [
    "## yugoslavia 국가의 월드컵 출전횟수가 2회인 선수들의 숫자를 구하시오."
   ]
  },
  {
   "cell_type": "code",
   "execution_count": 31,
   "id": "0c9cb84e-b42b-47aa-9cb4-e4f5d3e9e016",
   "metadata": {},
   "outputs": [
    {
     "data": {
      "text/plain": [
       "7"
      ]
     },
     "execution_count": 31,
     "metadata": {},
     "output_type": "execute_result"
    }
   ],
   "source": [
    "len(df2[df2['Country'] == 'Yugoslavia'][df2['LenCup'] == 2])"
   ]
  },
  {
   "cell_type": "markdown",
   "id": "c0e287f9-9f66-4c02-916b-dcaf0f0b9097",
   "metadata": {},
   "source": [
    "## 2002년도에 출전한 전체 선수 수를 구하시오"
   ]
  },
  {
   "cell_type": "code",
   "execution_count": 32,
   "id": "6d22644b-ca9c-489c-90a9-4c1dd537d7ee",
   "metadata": {},
   "outputs": [
    {
     "data": {
      "text/plain": [
       "156"
      ]
     },
     "execution_count": 32,
     "metadata": {},
     "output_type": "execute_result"
    }
   ],
   "source": [
    "len(df2[df2['Years'].str.contains('2002')])"
   ]
  },
  {
   "cell_type": "markdown",
   "id": "843c7c66-37b5-4ebc-8a29-d40ea064bd67",
   "metadata": {},
   "source": [
    "## 월드컵 출전 횟수가 1회 뿐인 선수들 중에서 가장 많은 득점을 올렸던 선수는 누구이며 몇 골을 넣었는지 구하시오"
   ]
  },
  {
   "cell_type": "code",
   "execution_count": 33,
   "id": "02a5153f-8287-42a0-b37c-9d8414650036",
   "metadata": {},
   "outputs": [
    {
     "data": {
      "text/html": [
       "<div>\n",
       "<style scoped>\n",
       "    .dataframe tbody tr th:only-of-type {\n",
       "        vertical-align: middle;\n",
       "    }\n",
       "\n",
       "    .dataframe tbody tr th {\n",
       "        vertical-align: top;\n",
       "    }\n",
       "\n",
       "    .dataframe thead th {\n",
       "        text-align: right;\n",
       "    }\n",
       "</style>\n",
       "<table border=\"1\" class=\"dataframe\">\n",
       "  <thead>\n",
       "    <tr style=\"text-align: right;\">\n",
       "      <th></th>\n",
       "      <th>Player</th>\n",
       "      <th>Goals</th>\n",
       "    </tr>\n",
       "  </thead>\n",
       "  <tbody>\n",
       "    <tr>\n",
       "      <th>3</th>\n",
       "      <td>Just Fontaine</td>\n",
       "      <td>13</td>\n",
       "    </tr>\n",
       "  </tbody>\n",
       "</table>\n",
       "</div>"
      ],
      "text/plain": [
       "          Player  Goals\n",
       "3  Just Fontaine     13"
      ]
     },
     "execution_count": 33,
     "metadata": {},
     "output_type": "execute_result"
    }
   ],
   "source": [
    "df2[df2['LenCup']==1].sort_values('Goals', ascending=False).head(1)[['Player','Goals']]"
   ]
  },
  {
   "cell_type": "markdown",
   "id": "551c7c5f-6c1b-49b8-93ff-53f715a86d04",
   "metadata": {},
   "source": [
    "# 전세계 행복도 지수 데이터 분석"
   ]
  },
  {
   "cell_type": "code",
   "execution_count": 34,
   "id": "00baee8c-ced7-4e11-a7a8-05cf59dad1c4",
   "metadata": {},
   "outputs": [
    {
     "data": {
      "text/html": [
       "<div>\n",
       "<style scoped>\n",
       "    .dataframe tbody tr th:only-of-type {\n",
       "        vertical-align: middle;\n",
       "    }\n",
       "\n",
       "    .dataframe tbody tr th {\n",
       "        vertical-align: top;\n",
       "    }\n",
       "\n",
       "    .dataframe thead th {\n",
       "        text-align: right;\n",
       "    }\n",
       "</style>\n",
       "<table border=\"1\" class=\"dataframe\">\n",
       "  <thead>\n",
       "    <tr style=\"text-align: right;\">\n",
       "      <th></th>\n",
       "      <th>행복랭킹</th>\n",
       "      <th>나라명</th>\n",
       "      <th>점수</th>\n",
       "      <th>상대GDP</th>\n",
       "      <th>사회적지원</th>\n",
       "      <th>행복기대치</th>\n",
       "      <th>선택의 자유도</th>\n",
       "      <th>관대함</th>\n",
       "      <th>부패에 대한인식</th>\n",
       "      <th>년도</th>\n",
       "    </tr>\n",
       "  </thead>\n",
       "  <tbody>\n",
       "    <tr>\n",
       "      <th>0</th>\n",
       "      <td>1</td>\n",
       "      <td>Finland</td>\n",
       "      <td>7.769</td>\n",
       "      <td>1.340</td>\n",
       "      <td>1.587</td>\n",
       "      <td>0.986</td>\n",
       "      <td>0.596</td>\n",
       "      <td>0.153</td>\n",
       "      <td>0.393</td>\n",
       "      <td>2019</td>\n",
       "    </tr>\n",
       "    <tr>\n",
       "      <th>1</th>\n",
       "      <td>2</td>\n",
       "      <td>Denmark</td>\n",
       "      <td>7.600</td>\n",
       "      <td>1.383</td>\n",
       "      <td>1.573</td>\n",
       "      <td>0.996</td>\n",
       "      <td>0.592</td>\n",
       "      <td>0.252</td>\n",
       "      <td>0.410</td>\n",
       "      <td>2019</td>\n",
       "    </tr>\n",
       "    <tr>\n",
       "      <th>2</th>\n",
       "      <td>3</td>\n",
       "      <td>Norway</td>\n",
       "      <td>7.554</td>\n",
       "      <td>1.488</td>\n",
       "      <td>1.582</td>\n",
       "      <td>1.028</td>\n",
       "      <td>0.603</td>\n",
       "      <td>0.271</td>\n",
       "      <td>0.341</td>\n",
       "      <td>2019</td>\n",
       "    </tr>\n",
       "    <tr>\n",
       "      <th>3</th>\n",
       "      <td>4</td>\n",
       "      <td>Iceland</td>\n",
       "      <td>7.494</td>\n",
       "      <td>1.380</td>\n",
       "      <td>1.624</td>\n",
       "      <td>1.026</td>\n",
       "      <td>0.591</td>\n",
       "      <td>0.354</td>\n",
       "      <td>0.118</td>\n",
       "      <td>2019</td>\n",
       "    </tr>\n",
       "    <tr>\n",
       "      <th>4</th>\n",
       "      <td>5</td>\n",
       "      <td>Netherlands</td>\n",
       "      <td>7.488</td>\n",
       "      <td>1.396</td>\n",
       "      <td>1.522</td>\n",
       "      <td>0.999</td>\n",
       "      <td>0.557</td>\n",
       "      <td>0.322</td>\n",
       "      <td>0.298</td>\n",
       "      <td>2019</td>\n",
       "    </tr>\n",
       "  </tbody>\n",
       "</table>\n",
       "</div>"
      ],
      "text/plain": [
       "   행복랭킹          나라명     점수  상대GDP  사회적지원  행복기대치  선택의 자유도    관대함  부패에 대한인식    년도\n",
       "0     1      Finland  7.769  1.340  1.587  0.986    0.596  0.153     0.393  2019\n",
       "1     2      Denmark  7.600  1.383  1.573  0.996    0.592  0.252     0.410  2019\n",
       "2     3       Norway  7.554  1.488  1.582  1.028    0.603  0.271     0.341  2019\n",
       "3     4      Iceland  7.494  1.380  1.624  1.026    0.591  0.354     0.118  2019\n",
       "4     5  Netherlands  7.488  1.396  1.522  0.999    0.557  0.322     0.298  2019"
      ]
     },
     "execution_count": 34,
     "metadata": {},
     "output_type": "execute_result"
    }
   ],
   "source": [
    "df = pd.read_csv('happiness.csv')\n",
    "\n",
    "df.head()"
   ]
  },
  {
   "cell_type": "markdown",
   "id": "eaa8f0f3-a530-4ece-bed2-74e46d100610",
   "metadata": {},
   "source": [
    "## 각 연도별 행복랭킹 10위 안에 드는 나라의 행복점수 평균을 구하시오"
   ]
  },
  {
   "cell_type": "code",
   "execution_count": 35,
   "id": "65c1a5b6-9732-4c60-bfbd-b63b39c96045",
   "metadata": {},
   "outputs": [
    {
     "name": "stdout",
     "output_type": "stream",
     "text": [
      "2018년도:7.44\n",
      "2019년도:7.46\n"
     ]
    }
   ],
   "source": [
    "grouped = df.groupby('년도')\n",
    "for year, group in grouped:\n",
    "    print(f'{year}년도', end=':')\n",
    "    print(group[group['행복랭킹'] <= 10]['점수'].mean().round(2))"
   ]
  },
  {
   "cell_type": "code",
   "execution_count": 37,
   "id": "6d71770b-de03-4f75-ae44-ac9522b37b9b",
   "metadata": {},
   "outputs": [
    {
     "data": {
      "text/plain": [
       "년도\n",
       "2018    7.4442\n",
       "2019    7.4559\n",
       "Name: 점수, dtype: float64"
      ]
     },
     "execution_count": 37,
     "metadata": {},
     "output_type": "execute_result"
    }
   ],
   "source": [
    "df[df['행복랭킹'] <= 10].groupby('년도')['점수'].mean()"
   ]
  },
  {
   "cell_type": "markdown",
   "id": "6b9f3781-a443-4356-92eb-3b74fd0c424f",
   "metadata": {},
   "source": [
    "## 각 연도의 행복랭킹 50위 이내의 나라들의 각각의 행복점수 평균을 데이터프레임으로 표시하시오."
   ]
  },
  {
   "cell_type": "code",
   "execution_count": 38,
   "id": "fb47d30a-60d8-4caf-8f32-30eefa7c45b5",
   "metadata": {},
   "outputs": [
    {
     "data": {
      "text/html": [
       "<div>\n",
       "<style scoped>\n",
       "    .dataframe tbody tr th:only-of-type {\n",
       "        vertical-align: middle;\n",
       "    }\n",
       "\n",
       "    .dataframe tbody tr th {\n",
       "        vertical-align: top;\n",
       "    }\n",
       "\n",
       "    .dataframe thead th {\n",
       "        text-align: right;\n",
       "    }\n",
       "</style>\n",
       "<table border=\"1\" class=\"dataframe\">\n",
       "  <thead>\n",
       "    <tr style=\"text-align: right;\">\n",
       "      <th></th>\n",
       "      <th>점수</th>\n",
       "    </tr>\n",
       "    <tr>\n",
       "      <th>년도</th>\n",
       "      <th></th>\n",
       "    </tr>\n",
       "  </thead>\n",
       "  <tbody>\n",
       "    <tr>\n",
       "      <th>2018</th>\n",
       "      <td>6.64678</td>\n",
       "    </tr>\n",
       "    <tr>\n",
       "      <th>2019</th>\n",
       "      <td>6.67002</td>\n",
       "    </tr>\n",
       "  </tbody>\n",
       "</table>\n",
       "</div>"
      ],
      "text/plain": [
       "           점수\n",
       "년도           \n",
       "2018  6.64678\n",
       "2019  6.67002"
      ]
     },
     "execution_count": 38,
     "metadata": {},
     "output_type": "execute_result"
    }
   ],
   "source": [
    "df[df['행복랭킹'] <= 50].groupby('년도')[['점수']].mean()"
   ]
  },
  {
   "cell_type": "markdown",
   "id": "2e173355-73ce-4c2a-8ce1-ad3728b2a579",
   "metadata": {},
   "source": [
    "## 각 년도별 하위 행복점수 5개 국가의 평균 행복점수를 구하시오."
   ]
  },
  {
   "cell_type": "code",
   "execution_count": 39,
   "id": "2eb195e3-f4c1-4df9-a437-a03e2db8cd28",
   "metadata": {},
   "outputs": [
    {
     "data": {
      "text/plain": [
       "년도\n",
       "2018    3.18\n",
       "2019    3.14\n",
       "Name: 점수, dtype: float64"
      ]
     },
     "execution_count": 39,
     "metadata": {},
     "output_type": "execute_result"
    }
   ],
   "source": [
    "df.sort_values(['년도', '점수']).groupby('년도').head(5).groupby('년도')['점수'].mean().round(2)"
   ]
  },
  {
   "cell_type": "code",
   "execution_count": 41,
   "id": "34656de6-639e-4fca-b696-f00d14d062cd",
   "metadata": {},
   "outputs": [
    {
     "name": "stdout",
     "output_type": "stream",
     "text": [
      "2018년도:3.18\n",
      "2019년도:3.14\n"
     ]
    }
   ],
   "source": [
    "grouped = df.groupby('년도')\n",
    "for year, group in grouped:\n",
    "    print(f'{year}년도', end=':')\n",
    "    print(group.sort_values('점수').head(5)['점수'].mean().round(2))"
   ]
  },
  {
   "cell_type": "markdown",
   "id": "ae0784b8-3c2a-4142-9517-de13cf03425b",
   "metadata": {},
   "source": [
    "## 2019년 데이터를 추출하고 해당 데이터의 상대 GDP 평균 이상의 나라들과 평균 이하의 나라들의 행복점수 평균을 각각 구하고 그 차이값을 출력하시오."
   ]
  },
  {
   "cell_type": "code",
   "execution_count": 44,
   "id": "5da5d574-2350-4651-a898-1c7010191940",
   "metadata": {},
   "outputs": [
    {
     "name": "stdout",
     "output_type": "stream",
     "text": [
      "1.0 2\n"
     ]
    }
   ],
   "source": [
    "df_2019 = df[df['년도']==2019]\n",
    "over_mean = df_2019[df_2019['상대GDP'] >= df_2019['상대GDP'].mean()]['점수'].mean()\n",
    "under_mean = df_2019[df_2019['상대GDP'] < df_2019['상대GDP'].mean()]['점수'].mean()\n",
    "print(np.round(over_mean - under_mean), 2)"
   ]
  },
  {
   "cell_type": "markdown",
   "id": "3e10c7bd-43ad-4b6a-b4bd-b1429a31a5a5",
   "metadata": {},
   "source": [
    "## 각 년도의 부패에 대한 인식을 내림차순으로 정렬했을 때 상위 20개 국가의 부패에 대한 인식의 평균"
   ]
  },
  {
   "cell_type": "code",
   "execution_count": 45,
   "id": "56fe421c-8af3-480d-add0-178505be5d27",
   "metadata": {},
   "outputs": [
    {
     "data": {
      "text/html": [
       "<div>\n",
       "<style scoped>\n",
       "    .dataframe tbody tr th:only-of-type {\n",
       "        vertical-align: middle;\n",
       "    }\n",
       "\n",
       "    .dataframe tbody tr th {\n",
       "        vertical-align: top;\n",
       "    }\n",
       "\n",
       "    .dataframe thead th {\n",
       "        text-align: right;\n",
       "    }\n",
       "</style>\n",
       "<table border=\"1\" class=\"dataframe\">\n",
       "  <thead>\n",
       "    <tr style=\"text-align: right;\">\n",
       "      <th></th>\n",
       "      <th>부패에 대한인식</th>\n",
       "    </tr>\n",
       "    <tr>\n",
       "      <th>년도</th>\n",
       "      <th></th>\n",
       "    </tr>\n",
       "  </thead>\n",
       "  <tbody>\n",
       "    <tr>\n",
       "      <th>2018</th>\n",
       "      <td>0.3267</td>\n",
       "    </tr>\n",
       "    <tr>\n",
       "      <th>2019</th>\n",
       "      <td>0.3201</td>\n",
       "    </tr>\n",
       "  </tbody>\n",
       "</table>\n",
       "</div>"
      ],
      "text/plain": [
       "      부패에 대한인식\n",
       "년도            \n",
       "2018    0.3267\n",
       "2019    0.3201"
      ]
     },
     "execution_count": 45,
     "metadata": {},
     "output_type": "execute_result"
    }
   ],
   "source": [
    "df.sort_values(['년도', '부패에 대한인식'], ascending=False).groupby('년도').head(20).groupby('년도')[['부패에 대한인식']].mean()"
   ]
  },
  {
   "cell_type": "markdown",
   "id": "f65ce341-1b68-4efd-ac7a-783dfe434da6",
   "metadata": {},
   "source": [
    "## 2018년도 행복랭킹 50위 이내에 포함됐다가 2019년 50위 밖으로 밀려난 국가의 숫자"
   ]
  },
  {
   "cell_type": "code",
   "execution_count": 49,
   "id": "f48fb3e7-1c60-47e5-8af6-d4c2dd8be783",
   "metadata": {},
   "outputs": [
    {
     "data": {
      "text/plain": [
       "3"
      ]
     },
     "execution_count": 49,
     "metadata": {},
     "output_type": "execute_result"
    }
   ],
   "source": [
    "d1 = df[np.logical_and(df['년도'] ==2018, df['행복랭킹']<=50)]['나라명']  # 2018년도에 50위 이내인 나라\n",
    "d2 = df[np.logical_and(df['년도'] ==2019, df['행복랭킹']>50)]['나라명'] # 2019년도에 50위 밖인 나라\n",
    "\n",
    "# 50\n",
    "len(d2[d2.isin(d1)])"
   ]
  },
  {
   "cell_type": "markdown",
   "id": "8a431b4b-dddf-475f-8f44-4fe940b3ee67",
   "metadata": {},
   "source": [
    "## 2018, 2019년 모두 기록이 있는 나라들 중 년도별 행복점수가 가장 증가한 나라와 그 증가 수치는?"
   ]
  },
  {
   "cell_type": "code",
   "execution_count": 50,
   "id": "27cc8eb0-3524-433f-a30d-6c27358109f4",
   "metadata": {},
   "outputs": [
    {
     "data": {
      "text/plain": [
       "0                       Finland\n",
       "1                       Denmark\n",
       "2                        Norway\n",
       "3                       Iceland\n",
       "4                   Netherlands\n",
       "                 ...           \n",
       "151                      Rwanda\n",
       "152                    Tanzania\n",
       "153                 Afghanistan\n",
       "154    Central African Republic\n",
       "155                 South Sudan\n",
       "Name: 나라명, Length: 152, dtype: object"
      ]
     },
     "execution_count": 50,
     "metadata": {},
     "output_type": "execute_result"
    }
   ],
   "source": [
    "year_2018 = df[df['년도'] == 2018]['나라명']\n",
    "year_2019 = df[df['년도'] == 2019]['나라명']\n",
    "year_2018_2019 = year_2019[year_2019.isin(year_2018)]\n",
    "year_2018_2019"
   ]
  },
  {
   "cell_type": "code",
   "execution_count": 53,
   "id": "9aa54710-4185-4634-bacd-4bde5a8d9cc8",
   "metadata": {},
   "outputs": [
    {
     "data": {
      "text/plain": [
       "Index(['Finland', 'Albania', 'Nepal', 'Jordan', 'Benin', 'Congo (Brazzaville)',\n",
       "       'Gabon', 'Laos', 'South Africa', 'Venezuela',\n",
       "       ...\n",
       "       'Kosovo', 'Romania', 'Cyprus', 'Argentina', 'Kuwait', 'Thailand',\n",
       "       'Latvia', 'South Korea', 'Estonia', 'Jamaica'],\n",
       "      dtype='object', name='나라명', length=152)"
      ]
     },
     "execution_count": 53,
     "metadata": {},
     "output_type": "execute_result"
    }
   ],
   "source": [
    "count = df['나라명'].value_counts()   # 각 나라별 행 개수\n",
    "year_2018_2019 = count[count == 2].index  # 그 개수가 2인 것만\n",
    "year_2018_2019"
   ]
  },
  {
   "cell_type": "code",
   "execution_count": 54,
   "id": "a6324194-244c-48ad-a3cc-dd7517f5e710",
   "metadata": {},
   "outputs": [
    {
     "data": {
      "text/html": [
       "<div>\n",
       "<style scoped>\n",
       "    .dataframe tbody tr th:only-of-type {\n",
       "        vertical-align: middle;\n",
       "    }\n",
       "\n",
       "    .dataframe tbody tr th {\n",
       "        vertical-align: top;\n",
       "    }\n",
       "\n",
       "    .dataframe thead th {\n",
       "        text-align: right;\n",
       "    }\n",
       "</style>\n",
       "<table border=\"1\" class=\"dataframe\">\n",
       "  <thead>\n",
       "    <tr style=\"text-align: right;\">\n",
       "      <th></th>\n",
       "      <th>행복랭킹</th>\n",
       "      <th>나라명</th>\n",
       "      <th>점수</th>\n",
       "      <th>상대GDP</th>\n",
       "      <th>사회적지원</th>\n",
       "      <th>행복기대치</th>\n",
       "      <th>선택의 자유도</th>\n",
       "      <th>관대함</th>\n",
       "      <th>부패에 대한인식</th>\n",
       "      <th>년도</th>\n",
       "    </tr>\n",
       "  </thead>\n",
       "  <tbody>\n",
       "    <tr>\n",
       "      <th>0</th>\n",
       "      <td>1</td>\n",
       "      <td>Finland</td>\n",
       "      <td>7.769</td>\n",
       "      <td>1.340</td>\n",
       "      <td>1.587</td>\n",
       "      <td>0.986</td>\n",
       "      <td>0.596</td>\n",
       "      <td>0.153</td>\n",
       "      <td>0.393</td>\n",
       "      <td>2019</td>\n",
       "    </tr>\n",
       "    <tr>\n",
       "      <th>1</th>\n",
       "      <td>2</td>\n",
       "      <td>Denmark</td>\n",
       "      <td>7.600</td>\n",
       "      <td>1.383</td>\n",
       "      <td>1.573</td>\n",
       "      <td>0.996</td>\n",
       "      <td>0.592</td>\n",
       "      <td>0.252</td>\n",
       "      <td>0.410</td>\n",
       "      <td>2019</td>\n",
       "    </tr>\n",
       "    <tr>\n",
       "      <th>2</th>\n",
       "      <td>3</td>\n",
       "      <td>Norway</td>\n",
       "      <td>7.554</td>\n",
       "      <td>1.488</td>\n",
       "      <td>1.582</td>\n",
       "      <td>1.028</td>\n",
       "      <td>0.603</td>\n",
       "      <td>0.271</td>\n",
       "      <td>0.341</td>\n",
       "      <td>2019</td>\n",
       "    </tr>\n",
       "    <tr>\n",
       "      <th>3</th>\n",
       "      <td>4</td>\n",
       "      <td>Iceland</td>\n",
       "      <td>7.494</td>\n",
       "      <td>1.380</td>\n",
       "      <td>1.624</td>\n",
       "      <td>1.026</td>\n",
       "      <td>0.591</td>\n",
       "      <td>0.354</td>\n",
       "      <td>0.118</td>\n",
       "      <td>2019</td>\n",
       "    </tr>\n",
       "    <tr>\n",
       "      <th>4</th>\n",
       "      <td>5</td>\n",
       "      <td>Netherlands</td>\n",
       "      <td>7.488</td>\n",
       "      <td>1.396</td>\n",
       "      <td>1.522</td>\n",
       "      <td>0.999</td>\n",
       "      <td>0.557</td>\n",
       "      <td>0.322</td>\n",
       "      <td>0.298</td>\n",
       "      <td>2019</td>\n",
       "    </tr>\n",
       "  </tbody>\n",
       "</table>\n",
       "</div>"
      ],
      "text/plain": [
       "   행복랭킹          나라명     점수  상대GDP  사회적지원  행복기대치  선택의 자유도    관대함  부패에 대한인식    년도\n",
       "0     1      Finland  7.769  1.340  1.587  0.986    0.596  0.153     0.393  2019\n",
       "1     2      Denmark  7.600  1.383  1.573  0.996    0.592  0.252     0.410  2019\n",
       "2     3       Norway  7.554  1.488  1.582  1.028    0.603  0.271     0.341  2019\n",
       "3     4      Iceland  7.494  1.380  1.624  1.026    0.591  0.354     0.118  2019\n",
       "4     5  Netherlands  7.488  1.396  1.522  0.999    0.557  0.322     0.298  2019"
      ]
     },
     "execution_count": 54,
     "metadata": {},
     "output_type": "execute_result"
    }
   ],
   "source": [
    "multiple = df[df['나라명'].isin(year_2018_2019)] # 두 년도에 모두 속한 국가들에 대한 데이터 프레임\n",
    "multiple.head()"
   ]
  },
  {
   "cell_type": "code",
   "execution_count": 57,
   "id": "c43893a5-2f1e-4d25-a8ff-3f0946594165",
   "metadata": {},
   "outputs": [
    {
     "data": {
      "text/html": [
       "<div>\n",
       "<style scoped>\n",
       "    .dataframe tbody tr th:only-of-type {\n",
       "        vertical-align: middle;\n",
       "    }\n",
       "\n",
       "    .dataframe tbody tr th {\n",
       "        vertical-align: top;\n",
       "    }\n",
       "\n",
       "    .dataframe thead th {\n",
       "        text-align: right;\n",
       "    }\n",
       "</style>\n",
       "<table border=\"1\" class=\"dataframe\">\n",
       "  <thead>\n",
       "    <tr style=\"text-align: right;\">\n",
       "      <th></th>\n",
       "      <th>나라명</th>\n",
       "      <th>전년대비 점수 증감</th>\n",
       "    </tr>\n",
       "  </thead>\n",
       "  <tbody>\n",
       "    <tr>\n",
       "      <th>144</th>\n",
       "      <td>Burundi</td>\n",
       "      <td>0.87</td>\n",
       "    </tr>\n",
       "  </tbody>\n",
       "</table>\n",
       "</div>"
      ],
      "text/plain": [
       "         나라명  전년대비 점수 증감\n",
       "144  Burundi        0.87"
      ]
     },
     "execution_count": 57,
     "metadata": {},
     "output_type": "execute_result"
    }
   ],
   "source": [
    "year_2019 = multiple[multiple['년도'] == 2019].sort_values('나라명')\n",
    "year_2018_point = multiple[multiple['년도'] == 2018].sort_values('나라명')['점수']\n",
    "\n",
    "year_2019['전년대비 점수 증감'] = year_2019['점수'] - year_2018_point.values\n",
    "year_2019[year_2019['전년대비 점수 증감'].max() == year_2019['전년대비 점수 증감']][['나라명', '전년대비 점수 증감']]"
   ]
  },
  {
   "cell_type": "markdown",
   "id": "14dbb6ba-8704-47c1-98d0-c51c0138ef4d",
   "metadata": {},
   "source": [
    "# 3. 유튜브 데이터 분석"
   ]
  },
  {
   "cell_type": "code",
   "execution_count": 58,
   "id": "773aa96d-53bd-4bfd-a3d6-f06c138f5356",
   "metadata": {},
   "outputs": [
    {
     "data": {
      "text/html": [
       "<div>\n",
       "<style scoped>\n",
       "    .dataframe tbody tr th:only-of-type {\n",
       "        vertical-align: middle;\n",
       "    }\n",
       "\n",
       "    .dataframe tbody tr th {\n",
       "        vertical-align: top;\n",
       "    }\n",
       "\n",
       "    .dataframe thead th {\n",
       "        text-align: right;\n",
       "    }\n",
       "</style>\n",
       "<table border=\"1\" class=\"dataframe\">\n",
       "  <thead>\n",
       "    <tr style=\"text-align: right;\">\n",
       "      <th></th>\n",
       "      <th>title</th>\n",
       "      <th>category</th>\n",
       "      <th>subscriber</th>\n",
       "      <th>view</th>\n",
       "      <th>video</th>\n",
       "    </tr>\n",
       "  </thead>\n",
       "  <tbody>\n",
       "    <tr>\n",
       "      <th>0</th>\n",
       "      <td>BLACKPINK</td>\n",
       "      <td>[음악/댄스/가수]</td>\n",
       "      <td>5140만</td>\n",
       "      <td>128억5130만</td>\n",
       "      <td>319개</td>\n",
       "    </tr>\n",
       "    <tr>\n",
       "      <th>1</th>\n",
       "      <td>Big Hit Labels</td>\n",
       "      <td>[음악/댄스/가수]</td>\n",
       "      <td>4550만</td>\n",
       "      <td>120억8966만</td>\n",
       "      <td>433개</td>\n",
       "    </tr>\n",
       "    <tr>\n",
       "      <th>2</th>\n",
       "      <td>BANGTANTV</td>\n",
       "      <td>[음악/댄스/가수]</td>\n",
       "      <td>3870만</td>\n",
       "      <td>54억7598만</td>\n",
       "      <td>1,319개</td>\n",
       "    </tr>\n",
       "    <tr>\n",
       "      <th>3</th>\n",
       "      <td>Boram Tube Vlog [보람튜브 브이로그]</td>\n",
       "      <td>[키즈/어린이]</td>\n",
       "      <td>2650만</td>\n",
       "      <td>110억5288만</td>\n",
       "      <td>223개</td>\n",
       "    </tr>\n",
       "    <tr>\n",
       "      <th>4</th>\n",
       "      <td>SMTOWN</td>\n",
       "      <td>[음악/댄스/가수]</td>\n",
       "      <td>2450만</td>\n",
       "      <td>180억7532만</td>\n",
       "      <td>3,583개</td>\n",
       "    </tr>\n",
       "  </tbody>\n",
       "</table>\n",
       "</div>"
      ],
      "text/plain": [
       "                         title    category subscriber       view   video\n",
       "0                    BLACKPINK  [음악/댄스/가수]      5140만  128억5130만    319개\n",
       "1               Big Hit Labels  [음악/댄스/가수]      4550만  120억8966만    433개\n",
       "2                    BANGTANTV  [음악/댄스/가수]      3870만   54억7598만  1,319개\n",
       "3  Boram Tube Vlog [보람튜브 브이로그]    [키즈/어린이]      2650만  110억5288만    223개\n",
       "4                       SMTOWN  [음악/댄스/가수]      2450만  180억7532만  3,583개"
      ]
     },
     "execution_count": 58,
     "metadata": {},
     "output_type": "execute_result"
    }
   ],
   "source": [
    "df= pd.read_csv('youtube_rank.csv', encoding='utf-8')\n",
    "\n",
    "df.head()"
   ]
  },
  {
   "cell_type": "markdown",
   "id": "1bf34f87-2aaa-4e21-94a2-467c3e4ddd83",
   "metadata": {},
   "source": [
    "## 컬럼 이름 변경"
   ]
  },
  {
   "cell_type": "code",
   "execution_count": 59,
   "id": "a7e17723-e8fe-4a90-8688-04e9d8bb91a2",
   "metadata": {},
   "outputs": [
    {
     "name": "stdout",
     "output_type": "stream",
     "text": [
      "<class 'pandas.core.frame.DataFrame'>\n",
      "RangeIndex: 1000 entries, 0 to 999\n",
      "Data columns (total 5 columns):\n",
      " #   Column  Non-Null Count  Dtype \n",
      "---  ------  --------------  ----- \n",
      " 0   채널명     1000 non-null   object\n",
      " 1   카테고리    1000 non-null   object\n",
      " 2   구독자수    1000 non-null   object\n",
      " 3   조회수     1000 non-null   object\n",
      " 4   영상개수    1000 non-null   object\n",
      "dtypes: object(5)\n",
      "memory usage: 39.2+ KB\n"
     ]
    }
   ],
   "source": [
    "df.columns = ['채널명', '카테고리', '구독자수', '조회수', '영상개수']\n",
    "df.info()"
   ]
  },
  {
   "cell_type": "markdown",
   "id": "86317c3d-1826-41b7-83ba-2f8e092f3e83",
   "metadata": {},
   "source": [
    "## '구독자수'컬럼과 '조회수'컬럼 타입 변경"
   ]
  },
  {
   "cell_type": "code",
   "execution_count": 62,
   "id": "13ebee1f-b1cb-4d6d-9e24-cc0de6cddf78",
   "metadata": {},
   "outputs": [],
   "source": [
    "df['구독자수'] = df['구독자수'].replace('만', '0000', regex=True).astype(np.int64)"
   ]
  },
  {
   "cell_type": "code",
   "execution_count": 64,
   "id": "65edee3b-51a2-4cb4-96d5-f68b9cacb20a",
   "metadata": {},
   "outputs": [
    {
     "name": "stdout",
     "output_type": "stream",
     "text": [
      "<class 'pandas.core.frame.DataFrame'>\n",
      "RangeIndex: 1000 entries, 0 to 999\n",
      "Data columns (total 5 columns):\n",
      " #   Column  Non-Null Count  Dtype \n",
      "---  ------  --------------  ----- \n",
      " 0   채널명     1000 non-null   object\n",
      " 1   카테고리    1000 non-null   object\n",
      " 2   구독자수    1000 non-null   int64 \n",
      " 3   조회수     1000 non-null   int64 \n",
      " 4   영상개수    1000 non-null   object\n",
      "dtypes: int64(2), object(3)\n",
      "memory usage: 39.2+ KB\n"
     ]
    }
   ],
   "source": [
    "df['조회수'] = df['조회수'].replace(['억','만'], ['','0000'], regex=True).astype(np.int64)\n",
    "\n",
    "df.info()"
   ]
  },
  {
   "cell_type": "code",
   "execution_count": 66,
   "id": "e28f4bd6-1724-40ac-927e-629ae9fe4ac7",
   "metadata": {},
   "outputs": [
    {
     "name": "stdout",
     "output_type": "stream",
     "text": [
      "<class 'pandas.core.frame.DataFrame'>\n",
      "RangeIndex: 1000 entries, 0 to 999\n",
      "Data columns (total 5 columns):\n",
      " #   Column  Non-Null Count  Dtype \n",
      "---  ------  --------------  ----- \n",
      " 0   채널명     1000 non-null   object\n",
      " 1   카테고리    1000 non-null   object\n",
      " 2   구독자수    1000 non-null   int64 \n",
      " 3   조회수     1000 non-null   int64 \n",
      " 4   영상개수    1000 non-null   int32 \n",
      "dtypes: int32(1), int64(2), object(2)\n",
      "memory usage: 35.3+ KB\n"
     ]
    }
   ],
   "source": [
    "df['영상개수'] = df['영상개수'].replace([',','개'], ['',''], regex=True).astype(np.int32)\n",
    "\n",
    "df.info()"
   ]
  },
  {
   "cell_type": "markdown",
   "id": "5aa0f5d5-5577-4d5f-a4c5-953af41a14d9",
   "metadata": {},
   "source": [
    "## 인기채널 확인하기"
   ]
  },
  {
   "cell_type": "code",
   "execution_count": 67,
   "id": "882165a0-299b-4460-bb2e-30e2097ecf5d",
   "metadata": {},
   "outputs": [
    {
     "data": {
      "text/html": [
       "<div>\n",
       "<style scoped>\n",
       "    .dataframe tbody tr th:only-of-type {\n",
       "        vertical-align: middle;\n",
       "    }\n",
       "\n",
       "    .dataframe tbody tr th {\n",
       "        vertical-align: top;\n",
       "    }\n",
       "\n",
       "    .dataframe thead th {\n",
       "        text-align: right;\n",
       "    }\n",
       "</style>\n",
       "<table border=\"1\" class=\"dataframe\">\n",
       "  <thead>\n",
       "    <tr style=\"text-align: right;\">\n",
       "      <th></th>\n",
       "      <th>채널명</th>\n",
       "      <th>카테고리</th>\n",
       "      <th>구독자수</th>\n",
       "      <th>조회수</th>\n",
       "      <th>영상개수</th>\n",
       "    </tr>\n",
       "  </thead>\n",
       "  <tbody>\n",
       "    <tr>\n",
       "      <th>0</th>\n",
       "      <td>BLACKPINK</td>\n",
       "      <td>[음악/댄스/가수]</td>\n",
       "      <td>51400000</td>\n",
       "      <td>12851300000</td>\n",
       "      <td>319</td>\n",
       "    </tr>\n",
       "    <tr>\n",
       "      <th>1</th>\n",
       "      <td>Big Hit Labels</td>\n",
       "      <td>[음악/댄스/가수]</td>\n",
       "      <td>45500000</td>\n",
       "      <td>12089660000</td>\n",
       "      <td>433</td>\n",
       "    </tr>\n",
       "    <tr>\n",
       "      <th>2</th>\n",
       "      <td>BANGTANTV</td>\n",
       "      <td>[음악/댄스/가수]</td>\n",
       "      <td>38700000</td>\n",
       "      <td>5475980000</td>\n",
       "      <td>1319</td>\n",
       "    </tr>\n",
       "    <tr>\n",
       "      <th>3</th>\n",
       "      <td>Boram Tube Vlog [보람튜브 브이로그]</td>\n",
       "      <td>[키즈/어린이]</td>\n",
       "      <td>26500000</td>\n",
       "      <td>11052880000</td>\n",
       "      <td>223</td>\n",
       "    </tr>\n",
       "    <tr>\n",
       "      <th>4</th>\n",
       "      <td>SMTOWN</td>\n",
       "      <td>[음악/댄스/가수]</td>\n",
       "      <td>24500000</td>\n",
       "      <td>18075320000</td>\n",
       "      <td>3583</td>\n",
       "    </tr>\n",
       "  </tbody>\n",
       "</table>\n",
       "</div>"
      ],
      "text/plain": [
       "                           채널명        카테고리      구독자수          조회수  영상개수\n",
       "0                    BLACKPINK  [음악/댄스/가수]  51400000  12851300000   319\n",
       "1               Big Hit Labels  [음악/댄스/가수]  45500000  12089660000   433\n",
       "2                    BANGTANTV  [음악/댄스/가수]  38700000   5475980000  1319\n",
       "3  Boram Tube Vlog [보람튜브 브이로그]    [키즈/어린이]  26500000  11052880000   223\n",
       "4                       SMTOWN  [음악/댄스/가수]  24500000  18075320000  3583"
      ]
     },
     "execution_count": 67,
     "metadata": {},
     "output_type": "execute_result"
    }
   ],
   "source": [
    "df.sort_values('구독자수', ascending=False).head()"
   ]
  },
  {
   "cell_type": "code",
   "execution_count": 68,
   "id": "472304c9-731c-49d3-99f0-932f1791f71b",
   "metadata": {},
   "outputs": [
    {
     "data": {
      "text/html": [
       "<div>\n",
       "<style scoped>\n",
       "    .dataframe tbody tr th:only-of-type {\n",
       "        vertical-align: middle;\n",
       "    }\n",
       "\n",
       "    .dataframe tbody tr th {\n",
       "        vertical-align: top;\n",
       "    }\n",
       "\n",
       "    .dataframe thead th {\n",
       "        text-align: right;\n",
       "    }\n",
       "</style>\n",
       "<table border=\"1\" class=\"dataframe\">\n",
       "  <thead>\n",
       "    <tr style=\"text-align: right;\">\n",
       "      <th></th>\n",
       "      <th>채널명</th>\n",
       "      <th>카테고리</th>\n",
       "      <th>구독자수</th>\n",
       "      <th>조회수</th>\n",
       "      <th>영상개수</th>\n",
       "    </tr>\n",
       "  </thead>\n",
       "  <tbody>\n",
       "    <tr>\n",
       "      <th>4</th>\n",
       "      <td>SMTOWN</td>\n",
       "      <td>[음악/댄스/가수]</td>\n",
       "      <td>24500000</td>\n",
       "      <td>18075320000</td>\n",
       "      <td>3583</td>\n",
       "    </tr>\n",
       "    <tr>\n",
       "      <th>6</th>\n",
       "      <td>1theK (원더케이)</td>\n",
       "      <td>[음악/댄스/가수]</td>\n",
       "      <td>20900000</td>\n",
       "      <td>17860420000</td>\n",
       "      <td>13291</td>\n",
       "    </tr>\n",
       "    <tr>\n",
       "      <th>8</th>\n",
       "      <td>ArianaGrandeVevo</td>\n",
       "      <td>[음악/댄스/가수]</td>\n",
       "      <td>18200000</td>\n",
       "      <td>14796920000</td>\n",
       "      <td>112</td>\n",
       "    </tr>\n",
       "    <tr>\n",
       "      <th>0</th>\n",
       "      <td>BLACKPINK</td>\n",
       "      <td>[음악/댄스/가수]</td>\n",
       "      <td>51400000</td>\n",
       "      <td>12851300000</td>\n",
       "      <td>319</td>\n",
       "    </tr>\n",
       "    <tr>\n",
       "      <th>1</th>\n",
       "      <td>Big Hit Labels</td>\n",
       "      <td>[음악/댄스/가수]</td>\n",
       "      <td>45500000</td>\n",
       "      <td>12089660000</td>\n",
       "      <td>433</td>\n",
       "    </tr>\n",
       "  </tbody>\n",
       "</table>\n",
       "</div>"
      ],
      "text/plain": [
       "                채널명        카테고리      구독자수          조회수   영상개수\n",
       "4            SMTOWN  [음악/댄스/가수]  24500000  18075320000   3583\n",
       "6      1theK (원더케이)  [음악/댄스/가수]  20900000  17860420000  13291\n",
       "8  ArianaGrandeVevo  [음악/댄스/가수]  18200000  14796920000    112\n",
       "0         BLACKPINK  [음악/댄스/가수]  51400000  12851300000    319\n",
       "1    Big Hit Labels  [음악/댄스/가수]  45500000  12089660000    433"
      ]
     },
     "execution_count": 68,
     "metadata": {},
     "output_type": "execute_result"
    }
   ],
   "source": [
    "df.sort_values('조회수', ascending=False).head()"
   ]
  },
  {
   "cell_type": "markdown",
   "id": "e7587667-a6a4-4bd9-9e64-3c496e6f4e18",
   "metadata": {},
   "source": [
    "## '카테고리'가 [음악/댄스/가수]\t인 채널의 '구독자수' 상위 5개 출력"
   ]
  },
  {
   "cell_type": "code",
   "execution_count": 69,
   "id": "583379b3-f880-4d5f-85b7-b7a7db02861f",
   "metadata": {},
   "outputs": [
    {
     "data": {
      "text/html": [
       "<div>\n",
       "<style scoped>\n",
       "    .dataframe tbody tr th:only-of-type {\n",
       "        vertical-align: middle;\n",
       "    }\n",
       "\n",
       "    .dataframe tbody tr th {\n",
       "        vertical-align: top;\n",
       "    }\n",
       "\n",
       "    .dataframe thead th {\n",
       "        text-align: right;\n",
       "    }\n",
       "</style>\n",
       "<table border=\"1\" class=\"dataframe\">\n",
       "  <thead>\n",
       "    <tr style=\"text-align: right;\">\n",
       "      <th></th>\n",
       "      <th>채널명</th>\n",
       "      <th>카테고리</th>\n",
       "      <th>구독자수</th>\n",
       "      <th>조회수</th>\n",
       "      <th>영상개수</th>\n",
       "    </tr>\n",
       "  </thead>\n",
       "  <tbody>\n",
       "    <tr>\n",
       "      <th>0</th>\n",
       "      <td>BLACKPINK</td>\n",
       "      <td>[음악/댄스/가수]</td>\n",
       "      <td>51400000</td>\n",
       "      <td>12851300000</td>\n",
       "      <td>319</td>\n",
       "    </tr>\n",
       "    <tr>\n",
       "      <th>1</th>\n",
       "      <td>Big Hit Labels</td>\n",
       "      <td>[음악/댄스/가수]</td>\n",
       "      <td>45500000</td>\n",
       "      <td>12089660000</td>\n",
       "      <td>433</td>\n",
       "    </tr>\n",
       "    <tr>\n",
       "      <th>2</th>\n",
       "      <td>BANGTANTV</td>\n",
       "      <td>[음악/댄스/가수]</td>\n",
       "      <td>38700000</td>\n",
       "      <td>5475980000</td>\n",
       "      <td>1319</td>\n",
       "    </tr>\n",
       "    <tr>\n",
       "      <th>4</th>\n",
       "      <td>SMTOWN</td>\n",
       "      <td>[음악/댄스/가수]</td>\n",
       "      <td>24500000</td>\n",
       "      <td>18075320000</td>\n",
       "      <td>3583</td>\n",
       "    </tr>\n",
       "    <tr>\n",
       "      <th>5</th>\n",
       "      <td>1MILLION Dance Studio</td>\n",
       "      <td>[음악/댄스/가수]</td>\n",
       "      <td>22300000</td>\n",
       "      <td>5753580000</td>\n",
       "      <td>2205</td>\n",
       "    </tr>\n",
       "  </tbody>\n",
       "</table>\n",
       "</div>"
      ],
      "text/plain": [
       "                     채널명        카테고리      구독자수          조회수  영상개수\n",
       "0              BLACKPINK  [음악/댄스/가수]  51400000  12851300000   319\n",
       "1         Big Hit Labels  [음악/댄스/가수]  45500000  12089660000   433\n",
       "2              BANGTANTV  [음악/댄스/가수]  38700000   5475980000  1319\n",
       "4                 SMTOWN  [음악/댄스/가수]  24500000  18075320000  3583\n",
       "5  1MILLION Dance Studio  [음악/댄스/가수]  22300000   5753580000  2205"
      ]
     },
     "execution_count": 69,
     "metadata": {},
     "output_type": "execute_result"
    }
   ],
   "source": [
    "df[df['카테고리'] == '[음악/댄스/가수]'].sort_values('구독자수', ascending=False).head()"
   ]
  },
  {
   "cell_type": "markdown",
   "id": "ed091637-b29a-4a75-8b3f-29a0e955198e",
   "metadata": {},
   "source": [
    "## '카테고리'가 [TV/방송]이거나 [게임]인 채널의 개수 출력"
   ]
  },
  {
   "cell_type": "code",
   "execution_count": 70,
   "id": "cc51e1ed-43e1-4cbd-b1fa-887d8db567d8",
   "metadata": {},
   "outputs": [
    {
     "data": {
      "text/plain": [
       "262"
      ]
     },
     "execution_count": 70,
     "metadata": {},
     "output_type": "execute_result"
    }
   ],
   "source": [
    "len(df[df['카테고리'].isin(['[TV/방송]', '[게임]'])])"
   ]
  },
  {
   "cell_type": "markdown",
   "id": "2f1e4d31-b98e-4d13-b19c-ba3786be9629",
   "metadata": {},
   "source": [
    "## '채널명'에 'KBS'가 포함된 채널 명을 출력하시오."
   ]
  },
  {
   "cell_type": "code",
   "execution_count": 73,
   "id": "727f8719-f656-48ab-b353-de147829d3f2",
   "metadata": {},
   "outputs": [
    {
     "data": {
      "text/plain": [
       "12                    KBS World\n",
       "46                     KBS Kpop\n",
       "76                KBS Entertain\n",
       "101                   KBS Drama\n",
       "290                    KBS 한국방송\n",
       "292           KBS Drama Classic\n",
       "308             KBS HUMAN: 뭉클티비\n",
       "389                    KBS News\n",
       "457                  KBS CoolFM\n",
       "716                       KBS N\n",
       "777                    KBS KONG\n",
       "991    KBS Documentary [KBS 다큐]\n",
       "992                      KBS 교양\n",
       "Name: 채널명, dtype: object"
      ]
     },
     "execution_count": 73,
     "metadata": {},
     "output_type": "execute_result"
    }
   ],
   "source": [
    "df[df['채널명'].str.contains('KBS')]['채널명']"
   ]
  },
  {
   "cell_type": "markdown",
   "id": "7eb90024-8aa9-4a03-bfbf-35e0e6363c96",
   "metadata": {},
   "source": [
    "## '카테고리'별 '구독자수','조회수','영상개수'의 평균 출력"
   ]
  },
  {
   "cell_type": "code",
   "execution_count": 76,
   "id": "f27930be-7f3c-4e0f-85df-715eac041528",
   "metadata": {},
   "outputs": [
    {
     "data": {
      "text/html": [
       "<div>\n",
       "<style scoped>\n",
       "    .dataframe tbody tr th:only-of-type {\n",
       "        vertical-align: middle;\n",
       "    }\n",
       "\n",
       "    .dataframe tbody tr th {\n",
       "        vertical-align: top;\n",
       "    }\n",
       "\n",
       "    .dataframe thead th {\n",
       "        text-align: right;\n",
       "    }\n",
       "</style>\n",
       "<table border=\"1\" class=\"dataframe\">\n",
       "  <thead>\n",
       "    <tr style=\"text-align: right;\">\n",
       "      <th></th>\n",
       "      <th>구독자수</th>\n",
       "      <th>조회수</th>\n",
       "      <th>영상개수</th>\n",
       "    </tr>\n",
       "    <tr>\n",
       "      <th>카테고리</th>\n",
       "      <th></th>\n",
       "      <th></th>\n",
       "      <th></th>\n",
       "    </tr>\n",
       "  </thead>\n",
       "  <tbody>\n",
       "    <tr>\n",
       "      <th>[BJ/인물/연예인]</th>\n",
       "      <td>1274411.76</td>\n",
       "      <td>4.101549e+08</td>\n",
       "      <td>837.74</td>\n",
       "    </tr>\n",
       "    <tr>\n",
       "      <th>[IT/기술/컴퓨터]</th>\n",
       "      <td>806250.00</td>\n",
       "      <td>1.766100e+08</td>\n",
       "      <td>1200.12</td>\n",
       "    </tr>\n",
       "    <tr>\n",
       "      <th>[TV/방송]</th>\n",
       "      <td>1219875.78</td>\n",
       "      <td>7.184834e+08</td>\n",
       "      <td>9025.13</td>\n",
       "    </tr>\n",
       "    <tr>\n",
       "      <th>[게임]</th>\n",
       "      <td>743564.36</td>\n",
       "      <td>4.542535e+08</td>\n",
       "      <td>2527.01</td>\n",
       "    </tr>\n",
       "    <tr>\n",
       "      <th>[교육/강의]</th>\n",
       "      <td>851304.35</td>\n",
       "      <td>1.772183e+08</td>\n",
       "      <td>837.91</td>\n",
       "    </tr>\n",
       "    <tr>\n",
       "      <th>[국내/해외/여행]</th>\n",
       "      <td>626000.00</td>\n",
       "      <td>1.866240e+08</td>\n",
       "      <td>830.20</td>\n",
       "    </tr>\n",
       "    <tr>\n",
       "      <th>[뉴스/정치/사회]</th>\n",
       "      <td>1226964.29</td>\n",
       "      <td>1.199936e+09</td>\n",
       "      <td>42048.09</td>\n",
       "    </tr>\n",
       "    <tr>\n",
       "      <th>[미분류]</th>\n",
       "      <td>1429500.00</td>\n",
       "      <td>4.090340e+08</td>\n",
       "      <td>778.05</td>\n",
       "    </tr>\n",
       "    <tr>\n",
       "      <th>[스포츠/운동]</th>\n",
       "      <td>932500.00</td>\n",
       "      <td>2.791892e+08</td>\n",
       "      <td>3954.92</td>\n",
       "    </tr>\n",
       "    <tr>\n",
       "      <th>[애완/반려동물]</th>\n",
       "      <td>1161000.00</td>\n",
       "      <td>4.213170e+08</td>\n",
       "      <td>786.25</td>\n",
       "    </tr>\n",
       "    <tr>\n",
       "      <th>[영화/만화/애니]</th>\n",
       "      <td>852727.27</td>\n",
       "      <td>3.185870e+08</td>\n",
       "      <td>770.18</td>\n",
       "    </tr>\n",
       "    <tr>\n",
       "      <th>[음식/요리/레시피]</th>\n",
       "      <td>1612045.45</td>\n",
       "      <td>4.073819e+08</td>\n",
       "      <td>830.02</td>\n",
       "    </tr>\n",
       "    <tr>\n",
       "      <th>[음악/댄스/가수]</th>\n",
       "      <td>3195200.00</td>\n",
       "      <td>1.091668e+09</td>\n",
       "      <td>1382.05</td>\n",
       "    </tr>\n",
       "    <tr>\n",
       "      <th>[자동차]</th>\n",
       "      <td>490000.00</td>\n",
       "      <td>1.856150e+08</td>\n",
       "      <td>670.00</td>\n",
       "    </tr>\n",
       "    <tr>\n",
       "      <th>[주식/경제/부동산]</th>\n",
       "      <td>626000.00</td>\n",
       "      <td>6.800000e+07</td>\n",
       "      <td>1026.40</td>\n",
       "    </tr>\n",
       "    <tr>\n",
       "      <th>[취미/라이프]</th>\n",
       "      <td>974500.00</td>\n",
       "      <td>2.043118e+08</td>\n",
       "      <td>359.32</td>\n",
       "    </tr>\n",
       "    <tr>\n",
       "      <th>[취미]</th>\n",
       "      <td>560000.00</td>\n",
       "      <td>1.061500e+08</td>\n",
       "      <td>237.00</td>\n",
       "    </tr>\n",
       "    <tr>\n",
       "      <th>[키즈/어린이]</th>\n",
       "      <td>2729157.89</td>\n",
       "      <td>1.281384e+09</td>\n",
       "      <td>1069.16</td>\n",
       "    </tr>\n",
       "    <tr>\n",
       "      <th>[패션/미용]</th>\n",
       "      <td>823859.65</td>\n",
       "      <td>1.043774e+08</td>\n",
       "      <td>313.16</td>\n",
       "    </tr>\n",
       "    <tr>\n",
       "      <th>[해외]</th>\n",
       "      <td>1595000.00</td>\n",
       "      <td>8.382533e+08</td>\n",
       "      <td>5043.50</td>\n",
       "    </tr>\n",
       "    <tr>\n",
       "      <th>[회사/오피셜]</th>\n",
       "      <td>2202500.00</td>\n",
       "      <td>4.966125e+08</td>\n",
       "      <td>2084.25</td>\n",
       "    </tr>\n",
       "  </tbody>\n",
       "</table>\n",
       "</div>"
      ],
      "text/plain": [
       "                   구독자수           조회수      영상개수\n",
       "카테고리                                           \n",
       "[BJ/인물/연예인]  1274411.76  4.101549e+08    837.74\n",
       "[IT/기술/컴퓨터]   806250.00  1.766100e+08   1200.12\n",
       "[TV/방송]      1219875.78  7.184834e+08   9025.13\n",
       "[게임]          743564.36  4.542535e+08   2527.01\n",
       "[교육/강의]       851304.35  1.772183e+08    837.91\n",
       "[국내/해외/여행]    626000.00  1.866240e+08    830.20\n",
       "[뉴스/정치/사회]   1226964.29  1.199936e+09  42048.09\n",
       "[미분류]        1429500.00  4.090340e+08    778.05\n",
       "[스포츠/운동]      932500.00  2.791892e+08   3954.92\n",
       "[애완/반려동물]    1161000.00  4.213170e+08    786.25\n",
       "[영화/만화/애니]    852727.27  3.185870e+08    770.18\n",
       "[음식/요리/레시피]  1612045.45  4.073819e+08    830.02\n",
       "[음악/댄스/가수]   3195200.00  1.091668e+09   1382.05\n",
       "[자동차]         490000.00  1.856150e+08    670.00\n",
       "[주식/경제/부동산]   626000.00  6.800000e+07   1026.40\n",
       "[취미/라이프]      974500.00  2.043118e+08    359.32\n",
       "[취미]          560000.00  1.061500e+08    237.00\n",
       "[키즈/어린이]     2729157.89  1.281384e+09   1069.16\n",
       "[패션/미용]       823859.65  1.043774e+08    313.16\n",
       "[해외]         1595000.00  8.382533e+08   5043.50\n",
       "[회사/오피셜]     2202500.00  4.966125e+08   2084.25"
      ]
     },
     "execution_count": 76,
     "metadata": {},
     "output_type": "execute_result"
    }
   ],
   "source": [
    "df.groupby('카테고리')[['구독자수', '조회수','영상개수']].mean().round(2)"
   ]
  }
 ],
 "metadata": {
  "kernelspec": {
   "display_name": "Python 3 (ipykernel)",
   "language": "python",
   "name": "python3"
  },
  "language_info": {
   "codemirror_mode": {
    "name": "ipython",
    "version": 3
   },
   "file_extension": ".py",
   "mimetype": "text/x-python",
   "name": "python",
   "nbconvert_exporter": "python",
   "pygments_lexer": "ipython3",
   "version": "3.11.5"
  }
 },
 "nbformat": 4,
 "nbformat_minor": 5
}
