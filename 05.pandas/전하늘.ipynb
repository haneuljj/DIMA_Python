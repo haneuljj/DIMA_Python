{
 "cells": [
  {
   "cell_type": "markdown",
   "id": "f2a8efb5-38cf-4c48-814b-f24bd36ff3df",
   "metadata": {},
   "source": [
    "# Numpy"
   ]
  },
  {
   "cell_type": "markdown",
   "id": "8af74b81-1c18-4a9a-82ff-151a3c34780e",
   "metadata": {},
   "source": [
    "## 1. 다음 보기와 같이 0이상 10미만의 3x3모양의 정수 난수를 생성하고 각 행의 첫번째 값으로 정렬하시오."
   ]
  },
  {
   "cell_type": "code",
   "execution_count": 2,
   "id": "9ac7c923-d881-46ac-8c7e-3d26a15941d3",
   "metadata": {},
   "outputs": [
    {
     "data": {
      "text/plain": [
       "array([[0, 2, 0],\n",
       "       [3, 0, 0],\n",
       "       [3, 4, 3]])"
      ]
     },
     "execution_count": 2,
     "metadata": {},
     "output_type": "execute_result"
    }
   ],
   "source": [
    "import numpy as np\n",
    "\n",
    "array1 = np.random.randint(0,11, (3,3))\n",
    "array1[:,0].sort()\n",
    "array1"
   ]
  },
  {
   "cell_type": "markdown",
   "id": "7bbfe534-b29e-43b4-b7bc-cdf437adc9bb",
   "metadata": {},
   "source": [
    "## 2. 8x8 모양의 정수 0으로 채워진 행렬을 만들고 인덱싱과 슬라이싱을 이용하여 다음과 같은 체크보드 패턴을 만드시오"
   ]
  },
  {
   "cell_type": "code",
   "execution_count": 19,
   "id": "59a9ce56-8378-4cb6-87ad-f7165da68956",
   "metadata": {},
   "outputs": [
    {
     "data": {
      "text/plain": [
       "array([[0, 1, 0, 1, 0, 1, 0, 1],\n",
       "       [1, 0, 1, 0, 1, 0, 1, 0],\n",
       "       [0, 1, 0, 1, 0, 1, 0, 1],\n",
       "       [1, 0, 1, 0, 1, 0, 1, 0],\n",
       "       [0, 1, 0, 1, 0, 1, 0, 1],\n",
       "       [1, 0, 1, 0, 1, 0, 1, 0],\n",
       "       [0, 1, 0, 1, 0, 1, 0, 1],\n",
       "       [1, 0, 1, 0, 1, 0, 1, 0]])"
      ]
     },
     "execution_count": 19,
     "metadata": {},
     "output_type": "execute_result"
    }
   ],
   "source": [
    "a = np.zeros((8,8), dtype='int')\n",
    "a[1::2, ::2] = 1\n",
    "a[::2, 1::2] = 1\n",
    "a"
   ]
  },
  {
   "cell_type": "markdown",
   "id": "62539b09-e611-4d51-a1f2-8319c8bf945c",
   "metadata": {},
   "source": [
    "## 3. [0,1)사이의 값을 갖는 크기 10의 랜덤 벡터를 만들고 최대값을 0으로 바꾸는 코드를 만드시오."
   ]
  },
  {
   "cell_type": "code",
   "execution_count": 4,
   "id": "0237c11e-6ba8-4818-81f9-0f971855ede8",
   "metadata": {},
   "outputs": [
    {
     "data": {
      "text/plain": [
       "array([0.57325758, 0.74416039, 0.38631513, 0.        , 0.34825444,\n",
       "       0.83101374, 0.26082334, 0.06451846, 0.53829856, 0.20255014])"
      ]
     },
     "execution_count": 4,
     "metadata": {},
     "output_type": "execute_result"
    }
   ],
   "source": [
    "rand_vect = np.random.rand(10)\n",
    "rand_vect[rand_vect.argmax()] = 0\n",
    "rand_vect"
   ]
  },
  {
   "cell_type": "markdown",
   "id": "819e81f8-67d6-4b93-b3cb-b5212e083859",
   "metadata": {},
   "source": [
    "# pandas"
   ]
  },
  {
   "cell_type": "markdown",
   "id": "53fa74c9-8eb7-40f1-843c-d2155650aa72",
   "metadata": {},
   "source": [
    "# 1. 월드컵 출전선수 골 기록 데이터 분석"
   ]
  },
  {
   "cell_type": "code",
   "execution_count": 5,
   "id": "2de5d27a-ac5e-4b93-b5c1-73ecb79c5c05",
   "metadata": {},
   "outputs": [
    {
     "data": {
      "text/html": [
       "<div>\n",
       "<style scoped>\n",
       "    .dataframe tbody tr th:only-of-type {\n",
       "        vertical-align: middle;\n",
       "    }\n",
       "\n",
       "    .dataframe tbody tr th {\n",
       "        vertical-align: top;\n",
       "    }\n",
       "\n",
       "    .dataframe thead th {\n",
       "        text-align: right;\n",
       "    }\n",
       "</style>\n",
       "<table border=\"1\" class=\"dataframe\">\n",
       "  <thead>\n",
       "    <tr style=\"text-align: right;\">\n",
       "      <th></th>\n",
       "      <th>Player</th>\n",
       "      <th>Goals</th>\n",
       "      <th>Years</th>\n",
       "      <th>Country</th>\n",
       "    </tr>\n",
       "  </thead>\n",
       "  <tbody>\n",
       "    <tr>\n",
       "      <th>0</th>\n",
       "      <td>Miroslav Klose</td>\n",
       "      <td>16</td>\n",
       "      <td>2002-2006-2010-2014</td>\n",
       "      <td>Germany</td>\n",
       "    </tr>\n",
       "    <tr>\n",
       "      <th>1</th>\n",
       "      <td>Ronaldo</td>\n",
       "      <td>15</td>\n",
       "      <td>1998-2002-2006</td>\n",
       "      <td>Brazil</td>\n",
       "    </tr>\n",
       "    <tr>\n",
       "      <th>2</th>\n",
       "      <td>Gerd Muller</td>\n",
       "      <td>14</td>\n",
       "      <td>1970-1974</td>\n",
       "      <td>Germany</td>\n",
       "    </tr>\n",
       "    <tr>\n",
       "      <th>3</th>\n",
       "      <td>Just Fontaine</td>\n",
       "      <td>13</td>\n",
       "      <td>1958</td>\n",
       "      <td>France</td>\n",
       "    </tr>\n",
       "    <tr>\n",
       "      <th>4</th>\n",
       "      <td>Pele</td>\n",
       "      <td>12</td>\n",
       "      <td>1958-1962-1966-1970</td>\n",
       "      <td>Brazil</td>\n",
       "    </tr>\n",
       "  </tbody>\n",
       "</table>\n",
       "</div>"
      ],
      "text/plain": [
       "           Player  Goals                Years  Country\n",
       "0  Miroslav Klose     16  2002-2006-2010-2014  Germany\n",
       "1         Ronaldo     15       1998-2002-2006   Brazil\n",
       "2     Gerd Muller     14            1970-1974  Germany\n",
       "3   Just Fontaine     13                 1958   France\n",
       "4            Pele     12  1958-1962-1966-1970   Brazil"
      ]
     },
     "execution_count": 5,
     "metadata": {},
     "output_type": "execute_result"
    }
   ],
   "source": [
    "import pandas as pd\n",
    "\n",
    "df = pd.read_csv('worldcupgoals.csv')\n",
    "df.head()"
   ]
  },
  {
   "cell_type": "code",
   "execution_count": 8,
   "id": "d191ef9b-f1a5-4953-b1f5-0b823eb98a87",
   "metadata": {},
   "outputs": [
    {
     "name": "stdout",
     "output_type": "stream",
     "text": [
      "<class 'pandas.core.frame.DataFrame'>\n",
      "RangeIndex: 1295 entries, 0 to 1294\n",
      "Data columns (total 4 columns):\n",
      " #   Column   Non-Null Count  Dtype \n",
      "---  ------   --------------  ----- \n",
      " 0   Player   1295 non-null   object\n",
      " 1   Goals    1295 non-null   int64 \n",
      " 2   Years    1295 non-null   object\n",
      " 3   Country  1295 non-null   object\n",
      "dtypes: int64(1), object(3)\n",
      "memory usage: 40.6+ KB\n"
     ]
    }
   ],
   "source": [
    "df.info()"
   ]
  },
  {
   "cell_type": "code",
   "execution_count": 9,
   "id": "4c14dc49-f5a3-462a-b2a8-3b1b35fa8a2b",
   "metadata": {},
   "outputs": [
    {
     "data": {
      "text/plain": [
       "(1295, 4)"
      ]
     },
     "execution_count": 9,
     "metadata": {},
     "output_type": "execute_result"
    }
   ],
   "source": [
    "df.shape"
   ]
  },
  {
   "cell_type": "markdown",
   "id": "de32c510-80a2-4433-ab56-e6609ac7d36d",
   "metadata": {},
   "source": [
    "## 주어진 전체 기간의 각 나라별 골 득점수 합계 상위 5개 국가와 그 득점수를 출력하시오."
   ]
  },
  {
   "cell_type": "code",
   "execution_count": 40,
   "id": "df6a5275-b1fd-4c0f-b075-119834951605",
   "metadata": {},
   "outputs": [
    {
     "data": {
      "text/html": [
       "<div>\n",
       "<style scoped>\n",
       "    .dataframe tbody tr th:only-of-type {\n",
       "        vertical-align: middle;\n",
       "    }\n",
       "\n",
       "    .dataframe tbody tr th {\n",
       "        vertical-align: top;\n",
       "    }\n",
       "\n",
       "    .dataframe thead th {\n",
       "        text-align: right;\n",
       "    }\n",
       "</style>\n",
       "<table border=\"1\" class=\"dataframe\">\n",
       "  <thead>\n",
       "    <tr style=\"text-align: right;\">\n",
       "      <th></th>\n",
       "      <th>Goals</th>\n",
       "    </tr>\n",
       "    <tr>\n",
       "      <th>Country</th>\n",
       "      <th></th>\n",
       "    </tr>\n",
       "  </thead>\n",
       "  <tbody>\n",
       "    <tr>\n",
       "      <th>Brazil</th>\n",
       "      <td>228</td>\n",
       "    </tr>\n",
       "    <tr>\n",
       "      <th>Germany</th>\n",
       "      <td>226</td>\n",
       "    </tr>\n",
       "    <tr>\n",
       "      <th>Argentina</th>\n",
       "      <td>135</td>\n",
       "    </tr>\n",
       "    <tr>\n",
       "      <th>Italy</th>\n",
       "      <td>123</td>\n",
       "    </tr>\n",
       "    <tr>\n",
       "      <th>France</th>\n",
       "      <td>115</td>\n",
       "    </tr>\n",
       "  </tbody>\n",
       "</table>\n",
       "</div>"
      ],
      "text/plain": [
       "           Goals\n",
       "Country         \n",
       "Brazil       228\n",
       "Germany      226\n",
       "Argentina    135\n",
       "Italy        123\n",
       "France       115"
      ]
     },
     "execution_count": 40,
     "metadata": {},
     "output_type": "execute_result"
    }
   ],
   "source": [
    "df.groupby(df['Country'])[['Goals']].sum().sort_values('Goals', ascending=False).head(5)"
   ]
  },
  {
   "cell_type": "markdown",
   "id": "057ca8b7-2b4e-4a2a-8db1-847bb43ba6b4",
   "metadata": {},
   "source": [
    "## 주어진 전체기간동안 골득점을 한 선수가 가장 많은 나라 상위 5개 국가와 그 선수 숫자를 출력하시오."
   ]
  },
  {
   "cell_type": "code",
   "execution_count": 41,
   "id": "772a6b51-34ce-44dd-bbb0-8cd1ee1d2a02",
   "metadata": {},
   "outputs": [
    {
     "data": {
      "text/html": [
       "<div>\n",
       "<style scoped>\n",
       "    .dataframe tbody tr th:only-of-type {\n",
       "        vertical-align: middle;\n",
       "    }\n",
       "\n",
       "    .dataframe tbody tr th {\n",
       "        vertical-align: top;\n",
       "    }\n",
       "\n",
       "    .dataframe thead th {\n",
       "        text-align: right;\n",
       "    }\n",
       "</style>\n",
       "<table border=\"1\" class=\"dataframe\">\n",
       "  <thead>\n",
       "    <tr style=\"text-align: right;\">\n",
       "      <th></th>\n",
       "      <th>Player</th>\n",
       "    </tr>\n",
       "    <tr>\n",
       "      <th>Country</th>\n",
       "      <th></th>\n",
       "    </tr>\n",
       "  </thead>\n",
       "  <tbody>\n",
       "    <tr>\n",
       "      <th>Brazil</th>\n",
       "      <td>81</td>\n",
       "    </tr>\n",
       "    <tr>\n",
       "      <th>Germany</th>\n",
       "      <td>78</td>\n",
       "    </tr>\n",
       "    <tr>\n",
       "      <th>Italy</th>\n",
       "      <td>60</td>\n",
       "    </tr>\n",
       "    <tr>\n",
       "      <th>Argentina</th>\n",
       "      <td>59</td>\n",
       "    </tr>\n",
       "    <tr>\n",
       "      <th>France</th>\n",
       "      <td>58</td>\n",
       "    </tr>\n",
       "  </tbody>\n",
       "</table>\n",
       "</div>"
      ],
      "text/plain": [
       "           Player\n",
       "Country          \n",
       "Brazil         81\n",
       "Germany        78\n",
       "Italy          60\n",
       "Argentina      59\n",
       "France         58"
      ]
     },
     "execution_count": 41,
     "metadata": {},
     "output_type": "execute_result"
    }
   ],
   "source": [
    "df.groupby(df['Country'])[['Player']].count().sort_values('Player', ascending=False).head(5)"
   ]
  },
  {
   "cell_type": "markdown",
   "id": "8ab0ebbb-b1c2-4c4d-87d3-90c612616f65",
   "metadata": {},
   "source": [
    "## Years 컬럼은 년도-년도 형식으로 구성되어있고, 각 년도는 4자리 숫자이다. 각 년도 표기가 4자리 숫자로 안된 케이스가 존재한다. 해당 건은 몇 건인지 출력하시오."
   ]
  },
  {
   "cell_type": "code",
   "execution_count": 6,
   "id": "181ef496-1021-49e2-9a7e-c547ef0f84d2",
   "metadata": {},
   "outputs": [
    {
     "data": {
      "text/plain": [
       "45"
      ]
     },
     "execution_count": 6,
     "metadata": {},
     "output_type": "execute_result"
    }
   ],
   "source": [
    "len(df[~df['Years'].str.contains('\\d{4}[-\\d{4}]*', regex=True)])"
   ]
  },
  {
   "cell_type": "markdown",
   "id": "f24c35f9-bf18-456a-aae3-c97b267eeff6",
   "metadata": {},
   "source": [
    "## 3번 문제에서 발생한 예외 케이스를 제외한 새로운 데이터 프레임을 생성하고 전체데이터 행의 숫자를 출력하시오."
   ]
  },
  {
   "cell_type": "code",
   "execution_count": 7,
   "id": "ca9f0faf-6aab-4336-8528-4565436bd0ef",
   "metadata": {},
   "outputs": [
    {
     "data": {
      "text/plain": [
       "1250"
      ]
     },
     "execution_count": 7,
     "metadata": {},
     "output_type": "execute_result"
    }
   ],
   "source": [
    "non_year_index = df[~df['Years'].str.contains('\\d{4}[-\\d{4}]*', regex=True)].index\n",
    "\n",
    "df = df.drop(non_year_index)\n",
    "\n",
    "len(df)"
   ]
  },
  {
   "cell_type": "markdown",
   "id": "1594bd6e-7ddf-4f3d-bc30-7fb545217ae6",
   "metadata": {},
   "source": [
    "## 월드컵 출전횟수를 나타내는 'LenCup'컬럼을 추가하고 4회 출전한 선수의 숫자를 구하시오"
   ]
  },
  {
   "cell_type": "code",
   "execution_count": 50,
   "id": "4c865f67-91bb-4734-9cfb-8f63fcfa7541",
   "metadata": {},
   "outputs": [
    {
     "data": {
      "text/html": [
       "<div>\n",
       "<style scoped>\n",
       "    .dataframe tbody tr th:only-of-type {\n",
       "        vertical-align: middle;\n",
       "    }\n",
       "\n",
       "    .dataframe tbody tr th {\n",
       "        vertical-align: top;\n",
       "    }\n",
       "\n",
       "    .dataframe thead th {\n",
       "        text-align: right;\n",
       "    }\n",
       "</style>\n",
       "<table border=\"1\" class=\"dataframe\">\n",
       "  <thead>\n",
       "    <tr style=\"text-align: right;\">\n",
       "      <th></th>\n",
       "      <th>Player</th>\n",
       "      <th>Goals</th>\n",
       "      <th>Years</th>\n",
       "      <th>Country</th>\n",
       "      <th>LenCup</th>\n",
       "    </tr>\n",
       "  </thead>\n",
       "  <tbody>\n",
       "    <tr>\n",
       "      <th>0</th>\n",
       "      <td>Miroslav Klose</td>\n",
       "      <td>16</td>\n",
       "      <td>2002-2006-2010-2014</td>\n",
       "      <td>Germany</td>\n",
       "      <td>4</td>\n",
       "    </tr>\n",
       "    <tr>\n",
       "      <th>1</th>\n",
       "      <td>Ronaldo</td>\n",
       "      <td>15</td>\n",
       "      <td>1998-2002-2006</td>\n",
       "      <td>Brazil</td>\n",
       "      <td>3</td>\n",
       "    </tr>\n",
       "    <tr>\n",
       "      <th>2</th>\n",
       "      <td>Gerd Muller</td>\n",
       "      <td>14</td>\n",
       "      <td>1970-1974</td>\n",
       "      <td>Germany</td>\n",
       "      <td>2</td>\n",
       "    </tr>\n",
       "    <tr>\n",
       "      <th>3</th>\n",
       "      <td>Just Fontaine</td>\n",
       "      <td>13</td>\n",
       "      <td>1958</td>\n",
       "      <td>France</td>\n",
       "      <td>1</td>\n",
       "    </tr>\n",
       "    <tr>\n",
       "      <th>4</th>\n",
       "      <td>Pele</td>\n",
       "      <td>12</td>\n",
       "      <td>1958-1962-1966-1970</td>\n",
       "      <td>Brazil</td>\n",
       "      <td>4</td>\n",
       "    </tr>\n",
       "    <tr>\n",
       "      <th>...</th>\n",
       "      <td>...</td>\n",
       "      <td>...</td>\n",
       "      <td>...</td>\n",
       "      <td>...</td>\n",
       "      <td>...</td>\n",
       "    </tr>\n",
       "    <tr>\n",
       "      <th>1290</th>\n",
       "      <td>Josip Skoblar</td>\n",
       "      <td>1</td>\n",
       "      <td>1962</td>\n",
       "      <td>Yugoslavia</td>\n",
       "      <td>1</td>\n",
       "    </tr>\n",
       "    <tr>\n",
       "      <th>1291</th>\n",
       "      <td>Safet Susic</td>\n",
       "      <td>1</td>\n",
       "      <td>1982-1990</td>\n",
       "      <td>Yugoslavia</td>\n",
       "      <td>2</td>\n",
       "    </tr>\n",
       "    <tr>\n",
       "      <th>1292</th>\n",
       "      <td>Aleksandar Tirnanic</td>\n",
       "      <td>1</td>\n",
       "      <td>1930</td>\n",
       "      <td>Yugoslavia</td>\n",
       "      <td>1</td>\n",
       "    </tr>\n",
       "    <tr>\n",
       "      <th>1293</th>\n",
       "      <td>Djordje Vujadinovic</td>\n",
       "      <td>1</td>\n",
       "      <td>1930</td>\n",
       "      <td>Yugoslavia</td>\n",
       "      <td>1</td>\n",
       "    </tr>\n",
       "    <tr>\n",
       "      <th>1294</th>\n",
       "      <td>Branko Zebec</td>\n",
       "      <td>1</td>\n",
       "      <td>1954-1958</td>\n",
       "      <td>Yugoslavia</td>\n",
       "      <td>2</td>\n",
       "    </tr>\n",
       "  </tbody>\n",
       "</table>\n",
       "<p>1250 rows × 5 columns</p>\n",
       "</div>"
      ],
      "text/plain": [
       "                   Player  Goals                Years     Country LenCup\n",
       "0          Miroslav Klose     16  2002-2006-2010-2014     Germany      4\n",
       "1                 Ronaldo     15       1998-2002-2006      Brazil      3\n",
       "2             Gerd Muller     14            1970-1974     Germany      2\n",
       "3           Just Fontaine     13                 1958      France      1\n",
       "4                    Pele     12  1958-1962-1966-1970      Brazil      4\n",
       "...                   ...    ...                  ...         ...    ...\n",
       "1290        Josip Skoblar      1                 1962  Yugoslavia      1\n",
       "1291          Safet Susic      1            1982-1990  Yugoslavia      2\n",
       "1292  Aleksandar Tirnanic      1                 1930  Yugoslavia      1\n",
       "1293  Djordje Vujadinovic      1                 1930  Yugoslavia      1\n",
       "1294         Branko Zebec      1            1954-1958  Yugoslavia      2\n",
       "\n",
       "[1250 rows x 5 columns]"
      ]
     },
     "execution_count": 50,
     "metadata": {},
     "output_type": "execute_result"
    }
   ],
   "source": [
    "# lencup컬럼 추가하기\n",
    "import re\n",
    "\n",
    "lencup_list = []\n",
    "for i in df['Years']:\n",
    "    if re.match('\\d{4}-\\d{4}-\\d{4}-\\d{4}', i):\n",
    "        lencup_list.append('4')\n",
    "    elif re.match('\\d{4}-\\d{4}-\\d{4}', i):\n",
    "        lencup_list.append('3')\n",
    "    elif re.match('\\d{4}-\\d{4}', i):\n",
    "        lencup_list.append('2')\n",
    "    elif re.match('\\d{4}', i):\n",
    "        lencup_list.append('1')\n",
    "\n",
    "#print(lencup_list)\n",
    "df['LenCup'] = lencup_list\n",
    "df"
   ]
  },
  {
   "cell_type": "code",
   "execution_count": 52,
   "id": "7513d888-f7fe-44a4-841e-c6d5202a9c77",
   "metadata": {},
   "outputs": [
    {
     "data": {
      "text/plain": [
       "16"
      ]
     },
     "execution_count": 52,
     "metadata": {},
     "output_type": "execute_result"
    }
   ],
   "source": [
    "# 4회 출전한 선수의 수\n",
    "len(df[df['LenCup'] == '4'])"
   ]
  },
  {
   "cell_type": "markdown",
   "id": "f5cff2e3-7a46-49fb-9cce-b19df97499a2",
   "metadata": {},
   "source": [
    "## yugoslavia 국가의 월드컵 출전횟수가 2회인 선수들의 숫자를 구하시오."
   ]
  },
  {
   "cell_type": "code",
   "execution_count": 54,
   "id": "42410346-ff25-4915-9ed3-87c0c36892ab",
   "metadata": {},
   "outputs": [
    {
     "data": {
      "text/plain": [
       "7"
      ]
     },
     "execution_count": 54,
     "metadata": {},
     "output_type": "execute_result"
    }
   ],
   "source": [
    "len(df[np.logical_and(df['Country'] == 'Yugoslavia', df['LenCup'] == '2')])"
   ]
  },
  {
   "cell_type": "markdown",
   "id": "95bd0a3c-c2bd-4368-9256-fb5c379dda8e",
   "metadata": {},
   "source": [
    "## 2002년도에 출전한 전체 선수 수를 구하시오"
   ]
  },
  {
   "cell_type": "code",
   "execution_count": 56,
   "id": "cb241013-b928-49fc-a92a-0451f591164c",
   "metadata": {},
   "outputs": [
    {
     "data": {
      "text/plain": [
       "156"
      ]
     },
     "execution_count": 56,
     "metadata": {},
     "output_type": "execute_result"
    }
   ],
   "source": [
    "len(df[df['Years'].str.contains('2002')])"
   ]
  },
  {
   "cell_type": "markdown",
   "id": "a1b415f9-87a3-4650-b4da-10d032f1d3fd",
   "metadata": {},
   "source": [
    "## 월드컵 출전 횟수가 1회 뿐인 선수들 중에서 가장 많은 득점을 올렸던 선수는 누구이며 몇 골을 넣었는지 구하시오"
   ]
  },
  {
   "cell_type": "code",
   "execution_count": 64,
   "id": "54d036fb-5f8b-4ea3-b041-6b4cac8aecdd",
   "metadata": {},
   "outputs": [
    {
     "data": {
      "text/html": [
       "<div>\n",
       "<style scoped>\n",
       "    .dataframe tbody tr th:only-of-type {\n",
       "        vertical-align: middle;\n",
       "    }\n",
       "\n",
       "    .dataframe tbody tr th {\n",
       "        vertical-align: top;\n",
       "    }\n",
       "\n",
       "    .dataframe thead th {\n",
       "        text-align: right;\n",
       "    }\n",
       "</style>\n",
       "<table border=\"1\" class=\"dataframe\">\n",
       "  <thead>\n",
       "    <tr style=\"text-align: right;\">\n",
       "      <th></th>\n",
       "      <th>Player</th>\n",
       "      <th>Goals</th>\n",
       "      <th>LenCup</th>\n",
       "    </tr>\n",
       "  </thead>\n",
       "  <tbody>\n",
       "    <tr>\n",
       "      <th>3</th>\n",
       "      <td>Just Fontaine</td>\n",
       "      <td>13</td>\n",
       "      <td>1</td>\n",
       "    </tr>\n",
       "  </tbody>\n",
       "</table>\n",
       "</div>"
      ],
      "text/plain": [
       "          Player  Goals LenCup\n",
       "3  Just Fontaine     13      1"
      ]
     },
     "execution_count": 64,
     "metadata": {},
     "output_type": "execute_result"
    }
   ],
   "source": [
    "df[df['LenCup'] == '1'][['Player','Goals','LenCup']].sort_values('Goals', ascending=False).head(1)"
   ]
  },
  {
   "cell_type": "markdown",
   "id": "b8f9a15e-e512-4054-8d30-e75184074d74",
   "metadata": {},
   "source": [
    "# 2. 전세계 행복도 지수 데이터 분석"
   ]
  },
  {
   "cell_type": "code",
   "execution_count": 9,
   "id": "170d4a07-2f4d-4a0d-b21b-effe4b957252",
   "metadata": {},
   "outputs": [
    {
     "data": {
      "text/html": [
       "<div>\n",
       "<style scoped>\n",
       "    .dataframe tbody tr th:only-of-type {\n",
       "        vertical-align: middle;\n",
       "    }\n",
       "\n",
       "    .dataframe tbody tr th {\n",
       "        vertical-align: top;\n",
       "    }\n",
       "\n",
       "    .dataframe thead th {\n",
       "        text-align: right;\n",
       "    }\n",
       "</style>\n",
       "<table border=\"1\" class=\"dataframe\">\n",
       "  <thead>\n",
       "    <tr style=\"text-align: right;\">\n",
       "      <th></th>\n",
       "      <th>행복랭킹</th>\n",
       "      <th>나라명</th>\n",
       "      <th>점수</th>\n",
       "      <th>상대GDP</th>\n",
       "      <th>사회적지원</th>\n",
       "      <th>행복기대치</th>\n",
       "      <th>선택의 자유도</th>\n",
       "      <th>관대함</th>\n",
       "      <th>부패에 대한인식</th>\n",
       "      <th>년도</th>\n",
       "    </tr>\n",
       "  </thead>\n",
       "  <tbody>\n",
       "    <tr>\n",
       "      <th>0</th>\n",
       "      <td>1</td>\n",
       "      <td>Finland</td>\n",
       "      <td>7.769</td>\n",
       "      <td>1.340</td>\n",
       "      <td>1.587</td>\n",
       "      <td>0.986</td>\n",
       "      <td>0.596</td>\n",
       "      <td>0.153</td>\n",
       "      <td>0.393</td>\n",
       "      <td>2019</td>\n",
       "    </tr>\n",
       "    <tr>\n",
       "      <th>1</th>\n",
       "      <td>2</td>\n",
       "      <td>Denmark</td>\n",
       "      <td>7.600</td>\n",
       "      <td>1.383</td>\n",
       "      <td>1.573</td>\n",
       "      <td>0.996</td>\n",
       "      <td>0.592</td>\n",
       "      <td>0.252</td>\n",
       "      <td>0.410</td>\n",
       "      <td>2019</td>\n",
       "    </tr>\n",
       "    <tr>\n",
       "      <th>2</th>\n",
       "      <td>3</td>\n",
       "      <td>Norway</td>\n",
       "      <td>7.554</td>\n",
       "      <td>1.488</td>\n",
       "      <td>1.582</td>\n",
       "      <td>1.028</td>\n",
       "      <td>0.603</td>\n",
       "      <td>0.271</td>\n",
       "      <td>0.341</td>\n",
       "      <td>2019</td>\n",
       "    </tr>\n",
       "    <tr>\n",
       "      <th>3</th>\n",
       "      <td>4</td>\n",
       "      <td>Iceland</td>\n",
       "      <td>7.494</td>\n",
       "      <td>1.380</td>\n",
       "      <td>1.624</td>\n",
       "      <td>1.026</td>\n",
       "      <td>0.591</td>\n",
       "      <td>0.354</td>\n",
       "      <td>0.118</td>\n",
       "      <td>2019</td>\n",
       "    </tr>\n",
       "    <tr>\n",
       "      <th>4</th>\n",
       "      <td>5</td>\n",
       "      <td>Netherlands</td>\n",
       "      <td>7.488</td>\n",
       "      <td>1.396</td>\n",
       "      <td>1.522</td>\n",
       "      <td>0.999</td>\n",
       "      <td>0.557</td>\n",
       "      <td>0.322</td>\n",
       "      <td>0.298</td>\n",
       "      <td>2019</td>\n",
       "    </tr>\n",
       "  </tbody>\n",
       "</table>\n",
       "</div>"
      ],
      "text/plain": [
       "   행복랭킹          나라명     점수  상대GDP  사회적지원  행복기대치  선택의 자유도    관대함  부패에 대한인식  \\\n",
       "0     1      Finland  7.769  1.340  1.587  0.986    0.596  0.153     0.393   \n",
       "1     2      Denmark  7.600  1.383  1.573  0.996    0.592  0.252     0.410   \n",
       "2     3       Norway  7.554  1.488  1.582  1.028    0.603  0.271     0.341   \n",
       "3     4      Iceland  7.494  1.380  1.624  1.026    0.591  0.354     0.118   \n",
       "4     5  Netherlands  7.488  1.396  1.522  0.999    0.557  0.322     0.298   \n",
       "\n",
       "     년도  \n",
       "0  2019  \n",
       "1  2019  \n",
       "2  2019  \n",
       "3  2019  \n",
       "4  2019  "
      ]
     },
     "execution_count": 9,
     "metadata": {},
     "output_type": "execute_result"
    }
   ],
   "source": [
    "happy = pd.read_csv('happiness.csv')\n",
    "\n",
    "happy.head()"
   ]
  },
  {
   "cell_type": "code",
   "execution_count": 66,
   "id": "71034576-e601-4c87-85df-be0047b895f4",
   "metadata": {},
   "outputs": [
    {
     "name": "stdout",
     "output_type": "stream",
     "text": [
      "<class 'pandas.core.frame.DataFrame'>\n",
      "RangeIndex: 312 entries, 0 to 311\n",
      "Data columns (total 10 columns):\n",
      " #   Column    Non-Null Count  Dtype  \n",
      "---  ------    --------------  -----  \n",
      " 0   행복랭킹      312 non-null    int64  \n",
      " 1   나라명       312 non-null    object \n",
      " 2   점수        312 non-null    float64\n",
      " 3   상대GDP     312 non-null    float64\n",
      " 4   사회적지원     312 non-null    float64\n",
      " 5   행복기대치     312 non-null    float64\n",
      " 6   선택의 자유도   312 non-null    float64\n",
      " 7   관대함       312 non-null    float64\n",
      " 8   부패에 대한인식  311 non-null    float64\n",
      " 9   년도        312 non-null    int64  \n",
      "dtypes: float64(7), int64(2), object(1)\n",
      "memory usage: 24.5+ KB\n"
     ]
    }
   ],
   "source": [
    "happy.info()"
   ]
  },
  {
   "cell_type": "markdown",
   "id": "39660fbd-3199-4396-b821-68e3727f5d31",
   "metadata": {},
   "source": [
    "## 각 연도별 행복랭킹 10위 안에 드는 나라의 행복점수 평균을 구하시오"
   ]
  },
  {
   "cell_type": "code",
   "execution_count": 72,
   "id": "db37bd8d-0cc7-478d-b0e8-424f8e1dc347",
   "metadata": {},
   "outputs": [
    {
     "name": "stdout",
     "output_type": "stream",
     "text": [
      "년도: 2018\n",
      "점수    7.4442\n",
      "dtype: float64\n",
      "------------------------------\n",
      "년도: 2019\n",
      "점수    7.4559\n",
      "dtype: float64\n",
      "------------------------------\n"
     ]
    }
   ],
   "source": [
    "grouped = happy.groupby(happy['년도'])[['점수']]\n",
    "for year, group in grouped:\n",
    "    print('년도:', year)\n",
    "    print(group[:10].mean())\n",
    "    print('-'*30)"
   ]
  },
  {
   "cell_type": "markdown",
   "id": "f7dab48e-1598-4a19-a41e-40727c4473bf",
   "metadata": {},
   "source": [
    "## 각 연도의 행복랭킹 50위 이내의 나라들의 각각의 행복점수 평균을 데이터프레임으로 표시하시오."
   ]
  },
  {
   "cell_type": "code",
   "execution_count": 75,
   "id": "f9bab949-0af0-4780-8ca2-009695d5ccc4",
   "metadata": {},
   "outputs": [
    {
     "name": "stdout",
     "output_type": "stream",
     "text": [
      "년도: 2018\n"
     ]
    },
    {
     "data": {
      "text/html": [
       "<div>\n",
       "<style scoped>\n",
       "    .dataframe tbody tr th:only-of-type {\n",
       "        vertical-align: middle;\n",
       "    }\n",
       "\n",
       "    .dataframe tbody tr th {\n",
       "        vertical-align: top;\n",
       "    }\n",
       "\n",
       "    .dataframe thead th {\n",
       "        text-align: right;\n",
       "    }\n",
       "</style>\n",
       "<table border=\"1\" class=\"dataframe\">\n",
       "  <thead>\n",
       "    <tr style=\"text-align: right;\">\n",
       "      <th></th>\n",
       "      <th>행복랭킹</th>\n",
       "      <th>점수</th>\n",
       "    </tr>\n",
       "  </thead>\n",
       "  <tbody>\n",
       "    <tr>\n",
       "      <th>156</th>\n",
       "      <td>1</td>\n",
       "      <td>7.632</td>\n",
       "    </tr>\n",
       "    <tr>\n",
       "      <th>157</th>\n",
       "      <td>2</td>\n",
       "      <td>7.594</td>\n",
       "    </tr>\n",
       "    <tr>\n",
       "      <th>158</th>\n",
       "      <td>3</td>\n",
       "      <td>7.555</td>\n",
       "    </tr>\n",
       "    <tr>\n",
       "      <th>159</th>\n",
       "      <td>4</td>\n",
       "      <td>7.495</td>\n",
       "    </tr>\n",
       "    <tr>\n",
       "      <th>160</th>\n",
       "      <td>5</td>\n",
       "      <td>7.487</td>\n",
       "    </tr>\n",
       "    <tr>\n",
       "      <th>161</th>\n",
       "      <td>6</td>\n",
       "      <td>7.441</td>\n",
       "    </tr>\n",
       "    <tr>\n",
       "      <th>162</th>\n",
       "      <td>7</td>\n",
       "      <td>7.328</td>\n",
       "    </tr>\n",
       "    <tr>\n",
       "      <th>163</th>\n",
       "      <td>8</td>\n",
       "      <td>7.324</td>\n",
       "    </tr>\n",
       "    <tr>\n",
       "      <th>164</th>\n",
       "      <td>9</td>\n",
       "      <td>7.314</td>\n",
       "    </tr>\n",
       "    <tr>\n",
       "      <th>165</th>\n",
       "      <td>10</td>\n",
       "      <td>7.272</td>\n",
       "    </tr>\n",
       "    <tr>\n",
       "      <th>166</th>\n",
       "      <td>11</td>\n",
       "      <td>7.190</td>\n",
       "    </tr>\n",
       "    <tr>\n",
       "      <th>167</th>\n",
       "      <td>12</td>\n",
       "      <td>7.139</td>\n",
       "    </tr>\n",
       "    <tr>\n",
       "      <th>168</th>\n",
       "      <td>13</td>\n",
       "      <td>7.072</td>\n",
       "    </tr>\n",
       "    <tr>\n",
       "      <th>169</th>\n",
       "      <td>14</td>\n",
       "      <td>6.977</td>\n",
       "    </tr>\n",
       "    <tr>\n",
       "      <th>170</th>\n",
       "      <td>15</td>\n",
       "      <td>6.965</td>\n",
       "    </tr>\n",
       "    <tr>\n",
       "      <th>171</th>\n",
       "      <td>16</td>\n",
       "      <td>6.927</td>\n",
       "    </tr>\n",
       "    <tr>\n",
       "      <th>172</th>\n",
       "      <td>17</td>\n",
       "      <td>6.910</td>\n",
       "    </tr>\n",
       "    <tr>\n",
       "      <th>173</th>\n",
       "      <td>18</td>\n",
       "      <td>6.886</td>\n",
       "    </tr>\n",
       "    <tr>\n",
       "      <th>174</th>\n",
       "      <td>19</td>\n",
       "      <td>6.814</td>\n",
       "    </tr>\n",
       "    <tr>\n",
       "      <th>175</th>\n",
       "      <td>20</td>\n",
       "      <td>6.774</td>\n",
       "    </tr>\n",
       "    <tr>\n",
       "      <th>176</th>\n",
       "      <td>21</td>\n",
       "      <td>6.711</td>\n",
       "    </tr>\n",
       "    <tr>\n",
       "      <th>177</th>\n",
       "      <td>22</td>\n",
       "      <td>6.627</td>\n",
       "    </tr>\n",
       "    <tr>\n",
       "      <th>178</th>\n",
       "      <td>23</td>\n",
       "      <td>6.489</td>\n",
       "    </tr>\n",
       "    <tr>\n",
       "      <th>179</th>\n",
       "      <td>24</td>\n",
       "      <td>6.488</td>\n",
       "    </tr>\n",
       "    <tr>\n",
       "      <th>180</th>\n",
       "      <td>25</td>\n",
       "      <td>6.476</td>\n",
       "    </tr>\n",
       "    <tr>\n",
       "      <th>181</th>\n",
       "      <td>26</td>\n",
       "      <td>6.441</td>\n",
       "    </tr>\n",
       "    <tr>\n",
       "      <th>182</th>\n",
       "      <td>27</td>\n",
       "      <td>6.430</td>\n",
       "    </tr>\n",
       "    <tr>\n",
       "      <th>183</th>\n",
       "      <td>28</td>\n",
       "      <td>6.419</td>\n",
       "    </tr>\n",
       "    <tr>\n",
       "      <th>184</th>\n",
       "      <td>29</td>\n",
       "      <td>6.388</td>\n",
       "    </tr>\n",
       "    <tr>\n",
       "      <th>185</th>\n",
       "      <td>30</td>\n",
       "      <td>6.382</td>\n",
       "    </tr>\n",
       "    <tr>\n",
       "      <th>186</th>\n",
       "      <td>31</td>\n",
       "      <td>6.379</td>\n",
       "    </tr>\n",
       "    <tr>\n",
       "      <th>187</th>\n",
       "      <td>32</td>\n",
       "      <td>6.374</td>\n",
       "    </tr>\n",
       "    <tr>\n",
       "      <th>188</th>\n",
       "      <td>33</td>\n",
       "      <td>6.371</td>\n",
       "    </tr>\n",
       "    <tr>\n",
       "      <th>189</th>\n",
       "      <td>34</td>\n",
       "      <td>6.343</td>\n",
       "    </tr>\n",
       "    <tr>\n",
       "      <th>190</th>\n",
       "      <td>35</td>\n",
       "      <td>6.322</td>\n",
       "    </tr>\n",
       "    <tr>\n",
       "      <th>191</th>\n",
       "      <td>36</td>\n",
       "      <td>6.310</td>\n",
       "    </tr>\n",
       "    <tr>\n",
       "      <th>192</th>\n",
       "      <td>37</td>\n",
       "      <td>6.260</td>\n",
       "    </tr>\n",
       "    <tr>\n",
       "      <th>193</th>\n",
       "      <td>38</td>\n",
       "      <td>6.192</td>\n",
       "    </tr>\n",
       "    <tr>\n",
       "      <th>194</th>\n",
       "      <td>39</td>\n",
       "      <td>6.173</td>\n",
       "    </tr>\n",
       "    <tr>\n",
       "      <th>195</th>\n",
       "      <td>40</td>\n",
       "      <td>6.167</td>\n",
       "    </tr>\n",
       "    <tr>\n",
       "      <th>196</th>\n",
       "      <td>41</td>\n",
       "      <td>6.141</td>\n",
       "    </tr>\n",
       "    <tr>\n",
       "      <th>197</th>\n",
       "      <td>42</td>\n",
       "      <td>6.123</td>\n",
       "    </tr>\n",
       "    <tr>\n",
       "      <th>198</th>\n",
       "      <td>43</td>\n",
       "      <td>6.105</td>\n",
       "    </tr>\n",
       "    <tr>\n",
       "      <th>199</th>\n",
       "      <td>44</td>\n",
       "      <td>6.096</td>\n",
       "    </tr>\n",
       "    <tr>\n",
       "      <th>200</th>\n",
       "      <td>45</td>\n",
       "      <td>6.083</td>\n",
       "    </tr>\n",
       "    <tr>\n",
       "      <th>201</th>\n",
       "      <td>46</td>\n",
       "      <td>6.072</td>\n",
       "    </tr>\n",
       "    <tr>\n",
       "      <th>202</th>\n",
       "      <td>47</td>\n",
       "      <td>6.000</td>\n",
       "    </tr>\n",
       "    <tr>\n",
       "      <th>203</th>\n",
       "      <td>48</td>\n",
       "      <td>5.973</td>\n",
       "    </tr>\n",
       "    <tr>\n",
       "      <th>204</th>\n",
       "      <td>49</td>\n",
       "      <td>5.956</td>\n",
       "    </tr>\n",
       "    <tr>\n",
       "      <th>205</th>\n",
       "      <td>50</td>\n",
       "      <td>5.952</td>\n",
       "    </tr>\n",
       "  </tbody>\n",
       "</table>\n",
       "</div>"
      ],
      "text/plain": [
       "     행복랭킹     점수\n",
       "156     1  7.632\n",
       "157     2  7.594\n",
       "158     3  7.555\n",
       "159     4  7.495\n",
       "160     5  7.487\n",
       "161     6  7.441\n",
       "162     7  7.328\n",
       "163     8  7.324\n",
       "164     9  7.314\n",
       "165    10  7.272\n",
       "166    11  7.190\n",
       "167    12  7.139\n",
       "168    13  7.072\n",
       "169    14  6.977\n",
       "170    15  6.965\n",
       "171    16  6.927\n",
       "172    17  6.910\n",
       "173    18  6.886\n",
       "174    19  6.814\n",
       "175    20  6.774\n",
       "176    21  6.711\n",
       "177    22  6.627\n",
       "178    23  6.489\n",
       "179    24  6.488\n",
       "180    25  6.476\n",
       "181    26  6.441\n",
       "182    27  6.430\n",
       "183    28  6.419\n",
       "184    29  6.388\n",
       "185    30  6.382\n",
       "186    31  6.379\n",
       "187    32  6.374\n",
       "188    33  6.371\n",
       "189    34  6.343\n",
       "190    35  6.322\n",
       "191    36  6.310\n",
       "192    37  6.260\n",
       "193    38  6.192\n",
       "194    39  6.173\n",
       "195    40  6.167\n",
       "196    41  6.141\n",
       "197    42  6.123\n",
       "198    43  6.105\n",
       "199    44  6.096\n",
       "200    45  6.083\n",
       "201    46  6.072\n",
       "202    47  6.000\n",
       "203    48  5.973\n",
       "204    49  5.956\n",
       "205    50  5.952"
      ]
     },
     "metadata": {},
     "output_type": "display_data"
    },
    {
     "name": "stdout",
     "output_type": "stream",
     "text": [
      "------------------------------\n",
      "년도: 2019\n"
     ]
    },
    {
     "data": {
      "text/html": [
       "<div>\n",
       "<style scoped>\n",
       "    .dataframe tbody tr th:only-of-type {\n",
       "        vertical-align: middle;\n",
       "    }\n",
       "\n",
       "    .dataframe tbody tr th {\n",
       "        vertical-align: top;\n",
       "    }\n",
       "\n",
       "    .dataframe thead th {\n",
       "        text-align: right;\n",
       "    }\n",
       "</style>\n",
       "<table border=\"1\" class=\"dataframe\">\n",
       "  <thead>\n",
       "    <tr style=\"text-align: right;\">\n",
       "      <th></th>\n",
       "      <th>행복랭킹</th>\n",
       "      <th>점수</th>\n",
       "    </tr>\n",
       "  </thead>\n",
       "  <tbody>\n",
       "    <tr>\n",
       "      <th>0</th>\n",
       "      <td>1</td>\n",
       "      <td>7.769</td>\n",
       "    </tr>\n",
       "    <tr>\n",
       "      <th>1</th>\n",
       "      <td>2</td>\n",
       "      <td>7.600</td>\n",
       "    </tr>\n",
       "    <tr>\n",
       "      <th>2</th>\n",
       "      <td>3</td>\n",
       "      <td>7.554</td>\n",
       "    </tr>\n",
       "    <tr>\n",
       "      <th>3</th>\n",
       "      <td>4</td>\n",
       "      <td>7.494</td>\n",
       "    </tr>\n",
       "    <tr>\n",
       "      <th>4</th>\n",
       "      <td>5</td>\n",
       "      <td>7.488</td>\n",
       "    </tr>\n",
       "    <tr>\n",
       "      <th>5</th>\n",
       "      <td>6</td>\n",
       "      <td>7.480</td>\n",
       "    </tr>\n",
       "    <tr>\n",
       "      <th>6</th>\n",
       "      <td>7</td>\n",
       "      <td>7.343</td>\n",
       "    </tr>\n",
       "    <tr>\n",
       "      <th>7</th>\n",
       "      <td>8</td>\n",
       "      <td>7.307</td>\n",
       "    </tr>\n",
       "    <tr>\n",
       "      <th>8</th>\n",
       "      <td>9</td>\n",
       "      <td>7.278</td>\n",
       "    </tr>\n",
       "    <tr>\n",
       "      <th>9</th>\n",
       "      <td>10</td>\n",
       "      <td>7.246</td>\n",
       "    </tr>\n",
       "    <tr>\n",
       "      <th>10</th>\n",
       "      <td>11</td>\n",
       "      <td>7.228</td>\n",
       "    </tr>\n",
       "    <tr>\n",
       "      <th>11</th>\n",
       "      <td>12</td>\n",
       "      <td>7.167</td>\n",
       "    </tr>\n",
       "    <tr>\n",
       "      <th>12</th>\n",
       "      <td>13</td>\n",
       "      <td>7.139</td>\n",
       "    </tr>\n",
       "    <tr>\n",
       "      <th>13</th>\n",
       "      <td>14</td>\n",
       "      <td>7.090</td>\n",
       "    </tr>\n",
       "    <tr>\n",
       "      <th>14</th>\n",
       "      <td>15</td>\n",
       "      <td>7.054</td>\n",
       "    </tr>\n",
       "    <tr>\n",
       "      <th>15</th>\n",
       "      <td>16</td>\n",
       "      <td>7.021</td>\n",
       "    </tr>\n",
       "    <tr>\n",
       "      <th>16</th>\n",
       "      <td>17</td>\n",
       "      <td>6.985</td>\n",
       "    </tr>\n",
       "    <tr>\n",
       "      <th>17</th>\n",
       "      <td>18</td>\n",
       "      <td>6.923</td>\n",
       "    </tr>\n",
       "    <tr>\n",
       "      <th>18</th>\n",
       "      <td>19</td>\n",
       "      <td>6.892</td>\n",
       "    </tr>\n",
       "    <tr>\n",
       "      <th>19</th>\n",
       "      <td>20</td>\n",
       "      <td>6.852</td>\n",
       "    </tr>\n",
       "    <tr>\n",
       "      <th>20</th>\n",
       "      <td>21</td>\n",
       "      <td>6.825</td>\n",
       "    </tr>\n",
       "    <tr>\n",
       "      <th>21</th>\n",
       "      <td>22</td>\n",
       "      <td>6.726</td>\n",
       "    </tr>\n",
       "    <tr>\n",
       "      <th>22</th>\n",
       "      <td>23</td>\n",
       "      <td>6.595</td>\n",
       "    </tr>\n",
       "    <tr>\n",
       "      <th>23</th>\n",
       "      <td>24</td>\n",
       "      <td>6.592</td>\n",
       "    </tr>\n",
       "    <tr>\n",
       "      <th>24</th>\n",
       "      <td>25</td>\n",
       "      <td>6.446</td>\n",
       "    </tr>\n",
       "    <tr>\n",
       "      <th>25</th>\n",
       "      <td>26</td>\n",
       "      <td>6.444</td>\n",
       "    </tr>\n",
       "    <tr>\n",
       "      <th>26</th>\n",
       "      <td>27</td>\n",
       "      <td>6.436</td>\n",
       "    </tr>\n",
       "    <tr>\n",
       "      <th>27</th>\n",
       "      <td>28</td>\n",
       "      <td>6.375</td>\n",
       "    </tr>\n",
       "    <tr>\n",
       "      <th>28</th>\n",
       "      <td>29</td>\n",
       "      <td>6.374</td>\n",
       "    </tr>\n",
       "    <tr>\n",
       "      <th>29</th>\n",
       "      <td>30</td>\n",
       "      <td>6.354</td>\n",
       "    </tr>\n",
       "    <tr>\n",
       "      <th>30</th>\n",
       "      <td>31</td>\n",
       "      <td>6.321</td>\n",
       "    </tr>\n",
       "    <tr>\n",
       "      <th>31</th>\n",
       "      <td>32</td>\n",
       "      <td>6.300</td>\n",
       "    </tr>\n",
       "    <tr>\n",
       "      <th>32</th>\n",
       "      <td>33</td>\n",
       "      <td>6.293</td>\n",
       "    </tr>\n",
       "    <tr>\n",
       "      <th>33</th>\n",
       "      <td>34</td>\n",
       "      <td>6.262</td>\n",
       "    </tr>\n",
       "    <tr>\n",
       "      <th>34</th>\n",
       "      <td>35</td>\n",
       "      <td>6.253</td>\n",
       "    </tr>\n",
       "    <tr>\n",
       "      <th>35</th>\n",
       "      <td>36</td>\n",
       "      <td>6.223</td>\n",
       "    </tr>\n",
       "    <tr>\n",
       "      <th>36</th>\n",
       "      <td>37</td>\n",
       "      <td>6.199</td>\n",
       "    </tr>\n",
       "    <tr>\n",
       "      <th>37</th>\n",
       "      <td>38</td>\n",
       "      <td>6.198</td>\n",
       "    </tr>\n",
       "    <tr>\n",
       "      <th>38</th>\n",
       "      <td>39</td>\n",
       "      <td>6.192</td>\n",
       "    </tr>\n",
       "    <tr>\n",
       "      <th>39</th>\n",
       "      <td>40</td>\n",
       "      <td>6.182</td>\n",
       "    </tr>\n",
       "    <tr>\n",
       "      <th>40</th>\n",
       "      <td>41</td>\n",
       "      <td>6.174</td>\n",
       "    </tr>\n",
       "    <tr>\n",
       "      <th>41</th>\n",
       "      <td>42</td>\n",
       "      <td>6.149</td>\n",
       "    </tr>\n",
       "    <tr>\n",
       "      <th>42</th>\n",
       "      <td>43</td>\n",
       "      <td>6.125</td>\n",
       "    </tr>\n",
       "    <tr>\n",
       "      <th>43</th>\n",
       "      <td>44</td>\n",
       "      <td>6.118</td>\n",
       "    </tr>\n",
       "    <tr>\n",
       "      <th>44</th>\n",
       "      <td>45</td>\n",
       "      <td>6.105</td>\n",
       "    </tr>\n",
       "    <tr>\n",
       "      <th>45</th>\n",
       "      <td>46</td>\n",
       "      <td>6.100</td>\n",
       "    </tr>\n",
       "    <tr>\n",
       "      <th>46</th>\n",
       "      <td>47</td>\n",
       "      <td>6.086</td>\n",
       "    </tr>\n",
       "    <tr>\n",
       "      <th>47</th>\n",
       "      <td>48</td>\n",
       "      <td>6.070</td>\n",
       "    </tr>\n",
       "    <tr>\n",
       "      <th>48</th>\n",
       "      <td>49</td>\n",
       "      <td>6.046</td>\n",
       "    </tr>\n",
       "    <tr>\n",
       "      <th>49</th>\n",
       "      <td>50</td>\n",
       "      <td>6.028</td>\n",
       "    </tr>\n",
       "  </tbody>\n",
       "</table>\n",
       "</div>"
      ],
      "text/plain": [
       "    행복랭킹     점수\n",
       "0      1  7.769\n",
       "1      2  7.600\n",
       "2      3  7.554\n",
       "3      4  7.494\n",
       "4      5  7.488\n",
       "5      6  7.480\n",
       "6      7  7.343\n",
       "7      8  7.307\n",
       "8      9  7.278\n",
       "9     10  7.246\n",
       "10    11  7.228\n",
       "11    12  7.167\n",
       "12    13  7.139\n",
       "13    14  7.090\n",
       "14    15  7.054\n",
       "15    16  7.021\n",
       "16    17  6.985\n",
       "17    18  6.923\n",
       "18    19  6.892\n",
       "19    20  6.852\n",
       "20    21  6.825\n",
       "21    22  6.726\n",
       "22    23  6.595\n",
       "23    24  6.592\n",
       "24    25  6.446\n",
       "25    26  6.444\n",
       "26    27  6.436\n",
       "27    28  6.375\n",
       "28    29  6.374\n",
       "29    30  6.354\n",
       "30    31  6.321\n",
       "31    32  6.300\n",
       "32    33  6.293\n",
       "33    34  6.262\n",
       "34    35  6.253\n",
       "35    36  6.223\n",
       "36    37  6.199\n",
       "37    38  6.198\n",
       "38    39  6.192\n",
       "39    40  6.182\n",
       "40    41  6.174\n",
       "41    42  6.149\n",
       "42    43  6.125\n",
       "43    44  6.118\n",
       "44    45  6.105\n",
       "45    46  6.100\n",
       "46    47  6.086\n",
       "47    48  6.070\n",
       "48    49  6.046\n",
       "49    50  6.028"
      ]
     },
     "metadata": {},
     "output_type": "display_data"
    },
    {
     "name": "stdout",
     "output_type": "stream",
     "text": [
      "------------------------------\n"
     ]
    }
   ],
   "source": [
    "grouped = happy.groupby(happy['년도'])[['행복랭킹','점수']]\n",
    "for year, group in grouped:\n",
    "    print('년도:', year)\n",
    "    display(group[:50])\n",
    "    print('-'*30)"
   ]
  },
  {
   "cell_type": "markdown",
   "id": "6a12f618-1991-4fca-a2e8-b7d7e2f2ff74",
   "metadata": {},
   "source": [
    "## 각 년도별 하위 행복점수 5개 국가의 평균 행복점수를 구하시오."
   ]
  },
  {
   "cell_type": "code",
   "execution_count": 80,
   "id": "066e1366-95e7-46e0-bbfd-8e39fe98c413",
   "metadata": {},
   "outputs": [
    {
     "name": "stdout",
     "output_type": "stream",
     "text": [
      "년도: 2018\n",
      "점수    3.18\n",
      "dtype: float64\n",
      "------------------------------\n",
      "년도: 2019\n",
      "점수    3.1408\n",
      "dtype: float64\n",
      "------------------------------\n"
     ]
    }
   ],
   "source": [
    "grouped = happy.groupby(happy['년도'])[['점수']]\n",
    "for year, group in grouped:\n",
    "    print('년도:', year)\n",
    "    print(group[-1:-6:-1].mean())\n",
    "    print('-'*30)"
   ]
  },
  {
   "cell_type": "markdown",
   "id": "5e2a0de8-113a-4ee7-806b-9b4bc6ed1ac9",
   "metadata": {},
   "source": [
    "## 2019년 데이터를 추출하고 해당 데이터의 상대 GDP 평균 이상의 나라들과 평균 이하의 나라들의 행복점수 평균을 각각 구하고 그 차이값을 출력하시오."
   ]
  },
  {
   "cell_type": "code",
   "execution_count": 100,
   "id": "77d71e02-0543-42d6-aed1-b1f4ab071d34",
   "metadata": {},
   "outputs": [
    {
     "name": "stdout",
     "output_type": "stream",
     "text": [
      "2019년의 상대GDP평균: 0.905\n"
     ]
    }
   ],
   "source": [
    "happy_2019 = happy[happy['년도'] == 2019]\n",
    "happy_2019_avg = happy_2019['상대GDP'].mean()\n",
    "print(f'2019년의 상대 GDP평균: {happy_2019_avg:.3f}')"
   ]
  },
  {
   "cell_type": "code",
   "execution_count": 101,
   "id": "cd3f2fe2-be0c-4cc7-84d7-5fe8d74fecd7",
   "metadata": {},
   "outputs": [
    {
     "name": "stdout",
     "output_type": "stream",
     "text": [
      "상대 GDP 평균이상인 나라들의 평균: 1.200\n"
     ]
    }
   ],
   "source": [
    "happy_over = happy_2019[happy_2019['상대GDP'] >= happy_2019_avg]['상대GDP'].mean()\n",
    "print(f'상대 GDP 평균이상인 나라들의 평균: {happy_over:.3f}')"
   ]
  },
  {
   "cell_type": "code",
   "execution_count": 102,
   "id": "ad6fa5d3-4d1a-43fe-a913-489e98445b5b",
   "metadata": {},
   "outputs": [
    {
     "name": "stdout",
     "output_type": "stream",
     "text": [
      "상대 GDP 평균이하인 나라들의 평균: 0.524\n"
     ]
    }
   ],
   "source": [
    "happy_under = happy_2019[happy_2019['상대GDP'] <= happy_2019_avg]['상대GDP'].mean()\n",
    "print(f'상대 GDP 평균이하인 나라들의 평균: {happy_under:.3f}')"
   ]
  },
  {
   "cell_type": "code",
   "execution_count": 103,
   "id": "53e831ac-0e17-439a-a09b-309f3574606d",
   "metadata": {},
   "outputs": [
    {
     "name": "stdout",
     "output_type": "stream",
     "text": [
      "차이값: 0.677\n"
     ]
    }
   ],
   "source": [
    "print(f'차이값: {happy_over - happy_under:.3f}')"
   ]
  },
  {
   "cell_type": "markdown",
   "id": "6a613fde-a224-4bec-9258-e14a87b78276",
   "metadata": {},
   "source": [
    "## 각 년도의 부패에 대한 인식을 내림차순으로 정렬했을 때 상위 20개 국가의 부패에 대한 인식의 평균"
   ]
  },
  {
   "cell_type": "code",
   "execution_count": 111,
   "id": "ee40e4a6-3c96-47ed-901b-02f9768ec2ac",
   "metadata": {},
   "outputs": [
    {
     "name": "stdout",
     "output_type": "stream",
     "text": [
      "년도: 2018\n",
      "부패에 대한인식    0.3267\n",
      "dtype: float64\n",
      "------------------------------\n",
      "년도: 2019\n",
      "부패에 대한인식    0.3201\n",
      "dtype: float64\n",
      "------------------------------\n"
     ]
    }
   ],
   "source": [
    "grouped = happy.groupby(happy['년도'])[['부패에 대한인식']]\n",
    "for year, group in grouped:\n",
    "    print('년도:', year)\n",
    "    group = group[['부패에 대한인식']].sort_values('부패에 대한인식', ascending=False)\n",
    "    print(group[:20].mean())\n",
    "    print('-'*30)"
   ]
  },
  {
   "cell_type": "markdown",
   "id": "48286a81-4d57-4304-9b41-ca9ed1b1e686",
   "metadata": {},
   "source": [
    "## 2018년도 행복랭킹 50위 이내에 포함됐다가 2019년 50위 밖으로 밀려난 국가의 숫자"
   ]
  },
  {
   "cell_type": "code",
   "execution_count": 125,
   "id": "9b80f24e-f4a3-4d6f-ab97-14364c0beaa9",
   "metadata": {},
   "outputs": [
    {
     "data": {
      "text/plain": [
       "4"
      ]
     },
     "execution_count": 125,
     "metadata": {},
     "output_type": "execute_result"
    }
   ],
   "source": [
    "# 19년도 랭킹 50위 나라들\n",
    "top50_2019 = happy[happy['년도'] == 2019]['나라명'][:50]\n",
    "# print(top50_2019.values)\n",
    "\n",
    "# 18년도 랭킹 50위 나라들중에서 19년도 랭킹 50위에 포함되지 않은 나라들의 숫자\n",
    "top50_2018 = happy[happy['년도'] == 2018][:50]\n",
    "len(top50_2018[~top50_2018['나라명'].isin(top50_2019.values)])"
   ]
  },
  {
   "cell_type": "markdown",
   "id": "642e104d-2759-46a4-bb93-4117f9af80cd",
   "metadata": {},
   "source": [
    "## 2018, 2019년 모두 기록이 있는 나라들 중 년도별 행복점수가 가장 증가한 나라와 그 증가 수치는?"
   ]
  },
  {
   "cell_type": "code",
   "execution_count": 126,
   "id": "7b242890-d93f-44dd-af37-3636da0c98bb",
   "metadata": {},
   "outputs": [
    {
     "data": {
      "text/html": [
       "<div>\n",
       "<style scoped>\n",
       "    .dataframe tbody tr th:only-of-type {\n",
       "        vertical-align: middle;\n",
       "    }\n",
       "\n",
       "    .dataframe tbody tr th {\n",
       "        vertical-align: top;\n",
       "    }\n",
       "\n",
       "    .dataframe thead th {\n",
       "        text-align: right;\n",
       "    }\n",
       "</style>\n",
       "<table border=\"1\" class=\"dataframe\">\n",
       "  <thead>\n",
       "    <tr style=\"text-align: right;\">\n",
       "      <th></th>\n",
       "      <th>행복랭킹</th>\n",
       "      <th>나라명</th>\n",
       "      <th>점수</th>\n",
       "      <th>상대GDP</th>\n",
       "      <th>사회적지원</th>\n",
       "      <th>행복기대치</th>\n",
       "      <th>선택의 자유도</th>\n",
       "      <th>관대함</th>\n",
       "      <th>부패에 대한인식</th>\n",
       "      <th>년도</th>\n",
       "    </tr>\n",
       "  </thead>\n",
       "  <tbody>\n",
       "    <tr>\n",
       "      <th>0</th>\n",
       "      <td>1</td>\n",
       "      <td>Finland</td>\n",
       "      <td>7.769</td>\n",
       "      <td>1.340</td>\n",
       "      <td>1.587</td>\n",
       "      <td>0.986</td>\n",
       "      <td>0.596</td>\n",
       "      <td>0.153</td>\n",
       "      <td>0.393</td>\n",
       "      <td>2019</td>\n",
       "    </tr>\n",
       "    <tr>\n",
       "      <th>1</th>\n",
       "      <td>2</td>\n",
       "      <td>Denmark</td>\n",
       "      <td>7.600</td>\n",
       "      <td>1.383</td>\n",
       "      <td>1.573</td>\n",
       "      <td>0.996</td>\n",
       "      <td>0.592</td>\n",
       "      <td>0.252</td>\n",
       "      <td>0.410</td>\n",
       "      <td>2019</td>\n",
       "    </tr>\n",
       "    <tr>\n",
       "      <th>2</th>\n",
       "      <td>3</td>\n",
       "      <td>Norway</td>\n",
       "      <td>7.554</td>\n",
       "      <td>1.488</td>\n",
       "      <td>1.582</td>\n",
       "      <td>1.028</td>\n",
       "      <td>0.603</td>\n",
       "      <td>0.271</td>\n",
       "      <td>0.341</td>\n",
       "      <td>2019</td>\n",
       "    </tr>\n",
       "    <tr>\n",
       "      <th>3</th>\n",
       "      <td>4</td>\n",
       "      <td>Iceland</td>\n",
       "      <td>7.494</td>\n",
       "      <td>1.380</td>\n",
       "      <td>1.624</td>\n",
       "      <td>1.026</td>\n",
       "      <td>0.591</td>\n",
       "      <td>0.354</td>\n",
       "      <td>0.118</td>\n",
       "      <td>2019</td>\n",
       "    </tr>\n",
       "    <tr>\n",
       "      <th>4</th>\n",
       "      <td>5</td>\n",
       "      <td>Netherlands</td>\n",
       "      <td>7.488</td>\n",
       "      <td>1.396</td>\n",
       "      <td>1.522</td>\n",
       "      <td>0.999</td>\n",
       "      <td>0.557</td>\n",
       "      <td>0.322</td>\n",
       "      <td>0.298</td>\n",
       "      <td>2019</td>\n",
       "    </tr>\n",
       "  </tbody>\n",
       "</table>\n",
       "</div>"
      ],
      "text/plain": [
       "   행복랭킹          나라명     점수  상대GDP  사회적지원  행복기대치  선택의 자유도    관대함  부패에 대한인식    년도\n",
       "0     1      Finland  7.769  1.340  1.587  0.986    0.596  0.153     0.393  2019\n",
       "1     2      Denmark  7.600  1.383  1.573  0.996    0.592  0.252     0.410  2019\n",
       "2     3       Norway  7.554  1.488  1.582  1.028    0.603  0.271     0.341  2019\n",
       "3     4      Iceland  7.494  1.380  1.624  1.026    0.591  0.354     0.118  2019\n",
       "4     5  Netherlands  7.488  1.396  1.522  0.999    0.557  0.322     0.298  2019"
      ]
     },
     "execution_count": 126,
     "metadata": {},
     "output_type": "execute_result"
    }
   ],
   "source": [
    "happy.head()"
   ]
  },
  {
   "cell_type": "code",
   "execution_count": 10,
   "id": "1775ab87-67e5-424e-8ae7-77bd8846209d",
   "metadata": {},
   "outputs": [],
   "source": [
    "happy_2018 = happy[happy['년도'] == 2018]\n",
    "happy_2019 = happy[happy['년도'] == 2019]"
   ]
  },
  {
   "cell_type": "code",
   "execution_count": 37,
   "id": "11a26eff-263d-4a0e-a3d8-ddb4c79fd252",
   "metadata": {},
   "outputs": [
    {
     "data": {
      "text/plain": [
       "7.769"
      ]
     },
     "execution_count": 37,
     "metadata": {},
     "output_type": "execute_result"
    }
   ],
   "source": [
    "happy_2019[happy_2019['나라명'] == 'Finland']['점수'][0]  # 인덱스값 가져오기"
   ]
  },
  {
   "cell_type": "code",
   "execution_count": 20,
   "id": "dadde38f-8955-4e8c-a3de-d6d24e332f65",
   "metadata": {},
   "outputs": [
    {
     "data": {
      "text/plain": [
       "array([0.87])"
      ]
     },
     "execution_count": 20,
     "metadata": {},
     "output_type": "execute_result"
    }
   ],
   "source": [
    "country_2018 = happy[happy['년도'] == 2018]['나라명']\n",
    "#len(country_2018.values)\n",
    "\n",
    "country_2019 = happy[happy['년도'] == 2019][['나라명']]\n",
    "all_record_country = country_2019[country_2019['나라명'].isin(country_2018.values)]['나라명']\n",
    "\n",
    "all_record_country = all_record_country.values\n",
    "#len(all_record_country)\n",
    "\n",
    "increased_score_list = []\n",
    "for country in all_record_country:\n",
    "    increased_score = (happy_2019[happy_2019['나라명'] == country]['점수'].values) - (happy_2018[happy_2018['나라명'] == country]['점수'].values)\n",
    "    increased_score_list.append(increased_score)\n",
    "\n",
    "max(increased_score_list)"
   ]
  },
  {
   "cell_type": "markdown",
   "id": "c4ce3892-e1c7-45d1-aef7-dc5bdcc50bab",
   "metadata": {},
   "source": [
    "# 3. 유튜브 데이터 분석"
   ]
  },
  {
   "cell_type": "code",
   "execution_count": 142,
   "id": "39a0783c-ed0b-45e3-a4ef-736aa65d763d",
   "metadata": {},
   "outputs": [
    {
     "data": {
      "text/html": [
       "<div>\n",
       "<style scoped>\n",
       "    .dataframe tbody tr th:only-of-type {\n",
       "        vertical-align: middle;\n",
       "    }\n",
       "\n",
       "    .dataframe tbody tr th {\n",
       "        vertical-align: top;\n",
       "    }\n",
       "\n",
       "    .dataframe thead th {\n",
       "        text-align: right;\n",
       "    }\n",
       "</style>\n",
       "<table border=\"1\" class=\"dataframe\">\n",
       "  <thead>\n",
       "    <tr style=\"text-align: right;\">\n",
       "      <th></th>\n",
       "      <th>title</th>\n",
       "      <th>category</th>\n",
       "      <th>subscriber</th>\n",
       "      <th>view</th>\n",
       "      <th>video</th>\n",
       "    </tr>\n",
       "  </thead>\n",
       "  <tbody>\n",
       "    <tr>\n",
       "      <th>0</th>\n",
       "      <td>BLACKPINK</td>\n",
       "      <td>[음악/댄스/가수]</td>\n",
       "      <td>5140만</td>\n",
       "      <td>128억5130만</td>\n",
       "      <td>319개</td>\n",
       "    </tr>\n",
       "    <tr>\n",
       "      <th>1</th>\n",
       "      <td>Big Hit Labels</td>\n",
       "      <td>[음악/댄스/가수]</td>\n",
       "      <td>4550만</td>\n",
       "      <td>120억8966만</td>\n",
       "      <td>433개</td>\n",
       "    </tr>\n",
       "    <tr>\n",
       "      <th>2</th>\n",
       "      <td>BANGTANTV</td>\n",
       "      <td>[음악/댄스/가수]</td>\n",
       "      <td>3870만</td>\n",
       "      <td>54억7598만</td>\n",
       "      <td>1,319개</td>\n",
       "    </tr>\n",
       "    <tr>\n",
       "      <th>3</th>\n",
       "      <td>Boram Tube Vlog [보람튜브 브이로그]</td>\n",
       "      <td>[키즈/어린이]</td>\n",
       "      <td>2650만</td>\n",
       "      <td>110억5288만</td>\n",
       "      <td>223개</td>\n",
       "    </tr>\n",
       "    <tr>\n",
       "      <th>4</th>\n",
       "      <td>SMTOWN</td>\n",
       "      <td>[음악/댄스/가수]</td>\n",
       "      <td>2450만</td>\n",
       "      <td>180억7532만</td>\n",
       "      <td>3,583개</td>\n",
       "    </tr>\n",
       "  </tbody>\n",
       "</table>\n",
       "</div>"
      ],
      "text/plain": [
       "                         title    category subscriber       view   video\n",
       "0                    BLACKPINK  [음악/댄스/가수]      5140만  128억5130만    319개\n",
       "1               Big Hit Labels  [음악/댄스/가수]      4550만  120억8966만    433개\n",
       "2                    BANGTANTV  [음악/댄스/가수]      3870만   54억7598만  1,319개\n",
       "3  Boram Tube Vlog [보람튜브 브이로그]    [키즈/어린이]      2650만  110억5288만    223개\n",
       "4                       SMTOWN  [음악/댄스/가수]      2450만  180억7532만  3,583개"
      ]
     },
     "execution_count": 142,
     "metadata": {},
     "output_type": "execute_result"
    }
   ],
   "source": [
    "youtube = pd.read_csv('youtube_rank.csv', encoding='utf-8')\n",
    "\n",
    "youtube.head()"
   ]
  },
  {
   "cell_type": "code",
   "execution_count": 143,
   "id": "66614453-5557-4ed4-a6d8-1030f701ae91",
   "metadata": {},
   "outputs": [
    {
     "name": "stdout",
     "output_type": "stream",
     "text": [
      "<class 'pandas.core.frame.DataFrame'>\n",
      "RangeIndex: 1000 entries, 0 to 999\n",
      "Data columns (total 5 columns):\n",
      " #   Column      Non-Null Count  Dtype \n",
      "---  ------      --------------  ----- \n",
      " 0   title       1000 non-null   object\n",
      " 1   category    1000 non-null   object\n",
      " 2   subscriber  1000 non-null   object\n",
      " 3   view        1000 non-null   object\n",
      " 4   video       1000 non-null   object\n",
      "dtypes: object(5)\n",
      "memory usage: 39.2+ KB\n"
     ]
    }
   ],
   "source": [
    "youtube.info()"
   ]
  },
  {
   "cell_type": "markdown",
   "id": "9981f83c-bcd5-4e27-a60f-4d306568d7ca",
   "metadata": {},
   "source": [
    "## 컬럼 이름 변경"
   ]
  },
  {
   "cell_type": "code",
   "execution_count": 144,
   "id": "9219abc9-3a11-4754-9402-74bc1279783d",
   "metadata": {},
   "outputs": [
    {
     "name": "stdout",
     "output_type": "stream",
     "text": [
      "<class 'pandas.core.frame.DataFrame'>\n",
      "RangeIndex: 1000 entries, 0 to 999\n",
      "Data columns (total 5 columns):\n",
      " #   Column  Non-Null Count  Dtype \n",
      "---  ------  --------------  ----- \n",
      " 0   채널명     1000 non-null   object\n",
      " 1   카테고리    1000 non-null   object\n",
      " 2   구독자수    1000 non-null   object\n",
      " 3   조회수     1000 non-null   object\n",
      " 4   영상개수    1000 non-null   object\n",
      "dtypes: object(5)\n",
      "memory usage: 39.2+ KB\n"
     ]
    }
   ],
   "source": [
    "youtube.columns = ['채널명', '카테고리', '구독자수', '조회수', '영상개수']\n",
    "youtube.info()"
   ]
  },
  {
   "cell_type": "markdown",
   "id": "db096093-a41b-4724-85f8-006f6574ae03",
   "metadata": {},
   "source": [
    "## '구독자수'컬럼과 '조회수'컬럼 타입 변경"
   ]
  },
  {
   "cell_type": "code",
   "execution_count": 147,
   "id": "55109325-5b3c-4cc4-b96b-11d87da248f7",
   "metadata": {},
   "outputs": [
    {
     "name": "stdout",
     "output_type": "stream",
     "text": [
      "<class 'pandas.core.frame.DataFrame'>\n",
      "RangeIndex: 1000 entries, 0 to 999\n",
      "Data columns (total 5 columns):\n",
      " #   Column  Non-Null Count  Dtype \n",
      "---  ------  --------------  ----- \n",
      " 0   채널명     1000 non-null   object\n",
      " 1   카테고리    1000 non-null   object\n",
      " 2   구독자수    1000 non-null   int64 \n",
      " 3   조회수     1000 non-null   int64 \n",
      " 4   영상개수    1000 non-null   object\n",
      "dtypes: int64(2), object(3)\n",
      "memory usage: 39.2+ KB\n"
     ]
    }
   ],
   "source": [
    "youtube['구독자수'] = youtube['구독자수'].replace('만', '', regex=True).astype(np.int64)\n",
    "\n",
    "youtube['조회수'] = youtube['조회수'].replace('억', '', regex=True)\n",
    "youtube['조회수'] = youtube['조회수'].replace('만', '', regex=True).astype(np.int64)\n",
    "\n",
    "youtube.info()"
   ]
  },
  {
   "cell_type": "markdown",
   "id": "124436e6-1b63-4d2b-892e-eaca55227ea7",
   "metadata": {},
   "source": [
    "## '영상개수'컬럼 타입 변경"
   ]
  },
  {
   "cell_type": "code",
   "execution_count": 148,
   "id": "bf3a5384-20ca-4bf1-b03f-4bd02788b227",
   "metadata": {},
   "outputs": [
    {
     "name": "stdout",
     "output_type": "stream",
     "text": [
      "<class 'pandas.core.frame.DataFrame'>\n",
      "RangeIndex: 1000 entries, 0 to 999\n",
      "Data columns (total 5 columns):\n",
      " #   Column  Non-Null Count  Dtype \n",
      "---  ------  --------------  ----- \n",
      " 0   채널명     1000 non-null   object\n",
      " 1   카테고리    1000 non-null   object\n",
      " 2   구독자수    1000 non-null   int64 \n",
      " 3   조회수     1000 non-null   int64 \n",
      " 4   영상개수    1000 non-null   int32 \n",
      "dtypes: int32(1), int64(2), object(2)\n",
      "memory usage: 35.3+ KB\n"
     ]
    }
   ],
   "source": [
    "youtube['영상개수'] = youtube['영상개수'].replace(',', '', regex=True)\n",
    "youtube['영상개수'] = youtube['영상개수'].replace('개', '', regex=True).astype(np.int32)\n",
    "\n",
    "youtube.info()"
   ]
  },
  {
   "cell_type": "markdown",
   "id": "efb221be-e0f3-4631-9ef9-e4a7df599071",
   "metadata": {},
   "source": [
    "## 인기채널 확인하기"
   ]
  },
  {
   "cell_type": "code",
   "execution_count": 151,
   "id": "f1786470-c321-4436-a39b-18958dfa37bd",
   "metadata": {},
   "outputs": [
    {
     "data": {
      "text/html": [
       "<div>\n",
       "<style scoped>\n",
       "    .dataframe tbody tr th:only-of-type {\n",
       "        vertical-align: middle;\n",
       "    }\n",
       "\n",
       "    .dataframe tbody tr th {\n",
       "        vertical-align: top;\n",
       "    }\n",
       "\n",
       "    .dataframe thead th {\n",
       "        text-align: right;\n",
       "    }\n",
       "</style>\n",
       "<table border=\"1\" class=\"dataframe\">\n",
       "  <thead>\n",
       "    <tr style=\"text-align: right;\">\n",
       "      <th></th>\n",
       "      <th>채널명</th>\n",
       "      <th>구독자수</th>\n",
       "    </tr>\n",
       "  </thead>\n",
       "  <tbody>\n",
       "    <tr>\n",
       "      <th>0</th>\n",
       "      <td>BLACKPINK</td>\n",
       "      <td>5140</td>\n",
       "    </tr>\n",
       "    <tr>\n",
       "      <th>1</th>\n",
       "      <td>Big Hit Labels</td>\n",
       "      <td>4550</td>\n",
       "    </tr>\n",
       "    <tr>\n",
       "      <th>2</th>\n",
       "      <td>BANGTANTV</td>\n",
       "      <td>3870</td>\n",
       "    </tr>\n",
       "    <tr>\n",
       "      <th>3</th>\n",
       "      <td>Boram Tube Vlog [보람튜브 브이로그]</td>\n",
       "      <td>2650</td>\n",
       "    </tr>\n",
       "    <tr>\n",
       "      <th>4</th>\n",
       "      <td>SMTOWN</td>\n",
       "      <td>2450</td>\n",
       "    </tr>\n",
       "  </tbody>\n",
       "</table>\n",
       "</div>"
      ],
      "text/plain": [
       "                           채널명  구독자수\n",
       "0                    BLACKPINK  5140\n",
       "1               Big Hit Labels  4550\n",
       "2                    BANGTANTV  3870\n",
       "3  Boram Tube Vlog [보람튜브 브이로그]  2650\n",
       "4                       SMTOWN  2450"
      ]
     },
     "execution_count": 151,
     "metadata": {},
     "output_type": "execute_result"
    }
   ],
   "source": [
    "# 구독자수가 많은 5개 채널 출력\n",
    "youtube.sort_values('구독자수', ascending=False)[['채널명','구독자수']][:5]"
   ]
  },
  {
   "cell_type": "code",
   "execution_count": 152,
   "id": "4fb32689-8228-4291-b73d-20deb4118a6c",
   "metadata": {},
   "outputs": [
    {
     "data": {
      "text/html": [
       "<div>\n",
       "<style scoped>\n",
       "    .dataframe tbody tr th:only-of-type {\n",
       "        vertical-align: middle;\n",
       "    }\n",
       "\n",
       "    .dataframe tbody tr th {\n",
       "        vertical-align: top;\n",
       "    }\n",
       "\n",
       "    .dataframe thead th {\n",
       "        text-align: right;\n",
       "    }\n",
       "</style>\n",
       "<table border=\"1\" class=\"dataframe\">\n",
       "  <thead>\n",
       "    <tr style=\"text-align: right;\">\n",
       "      <th></th>\n",
       "      <th>채널명</th>\n",
       "      <th>조회수</th>\n",
       "    </tr>\n",
       "  </thead>\n",
       "  <tbody>\n",
       "    <tr>\n",
       "      <th>4</th>\n",
       "      <td>SMTOWN</td>\n",
       "      <td>1807532</td>\n",
       "    </tr>\n",
       "    <tr>\n",
       "      <th>6</th>\n",
       "      <td>1theK (원더케이)</td>\n",
       "      <td>1786042</td>\n",
       "    </tr>\n",
       "    <tr>\n",
       "      <th>8</th>\n",
       "      <td>ArianaGrandeVevo</td>\n",
       "      <td>1479692</td>\n",
       "    </tr>\n",
       "    <tr>\n",
       "      <th>0</th>\n",
       "      <td>BLACKPINK</td>\n",
       "      <td>1285130</td>\n",
       "    </tr>\n",
       "    <tr>\n",
       "      <th>1</th>\n",
       "      <td>Big Hit Labels</td>\n",
       "      <td>1208966</td>\n",
       "    </tr>\n",
       "  </tbody>\n",
       "</table>\n",
       "</div>"
      ],
      "text/plain": [
       "                채널명      조회수\n",
       "4            SMTOWN  1807532\n",
       "6      1theK (원더케이)  1786042\n",
       "8  ArianaGrandeVevo  1479692\n",
       "0         BLACKPINK  1285130\n",
       "1    Big Hit Labels  1208966"
      ]
     },
     "execution_count": 152,
     "metadata": {},
     "output_type": "execute_result"
    }
   ],
   "source": [
    "# 조회수가 많은 5개 채널 출력\n",
    "youtube.sort_values('조회수', ascending=False)[['채널명','조회수']][:5]"
   ]
  },
  {
   "cell_type": "markdown",
   "id": "b976519f-5c93-4f0d-85f3-1baace6e7d81",
   "metadata": {},
   "source": [
    "## '카테고리'가 [음악/댄스/가수]\t인 채널의 '구독자수' 상위 5개 출력"
   ]
  },
  {
   "cell_type": "code",
   "execution_count": 154,
   "id": "671a31e1-732f-499f-b720-68afe9e99632",
   "metadata": {},
   "outputs": [
    {
     "data": {
      "text/html": [
       "<div>\n",
       "<style scoped>\n",
       "    .dataframe tbody tr th:only-of-type {\n",
       "        vertical-align: middle;\n",
       "    }\n",
       "\n",
       "    .dataframe tbody tr th {\n",
       "        vertical-align: top;\n",
       "    }\n",
       "\n",
       "    .dataframe thead th {\n",
       "        text-align: right;\n",
       "    }\n",
       "</style>\n",
       "<table border=\"1\" class=\"dataframe\">\n",
       "  <thead>\n",
       "    <tr style=\"text-align: right;\">\n",
       "      <th></th>\n",
       "      <th>채널명</th>\n",
       "      <th>카테고리</th>\n",
       "      <th>구독자수</th>\n",
       "      <th>조회수</th>\n",
       "      <th>영상개수</th>\n",
       "    </tr>\n",
       "  </thead>\n",
       "  <tbody>\n",
       "    <tr>\n",
       "      <th>0</th>\n",
       "      <td>BLACKPINK</td>\n",
       "      <td>[음악/댄스/가수]</td>\n",
       "      <td>5140</td>\n",
       "      <td>1285130</td>\n",
       "      <td>319</td>\n",
       "    </tr>\n",
       "    <tr>\n",
       "      <th>1</th>\n",
       "      <td>Big Hit Labels</td>\n",
       "      <td>[음악/댄스/가수]</td>\n",
       "      <td>4550</td>\n",
       "      <td>1208966</td>\n",
       "      <td>433</td>\n",
       "    </tr>\n",
       "    <tr>\n",
       "      <th>2</th>\n",
       "      <td>BANGTANTV</td>\n",
       "      <td>[음악/댄스/가수]</td>\n",
       "      <td>3870</td>\n",
       "      <td>547598</td>\n",
       "      <td>1319</td>\n",
       "    </tr>\n",
       "    <tr>\n",
       "      <th>4</th>\n",
       "      <td>SMTOWN</td>\n",
       "      <td>[음악/댄스/가수]</td>\n",
       "      <td>2450</td>\n",
       "      <td>1807532</td>\n",
       "      <td>3583</td>\n",
       "    </tr>\n",
       "    <tr>\n",
       "      <th>5</th>\n",
       "      <td>1MILLION Dance Studio</td>\n",
       "      <td>[음악/댄스/가수]</td>\n",
       "      <td>2230</td>\n",
       "      <td>575358</td>\n",
       "      <td>2205</td>\n",
       "    </tr>\n",
       "  </tbody>\n",
       "</table>\n",
       "</div>"
      ],
      "text/plain": [
       "                     채널명        카테고리  구독자수      조회수  영상개수\n",
       "0              BLACKPINK  [음악/댄스/가수]  5140  1285130   319\n",
       "1         Big Hit Labels  [음악/댄스/가수]  4550  1208966   433\n",
       "2              BANGTANTV  [음악/댄스/가수]  3870   547598  1319\n",
       "4                 SMTOWN  [음악/댄스/가수]  2450  1807532  3583\n",
       "5  1MILLION Dance Studio  [음악/댄스/가수]  2230   575358  2205"
      ]
     },
     "execution_count": 154,
     "metadata": {},
     "output_type": "execute_result"
    }
   ],
   "source": [
    "youtube[youtube['카테고리'] == '[음악/댄스/가수]'].sort_values('구독자수', ascending=False)[:5]"
   ]
  },
  {
   "cell_type": "markdown",
   "id": "d8a17024-6635-4fc8-95cd-72b2f594627b",
   "metadata": {},
   "source": [
    "## '카테고리'가 [TV/방송]이거나 [게임]인 채널의 개수 출력"
   ]
  },
  {
   "cell_type": "code",
   "execution_count": 156,
   "id": "7d3ce9d7-910c-4113-acf8-6201d0e445cb",
   "metadata": {},
   "outputs": [
    {
     "data": {
      "text/plain": [
       "262"
      ]
     },
     "execution_count": 156,
     "metadata": {},
     "output_type": "execute_result"
    }
   ],
   "source": [
    "sum(np.logical_or(youtube['카테고리'] == '[TV/방송]', youtube['카테고리'] == '[게임]'))"
   ]
  },
  {
   "cell_type": "markdown",
   "id": "9120cc69-5a67-4f84-8152-e8453e44853c",
   "metadata": {},
   "source": [
    "## '채널명'에 'KBS'가 포함된 채널 명을 출력하시오."
   ]
  },
  {
   "cell_type": "code",
   "execution_count": 158,
   "id": "d7ad1c05-9b0d-4cfe-bc59-bda070efc467",
   "metadata": {},
   "outputs": [
    {
     "data": {
      "text/html": [
       "<div>\n",
       "<style scoped>\n",
       "    .dataframe tbody tr th:only-of-type {\n",
       "        vertical-align: middle;\n",
       "    }\n",
       "\n",
       "    .dataframe tbody tr th {\n",
       "        vertical-align: top;\n",
       "    }\n",
       "\n",
       "    .dataframe thead th {\n",
       "        text-align: right;\n",
       "    }\n",
       "</style>\n",
       "<table border=\"1\" class=\"dataframe\">\n",
       "  <thead>\n",
       "    <tr style=\"text-align: right;\">\n",
       "      <th></th>\n",
       "      <th>채널명</th>\n",
       "    </tr>\n",
       "  </thead>\n",
       "  <tbody>\n",
       "    <tr>\n",
       "      <th>12</th>\n",
       "      <td>KBS World</td>\n",
       "    </tr>\n",
       "    <tr>\n",
       "      <th>46</th>\n",
       "      <td>KBS Kpop</td>\n",
       "    </tr>\n",
       "    <tr>\n",
       "      <th>76</th>\n",
       "      <td>KBS Entertain</td>\n",
       "    </tr>\n",
       "    <tr>\n",
       "      <th>101</th>\n",
       "      <td>KBS Drama</td>\n",
       "    </tr>\n",
       "    <tr>\n",
       "      <th>290</th>\n",
       "      <td>KBS 한국방송</td>\n",
       "    </tr>\n",
       "    <tr>\n",
       "      <th>292</th>\n",
       "      <td>KBS Drama Classic</td>\n",
       "    </tr>\n",
       "    <tr>\n",
       "      <th>308</th>\n",
       "      <td>KBS HUMAN: 뭉클티비</td>\n",
       "    </tr>\n",
       "    <tr>\n",
       "      <th>389</th>\n",
       "      <td>KBS News</td>\n",
       "    </tr>\n",
       "    <tr>\n",
       "      <th>457</th>\n",
       "      <td>KBS CoolFM</td>\n",
       "    </tr>\n",
       "    <tr>\n",
       "      <th>716</th>\n",
       "      <td>KBS N</td>\n",
       "    </tr>\n",
       "    <tr>\n",
       "      <th>777</th>\n",
       "      <td>KBS KONG</td>\n",
       "    </tr>\n",
       "    <tr>\n",
       "      <th>991</th>\n",
       "      <td>KBS Documentary [KBS 다큐]</td>\n",
       "    </tr>\n",
       "    <tr>\n",
       "      <th>992</th>\n",
       "      <td>KBS 교양</td>\n",
       "    </tr>\n",
       "  </tbody>\n",
       "</table>\n",
       "</div>"
      ],
      "text/plain": [
       "                          채널명\n",
       "12                  KBS World\n",
       "46                   KBS Kpop\n",
       "76              KBS Entertain\n",
       "101                 KBS Drama\n",
       "290                  KBS 한국방송\n",
       "292         KBS Drama Classic\n",
       "308           KBS HUMAN: 뭉클티비\n",
       "389                  KBS News\n",
       "457                KBS CoolFM\n",
       "716                     KBS N\n",
       "777                  KBS KONG\n",
       "991  KBS Documentary [KBS 다큐]\n",
       "992                    KBS 교양"
      ]
     },
     "execution_count": 158,
     "metadata": {},
     "output_type": "execute_result"
    }
   ],
   "source": [
    "youtube[youtube['채널명'].str.contains('KBS')][['채널명']]"
   ]
  },
  {
   "cell_type": "markdown",
   "id": "c4412eb3-f667-4094-81bd-972d22211193",
   "metadata": {},
   "source": [
    "## '카테고리'별 '구독자수','조회수','영상개수'의 평균 출력"
   ]
  },
  {
   "cell_type": "code",
   "execution_count": 162,
   "id": "73f67772-6d1e-4cc7-930f-4de77939a133",
   "metadata": {},
   "outputs": [
    {
     "data": {
      "text/html": [
       "<div>\n",
       "<style scoped>\n",
       "    .dataframe tbody tr th:only-of-type {\n",
       "        vertical-align: middle;\n",
       "    }\n",
       "\n",
       "    .dataframe tbody tr th {\n",
       "        vertical-align: top;\n",
       "    }\n",
       "\n",
       "    .dataframe thead th {\n",
       "        text-align: right;\n",
       "    }\n",
       "</style>\n",
       "<table border=\"1\" class=\"dataframe\">\n",
       "  <thead>\n",
       "    <tr style=\"text-align: right;\">\n",
       "      <th></th>\n",
       "      <th>구독자수</th>\n",
       "      <th>조회수</th>\n",
       "      <th>영상개수</th>\n",
       "    </tr>\n",
       "    <tr>\n",
       "      <th>카테고리</th>\n",
       "      <th></th>\n",
       "      <th></th>\n",
       "      <th></th>\n",
       "    </tr>\n",
       "  </thead>\n",
       "  <tbody>\n",
       "    <tr>\n",
       "      <th>[BJ/인물/연예인]</th>\n",
       "      <td>127.441176</td>\n",
       "      <td>41015.485294</td>\n",
       "      <td>837.735294</td>\n",
       "    </tr>\n",
       "    <tr>\n",
       "      <th>[IT/기술/컴퓨터]</th>\n",
       "      <td>80.625000</td>\n",
       "      <td>17661.000000</td>\n",
       "      <td>1200.125000</td>\n",
       "    </tr>\n",
       "    <tr>\n",
       "      <th>[TV/방송]</th>\n",
       "      <td>121.987578</td>\n",
       "      <td>71848.341615</td>\n",
       "      <td>9025.130435</td>\n",
       "    </tr>\n",
       "    <tr>\n",
       "      <th>[게임]</th>\n",
       "      <td>74.356436</td>\n",
       "      <td>45425.346535</td>\n",
       "      <td>2527.009901</td>\n",
       "    </tr>\n",
       "    <tr>\n",
       "      <th>[교육/강의]</th>\n",
       "      <td>85.130435</td>\n",
       "      <td>17721.826087</td>\n",
       "      <td>837.913043</td>\n",
       "    </tr>\n",
       "    <tr>\n",
       "      <th>[국내/해외/여행]</th>\n",
       "      <td>62.600000</td>\n",
       "      <td>18662.400000</td>\n",
       "      <td>830.200000</td>\n",
       "    </tr>\n",
       "    <tr>\n",
       "      <th>[뉴스/정치/사회]</th>\n",
       "      <td>122.696429</td>\n",
       "      <td>119993.553571</td>\n",
       "      <td>42048.089286</td>\n",
       "    </tr>\n",
       "    <tr>\n",
       "      <th>[미분류]</th>\n",
       "      <td>142.950000</td>\n",
       "      <td>40903.400000</td>\n",
       "      <td>778.050000</td>\n",
       "    </tr>\n",
       "    <tr>\n",
       "      <th>[스포츠/운동]</th>\n",
       "      <td>93.250000</td>\n",
       "      <td>27918.916667</td>\n",
       "      <td>3954.916667</td>\n",
       "    </tr>\n",
       "    <tr>\n",
       "      <th>[애완/반려동물]</th>\n",
       "      <td>116.100000</td>\n",
       "      <td>42131.700000</td>\n",
       "      <td>786.250000</td>\n",
       "    </tr>\n",
       "    <tr>\n",
       "      <th>[영화/만화/애니]</th>\n",
       "      <td>85.272727</td>\n",
       "      <td>31858.696970</td>\n",
       "      <td>770.181818</td>\n",
       "    </tr>\n",
       "    <tr>\n",
       "      <th>[음식/요리/레시피]</th>\n",
       "      <td>161.204545</td>\n",
       "      <td>40738.193182</td>\n",
       "      <td>830.022727</td>\n",
       "    </tr>\n",
       "    <tr>\n",
       "      <th>[음악/댄스/가수]</th>\n",
       "      <td>319.520000</td>\n",
       "      <td>109166.845714</td>\n",
       "      <td>1382.051429</td>\n",
       "    </tr>\n",
       "    <tr>\n",
       "      <th>[자동차]</th>\n",
       "      <td>49.000000</td>\n",
       "      <td>18561.500000</td>\n",
       "      <td>670.000000</td>\n",
       "    </tr>\n",
       "    <tr>\n",
       "      <th>[주식/경제/부동산]</th>\n",
       "      <td>62.600000</td>\n",
       "      <td>6800.000000</td>\n",
       "      <td>1026.400000</td>\n",
       "    </tr>\n",
       "    <tr>\n",
       "      <th>[취미/라이프]</th>\n",
       "      <td>97.450000</td>\n",
       "      <td>20431.175000</td>\n",
       "      <td>359.325000</td>\n",
       "    </tr>\n",
       "    <tr>\n",
       "      <th>[취미]</th>\n",
       "      <td>56.000000</td>\n",
       "      <td>10615.000000</td>\n",
       "      <td>237.000000</td>\n",
       "    </tr>\n",
       "    <tr>\n",
       "      <th>[키즈/어린이]</th>\n",
       "      <td>272.915789</td>\n",
       "      <td>128138.431579</td>\n",
       "      <td>1069.157895</td>\n",
       "    </tr>\n",
       "    <tr>\n",
       "      <th>[패션/미용]</th>\n",
       "      <td>82.385965</td>\n",
       "      <td>10437.736842</td>\n",
       "      <td>313.157895</td>\n",
       "    </tr>\n",
       "    <tr>\n",
       "      <th>[해외]</th>\n",
       "      <td>159.500000</td>\n",
       "      <td>83825.333333</td>\n",
       "      <td>5043.500000</td>\n",
       "    </tr>\n",
       "    <tr>\n",
       "      <th>[회사/오피셜]</th>\n",
       "      <td>220.250000</td>\n",
       "      <td>49661.250000</td>\n",
       "      <td>2084.250000</td>\n",
       "    </tr>\n",
       "  </tbody>\n",
       "</table>\n",
       "</div>"
      ],
      "text/plain": [
       "                   구독자수            조회수          영상개수\n",
       "카테고리                                                \n",
       "[BJ/인물/연예인]  127.441176   41015.485294    837.735294\n",
       "[IT/기술/컴퓨터]   80.625000   17661.000000   1200.125000\n",
       "[TV/방송]      121.987578   71848.341615   9025.130435\n",
       "[게임]          74.356436   45425.346535   2527.009901\n",
       "[교육/강의]       85.130435   17721.826087    837.913043\n",
       "[국내/해외/여행]    62.600000   18662.400000    830.200000\n",
       "[뉴스/정치/사회]   122.696429  119993.553571  42048.089286\n",
       "[미분류]        142.950000   40903.400000    778.050000\n",
       "[스포츠/운동]      93.250000   27918.916667   3954.916667\n",
       "[애완/반려동물]    116.100000   42131.700000    786.250000\n",
       "[영화/만화/애니]    85.272727   31858.696970    770.181818\n",
       "[음식/요리/레시피]  161.204545   40738.193182    830.022727\n",
       "[음악/댄스/가수]   319.520000  109166.845714   1382.051429\n",
       "[자동차]         49.000000   18561.500000    670.000000\n",
       "[주식/경제/부동산]   62.600000    6800.000000   1026.400000\n",
       "[취미/라이프]      97.450000   20431.175000    359.325000\n",
       "[취미]          56.000000   10615.000000    237.000000\n",
       "[키즈/어린이]     272.915789  128138.431579   1069.157895\n",
       "[패션/미용]       82.385965   10437.736842    313.157895\n",
       "[해외]         159.500000   83825.333333   5043.500000\n",
       "[회사/오피셜]     220.250000   49661.250000   2084.250000"
      ]
     },
     "execution_count": 162,
     "metadata": {},
     "output_type": "execute_result"
    }
   ],
   "source": [
    "youtube.groupby(youtube['카테고리'])[['구독자수', '조회수','영상개수']].mean()"
   ]
  }
 ],
 "metadata": {
  "kernelspec": {
   "display_name": "Python 3 (ipykernel)",
   "language": "python",
   "name": "python3"
  },
  "language_info": {
   "codemirror_mode": {
    "name": "ipython",
    "version": 3
   },
   "file_extension": ".py",
   "mimetype": "text/x-python",
   "name": "python",
   "nbconvert_exporter": "python",
   "pygments_lexer": "ipython3",
   "version": "3.11.5"
  }
 },
 "nbformat": 4,
 "nbformat_minor": 5
}
