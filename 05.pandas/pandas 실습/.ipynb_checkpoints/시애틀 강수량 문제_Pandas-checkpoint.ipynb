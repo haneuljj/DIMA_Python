{
 "cells": [
  {
   "cell_type": "markdown",
   "id": "9e6f49e6",
   "metadata": {},
   "source": [
    "# 시애틀 강수량 데이터 분석\n",
    "- 데이터 로딩\n",
    "- 필요하지 않은 컬럼 삭제 (STATION, STATION_NAME)\n",
    "- DATE를 날짜 형식으로 수정 : 기존 DATE 컬럼의 타입 int -> str로 변경 후 날짜 형식으로 변경\n",
    "- 날짜 컬럼을 인덱스로 변경\n",
    "- 강수량('PRCP')이 많은 날 상위 10일 출력\n",
    "- 1월 강수량만 출력\n",
    "- 1년동안 강수량이 40미만으로 내린 날이 몇일인가?\n",
    "- 1월에 내린 강수량의 합과 평균 강수량\n",
    "- 2월에 내린 강수량의 합과 평균 강수량"
   ]
  },
  {
   "cell_type": "markdown",
   "id": "4ea12da9-b841-4fda-bb58-e6d9ef10dca3",
   "metadata": {},
   "source": [
    "## 데이터 로딩, 모양 및 정보 확인"
   ]
  },
  {
   "cell_type": "code",
   "execution_count": 70,
   "id": "b0453e64-56d5-4f90-84ea-c4ab2bc26b35",
   "metadata": {},
   "outputs": [
    {
     "name": "stdout",
     "output_type": "stream",
     "text": [
      "<class 'pandas.core.frame.DataFrame'>\n",
      "RangeIndex: 365 entries, 0 to 364\n",
      "Data columns (total 17 columns):\n",
      " #   Column        Non-Null Count  Dtype \n",
      "---  ------        --------------  ----- \n",
      " 0   STATION       365 non-null    object\n",
      " 1   STATION_NAME  365 non-null    object\n",
      " 2   DATE          365 non-null    int64 \n",
      " 3   PRCP          365 non-null    int64 \n",
      " 4   SNWD          365 non-null    int64 \n",
      " 5   SNOW          365 non-null    int64 \n",
      " 6   TMAX          365 non-null    int64 \n",
      " 7   TMIN          365 non-null    int64 \n",
      " 8   AWND          365 non-null    int64 \n",
      " 9   WDF2          365 non-null    int64 \n",
      " 10  WDF5          365 non-null    int64 \n",
      " 11  WSF2          365 non-null    int64 \n",
      " 12  WSF5          365 non-null    int64 \n",
      " 13  WT01          365 non-null    int64 \n",
      " 14  WT05          365 non-null    int64 \n",
      " 15  WT02          365 non-null    int64 \n",
      " 16  WT03          365 non-null    int64 \n",
      "dtypes: int64(15), object(2)\n",
      "memory usage: 48.6+ KB\n"
     ]
    },
    {
     "data": {
      "text/plain": [
       "(365, 17)"
      ]
     },
     "execution_count": 70,
     "metadata": {},
     "output_type": "execute_result"
    }
   ],
   "source": [
    "import pandas as pd\n",
    "import numpy as np\n",
    "\n",
    "df = pd.read_csv('Seattle2014.csv')\n",
    "df.head()\n",
    "df.tail()\n",
    "df.info()\n",
    "df.sample()\n",
    "df.shape"
   ]
  },
  {
   "cell_type": "code",
   "execution_count": 58,
   "id": "232557d9-a7a0-4642-95ba-2eb8ceed865e",
   "metadata": {},
   "outputs": [
    {
     "data": {
      "text/plain": [
       "STATION         0\n",
       "STATION_NAME    0\n",
       "DATE            0\n",
       "PRCP            0\n",
       "SNWD            0\n",
       "SNOW            0\n",
       "TMAX            0\n",
       "TMIN            0\n",
       "AWND            0\n",
       "WDF2            0\n",
       "WDF5            0\n",
       "WSF2            0\n",
       "WSF5            0\n",
       "WT01            0\n",
       "WT05            0\n",
       "WT02            0\n",
       "WT03            0\n",
       "dtype: int64"
      ]
     },
     "execution_count": 58,
     "metadata": {},
     "output_type": "execute_result"
    }
   ],
   "source": [
    "np.sum(df.isna())   # 각 컬럼별 결측치값 확인"
   ]
  },
  {
   "cell_type": "markdown",
   "id": "32187ee5-d410-472e-9220-5b9af12e011a",
   "metadata": {},
   "source": [
    "## 필요하지 않은 컬럼 삭제"
   ]
  },
  {
   "cell_type": "code",
   "execution_count": 71,
   "id": "2243ddc0-4642-495e-a84a-ac122604a132",
   "metadata": {},
   "outputs": [
    {
     "data": {
      "text/html": [
       "<div>\n",
       "<style scoped>\n",
       "    .dataframe tbody tr th:only-of-type {\n",
       "        vertical-align: middle;\n",
       "    }\n",
       "\n",
       "    .dataframe tbody tr th {\n",
       "        vertical-align: top;\n",
       "    }\n",
       "\n",
       "    .dataframe thead th {\n",
       "        text-align: right;\n",
       "    }\n",
       "</style>\n",
       "<table border=\"1\" class=\"dataframe\">\n",
       "  <thead>\n",
       "    <tr style=\"text-align: right;\">\n",
       "      <th></th>\n",
       "      <th>DATE</th>\n",
       "      <th>PRCP</th>\n",
       "      <th>SNWD</th>\n",
       "      <th>SNOW</th>\n",
       "      <th>TMAX</th>\n",
       "      <th>TMIN</th>\n",
       "      <th>AWND</th>\n",
       "      <th>WDF2</th>\n",
       "      <th>WDF5</th>\n",
       "      <th>WSF2</th>\n",
       "      <th>WSF5</th>\n",
       "      <th>WT01</th>\n",
       "      <th>WT05</th>\n",
       "      <th>WT02</th>\n",
       "      <th>WT03</th>\n",
       "    </tr>\n",
       "  </thead>\n",
       "  <tbody>\n",
       "    <tr>\n",
       "      <th>0</th>\n",
       "      <td>20140101</td>\n",
       "      <td>0</td>\n",
       "      <td>0</td>\n",
       "      <td>0</td>\n",
       "      <td>72</td>\n",
       "      <td>33</td>\n",
       "      <td>12</td>\n",
       "      <td>340</td>\n",
       "      <td>310</td>\n",
       "      <td>36</td>\n",
       "      <td>40</td>\n",
       "      <td>-9999</td>\n",
       "      <td>-9999</td>\n",
       "      <td>-9999</td>\n",
       "      <td>-9999</td>\n",
       "    </tr>\n",
       "    <tr>\n",
       "      <th>1</th>\n",
       "      <td>20140102</td>\n",
       "      <td>41</td>\n",
       "      <td>0</td>\n",
       "      <td>0</td>\n",
       "      <td>106</td>\n",
       "      <td>61</td>\n",
       "      <td>32</td>\n",
       "      <td>190</td>\n",
       "      <td>200</td>\n",
       "      <td>94</td>\n",
       "      <td>116</td>\n",
       "      <td>-9999</td>\n",
       "      <td>-9999</td>\n",
       "      <td>-9999</td>\n",
       "      <td>-9999</td>\n",
       "    </tr>\n",
       "    <tr>\n",
       "      <th>2</th>\n",
       "      <td>20140103</td>\n",
       "      <td>15</td>\n",
       "      <td>0</td>\n",
       "      <td>0</td>\n",
       "      <td>89</td>\n",
       "      <td>28</td>\n",
       "      <td>26</td>\n",
       "      <td>30</td>\n",
       "      <td>50</td>\n",
       "      <td>63</td>\n",
       "      <td>72</td>\n",
       "      <td>1</td>\n",
       "      <td>-9999</td>\n",
       "      <td>-9999</td>\n",
       "      <td>-9999</td>\n",
       "    </tr>\n",
       "    <tr>\n",
       "      <th>3</th>\n",
       "      <td>20140104</td>\n",
       "      <td>0</td>\n",
       "      <td>0</td>\n",
       "      <td>0</td>\n",
       "      <td>78</td>\n",
       "      <td>6</td>\n",
       "      <td>27</td>\n",
       "      <td>40</td>\n",
       "      <td>40</td>\n",
       "      <td>45</td>\n",
       "      <td>58</td>\n",
       "      <td>1</td>\n",
       "      <td>-9999</td>\n",
       "      <td>-9999</td>\n",
       "      <td>-9999</td>\n",
       "    </tr>\n",
       "    <tr>\n",
       "      <th>4</th>\n",
       "      <td>20140105</td>\n",
       "      <td>0</td>\n",
       "      <td>0</td>\n",
       "      <td>0</td>\n",
       "      <td>83</td>\n",
       "      <td>-5</td>\n",
       "      <td>37</td>\n",
       "      <td>10</td>\n",
       "      <td>10</td>\n",
       "      <td>67</td>\n",
       "      <td>76</td>\n",
       "      <td>-9999</td>\n",
       "      <td>-9999</td>\n",
       "      <td>-9999</td>\n",
       "      <td>-9999</td>\n",
       "    </tr>\n",
       "  </tbody>\n",
       "</table>\n",
       "</div>"
      ],
      "text/plain": [
       "       DATE  PRCP  SNWD  SNOW  TMAX  TMIN  AWND  WDF2  WDF5  WSF2  WSF5  WT01  WT05  WT02  WT03\n",
       "0  20140101     0     0     0    72    33    12   340   310    36    40 -9999 -9999 -9999 -9999\n",
       "1  20140102    41     0     0   106    61    32   190   200    94   116 -9999 -9999 -9999 -9999\n",
       "2  20140103    15     0     0    89    28    26    30    50    63    72     1 -9999 -9999 -9999\n",
       "3  20140104     0     0     0    78     6    27    40    40    45    58     1 -9999 -9999 -9999\n",
       "4  20140105     0     0     0    83    -5    37    10    10    67    76 -9999 -9999 -9999 -9999"
      ]
     },
     "execution_count": 71,
     "metadata": {},
     "output_type": "execute_result"
    }
   ],
   "source": [
    "df = df.drop('STATION', axis=1)\n",
    "df = df.drop('STATION_NAME', axis=1)\n",
    "# df.drop(['STATION', 'STATION_NAME'], axis=1, inplace=True)\n",
    "\n",
    "df.head()"
   ]
  },
  {
   "cell_type": "markdown",
   "id": "f0e6dfd1-4bcf-4f4a-86ae-17ad5a87142b",
   "metadata": {},
   "source": [
    "## DATE를 날짜 형식으로 수정 : 기존 DATE 컬럼의 타입 int -> str로 변경 후 날짜 형식으로 변경"
   ]
  },
  {
   "cell_type": "code",
   "execution_count": 73,
   "id": "16f75ed2-7453-43df-88ad-1e90f8928076",
   "metadata": {},
   "outputs": [
    {
     "data": {
      "text/html": [
       "<div>\n",
       "<style scoped>\n",
       "    .dataframe tbody tr th:only-of-type {\n",
       "        vertical-align: middle;\n",
       "    }\n",
       "\n",
       "    .dataframe tbody tr th {\n",
       "        vertical-align: top;\n",
       "    }\n",
       "\n",
       "    .dataframe thead th {\n",
       "        text-align: right;\n",
       "    }\n",
       "</style>\n",
       "<table border=\"1\" class=\"dataframe\">\n",
       "  <thead>\n",
       "    <tr style=\"text-align: right;\">\n",
       "      <th></th>\n",
       "      <th>DATE</th>\n",
       "      <th>PRCP</th>\n",
       "      <th>SNWD</th>\n",
       "      <th>SNOW</th>\n",
       "      <th>TMAX</th>\n",
       "      <th>TMIN</th>\n",
       "      <th>AWND</th>\n",
       "      <th>WDF2</th>\n",
       "      <th>WDF5</th>\n",
       "      <th>WSF2</th>\n",
       "      <th>WSF5</th>\n",
       "      <th>WT01</th>\n",
       "      <th>WT05</th>\n",
       "      <th>WT02</th>\n",
       "      <th>WT03</th>\n",
       "    </tr>\n",
       "  </thead>\n",
       "  <tbody>\n",
       "    <tr>\n",
       "      <th>0</th>\n",
       "      <td>2014-01-01</td>\n",
       "      <td>0</td>\n",
       "      <td>0</td>\n",
       "      <td>0</td>\n",
       "      <td>72</td>\n",
       "      <td>33</td>\n",
       "      <td>12</td>\n",
       "      <td>340</td>\n",
       "      <td>310</td>\n",
       "      <td>36</td>\n",
       "      <td>40</td>\n",
       "      <td>-9999</td>\n",
       "      <td>-9999</td>\n",
       "      <td>-9999</td>\n",
       "      <td>-9999</td>\n",
       "    </tr>\n",
       "    <tr>\n",
       "      <th>1</th>\n",
       "      <td>2014-01-02</td>\n",
       "      <td>41</td>\n",
       "      <td>0</td>\n",
       "      <td>0</td>\n",
       "      <td>106</td>\n",
       "      <td>61</td>\n",
       "      <td>32</td>\n",
       "      <td>190</td>\n",
       "      <td>200</td>\n",
       "      <td>94</td>\n",
       "      <td>116</td>\n",
       "      <td>-9999</td>\n",
       "      <td>-9999</td>\n",
       "      <td>-9999</td>\n",
       "      <td>-9999</td>\n",
       "    </tr>\n",
       "    <tr>\n",
       "      <th>2</th>\n",
       "      <td>2014-01-03</td>\n",
       "      <td>15</td>\n",
       "      <td>0</td>\n",
       "      <td>0</td>\n",
       "      <td>89</td>\n",
       "      <td>28</td>\n",
       "      <td>26</td>\n",
       "      <td>30</td>\n",
       "      <td>50</td>\n",
       "      <td>63</td>\n",
       "      <td>72</td>\n",
       "      <td>1</td>\n",
       "      <td>-9999</td>\n",
       "      <td>-9999</td>\n",
       "      <td>-9999</td>\n",
       "    </tr>\n",
       "    <tr>\n",
       "      <th>3</th>\n",
       "      <td>2014-01-04</td>\n",
       "      <td>0</td>\n",
       "      <td>0</td>\n",
       "      <td>0</td>\n",
       "      <td>78</td>\n",
       "      <td>6</td>\n",
       "      <td>27</td>\n",
       "      <td>40</td>\n",
       "      <td>40</td>\n",
       "      <td>45</td>\n",
       "      <td>58</td>\n",
       "      <td>1</td>\n",
       "      <td>-9999</td>\n",
       "      <td>-9999</td>\n",
       "      <td>-9999</td>\n",
       "    </tr>\n",
       "    <tr>\n",
       "      <th>4</th>\n",
       "      <td>2014-01-05</td>\n",
       "      <td>0</td>\n",
       "      <td>0</td>\n",
       "      <td>0</td>\n",
       "      <td>83</td>\n",
       "      <td>-5</td>\n",
       "      <td>37</td>\n",
       "      <td>10</td>\n",
       "      <td>10</td>\n",
       "      <td>67</td>\n",
       "      <td>76</td>\n",
       "      <td>-9999</td>\n",
       "      <td>-9999</td>\n",
       "      <td>-9999</td>\n",
       "      <td>-9999</td>\n",
       "    </tr>\n",
       "  </tbody>\n",
       "</table>\n",
       "</div>"
      ],
      "text/plain": [
       "        DATE  PRCP  SNWD  SNOW  TMAX  TMIN  AWND  WDF2  WDF5  WSF2  WSF5  WT01  WT05  WT02  WT03\n",
       "0 2014-01-01     0     0     0    72    33    12   340   310    36    40 -9999 -9999 -9999 -9999\n",
       "1 2014-01-02    41     0     0   106    61    32   190   200    94   116 -9999 -9999 -9999 -9999\n",
       "2 2014-01-03    15     0     0    89    28    26    30    50    63    72     1 -9999 -9999 -9999\n",
       "3 2014-01-04     0     0     0    78     6    27    40    40    45    58     1 -9999 -9999 -9999\n",
       "4 2014-01-05     0     0     0    83    -5    37    10    10    67    76 -9999 -9999 -9999 -9999"
      ]
     },
     "execution_count": 73,
     "metadata": {},
     "output_type": "execute_result"
    }
   ],
   "source": [
    "df['DATE'] = df['DATE'].astype('str')  # str로 변경\n",
    "df.dtypes\n",
    "\n",
    "df['DATE'] = pd.to_datetime(df['DATE'])#, format='%Y%m%d')   # 날짜 형식으로 변경\n",
    "df.head()"
   ]
  },
  {
   "cell_type": "markdown",
   "id": "35eddbaa-ddef-4bf1-8295-1e5ea9e92ebf",
   "metadata": {},
   "source": [
    "## 날짜 컬럼을 인덱스로 변경"
   ]
  },
  {
   "cell_type": "code",
   "execution_count": 74,
   "id": "f639cb75-3111-415c-a7b8-72bd012d279b",
   "metadata": {},
   "outputs": [
    {
     "data": {
      "text/html": [
       "<div>\n",
       "<style scoped>\n",
       "    .dataframe tbody tr th:only-of-type {\n",
       "        vertical-align: middle;\n",
       "    }\n",
       "\n",
       "    .dataframe tbody tr th {\n",
       "        vertical-align: top;\n",
       "    }\n",
       "\n",
       "    .dataframe thead th {\n",
       "        text-align: right;\n",
       "    }\n",
       "</style>\n",
       "<table border=\"1\" class=\"dataframe\">\n",
       "  <thead>\n",
       "    <tr style=\"text-align: right;\">\n",
       "      <th></th>\n",
       "      <th>PRCP</th>\n",
       "      <th>SNWD</th>\n",
       "      <th>SNOW</th>\n",
       "      <th>TMAX</th>\n",
       "      <th>TMIN</th>\n",
       "      <th>AWND</th>\n",
       "      <th>WDF2</th>\n",
       "      <th>WDF5</th>\n",
       "      <th>WSF2</th>\n",
       "      <th>WSF5</th>\n",
       "      <th>WT01</th>\n",
       "      <th>WT05</th>\n",
       "      <th>WT02</th>\n",
       "      <th>WT03</th>\n",
       "    </tr>\n",
       "    <tr>\n",
       "      <th>DATE</th>\n",
       "      <th></th>\n",
       "      <th></th>\n",
       "      <th></th>\n",
       "      <th></th>\n",
       "      <th></th>\n",
       "      <th></th>\n",
       "      <th></th>\n",
       "      <th></th>\n",
       "      <th></th>\n",
       "      <th></th>\n",
       "      <th></th>\n",
       "      <th></th>\n",
       "      <th></th>\n",
       "      <th></th>\n",
       "    </tr>\n",
       "  </thead>\n",
       "  <tbody>\n",
       "    <tr>\n",
       "      <th>2014-01-01</th>\n",
       "      <td>0</td>\n",
       "      <td>0</td>\n",
       "      <td>0</td>\n",
       "      <td>72</td>\n",
       "      <td>33</td>\n",
       "      <td>12</td>\n",
       "      <td>340</td>\n",
       "      <td>310</td>\n",
       "      <td>36</td>\n",
       "      <td>40</td>\n",
       "      <td>-9999</td>\n",
       "      <td>-9999</td>\n",
       "      <td>-9999</td>\n",
       "      <td>-9999</td>\n",
       "    </tr>\n",
       "    <tr>\n",
       "      <th>2014-01-02</th>\n",
       "      <td>41</td>\n",
       "      <td>0</td>\n",
       "      <td>0</td>\n",
       "      <td>106</td>\n",
       "      <td>61</td>\n",
       "      <td>32</td>\n",
       "      <td>190</td>\n",
       "      <td>200</td>\n",
       "      <td>94</td>\n",
       "      <td>116</td>\n",
       "      <td>-9999</td>\n",
       "      <td>-9999</td>\n",
       "      <td>-9999</td>\n",
       "      <td>-9999</td>\n",
       "    </tr>\n",
       "    <tr>\n",
       "      <th>2014-01-03</th>\n",
       "      <td>15</td>\n",
       "      <td>0</td>\n",
       "      <td>0</td>\n",
       "      <td>89</td>\n",
       "      <td>28</td>\n",
       "      <td>26</td>\n",
       "      <td>30</td>\n",
       "      <td>50</td>\n",
       "      <td>63</td>\n",
       "      <td>72</td>\n",
       "      <td>1</td>\n",
       "      <td>-9999</td>\n",
       "      <td>-9999</td>\n",
       "      <td>-9999</td>\n",
       "    </tr>\n",
       "    <tr>\n",
       "      <th>2014-01-04</th>\n",
       "      <td>0</td>\n",
       "      <td>0</td>\n",
       "      <td>0</td>\n",
       "      <td>78</td>\n",
       "      <td>6</td>\n",
       "      <td>27</td>\n",
       "      <td>40</td>\n",
       "      <td>40</td>\n",
       "      <td>45</td>\n",
       "      <td>58</td>\n",
       "      <td>1</td>\n",
       "      <td>-9999</td>\n",
       "      <td>-9999</td>\n",
       "      <td>-9999</td>\n",
       "    </tr>\n",
       "    <tr>\n",
       "      <th>2014-01-05</th>\n",
       "      <td>0</td>\n",
       "      <td>0</td>\n",
       "      <td>0</td>\n",
       "      <td>83</td>\n",
       "      <td>-5</td>\n",
       "      <td>37</td>\n",
       "      <td>10</td>\n",
       "      <td>10</td>\n",
       "      <td>67</td>\n",
       "      <td>76</td>\n",
       "      <td>-9999</td>\n",
       "      <td>-9999</td>\n",
       "      <td>-9999</td>\n",
       "      <td>-9999</td>\n",
       "    </tr>\n",
       "  </tbody>\n",
       "</table>\n",
       "</div>"
      ],
      "text/plain": [
       "            PRCP  SNWD  SNOW  TMAX  TMIN  AWND  WDF2  WDF5  WSF2  WSF5  WT01  WT05  WT02  WT03\n",
       "DATE                                                                                          \n",
       "2014-01-01     0     0     0    72    33    12   340   310    36    40 -9999 -9999 -9999 -9999\n",
       "2014-01-02    41     0     0   106    61    32   190   200    94   116 -9999 -9999 -9999 -9999\n",
       "2014-01-03    15     0     0    89    28    26    30    50    63    72     1 -9999 -9999 -9999\n",
       "2014-01-04     0     0     0    78     6    27    40    40    45    58     1 -9999 -9999 -9999\n",
       "2014-01-05     0     0     0    83    -5    37    10    10    67    76 -9999 -9999 -9999 -9999"
      ]
     },
     "execution_count": 74,
     "metadata": {},
     "output_type": "execute_result"
    }
   ],
   "source": [
    "df.set_index('DATE', inplace=True)  # 컬럼을 인덱스로 변경\n",
    "df.head()"
   ]
  },
  {
   "cell_type": "markdown",
   "id": "e6a2f260-c79d-4f57-a5ad-87ca7127fe83",
   "metadata": {},
   "source": [
    "##  강수량('PRCP')이 많은 날 상위 10일 출력"
   ]
  },
  {
   "cell_type": "code",
   "execution_count": 75,
   "id": "c64f0a68-6362-4cdf-9045-7a979a607aac",
   "metadata": {},
   "outputs": [
    {
     "data": {
      "text/html": [
       "<div>\n",
       "<style scoped>\n",
       "    .dataframe tbody tr th:only-of-type {\n",
       "        vertical-align: middle;\n",
       "    }\n",
       "\n",
       "    .dataframe tbody tr th {\n",
       "        vertical-align: top;\n",
       "    }\n",
       "\n",
       "    .dataframe thead th {\n",
       "        text-align: right;\n",
       "    }\n",
       "</style>\n",
       "<table border=\"1\" class=\"dataframe\">\n",
       "  <thead>\n",
       "    <tr style=\"text-align: right;\">\n",
       "      <th></th>\n",
       "      <th>PRCP</th>\n",
       "    </tr>\n",
       "    <tr>\n",
       "      <th>DATE</th>\n",
       "      <th></th>\n",
       "    </tr>\n",
       "  </thead>\n",
       "  <tbody>\n",
       "    <tr>\n",
       "      <th>2014-03-05</th>\n",
       "      <td>467</td>\n",
       "    </tr>\n",
       "    <tr>\n",
       "      <th>2014-11-28</th>\n",
       "      <td>343</td>\n",
       "    </tr>\n",
       "    <tr>\n",
       "      <th>2014-05-03</th>\n",
       "      <td>333</td>\n",
       "    </tr>\n",
       "    <tr>\n",
       "      <th>2014-03-08</th>\n",
       "      <td>323</td>\n",
       "    </tr>\n",
       "    <tr>\n",
       "      <th>2014-10-22</th>\n",
       "      <td>320</td>\n",
       "    </tr>\n",
       "    <tr>\n",
       "      <th>2014-03-16</th>\n",
       "      <td>277</td>\n",
       "    </tr>\n",
       "    <tr>\n",
       "      <th>2014-02-16</th>\n",
       "      <td>264</td>\n",
       "    </tr>\n",
       "    <tr>\n",
       "      <th>2014-10-30</th>\n",
       "      <td>254</td>\n",
       "    </tr>\n",
       "    <tr>\n",
       "      <th>2014-03-28</th>\n",
       "      <td>221</td>\n",
       "    </tr>\n",
       "    <tr>\n",
       "      <th>2014-08-13</th>\n",
       "      <td>216</td>\n",
       "    </tr>\n",
       "  </tbody>\n",
       "</table>\n",
       "</div>"
      ],
      "text/plain": [
       "            PRCP\n",
       "DATE            \n",
       "2014-03-05   467\n",
       "2014-11-28   343\n",
       "2014-05-03   333\n",
       "2014-03-08   323\n",
       "2014-10-22   320\n",
       "2014-03-16   277\n",
       "2014-02-16   264\n",
       "2014-10-30   254\n",
       "2014-03-28   221\n",
       "2014-08-13   216"
      ]
     },
     "execution_count": 75,
     "metadata": {},
     "output_type": "execute_result"
    }
   ],
   "source": [
    "# answer\n",
    "df.sort_values(by='PRCP', ascending=False)[['PRCP']].head(10)\n",
    "# 강수량 기준으로 내림차순 정렬후, 강수량 컬럼을 상위 10개만 데이터프레임으로 읽어오기"
   ]
  },
  {
   "cell_type": "code",
   "execution_count": 49,
   "id": "7ca546a7-d885-4536-b4cc-f164d230b874",
   "metadata": {},
   "outputs": [
    {
     "name": "stdout",
     "output_type": "stream",
     "text": [
      "            PRCP\n",
      "DATE            \n",
      "2014-03-05   467\n",
      "2014-11-28   343\n",
      "2014-05-03   333\n",
      "2014-03-08   323\n",
      "2014-10-22   320\n",
      "2014-03-16   277\n",
      "2014-02-16   264\n",
      "2014-10-30   254\n",
      "2014-03-28   221\n",
      "2014-08-13   216\n"
     ]
    }
   ],
   "source": [
    "df.sort_values('PRCP', ascending=False, inplace=True)\n",
    "df.head()\n",
    "\n",
    "print(df[['PRCP']][:10])"
   ]
  },
  {
   "cell_type": "markdown",
   "id": "534158a5-8449-46fc-b24b-3a899e78b2d6",
   "metadata": {},
   "source": [
    "## 1월 강수량만 출력"
   ]
  },
  {
   "cell_type": "code",
   "execution_count": null,
   "id": "7fc7d778-7362-4fe5-be3a-79308f3ddd97",
   "metadata": {},
   "outputs": [],
   "source": [
    "# answer\n",
    "df['PRCP'][df.index.month == 1]"
   ]
  },
  {
   "cell_type": "code",
   "execution_count": 41,
   "id": "0d0c9124-218d-4a42-8d73-a567fe585676",
   "metadata": {},
   "outputs": [
    {
     "data": {
      "text/plain": [
       "DATE\n",
       "2014-01-01      0\n",
       "2014-01-02     41\n",
       "2014-01-03     15\n",
       "2014-01-04      0\n",
       "2014-01-05      0\n",
       "2014-01-06      3\n",
       "2014-01-07    122\n",
       "2014-01-08     97\n",
       "2014-01-09     58\n",
       "2014-01-10     43\n",
       "2014-01-11    213\n",
       "2014-01-12     15\n",
       "2014-01-13      0\n",
       "2014-01-14      0\n",
       "2014-01-15      0\n",
       "2014-01-16      0\n",
       "2014-01-17      0\n",
       "2014-01-18      0\n",
       "2014-01-19      0\n",
       "2014-01-20      0\n",
       "2014-01-21      0\n",
       "2014-01-22      5\n",
       "2014-01-23      0\n",
       "2014-01-24      0\n",
       "2014-01-25      0\n",
       "2014-01-26      0\n",
       "2014-01-27      0\n",
       "2014-01-28     89\n",
       "2014-01-29    216\n",
       "2014-01-30      0\n",
       "2014-01-31     23\n",
       "Name: PRCP, dtype: int64"
      ]
     },
     "execution_count": 41,
     "metadata": {},
     "output_type": "execute_result"
    }
   ],
   "source": [
    "df[df.index.month == 1]['PRCP']"
   ]
  },
  {
   "cell_type": "markdown",
   "id": "18332e32-7d6e-4ded-9929-b7b4441cf888",
   "metadata": {},
   "source": [
    "## 1년동안 강수량이 40미만으로 내린 날이 몇일인가?"
   ]
  },
  {
   "cell_type": "code",
   "execution_count": 65,
   "id": "450e7216-2336-4ce4-bfd4-17588eebf653",
   "metadata": {},
   "outputs": [
    {
     "data": {
      "text/plain": [
       "277"
      ]
     },
     "execution_count": 65,
     "metadata": {},
     "output_type": "execute_result"
    }
   ],
   "source": [
    "np.sum(df['PRCP'] < 40)"
   ]
  },
  {
   "cell_type": "code",
   "execution_count": 66,
   "id": "62792940-dcff-4dca-beae-280da9821096",
   "metadata": {},
   "outputs": [
    {
     "data": {
      "text/plain": [
       "277"
      ]
     },
     "execution_count": 66,
     "metadata": {},
     "output_type": "execute_result"
    }
   ],
   "source": [
    "df[df['PRCP'] < 40]['PRCP'].count()  # null값 포함x"
   ]
  },
  {
   "cell_type": "code",
   "execution_count": 67,
   "id": "bf16cba9-15a4-42a0-8508-a17a5bd2e809",
   "metadata": {},
   "outputs": [
    {
     "data": {
      "text/plain": [
       "277"
      ]
     },
     "execution_count": 67,
     "metadata": {},
     "output_type": "execute_result"
    }
   ],
   "source": [
    "df[df['PRCP'] < 40].shape[0]  # shape -> 튜플값(행,열), 그 중에서 행값(총레코드수)을 읽어오기"
   ]
  },
  {
   "cell_type": "code",
   "execution_count": 54,
   "id": "add90d34-7428-4732-93aa-a4c34d8a8097",
   "metadata": {},
   "outputs": [
    {
     "data": {
      "text/plain": [
       "277"
      ]
     },
     "execution_count": 54,
     "metadata": {},
     "output_type": "execute_result"
    }
   ],
   "source": [
    "# value_counts: 명목형 데이터에서만 사용 \n",
    "len(df[df['PRCP'] < 40])"
   ]
  },
  {
   "cell_type": "markdown",
   "id": "a7460b13-f991-4ff0-b682-6ef38f0c2061",
   "metadata": {},
   "source": [
    "## 1월에 내린 강수량의 합과 평균 강수량"
   ]
  },
  {
   "cell_type": "code",
   "execution_count": 69,
   "id": "d8d31701-0345-4b81-bf5e-7e6bb90ac362",
   "metadata": {},
   "outputs": [
    {
     "data": {
      "text/plain": [
       "sum     940.00\n",
       "mean     30.32\n",
       "Name: PRCP, dtype: float64"
      ]
     },
     "execution_count": 69,
     "metadata": {},
     "output_type": "execute_result"
    }
   ],
   "source": [
    "df[df.index.month == 1]['PRCP'].agg(['sum', 'mean']).apply(lambda x : np.round(x,2))\n",
    "# 합과 평균을 agg로 한번에 가져오기\n",
    "# apply로 평균값출력 형식 지정(소수점 둘째자리까지)"
   ]
  },
  {
   "cell_type": "code",
   "execution_count": 47,
   "id": "195da054-9397-4529-a2b8-df1cee560dc2",
   "metadata": {},
   "outputs": [
    {
     "name": "stdout",
     "output_type": "stream",
     "text": [
      "강수량의 합: 940, 평균 강수량: 30.32\n"
     ]
    }
   ],
   "source": [
    "hap = df[df.index.month == 1]['PRCP'].sum()\n",
    "avg = df[df.index.month == 1]['PRCP'].mean()\n",
    "print(f'강수량의 합: {hap}, 평균 강수량: {avg:.2f}')"
   ]
  },
  {
   "cell_type": "markdown",
   "id": "1a3d3c74-f21e-4ed0-95ae-23f2060b2d00",
   "metadata": {},
   "source": [
    "## 2월에 내린 강수량의 합과 평균"
   ]
  },
  {
   "cell_type": "code",
   "execution_count": 48,
   "id": "7ee21249-0b9a-463f-adf7-3bdab9be2226",
   "metadata": {},
   "outputs": [
    {
     "name": "stdout",
     "output_type": "stream",
     "text": [
      "강수량의 합: 1552, 평균 강수량: 55.43\n"
     ]
    }
   ],
   "source": [
    "hap2 = df[df.index.month == 2]['PRCP'].sum()\n",
    "avg2 = df[df.index.month == 2]['PRCP'].mean()\n",
    "print(f'강수량의 합: {hap2}, 평균 강수량: {avg2:.2f}')"
   ]
  }
 ],
 "metadata": {
  "kernelspec": {
   "display_name": "Python 3 (ipykernel)",
   "language": "python",
   "name": "python3"
  },
  "language_info": {
   "codemirror_mode": {
    "name": "ipython",
    "version": 3
   },
   "file_extension": ".py",
   "mimetype": "text/x-python",
   "name": "python",
   "nbconvert_exporter": "python",
   "pygments_lexer": "ipython3",
   "version": "3.11.5"
  },
  "toc": {
   "base_numbering": 1,
   "nav_menu": {},
   "number_sections": true,
   "sideBar": true,
   "skip_h1_title": false,
   "title_cell": "Table of Contents",
   "title_sidebar": "Contents",
   "toc_cell": false,
   "toc_position": {
    "height": "calc(100% - 180px)",
    "left": "10px",
    "top": "150px",
    "width": "253.475px"
   },
   "toc_section_display": true,
   "toc_window_display": false
  }
 },
 "nbformat": 4,
 "nbformat_minor": 5
}
