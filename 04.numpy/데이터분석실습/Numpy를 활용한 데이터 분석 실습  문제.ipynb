{
 "cells": [
  {
   "cell_type": "markdown",
   "metadata": {},
   "source": [
    "# [문제] BMI 지수 계산 및 과체중 이상인 BMI 값 확인\n",
    "- 10명에 대한 키와 몸무게가 들어있는 'height_weight.txt'를 읽어 각 사람별 BMI 지수를 구하고 비만 전단계 이상인 BMI 값 확인하기\n",
    "\n",
    "<pre>\n",
    " BMI 지수 = 몸무게(kg) / 키(M)의 제곱\n",
    " 체질량지수의 범위 값에 따른 비만도 값 지정\n",
    " 18.5 미만 ▶ 저체중\n",
    " 18.5 ~ 22.9 ▶ 정상\n",
    " 23 ~ 24.9 ▶ 비만 전단계\n",
    " 25 ~ 29 ▶ 1단계 비만\n",
    " 30 ~ 34.9 ▶ 2단계 비만\n",
    " 35이상 ▶ 고도비만\n",
    "</pre>"
   ]
  },
  {
   "cell_type": "code",
   "execution_count": 32,
   "metadata": {},
   "outputs": [],
   "source": [
    "# Numpy 배열 출력 형식 변경\n",
    "np.set_printoptions(precision=3, suppress=True)  # precision: 소숫점 자리수, suppress: 축소(반내림?)"
   ]
  },
  {
   "cell_type": "code",
   "execution_count": 10,
   "metadata": {},
   "outputs": [
    {
     "name": "stdout",
     "output_type": "stream",
     "text": [
      "[[175.2 180.3 175.  169.2 185.2 188.  177.6 178.2 177.  179. ]\n",
      " [ 65.6  88.   79.2  69.3  55.   71.2  73.   68.9  74.   82. ]]\n",
      "[21.372 27.07  25.861 24.207 16.035 20.145 23.144 21.697 23.62  25.592]\n",
      "[27.07  25.861 24.207 23.144 23.62  25.592]\n"
     ]
    }
   ],
   "source": [
    "import numpy as np\n",
    "\n",
    "data = np.loadtxt('height_weight.txt', delimiter=',')  # delim iter: 구분자로 읽어올 값 입력\n",
    "print(data)  # 2차원 배열로 읽어옴\n",
    "\n",
    "data[0] = (data[0]*0.01)**2\n",
    "bmi = data[1] / data[0]\n",
    "print(bmi)\n",
    "\n",
    "danger_bmi = bmi[bmi >= 23]\n",
    "print(danger_bmi)"
   ]
  },
  {
   "cell_type": "code",
   "execution_count": 13,
   "metadata": {},
   "outputs": [
    {
     "name": "stdout",
     "output_type": "stream",
     "text": [
      "[[175.2 180.3 175.  169.2 185.2 188.  177.6 178.2 177.  179. ]\n",
      " [ 65.6  88.   79.2  69.3  55.   71.2  73.   68.9  74.   82. ]]\n",
      "[27.07  25.861 24.207 23.144 23.62  25.592]\n",
      "[24.207 23.144 23.62 ]\n"
     ]
    }
   ],
   "source": [
    "import numpy as np\n",
    "\n",
    "data = np.loadtxt('height_weight.txt', delimiter=',')\n",
    "print(data)\n",
    "\n",
    "weight = data[1]\n",
    "height = (data[0]*0.01)**2\n",
    "bmi = weight / height  # bmi = np.divide(weight, height)\n",
    "# print(bmi)\n",
    "print(bmi[bmi >= 23])\n",
    "print(bmi[np.logical_and(bmi >=23, bmi<25)])  # 비만 전단계 해당하는 것만 추출"
   ]
  },
  {
   "cell_type": "markdown",
   "metadata": {},
   "source": [
    "# [문제] 국가건강검진 혈압혈당 데이터 분석\n",
    "\n",
    "* '국가건강검진_혈압혈당데이터.csv' 파일 내용을 읽기 <data = np.loadtxt(\"국가건강검진_혈압혈당데이터.csv\", delimiter=\",\", dtype=np.float, skiprows=1)>\n",
    "    - 성별: 1(남자), 2(여자)\n",
    "    - 연령그룹: 1(20-24), 2(25-26),...25-74세까지 2살 간격으로 1개 그룹으로 지정, 27(74세 이상)\n",
    "    - 고혈압 당뇨병 진료여부: 1(고혈압 및 당뇨진료내역 있음), 2(고혈압 진료내역 있음), 3(당뇨 진료내역 있음), 4(고혈압 및 당뇨 진료내역 없음)\n",
    "    - 정상혈압: 수축기 혈압 120nnHg 미만, 확장기 혈압 80mmHg 미만\n",
    "    - 공복혈당 수치: 126 mg/dL 이상 -> 당뇨병, 100mg/dL-> 정상\n",
    "* 전체 레코드 수와 상위 5개 데이터 확인\n",
    "* 데이터 모양 확인\n",
    "* 여성과 남성의 데이터 수 확인\n",
    "* 여성과 남성의 수축기혈압과 이완기혈압의 평균값 확인\n",
    "* 정상 혈압 남자 및 여자 수 확인\n",
    "* 당뇨병 질환(공복혈당 수치 126mg/dL 이상)을 가지고 있는 사람들의 평균 체질량지수"
   ]
  },
  {
   "cell_type": "code",
   "execution_count": 11,
   "metadata": {},
   "outputs": [
    {
     "name": "stdout",
     "output_type": "stream",
     "text": [
      "(1000000, 7)\n",
      "전체 레코드 수: 1000000\n",
      "[[  1.    1.  116.   78.   94.    4.   16.6]\n",
      " [  1.    1.  100.   60.   79.    4.   22.3]\n",
      " [  1.    1.  100.   60.   87.    4.   21.9]\n",
      " [  1.    1.  111.   70.   72.    4.   20.2]\n",
      " [  1.    1.  120.   80.   98.    4.   20. ]]\n",
      "남성의 데이터 수: 510227\n",
      "여성의 데이터 수: 489773\n",
      "--------------------------------------------------\n",
      "남성 수축기혈압 평균: 124.28\n",
      "남성 이완기혈압 평균: 77.61\n",
      "--------------------------------------------------\n",
      "여성 수축기혈압 평균: 119.36\n",
      "여성 이완기혈압 평균: 73.88\n",
      "--------------------------------------------------\n",
      "정상 혈압 남자 수: 158007\n",
      "정상 혈압 여자 수: 230707\n",
      "--------------------------------------------------\n",
      "당뇨병 질환을 가진 사람들의 평균 체질량 지수: 25.17\n"
     ]
    }
   ],
   "source": [
    "import numpy as np\n",
    "\n",
    "data = np.loadtxt(\"국가건강검진_혈압혈당데이터.csv\", delimiter=\",\", dtype=np.float32, skiprows=1)\n",
    "np.set_printoptions(precision=2, suppress=True) \n",
    "\n",
    "# 데이터 모양확인\n",
    "print(data.shape)\n",
    "# 전체 레코드 수와 상위 5개 데이터 확인\n",
    "print('전체 레코드 수:', len(data))\n",
    "print(data[:5])\n",
    "# 여성과 남성의 데이터 수 확인\n",
    "print('남성의 데이터 수:',len(data[data[:,0] == 1]))\n",
    "print('여성의 데이터 수:',len(data[data[:,0] == 2]))\n",
    "print('-'*50)\n",
    "\n",
    "# 여성과 남성의 수축기혈압과 이완기혈압의 평균값 확인\n",
    "men = data[data[:,0] == 1]\n",
    "print(f'남성 수축기혈압 평균: {men[:,2].mean():.2f}')\n",
    "print(f'남성 이완기혈압 평균: {men[:,3].mean():.2f}')\n",
    "print('-'*50)\n",
    "\n",
    "women = data[data[:,0] == 2]\n",
    "print(f'여성 수축기혈압 평균: {np.average(women[:,2]):.2f}')\n",
    "print(f'여성 이완기혈압 평균: {np.average(women[:,3]):.2f}')\n",
    "print('-'*50)\n",
    "\n",
    "# 정상 혈압 남자 및 여자 수 확인\n",
    "print('정상 혈압 남자 수:',(len(men[np.logical_and(men[:,2] < 120, men[:,3] < 80)])))\n",
    "print('정상 혈압 여자 수:',(len(women[np.logical_and(women[:,2] < 120, women[:,3] < 80)])))\n",
    "print('-'*50)\n",
    "\n",
    "# 당뇨병 질환(공복혈당 수치 126mg/dL 이상)을 가지고 있는 사람들의 평균 체질량지수\n",
    "diabetes = data[data[:,4] >= 126]\n",
    "print(f'당뇨병 질환을 가진 사람들의 평균 체질량 지수: {diabetes[:,6].mean():.2f}')"
   ]
  },
  {
   "cell_type": "code",
   "execution_count": 19,
   "metadata": {},
   "outputs": [
    {
     "name": "stdout",
     "output_type": "stream",
     "text": [
      "(1000000, 7)\n",
      "[[  1.    1.  116.   78.   94.    4.   16.6]\n",
      " [  1.    1.  100.   60.   79.    4.   22.3]\n",
      " [  1.    1.  100.   60.   87.    4.   21.9]\n",
      " [  1.    1.  111.   70.   72.    4.   20.2]\n",
      " [  1.    1.  120.   80.   98.    4.   20. ]]\n",
      "--------------------------------------------------\n",
      "성별 값: [1. 2.]\n",
      "고혈압 당뇨병 진료 여부: [1. 2. 3. 4.]\n",
      "--------------------------------------------------\n",
      "남성 데이터 수: 510,227개\n",
      "여성 데이터 수: 489,773개\n",
      "--------------------------------------------------\n",
      "남성의 수축기 평균 혈압 124.28\n",
      "남성의 이완기 평균 혈압 77.61\n",
      "--------------------------------------------------\n",
      "여성의 수축기 평균 혈압 119.36\n",
      "여성의 이완기 평균 혈압 73.88\n",
      "--------------------------------------------------\n",
      "정상 혈압 남성 수: 158,007명\n",
      "정상 혈압 여성 수: 230,707명\n",
      "--------------------------------------------------\n",
      "25.168697\n"
     ]
    }
   ],
   "source": [
    "data = np.loadtxt(\"국가건강검진_혈압혈당데이터.csv\", delimiter=\",\", dtype=np.float32, skiprows=1)\n",
    "np.set_printoptions(precision=2, suppress=True) \n",
    "\n",
    "# 데이터 모양확인\n",
    "print(data.shape)\n",
    "\n",
    "# 전체 레코드 수와 상위 5개 데이터 확인\n",
    "top5 = data[:5]\n",
    "print(top5)\n",
    "print('-'*50)\n",
    "\n",
    "# 각 컬럼별 유니크 값 확인\n",
    "print('성별 값:', np.unique(data[:,0]))\n",
    "print('고혈압 당뇨병 진료 여부:', np.unique(data[:,5]))\n",
    "print('-'*50)\n",
    "\n",
    "#여성과 남성의 데이터 수 확인\n",
    "print(f'남성 데이터 수: {np.sum(data[:,0] == 1):,}개')  #:, -> 천단위 표시 \n",
    "print(f'여성 데이터 수: {np.sum(data[:,0] == 2):,}개')\n",
    "print('-'*50)\n",
    "\n",
    "# 여성과 남성의 수축기혈압과 이완기혈압의 평균값 확인\n",
    "# 수축기 혈압: sbp\n",
    "# 이완기 혈압: dbp\n",
    "male_data = data[data[:,0] == 1]\n",
    "female_data = data[data[:,0] == 2]\n",
    "\n",
    "male_sbp_mean = np.mean(male_data[:,2])\n",
    "print(f'남성의 수축기 평균 혈압 {male_sbp_mean:.2f}')\n",
    "male_dbp_mean = np.mean(male_data[:,3])\n",
    "print(f'남성의 이완기 평균 혈압 {male_dbp_mean:.2f}')\n",
    "print('-'*50)\n",
    "\n",
    "female_sbp_mean = np.mean(female_data[:,2])\n",
    "print(f'여성의 수축기 평균 혈압 {female_sbp_mean:.2f}')\n",
    "female_dbp_mean = np.mean(female_data[:,3])\n",
    "print(f'여성의 이완기 평균 혈압 {female_dbp_mean:.2f}')\n",
    "print('-'*50)\n",
    "\n",
    "# 정상 혈압 남자 및 여자 수 확인\n",
    "nbp_masking = np.logical_and(data[:,2] < 120, data[:,3] < 80)\n",
    "nbp = data[nbp_masking]  # 전체 정상 혈압 수\n",
    "print(f'정상 혈압 남성 수: {len(nbp[nbp[:,0]==1]):,}명')  # np.sum(nbp[:,0]==1)\n",
    "print(f'정상 혈압 여성 수: {len(nbp[nbp[:,0]==2]):,}명')\n",
    "print('-'*50)\n",
    "\n",
    "# 당뇨병 질환(공복혈당 수치 126mg/dL 이상)을 가지고 있는 사람들의 평균 체질량지수\n",
    "disease = data[data[:, 4] >= 126]\n",
    "print(np.mean(disease[:,6]))"
   ]
  },
  {
   "cell_type": "markdown",
   "metadata": {},
   "source": [
    "# [문제] 시에틀 강수량 데이터 분석\n",
    "- 'Seattle2014.csv' 파일 내용 읽기\n",
    "- 강수량('PRCP')이 많은 날 상위 10일 확인\n",
    "- 1월 강수량만 출력\n",
    "- 1월에 내린 강수량의 합, 평균강수량 확인\n",
    "- 1년동안 강수량이 40미만으로 내린 날이 몇일인가?"
   ]
  },
  {
   "cell_type": "code",
   "execution_count": 5,
   "metadata": {},
   "outputs": [
    {
     "name": "stdout",
     "output_type": "stream",
     "text": [
      "강수량이 많은 날 상위 10일의 강수량: [467.0 343.0 333.0 323.0 320.0 277.0 264.0 254.0 221.0 216.0]\n",
      "강수량이 많은 날 상위 10일: ['20140305' '20141128' '20140503' '20140308' '20141022' '20140316'\n",
      " '20140216' '20141030' '20140328' '20140129']\n",
      "--------------------------------------------------\n",
      "강수량이 많은 날 상위 1일: 20140305 - 467.0\n",
      "강수량이 많은 날 상위 2일: 20141128 - 343.0\n",
      "강수량이 많은 날 상위 3일: 20140503 - 333.0\n",
      "강수량이 많은 날 상위 4일: 20140308 - 323.0\n",
      "강수량이 많은 날 상위 5일: 20141022 - 320.0\n",
      "강수량이 많은 날 상위 6일: 20140316 - 277.0\n",
      "강수량이 많은 날 상위 7일: 20140216 - 264.0\n",
      "강수량이 많은 날 상위 8일: 20141030 - 254.0\n",
      "강수량이 많은 날 상위 9일: 20140328 - 221.0\n",
      "강수량이 많은 날 상위 10일: 20140129 - 216.0\n",
      "--------------------------------------------------\n",
      "1월 강수량:  [0.0 41.0 15.0 0.0 0.0 3.0 122.0 97.0 58.0 43.0 213.0 15.0 0.0 0.0 0.0 0.0\n",
      " 0.0 0.0 0.0 0.0 0.0 5.0 0.0 0.0 0.0 0.0 0.0 89.0 216.0 0.0 23.0]\n",
      "--------------------------------------------------\n",
      "1월에 내린 강수량의 합: 940.0, 1월에 내린 평균강수량: 30.32\n",
      "--------------------------------------------------\n",
      "1년동안 강수량이 40미만으로 내린 날: 277일\n"
     ]
    }
   ],
   "source": [
    "import numpy as np\n",
    "\n",
    "data = np.loadtxt(\"Seattle2014.csv\", delimiter=\",\", skiprows=1, dtype=object)\n",
    "# 파일에 문자열이 섞여있어 float타입으로 읽어올 수 없음, 문자열(object)로 읽어야함\n",
    "# print(data[:5])\n",
    "\n",
    "# 강수량이 많은 날 상위 10일 확인\n",
    "data[:,3] = data[:,3].astype(np.float32)\n",
    "top10 = data[np.argsort(data[:,3])][::-1][:10]\n",
    "print(f'강수량이 많은 날 상위 10일의 강수량: {top10[:,3]}')\n",
    "print(f'강수량이 많은 날 상위 10일: {top10[:,2]}')\n",
    "print('-'*50)\n",
    "\n",
    "top10_PRCP = top10[:,3]\n",
    "top10_date = top10[:,2]\n",
    "for i in range(10):\n",
    "    print(f'강수량이 많은 날 상위 {i+1}일: {top10_date[i]} - {top10_PRCP[i]}')\n",
    "print('-'*50)\n",
    "\n",
    "# 1월 강수량만 출력\n",
    "data[:,2] = data[:,2].astype(np.int32)\n",
    "Jan = data[np.argsort(data[:,2])][:31]\n",
    "Jan_PRCP = Jan[:,3]\n",
    "print('1월 강수량: ', Jan_PRCP)\n",
    "print('-'*50)\n",
    "\n",
    "# 1월에 내린 강수량의 합, 평균강수량 확인\n",
    "print(f'1월에 내린 강수량의 합: {np.sum(Jan_PRCP)}, 1월에 내린 평균강수량: {np.mean(Jan_PRCP):.2f}')\n",
    "print('-'*50)\n",
    "\n",
    "# 1년동안 강수량이 40미만으로 내린 날이 몇일인가?\n",
    "prcp = data[:,3].astype(int)\n",
    "print(f'1년동안 강수량이 40미만으로 내린 날: {np.sum(prcp < 40)}일')"
   ]
  },
  {
   "cell_type": "code",
   "execution_count": 7,
   "metadata": {},
   "outputs": [
    {
     "name": "stdout",
     "output_type": "stream",
     "text": [
      "[467 343 333 323 320 277 264 254 221 216]\n",
      "[[20140305      467]\n",
      " [20141128      343]\n",
      " [20140503      333]\n",
      " [20140308      323]\n",
      " [20141022      320]\n",
      " [20140316      277]\n",
      " [20140216      264]\n",
      " [20141030      254]\n",
      " [20140328      221]\n",
      " [20140129      216]]\n",
      "[  0  41  15   0   0   3 122  97  58  43 213  15   0   0   0   0   0   0\n",
      "   0   0   0   5   0   0   0   0   0  89 216   0  23]\n",
      "[  0  41  15   0   0   3 122  97  58  43 213  15   0   0   0   0   0   0\n",
      "   0   0   0   5   0   0   0   0   0  89 216   0  23]\n",
      "1월 강수량 총합: 971\n",
      "1월 강수량 평균: 15.66\n",
      "277\n"
     ]
    }
   ],
   "source": [
    "# 강수량이 많은 날 상위 10일 확인\n",
    "prcp_data = data[:,3].astype(int)\n",
    "a = np.sort(prcp_data)[::-1]\n",
    "print(a[:10])\n",
    "\n",
    "# 강수량이 많은 날 상위 10일 확인 with date\n",
    "prcp_data = data[:, [2,3]].astype(int)\n",
    "sorted_idx = prcp_data[:,1].argsort()\n",
    "print(prcp_data[sorted_idx][::-1][:10])\n",
    "\n",
    "# 1월 강수량만 출력\n",
    "# --1--\n",
    "prcp_data = data[:, [2,3]].astype(int)\n",
    "jan_prcp = prcp_data[prcp_data[:,0] < 20140201]  # 1월 데이터 가져오기\n",
    "print(jan_prcp[:,1])\n",
    "# --2--\n",
    "prcp_data = data[:, [2,3]].astype(int)\n",
    "prcp_data[:,0] = (prcp_data[:,0] - 20140000)//100   # 월 데이터만\n",
    "jan_prcp = prcp_data[prcp_data[:,0] == 1]\n",
    "print(jan_prcp[:,1])\n",
    "#--3-- \n",
    "#prcp_data = data[:, [2,3]]\n",
    "#prcp_data = np.array([[date[4:6], prcp] for date, prcp in prcp_data])  # 날짜 컬럼에서 월만 슬라이싱한 파이썬 이중리스트를 다시 넘파이 배열로any\n",
    "#jan_prcp = prcp_data[prcp_data[:,0]=='01'][:,1].astype(int) \n",
    "#print(jan_prcp)\n",
    "\n",
    "# 1월에 내린 강수량의 합, 평균 강수량 확인\n",
    "print(f'1월 강수량 총합: {np.sum(jan_prcp)}')\n",
    "print(f'1월 강수량 평균: {np.mean(jan_prcp):.2f}')\n",
    "\n",
    "# 1년동안 강수량이 40 미만으로 내린날\n",
    "prcp_data = data[:, 3].astype(int)\n",
    "under_40 = prcp_data[prcp_data < 40]\n",
    "print(under_40.size)"
   ]
  },
  {
   "cell_type": "markdown",
   "metadata": {},
   "source": [
    "# [문제] 영화 평점 분석\n",
    "- 'ratings.dat' 파일 내용 읽기 (데이터 형식: user_id::item_id::rating::timestamp)\n",
    "- 상위 10개 데이터 출력하기\n",
    "- 데이터 정보 확인(크기, 차원)\n",
    "- 전체 데이터 평점 구하기\n",
    "- 사용자 아이디 1인 데이터 출력하기\n",
    "- 사용자 아이디 1인 사람의 평점 평균 구하기\n",
    "- 각 사용자별 평점 구하기 (사용자 ID 수집: ID컬럼에 대한 np.unique() 함수 적용)\n",
    "- 각 사용자별 평균 평점이 4점 이상인 사용자 및 인원수 구하기"
   ]
  },
  {
   "cell_type": "code",
   "execution_count": 39,
   "metadata": {},
   "outputs": [
    {
     "name": "stdout",
     "output_type": "stream",
     "text": [
      "[[        1      1193         5 978300760]\n",
      " [        1       661         3 978302109]\n",
      " [        1       914         3 978301968]\n",
      " [        1      3408         4 978300275]\n",
      " [        1      2355         5 978824291]\n",
      " [        1      1197         3 978302268]\n",
      " [        1      1287         5 978302039]\n",
      " [        1      2804         5 978300719]\n",
      " [        1       594         4 978302268]\n",
      " [        1       919         4 978301368]]\n",
      "--------------------------------------------------\n",
      "(1000209, 4)\n",
      "--------------------------------------------------\n",
      "전체 사용자 평균 평점: 3.58\n",
      "--------------------------------------------------\n",
      "[[        1      1193         5 978300760]\n",
      " [        1       661         3 978302109]\n",
      " [        1       914         3 978301968]\n",
      " [        1      3408         4 978300275]\n",
      " [        1      2355         5 978824291]\n",
      " [        1      1197         3 978302268]\n",
      " [        1      1287         5 978302039]\n",
      " [        1      2804         5 978300719]\n",
      " [        1       594         4 978302268]\n",
      " [        1       919         4 978301368]]\n",
      "--------------------------------------------------\n",
      "사용자 아이디 1인 사람의 평균 평점: 4.19\n"
     ]
    }
   ],
   "source": [
    "data = np.loadtxt(\"ratings.dat\", delimiter=\":\", dtype=np.int32)\n",
    "\n",
    "# 상위 10개 데이터 출력하기\n",
    "print(data[:10])\n",
    "print('-'*50)\n",
    "\n",
    "# 데이터 정보 확인\n",
    "print(data.shape)\n",
    "print('-'*50)\n",
    "\n",
    "# 전체 데이터 평균 평점 구하기\n",
    "print(f'전체 사용자 평균 평점: {np.mean(data[:,2]):.2f}')\n",
    "print('-'*50)\n",
    "\n",
    "# 사용자 아이디 1인 데이터 출력하기\n",
    "print(data[data[:,0]==1][:10])\n",
    "print('-'*50)\n",
    "\n",
    "# 사용자 아이디 1인 사람의 평점 평균 구하기\n",
    "user_1 = data[data[:,0]==1]\n",
    "print(f'사용자 아이디 1인 사람의 평균 평점: {np.mean(user_1[:,2]):.2f}')"
   ]
  },
  {
   "cell_type": "code",
   "execution_count": 38,
   "metadata": {},
   "outputs": [
    {
     "ename": "SyntaxError",
     "evalue": "closing parenthesis ']' does not match opening parenthesis '(' (2378511150.py, line 11)",
     "output_type": "error",
     "traceback": [
      "\u001b[1;36m  Cell \u001b[1;32mIn[38], line 11\u001b[1;36m\u001b[0m\n\u001b[1;33m    print(user_id[[user_id==1][:,2] >= 4]])\u001b[0m\n\u001b[1;37m                                         ^\u001b[0m\n\u001b[1;31mSyntaxError\u001b[0m\u001b[1;31m:\u001b[0m closing parenthesis ']' does not match opening parenthesis '('\n"
     ]
    }
   ],
   "source": [
    "# 각 사용자별 평균 평점 구하기 (사용자 ID 수집: ID컬럼에 대한 np.unique() 함수 적용)\n",
    "print(np.unique(data[:,0]))\n",
    "mean_ratings = np.array([np.mean(data[data[:,0]==i][:,2]) for i in np.unique(data[:,0])])\n",
    "print(mean_ratings)\n",
    "print('-'*50)\n",
    "\n",
    "# 각 사용자별 평균 평점이 4점 이상인 사용자 및 인원수 구하기\n",
    "user_id = data[:,0]\n",
    "# over4_ratings = np.array([data[data[data[:,0]==i][:,2] >= 4] for i in np.unique(data[:,0])])\n",
    "print(user_id[user_id==1][:,2] >= 4])"
   ]
  },
  {
   "cell_type": "code",
   "execution_count": 41,
   "metadata": {},
   "outputs": [
    {
     "name": "stdout",
     "output_type": "stream",
     "text": [
      "전체 유저 수: 6,040명\n",
      "1 : 4.19\n",
      "2 : 3.71\n",
      "3 : 3.90\n",
      "4 : 4.19\n",
      "5 : 3.15\n",
      "6 : 3.90\n",
      "7 : 4.32\n",
      "8 : 3.88\n",
      "9 : 3.74\n",
      "10 : 4.11\n"
     ]
    }
   ],
   "source": [
    "# 각 사용자별 평균 평점 구하기 (사용자 ID 수집: ID컬럼에 대한 np.unique() 함수 적용)\n",
    "user_ids = np.unique(data[:,0])\n",
    "print(f'전체 유저 수: {user_ids.size:,}명')\n",
    "user_avg_rating = [[id, np.mean(data[data[:,0] == id][:,2])] for id in user_ids]\n",
    "for id, rating in user_avg_rating[:10]:\n",
    "    print(f'{id} : {rating:.2f}')"
   ]
  },
  {
   "cell_type": "code",
   "execution_count": 42,
   "metadata": {},
   "outputs": [
    {
     "name": "stdout",
     "output_type": "stream",
     "text": [
      "평균 평점이 4점 이상인 유저 수: 1,544명\n"
     ]
    }
   ],
   "source": [
    "# 각 사용자별 평균 평점이 4점 이상인 사용자 및 인원수 구하기\n",
    "user_avg_rating = np.array(user_avg_rating)\n",
    "print(f'평균 평점이 4점 이상인 유저 수: {np.sum(user_avg_rating[:,1] >= 4):,}명')"
   ]
  }
 ],
 "metadata": {
  "kernelspec": {
   "display_name": "Python 3 (ipykernel)",
   "language": "python",
   "name": "python3"
  },
  "language_info": {
   "codemirror_mode": {
    "name": "ipython",
    "version": 3
   },
   "file_extension": ".py",
   "mimetype": "text/x-python",
   "name": "python",
   "nbconvert_exporter": "python",
   "pygments_lexer": "ipython3",
   "version": "3.11.5"
  },
  "toc": {
   "base_numbering": 1,
   "nav_menu": {},
   "number_sections": true,
   "sideBar": true,
   "skip_h1_title": false,
   "title_cell": "Table of Contents",
   "title_sidebar": "Contents",
   "toc_cell": false,
   "toc_position": {
    "height": "calc(100% - 180px)",
    "left": "10px",
    "top": "150px",
    "width": "236px"
   },
   "toc_section_display": true,
   "toc_window_display": false
  }
 },
 "nbformat": 4,
 "nbformat_minor": 4
}
