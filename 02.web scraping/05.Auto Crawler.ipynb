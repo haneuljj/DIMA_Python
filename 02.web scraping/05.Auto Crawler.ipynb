{
 "cells": [
  {
   "cell_type": "markdown",
   "id": "fb406571-6877-4ef0-b049-b46b283b0861",
   "metadata": {},
   "source": [
    "# schedule module"
   ]
  },
  {
   "cell_type": "code",
   "execution_count": 2,
   "id": "49e91c2e-d8a7-425a-a5c7-a3372e0ccc6a",
   "metadata": {},
   "outputs": [
    {
     "name": "stdout",
     "output_type": "stream",
     "text": [
      "Collecting schedule\n",
      "  Obtaining dependency information for schedule from https://files.pythonhosted.org/packages/f0/1a/e5a65c08d708ee4c002f3f938ba69b2282af478755700c40f037eacc92ef/schedule-1.2.1-py2.py3-none-any.whl.metadata\n",
      "  Downloading schedule-1.2.1-py2.py3-none-any.whl.metadata (3.3 kB)\n",
      "Downloading schedule-1.2.1-py2.py3-none-any.whl (11 kB)\n",
      "Installing collected packages: schedule\n",
      "Successfully installed schedule-1.2.1\n",
      "Note: you may need to restart the kernel to use updated packages.\n"
     ]
    }
   ],
   "source": [
    "pip install schedule"
   ]
  },
  {
   "cell_type": "markdown",
   "id": "417a9070-0128-4128-bc63-efd0f5bdcb3a",
   "metadata": {},
   "source": [
    "## schedule 모듈 활용 \n",
    "- while 반복문을 활용하여 꾸준히 스케줄을 유지한다.\n",
    "- 특정 조건이 만족하는 스케줄이 있을 때마다 해당 함수 실행"
   ]
  },
  {
   "cell_type": "code",
   "execution_count": null,
   "id": "1cf3155c-d0a9-47d7-b077-450f9481ef11",
   "metadata": {},
   "outputs": [],
   "source": [
    "import schedule\n",
    "import time\n",
    "\n",
    "# 스케줄에 의해 실행될 코드를 담는 함수 선언\n",
    "def job():\n",
    "    now = time.localtime()\n",
    "    print(f'{now.tm_year:04d}-{now.tm_mon:02d}-{now.tm_mday:02d} {now.tm_hour:02d}:{now.tm_min:02d}:{now.tm_sec:02d}')\n",
    "\n",
    "schedule.every(10).seconds.do(job)   # every() 라면  second,  지정된 시간마다 job함수 실행\n",
    "\n",
    "while True:   # while 반복문 필요\n",
    "    schedule.run_pending()  # 스케줄 함수를 실행할 것을 요청"
   ]
  },
  {
   "cell_type": "markdown",
   "id": "95ddb867-516a-4045-9a6a-47ad8e4b6923",
   "metadata": {},
   "source": [
    "## 시간별 스케줄 잡 실행하기"
   ]
  },
  {
   "cell_type": "code",
   "execution_count": null,
   "id": "c51f4d3e-3cc0-4436-b72f-71d36d4b6331",
   "metadata": {},
   "outputs": [],
   "source": [
    "import schedule\n",
    "import time\n",
    "\n",
    "\n",
    "def job():\n",
    "    now = time.localtime()\n",
    "    print(f'{now.tm_year:04d}-{now.tm_mon:02d}-{now.tm_mday:02d} {now.tm_hour:02d}:{now.tm_min:02d}:{now.tm_sec:02d}')\n",
    "\n",
    "schedule.every(3).seconds.do(job)  # 매 3초마다 job 함수 실행\n",
    "schedule.every(3).minutes.do(jbo)  # 매 3분마다 job 함수 실행\n",
    "schedule.every(3).hours.do(job)    # 매 3시간마다 실행 . . .\n",
    "schedule.every(3).days.do(job) \n",
    "schedule.every(3).weeks.do(job)\n",
    "\n",
    "schedule.every().hour.at(':23').do(job)  # 매 시 23분마다 실행\n",
    "schedule.every().minute.at(':23').do(job)  # 매 분 23초마다 실행\n",
    "\n",
    "schedule.every(5).hours.at('20:30').do(job)  # 매 5시간째 20분 30초마다 실행\n",
    "                                             # 만약 현재 시간이 02:00이면 첫 실행은 06:20:30에 실행\n",
    "\n",
    "# 매일 지정된 시간에 job 함수 실행\n",
    "schedule.every().day.at('10:30:30').do(job)\n",
    "\n",
    "# 지정된 요일 및 시간에 job 함수 실행\n",
    "schedule.every().monday.do(job)   # 매 월요일 00시에 실행\n",
    "schedule.every().wednesday.at('13:15').do(job)  # 매 수요일 13:15에 실행\n",
    "\n",
    "# month 속성은 없음\n",
    "\n",
    "while True:\n",
    "    schedule.run_pending()"
   ]
  },
  {
   "cell_type": "code",
   "execution_count": 2,
   "id": "c30bdd64-4487-4cbe-a2a2-ccdcb467693e",
   "metadata": {},
   "outputs": [
    {
     "ename": "KeyboardInterrupt",
     "evalue": "",
     "output_type": "error",
     "traceback": [
      "\u001b[1;31m---------------------------------------------------------------------------\u001b[0m",
      "\u001b[1;31mKeyboardInterrupt\u001b[0m                         Traceback (most recent call last)",
      "Cell \u001b[1;32mIn[2], line 11\u001b[0m\n\u001b[0;32m      8\u001b[0m schedule\u001b[38;5;241m.\u001b[39mevery(\u001b[38;5;241m5\u001b[39m)\u001b[38;5;241m.\u001b[39mhours\u001b[38;5;241m.\u001b[39mat(\u001b[38;5;124m'\u001b[39m\u001b[38;5;124m20:30\u001b[39m\u001b[38;5;124m'\u001b[39m)\u001b[38;5;241m.\u001b[39mdo(job)\n\u001b[0;32m     10\u001b[0m \u001b[38;5;28;01mwhile\u001b[39;00m \u001b[38;5;28;01mTrue\u001b[39;00m:\n\u001b[1;32m---> 11\u001b[0m     schedule\u001b[38;5;241m.\u001b[39mrun_pending()\n",
      "File \u001b[1;32m~\\anaconda3\\Lib\\site-packages\\schedule\\__init__.py:822\u001b[0m, in \u001b[0;36mrun_pending\u001b[1;34m()\u001b[0m\n\u001b[0;32m    818\u001b[0m \u001b[38;5;28;01mdef\u001b[39;00m \u001b[38;5;21mrun_pending\u001b[39m() \u001b[38;5;241m-\u001b[39m\u001b[38;5;241m>\u001b[39m \u001b[38;5;28;01mNone\u001b[39;00m:\n\u001b[0;32m    819\u001b[0m \u001b[38;5;250m    \u001b[39m\u001b[38;5;124;03m\"\"\"Calls :meth:`run_pending <Scheduler.run_pending>` on the\u001b[39;00m\n\u001b[0;32m    820\u001b[0m \u001b[38;5;124;03m    :data:`default scheduler instance <default_scheduler>`.\u001b[39;00m\n\u001b[0;32m    821\u001b[0m \u001b[38;5;124;03m    \"\"\"\u001b[39;00m\n\u001b[1;32m--> 822\u001b[0m     default_scheduler\u001b[38;5;241m.\u001b[39mrun_pending()\n",
      "File \u001b[1;32m~\\anaconda3\\Lib\\site-packages\\schedule\\__init__.py:99\u001b[0m, in \u001b[0;36mScheduler.run_pending\u001b[1;34m(self)\u001b[0m\n\u001b[0;32m     89\u001b[0m \u001b[38;5;250m\u001b[39m\u001b[38;5;124;03m\"\"\"\u001b[39;00m\n\u001b[0;32m     90\u001b[0m \u001b[38;5;124;03mRun all jobs that are scheduled to run.\u001b[39;00m\n\u001b[0;32m     91\u001b[0m \n\u001b[1;32m   (...)\u001b[0m\n\u001b[0;32m     96\u001b[0m \u001b[38;5;124;03mbetween but only once.\u001b[39;00m\n\u001b[0;32m     97\u001b[0m \u001b[38;5;124;03m\"\"\"\u001b[39;00m\n\u001b[0;32m     98\u001b[0m runnable_jobs \u001b[38;5;241m=\u001b[39m (job \u001b[38;5;28;01mfor\u001b[39;00m job \u001b[38;5;129;01min\u001b[39;00m \u001b[38;5;28mself\u001b[39m\u001b[38;5;241m.\u001b[39mjobs \u001b[38;5;28;01mif\u001b[39;00m job\u001b[38;5;241m.\u001b[39mshould_run)\n\u001b[1;32m---> 99\u001b[0m \u001b[38;5;28;01mfor\u001b[39;00m job \u001b[38;5;129;01min\u001b[39;00m \u001b[38;5;28msorted\u001b[39m(runnable_jobs):\n\u001b[0;32m    100\u001b[0m     \u001b[38;5;28mself\u001b[39m\u001b[38;5;241m.\u001b[39m_run_job(job)\n",
      "File \u001b[1;32m~\\anaconda3\\Lib\\site-packages\\schedule\\__init__.py:98\u001b[0m, in \u001b[0;36m<genexpr>\u001b[1;34m(.0)\u001b[0m\n\u001b[0;32m     88\u001b[0m \u001b[38;5;28;01mdef\u001b[39;00m \u001b[38;5;21mrun_pending\u001b[39m(\u001b[38;5;28mself\u001b[39m) \u001b[38;5;241m-\u001b[39m\u001b[38;5;241m>\u001b[39m \u001b[38;5;28;01mNone\u001b[39;00m:\n\u001b[0;32m     89\u001b[0m \u001b[38;5;250m    \u001b[39m\u001b[38;5;124;03m\"\"\"\u001b[39;00m\n\u001b[0;32m     90\u001b[0m \u001b[38;5;124;03m    Run all jobs that are scheduled to run.\u001b[39;00m\n\u001b[0;32m     91\u001b[0m \n\u001b[1;32m   (...)\u001b[0m\n\u001b[0;32m     96\u001b[0m \u001b[38;5;124;03m    between but only once.\u001b[39;00m\n\u001b[0;32m     97\u001b[0m \u001b[38;5;124;03m    \"\"\"\u001b[39;00m\n\u001b[1;32m---> 98\u001b[0m     runnable_jobs \u001b[38;5;241m=\u001b[39m (job \u001b[38;5;28;01mfor\u001b[39;00m job \u001b[38;5;129;01min\u001b[39;00m \u001b[38;5;28mself\u001b[39m\u001b[38;5;241m.\u001b[39mjobs \u001b[38;5;28;01mif\u001b[39;00m job\u001b[38;5;241m.\u001b[39mshould_run)\n\u001b[0;32m     99\u001b[0m     \u001b[38;5;28;01mfor\u001b[39;00m job \u001b[38;5;129;01min\u001b[39;00m \u001b[38;5;28msorted\u001b[39m(runnable_jobs):\n\u001b[0;32m    100\u001b[0m         \u001b[38;5;28mself\u001b[39m\u001b[38;5;241m.\u001b[39m_run_job(job)\n",
      "\u001b[1;31mKeyboardInterrupt\u001b[0m: "
     ]
    }
   ],
   "source": [
    "import schedule\n",
    "import time\n",
    "\n",
    "def job():\n",
    "    now = time.localtime()\n",
    "    print(f'{now.tm_year:04d}-{now.tm_mon:02d}-{now.tm_mday:02d} {now.tm_hour:02d}:{now.tm_min:02d}:{now.tm_sec:02d}')\n",
    "\n",
    "schedule.every(5).hours.at('20:30').do(job)\n",
    "\n",
    "while True:\n",
    "    schedule.run_pending()"
   ]
  },
  {
   "cell_type": "markdown",
   "id": "a072c131-10b2-4971-9178-03395d03767b",
   "metadata": {},
   "source": [
    "## 매월 특정일 특정시간에 job 실행하기\n",
    "- 스케줄 모듈에는 month 필득 없음"
   ]
  },
  {
   "cell_type": "code",
   "execution_count": null,
   "id": "cede441e-5f07-428d-b17a-71c3b928e182",
   "metadata": {},
   "outputs": [],
   "source": [
    "from datetime import datetime\n",
    "\n",
    "# 매월 1일 2시에 실행\n",
    "def job():\n",
    "    if date.today().day != 1:   # 오늘 날짜가 1일이 아니면 함수 실행 안하고 끝내기 \n",
    "        return\n",
    "    # 실제 job 실행 코드 작성 \n",
    "\n",
    "schedule.every().day.at('02:00').do(job)"
   ]
  },
  {
   "cell_type": "markdown",
   "id": "6bb6959d-2e32-4214-b8ed-5029c42e8da3",
   "metadata": {},
   "source": [
    "## job함수에 인수 값 전달"
   ]
  },
  {
   "cell_type": "code",
   "execution_count": null,
   "id": "d025eb86-3935-4a20-9869-a2b56dbc6c67",
   "metadata": {},
   "outputs": [],
   "source": [
    "import schedule\n",
    "import time\n",
    "\n",
    "def greet(name):\n",
    "    print('Hello', name)\n",
    "    now = time.localtime()\n",
    "    print(f'{now.tm_year:04d}-{now.tm_mon:02d}-{now.tm_mday:02d} {now.tm_hour:02d}:{now.tm_min:02d}:{now.tm_sec:02d}')\n",
    "\n",
    "schedule.every(1).seconds.do(greet, name='Haneul')\n",
    "\n",
    "while True:\n",
    "    schedule.run_pending()"
   ]
  },
  {
   "cell_type": "markdown",
   "id": "0b019cdd-f4e7-4eb7-a738-454b884de3b2",
   "metadata": {},
   "source": [
    "## job 실행 취소하기"
   ]
  },
  {
   "cell_type": "code",
   "execution_count": null,
   "id": "df5bc502-b90f-4cb5-a4c8-b8e71be58d93",
   "metadata": {},
   "outputs": [],
   "source": [
    "import schedule\n",
    "import time\n",
    "\n",
    "def message1():\n",
    "    print('매 1초마다 스케줄 1 실행')\n",
    "\n",
    "def message2(text):\n",
    "    print(text+'스케줄 2 실행')\n",
    "\n",
    "job1 = schedule.every().second.do(message1)\n",
    "job2 = schedule.every(2).seconds.do(message2, text='매 2초마다')\n",
    "\n",
    "count = 0\n",
    "\n",
    "while True:\n",
    "    schedule.run_pending()\n",
    "    time.sleep(1)  \n",
    "# while문은 cpu의 처리속도만큼 실행되기 때문에 count줄부터는(일반코드는) 1초가 지나기도 전에 실행됨, 카운트가 5에 도달하는데 1초보다 훨씬 적게걸림 , sleep함수로 5초일 때 job1이 중지\n",
    "# sleep(1)이 없으면 스케줄 job1과 job2는 매 1,2초마다 실행되지만 나머지 while 문안의 일반코드는 cpu의 처리 속도 만큼 반복수행되기때문에 채 1초가 되기도 전에 job1의 실행이 취소가 된다.\n",
    "    \n",
    "    count += 1\n",
    "    print(job1)\n",
    "    if count > 5:\n",
    "        print(job1)\n",
    "        schedule.cancel_job(job1)"
   ]
  },
  {
   "cell_type": "code",
   "execution_count": null,
   "id": "2ca4f948-c642-4b25-9e07-42ff36c2046f",
   "metadata": {},
   "outputs": [],
   "source": [
    "# 하나의 프로그램내에서 독립적으로 실행 가능한 것 -> 스레드\n",
    "# 동시에 실행 -> 멀티 스레드, 스케줄러 알고리즘에 의해 동시 실행\n",
    "# 스레드 실행 -> 운영체제가 랜덤으로 호출"
   ]
  },
  {
   "cell_type": "markdown",
   "id": "04051cf2-93f9-43e7-a41b-7dbb83bc6f15",
   "metadata": {},
   "source": [
    "## 지정된 시간까지 job 실행"
   ]
  },
  {
   "cell_type": "code",
   "execution_count": 1,
   "id": "ad695a63-8eb1-4dfc-8e7b-6d13780f2846",
   "metadata": {},
   "outputs": [
    {
     "name": "stdout",
     "output_type": "stream",
     "text": [
      "2023-11-03 11:34:50\n",
      "2023-11-03 11:34:55\n",
      "2023-11-03 11:35:00\n",
      "2023-11-03 11:35:05\n",
      "2023-11-03 11:35:10\n",
      "2023-11-03 11:35:15\n",
      "2023-11-03 11:35:20\n",
      "2023-11-03 11:35:25\n",
      "2023-11-03 11:35:30\n",
      "2023-11-03 11:35:35\n",
      "2023-11-03 11:35:40\n",
      "2023-11-03 11:35:45\n",
      "2023-11-03 11:35:50\n",
      "2023-11-03 11:35:55\n"
     ]
    }
   ],
   "source": [
    "import schedule\n",
    "from datetime import datetime, time\n",
    "import time\n",
    "\n",
    "def job():\n",
    "    now = time.localtime()\n",
    "    print(f'{now.tm_year:04d}-{now.tm_mon:02d}-{now.tm_mday:02d} {now.tm_hour:02d}:{now.tm_min:02d}:{now.tm_sec:02d}')\n",
    "\n",
    "# 오늘 18시 30분까지 job 실행\n",
    "schedule.every(5).seconds.until('11:36:00').do(job)\n",
    "\n",
    "# 2023-12-31 18:00 까지 job 실행\n",
    "schedule.every().hour.until('2023-12-31 18:00').do(job)\n",
    "schedule.every().hour.until(datetime(2023, 12, 31, 18, 00, 00)).do(job)\n",
    "\n",
    "while True:\n",
    "    if not schedule.jobs:   # 스케줄에 등록된 잡이 더이상 없을 경우, until 시간이 지났을 때\n",
    "        break\n",
    "    schedule.run_pending()\n",
    "    time.sleep(1)"
   ]
  }
 ],
 "metadata": {
  "kernelspec": {
   "display_name": "Python 3 (ipykernel)",
   "language": "python",
   "name": "python3"
  },
  "language_info": {
   "codemirror_mode": {
    "name": "ipython",
    "version": 3
   },
   "file_extension": ".py",
   "mimetype": "text/x-python",
   "name": "python",
   "nbconvert_exporter": "python",
   "pygments_lexer": "ipython3",
   "version": "3.11.5"
  }
 },
 "nbformat": 4,
 "nbformat_minor": 5
}
