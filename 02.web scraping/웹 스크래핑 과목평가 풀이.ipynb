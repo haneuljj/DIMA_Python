{
 "cells": [
  {
   "cell_type": "markdown",
   "id": "c608eb2c-e128-402b-97ca-ab7a9155963f",
   "metadata": {},
   "source": [
    "# 1. 네이버 날씨 정보 스크래핑"
   ]
  },
  {
   "cell_type": "code",
   "execution_count": 1,
   "id": "5685d0c9-6f80-4ff2-aa01-5b8c1555382b",
   "metadata": {},
   "outputs": [
    {
     "name": "stdout",
     "output_type": "stream",
     "text": [
      "==============================\n",
      "날씨 확인 프로그램\n",
      "==============================\n",
      "접속 시간: 2023-11-07 10:26:17.303862\n",
      "접속 위치: 마포구 합정동\n",
      "--------------------\n",
      "1. 현재 날씨 및 온도 확인\n",
      "2. 최저/최고 온도 확인\n",
      "3. 미세먼지 확인\n",
      "0. 종료\n",
      "--------------------\n"
     ]
    },
    {
     "name": "stdin",
     "output_type": "stream",
     "text": [
      "번호를 입력하세요 1\n"
     ]
    },
    {
     "name": "stdout",
     "output_type": "stream",
     "text": [
      "==============================\n",
      "현재 날씨 확인\n",
      "==============================\n",
      "맑음 /  현재 온도4.9° \n",
      "--------------------\n",
      "==============================\n",
      "날씨 확인 프로그램\n",
      "==============================\n",
      "접속 시간: 2023-11-07 10:26:23.050204\n",
      "접속 위치: 마포구 합정동\n",
      "--------------------\n",
      "1. 현재 날씨 및 온도 확인\n",
      "2. 최저/최고 온도 확인\n",
      "3. 미세먼지 확인\n",
      "0. 종료\n",
      "--------------------\n"
     ]
    },
    {
     "name": "stdin",
     "output_type": "stream",
     "text": [
      "번호를 입력하세요 2\n"
     ]
    },
    {
     "name": "stdout",
     "output_type": "stream",
     "text": [
      "==============================\n",
      "최저/최고 기온 확인\n",
      "==============================\n",
      "최저기온: 3°\n",
      "최고기온: 10°\n",
      "--------------------\n",
      "==============================\n",
      "날씨 확인 프로그램\n",
      "==============================\n",
      "접속 시간: 2023-11-07 10:26:26.949693\n",
      "접속 위치: 마포구 합정동\n",
      "--------------------\n",
      "1. 현재 날씨 및 온도 확인\n",
      "2. 최저/최고 온도 확인\n",
      "3. 미세먼지 확인\n",
      "0. 종료\n",
      "--------------------\n"
     ]
    },
    {
     "name": "stdin",
     "output_type": "stream",
     "text": [
      "번호를 입력하세요 3\n"
     ]
    },
    {
     "name": "stdout",
     "output_type": "stream",
     "text": [
      "==============================\n",
      "미세먼지 확인\n",
      "==============================\n",
      "  미세먼지 좋음  \n",
      "--------------------\n",
      "==============================\n",
      "날씨 확인 프로그램\n",
      "==============================\n",
      "접속 시간: 2023-11-07 10:26:29.470878\n",
      "접속 위치: 마포구 합정동\n",
      "--------------------\n",
      "1. 현재 날씨 및 온도 확인\n",
      "2. 최저/최고 온도 확인\n",
      "3. 미세먼지 확인\n",
      "0. 종료\n",
      "--------------------\n"
     ]
    },
    {
     "name": "stdin",
     "output_type": "stream",
     "text": [
      "번호를 입력하세요 0\n"
     ]
    },
    {
     "name": "stdout",
     "output_type": "stream",
     "text": [
      "프로그램을 종료합니다\n"
     ]
    }
   ],
   "source": [
    "from bs4 import BeautifulSoup\n",
    "import requests\n",
    "import datetime\n",
    "\n",
    "res = requests.get('https://search.naver.com/search.naver?where=nexearch&sm=top_hty&fbm=0&ie=utf8&query=%EB%82%A0%EC%94%A8')\n",
    "soup = BeautifulSoup(res.text, 'lxml')\n",
    "\n",
    "location = soup.find('div', attrs={'class':'title_area _area_panel'}).find('h2', attrs={'class':'title'}).text\n",
    "weather = soup.find('span', {'class':'weather before_slash'}).text\n",
    "temperture = soup.find('div', {'class':'temperature_text'}).text\n",
    "lowest = soup.find('span', {'class':'lowest'}).text\n",
    "highest = soup.find('span', {'class':'highest'}).text\n",
    "dust = soup.find('li', {'class':'item_today level2'}).text\n",
    "\n",
    "while True:\n",
    "    print('='*30)\n",
    "    print('날씨 확인 프로그램')\n",
    "    print('='*30)\n",
    "    print('접속 시간:', datetime.datetime.now())\n",
    "    print('접속 위치:', location)\n",
    "    print('-'*20)\n",
    "    print('1. 현재 날씨 및 온도 확인')\n",
    "    print('2. 최저/최고 온도 확인')\n",
    "    print('3. 미세먼지 확인')\n",
    "    print('0. 종료')\n",
    "    print('-'*20)\n",
    "\n",
    "    no = int(input('번호를 입력하세요'))\n",
    "    if no == 0:\n",
    "        print('프로그램을 종료합니다')\n",
    "        break\n",
    "    elif no == 1:\n",
    "        print('='*30)\n",
    "        print('현재 날씨 확인')\n",
    "        print('='*30)\n",
    "        print(weather, '/', temperture)\n",
    "        print('-'*20)\n",
    "    elif no == 2:\n",
    "        print('='*30)\n",
    "        print('최저/최고 기온 확인')\n",
    "        print('='*30)\n",
    "        print('최저기온:',lowest[4:])\n",
    "        print('최고기온:',highest[4:])\n",
    "        print('-'*20)\n",
    "    elif no == 3:\n",
    "        print('='*30)\n",
    "        print('미세먼지 확인')\n",
    "        print('='*30)\n",
    "        print(dust[7:])\n",
    "        print('-'*20)"
   ]
  },
  {
   "cell_type": "markdown",
   "id": "1404a683-ba47-49ed-9908-b82cf1191aa5",
   "metadata": {},
   "source": [
    "# 2. 네이버에서 bts 이미지 검색 후 나온 결과 중 10개의 이미지를 저장하기"
   ]
  },
  {
   "cell_type": "code",
   "execution_count": 6,
   "id": "b254ca9f-ba0f-4737-8c9c-48d66a3baec4",
   "metadata": {},
   "outputs": [
    {
     "name": "stdout",
     "output_type": "stream",
     "text": [
      "그림개수: 50\n",
      "폴더가 존재함\n",
      "https://search.pstatic.net/common/?src=http%3A%2F%2Fimgnews.naver.net%2Fimage%2F586%2F2023%2F08%2F28%2F0000063530_001_20230828130903586.jpg&type=sc960_832\n",
      "https://search.pstatic.net/common/?src=http%3A%2F%2Fimgnews.naver.net%2Fimage%2F214%2F2023%2F09%2F20%2F0001301192_001_20230920185703428.jpg&type=sc960_832\n",
      "https://search.pstatic.net/sunny/?src=https%3A%2F%2Fi.pinimg.com%2Foriginals%2Fb2%2F18%2F2f%2Fb2182fd22a3a6931be39f6c7e6a77bbf.jpg&type=sc960_832\n",
      "https://search.pstatic.net/common/?src=http%3A%2F%2Fblogfiles.naver.net%2FMjAyMzA1MzFfMjQ1%2FMDAxNjg1NTI5NTAyOTk2.__HDO8RTot5eEWf8Y3MIn-1fI-gvIM5bQd231oFTaDMg.HKQ5zPkUCTHcJq2QwXTX0P82Lst_uw1mQCrIDIZTCVog.PNG.insertkn%2Fimage.png&type=sc960_832\n",
      "https://search.pstatic.net/sunny/?src=https%3A%2F%2Fi.pinimg.com%2Foriginals%2Fef%2Ff0%2Ff7%2Feff0f718525bbbdc00992a691f1711b3.jpg&type=sc960_832\n",
      "https://search.pstatic.net/common/?src=http%3A%2F%2Fimgnews.naver.net%2Fimage%2F020%2F2023%2F02%2F11%2F0003479072_001_20230211030147673.jpg&type=sc960_832\n",
      "https://search.pstatic.net/sunny/?src=https%3A%2F%2Fi.pinimg.com%2Foriginals%2F8e%2F82%2Fcd%2F8e82cd8b649d0bbf52dd9cfeb68dd415.jpg&type=sc960_832\n",
      "https://search.pstatic.net/sunny/?src=https%3A%2F%2Fi.pinimg.com%2Foriginals%2F52%2F7c%2F53%2F527c5331ae3faa26412e61f856153030.jpg&type=sc960_832\n",
      "https://search.pstatic.net/sunny/?src=https%3A%2F%2Fi.pinimg.com%2Foriginals%2F67%2Fea%2F34%2F67ea3401653ca90a15e5eb01e1889785.jpg&type=sc960_832\n",
      "https://search.pstatic.net/common/?src=http%3A%2F%2Fimgnews.naver.net%2Fimage%2F023%2F2023%2F09%2F26%2F0003790074_001_20230926043401064.jpg&type=sc960_832\n",
      "https://search.pstatic.net/sunny/?src=https%3A%2F%2Fi.pinimg.com%2F736x%2F0c%2F5c%2F2e%2F0c5c2e0622dd86f34a2386f450132542.jpg&type=sc960_832\n",
      "사진 저장 완료\n"
     ]
    }
   ],
   "source": [
    "from webdriver_manager.chrome import ChromeDriverManager\n",
    "from selenium.webdriver.chrome.service import Service\n",
    "from selenium.webdriver import Chrome, ChromeOptions\n",
    "from selenium.webdriver.common.by import By\n",
    "from selenium.webdriver.common.keys import Keys\n",
    "import time\n",
    "import os\n",
    "import requests\n",
    "\n",
    "driver = Chrome(service=Service(ChromeDriverManager().install()),options=ChromeOptions())\n",
    "driver.get('https://www.naver.com/')\n",
    "\n",
    "ele = driver.find_element(By.ID, 'query')\n",
    "ele.send_keys('bts')\n",
    "ele.send_keys(Keys.ENTER)\n",
    "\n",
    "driver.find_element(By.LINK_TEXT, '이미지').click() \n",
    "time.sleep(5)\n",
    "bts_imgs = driver.find_elements(By.CSS_SELECTOR, '#main_pack > section.sc_new.sp_nimage._fe_image_viewer_prepend_target > div.api_subject_bx._fe_image_tab_list_root.ani_fadein > div > div > div.image_tile._fe_image_tab_grid > div > div > div > a')\n",
    "print('그림개수:', len(bts_imgs))\n",
    "\n",
    "img_dir = './bts_img/'\n",
    "\n",
    "if not os.path.exists(img_dir):\n",
    "    os.makedirs(img_dir)\n",
    "    print('폴더 생성')\n",
    "else:\n",
    "    print('폴더가 존재함')\n",
    "\n",
    "for i,img in enumerate(bts_imgs):\n",
    "    img.click()\n",
    "    original_img = driver.find_element(By.CLASS_NAME, '_fe_image_viewer_image_fallback_target')\n",
    "    img_url = original_img.get_attribute('src')\n",
    "\n",
    "    if not img_url.startswith('http'): continue\n",
    "    res = requests.get(img_url)\n",
    "    \n",
    "    with open (f'{img_dir}bts_{i:02d}.jpg', 'wb') as f:\n",
    "        print(img_url)\n",
    "        f.write(res.content)\n",
    "    if i >= 10: break\n",
    "\n",
    "print('사진 저장 완료')"
   ]
  },
  {
   "cell_type": "markdown",
   "id": "f2067969-3b5b-444c-b5d7-92b759337598",
   "metadata": {},
   "source": [
    "# 3. 멜론 사이트 최신곡 검색"
   ]
  },
  {
   "cell_type": "code",
   "execution_count": 10,
   "id": "0976e339-421e-497a-babd-0e95396c7ec4",
   "metadata": {},
   "outputs": [
    {
     "name": "stdout",
     "output_type": "stream",
     "text": [
      "23\n",
      "                        곡목                                      가수                            앨범              \n",
      "------------------------------------------------------------------------------------------\n",
      "CRUSH (가시)                                        |ZEROBASEONE (제로베이스원)          |MELTING POINT                 \n",
      "Do It                                             |영재 (Youngjae)                 |Do It                         \n",
      "LIME (I'm So)                                     |백아연                           |LIME (I'm So)                 \n",
      "그럴리 없잖아                                           |전상근                           |그럴리 없잖아                       \n",
      "마지                                                |SINCE                         |THE SOLOEST                   \n",
      "쓰레기 (Feat. 한요한)                                   |아우릴고트 (OUREALGOAT)            |쓰레기                           \n",
      "ESPRESSO MARTINI                                  |알리 (ALi)                      |ESPRESSO MARTINI              \n",
      "Brachio                                           |다린                            |Brachio                       \n",
      "나쁜여자                                              |김나희                           |나쁜여자                          \n",
      "Start To Shine (feat.개코)                          |규빈                            |Start To Shine (feat.개코)      \n",
      "왜 이래(Feat. SURAN(수란))                             |HAAN                          |한준한줌                          \n",
      "우리들이 만들어갈 이야기                                     |커맨더맨                          |우리들이 만들어갈 이야기                 \n",
      "딥하게 (DEEP IN LOVE)                                |멋진녀석들 (GreatGuys)             |靑春記錄  第2話 : 深                 \n",
      "너의 계절이 돌아올거야                                      |로시 (Rothy)                    |너의 계절이 돌아올거야                  \n",
      "어디까지 간 거야                                         |Chan (찬)                      |어디까지 간 거야                     \n",
      "사랑하게 됐나 봐                                         |안예슬                           |사랑하게 됐나 봐                     \n",
      "키치죠지의 검은 고양이                                      |박근홍                           |키치죠지의 검은 고양이                  \n",
      "호접몽                                               |Rc9                           |호접몽                           \n",
      "그날 밤                                              |정승환                           |무인도의 디바 OST Part.4            \n",
      "나의 바다                                             |케이시 (Kassy)                   |여행: 플리(playlist) OST Part.3   \n",
      "Wannabe                                           |백식 (Baeksik)                  |Wannabe                       \n",
      "술 한잔 해요                                           |경서예지                          |술 한잔 해요                       \n",
      "Jump                                              |밴드기린 (Bandgirin)              |Jump                          \n",
      "밤섬 (Night Island)                                 |벤치위레오 (BenchWeLeo)            |Goodday #2 벤치위레오              \n",
      "Hero                                              |cossoff (코스오프)                |Hero                          \n",
      "그렇게 우린 멀어지겠죠                                      |모닝커피 (Morning Coffee)         |그렇게 우린 멀어지겠죠                  \n",
      "Slow                                              |환희                            |SLOW                          \n",
      "구원                                                |네프 (Neff)                     |구원                            \n",
      "누구보다 널 사랑해                                        |노랑 (Yellow)                   |우당탕탕 패밀리 OST Part.8           \n",
      "사랑 참...                                           |제이세라                          |사랑 참…                         \n",
      "Spirit                                            |오월오일 ( 五月五日 )                 |Campo                         \n",
      "Glowing                                           |HOON                          |Glowing                       \n",
      "Old Ways (feat. Above Average Al & Trouble Chee)  |지투 (G2)                       |Old Ways (feat. Above Average Al & Trouble Chee)\n",
      "숨쉬어 (Feat. Skinny Brown)                          |Jhnovr (존오버)                  |숨쉬어                           \n",
      "나랑 같이 걸을래                                         |손호준                           |나랑 같이 걸을래                     \n",
      "Everything's Fine                                 |이형은                           |Everything's Fine             \n",
      "Those Lips                                        |JOE CHO                       |Those Lips                    \n",
      "나도 사랑받고 싶어                                        |임사랑                           |완벽한 결혼의 정석 OST Part.2         \n",
      "Dream on a summer night                           |KAIAVANT                      |Goodbye, Pieces               \n",
      "Look at me SEALOOK(씰룩)                            |RIIZE                         |씰룩(SEALOOK) OST               \n",
      "별사이                                               |손준혁                           |별사이                           \n",
      "새날의 노래                                            |테너 이정현                        |새날의 노래                        \n",
      "어디라도 괜찮아 (You Still With Me)                      |준성 (JunSung)                  |Joy In Pain                   \n",
      "돌아와줘요 (Alone)                                     |주주 시크릿                        |돌아와줘요 (Alone)                 \n",
      "이카루스 (ICARUS)                                     |디노 (SEVENTEEN)                |무인도의 디바 OST Part.3            \n",
      "그대 걷던 길                                           |박건후                           |pool vol. 4 - 그대 걷던 길         \n",
      "Behavior (feat. ron)                              |default                       |Behavior                      \n",
      "너와 나는 한편의 그림이었지                                   |유지우                           |너와 나는 한편의 그림이었지 (KSTAGE X 유지우)\n",
      "휘청이는 마음으로                                         |양주은                           |휘청이는 마음으로                     \n",
      "잊을 수 있을까                                          |조문근                           |악녀로 살라신다 OST Part.22          \n"
     ]
    }
   ],
   "source": [
    "from selenium import webdriver\n",
    "from selenium.webdriver.chrome.service import Service\n",
    "from webdriver_manager.chrome import ChromeDriverManager\n",
    "from selenium.webdriver.common.by import By\n",
    "from selenium.webdriver.common.keys import Keys\n",
    "\n",
    "driver = webdriver.Chrome(service=Service(ChromeDriverManager().install()), options=webdriver.ChromeOptions())\n",
    "driver.get('https://www.melon.com/new/index.htm')\n",
    "soup = BeautifulSoup(driver.page_source, 'lxml')\n",
    "\n",
    "song_list = soup.select('#frm > div > table > tbody > tr')\n",
    "print(len(song))\n",
    "\n",
    "# formatted string 정렬문자: ^(가운데), <(왼쪽), >(오른쪽)\n",
    "print(f'{\"곡목\":^50s}{\"가수\":^30s}{\"앨범\":^30s}')\n",
    "print('-'*90)\n",
    "\n",
    "for rank, song in enumerate(song_list, 1):ArithmeticError\n",
    "    # class 속성의 값이 wrap song info인 태그가 두개(노래제목 및 가수, 앨범명) -> find_all\n",
    "    song_info = song.find_all('div', {'class':'wrap_song_info'})\n",
    "    title = song_info[0].find('div', {'class':'ellipsis rank01'}).find('a').text\n",
    "    singer = song_info[0].find('div', {'class':'ellipsis rank02'}).find('a').text\n",
    "    album = song_info[1].find('div', {'class':'ellipsis rank03'}).find('a').text\n",
    "\n",
    "    print(f'{title:<50s}|{singer:<30s}|{album:<30s}')"
   ]
  }
 ],
 "metadata": {
  "kernelspec": {
   "display_name": "Python 3 (ipykernel)",
   "language": "python",
   "name": "python3"
  },
  "language_info": {
   "codemirror_mode": {
    "name": "ipython",
    "version": 3
   },
   "file_extension": ".py",
   "mimetype": "text/x-python",
   "name": "python",
   "nbconvert_exporter": "python",
   "pygments_lexer": "ipython3",
   "version": "3.11.5"
  }
 },
 "nbformat": 4,
 "nbformat_minor": 5
}
