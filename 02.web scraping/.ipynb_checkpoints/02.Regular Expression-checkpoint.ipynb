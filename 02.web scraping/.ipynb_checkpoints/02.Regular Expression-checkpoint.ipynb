{
 "cells": [
  {
   "cell_type": "markdown",
   "id": "ca2bda0a-bdc8-498a-8ed8-58abe04630b8",
   "metadata": {},
   "source": [
    "# 정규식 비사용 vs 사용"
   ]
  },
  {
   "cell_type": "code",
   "execution_count": 3,
   "id": "d12c3b10-6f16-4831-a2ad-ab73476a69eb",
   "metadata": {},
   "outputs": [
    {
     "name": "stdout",
     "output_type": "stream",
     "text": [
      "\n",
      "park 800904-*******\n",
      "kim 841204-*******\n",
      "\n"
     ]
    }
   ],
   "source": [
    "data = \"\"\"\n",
    "park 800904-1234567\n",
    "kim 841204-1035412\n",
    "\"\"\"\n",
    "\n",
    "# 주민 번호 뒷자리를 *로 표기하기\n",
    "result = []\n",
    "for line in data.split('\\n'):\n",
    "    word_result = []\n",
    "    for word in line.split():  # 주민번호 추출\n",
    "        if len(word) == 14 and word[:6].isdigit() and word[7:].isdigit():  # 주민번호 유효성 체크, 주민번호 형식인지\n",
    "            word = word[:6] + '-' + '*******'\n",
    "        word_result.append(word)\n",
    "    result.append(' '.join(word_result))\n",
    "print('\\n'.join(result))"
   ]
  },
  {
   "cell_type": "code",
   "execution_count": 6,
   "id": "12d94e9f-176f-43e3-bcfe-3b2f7d5ec1a0",
   "metadata": {},
   "outputs": [
    {
     "name": "stdout",
     "output_type": "stream",
     "text": [
      "park 800904-*******\n",
      "kim 841204-*******\n"
     ]
    }
   ],
   "source": [
    "import re\n",
    "\n",
    "data = \"\"\"\n",
    "park 800904-1234567\n",
    "kim 841204-1035412\n",
    "\"\"\"\n",
    "\n",
    "pat = re.compile('(\\d{6})[-]\\d{7}')    # \\d():숫자(몇자리), []: 문자, 바깥 괄호: 그룹지정  \n",
    "print(pat.sub(r'\\1-*******', data).strip())    # sub: 대체하기    (대체할 패턴, 원데이터)"
   ]
  },
  {
   "cell_type": "markdown",
   "id": "b9fa5000-c5f8-4fd7-93a4-5af0605a3b6e",
   "metadata": {},
   "source": [
    "# 문자열 검색"
   ]
  },
  {
   "cell_type": "code",
   "execution_count": 1,
   "id": "6064c15d-cfd5-4c4a-ae69-76c0738da550",
   "metadata": {},
   "outputs": [],
   "source": [
    "import re\n",
    "\n",
    "p = re.compile('[a-z]+')   # 알파벳 소문자가 한 개 이상"
   ]
  },
  {
   "cell_type": "markdown",
   "id": "715ff928-2656-4b93-9a33-726f00a535c7",
   "metadata": {},
   "source": [
    "## match()\n",
    "- 문자열의 처음부터 정규식과 매치되는지 조사"
   ]
  },
  {
   "cell_type": "code",
   "execution_count": 4,
   "id": "b9c02681-cf20-4e6a-9090-e09c19584b0a",
   "metadata": {},
   "outputs": [
    {
     "name": "stdout",
     "output_type": "stream",
     "text": [
      "<re.Match object; span=(0, 6), match='python'>\n",
      "<re.Match object; span=(0, 1), match='p'>\n",
      "None\n"
     ]
    }
   ],
   "source": [
    "m1 = p.match('python')\n",
    "print(m1)\n",
    "\n",
    "m2 = p.match('pYthon')\n",
    "print(m2)   # 매치된 객체 출력\n",
    "\n",
    "m3 = p.match('3 python')\n",
    "print(m3)"
   ]
  },
  {
   "cell_type": "markdown",
   "id": "e5db10db-7084-4f15-9ee4-3757162982ec",
   "metadata": {},
   "source": [
    "## search()\n",
    "- 문자열 전체를 검색하여 **처음으로** 매치되는 문자열을 찾는다"
   ]
  },
  {
   "cell_type": "code",
   "execution_count": 7,
   "id": "c898bf96-c853-416e-8e25-90c477785f52",
   "metadata": {},
   "outputs": [
    {
     "name": "stdout",
     "output_type": "stream",
     "text": [
      "python\n"
     ]
    }
   ],
   "source": [
    "m = p.search('3 python')\n",
    "print(m.group())  # 매치된 객체의 결과 출력"
   ]
  },
  {
   "cell_type": "markdown",
   "id": "099bae6c-2ebe-448b-b678-79fa760c4ca0",
   "metadata": {},
   "source": [
    "[문제] 전화번호 추출하기\n",
    "<pre>\n",
    "    다음의 전화번호 데이터에서 전화번호만 추출하는 정규표현식을 작성하세요.\n",
    "</pre>"
   ]
  },
  {
   "cell_type": "code",
   "execution_count": 16,
   "id": "8ef12941-92cd-4937-bd30-73649a9536f6",
   "metadata": {},
   "outputs": [
    {
     "name": "stdout",
     "output_type": "stream",
     "text": [
      "010-1234-5678\n",
      "02-555-3333\n"
     ]
    }
   ],
   "source": [
    "phone = ['홍길동:010-1234-5678', '우리집:02-555-3333']\n",
    "pat = re.compile('[0-9]+[-{1}][0-9]+[-{1}][0-9]+')\n",
    "\n",
    "for word in phone:\n",
    "    mynum = pat.search(word)\n",
    "    print(mynum.group())"
   ]
  },
  {
   "cell_type": "code",
   "execution_count": 17,
   "id": "416c1654-4d4c-47d5-9441-3f4442225782",
   "metadata": {},
   "outputs": [
    {
     "name": "stdout",
     "output_type": "stream",
     "text": [
      "010-1234-5678\n",
      "02-555-3333\n"
     ]
    }
   ],
   "source": [
    "# answer\n",
    "phone = ['홍길동:010-1234-5678', '우리집:02-555-3333']\n",
    "\n",
    "pattern = re.compile('\\d{2,3}-\\d{3,4}-\\d{4}')\n",
    "for p in phone:\n",
    "    s = pattern.search(p)\n",
    "    print(s.group())    "
   ]
  },
  {
   "cell_type": "markdown",
   "id": "5fead8d6-b67b-4fb8-8094-12838af5e6fe",
   "metadata": {},
   "source": [
    "## findall()\n",
    "- 정규식과 매치되는 모든 문자열을 찾아 리스트로 반환"
   ]
  },
  {
   "cell_type": "code",
   "execution_count": 18,
   "id": "a4dd9135-e443-44a1-9dd6-02cfd4fe476c",
   "metadata": {},
   "outputs": [
    {
     "name": "stdout",
     "output_type": "stream",
     "text": [
      "['life', 'is', 'too', 'short']\n"
     ]
    }
   ],
   "source": [
    "p = re.compile('[a-z]+')\n",
    "result = p.findall('life is too short')\n",
    "print(result)"
   ]
  },
  {
   "cell_type": "markdown",
   "id": "045e5951-8983-4afc-8b1a-21d0d8173567",
   "metadata": {},
   "source": [
    "## finditer()\n",
    "- 정규식과 매치되는 모든 문자열을 찾아 반복가능한 객체로 반환"
   ]
  },
  {
   "cell_type": "code",
   "execution_count": 19,
   "id": "c30a5eca-9347-419d-b28c-2a3d8e78c601",
   "metadata": {},
   "outputs": [
    {
     "name": "stdout",
     "output_type": "stream",
     "text": [
      "<re.Match object; span=(0, 4), match='life'>\n",
      "<re.Match object; span=(5, 7), match='is'>\n",
      "<re.Match object; span=(8, 11), match='too'>\n",
      "<re.Match object; span=(12, 17), match='short'>\n"
     ]
    }
   ],
   "source": [
    "result = p.finditer('life is too short')\n",
    "for  m in result:\n",
    "    print(m)   # 매치 객체로 반환"
   ]
  },
  {
   "cell_type": "markdown",
   "id": "f692b7f1-4a2a-4668-b517-6adba5d8f6fe",
   "metadata": {},
   "source": [
    "# Match 객체 함수"
   ]
  },
  {
   "cell_type": "code",
   "execution_count": 22,
   "id": "588b1c6d-0fa8-4088-9890-2987ca8b6845",
   "metadata": {},
   "outputs": [
    {
     "name": "stdout",
     "output_type": "stream",
     "text": [
      "python\n",
      "0\n",
      "6\n",
      "(0, 6)\n"
     ]
    }
   ],
   "source": [
    "import re\n",
    "p = re.compile('[a-z]+')\n",
    "m = p.search('python')\n",
    "\n",
    "print(m.group())\n",
    "print(m.start())\n",
    "print(m.end())\n",
    "print(m.span())"
   ]
  },
  {
   "cell_type": "markdown",
   "id": "5701a7d4-c7ee-49ad-8bbf-de8031e75cd2",
   "metadata": {},
   "source": [
    "# 컴파일 옵션"
   ]
  },
  {
   "cell_type": "markdown",
   "id": "d5c1b1ff-7a1d-4686-84d4-57660c1ab91d",
   "metadata": {},
   "source": [
    "## DOTALL\n",
    "- dot(.) 메타문자가 줄바꿈 문자(\\n)을 포함해서 모든 문자와 일치한다."
   ]
  },
  {
   "cell_type": "code",
   "execution_count": 24,
   "id": "b33d8bb1-d4c3-48e1-9277-e6ce7b0f3acb",
   "metadata": {},
   "outputs": [
    {
     "name": "stdout",
     "output_type": "stream",
     "text": [
      "None\n",
      "<re.Match object; span=(0, 3), match='a\\nb'>\n"
     ]
    }
   ],
   "source": [
    "m = re.match('a.b', 'a\\nb')\n",
    "print(m)   # \\n 포함x\n",
    "\n",
    "p = re.compile('a.b', re.DOTALL)\n",
    "m =  p.match('a\\nb')\n",
    "print(m)   # \\n 포함"
   ]
  },
  {
   "cell_type": "code",
   "execution_count": 26,
   "id": "98bfaa9f-6ef7-4e85-af8e-5d936da94e6e",
   "metadata": {},
   "outputs": [
    {
     "name": "stdout",
     "output_type": "stream",
     "text": [
      "<re.Match object; span=(0, 12), match='hello\\npython'>\n"
     ]
    }
   ],
   "source": [
    "s= \"\"\"hello\n",
    "python\"\"\"\n",
    "p = re.compile('hello.python', re.DOTALL)\n",
    "m = p.match(s)\n",
    "print(m)"
   ]
  },
  {
   "cell_type": "markdown",
   "id": "cfe3017b-7f99-4313-ac31-d8d861736bb4",
   "metadata": {},
   "source": [
    "## IGNORECASE\n",
    "- 대소문자에 관계없이 매치한다."
   ]
  },
  {
   "cell_type": "code",
   "execution_count": 27,
   "id": "2b209703-b352-44a7-ac19-778479d50c13",
   "metadata": {},
   "outputs": [
    {
     "name": "stdout",
     "output_type": "stream",
     "text": [
      "<re.Match object; span=(0, 6), match='pYthon'>\n"
     ]
    }
   ],
   "source": [
    "p =  re.compile('[a-z]+', re.IGNORECASE)\n",
    "m = p.match('pYthon')\n",
    "print(m)"
   ]
  },
  {
   "cell_type": "markdown",
   "id": "fb01b670-7f81-487d-94b0-2d5d4f7783db",
   "metadata": {},
   "source": [
    "## MULTILINE\n",
    "- 여러 줄의 문자열에 대해 ^,$ 메타문자를 적용할 수 있다."
   ]
  },
  {
   "cell_type": "code",
   "execution_count": 28,
   "id": "2c562cd5-56e6-45c3-b0fc-4b7e28367690",
   "metadata": {},
   "outputs": [
    {
     "name": "stdout",
     "output_type": "stream",
     "text": [
      "['python one']\n"
     ]
    }
   ],
   "source": [
    "p = re.compile('^python\\s\\w+')  # python으로 시작하고 공백문자 문자나 숫자가 한 개 이상 반복\n",
    "text = \"\"\"python one\n",
    "life is too short\n",
    "python two\n",
    "you need python\n",
    "python three\n",
    "\"\"\"\n",
    "\n",
    "m = p.findall(text) \n",
    "print(m)    # 첫쨰 줄에 대해서만 일치 여부 확인하여 반환"
   ]
  },
  {
   "cell_type": "code",
   "execution_count": 29,
   "id": "146a0729-4dc4-42ee-9481-74495dbc111b",
   "metadata": {},
   "outputs": [
    {
     "name": "stdout",
     "output_type": "stream",
     "text": [
      "['python one', 'python two', 'python three']\n"
     ]
    }
   ],
   "source": [
    "p = re.compile('^python\\s\\w+', re.MULTILINE) \n",
    "text = \"\"\"python one\n",
    "life is too short\n",
    "python two\n",
    "you need python\n",
    "python three\n",
    "\"\"\"\n",
    "\n",
    "m = p.findall(text) \n",
    "print(m)   # 모든 줄에 대해서 일치 여부 확인"
   ]
  },
  {
   "cell_type": "code",
   "execution_count": 31,
   "id": "b1754efe-07e6-4b7d-b9b4-fe9eaf61269d",
   "metadata": {},
   "outputs": [
    {
     "name": "stdout",
     "output_type": "stream",
     "text": [
      "['python one', 'python two', 'python\\npython']\n"
     ]
    }
   ],
   "source": [
    "p = re.compile('python\\s\\w+') \n",
    "text = \"\"\"python one\n",
    "life is too short\n",
    "python two\n",
    "you need python\n",
    "python three\n",
    "\"\"\"\n",
    "\n",
    "m = p.findall(text) \n",
    "print(m)  # 줄 끝에 있는 python도 포함됨"
   ]
  },
  {
   "cell_type": "markdown",
   "id": "facf3b26-e5b1-4345-8efb-5159d9d545fa",
   "metadata": {},
   "source": [
    "# 백슬래시 문제"
   ]
  },
  {
   "cell_type": "code",
   "execution_count": 34,
   "id": "c7df353f-7566-4d82-b733-3094f5d48a10",
   "metadata": {},
   "outputs": [
    {
     "name": "stdout",
     "output_type": "stream",
     "text": [
      "None\n",
      "<re.Match object; span=(7, 14), match=' ection'>\n",
      "<re.Match object; span=(8, 16), match='\\\\section'>\n"
     ]
    }
   ],
   "source": [
    "import re\n",
    "\n",
    "p = re.compile('\\\\section')  # '\\section'으로 해석됨, [\\t\\n\\r\\f\\v]ection 문자열과 일치됨을 찾음\n",
    "m = p.search('What is \\section and example?')\n",
    "print(m)  # None\n",
    "m2 = p.search('What is ection and example?')  # (공백)ection과 일치됨을찾음\n",
    "print(m2)\n",
    "\n",
    "p = re.compile(r'\\\\section')   # raw string\n",
    "m = p.search('What is \\section and example?')\n",
    "print(m)"
   ]
  },
  {
   "cell_type": "markdown",
   "id": "918f3e52-8c16-4157-81ed-1af22ad642b1",
   "metadata": {},
   "source": [
    "# 메타문자"
   ]
  },
  {
   "cell_type": "markdown",
   "id": "7176024e-0d19-4002-8f25-87340b926549",
   "metadata": {},
   "source": [
    "## |\n",
    "- 'or'의 의미"
   ]
  },
  {
   "cell_type": "code",
   "execution_count": 35,
   "id": "303c3b28-d864-4615-8481-aaa36196593b",
   "metadata": {},
   "outputs": [
    {
     "name": "stdout",
     "output_type": "stream",
     "text": [
      "<re.Match object; span=(0, 5), match='Servo'>\n"
     ]
    }
   ],
   "source": [
    "import re\n",
    "\n",
    "p = re.compile('Crow|Servo')\n",
    "m = p.match('ServoHello')\n",
    "print(m)"
   ]
  },
  {
   "cell_type": "markdown",
   "id": "8fb35392-8b7c-43d5-a4ec-a71f02556333",
   "metadata": {},
   "source": [
    "## $\n",
    "- 문자열의 끝과 일치함을 의미"
   ]
  },
  {
   "cell_type": "code",
   "execution_count": 37,
   "id": "3a82bfaa-c9b9-4e13-9fc8-7034a2c2eb49",
   "metadata": {},
   "outputs": [
    {
     "name": "stdout",
     "output_type": "stream",
     "text": [
      "<re.Match object; span=(12, 17), match='short'>\n",
      "None\n"
     ]
    }
   ],
   "source": [
    "print(re.search('short$', 'Life is too short'))\n",
    "print(re.search('short$', 'Life is too short, you need python')) "
   ]
  },
  {
   "cell_type": "markdown",
   "id": "fe2886bf-7682-496b-ba1e-deb27cc6c401",
   "metadata": {},
   "source": [
    "## \\A\n",
    "- 문자열의 처음과 일치함을 의미\n",
    "- MULTILINE 옵션 안먹힘\n",
    "- MULTILINE 옵션 안쓴 ^와 동일"
   ]
  },
  {
   "cell_type": "code",
   "execution_count": 38,
   "id": "a8f64fe0-daeb-448e-95d1-540f09469f64",
   "metadata": {},
   "outputs": [
    {
     "name": "stdout",
     "output_type": "stream",
     "text": [
      "['python one']\n"
     ]
    }
   ],
   "source": [
    "p = re.compile('\\Apython\\s\\w+', re.MULTILINE) \n",
    "text = \"\"\"python one\n",
    "life is too short\n",
    "python two\n",
    "you need python\n",
    "python three\n",
    "\"\"\"\n",
    "\n",
    "m = p.findall(text) \n",
    "print(m)  # MULTILINE 옵션 적용 안됨, 문자열 전체의 처음만 확인"
   ]
  },
  {
   "cell_type": "markdown",
   "id": "1f5e7672-ef89-4f3c-bd8d-081480cb4755",
   "metadata": {},
   "source": [
    "## \\b\n",
    "- 단어의 앞뒤가 공백으로 구분되어 있는지 검사\n",
    "- \\s는 공백을 포함하는지를 검사"
   ]
  },
  {
   "cell_type": "code",
   "execution_count": 45,
   "id": "3388d18e-fca8-4767-b0fb-17b49f72a075",
   "metadata": {},
   "outputs": [
    {
     "name": "stdout",
     "output_type": "stream",
     "text": [
      "<re.Match object; span=(3, 8), match='class'>\n",
      "<re.Match object; span=(0, 5), match='class'>\n",
      "None\n"
     ]
    }
   ],
   "source": [
    "p = re.compile(r'\\bclass\\b')  # 공백을 포함하지 않고 매치 결과 반환\n",
    "# p = re.compile(r'\\sclass\\s')    # 공백을 포함해서 매치 결과 반환\n",
    "print(p.search('no class at all'))\n",
    "print(p.search('class at all'))\n",
    "print(p.search('one subclass is'))"
   ]
  },
  {
   "cell_type": "markdown",
   "id": "e7559acc-787f-4fcb-b08d-2f2a67492e77",
   "metadata": {},
   "source": [
    "## \\\n",
    "- 정규표현식에서 사용하는 문자 그대로 표현하려면 앞에 \\를 붙임\n",
    "- 즉, 문자열 안에 포함된 메타문자(. ? $ 등)를 원래 문자로 사용"
   ]
  },
  {
   "cell_type": "code",
   "execution_count": 47,
   "id": "e821e96c-ac53-4835-8d83-58df33c4e8b3",
   "metadata": {},
   "outputs": [
    {
     "name": "stdout",
     "output_type": "stream",
     "text": [
      "<re.Match object; span=(4, 10), match='안녕하세요?'>\n"
     ]
    }
   ],
   "source": [
    "# 패턴 '안녕하세요?'는 ?앞에 문자가 하나 있거나 없으면 매치, 즉 '안녕하세요' '안녕하세' 문자열과 일치\n",
    "m = re.search('안녕하세요\\?', '여러분 안녕하세요?')\n",
    "print(m)"
   ]
  },
  {
   "cell_type": "markdown",
   "id": "9d75a306-a108-4d42-8519-c031f02c48fd",
   "metadata": {},
   "source": [
    "# 그룹핑"
   ]
  },
  {
   "cell_type": "code",
   "execution_count": 50,
   "id": "cbdb5d6f-4774-48bf-82f3-9de8d7bf34d9",
   "metadata": {},
   "outputs": [
    {
     "name": "stdout",
     "output_type": "stream",
     "text": [
      "<re.Match object; span=(0, 9), match='ABCABCABC'>\n",
      "ABCABCABC\n",
      "ABC\n"
     ]
    }
   ],
   "source": [
    "import re\n",
    "\n",
    "p =re.compile('(ABC)+')  # ABC를 그룹으로 묶고 그 그룹이 한 번 이상 반복\n",
    "m = p.search('ABCABCABC OK?')\n",
    "print(m)\n",
    "print(m.group())  # or m.group(0), 일치된 전체 문자열\n",
    "print(m.group(1)) # 첫 번째 그룹에 해당하는 문자열"
   ]
  },
  {
   "cell_type": "code",
   "execution_count": 52,
   "id": "b00137aa-d286-42fb-ad23-47b53bf2341f",
   "metadata": {},
   "outputs": [
    {
     "name": "stdout",
     "output_type": "stream",
     "text": [
      "park 010-1234-5678\n",
      "park\n",
      "010-1234-5678\n"
     ]
    }
   ],
   "source": [
    "# 이름과 전화번호를 그룹으로 지정하여 분리\n",
    "s = 'park 010-1234-5678'\n",
    "p =  re.compile('(\\w+)\\s+(\\d+[-]\\d+[-]\\d+)')\n",
    "m = p.search(s)\n",
    "\n",
    "print(m.group())\n",
    "print(m.group(1))\n",
    "print(m.group(2))"
   ]
  },
  {
   "cell_type": "code",
   "execution_count": 54,
   "id": "9b8f979b-5d13-4f43-aebf-de620e5bd35a",
   "metadata": {},
   "outputs": [
    {
     "name": "stdout",
     "output_type": "stream",
     "text": [
      "010\n"
     ]
    }
   ],
   "source": [
    "# 전화번호에서 국번만 추출\n",
    "# 그룹이 중첩되어 있는 경우는 바깥쪽부터 시작하여 안쪽으로 들어갈수록 인덱스가 증가한다.\n",
    "s = 'park 010-1234-5678'\n",
    "p =  re.compile('(\\w+)\\s+((\\d+)[-]\\d+[-]\\d+)')\n",
    "m = p.search(s)\n",
    "\n",
    "print(m.group(3))"
   ]
  },
  {
   "cell_type": "markdown",
   "id": "f71f735d-eca3-41c7-a4b3-e4a5bd1ec73b",
   "metadata": {},
   "source": [
    "- '\\번호'를 이용한 재참조\n",
    "- raw string을 이용해야 함"
   ]
  },
  {
   "cell_type": "code",
   "execution_count": 55,
   "id": "74275ab9-8879-4220-bd2f-b7d10b9fc4ae",
   "metadata": {},
   "outputs": [
    {
     "data": {
      "text/plain": [
       "<re.Match object; span=(0, 4), match='abab'>"
      ]
     },
     "execution_count": 55,
     "metadata": {},
     "output_type": "execute_result"
    }
   ],
   "source": [
    "re.match(r'(a)(b)\\1\\2', 'abab') "
   ]
  },
  {
   "cell_type": "code",
   "execution_count": 57,
   "id": "3b9ab0d6-da84-4140-b979-288abea483e6",
   "metadata": {},
   "outputs": [
    {
     "name": "stdout",
     "output_type": "stream",
     "text": [
      "dog dog\n"
     ]
    }
   ],
   "source": [
    "# 동일한 단어가 연속적으로 사용된 문자열 찾기\n",
    "\n",
    "# \\b(\\w+)\\b: 단어 경계를 기준으로 문자와 숫자로 이루어진 한 단어를 찾는다. 그리고 그 단어를 그룹으로 지정\n",
    "# \\s+: 하나 이상의 공백 문자를 찾는다\n",
    "# \\b\\1\\b: 단어 경계를 기준으로 한 단어를 찾으며 그룹 참조를 통해 이전에 그룹화된 단어와 동일한 단어를 찾는다.\n",
    "p = re.compile(r'\\b(\\w+)\\b\\s+\\b\\1\\b')\n",
    "m = p.search('I have a dog dog in my house')\n",
    "print(m.group())"
   ]
  },
  {
   "cell_type": "code",
   "execution_count": 58,
   "id": "e7ebbd4b-95c1-4d06-9311-795a64cff9d7",
   "metadata": {},
   "outputs": [
    {
     "name": "stdout",
     "output_type": "stream",
     "text": [
      "park\n"
     ]
    }
   ],
   "source": [
    "# 그룹에 이름 붙이기\n",
    "# (?P<그룹이름>)\n",
    "p = re.compile('(?P<name>\\w+)\\s+(\\d+[-]\\d+[-]\\d+)')\n",
    "m = p.search('park 010-1111-2222')\n",
    "print(m.group('name'))"
   ]
  },
  {
   "cell_type": "markdown",
   "id": "d7a0966e-4843-4514-ac7b-df8a012ecac4",
   "metadata": {},
   "source": [
    "# 전방탐색 / 후방탐색"
   ]
  },
  {
   "cell_type": "markdown",
   "id": "ba780bcc-d51f-4f51-b0d9-de13de4e119c",
   "metadata": {},
   "source": [
    "## 긍정 전방탐색"
   ]
  },
  {
   "cell_type": "code",
   "execution_count": 60,
   "id": "d3d1bb2d-d43c-43a8-8d41-5b9f3454954c",
   "metadata": {},
   "outputs": [
    {
     "name": "stdout",
     "output_type": "stream",
     "text": [
      "http\n"
     ]
    }
   ],
   "source": [
    "import re\n",
    "\n",
    "# URL에서 프로토콜 이름만 검색\n",
    "p = re.compile('.+(?=:)')  # 패턴 뒤의 표현식까지 매치되는지 찾고 매치되는 뒤의 표현식은 반환 x\n",
    "m = p.search('http://www.google.com')\n",
    "print(m.group())"
   ]
  },
  {
   "cell_type": "markdown",
   "id": "a47467da-de5c-44f8-a4e1-60d334632ca5",
   "metadata": {},
   "source": [
    "## 부정 전방탐색"
   ]
  },
  {
   "cell_type": "code",
   "execution_count": 62,
   "id": "3d6ecb44-9aab-47e7-8df8-35dd850cc69b",
   "metadata": {},
   "outputs": [
    {
     "name": "stdout",
     "output_type": "stream",
     "text": [
      "python.exe\n",
      "sysinfo.cf\n"
     ]
    }
   ],
   "source": [
    "# 파일 이름의 확장자 중 bat 파일만 제외하고 추출하기\n",
    "\n",
    "file_names = ['autoexe.bat', 'python.exe', 'sysinfo.cf']\n",
    "p = re.compile('[a-zA-Z]+\\w*[.](?!bat)[a-zA-Z]+')       # 부정전방탐색의 표현식과 매치되지 않는 것 반환\n",
    "                                                        # 부정 전방탐색 뒤의 패턴 -> 확장자 패턴\n",
    "for file in file_names:\n",
    "    m = p.search(file)\n",
    "    if m:\n",
    "        print(m.group())"
   ]
  },
  {
   "cell_type": "markdown",
   "id": "e347703a-4c19-49e6-8c25-5bd181183ff6",
   "metadata": {},
   "source": [
    "## 긍정 후방탐색"
   ]
  },
  {
   "cell_type": "code",
   "execution_count": 65,
   "id": "dadc8fae-a916-4c75-a962-9f6efba04c41",
   "metadata": {},
   "outputs": [
    {
     "name": "stdout",
     "output_type": "stream",
     "text": [
      "23.45\n"
     ]
    }
   ],
   "source": [
    "p = re.compile('(?<=\\$)[0-9]+[.][0-9]+')  # 달러 사인 제외한 금액만 찾고 싶을 경우\n",
    "m = p.search('ABC01: $23.45')\n",
    "print(m.group())"
   ]
  },
  {
   "cell_type": "code",
   "execution_count": 71,
   "id": "8feb8ddf-34d8-4b7c-b73f-dbd6ce9ddb56",
   "metadata": {},
   "outputs": [
    {
     "name": "stdout",
     "output_type": "stream",
     "text": [
      "23.45\n"
     ]
    }
   ],
   "source": [
    "# 금액에 소수점이 없는 숫자인 경우를 고려한 패턴\n",
    "p = re.compile('(?<=\\$)[0-9]+[.]?[0-9]*')  # [.]은 있을수도 없을수도\n",
    "m = p.search('ABC01: $23')\n",
    "print(m.group())"
   ]
  },
  {
   "cell_type": "markdown",
   "id": "64364d3d-b135-47f8-81fc-77e58ee13937",
   "metadata": {},
   "source": [
    "## 전후방 동시 탐색"
   ]
  },
  {
   "cell_type": "code",
   "execution_count": 73,
   "id": "2cc6f971-accb-43b9-a7d5-9a073226afe1",
   "metadata": {},
   "outputs": [
    {
     "name": "stdout",
     "output_type": "stream",
     "text": [
      "ryan\n"
     ]
    }
   ],
   "source": [
    "# <p> ~ </p> 사이의 문자열 추출하기\n",
    "# 후방탐색 시 <p>까지 일치가 돼야 하고, 전방탐색시 <p/>까지 일치가 돼야 함\n",
    "p = re.compile('(?<=<p>)\\w+(?=</p>)')\n",
    "m = p.search('kakao <p>ryan</p> keep a straight face.')\n",
    "print(m.group())"
   ]
  },
  {
   "cell_type": "markdown",
   "id": "d479f7e4-8f43-4d0d-b6e1-9f62cd424f0e",
   "metadata": {},
   "source": [
    "# 문자열 바꾸기"
   ]
  },
  {
   "cell_type": "code",
   "execution_count": 76,
   "id": "2c2dee11-0a9b-4140-8f44-a5bc9370619b",
   "metadata": {},
   "outputs": [
    {
     "data": {
      "text/plain": [
       "'color socks and red shoes'"
      ]
     },
     "execution_count": 76,
     "metadata": {},
     "output_type": "execute_result"
    }
   ],
   "source": [
    "# pattern 객체.sub(바꿀 문자열, 대상 문자열, 바꿀 횟수)\n",
    "\n",
    "p = re.compile('blue|white|red')\n",
    "# count=0: 전체를 다 바꿈\n",
    "p.sub('color','blue socks and red shoes', count=1)"
   ]
  },
  {
   "cell_type": "markdown",
   "id": "9afc06ee-db75-4175-a5fa-9519c4327131",
   "metadata": {},
   "source": [
    "[문제] 이메일 형식 검증\n",
    "<pre>\n",
    "    사용자로부터 입력 받은 임의의 이메일 주소에 대해 유효한 형식인지를 검증하는 함수를 작성하세요\n",
    "    def valid_email(email):\n",
    "        return '이메일 검증 결과'\n",
    "\n",
    "    일반적인 이메일은 '알파벳 및 숫자@도메인 이름'으로 되어있다.\n",
    "    위 함수는 다음의 이메일을 올바른 이메일 형식으로 결과 값을 반환한다.\n",
    "    - mike@korea.co.kr\n",
    "    - mike@daum.net\n",
    "    - mike.kim@gmail.com\n",
    "\n",
    "    위 함수는 다음의 이메일을 올바른 이메일 형식이 아님을 결과 값으로 반환한다.\n",
    "    - mysite.com\n",
    "    - mike@good\n",
    "</pre>"
   ]
  },
  {
   "cell_type": "code",
   "execution_count": 94,
   "id": "12752b0b-f119-4073-93b6-b63ebcfc587f",
   "metadata": {},
   "outputs": [
    {
     "data": {
      "text/plain": [
       "'valid email'"
      ]
     },
     "execution_count": 94,
     "metadata": {},
     "output_type": "execute_result"
    }
   ],
   "source": [
    "def valid_email(email):\n",
    "    regex = '\\w+[.]?\\w*[@]\\w+[.]\\w+[.]?\\w*'   # '[a-zA-Z]+\\w*[.]?\\w*[@]\\w+[.]\\w+[.]?\\w{2,3}'\n",
    "    pat = re.compile(regex)\n",
    "    if pat.match(email) == None:\n",
    "        return 'invalid email'\n",
    "    else:\n",
    "        return 'valid email'\n",
    "\n",
    "valid_email('mike.kim33@gmail.com')"
   ]
  },
  {
   "cell_type": "code",
   "execution_count": 96,
   "id": "83066617-28ff-409b-b800-62e74b9405f7",
   "metadata": {},
   "outputs": [
    {
     "name": "stdin",
     "output_type": "stream",
     "text": [
      "이메일  입력:  mike@google.com\n"
     ]
    },
    {
     "name": "stdout",
     "output_type": "stream",
     "text": [
      "mike@google.com: valid email\n"
     ]
    }
   ],
   "source": [
    "# answer\n",
    "def valid_email(email):\n",
    "    regex = '[a-zA-Z]+\\w*[.]?\\w*[@]\\w+[.]\\w+[.]?\\w{2,3}'\n",
    "    valid = re.match(regex, email)\n",
    "\n",
    "    if valid:\n",
    "        return 'valid email'\n",
    "    else:\n",
    "        return 'invalid email'\n",
    "\n",
    "input_email = input('이메일  입력: ')\n",
    "print(input_email, end=': ')\n",
    "print(valid_email(input_email))"
   ]
  },
  {
   "cell_type": "markdown",
   "id": "48550ab7-9de4-4e02-9987-c23c14d4bd27",
   "metadata": {},
   "source": [
    "[실습] 한글 찾기 / 한글 제거"
   ]
  },
  {
   "cell_type": "code",
   "execution_count": 98,
   "id": "a93f67c9-abee-4ab5-a9c5-87b6c45d8c03",
   "metadata": {},
   "outputs": [
    {
     "name": "stdout",
     "output_type": "stream",
     "text": [
      "['good', 'morning']\n"
     ]
    }
   ],
   "source": [
    "s = '한글이에요. good morning. 안녕하세요.'\n",
    "# m = re.findall('[ㄱ-힣]+', s)\n",
    "m = re.findall('[a-zA-Z]+', s)\n",
    "print(m)"
   ]
  },
  {
   "cell_type": "markdown",
   "id": "4b669990-5860-49e8-8c85-a2d3384abee8",
   "metadata": {},
   "source": [
    "[문제] 주민번호의 유효성 검증\n",
    "<pre>\n",
    "    사용자로부터 입력받은 임의의 주민등록번호가 올바른 형식인지 검증하는 정규표현식을 작성하세요.\n",
    "    주민번호 형식: 생년월일(6자리)-성별(1자리)나머지 6자리 숫자\n",
    "    - 년도 숫자 두자리\n",
    "    - 월은 앞자리가 0일 때 뒷자리는 1~9, 앞자리는 1일 때 뒷자리는 0~2\n",
    "    - 일은 앞자리가 0일 때 뒷자리는 1~9, 앞자리가 1,2일때 뒷자리는 0~9, 앞자리가 3일때 뒷자리는 0,1\n",
    "    - 성별 숫자는 1~4까지 허용\n",
    "</pre>"
   ]
  },
  {
   "cell_type": "code",
   "execution_count": 112,
   "id": "ad82ee95-c3c8-4b1c-b532-2f32922dc99b",
   "metadata": {},
   "outputs": [
    {
     "name": "stdout",
     "output_type": "stream",
     "text": [
      "<re.Match object; span=(0, 14), match='001010-4183920'>\n"
     ]
    }
   ],
   "source": [
    "p = '\\d{2}(0[1-9]|1[0-2])(0[1-9]|1[0-9]|2[0-9]|3[0-1])[-][1-4]\\d{6}'\n",
    "print(re.match(p,'001010-4183920'))"
   ]
  },
  {
   "cell_type": "code",
   "execution_count": 113,
   "id": "6b881829-4f32-494a-ba60-cb610bf6d863",
   "metadata": {},
   "outputs": [
    {
     "name": "stdin",
     "output_type": "stream",
     "text": [
      "주민번호 입력:  001010-4187544\n"
     ]
    },
    {
     "name": "stdout",
     "output_type": "stream",
     "text": [
      "유효한 주민번호 형식\n"
     ]
    }
   ],
   "source": [
    "#  answer\n",
    "jumin = input('주민번호 입력: ')\n",
    "p = re.compile('\\d{2}(0[1-9]|1[0-2])(0[1-9]|((1|2)[0-9])|3[0-1])[-][1-4]\\d{6}')\n",
    "m = p.match(jumin)\n",
    "if m:\n",
    "    print('유효한 주민번호 형식')\n",
    "else:\n",
    "    print('유효하지않은 주민번호 형식')"
   ]
  }
 ],
 "metadata": {
  "kernelspec": {
   "display_name": "Python 3 (ipykernel)",
   "language": "python",
   "name": "python3"
  },
  "language_info": {
   "codemirror_mode": {
    "name": "ipython",
    "version": 3
   },
   "file_extension": ".py",
   "mimetype": "text/x-python",
   "name": "python",
   "nbconvert_exporter": "python",
   "pygments_lexer": "ipython3",
   "version": "3.11.5"
  }
 },
 "nbformat": 4,
 "nbformat_minor": 5
}
